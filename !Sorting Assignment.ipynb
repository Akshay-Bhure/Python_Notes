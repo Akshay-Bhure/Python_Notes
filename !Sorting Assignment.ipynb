{
 "cells": [
  {
   "cell_type": "markdown",
   "id": "ebcc1919",
   "metadata": {},
   "source": [
    "# Akshay Bhure."
   ]
  },
  {
   "cell_type": "markdown",
   "id": "ea8d305a",
   "metadata": {},
   "source": [
    "# List Sorting"
   ]
  },
  {
   "cell_type": "raw",
   "id": "e380c469",
   "metadata": {},
   "source": [
    "Sorting:\n",
    "\n",
    "\"Sorting is the process of arranging data in ascending and descending order\"\n",
    "\n",
    "Types of Sorting:\n",
    "\n",
    "1.Selection Sort\n",
    "2.Insertion Sort\n",
    "3.Bubble Sort\n",
    "4.Merge Sort\n",
    "5.Quick Sort\n",
    "6.Heap Sort"
   ]
  },
  {
   "cell_type": "markdown",
   "id": "2393274e",
   "metadata": {},
   "source": [
    "# normal sorting way\n"
   ]
  },
  {
   "cell_type": "markdown",
   "id": "4cb71d06",
   "metadata": {},
   "source": [
    "## 1.ascending order"
   ]
  },
  {
   "cell_type": "code",
   "execution_count": 2,
   "id": "7eda67e1",
   "metadata": {
    "scrolled": true
   },
   "outputs": [
    {
     "name": "stdout",
     "output_type": "stream",
     "text": [
      "[1, 45, 44, 45, 23, 2, 34, 6, 78]\n",
      "[1, 2, 45, 45, 44, 23, 34, 6, 78]\n",
      "[1, 2, 6, 45, 45, 44, 34, 23, 78]\n",
      "[1, 2, 6, 23, 45, 45, 44, 34, 78]\n",
      "[1, 2, 6, 23, 34, 45, 45, 44, 78]\n",
      "[1, 2, 6, 23, 34, 44, 45, 45, 78]\n",
      "[1, 2, 6, 23, 34, 44, 45, 45, 78]\n",
      "[1, 2, 6, 23, 34, 44, 45, 45, 78]\n",
      "[1, 2, 6, 23, 34, 44, 45, 45, 78]\n",
      "sorted list [1, 2, 6, 23, 34, 44, 45, 45, 78]\n"
     ]
    }
   ],
   "source": [
    "l1=[23,45,44,45,1,2,34,6,78]\n",
    "for i in range(len(l1)):\n",
    "    for j in range(i+1,len(l1)):\n",
    "        if l1[i]>l1[j]: #23>45,23>44,23>45,23>1 true\n",
    "            l1[i],l1[j]=l1[j],l1[i] #23,45=45,23\n",
    "    print(l1)\n",
    "print('sorted list' ,l1)"
   ]
  },
  {
   "cell_type": "markdown",
   "id": "79cdf3b1",
   "metadata": {},
   "source": [
    "## 2.descending order"
   ]
  },
  {
   "cell_type": "code",
   "execution_count": 3,
   "id": "26d5ded3",
   "metadata": {},
   "outputs": [
    {
     "name": "stdout",
     "output_type": "stream",
     "text": [
      "[78, 23, 44, 45, 1, 2, 34, 6, 45]\n",
      "[78, 45, 23, 44, 1, 2, 34, 6, 45]\n",
      "[78, 45, 45, 23, 1, 2, 34, 6, 44]\n",
      "[78, 45, 45, 44, 1, 2, 23, 6, 34]\n",
      "[78, 45, 45, 44, 34, 1, 2, 6, 23]\n",
      "[78, 45, 45, 44, 34, 23, 1, 2, 6]\n",
      "[78, 45, 45, 44, 34, 23, 6, 1, 2]\n",
      "[78, 45, 45, 44, 34, 23, 6, 2, 1]\n",
      "[78, 45, 45, 44, 34, 23, 6, 2, 1]\n",
      "sorted list [78, 45, 45, 44, 34, 23, 6, 2, 1]\n"
     ]
    }
   ],
   "source": [
    "l1=[23,45,44,45,1,2,34,6,78]\n",
    "for i in range(len(l1)):\n",
    "    for j in range(i+1,len(l1)):\n",
    "        if l1[j]>l1[i]: \n",
    "            l1[j],l1[i]=l1[i],l1[j] \n",
    "    print(l1)\n",
    "print('sorted list' ,l1)"
   ]
  },
  {
   "cell_type": "markdown",
   "id": "27b041b7",
   "metadata": {},
   "source": [
    "# 1.selection sorting\n"
   ]
  },
  {
   "cell_type": "markdown",
   "id": "37a6e4c1",
   "metadata": {},
   "source": [
    "## 1.ascending order"
   ]
  },
  {
   "cell_type": "code",
   "execution_count": 5,
   "id": "706bf165",
   "metadata": {
    "scrolled": true
   },
   "outputs": [
    {
     "name": "stdout",
     "output_type": "stream",
     "text": [
      "List after iteration no.1 is :  [1, 45, 44, 45, 23, 2, 34, 6, 78]\n",
      "List after iteration no.1 is :  [1, 2, 44, 45, 23, 45, 34, 6, 78]\n",
      "List after iteration no.1 is :  [1, 2, 6, 45, 23, 45, 34, 44, 78]\n",
      "List after iteration no.1 is :  [1, 2, 6, 23, 45, 45, 34, 44, 78]\n",
      "List after iteration no.1 is :  [1, 2, 6, 23, 34, 45, 45, 44, 78]\n",
      "List after iteration no.1 is :  [1, 2, 6, 23, 34, 44, 45, 45, 78]\n",
      "List after iteration no.1 is :  [1, 2, 6, 23, 34, 44, 45, 45, 78]\n",
      "List after iteration no.1 is :  [1, 2, 6, 23, 34, 44, 45, 45, 78]\n",
      "List after iteration no.1 is :  [1, 2, 6, 23, 34, 44, 45, 45, 78]\n",
      "\n",
      "Sorted List is:  [1, 2, 6, 23, 34, 44, 45, 45, 78]\n"
     ]
    }
   ],
   "source": [
    "l = [23,45,44,45,1,2,34,6,78]\n",
    "for i in range(len(l)):# 0,1,2,3,4,5,6 # l[i]\n",
    "    min_index = i          # min_index = 0\n",
    "    for j in range(i+1, len(l)):# 1,2,3,4,5,6\n",
    "        if l[min_index]>l[j]:# 23>45, 23>44, 23>45, 23>1, 23>2, 23>6\n",
    "            min_index = j # min_index = 1 ,2, 3..... min_index = 3..... l[min_index]=1, l[i]=10\n",
    "    l[i],l[min_index] = l[min_index],l[i] # \n",
    "    print('List after iteration no.1 is : ',l)\n",
    "print('\\nSorted List is: ', l)"
   ]
  },
  {
   "cell_type": "markdown",
   "id": "7841993a",
   "metadata": {},
   "source": [
    "## 2.descending order"
   ]
  },
  {
   "cell_type": "code",
   "execution_count": 6,
   "id": "db40b045",
   "metadata": {
    "scrolled": true
   },
   "outputs": [
    {
     "name": "stdout",
     "output_type": "stream",
     "text": [
      "List after iteration no.1 is :  [78, 45, 44, 45, 1, 2, 34, 6, 23]\n",
      "List after iteration no.1 is :  [78, 45, 44, 45, 1, 2, 34, 6, 23]\n",
      "List after iteration no.1 is :  [78, 45, 45, 44, 1, 2, 34, 6, 23]\n",
      "List after iteration no.1 is :  [78, 45, 45, 44, 1, 2, 34, 6, 23]\n",
      "List after iteration no.1 is :  [78, 45, 45, 44, 34, 2, 1, 6, 23]\n",
      "List after iteration no.1 is :  [78, 45, 45, 44, 34, 23, 1, 6, 2]\n",
      "List after iteration no.1 is :  [78, 45, 45, 44, 34, 23, 6, 1, 2]\n",
      "List after iteration no.1 is :  [78, 45, 45, 44, 34, 23, 6, 2, 1]\n",
      "List after iteration no.1 is :  [78, 45, 45, 44, 34, 23, 6, 2, 1]\n",
      "\n",
      "Sorted List is:  [78, 45, 45, 44, 34, 23, 6, 2, 1]\n"
     ]
    }
   ],
   "source": [
    "l = [23,45,44,45,1,2,34,6,78]\n",
    "for i in range(len(l)):\n",
    "    min_index = i          \n",
    "    for j in range(i+1, len(l)):\n",
    "        if l[j]>l[min_index]:\n",
    "            min_index = j \n",
    "    l[min_index],l[i] = l[i],l[min_index] # \n",
    "    print('List after iteration no.1 is : ',l)\n",
    "print('\\nSorted List is: ', l)"
   ]
  },
  {
   "cell_type": "markdown",
   "id": "2892c113",
   "metadata": {},
   "source": [
    "# 2.insertion sort\n"
   ]
  },
  {
   "cell_type": "markdown",
   "id": "3429faab",
   "metadata": {},
   "source": [
    "## 1.ascending order"
   ]
  },
  {
   "cell_type": "code",
   "execution_count": null,
   "id": "9a4b99be",
   "metadata": {},
   "outputs": [],
   "source": [
    "l = [66, 42, 25, 19, 88, 57, 96, 62, 13]\n",
    "#    0   1   2   3   4   5   6   7   8\n",
    "\n",
    "for i in range(1,len(l)): # 1  2  3  4  5\n",
    "    j = i                 # j = 4\n",
    "    while l[j-1]>l[j] and j>0: # 66 > 42 -- true\n",
    "        temp = l[j]            # temp = 42\n",
    "        l[j] = l[j-1]          # 42 = 66\n",
    "        l[j-1] = temp          # 66 = temp\n",
    "        j = j - 1    \n",
    "    print(f'Sorted list after {i}th iteration = {l}')\n",
    "    \n",
    "print('\\n Sorted list =',l)"
   ]
  },
  {
   "cell_type": "markdown",
   "id": "bd0cf646",
   "metadata": {},
   "source": [
    "## 2.descending order"
   ]
  },
  {
   "cell_type": "code",
   "execution_count": 7,
   "id": "9fc40467",
   "metadata": {
    "scrolled": true
   },
   "outputs": [
    {
     "name": "stdout",
     "output_type": "stream",
     "text": [
      "Sorted list after 1th iteration = [66, 42, 25, 19, 88, 57, 96, 62, 13]\n",
      "Sorted list after 2th iteration = [66, 42, 25, 19, 88, 57, 96, 62, 13]\n",
      "Sorted list after 3th iteration = [66, 42, 25, 19, 88, 57, 96, 62, 13]\n",
      "Sorted list after 4th iteration = [88, 66, 42, 25, 19, 57, 96, 62, 13]\n",
      "Sorted list after 5th iteration = [88, 66, 57, 42, 25, 19, 96, 62, 13]\n",
      "Sorted list after 6th iteration = [96, 88, 66, 57, 42, 25, 19, 62, 13]\n",
      "Sorted list after 7th iteration = [96, 88, 66, 62, 57, 42, 25, 19, 13]\n",
      "Sorted list after 8th iteration = [96, 88, 66, 62, 57, 42, 25, 19, 13]\n",
      "\n",
      " Sorted list = [96, 88, 66, 62, 57, 42, 25, 19, 13]\n"
     ]
    }
   ],
   "source": [
    "l = [66, 42, 25, 19, 88, 57, 96, 62, 13]\n",
    "#    0   1   2   3   4   5   6   7   8\n",
    "\n",
    "for i in range(1,len(l)): # 1  2  3  4  5\n",
    "    j = i                 # j = 4\n",
    "    while l[j]>l[j-1] and j>0: # 66 > 42 -- true\n",
    "        temp = l[j-1]            # temp = 42\n",
    "        l[j-1] = l[j]          # 42 = 66\n",
    "        l[j] = temp          # 66 = temp\n",
    "        j = j - 1    \n",
    "    print(f'Sorted list after {i}th iteration = {l}')\n",
    "    \n",
    "print('\\n Sorted list =',l)"
   ]
  },
  {
   "cell_type": "markdown",
   "id": "582f5e3a",
   "metadata": {},
   "source": [
    "# 3.bubble sorting\n"
   ]
  },
  {
   "cell_type": "markdown",
   "id": "04cb4ca5",
   "metadata": {},
   "source": [
    "## 1.ascending order"
   ]
  },
  {
   "cell_type": "code",
   "execution_count": 8,
   "id": "7e037bcf",
   "metadata": {
    "scrolled": true
   },
   "outputs": [
    {
     "name": "stdout",
     "output_type": "stream",
     "text": [
      "Sorted list after 1th iteration = [42, 25, 19, 66, 57, 88, 62, 13, 96]\n",
      "Sorted list after 2th iteration = [25, 19, 42, 57, 66, 62, 13, 88, 96]\n",
      "Sorted list after 3th iteration = [19, 25, 42, 57, 62, 13, 66, 88, 96]\n",
      "Sorted list after 4th iteration = [19, 25, 42, 57, 13, 62, 66, 88, 96]\n",
      "Sorted list after 5th iteration = [19, 25, 42, 13, 57, 62, 66, 88, 96]\n",
      "Sorted list after 6th iteration = [19, 25, 13, 42, 57, 62, 66, 88, 96]\n",
      "Sorted list after 7th iteration = [19, 13, 25, 42, 57, 62, 66, 88, 96]\n",
      "Sorted list after 8th iteration = [13, 19, 25, 42, 57, 62, 66, 88, 96]\n",
      "Sorted list after 9th iteration = [13, 19, 25, 42, 57, 62, 66, 88, 96]\n",
      "\n",
      " Sorted list = [13, 19, 25, 42, 57, 62, 66, 88, 96]\n"
     ]
    }
   ],
   "source": [
    "l = [66, 42, 25, 19, 88, 57, 96, 62, 13]\n",
    "#    0   1   2   3   4   5   6   7   8\n",
    "\n",
    "for i in range(len(l)): # 0,1,2,3,4,5,6,7,8\n",
    "    for j in range(len(l)-1): # 0 1 2 3 4 5 6 7\n",
    "        if l[j]>l[j+1]:      # 66>42 --true\n",
    "            temp = l[j]\n",
    "            l[j] = l[j+1]\n",
    "            l[j+1] = temp\n",
    "    print(f'Sorted list after {i+1}th iteration = {l}')\n",
    "    \n",
    "print('\\n Sorted list =',l)"
   ]
  },
  {
   "cell_type": "markdown",
   "id": "4338f342",
   "metadata": {},
   "source": [
    "## 2.descending order"
   ]
  },
  {
   "cell_type": "code",
   "execution_count": 10,
   "id": "4af69384",
   "metadata": {},
   "outputs": [
    {
     "name": "stdout",
     "output_type": "stream",
     "text": [
      "Sorted list after 1th iteration = [66, 42, 25, 88, 57, 96, 62, 19, 13]\n",
      "Sorted list after 2th iteration = [66, 42, 88, 57, 96, 62, 25, 19, 13]\n",
      "Sorted list after 3th iteration = [66, 88, 57, 96, 62, 42, 25, 19, 13]\n",
      "Sorted list after 4th iteration = [88, 66, 96, 62, 57, 42, 25, 19, 13]\n",
      "Sorted list after 5th iteration = [88, 96, 66, 62, 57, 42, 25, 19, 13]\n",
      "Sorted list after 6th iteration = [96, 88, 66, 62, 57, 42, 25, 19, 13]\n",
      "Sorted list after 7th iteration = [96, 88, 66, 62, 57, 42, 25, 19, 13]\n",
      "Sorted list after 8th iteration = [96, 88, 66, 62, 57, 42, 25, 19, 13]\n",
      "Sorted list after 9th iteration = [96, 88, 66, 62, 57, 42, 25, 19, 13]\n",
      "\n",
      " Sorted list = [96, 88, 66, 62, 57, 42, 25, 19, 13]\n"
     ]
    }
   ],
   "source": [
    "l = [66, 42, 25, 19, 88, 57, 96, 62, 13]\n",
    "#    0   1   2   3   4   5   6   7   8\n",
    "\n",
    "for i in range(len(l)): \n",
    "    for j in range(len(l)-1): \n",
    "        if l[j+1]>l[j]:      \n",
    "            temp = l[j+1]\n",
    "            l[j+1] = l[j]\n",
    "            l[j] = temp\n",
    "    print(f'Sorted list after {i+1}th iteration = {l}')\n",
    "    \n",
    "print('\\n Sorted list =',l)"
   ]
  },
  {
   "cell_type": "code",
   "execution_count": null,
   "id": "48d35bea",
   "metadata": {},
   "outputs": [],
   "source": []
  }
 ],
 "metadata": {
  "kernelspec": {
   "display_name": "Python 3 (ipykernel)",
   "language": "python",
   "name": "python3"
  },
  "language_info": {
   "codemirror_mode": {
    "name": "ipython",
    "version": 3
   },
   "file_extension": ".py",
   "mimetype": "text/x-python",
   "name": "python",
   "nbconvert_exporter": "python",
   "pygments_lexer": "ipython3",
   "version": "3.9.12"
  }
 },
 "nbformat": 4,
 "nbformat_minor": 5
}
