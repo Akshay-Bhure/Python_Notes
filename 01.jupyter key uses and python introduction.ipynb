{
 "cells": [
  {
   "cell_type": "code",
   "execution_count": 4,
   "id": "2b12215c",
   "metadata": {},
   "outputs": [
    {
     "name": "stdout",
     "output_type": "stream",
     "text": [
      "Hi akshay\n"
     ]
    }
   ],
   "source": [
    "print('Hi akshay')"
   ]
  },
  {
   "cell_type": "code",
   "execution_count": null,
   "id": "b95cd14c",
   "metadata": {},
   "outputs": [],
   "source": [
    "# print('hi python')\n",
    "# print('hi python')"
   ]
  },
  {
   "cell_type": "raw",
   "id": "cbc6f558",
   "metadata": {},
   "source": [
    "print('Hello Everyone')\n",
    "print('Welcome to Data Science Class')\n",
    "\n",
    "a >>  adding new cell above previous cell\n",
    "b >>  adding a new cell below previous cell\n",
    "x >>  remove the cell which we want to remove.\n",
    "bb >> remove the cell which we want to remove.\n",
    "ctrl + enter >> run the cell and stay in the same cell\n",
    "shft + enter >> run the cell and move to next cell\n",
    "alt + enter >> run the cell and move to next line\n",
    "print('Welcome to Data Science Class')\n",
    "## Python\n",
    "# Python\n",
    "### python\n",
    "## Comment\n",
    "Use:\n",
    "    1. We use it for describing our code\n",
    "    2. If we have written a code, but do not want to run it.\n",
    "#\n",
    "ctrl+/\n",
    "print('Welcome to Data Science Class')\n",
    "# print('Welcome to Data Science Class')\n",
    "# print('Welcome to Data Science Class')\n",
    "# print('Welcome to Data Science Class')\n",
    "# print('Welcome to Data Science Class')\n",
    "# print('Welcome to Data Science Class')\n",
    "## Python\n",
    "\n",
    "Birth date: 20th feb, 1991 >> officially used from\n",
    "Developed by Guido Van Rossum in 1989.\n",
    "It is recommended language for beginners.\n",
    "### Features of Python\n",
    "1. Simple and easy to learn\n",
    "2. High level programming language\n",
    "3. Freeware and open source\n",
    "4. Dynamically Typed\n",
    "5. Extensive Libraries\n",
    "6. Interpreted\n",
    "7. Platform Independent(PVM is responsible to convert into machine understandable form)\n",
    "8. Both Procedure and object oriented\n",
    "Uses:\n",
    "    1. Desktop apps\n",
    "    2. Web apps\n",
    "    3. Database apps\n",
    "    4. Machine Learning\n",
    "    5. Data Analysis\n",
    "    6. Data visualization\n",
    "    7. AI(artificial intelligence) apps.\n",
    "## Reserved Keys\n",
    "33 keys are there in python.\n",
    "\n",
    "## Variables\n",
    "It is container for storing values like numbers, string, list, set, tuples, etc.\n",
    "Python is Dynamically typed language>> no need to declare the type of variable.\n",
    "Rules to define Variables:\n",
    "1. letters a-z, A-Z, and numbers 0-9.\n",
    "2. We can not use any special character except '_'.\n",
    "3. We can not start a variable name with number.\n",
    "4. Case sensitive \n",
    "5. We can not use reserved words as a variable >> (there are 33 reserved words. )\n",
    "6. There should not be space in between.\n",
    "7. there must be proper indentation."
   ]
  },
  {
   "cell_type": "code",
   "execution_count": 1,
   "id": "084b8cf9",
   "metadata": {},
   "outputs": [
    {
     "data": {
      "text/plain": [
       "\"\\nprint('Welcome to Data Science Class')\\nprint('Welcome to Data Science Class')\\nprint('Welcome to Data Science Class')\\nprint('Welcome to Data Science Class')\\nprint('Welcome to Data Science Class')\\nPython\\n      \""
      ]
     },
     "execution_count": 1,
     "metadata": {},
     "output_type": "execute_result"
    }
   ],
   "source": [
    "'''\n",
    "print('Welcome to Data Science Class')\n",
    "print('Welcome to Data Science Class')\n",
    "print('Welcome to Data Science Class')\n",
    "print('Welcome to Data Science Class')\n",
    "print('Welcome to Data Science Class')\n",
    "Python\n",
    "      '''\n"
   ]
  },
  {
   "cell_type": "code",
   "execution_count": null,
   "id": "140e02f9",
   "metadata": {},
   "outputs": [],
   "source": [
    "a='akshay'\n",
    "#for i in a(len(a)): we can not use gives error\n",
    "list(range(10)) >> [1,2,3,4,5,6,7,8,9,10] it will create list. replace of list we can create tuple,set,frozenset.\n",
    "for i in range(a): i=0,1,2,3,4... it works only when there is only one number in a variable. a=23 not like a=12,34\n",
    "for i in range(1,a): i=1,2,3,4... it works only when there is only one number in a variable. a=123 not like a=12,34\n",
    "for i in range(len(a)):  i=0,1,2,3,4,5\n",
    "for i in range(1,len(a)): i=1,2,3,4,5\n",
    "for i in range(0,10): i=0,1,2,3,4,5,6,7,8,9\n",
    "for i in a: i=a,k,s,h,a,y\n",
    "print(i) i= a,k,s,h,a,y\n",
    "print a[i] i= a[0]=a, a[1]=k, a[2]=s, a[3]=h, a[4]=a, a[5]=y\n",
    "print[i] i= [0],[1],[2],[3],[4],[5]\n",
    "print len(i)\n",
    "print len[i]"
   ]
  },
  {
   "cell_type": "code",
   "execution_count": 1,
   "id": "afd16937",
   "metadata": {},
   "outputs": [
    {
     "name": "stdout",
     "output_type": "stream",
     "text": [
      "a\n",
      "k\n",
      "s\n",
      "h\n",
      "a\n",
      "y\n"
     ]
    }
   ],
   "source": [
    "a=\"akshay\"\n",
    "for i in a:\n",
    "    print(i)"
   ]
  },
  {
   "cell_type": "code",
   "execution_count": 2,
   "id": "cceaeea2",
   "metadata": {
    "scrolled": true
   },
   "outputs": [
    {
     "ename": "TypeError",
     "evalue": "'str' object cannot be interpreted as an integer",
     "output_type": "error",
     "traceback": [
      "\u001b[1;31m---------------------------------------------------------------------------\u001b[0m",
      "\u001b[1;31mTypeError\u001b[0m                                 Traceback (most recent call last)",
      "Input \u001b[1;32mIn [2]\u001b[0m, in \u001b[0;36m<cell line: 2>\u001b[1;34m()\u001b[0m\n\u001b[0;32m      1\u001b[0m a\u001b[38;5;241m=\u001b[39m\u001b[38;5;124m\"\u001b[39m\u001b[38;5;124makshay\u001b[39m\u001b[38;5;124m\"\u001b[39m\n\u001b[1;32m----> 2\u001b[0m \u001b[38;5;28;01mfor\u001b[39;00m i \u001b[38;5;129;01min\u001b[39;00m \u001b[38;5;28;43mrange\u001b[39;49m\u001b[43m(\u001b[49m\u001b[43ma\u001b[49m\u001b[43m)\u001b[49m:\n\u001b[0;32m      3\u001b[0m     \u001b[38;5;28mprint\u001b[39m(i)\n",
      "\u001b[1;31mTypeError\u001b[0m: 'str' object cannot be interpreted as an integer"
     ]
    }
   ],
   "source": [
    "a=\"akshay\"\n",
    "for i in range(a):\n",
    "    print(i)"
   ]
  },
  {
   "cell_type": "code",
   "execution_count": 3,
   "id": "5dd6409b",
   "metadata": {},
   "outputs": [
    {
     "name": "stdout",
     "output_type": "stream",
     "text": [
      "0\n",
      "1\n",
      "2\n",
      "3\n",
      "4\n",
      "5\n"
     ]
    }
   ],
   "source": [
    "a=\"akshay\"\n",
    "for i in range(len(a)):\n",
    "    print(i)"
   ]
  },
  {
   "cell_type": "code",
   "execution_count": 4,
   "id": "e2141121",
   "metadata": {},
   "outputs": [
    {
     "name": "stdout",
     "output_type": "stream",
     "text": [
      "a\n",
      "k\n",
      "s\n",
      "h\n",
      "a\n",
      "y\n"
     ]
    }
   ],
   "source": [
    "a=\"akshay\"\n",
    "for i in range(len(a)):\n",
    "    print(a[i])"
   ]
  },
  {
   "cell_type": "code",
   "execution_count": 5,
   "id": "a7f29d04",
   "metadata": {},
   "outputs": [
    {
     "name": "stdout",
     "output_type": "stream",
     "text": [
      "[0]\n",
      "[1]\n",
      "[2]\n",
      "[3]\n",
      "[4]\n",
      "[5]\n"
     ]
    }
   ],
   "source": [
    "a=\"akshay\"\n",
    "for i in range(len(a)):\n",
    "    print([i])"
   ]
  },
  {
   "cell_type": "code",
   "execution_count": 6,
   "id": "4bce7e55",
   "metadata": {},
   "outputs": [
    {
     "name": "stdout",
     "output_type": "stream",
     "text": [
      "1\n",
      "1\n",
      "1\n",
      "1\n",
      "1\n",
      "1\n"
     ]
    }
   ],
   "source": [
    "a=\"akshay\"\n",
    "for i in range(len(a)):\n",
    "    print(len([i]))"
   ]
  },
  {
   "cell_type": "code",
   "execution_count": 7,
   "id": "a4b368fe",
   "metadata": {},
   "outputs": [
    {
     "ename": "TypeError",
     "evalue": "object of type 'int' has no len()",
     "output_type": "error",
     "traceback": [
      "\u001b[1;31m---------------------------------------------------------------------------\u001b[0m",
      "\u001b[1;31mTypeError\u001b[0m                                 Traceback (most recent call last)",
      "Input \u001b[1;32mIn [7]\u001b[0m, in \u001b[0;36m<cell line: 2>\u001b[1;34m()\u001b[0m\n\u001b[0;32m      1\u001b[0m a\u001b[38;5;241m=\u001b[39m\u001b[38;5;124m\"\u001b[39m\u001b[38;5;124makshay\u001b[39m\u001b[38;5;124m\"\u001b[39m\n\u001b[0;32m      2\u001b[0m \u001b[38;5;28;01mfor\u001b[39;00m i \u001b[38;5;129;01min\u001b[39;00m \u001b[38;5;28mrange\u001b[39m(\u001b[38;5;28mlen\u001b[39m(a)):\n\u001b[1;32m----> 3\u001b[0m     \u001b[38;5;28mprint\u001b[39m(\u001b[38;5;28;43mlen\u001b[39;49m\u001b[43m(\u001b[49m\u001b[43mi\u001b[49m\u001b[43m)\u001b[49m)\n",
      "\u001b[1;31mTypeError\u001b[0m: object of type 'int' has no len()"
     ]
    }
   ],
   "source": [
    "a=\"akshay\"\n",
    "for i in range(len(a)):\n",
    "    print(len(i))"
   ]
  },
  {
   "cell_type": "code",
   "execution_count": 8,
   "id": "4978f5fe",
   "metadata": {},
   "outputs": [
    {
     "ename": "TypeError",
     "evalue": "object of type 'int' has no len()",
     "output_type": "error",
     "traceback": [
      "\u001b[1;31m---------------------------------------------------------------------------\u001b[0m",
      "\u001b[1;31mTypeError\u001b[0m                                 Traceback (most recent call last)",
      "Input \u001b[1;32mIn [8]\u001b[0m, in \u001b[0;36m<cell line: 2>\u001b[1;34m()\u001b[0m\n\u001b[0;32m      1\u001b[0m a\u001b[38;5;241m=\u001b[39m\u001b[38;5;241m10\u001b[39m\n\u001b[1;32m----> 2\u001b[0m \u001b[38;5;28;01mfor\u001b[39;00m i \u001b[38;5;129;01min\u001b[39;00m \u001b[38;5;28mrange\u001b[39m(\u001b[38;5;28;43mlen\u001b[39;49m\u001b[43m(\u001b[49m\u001b[43ma\u001b[49m\u001b[43m)\u001b[49m):\n\u001b[0;32m      3\u001b[0m     \u001b[38;5;28mprint\u001b[39m(\u001b[38;5;28mlen\u001b[39m([i]))\n",
      "\u001b[1;31mTypeError\u001b[0m: object of type 'int' has no len()"
     ]
    }
   ],
   "source": [
    "a=10\n",
    "for i in range(len(a)):\n",
    "    print(len([i]))"
   ]
  },
  {
   "cell_type": "code",
   "execution_count": 9,
   "id": "ef7d2943",
   "metadata": {},
   "outputs": [
    {
     "ename": "TypeError",
     "evalue": "object of type 'int' has no len()",
     "output_type": "error",
     "traceback": [
      "\u001b[1;31m---------------------------------------------------------------------------\u001b[0m",
      "\u001b[1;31mTypeError\u001b[0m                                 Traceback (most recent call last)",
      "Input \u001b[1;32mIn [9]\u001b[0m, in \u001b[0;36m<cell line: 2>\u001b[1;34m()\u001b[0m\n\u001b[0;32m      1\u001b[0m a\u001b[38;5;241m=\u001b[39m\u001b[38;5;241m10\u001b[39m\n\u001b[1;32m----> 2\u001b[0m \u001b[38;5;28;01mfor\u001b[39;00m i \u001b[38;5;129;01min\u001b[39;00m \u001b[38;5;28mrange\u001b[39m(\u001b[38;5;28;43mlen\u001b[39;49m\u001b[43m(\u001b[49m\u001b[43ma\u001b[49m\u001b[43m)\u001b[49m):\n\u001b[0;32m      3\u001b[0m     \u001b[38;5;28mprint\u001b[39m(\u001b[38;5;28mlen\u001b[39m(i))\n",
      "\u001b[1;31mTypeError\u001b[0m: object of type 'int' has no len()"
     ]
    }
   ],
   "source": [
    "a=10\n",
    "for i in range(len(a)):\n",
    "    print(len(i))"
   ]
  },
  {
   "cell_type": "code",
   "execution_count": 10,
   "id": "bb62cb29",
   "metadata": {},
   "outputs": [
    {
     "name": "stdout",
     "output_type": "stream",
     "text": [
      "1\n",
      "1\n",
      "1\n",
      "1\n",
      "1\n",
      "1\n",
      "1\n",
      "1\n",
      "1\n",
      "1\n"
     ]
    }
   ],
   "source": [
    "a=10\n",
    "for i in range(a):\n",
    "    print(len([i]))"
   ]
  },
  {
   "cell_type": "code",
   "execution_count": 11,
   "id": "e17eb297",
   "metadata": {},
   "outputs": [
    {
     "ename": "TypeError",
     "evalue": "object of type 'int' has no len()",
     "output_type": "error",
     "traceback": [
      "\u001b[1;31m---------------------------------------------------------------------------\u001b[0m",
      "\u001b[1;31mTypeError\u001b[0m                                 Traceback (most recent call last)",
      "Input \u001b[1;32mIn [11]\u001b[0m, in \u001b[0;36m<cell line: 2>\u001b[1;34m()\u001b[0m\n\u001b[0;32m      1\u001b[0m a\u001b[38;5;241m=\u001b[39m\u001b[38;5;241m10\u001b[39m\n\u001b[0;32m      2\u001b[0m \u001b[38;5;28;01mfor\u001b[39;00m i \u001b[38;5;129;01min\u001b[39;00m \u001b[38;5;28mrange\u001b[39m(a):\n\u001b[1;32m----> 3\u001b[0m     \u001b[38;5;28mprint\u001b[39m(\u001b[38;5;28;43mlen\u001b[39;49m\u001b[43m(\u001b[49m\u001b[43mi\u001b[49m\u001b[43m)\u001b[49m)\n",
      "\u001b[1;31mTypeError\u001b[0m: object of type 'int' has no len()"
     ]
    }
   ],
   "source": [
    "a=10\n",
    "for i in range(a):\n",
    "    print(len(i))"
   ]
  },
  {
   "cell_type": "code",
   "execution_count": 12,
   "id": "b7a75aea",
   "metadata": {},
   "outputs": [
    {
     "name": "stdout",
     "output_type": "stream",
     "text": [
      "0\n",
      "1\n",
      "2\n",
      "3\n",
      "4\n",
      "5\n",
      "6\n",
      "7\n",
      "8\n",
      "9\n"
     ]
    }
   ],
   "source": [
    "a=10\n",
    "for i in range(a):\n",
    "    print(i)"
   ]
  },
  {
   "cell_type": "code",
   "execution_count": 13,
   "id": "8613a0b5",
   "metadata": {},
   "outputs": [
    {
     "ename": "TypeError",
     "evalue": "'tuple' object cannot be interpreted as an integer",
     "output_type": "error",
     "traceback": [
      "\u001b[1;31m---------------------------------------------------------------------------\u001b[0m",
      "\u001b[1;31mTypeError\u001b[0m                                 Traceback (most recent call last)",
      "Input \u001b[1;32mIn [13]\u001b[0m, in \u001b[0;36m<cell line: 2>\u001b[1;34m()\u001b[0m\n\u001b[0;32m      1\u001b[0m a\u001b[38;5;241m=\u001b[39m\u001b[38;5;241m10\u001b[39m,\u001b[38;5;241m3\u001b[39m,\u001b[38;5;241m4\u001b[39m,\u001b[38;5;241m5\u001b[39m\n\u001b[1;32m----> 2\u001b[0m \u001b[38;5;28;01mfor\u001b[39;00m i \u001b[38;5;129;01min\u001b[39;00m \u001b[38;5;28;43mrange\u001b[39;49m\u001b[43m(\u001b[49m\u001b[43ma\u001b[49m\u001b[43m)\u001b[49m:\n\u001b[0;32m      3\u001b[0m     \u001b[38;5;28mprint\u001b[39m(\u001b[38;5;28mlen\u001b[39m([i]))\n",
      "\u001b[1;31mTypeError\u001b[0m: 'tuple' object cannot be interpreted as an integer"
     ]
    }
   ],
   "source": [
    "a=10,3,4,5\n",
    "for i in range(a):\n",
    "    print(len([i]))"
   ]
  },
  {
   "cell_type": "code",
   "execution_count": 14,
   "id": "4440354b",
   "metadata": {},
   "outputs": [
    {
     "ename": "TypeError",
     "evalue": "'tuple' object cannot be interpreted as an integer",
     "output_type": "error",
     "traceback": [
      "\u001b[1;31m---------------------------------------------------------------------------\u001b[0m",
      "\u001b[1;31mTypeError\u001b[0m                                 Traceback (most recent call last)",
      "Input \u001b[1;32mIn [14]\u001b[0m, in \u001b[0;36m<cell line: 2>\u001b[1;34m()\u001b[0m\n\u001b[0;32m      1\u001b[0m a\u001b[38;5;241m=\u001b[39m\u001b[38;5;241m10\u001b[39m,\u001b[38;5;241m3\u001b[39m,\u001b[38;5;241m4\u001b[39m,\u001b[38;5;241m5\u001b[39m\n\u001b[1;32m----> 2\u001b[0m \u001b[38;5;28;01mfor\u001b[39;00m i \u001b[38;5;129;01min\u001b[39;00m \u001b[38;5;28;43mrange\u001b[39;49m\u001b[43m(\u001b[49m\u001b[43ma\u001b[49m\u001b[43m)\u001b[49m:\n\u001b[0;32m      3\u001b[0m     \u001b[38;5;28mprint\u001b[39m(i)\n",
      "\u001b[1;31mTypeError\u001b[0m: 'tuple' object cannot be interpreted as an integer"
     ]
    }
   ],
   "source": [
    "a=10,3,4,5\n",
    "for i in range(a):\n",
    "    print(i)"
   ]
  },
  {
   "cell_type": "code",
   "execution_count": 15,
   "id": "7083dad7",
   "metadata": {},
   "outputs": [
    {
     "name": "stdout",
     "output_type": "stream",
     "text": [
      "0\n",
      "1\n",
      "2\n",
      "3\n"
     ]
    }
   ],
   "source": [
    "a=10,3,4,5\n",
    "for i in range(len(a)):\n",
    "    print(i)"
   ]
  },
  {
   "cell_type": "code",
   "execution_count": 16,
   "id": "37713286",
   "metadata": {},
   "outputs": [
    {
     "ename": "TypeError",
     "evalue": "object of type 'int' has no len()",
     "output_type": "error",
     "traceback": [
      "\u001b[1;31m---------------------------------------------------------------------------\u001b[0m",
      "\u001b[1;31mTypeError\u001b[0m                                 Traceback (most recent call last)",
      "Input \u001b[1;32mIn [16]\u001b[0m, in \u001b[0;36m<cell line: 2>\u001b[1;34m()\u001b[0m\n\u001b[0;32m      1\u001b[0m a\u001b[38;5;241m=\u001b[39m\u001b[38;5;241m10\u001b[39m,\u001b[38;5;241m3\u001b[39m,\u001b[38;5;241m4\u001b[39m,\u001b[38;5;241m5\u001b[39m\n\u001b[0;32m      2\u001b[0m \u001b[38;5;28;01mfor\u001b[39;00m i \u001b[38;5;129;01min\u001b[39;00m \u001b[38;5;28mrange\u001b[39m(\u001b[38;5;28mlen\u001b[39m(a)):\n\u001b[1;32m----> 3\u001b[0m     \u001b[38;5;28mprint\u001b[39m(\u001b[38;5;28;43mlen\u001b[39;49m\u001b[43m(\u001b[49m\u001b[43mi\u001b[49m\u001b[43m)\u001b[49m)\n",
      "\u001b[1;31mTypeError\u001b[0m: object of type 'int' has no len()"
     ]
    }
   ],
   "source": [
    "a=10,3,4,5\n",
    "for i in range(len(a)):\n",
    "    print(len(i))"
   ]
  },
  {
   "cell_type": "code",
   "execution_count": 17,
   "id": "c9364b27",
   "metadata": {},
   "outputs": [
    {
     "name": "stdout",
     "output_type": "stream",
     "text": [
      "10\n",
      "3\n",
      "4\n",
      "5\n"
     ]
    }
   ],
   "source": [
    "a=10,3,4,5\n",
    "for i in a:\n",
    "    print(i)"
   ]
  },
  {
   "cell_type": "code",
   "execution_count": null,
   "id": "6f69d3d2",
   "metadata": {},
   "outputs": [],
   "source": []
  }
 ],
 "metadata": {
  "celltoolbar": "Raw Cell Format",
  "kernelspec": {
   "display_name": "Python 3 (ipykernel)",
   "language": "python",
   "name": "python3"
  },
  "language_info": {
   "codemirror_mode": {
    "name": "ipython",
    "version": 3
   },
   "file_extension": ".py",
   "mimetype": "text/x-python",
   "name": "python",
   "nbconvert_exporter": "python",
   "pygments_lexer": "ipython3",
   "version": "3.9.12"
  }
 },
 "nbformat": 4,
 "nbformat_minor": 5
}
