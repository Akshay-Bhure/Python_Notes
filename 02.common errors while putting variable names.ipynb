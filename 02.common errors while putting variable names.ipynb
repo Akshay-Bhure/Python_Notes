{
 "cells": [
  {
   "cell_type": "markdown",
   "id": "c365a1cf",
   "metadata": {},
   "source": [
    "### common errors while putting variable names\n",
    "\n",
    "\n"
   ]
  },
  {
   "cell_type": "raw",
   "id": "c03e85ae",
   "metadata": {},
   "source": [
    "Variable is container for storing values like numbers, string, list, set, tuples, etc.\n",
    "Python is Dynamically typed language>> no need to declare the type of variable."
   ]
  },
  {
   "cell_type": "raw",
   "id": "f802d315",
   "metadata": {},
   "source": [
    "Rules to define Variables:\n",
    "1. letters a-z, A-Z, and numbers 0-9.\n",
    "2. We can not use any special character except '_'.\n",
    "3. We can not start a variable name with number.\n",
    "4. Case sensitive \n",
    "5. We can not use reserved words as a variable >> (there are 33 reserved words. )\n",
    "6. There is should not be space in between.\n",
    "7. there must be proper indentation."
   ]
  },
  {
   "cell_type": "code",
   "execution_count": 1,
   "id": "fa600d50",
   "metadata": {},
   "outputs": [
    {
     "data": {
      "text/plain": [
       "5"
      ]
     },
     "execution_count": 1,
     "metadata": {},
     "output_type": "execute_result"
    }
   ],
   "source": [
    "5"
   ]
  },
  {
   "cell_type": "code",
   "execution_count": 2,
   "id": "5d01bfeb",
   "metadata": {},
   "outputs": [
    {
     "data": {
      "text/plain": [
       "11"
      ]
     },
     "execution_count": 2,
     "metadata": {},
     "output_type": "execute_result"
    }
   ],
   "source": [
    "5+6\n"
   ]
  },
  {
   "cell_type": "code",
   "execution_count": 4,
   "id": "c755e90a",
   "metadata": {},
   "outputs": [
    {
     "data": {
      "text/plain": [
       "165"
      ]
     },
     "execution_count": 4,
     "metadata": {},
     "output_type": "execute_result"
    }
   ],
   "source": [
    "78+87"
   ]
  },
  {
   "cell_type": "code",
   "execution_count": 5,
   "id": "dc08897b",
   "metadata": {},
   "outputs": [
    {
     "data": {
      "text/plain": [
       "70512"
      ]
     },
     "execution_count": 5,
     "metadata": {},
     "output_type": "execute_result"
    }
   ],
   "source": [
    "78*904"
   ]
  },
  {
   "cell_type": "code",
   "execution_count": 1,
   "id": "4e83ac2d",
   "metadata": {},
   "outputs": [
    {
     "data": {
      "text/plain": [
       "39.671052631578945"
      ]
     },
     "execution_count": 1,
     "metadata": {},
     "output_type": "execute_result"
    }
   ],
   "source": [
    "3015/76"
   ]
  },
  {
   "cell_type": "code",
   "execution_count": 6,
   "id": "fa34a57d",
   "metadata": {},
   "outputs": [
    {
     "data": {
      "text/plain": [
       "50.671052631578945"
      ]
     },
     "execution_count": 6,
     "metadata": {},
     "output_type": "execute_result"
    }
   ],
   "source": [
    "87-76+67*45/76"
   ]
  },
  {
   "cell_type": "code",
   "execution_count": 7,
   "id": "a815b956",
   "metadata": {},
   "outputs": [],
   "source": [
    "###hfudu"
   ]
  },
  {
   "cell_type": "markdown",
   "id": "1a2c3c9e",
   "metadata": {},
   "source": [
    "### "
   ]
  },
  {
   "cell_type": "markdown",
   "id": "4a8a6b3b",
   "metadata": {},
   "source": [
    "### ramhari krishna"
   ]
  },
  {
   "cell_type": "markdown",
   "id": "48609bac",
   "metadata": {},
   "source": [
    "### bhagavant narayan"
   ]
  },
  {
   "cell_type": "markdown",
   "id": "58408e08",
   "metadata": {},
   "source": [
    "### "
   ]
  },
  {
   "cell_type": "markdown",
   "id": "4cfb945c",
   "metadata": {},
   "source": [
    "### "
   ]
  },
  {
   "cell_type": "markdown",
   "id": "bceab149",
   "metadata": {},
   "source": []
  },
  {
   "cell_type": "markdown",
   "id": "ba3d662d",
   "metadata": {},
   "source": [
    "### "
   ]
  },
  {
   "cell_type": "markdown",
   "id": "1ae7ff4a",
   "metadata": {},
   "source": [
    "ram hari krishna"
   ]
  },
  {
   "cell_type": "code",
   "execution_count": 6,
   "id": "03972963",
   "metadata": {},
   "outputs": [
    {
     "data": {
      "text/plain": [
       "567"
      ]
     },
     "execution_count": 6,
     "metadata": {},
     "output_type": "execute_result"
    }
   ],
   "source": [
    "a=567"
   ]
  },
  {
   "cell_type": "code",
   "execution_count": 4,
   "id": "abf35ebd",
   "metadata": {},
   "outputs": [
    {
     "data": {
      "text/plain": [
       "int"
      ]
     },
     "execution_count": 4,
     "metadata": {},
     "output_type": "execute_result"
    }
   ],
   "source": [
    "type(a)"
   ]
  },
  {
   "cell_type": "code",
   "execution_count": 5,
   "id": "8f41afa7",
   "metadata": {},
   "outputs": [
    {
     "name": "stdout",
     "output_type": "stream",
     "text": [
      "<class 'int'>\n"
     ]
    }
   ],
   "source": [
    "print(type(a))"
   ]
  },
  {
   "cell_type": "code",
   "execution_count": 26,
   "id": "7aa6e2b7",
   "metadata": {},
   "outputs": [
    {
     "data": {
      "text/plain": [
       "str"
      ]
     },
     "execution_count": 26,
     "metadata": {},
     "output_type": "execute_result"
    }
   ],
   "source": [
    "buddha='maine kya kiya'\n",
    "type(buddha)"
   ]
  },
  {
   "cell_type": "code",
   "execution_count": 19,
   "id": "46c99bfd",
   "metadata": {},
   "outputs": [
    {
     "data": {
      "text/plain": [
       "str"
      ]
     },
     "execution_count": 19,
     "metadata": {},
     "output_type": "execute_result"
    }
   ],
   "source": [
    "type(buddha)"
   ]
  },
  {
   "cell_type": "code",
   "execution_count": 59,
   "id": "3a3d2817",
   "metadata": {},
   "outputs": [],
   "source": [
    "c=67.870"
   ]
  },
  {
   "cell_type": "code",
   "execution_count": 60,
   "id": "3e1364d1",
   "metadata": {},
   "outputs": [
    {
     "data": {
      "text/plain": [
       "float"
      ]
     },
     "execution_count": 60,
     "metadata": {},
     "output_type": "execute_result"
    }
   ],
   "source": [
    "type(c)"
   ]
  },
  {
   "cell_type": "code",
   "execution_count": 1,
   "id": "a8013b49",
   "metadata": {},
   "outputs": [
    {
     "data": {
      "text/plain": [
       "float"
      ]
     },
     "execution_count": 1,
     "metadata": {},
     "output_type": "execute_result"
    }
   ],
   "source": [
    "b=45.778\n",
    "type(b)"
   ]
  },
  {
   "cell_type": "code",
   "execution_count": 2,
   "id": "02a0fb41",
   "metadata": {},
   "outputs": [
    {
     "data": {
      "text/plain": [
       "float"
      ]
     },
     "execution_count": 2,
     "metadata": {},
     "output_type": "execute_result"
    }
   ],
   "source": [
    "type(b)"
   ]
  },
  {
   "cell_type": "code",
   "execution_count": 35,
   "id": "8dfabd9e",
   "metadata": {},
   "outputs": [
    {
     "name": "stdout",
     "output_type": "stream",
     "text": [
      "56\n"
     ]
    }
   ],
   "source": [
    "a=56\n",
    "print(a)"
   ]
  },
  {
   "cell_type": "code",
   "execution_count": 37,
   "id": "4f6f1341",
   "metadata": {},
   "outputs": [],
   "source": [
    "a=67"
   ]
  },
  {
   "cell_type": "code",
   "execution_count": 38,
   "id": "3a814f28",
   "metadata": {},
   "outputs": [
    {
     "data": {
      "text/plain": [
       "67"
      ]
     },
     "execution_count": 38,
     "metadata": {},
     "output_type": "execute_result"
    }
   ],
   "source": [
    "a"
   ]
  },
  {
   "cell_type": "code",
   "execution_count": null,
   "id": "15ceb3d6",
   "metadata": {},
   "outputs": [],
   "source": [
    "9rohi"
   ]
  },
  {
   "cell_type": "code",
   "execution_count": 39,
   "id": "c1709f2a",
   "metadata": {},
   "outputs": [
    {
     "ename": "SyntaxError",
     "evalue": "invalid syntax (3154238591.py, line 1)",
     "output_type": "error",
     "traceback": [
      "\u001b[1;36m  Input \u001b[1;32mIn [39]\u001b[1;36m\u001b[0m\n\u001b[1;33m    9rohi\u001b[0m\n\u001b[1;37m     ^\u001b[0m\n\u001b[1;31mSyntaxError\u001b[0m\u001b[1;31m:\u001b[0m invalid syntax\n"
     ]
    }
   ],
   "source": [
    "9rohi"
   ]
  },
  {
   "cell_type": "code",
   "execution_count": null,
   "id": "f61dd294",
   "metadata": {},
   "outputs": [],
   "source": [
    "9rohi='rohit dada'"
   ]
  },
  {
   "cell_type": "code",
   "execution_count": 40,
   "id": "10ffe8ec",
   "metadata": {},
   "outputs": [
    {
     "ename": "SyntaxError",
     "evalue": "invalid syntax (3154238591.py, line 1)",
     "output_type": "error",
     "traceback": [
      "\u001b[1;36m  Input \u001b[1;32mIn [40]\u001b[1;36m\u001b[0m\n\u001b[1;33m    9rohi\u001b[0m\n\u001b[1;37m     ^\u001b[0m\n\u001b[1;31mSyntaxError\u001b[0m\u001b[1;31m:\u001b[0m invalid syntax\n"
     ]
    }
   ],
   "source": [
    "9rohi"
   ]
  },
  {
   "cell_type": "code",
   "execution_count": 45,
   "id": "058fb10d",
   "metadata": {},
   "outputs": [
    {
     "name": "stdout",
     "output_type": "stream",
     "text": [
      "rohit dada\n"
     ]
    }
   ],
   "source": [
    "rohi='rohit dada'\n",
    "print(rohi)"
   ]
  },
  {
   "cell_type": "code",
   "execution_count": 43,
   "id": "13c79310",
   "metadata": {},
   "outputs": [
    {
     "data": {
      "text/plain": [
       "'rohit dada'"
      ]
     },
     "execution_count": 43,
     "metadata": {},
     "output_type": "execute_result"
    }
   ],
   "source": [
    "rohi"
   ]
  },
  {
   "cell_type": "code",
   "execution_count": 47,
   "id": "1ea53baa",
   "metadata": {},
   "outputs": [
    {
     "ename": "SyntaxError",
     "evalue": "invalid syntax (4572504.py, line 1)",
     "output_type": "error",
     "traceback": [
      "\u001b[1;36m  Input \u001b[1;32mIn [47]\u001b[1;36m\u001b[0m\n\u001b[1;33m    rohi mamu='rohit dada'\u001b[0m\n\u001b[1;37m         ^\u001b[0m\n\u001b[1;31mSyntaxError\u001b[0m\u001b[1;31m:\u001b[0m invalid syntax\n"
     ]
    }
   ],
   "source": [
    "rohi mamu='rohit dada'"
   ]
  },
  {
   "cell_type": "code",
   "execution_count": 50,
   "id": "00c7cd79",
   "metadata": {},
   "outputs": [
    {
     "name": "stdout",
     "output_type": "stream",
     "text": [
      "rohit dada\n"
     ]
    }
   ],
   "source": [
    "rohimamu='rohit dada'\n",
    "print(rohimamu)"
   ]
  },
  {
   "cell_type": "code",
   "execution_count": 49,
   "id": "85ac8bf8",
   "metadata": {},
   "outputs": [
    {
     "data": {
      "text/plain": [
       "'rohit dada'"
      ]
     },
     "execution_count": 49,
     "metadata": {},
     "output_type": "execute_result"
    }
   ],
   "source": [
    "rohimamu"
   ]
  },
  {
   "cell_type": "code",
   "execution_count": 52,
   "id": "7ee6cf82",
   "metadata": {},
   "outputs": [
    {
     "name": "stdout",
     "output_type": "stream",
     "text": [
      "ram krishna hari\n"
     ]
    }
   ],
   "source": [
    "_amama_kaha_gaya='ram krishna hari'\n",
    "print(_amama_kaha_gaya)"
   ]
  },
  {
   "cell_type": "code",
   "execution_count": 53,
   "id": "82ae99c5",
   "metadata": {},
   "outputs": [
    {
     "data": {
      "text/plain": [
       "'ram krishna hari'"
      ]
     },
     "execution_count": 53,
     "metadata": {},
     "output_type": "execute_result"
    }
   ],
   "source": [
    "_amama_kaha_gaya"
   ]
  },
  {
   "cell_type": "code",
   "execution_count": 55,
   "id": "4a5b0f91",
   "metadata": {},
   "outputs": [
    {
     "name": "stdout",
     "output_type": "stream",
     "text": [
      "ram krishna hari\n"
     ]
    }
   ],
   "source": [
    "_amama_kaha_gaya89='ram krishna hari'\n",
    "print(_amama_kaha_gaya89)"
   ]
  },
  {
   "cell_type": "code",
   "execution_count": 56,
   "id": "ec173d71",
   "metadata": {},
   "outputs": [
    {
     "data": {
      "text/plain": [
       "'ram krishna hari'"
      ]
     },
     "execution_count": 56,
     "metadata": {},
     "output_type": "execute_result"
    }
   ],
   "source": [
    "_amama_kaha_gaya89"
   ]
  },
  {
   "cell_type": "code",
   "execution_count": 67,
   "id": "b57cdace",
   "metadata": {},
   "outputs": [],
   "source": [
    "_amama_kaha_gaya896='ram krishna hari fafa'"
   ]
  },
  {
   "cell_type": "code",
   "execution_count": 68,
   "id": "00d3742a",
   "metadata": {},
   "outputs": [
    {
     "data": {
      "text/plain": [
       "'ram krishna hari fafa'"
      ]
     },
     "execution_count": 68,
     "metadata": {},
     "output_type": "execute_result"
    }
   ],
   "source": [
    "_amama_kaha_gaya896"
   ]
  },
  {
   "cell_type": "code",
   "execution_count": 71,
   "id": "07acd630",
   "metadata": {},
   "outputs": [],
   "source": [
    "_amama_kaha_gaya896r='dadus kute gelas bala'"
   ]
  },
  {
   "cell_type": "code",
   "execution_count": 72,
   "id": "2537ae32",
   "metadata": {},
   "outputs": [
    {
     "data": {
      "text/plain": [
       "'dadus kute gelas bala'"
      ]
     },
     "execution_count": 72,
     "metadata": {},
     "output_type": "execute_result"
    }
   ],
   "source": [
    "_amama_kaha_gaya896r"
   ]
  },
  {
   "cell_type": "code",
   "execution_count": 74,
   "id": "92c0a0f1",
   "metadata": {},
   "outputs": [],
   "source": [
    "dadkaychalay='ka beta kuch nahi ho raha hamara'"
   ]
  },
  {
   "cell_type": "code",
   "execution_count": 75,
   "id": "2c31d0b1",
   "metadata": {},
   "outputs": [
    {
     "data": {
      "text/plain": [
       "'ka beta kuch nahi ho raha hamara'"
      ]
     },
     "execution_count": 75,
     "metadata": {},
     "output_type": "execute_result"
    }
   ],
   "source": [
    "dadkaychalay"
   ]
  },
  {
   "cell_type": "code",
   "execution_count": 76,
   "id": "fd5ad1e8",
   "metadata": {},
   "outputs": [],
   "source": [
    "dadkaychalaybgm='ka beta kuch nahi ho raha hamara'"
   ]
  },
  {
   "cell_type": "code",
   "execution_count": 78,
   "id": "55f0ad6d",
   "metadata": {},
   "outputs": [
    {
     "data": {
      "text/plain": [
       "'ka beta kuch nahi ho raha hamara'"
      ]
     },
     "execution_count": 78,
     "metadata": {},
     "output_type": "execute_result"
    }
   ],
   "source": [
    "dadkaychalaybgm"
   ]
  },
  {
   "cell_type": "code",
   "execution_count": 79,
   "id": "be68c5fe",
   "metadata": {},
   "outputs": [
    {
     "ename": "SyntaxError",
     "evalue": "invalid syntax (2755396923.py, line 1)",
     "output_type": "error",
     "traceback": [
      "\u001b[1;36m  Input \u001b[1;32mIn [79]\u001b[1;36m\u001b[0m\n\u001b[1;33m    aaa bhi ja raja ='kaisa hai mere lal beta'\u001b[0m\n\u001b[1;37m        ^\u001b[0m\n\u001b[1;31mSyntaxError\u001b[0m\u001b[1;31m:\u001b[0m invalid syntax\n"
     ]
    }
   ],
   "source": [
    "aaa bhi ja raja ='kaisa hai mere lal beta'"
   ]
  },
  {
   "cell_type": "code",
   "execution_count": 80,
   "id": "de3e1a0a",
   "metadata": {},
   "outputs": [],
   "source": [
    "aaabhijaraja='ram natvarlal ha bhai bol na janeman'"
   ]
  },
  {
   "cell_type": "code",
   "execution_count": 81,
   "id": "765bd796",
   "metadata": {},
   "outputs": [
    {
     "data": {
      "text/plain": [
       "'ram natvarlal ha bhai bol na janeman'"
      ]
     },
     "execution_count": 81,
     "metadata": {},
     "output_type": "execute_result"
    }
   ],
   "source": [
    "aaabhijaraja"
   ]
  },
  {
   "cell_type": "code",
   "execution_count": 82,
   "id": "7f0ac248",
   "metadata": {},
   "outputs": [],
   "source": [
    "a=67"
   ]
  },
  {
   "cell_type": "code",
   "execution_count": 83,
   "id": "e9d65478",
   "metadata": {},
   "outputs": [
    {
     "data": {
      "text/plain": [
       "67"
      ]
     },
     "execution_count": 83,
     "metadata": {},
     "output_type": "execute_result"
    }
   ],
   "source": [
    "a"
   ]
  },
  {
   "cell_type": "code",
   "execution_count": 8,
   "id": "0926a0c6",
   "metadata": {},
   "outputs": [],
   "source": [
    "a=5768"
   ]
  },
  {
   "cell_type": "code",
   "execution_count": 9,
   "id": "141dce8d",
   "metadata": {},
   "outputs": [
    {
     "ename": "NameError",
     "evalue": "name 'A' is not defined",
     "output_type": "error",
     "traceback": [
      "\u001b[1;31m---------------------------------------------------------------------------\u001b[0m",
      "\u001b[1;31mNameError\u001b[0m                                 Traceback (most recent call last)",
      "Input \u001b[1;32mIn [9]\u001b[0m, in \u001b[0;36m<cell line: 1>\u001b[1;34m()\u001b[0m\n\u001b[1;32m----> 1\u001b[0m \u001b[43mA\u001b[49m\n",
      "\u001b[1;31mNameError\u001b[0m: name 'A' is not defined"
     ]
    }
   ],
   "source": [
    "A"
   ]
  },
  {
   "cell_type": "code",
   "execution_count": 10,
   "id": "1c739ae5",
   "metadata": {},
   "outputs": [],
   "source": [
    "b=\"ramu\""
   ]
  },
  {
   "cell_type": "code",
   "execution_count": 11,
   "id": "f87b4cf5",
   "metadata": {},
   "outputs": [
    {
     "data": {
      "text/plain": [
       "'ramu'"
      ]
     },
     "execution_count": 11,
     "metadata": {},
     "output_type": "execute_result"
    }
   ],
   "source": [
    "b"
   ]
  },
  {
   "cell_type": "code",
   "execution_count": 13,
   "id": "1e92300a",
   "metadata": {},
   "outputs": [
    {
     "ename": "NameError",
     "evalue": "name 'B' is not defined",
     "output_type": "error",
     "traceback": [
      "\u001b[1;31m---------------------------------------------------------------------------\u001b[0m",
      "\u001b[1;31mNameError\u001b[0m                                 Traceback (most recent call last)",
      "Input \u001b[1;32mIn [13]\u001b[0m, in \u001b[0;36m<cell line: 1>\u001b[1;34m()\u001b[0m\n\u001b[1;32m----> 1\u001b[0m \u001b[43mB\u001b[49m\n",
      "\u001b[1;31mNameError\u001b[0m: name 'B' is not defined"
     ]
    }
   ],
   "source": [
    "B"
   ]
  },
  {
   "cell_type": "code",
   "execution_count": 86,
   "id": "eaf4e875",
   "metadata": {},
   "outputs": [
    {
     "ename": "NameError",
     "evalue": "name 'ammakidadikahahai' is not defined",
     "output_type": "error",
     "traceback": [
      "\u001b[1;31m---------------------------------------------------------------------------\u001b[0m",
      "\u001b[1;31mNameError\u001b[0m                                 Traceback (most recent call last)",
      "Input \u001b[1;32mIn [86]\u001b[0m, in \u001b[0;36m<cell line: 1>\u001b[1;34m()\u001b[0m\n\u001b[1;32m----> 1\u001b[0m ammakidadikahahai\u001b[38;5;241m&\u001b[39m\u001b[38;5;241m=\u001b[39m\u001b[38;5;124m'\u001b[39m\u001b[38;5;124mro raha ye jaha ro raha ye sama\u001b[39m\u001b[38;5;124m'\u001b[39m\n",
      "\u001b[1;31mNameError\u001b[0m: name 'ammakidadikahahai' is not defined"
     ]
    }
   ],
   "source": [
    "ammakidadikahahai&='ro raha ye jaha ro raha ye sama'"
   ]
  },
  {
   "cell_type": "code",
   "execution_count": 88,
   "id": "19d656fc",
   "metadata": {},
   "outputs": [
    {
     "data": {
      "text/plain": [
       "'ro raha ye jaha ro raha ye sama'"
      ]
     },
     "execution_count": 88,
     "metadata": {},
     "output_type": "execute_result"
    }
   ],
   "source": [
    "ammakidadikahahai"
   ]
  },
  {
   "cell_type": "code",
   "execution_count": 89,
   "id": "09c70457",
   "metadata": {},
   "outputs": [
    {
     "ename": "SyntaxError",
     "evalue": "invalid syntax (4227168700.py, line 1)",
     "output_type": "error",
     "traceback": [
      "\u001b[1;36m  Input \u001b[1;32mIn [89]\u001b[1;36m\u001b[0m\n\u001b[1;33m    ammakidadikahahai$%='ro raha ye jaha ro raha ye sama'\u001b[0m\n\u001b[1;37m                     ^\u001b[0m\n\u001b[1;31mSyntaxError\u001b[0m\u001b[1;31m:\u001b[0m invalid syntax\n"
     ]
    }
   ],
   "source": [
    "ammakidadikahahai$%='ro raha ye jaha ro raha ye sama'"
   ]
  },
  {
   "cell_type": "code",
   "execution_count": 90,
   "id": "67eb4bda",
   "metadata": {},
   "outputs": [
    {
     "data": {
      "text/plain": [
       "'ro raha ye jaha ro raha ye sama'"
      ]
     },
     "execution_count": 90,
     "metadata": {},
     "output_type": "execute_result"
    }
   ],
   "source": [
    "ammakidadikahahai"
   ]
  },
  {
   "cell_type": "code",
   "execution_count": 14,
   "id": "47a6152a",
   "metadata": {},
   "outputs": [
    {
     "ename": "SyntaxError",
     "evalue": "invalid syntax (2639149919.py, line 1)",
     "output_type": "error",
     "traceback": [
      "\u001b[1;36m  Input \u001b[1;32mIn [14]\u001b[1;36m\u001b[0m\n\u001b[1;33m    kah se hai re bhai tu='q tuje kya karana hai'\u001b[0m\n\u001b[1;37m        ^\u001b[0m\n\u001b[1;31mSyntaxError\u001b[0m\u001b[1;31m:\u001b[0m invalid syntax\n"
     ]
    }
   ],
   "source": [
    "kah se hai re bhai tu='q tuje kya karana hai'"
   ]
  },
  {
   "cell_type": "code",
   "execution_count": 15,
   "id": "ff624f77",
   "metadata": {},
   "outputs": [
    {
     "ename": "SyntaxError",
     "evalue": "invalid syntax (4277489110.py, line 1)",
     "output_type": "error",
     "traceback": [
      "\u001b[1;36m  Input \u001b[1;32mIn [15]\u001b[1;36m\u001b[0m\n\u001b[1;33m    kah se hai re43hai_34tu='q tuje kya karana hai'\u001b[0m\n\u001b[1;37m        ^\u001b[0m\n\u001b[1;31mSyntaxError\u001b[0m\u001b[1;31m:\u001b[0m invalid syntax\n"
     ]
    }
   ],
   "source": [
    "kah se hai re43hai_34tu='q tuje kya karana hai'"
   ]
  },
  {
   "cell_type": "code",
   "execution_count": 16,
   "id": "c23c4905",
   "metadata": {},
   "outputs": [],
   "source": [
    "kahDAse4haire43hai_34tu='q tuje kya karana hai'"
   ]
  },
  {
   "cell_type": "code",
   "execution_count": 17,
   "id": "02f6b308",
   "metadata": {},
   "outputs": [
    {
     "data": {
      "text/plain": [
       "'q tuje kya karana hai'"
      ]
     },
     "execution_count": 17,
     "metadata": {},
     "output_type": "execute_result"
    }
   ],
   "source": [
    "kahDAse4haire43hai_34tu"
   ]
  },
  {
   "cell_type": "code",
   "execution_count": 19,
   "id": "73563714",
   "metadata": {},
   "outputs": [
    {
     "ename": "SyntaxError",
     "evalue": "invalid syntax (3999468547.py, line 1)",
     "output_type": "error",
     "traceback": [
      "\u001b[1;36m  Input \u001b[1;32mIn [19]\u001b[1;36m\u001b[0m\n\u001b[1;33m    del_and_ def=4554\u001b[0m\n\u001b[1;37m             ^\u001b[0m\n\u001b[1;31mSyntaxError\u001b[0m\u001b[1;31m:\u001b[0m invalid syntax\n"
     ]
    }
   ],
   "source": [
    "del_and_ def=4554"
   ]
  },
  {
   "cell_type": "code",
   "execution_count": null,
   "id": "745fcf74",
   "metadata": {},
   "outputs": [],
   "source": []
  }
 ],
 "metadata": {
  "kernelspec": {
   "display_name": "Python 3 (ipykernel)",
   "language": "python",
   "name": "python3"
  },
  "language_info": {
   "codemirror_mode": {
    "name": "ipython",
    "version": 3
   },
   "file_extension": ".py",
   "mimetype": "text/x-python",
   "name": "python",
   "nbconvert_exporter": "python",
   "pygments_lexer": "ipython3",
   "version": "3.9.12"
  }
 },
 "nbformat": 4,
 "nbformat_minor": 5
}
