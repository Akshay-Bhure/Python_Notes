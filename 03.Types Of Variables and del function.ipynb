{
 "cells": [
  {
   "cell_type": "markdown",
   "id": "402cc711",
   "metadata": {},
   "source": [
    "### types of variables"
   ]
  },
  {
   "cell_type": "raw",
   "id": "faca95ff",
   "metadata": {},
   "source": [
    "1. Global Variable : Variables which we can declare inside as well as outside the function\n",
    "2. Local Variable  : Variables which we can declare inside the function\n",
    "\n",
    "We can access global variable throughout the program but local variable have a limited access."
   ]
  },
  {
   "cell_type": "code",
   "execution_count": 1,
   "id": "af593741",
   "metadata": {},
   "outputs": [
    {
     "ename": "SyntaxError",
     "evalue": "EOL while scanning string literal (1319548902.py, line 5)",
     "output_type": "error",
     "traceback": [
      "\u001b[1;36m  Input \u001b[1;32mIn [1]\u001b[1;36m\u001b[0m\n\u001b[1;33m    rehan='doly ke papa fatfull hai:\u001b[0m\n\u001b[1;37m                                    ^\u001b[0m\n\u001b[1;31mSyntaxError\u001b[0m\u001b[1;31m:\u001b[0m EOL while scanning string literal\n"
     ]
    }
   ],
   "source": [
    "my_new_project_started='akshay kay zal why are you upset bro '\n",
    "ok2my2raju='35 ke bad hamesha 36 h ata hai boss'\n",
    "#print(my_new_project_started)\n",
    "#print(ok2my2raju)\n",
    "rehan='doly ke papa fatfull hai:\n",
    "    print(rehan)"
   ]
  },
  {
   "cell_type": "code",
   "execution_count": 2,
   "id": "aeea7b51",
   "metadata": {},
   "outputs": [
    {
     "ename": "SyntaxError",
     "evalue": "invalid syntax (2403759140.py, line 1)",
     "output_type": "error",
     "traceback": [
      "\u001b[1;36m  Input \u001b[1;32mIn [2]\u001b[1;36m\u001b[0m\n\u001b[1;33m    rehan='doly ke papa fatfull hai':\u001b[0m\n\u001b[1;37m                                    ^\u001b[0m\n\u001b[1;31mSyntaxError\u001b[0m\u001b[1;31m:\u001b[0m invalid syntax\n"
     ]
    }
   ],
   "source": [
    "rehan='doly ke papa fatfull hai':\n",
    "    raj=450\n",
    "    aji='ram hari govind gopal'\n",
    "    print(rehan)\n"
   ]
  },
  {
   "cell_type": "code",
   "execution_count": 3,
   "id": "3fd4516a",
   "metadata": {},
   "outputs": [
    {
     "ename": "SyntaxError",
     "evalue": "invalid syntax (1692936611.py, line 1)",
     "output_type": "error",
     "traceback": [
      "\u001b[1;36m  Input \u001b[1;32mIn [3]\u001b[1;36m\u001b[0m\n\u001b[1;33m    rehan='doly ke papa fatfull hai':\u001b[0m\n\u001b[1;37m                                    ^\u001b[0m\n\u001b[1;31mSyntaxError\u001b[0m\u001b[1;31m:\u001b[0m invalid syntax\n"
     ]
    }
   ],
   "source": [
    "rehan='doly ke papa fatfull hai':\n",
    "    raj=450\n",
    "    aji='ram hari govind gopal'\n",
    "    print(raj)\n",
    "    print(aji)\n"
   ]
  },
  {
   "cell_type": "code",
   "execution_count": 4,
   "id": "a7b12807",
   "metadata": {},
   "outputs": [
    {
     "ename": "SyntaxError",
     "evalue": "invalid syntax (1132668069.py, line 1)",
     "output_type": "error",
     "traceback": [
      "\u001b[1;36m  Input \u001b[1;32mIn [4]\u001b[1;36m\u001b[0m\n\u001b[1;33m    rehan:\u001b[0m\n\u001b[1;37m          ^\u001b[0m\n\u001b[1;31mSyntaxError\u001b[0m\u001b[1;31m:\u001b[0m invalid syntax\n"
     ]
    }
   ],
   "source": [
    "rehan:\n",
    "    raj=450\n",
    "    aji='ram hari govind gopal'\n",
    "    print(rehan)\n"
   ]
  },
  {
   "cell_type": "code",
   "execution_count": 2,
   "id": "9c8ec1d3",
   "metadata": {},
   "outputs": [
    {
     "ename": "SyntaxError",
     "evalue": "invalid syntax (3292978166.py, line 1)",
     "output_type": "error",
     "traceback": [
      "\u001b[1;36m  Input \u001b[1;32mIn [2]\u001b[1;36m\u001b[0m\n\u001b[1;33m    rehan():\u001b[0m\n\u001b[1;37m            ^\u001b[0m\n\u001b[1;31mSyntaxError\u001b[0m\u001b[1;31m:\u001b[0m invalid syntax\n"
     ]
    }
   ],
   "source": [
    "rehan():\n",
    "    raj=450\n",
    "    aji='ram hari govind gopal'\n",
    "    print(rehan)\n"
   ]
  },
  {
   "cell_type": "code",
   "execution_count": 5,
   "id": "0d34e24d",
   "metadata": {},
   "outputs": [
    {
     "ename": "SyntaxError",
     "evalue": "invalid syntax (1813521300.py, line 1)",
     "output_type": "error",
     "traceback": [
      "\u001b[1;36m  Input \u001b[1;32mIn [5]\u001b[1;36m\u001b[0m\n\u001b[1;33m    rehan():\u001b[0m\n\u001b[1;37m            ^\u001b[0m\n\u001b[1;31mSyntaxError\u001b[0m\u001b[1;31m:\u001b[0m invalid syntax\n"
     ]
    }
   ],
   "source": [
    "rehan():\n",
    "    raj=450\n",
    "    aji='ram hari govind gopal'\n",
    "    print(raj)\n",
    "    print(aji)\n"
   ]
  },
  {
   "cell_type": "code",
   "execution_count": 1,
   "id": "2f7a4cd3",
   "metadata": {},
   "outputs": [
    {
     "ename": "SyntaxError",
     "evalue": "invalid syntax (1813521300.py, line 1)",
     "output_type": "error",
     "traceback": [
      "\u001b[1;36m  Input \u001b[1;32mIn [1]\u001b[1;36m\u001b[0m\n\u001b[1;33m    rehan():\u001b[0m\n\u001b[1;37m            ^\u001b[0m\n\u001b[1;31mSyntaxError\u001b[0m\u001b[1;31m:\u001b[0m invalid syntax\n"
     ]
    }
   ],
   "source": [
    "rehan():\n",
    "    raj=450\n",
    "    aji='ram hari govind gopal'\n",
    "    print(raj)\n",
    "    print(aji)\n"
   ]
  },
  {
   "cell_type": "code",
   "execution_count": 1,
   "id": "64f63917",
   "metadata": {},
   "outputs": [
    {
     "name": "stdout",
     "output_type": "stream",
     "text": [
      "50\n",
      "This is my function.\n",
      "Aman\n"
     ]
    }
   ],
   "source": [
    "name ='Aman' ## Global Variable\n",
    "y = 'This is a global variable' # global Variable.\n",
    "def my_fun():\n",
    "    x = 50 # Local variable\n",
    "    y = 'This is my function.' # local Variable\n",
    "    print(x)\n",
    "    print(y)\n",
    "    print(name)\n",
    "my_fun()  "
   ]
  },
  {
   "cell_type": "code",
   "execution_count": 4,
   "id": "c87b3766",
   "metadata": {},
   "outputs": [
    {
     "name": "stdout",
     "output_type": "stream",
     "text": [
      "master blaster sachin tendulkar\n",
      "45\n",
      "what the  hell\n"
     ]
    }
   ],
   "source": [
    "akshay='what the  hell'\n",
    "appa=567\n",
    "def my_fun():\n",
    "    dr='master blaster sachin tendulkar'\n",
    "    mr=45\n",
    "    print(dr)\n",
    "    print(mr)\n",
    "    print(akshay)\n",
    "my_fun()"
   ]
  },
  {
   "cell_type": "code",
   "execution_count": 4,
   "id": "1e50968a",
   "metadata": {},
   "outputs": [
    {
     "name": "stdout",
     "output_type": "stream",
     "text": [
      "master blaster sachin tendulkar\n",
      "45\n",
      "what the  hell\n"
     ]
    }
   ],
   "source": [
    "my_fun()"
   ]
  },
  {
   "cell_type": "code",
   "execution_count": 7,
   "id": "494af52c",
   "metadata": {},
   "outputs": [
    {
     "name": "stdout",
     "output_type": "stream",
     "text": [
      "what the  hell\n"
     ]
    }
   ],
   "source": [
    "print(akshay)"
   ]
  },
  {
   "cell_type": "code",
   "execution_count": 8,
   "id": "26e81fbc",
   "metadata": {},
   "outputs": [
    {
     "data": {
      "text/plain": [
       "'what the  hell'"
      ]
     },
     "execution_count": 8,
     "metadata": {},
     "output_type": "execute_result"
    }
   ],
   "source": [
    "akshay"
   ]
  },
  {
   "cell_type": "code",
   "execution_count": 5,
   "id": "b5840d54",
   "metadata": {
    "scrolled": true
   },
   "outputs": [
    {
     "ename": "NameError",
     "evalue": "name 'dr' is not defined",
     "output_type": "error",
     "traceback": [
      "\u001b[1;31m---------------------------------------------------------------------------\u001b[0m",
      "\u001b[1;31mNameError\u001b[0m                                 Traceback (most recent call last)",
      "Input \u001b[1;32mIn [5]\u001b[0m, in \u001b[0;36m<cell line: 1>\u001b[1;34m()\u001b[0m\n\u001b[1;32m----> 1\u001b[0m \u001b[38;5;28mprint\u001b[39m(\u001b[43mdr\u001b[49m)\n",
      "\u001b[1;31mNameError\u001b[0m: name 'dr' is not defined"
     ]
    }
   ],
   "source": [
    "print(dr)"
   ]
  },
  {
   "cell_type": "code",
   "execution_count": 10,
   "id": "71771dd6",
   "metadata": {
    "scrolled": false
   },
   "outputs": [
    {
     "ename": "NameError",
     "evalue": "name 'dr' is not defined",
     "output_type": "error",
     "traceback": [
      "\u001b[1;31m---------------------------------------------------------------------------\u001b[0m",
      "\u001b[1;31mNameError\u001b[0m                                 Traceback (most recent call last)",
      "Input \u001b[1;32mIn [10]\u001b[0m, in \u001b[0;36m<cell line: 1>\u001b[1;34m()\u001b[0m\n\u001b[1;32m----> 1\u001b[0m \u001b[43mdr\u001b[49m\n",
      "\u001b[1;31mNameError\u001b[0m: name 'dr' is not defined"
     ]
    }
   ],
   "source": [
    "dr"
   ]
  },
  {
   "cell_type": "code",
   "execution_count": 9,
   "id": "041aca95",
   "metadata": {
    "scrolled": true
   },
   "outputs": [
    {
     "ename": "NameError",
     "evalue": "name 'dy' is not defined",
     "output_type": "error",
     "traceback": [
      "\u001b[1;31m---------------------------------------------------------------------------\u001b[0m",
      "\u001b[1;31mNameError\u001b[0m                                 Traceback (most recent call last)",
      "Input \u001b[1;32mIn [9]\u001b[0m, in \u001b[0;36m<cell line: 1>\u001b[1;34m()\u001b[0m\n\u001b[1;32m----> 1\u001b[0m \u001b[38;5;28mprint\u001b[39m(\u001b[43mdy\u001b[49m)\n",
      "\u001b[1;31mNameError\u001b[0m: name 'dy' is not defined"
     ]
    }
   ],
   "source": [
    "print(dy)"
   ]
  },
  {
   "cell_type": "code",
   "execution_count": 11,
   "id": "848faffd",
   "metadata": {},
   "outputs": [
    {
     "ename": "NameError",
     "evalue": "name 'mr' is not defined",
     "output_type": "error",
     "traceback": [
      "\u001b[1;31m---------------------------------------------------------------------------\u001b[0m",
      "\u001b[1;31mNameError\u001b[0m                                 Traceback (most recent call last)",
      "Input \u001b[1;32mIn [11]\u001b[0m, in \u001b[0;36m<cell line: 1>\u001b[1;34m()\u001b[0m\n\u001b[1;32m----> 1\u001b[0m \u001b[43mmr\u001b[49m\n",
      "\u001b[1;31mNameError\u001b[0m: name 'mr' is not defined"
     ]
    }
   ],
   "source": [
    "mr"
   ]
  },
  {
   "cell_type": "code",
   "execution_count": 12,
   "id": "6926588e",
   "metadata": {},
   "outputs": [
    {
     "data": {
      "text/plain": [
       "567"
      ]
     },
     "execution_count": 12,
     "metadata": {},
     "output_type": "execute_result"
    }
   ],
   "source": [
    "appa"
   ]
  },
  {
   "cell_type": "code",
   "execution_count": 4,
   "id": "7e7a5da7",
   "metadata": {},
   "outputs": [
    {
     "name": "stdout",
     "output_type": "stream",
     "text": [
      "65\n",
      "deey boss\n"
     ]
    }
   ],
   "source": [
    "radha='go to police'\n",
    "def my_name():\n",
    "    c=65\n",
    "    d='deey boss'\n",
    "    print(c)\n",
    "    print(d)\n",
    "my_name()"
   ]
  },
  {
   "cell_type": "code",
   "execution_count": 14,
   "id": "5c9145fe",
   "metadata": {},
   "outputs": [
    {
     "data": {
      "text/plain": [
       "'go to police'"
      ]
     },
     "execution_count": 14,
     "metadata": {},
     "output_type": "execute_result"
    }
   ],
   "source": [
    "radha"
   ]
  },
  {
   "cell_type": "code",
   "execution_count": 15,
   "id": "3fa5a14d",
   "metadata": {},
   "outputs": [
    {
     "name": "stdout",
     "output_type": "stream",
     "text": [
      "go to police\n"
     ]
    }
   ],
   "source": [
    "print(radha)"
   ]
  },
  {
   "cell_type": "code",
   "execution_count": 45,
   "id": "c57fe1f3",
   "metadata": {},
   "outputs": [
    {
     "name": "stdout",
     "output_type": "stream",
     "text": [
      "adi shakti\n",
      "45 ki dadi\n"
     ]
    }
   ],
   "source": [
    "m1='ramm ki bajuri bajegi'\n",
    "def remo_babu():\n",
    "    ae='adi shakti'\n",
    "    be='45 ki dadi'\n",
    "    print(ae)\n",
    "    print(be)\n",
    "remo_babu()    "
   ]
  },
  {
   "cell_type": "code",
   "execution_count": 46,
   "id": "6fa03009",
   "metadata": {},
   "outputs": [
    {
     "data": {
      "text/plain": [
       "'ramm ki bajuri bajegi'"
      ]
     },
     "execution_count": 46,
     "metadata": {},
     "output_type": "execute_result"
    }
   ],
   "source": [
    "m1"
   ]
  },
  {
   "cell_type": "code",
   "execution_count": 48,
   "id": "f9277522",
   "metadata": {},
   "outputs": [
    {
     "ename": "SyntaxError",
     "evalue": "invalid syntax (3076086970.py, line 2)",
     "output_type": "error",
     "traceback": [
      "\u001b[1;36m  Input \u001b[1;32mIn [48]\u001b[1;36m\u001b[0m\n\u001b[1;33m    def remo%babu():\u001b[0m\n\u001b[1;37m            ^\u001b[0m\n\u001b[1;31mSyntaxError\u001b[0m\u001b[1;31m:\u001b[0m invalid syntax\n"
     ]
    }
   ],
   "source": [
    "m1='ramm ki bajuri bajegi'\n",
    "def remo%babu():\n",
    "    ae='adi shakti'\n",
    "    be='45 ki dadi'\n",
    "    print(ae)\n",
    "    print(be)\n",
    "remo%babu()    "
   ]
  },
  {
   "cell_type": "raw",
   "id": "505f5828",
   "metadata": {},
   "source": [
    "indentation: it means blank space whereever before code of line in python or after code"
   ]
  },
  {
   "cell_type": "code",
   "execution_count": 8,
   "id": "a531b6cf",
   "metadata": {},
   "outputs": [],
   "source": [
    "a=5"
   ]
  },
  {
   "cell_type": "code",
   "execution_count": 9,
   "id": "123993dd",
   "metadata": {},
   "outputs": [
    {
     "data": {
      "text/plain": [
       "5"
      ]
     },
     "execution_count": 9,
     "metadata": {},
     "output_type": "execute_result"
    }
   ],
   "source": [
    "a"
   ]
  },
  {
   "cell_type": "code",
   "execution_count": 16,
   "id": "f1e0ac64",
   "metadata": {},
   "outputs": [],
   "source": [
    "a=5\n",
    "b=14\n",
    "v=56\n",
    "d=45"
   ]
  },
  {
   "cell_type": "code",
   "execution_count": 11,
   "id": "d60df6d4",
   "metadata": {},
   "outputs": [
    {
     "data": {
      "text/plain": [
       "5"
      ]
     },
     "execution_count": 11,
     "metadata": {},
     "output_type": "execute_result"
    }
   ],
   "source": [
    "a"
   ]
  },
  {
   "cell_type": "code",
   "execution_count": 12,
   "id": "f6b6f330",
   "metadata": {},
   "outputs": [
    {
     "data": {
      "text/plain": [
       "14"
      ]
     },
     "execution_count": 12,
     "metadata": {},
     "output_type": "execute_result"
    }
   ],
   "source": [
    "b"
   ]
  },
  {
   "cell_type": "code",
   "execution_count": 13,
   "id": "bb6eae8e",
   "metadata": {},
   "outputs": [
    {
     "data": {
      "text/plain": [
       "56"
      ]
     },
     "execution_count": 13,
     "metadata": {},
     "output_type": "execute_result"
    }
   ],
   "source": [
    "v"
   ]
  },
  {
   "cell_type": "code",
   "execution_count": 17,
   "id": "d3ce46a0",
   "metadata": {},
   "outputs": [
    {
     "data": {
      "text/plain": [
       "45"
      ]
     },
     "execution_count": 17,
     "metadata": {},
     "output_type": "execute_result"
    }
   ],
   "source": [
    "d"
   ]
  },
  {
   "cell_type": "code",
   "execution_count": 16,
   "id": "8ca9ca12",
   "metadata": {},
   "outputs": [
    {
     "data": {
      "text/plain": [
       "(5, 14, 56, 45)"
      ]
     },
     "execution_count": 16,
     "metadata": {},
     "output_type": "execute_result"
    }
   ],
   "source": [
    "a,b,v,d"
   ]
  },
  {
   "cell_type": "code",
   "execution_count": 18,
   "id": "8eb98eb4",
   "metadata": {},
   "outputs": [
    {
     "name": "stdout",
     "output_type": "stream",
     "text": [
      "5 14 56 45\n"
     ]
    }
   ],
   "source": [
    "print(a,b,v,d)"
   ]
  },
  {
   "cell_type": "code",
   "execution_count": 18,
   "id": "affacd0f",
   "metadata": {},
   "outputs": [],
   "source": [
    "a=b=v=d=100"
   ]
  },
  {
   "cell_type": "code",
   "execution_count": 19,
   "id": "f8ba3667",
   "metadata": {},
   "outputs": [
    {
     "data": {
      "text/plain": [
       "100"
      ]
     },
     "execution_count": 19,
     "metadata": {},
     "output_type": "execute_result"
    }
   ],
   "source": [
    "a"
   ]
  },
  {
   "cell_type": "code",
   "execution_count": 20,
   "id": "091e6fb8",
   "metadata": {},
   "outputs": [
    {
     "data": {
      "text/plain": [
       "100"
      ]
     },
     "execution_count": 20,
     "metadata": {},
     "output_type": "execute_result"
    }
   ],
   "source": [
    "b"
   ]
  },
  {
   "cell_type": "code",
   "execution_count": 21,
   "id": "bcbe4003",
   "metadata": {},
   "outputs": [
    {
     "data": {
      "text/plain": [
       "100"
      ]
     },
     "execution_count": 21,
     "metadata": {},
     "output_type": "execute_result"
    }
   ],
   "source": [
    "v"
   ]
  },
  {
   "cell_type": "code",
   "execution_count": 22,
   "id": "de2e6fa5",
   "metadata": {},
   "outputs": [
    {
     "data": {
      "text/plain": [
       "(100, 100, 100, 100)"
      ]
     },
     "execution_count": 22,
     "metadata": {},
     "output_type": "execute_result"
    }
   ],
   "source": [
    "a,b,v,d"
   ]
  },
  {
   "cell_type": "code",
   "execution_count": 21,
   "id": "35fff7c6",
   "metadata": {},
   "outputs": [],
   "source": [
    "a,b,c,d=1,2,3,4"
   ]
  },
  {
   "cell_type": "code",
   "execution_count": 22,
   "id": "fb11bf69",
   "metadata": {},
   "outputs": [
    {
     "data": {
      "text/plain": [
       "4"
      ]
     },
     "execution_count": 22,
     "metadata": {},
     "output_type": "execute_result"
    }
   ],
   "source": [
    "a\n",
    "b\n",
    "c\n",
    "d"
   ]
  },
  {
   "cell_type": "code",
   "execution_count": 25,
   "id": "4612102e",
   "metadata": {},
   "outputs": [
    {
     "data": {
      "text/plain": [
       "1"
      ]
     },
     "execution_count": 25,
     "metadata": {},
     "output_type": "execute_result"
    }
   ],
   "source": [
    "a"
   ]
  },
  {
   "cell_type": "code",
   "execution_count": 30,
   "id": "fb12b064",
   "metadata": {},
   "outputs": [
    {
     "data": {
      "text/plain": [
       "2"
      ]
     },
     "execution_count": 30,
     "metadata": {},
     "output_type": "execute_result"
    }
   ],
   "source": [
    "b"
   ]
  },
  {
   "cell_type": "code",
   "execution_count": 23,
   "id": "cd44ed8e",
   "metadata": {},
   "outputs": [
    {
     "data": {
      "text/plain": [
       "3"
      ]
     },
     "execution_count": 23,
     "metadata": {},
     "output_type": "execute_result"
    }
   ],
   "source": [
    "c"
   ]
  },
  {
   "cell_type": "code",
   "execution_count": 24,
   "id": "f2c76bbc",
   "metadata": {},
   "outputs": [
    {
     "data": {
      "text/plain": [
       "4"
      ]
     },
     "execution_count": 24,
     "metadata": {},
     "output_type": "execute_result"
    }
   ],
   "source": [
    "d"
   ]
  },
  {
   "cell_type": "code",
   "execution_count": 26,
   "id": "58b9bc6f",
   "metadata": {},
   "outputs": [],
   "source": [
    "a=b=v=d=100,5,6,8"
   ]
  },
  {
   "cell_type": "code",
   "execution_count": 27,
   "id": "32b38f01",
   "metadata": {},
   "outputs": [
    {
     "data": {
      "text/plain": [
       "(100, 5, 6, 8)"
      ]
     },
     "execution_count": 27,
     "metadata": {},
     "output_type": "execute_result"
    }
   ],
   "source": [
    "a"
   ]
  },
  {
   "cell_type": "code",
   "execution_count": 28,
   "id": "573c9832",
   "metadata": {},
   "outputs": [
    {
     "data": {
      "text/plain": [
       "(100, 5, 6, 8)"
      ]
     },
     "execution_count": 28,
     "metadata": {},
     "output_type": "execute_result"
    }
   ],
   "source": [
    "b"
   ]
  },
  {
   "cell_type": "markdown",
   "id": "83de4e95",
   "metadata": {},
   "source": [
    "### delete variable"
   ]
  },
  {
   "cell_type": "markdown",
   "id": "25636426",
   "metadata": {},
   "source": [
    "del >> with this key word we can delete the variable."
   ]
  },
  {
   "cell_type": "code",
   "execution_count": 36,
   "id": "68fca4b8",
   "metadata": {},
   "outputs": [],
   "source": [
    "a=56,46,78"
   ]
  },
  {
   "cell_type": "code",
   "execution_count": 37,
   "id": "b9fcadd8",
   "metadata": {},
   "outputs": [
    {
     "data": {
      "text/plain": [
       "(56, 46, 78)"
      ]
     },
     "execution_count": 37,
     "metadata": {},
     "output_type": "execute_result"
    }
   ],
   "source": [
    "a"
   ]
  },
  {
   "cell_type": "code",
   "execution_count": 5,
   "id": "5fc36e2e",
   "metadata": {},
   "outputs": [
    {
     "name": "stdout",
     "output_type": "stream",
     "text": [
      "sarebjaha se acha hindustan hamara\n"
     ]
    }
   ],
   "source": [
    "b='sarebjaha se acha hindustan hamara'\n",
    "print(b)"
   ]
  },
  {
   "cell_type": "code",
   "execution_count": 11,
   "id": "a0bf7977",
   "metadata": {},
   "outputs": [],
   "source": [
    "b='sarebjaha se acha hindustan hamara'\n",
    "del b"
   ]
  },
  {
   "cell_type": "code",
   "execution_count": 7,
   "id": "7e192e7f",
   "metadata": {},
   "outputs": [
    {
     "ename": "NameError",
     "evalue": "name 'b' is not defined",
     "output_type": "error",
     "traceback": [
      "\u001b[1;31m---------------------------------------------------------------------------\u001b[0m",
      "\u001b[1;31mNameError\u001b[0m                                 Traceback (most recent call last)",
      "Input \u001b[1;32mIn [7]\u001b[0m, in \u001b[0;36m<cell line: 1>\u001b[1;34m()\u001b[0m\n\u001b[1;32m----> 1\u001b[0m \u001b[38;5;28mprint\u001b[39m(\u001b[43mb\u001b[49m)\n",
      "\u001b[1;31mNameError\u001b[0m: name 'b' is not defined"
     ]
    }
   ],
   "source": [
    "print(b)"
   ]
  },
  {
   "cell_type": "code",
   "execution_count": 2,
   "id": "4c3926d1",
   "metadata": {},
   "outputs": [
    {
     "data": {
      "text/plain": [
       "'sarebjaha se acha hindustan hamara'"
      ]
     },
     "execution_count": 2,
     "metadata": {},
     "output_type": "execute_result"
    }
   ],
   "source": [
    "b='sarebjaha se acha hindustan hamara'\n",
    "b"
   ]
  },
  {
   "cell_type": "code",
   "execution_count": 40,
   "id": "f3414d31",
   "metadata": {},
   "outputs": [
    {
     "data": {
      "text/plain": [
       "'sarebjaha se acha hindustan hamara'"
      ]
     },
     "execution_count": 40,
     "metadata": {},
     "output_type": "execute_result"
    }
   ],
   "source": [
    "b"
   ]
  },
  {
   "cell_type": "code",
   "execution_count": 42,
   "id": "520f8e2f",
   "metadata": {},
   "outputs": [],
   "source": [
    "del b"
   ]
  },
  {
   "cell_type": "code",
   "execution_count": 43,
   "id": "00d19d3a",
   "metadata": {},
   "outputs": [
    {
     "ename": "NameError",
     "evalue": "name 'b' is not defined",
     "output_type": "error",
     "traceback": [
      "\u001b[1;31m---------------------------------------------------------------------------\u001b[0m",
      "\u001b[1;31mNameError\u001b[0m                                 Traceback (most recent call last)",
      "Input \u001b[1;32mIn [43]\u001b[0m, in \u001b[0;36m<cell line: 1>\u001b[1;34m()\u001b[0m\n\u001b[1;32m----> 1\u001b[0m \u001b[43mb\u001b[49m\n",
      "\u001b[1;31mNameError\u001b[0m: name 'b' is not defined"
     ]
    }
   ],
   "source": [
    "b"
   ]
  },
  {
   "cell_type": "code",
   "execution_count": 44,
   "id": "a9a62b4f",
   "metadata": {},
   "outputs": [],
   "source": [
    "del a"
   ]
  },
  {
   "cell_type": "code",
   "execution_count": 47,
   "id": "d857472e",
   "metadata": {},
   "outputs": [
    {
     "ename": "NameError",
     "evalue": "name 'a' is not defined",
     "output_type": "error",
     "traceback": [
      "\u001b[1;31m---------------------------------------------------------------------------\u001b[0m",
      "\u001b[1;31mNameError\u001b[0m                                 Traceback (most recent call last)",
      "Input \u001b[1;32mIn [47]\u001b[0m, in \u001b[0;36m<cell line: 1>\u001b[1;34m()\u001b[0m\n\u001b[1;32m----> 1\u001b[0m \u001b[43ma\u001b[49m\n",
      "\u001b[1;31mNameError\u001b[0m: name 'a' is not defined"
     ]
    }
   ],
   "source": [
    "a"
   ]
  },
  {
   "cell_type": "code",
   "execution_count": 29,
   "id": "32524100",
   "metadata": {},
   "outputs": [],
   "source": [
    "mom='kahah hai mera_lal 56 $ vah'"
   ]
  },
  {
   "cell_type": "code",
   "execution_count": 30,
   "id": "3a97e2e0",
   "metadata": {},
   "outputs": [
    {
     "data": {
      "text/plain": [
       "'kahah hai mera_lal 56 $ vah'"
      ]
     },
     "execution_count": 30,
     "metadata": {},
     "output_type": "execute_result"
    }
   ],
   "source": [
    "mom"
   ]
  },
  {
   "cell_type": "code",
   "execution_count": 31,
   "id": "0de3bc5f",
   "metadata": {},
   "outputs": [],
   "source": [
    "del(mom)"
   ]
  },
  {
   "cell_type": "code",
   "execution_count": 32,
   "id": "f3739369",
   "metadata": {},
   "outputs": [
    {
     "ename": "NameError",
     "evalue": "name 'mom' is not defined",
     "output_type": "error",
     "traceback": [
      "\u001b[1;31m---------------------------------------------------------------------------\u001b[0m",
      "\u001b[1;31mNameError\u001b[0m                                 Traceback (most recent call last)",
      "Input \u001b[1;32mIn [32]\u001b[0m, in \u001b[0;36m<cell line: 1>\u001b[1;34m()\u001b[0m\n\u001b[1;32m----> 1\u001b[0m \u001b[43mmom\u001b[49m\n",
      "\u001b[1;31mNameError\u001b[0m: name 'mom' is not defined"
     ]
    }
   ],
   "source": [
    "mom"
   ]
  },
  {
   "cell_type": "code",
   "execution_count": 33,
   "id": "87395992",
   "metadata": {},
   "outputs": [],
   "source": [
    "mom='kahah hai mera_lal 56 $ vah'"
   ]
  },
  {
   "cell_type": "code",
   "execution_count": 34,
   "id": "b1f279a5",
   "metadata": {},
   "outputs": [
    {
     "data": {
      "text/plain": [
       "'kahah hai mera_lal 56 $ vah'"
      ]
     },
     "execution_count": 34,
     "metadata": {},
     "output_type": "execute_result"
    }
   ],
   "source": [
    "mom"
   ]
  },
  {
   "cell_type": "code",
   "execution_count": 35,
   "id": "97a5dafc",
   "metadata": {},
   "outputs": [],
   "source": [
    "del mom"
   ]
  },
  {
   "cell_type": "code",
   "execution_count": 36,
   "id": "c0597d1c",
   "metadata": {},
   "outputs": [
    {
     "ename": "NameError",
     "evalue": "name 'mom' is not defined",
     "output_type": "error",
     "traceback": [
      "\u001b[1;31m---------------------------------------------------------------------------\u001b[0m",
      "\u001b[1;31mNameError\u001b[0m                                 Traceback (most recent call last)",
      "Input \u001b[1;32mIn [36]\u001b[0m, in \u001b[0;36m<cell line: 1>\u001b[1;34m()\u001b[0m\n\u001b[1;32m----> 1\u001b[0m \u001b[43mmom\u001b[49m\n",
      "\u001b[1;31mNameError\u001b[0m: name 'mom' is not defined"
     ]
    }
   ],
   "source": [
    "mom"
   ]
  },
  {
   "cell_type": "code",
   "execution_count": 41,
   "id": "2da58674",
   "metadata": {},
   "outputs": [],
   "source": [
    "mom='kahah hai mera_lal 56 $ vah'"
   ]
  },
  {
   "cell_type": "code",
   "execution_count": 43,
   "id": "c4e10d68",
   "metadata": {},
   "outputs": [
    {
     "data": {
      "text/plain": [
       "'kahah hai mera_lal 56 $ vah'"
      ]
     },
     "execution_count": 43,
     "metadata": {},
     "output_type": "execute_result"
    }
   ],
   "source": [
    "mom"
   ]
  },
  {
   "cell_type": "code",
   "execution_count": 44,
   "id": "919ab344",
   "metadata": {},
   "outputs": [
    {
     "ename": "SyntaxError",
     "evalue": "invalid syntax (3701620311.py, line 1)",
     "output_type": "error",
     "traceback": [
      "\u001b[1;36m  Input \u001b[1;32mIn [44]\u001b[1;36m\u001b[0m\n\u001b[1;33m    print(del(mom))\u001b[0m\n\u001b[1;37m          ^\u001b[0m\n\u001b[1;31mSyntaxError\u001b[0m\u001b[1;31m:\u001b[0m invalid syntax\n"
     ]
    }
   ],
   "source": [
    "print(del(mom))"
   ]
  },
  {
   "cell_type": "code",
   "execution_count": null,
   "id": "212f54f3",
   "metadata": {},
   "outputs": [],
   "source": []
  }
 ],
 "metadata": {
  "kernelspec": {
   "display_name": "Python 3 (ipykernel)",
   "language": "python",
   "name": "python3"
  },
  "language_info": {
   "codemirror_mode": {
    "name": "ipython",
    "version": 3
   },
   "file_extension": ".py",
   "mimetype": "text/x-python",
   "name": "python",
   "nbconvert_exporter": "python",
   "pygments_lexer": "ipython3",
   "version": "3.9.12"
  }
 },
 "nbformat": 4,
 "nbformat_minor": 5
}
