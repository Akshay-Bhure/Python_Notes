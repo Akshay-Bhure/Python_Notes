{
 "cells": [
  {
   "cell_type": "markdown",
   "id": "a43a9ef8",
   "metadata": {},
   "source": [
    "### print statement"
   ]
  },
  {
   "cell_type": "raw",
   "id": "8fbc17f1",
   "metadata": {},
   "source": [
    "print('Addition of a and b is :', d) # a and b are behaving as a string here\n",
    "print('Addition of', a , 'and', b ,'is :', d) # a and b are behaving as a variable here\n",
    "print('Addition of {} and {} is {}'.format(c,b,a))# values should be in a proper sequence."
   ]
  },
  {
   "cell_type": "code",
   "execution_count": 1,
   "id": "9d69c7f4",
   "metadata": {},
   "outputs": [
    {
     "name": "stdout",
     "output_type": "stream",
     "text": [
      "56\n"
     ]
    }
   ],
   "source": [
    "a=56\n",
    "b=67\n",
    "a\n",
    "print(a)"
   ]
  },
  {
   "cell_type": "code",
   "execution_count": 2,
   "id": "143e8a2b",
   "metadata": {},
   "outputs": [
    {
     "data": {
      "text/plain": [
       "56"
      ]
     },
     "execution_count": 2,
     "metadata": {},
     "output_type": "execute_result"
    }
   ],
   "source": [
    "a"
   ]
  },
  {
   "cell_type": "code",
   "execution_count": 3,
   "id": "da1dc3f4",
   "metadata": {},
   "outputs": [
    {
     "name": "stdout",
     "output_type": "stream",
     "text": [
      "56\n"
     ]
    }
   ],
   "source": [
    "print(a)"
   ]
  },
  {
   "cell_type": "code",
   "execution_count": 4,
   "id": "fe710adb",
   "metadata": {},
   "outputs": [
    {
     "name": "stdout",
     "output_type": "stream",
     "text": [
      "56\n"
     ]
    }
   ],
   "source": [
    "a=56\n",
    "b=67\n",
    "a\n",
    "b\n",
    "print(a)"
   ]
  },
  {
   "cell_type": "code",
   "execution_count": 5,
   "id": "2ac560fd",
   "metadata": {},
   "outputs": [
    {
     "name": "stdout",
     "output_type": "stream",
     "text": [
      "56\n"
     ]
    }
   ],
   "source": [
    "a=56\n",
    "b=67\n",
    "b\n",
    "b\n",
    "print(a)"
   ]
  },
  {
   "cell_type": "code",
   "execution_count": 6,
   "id": "73f94777",
   "metadata": {},
   "outputs": [
    {
     "name": "stdout",
     "output_type": "stream",
     "text": [
      "67\n"
     ]
    }
   ],
   "source": [
    "a=56\n",
    "b=67\n",
    "a\n",
    "b\n",
    "print(b)"
   ]
  },
  {
   "cell_type": "code",
   "execution_count": 3,
   "id": "1649c93f",
   "metadata": {},
   "outputs": [
    {
     "name": "stdout",
     "output_type": "stream",
     "text": [
      "67\n"
     ]
    }
   ],
   "source": [
    "a=56\n",
    "b=67\n",
    "a\n",
    "b\n",
    "print(b)"
   ]
  },
  {
   "cell_type": "code",
   "execution_count": 2,
   "id": "82b99ec8",
   "metadata": {},
   "outputs": [
    {
     "name": "stdout",
     "output_type": "stream",
     "text": [
      "67\n"
     ]
    },
    {
     "data": {
      "text/plain": [
       "56"
      ]
     },
     "execution_count": 2,
     "metadata": {},
     "output_type": "execute_result"
    }
   ],
   "source": [
    "a=56\n",
    "b=67\n",
    "print(b)\n",
    "a"
   ]
  },
  {
   "cell_type": "code",
   "execution_count": 8,
   "id": "53cbc3bb",
   "metadata": {},
   "outputs": [
    {
     "data": {
      "text/plain": [
       "67"
      ]
     },
     "execution_count": 8,
     "metadata": {},
     "output_type": "execute_result"
    }
   ],
   "source": [
    "a=56\n",
    "b=67\n",
    "a\n",
    "b\n"
   ]
  },
  {
   "cell_type": "code",
   "execution_count": 9,
   "id": "a2a28a3c",
   "metadata": {},
   "outputs": [
    {
     "name": "stdout",
     "output_type": "stream",
     "text": [
      "56\n"
     ]
    }
   ],
   "source": [
    "a=56\n",
    "b=67\n",
    "a\n",
    "b\n",
    "print(a)"
   ]
  },
  {
   "cell_type": "code",
   "execution_count": 10,
   "id": "8acc21a2",
   "metadata": {},
   "outputs": [
    {
     "data": {
      "text/plain": [
       "56"
      ]
     },
     "execution_count": 10,
     "metadata": {},
     "output_type": "execute_result"
    }
   ],
   "source": [
    "a=56\n",
    "b=67\n",
    "a\n",
    "a\n"
   ]
  },
  {
   "cell_type": "code",
   "execution_count": 11,
   "id": "45fc47c4",
   "metadata": {},
   "outputs": [
    {
     "data": {
      "text/plain": [
       "67"
      ]
     },
     "execution_count": 11,
     "metadata": {},
     "output_type": "execute_result"
    }
   ],
   "source": [
    "a=56\n",
    "b=67\n",
    "a\n",
    "b\n"
   ]
  },
  {
   "cell_type": "code",
   "execution_count": 12,
   "id": "44b8a2f3",
   "metadata": {},
   "outputs": [
    {
     "data": {
      "text/plain": [
       "56"
      ]
     },
     "execution_count": 12,
     "metadata": {},
     "output_type": "execute_result"
    }
   ],
   "source": [
    "a=56\n",
    "b=67\n",
    "b\n",
    "a\n"
   ]
  },
  {
   "cell_type": "code",
   "execution_count": 13,
   "id": "9167de39",
   "metadata": {},
   "outputs": [
    {
     "name": "stdout",
     "output_type": "stream",
     "text": [
      "56\n"
     ]
    }
   ],
   "source": [
    "a=56\n",
    "b=67\n",
    "b\n",
    "b\n",
    "print(a)"
   ]
  },
  {
   "cell_type": "code",
   "execution_count": 14,
   "id": "17d9e9d5",
   "metadata": {},
   "outputs": [
    {
     "data": {
      "text/plain": [
       "67"
      ]
     },
     "execution_count": 14,
     "metadata": {},
     "output_type": "execute_result"
    }
   ],
   "source": [
    "a=56\n",
    "b=67\n",
    "b\n",
    "b\n"
   ]
  },
  {
   "cell_type": "code",
   "execution_count": 15,
   "id": "96d08859",
   "metadata": {},
   "outputs": [
    {
     "data": {
      "text/plain": [
       "67"
      ]
     },
     "execution_count": 15,
     "metadata": {},
     "output_type": "execute_result"
    }
   ],
   "source": [
    "a=56\n",
    "b=67\n",
    "a\n",
    "b\n"
   ]
  },
  {
   "cell_type": "code",
   "execution_count": 1,
   "id": "35948e34",
   "metadata": {},
   "outputs": [
    {
     "data": {
      "text/plain": [
       "56"
      ]
     },
     "execution_count": 1,
     "metadata": {},
     "output_type": "execute_result"
    }
   ],
   "source": [
    "a=56\n",
    "b=67\n",
    "b\n",
    "a\n"
   ]
  },
  {
   "cell_type": "code",
   "execution_count": 2,
   "id": "9561c96d",
   "metadata": {},
   "outputs": [
    {
     "data": {
      "text/plain": [
       "False"
      ]
     },
     "execution_count": 2,
     "metadata": {},
     "output_type": "execute_result"
    }
   ],
   "source": [
    "a==b"
   ]
  },
  {
   "cell_type": "code",
   "execution_count": 3,
   "id": "22c9b1ff",
   "metadata": {},
   "outputs": [
    {
     "data": {
      "text/plain": [
       "True"
      ]
     },
     "execution_count": 3,
     "metadata": {},
     "output_type": "execute_result"
    }
   ],
   "source": [
    "a!=b"
   ]
  },
  {
   "cell_type": "code",
   "execution_count": 18,
   "id": "66449cad",
   "metadata": {},
   "outputs": [
    {
     "data": {
      "text/plain": [
       "True"
      ]
     },
     "execution_count": 18,
     "metadata": {},
     "output_type": "execute_result"
    }
   ],
   "source": [
    "a<b"
   ]
  },
  {
   "cell_type": "code",
   "execution_count": 19,
   "id": "c86962e0",
   "metadata": {},
   "outputs": [
    {
     "data": {
      "text/plain": [
       "True"
      ]
     },
     "execution_count": 19,
     "metadata": {},
     "output_type": "execute_result"
    }
   ],
   "source": [
    "b>a"
   ]
  },
  {
   "cell_type": "code",
   "execution_count": 20,
   "id": "2c3a506f",
   "metadata": {},
   "outputs": [
    {
     "data": {
      "text/plain": [
       "False"
      ]
     },
     "execution_count": 20,
     "metadata": {},
     "output_type": "execute_result"
    }
   ],
   "source": [
    "a>b"
   ]
  },
  {
   "cell_type": "code",
   "execution_count": 21,
   "id": "41b6d6fd",
   "metadata": {},
   "outputs": [],
   "source": [
    "c=677"
   ]
  },
  {
   "cell_type": "code",
   "execution_count": 22,
   "id": "98dc607d",
   "metadata": {},
   "outputs": [
    {
     "data": {
      "text/plain": [
       "677"
      ]
     },
     "execution_count": 22,
     "metadata": {},
     "output_type": "execute_result"
    }
   ],
   "source": [
    "c"
   ]
  },
  {
   "cell_type": "code",
   "execution_count": 23,
   "id": "50383cce",
   "metadata": {},
   "outputs": [
    {
     "data": {
      "text/plain": [
       "True"
      ]
     },
     "execution_count": 23,
     "metadata": {},
     "output_type": "execute_result"
    }
   ],
   "source": [
    "c>a"
   ]
  },
  {
   "cell_type": "code",
   "execution_count": 24,
   "id": "125fb2d7",
   "metadata": {},
   "outputs": [
    {
     "data": {
      "text/plain": [
       "False"
      ]
     },
     "execution_count": 24,
     "metadata": {},
     "output_type": "execute_result"
    }
   ],
   "source": [
    "c<b"
   ]
  },
  {
   "cell_type": "code",
   "execution_count": 25,
   "id": "de3216d5",
   "metadata": {},
   "outputs": [
    {
     "name": "stdout",
     "output_type": "stream",
     "text": [
      "hasina\n"
     ]
    }
   ],
   "source": [
    "dynamo='powerfull'\n",
    "catrina='hasina'\n",
    "venkatesh=45\n",
    "dynamo\n",
    "print(catrina)"
   ]
  },
  {
   "cell_type": "code",
   "execution_count": 26,
   "id": "2b357f15",
   "metadata": {},
   "outputs": [
    {
     "name": "stdout",
     "output_type": "stream",
     "text": [
      "powerfull\n"
     ]
    }
   ],
   "source": [
    "print(dynamo)"
   ]
  },
  {
   "cell_type": "code",
   "execution_count": 27,
   "id": "bbed674d",
   "metadata": {},
   "outputs": [
    {
     "data": {
      "text/plain": [
       "45"
      ]
     },
     "execution_count": 27,
     "metadata": {},
     "output_type": "execute_result"
    }
   ],
   "source": [
    "venkatesh"
   ]
  },
  {
   "cell_type": "code",
   "execution_count": 28,
   "id": "bce206e9",
   "metadata": {},
   "outputs": [
    {
     "name": "stdout",
     "output_type": "stream",
     "text": [
      "56 67 677\n"
     ]
    }
   ],
   "source": [
    "print(a,b,c)"
   ]
  },
  {
   "cell_type": "code",
   "execution_count": 29,
   "id": "adada982",
   "metadata": {},
   "outputs": [
    {
     "data": {
      "text/plain": [
       "(56, 67, 677)"
      ]
     },
     "execution_count": 29,
     "metadata": {},
     "output_type": "execute_result"
    }
   ],
   "source": [
    "a,b,c"
   ]
  },
  {
   "cell_type": "code",
   "execution_count": 30,
   "id": "ab50b472",
   "metadata": {},
   "outputs": [
    {
     "data": {
      "text/plain": [
       "800"
      ]
     },
     "execution_count": 30,
     "metadata": {},
     "output_type": "execute_result"
    }
   ],
   "source": [
    "a+b+c"
   ]
  },
  {
   "cell_type": "code",
   "execution_count": 31,
   "id": "8c3849b5",
   "metadata": {},
   "outputs": [],
   "source": [
    "d=a+b+c"
   ]
  },
  {
   "cell_type": "code",
   "execution_count": 32,
   "id": "31db68a0",
   "metadata": {},
   "outputs": [
    {
     "data": {
      "text/plain": [
       "800"
      ]
     },
     "execution_count": 32,
     "metadata": {},
     "output_type": "execute_result"
    }
   ],
   "source": [
    "d"
   ]
  },
  {
   "cell_type": "code",
   "execution_count": 33,
   "id": "18bd3b1b",
   "metadata": {},
   "outputs": [
    {
     "name": "stdout",
     "output_type": "stream",
     "text": [
      "800\n"
     ]
    }
   ],
   "source": [
    "print(d)"
   ]
  },
  {
   "cell_type": "markdown",
   "id": "d64b65e8",
   "metadata": {},
   "source": [
    "### R string"
   ]
  },
  {
   "cell_type": "code",
   "execution_count": 34,
   "id": "78775718",
   "metadata": {},
   "outputs": [
    {
     "name": "stdout",
     "output_type": "stream",
     "text": [
      "addition of a and b\n"
     ]
    }
   ],
   "source": [
    "print('addition of a and b')"
   ]
  },
  {
   "cell_type": "code",
   "execution_count": 35,
   "id": "7f1fa300",
   "metadata": {},
   "outputs": [
    {
     "name": "stdout",
     "output_type": "stream",
     "text": [
      "addition of a and b: 800\n"
     ]
    }
   ],
   "source": [
    "print('addition of a and b:',d)"
   ]
  },
  {
   "cell_type": "code",
   "execution_count": 36,
   "id": "d6b419c4",
   "metadata": {},
   "outputs": [
    {
     "name": "stdout",
     "output_type": "stream",
     "text": [
      "adition of a and b is: 123\n"
     ]
    }
   ],
   "source": [
    "print('adition of a and b is:',a+b)"
   ]
  },
  {
   "cell_type": "code",
   "execution_count": 37,
   "id": "de1d630d",
   "metadata": {},
   "outputs": [
    {
     "ename": "SyntaxError",
     "evalue": "invalid syntax (2992633403.py, line 1)",
     "output_type": "error",
     "traceback": [
      "\u001b[1;36m  Input \u001b[1;32mIn [37]\u001b[1;36m\u001b[0m\n\u001b[1;33m    print('adition of a and b is:'a+b)\u001b[0m\n\u001b[1;37m                                  ^\u001b[0m\n\u001b[1;31mSyntaxError\u001b[0m\u001b[1;31m:\u001b[0m invalid syntax\n"
     ]
    }
   ],
   "source": [
    "print('adition of a and b is:'a+b)"
   ]
  },
  {
   "cell_type": "code",
   "execution_count": 79,
   "id": "bf877736",
   "metadata": {},
   "outputs": [
    {
     "ename": "SyntaxError",
     "evalue": "EOL while scanning string literal (958103636.py, line 1)",
     "output_type": "error",
     "traceback": [
      "\u001b[1;36m  Input \u001b[1;32mIn [79]\u001b[1;36m\u001b[0m\n\u001b[1;33m    print('adition of a and b is:,a+b)\u001b[0m\n\u001b[1;37m                                      ^\u001b[0m\n\u001b[1;31mSyntaxError\u001b[0m\u001b[1;31m:\u001b[0m EOL while scanning string literal\n"
     ]
    }
   ],
   "source": [
    "print('adition of a and b is:,a+b)"
   ]
  },
  {
   "cell_type": "code",
   "execution_count": 80,
   "id": "108093ef",
   "metadata": {},
   "outputs": [
    {
     "name": "stdout",
     "output_type": "stream",
     "text": [
      "adition of a and b is 135\n"
     ]
    }
   ],
   "source": [
    "print('adition of a and b is',a+b)"
   ]
  },
  {
   "cell_type": "code",
   "execution_count": 81,
   "id": "82023b81",
   "metadata": {},
   "outputs": [
    {
     "name": "stdout",
     "output_type": "stream",
     "text": [
      "adition of a and b is = 135\n"
     ]
    }
   ],
   "source": [
    "print('adition of a and b is =',a+b)"
   ]
  },
  {
   "cell_type": "code",
   "execution_count": 82,
   "id": "d8f1d017",
   "metadata": {},
   "outputs": [
    {
     "name": "stdout",
     "output_type": "stream",
     "text": [
      "addition of 57 and 78 is: 135\n"
     ]
    }
   ],
   "source": [
    "print('addition of',a,'and',b,'is:',d)"
   ]
  },
  {
   "cell_type": "code",
   "execution_count": 1,
   "id": "b97245d8",
   "metadata": {},
   "outputs": [
    {
     "data": {
      "text/plain": [
       "799"
      ]
     },
     "execution_count": 1,
     "metadata": {},
     "output_type": "execute_result"
    }
   ],
   "source": [
    "a=45\n",
    "b=76\n",
    "c=678\n",
    "a+b+c"
   ]
  },
  {
   "cell_type": "markdown",
   "id": "9b37931e",
   "metadata": {},
   "source": [
    "### f-string"
   ]
  },
  {
   "cell_type": "code",
   "execution_count": 1,
   "id": "ac6ec860",
   "metadata": {},
   "outputs": [
    {
     "name": "stdout",
     "output_type": "stream",
     "text": [
      "799\n"
     ]
    }
   ],
   "source": [
    "a=45\n",
    "b=76\n",
    "c=678\n",
    "m=a+b+c\n",
    "a+b+c\n",
    "print(a+b+c)"
   ]
  },
  {
   "cell_type": "code",
   "execution_count": 85,
   "id": "bbabd376",
   "metadata": {},
   "outputs": [
    {
     "name": "stdout",
     "output_type": "stream",
     "text": [
      "addition of 45 and 76 and 678 is = 799\n"
     ]
    }
   ],
   "source": [
    "print(f\"addition of {a} and {b} and {c} is = {m}\")"
   ]
  },
  {
   "cell_type": "code",
   "execution_count": 86,
   "id": "b58b20f1",
   "metadata": {},
   "outputs": [
    {
     "name": "stdout",
     "output_type": "stream",
     "text": [
      "addition of 45 and 76 and 678 is = 799\n"
     ]
    }
   ],
   "source": [
    "print(f'addition of {a} and {b} and {c} is = {m}')"
   ]
  },
  {
   "cell_type": "code",
   "execution_count": 87,
   "id": "7201e060",
   "metadata": {},
   "outputs": [
    {
     "name": "stdout",
     "output_type": "stream",
     "text": [
      "addition of 45 and 76 and c is = m\n"
     ]
    }
   ],
   "source": [
    "print(f'addition of {a} and {b} and c is = m')"
   ]
  },
  {
   "cell_type": "code",
   "execution_count": 88,
   "id": "bbf81d17",
   "metadata": {},
   "outputs": [
    {
     "name": "stdout",
     "output_type": "stream",
     "text": [
      "addition of 45 and 76 and c is = 799\n"
     ]
    }
   ],
   "source": [
    "print(f'addition of {a} and {b} and c is = {m}')"
   ]
  },
  {
   "cell_type": "code",
   "execution_count": 89,
   "id": "230a22a5",
   "metadata": {},
   "outputs": [
    {
     "name": "stdout",
     "output_type": "stream",
     "text": [
      "45+76+678\n"
     ]
    }
   ],
   "source": [
    "print(f'{a}+{b}+{c}')"
   ]
  },
  {
   "cell_type": "code",
   "execution_count": 90,
   "id": "e7603e4f",
   "metadata": {},
   "outputs": [
    {
     "name": "stdout",
     "output_type": "stream",
     "text": [
      "45*76*678\n"
     ]
    }
   ],
   "source": [
    "print(f\"{a}*{b}*{c}\")"
   ]
  },
  {
   "cell_type": "code",
   "execution_count": 91,
   "id": "b9ba75bd",
   "metadata": {},
   "outputs": [
    {
     "name": "stdout",
     "output_type": "stream",
     "text": [
      "45+76+678=799\n"
     ]
    }
   ],
   "source": [
    "print(f'{a}+{b}+{c}={m}')"
   ]
  },
  {
   "cell_type": "code",
   "execution_count": 3,
   "id": "1e4c3d9a",
   "metadata": {},
   "outputs": [],
   "source": [
    "m=a*b*c"
   ]
  },
  {
   "cell_type": "code",
   "execution_count": 93,
   "id": "5136d3b0",
   "metadata": {},
   "outputs": [
    {
     "name": "stdout",
     "output_type": "stream",
     "text": [
      "45*76*678=2318760\n"
     ]
    }
   ],
   "source": [
    "print(f\"{a}*{b}*{c}={m}\")"
   ]
  },
  {
   "cell_type": "code",
   "execution_count": 4,
   "id": "3f372ddd",
   "metadata": {},
   "outputs": [
    {
     "name": "stdout",
     "output_type": "stream",
     "text": [
      "multiplication of a and b and c is= 2318760\n"
     ]
    }
   ],
   "source": [
    "print('multiplication of a and b and c is=',m)"
   ]
  },
  {
   "cell_type": "code",
   "execution_count": 94,
   "id": "8ea3b7c9",
   "metadata": {
    "scrolled": true
   },
   "outputs": [
    {
     "name": "stdout",
     "output_type": "stream",
     "text": [
      "multiplication of 45 and 76 and 678 is= 2318760\n"
     ]
    }
   ],
   "source": [
    "print('multiplication of',a,'and',b, 'and',c, 'is=',m)"
   ]
  },
  {
   "cell_type": "code",
   "execution_count": 95,
   "id": "b6bc67d3",
   "metadata": {},
   "outputs": [
    {
     "name": "stdout",
     "output_type": "stream",
     "text": [
      "multiplication of 45 and 76 and 678 is = 2318760\n"
     ]
    }
   ],
   "source": [
    "print(F\"multiplication of {a} and {b} and {c} is = {m}\")"
   ]
  },
  {
   "cell_type": "markdown",
   "id": "d93f5905",
   "metadata": {},
   "source": [
    "### format string"
   ]
  },
  {
   "cell_type": "code",
   "execution_count": 5,
   "id": "aa98764f",
   "metadata": {},
   "outputs": [],
   "source": [
    "a=57\n",
    "b=78\n",
    "c=67\n",
    "d=a+b\n",
    "f=a+b+c"
   ]
  },
  {
   "cell_type": "code",
   "execution_count": 6,
   "id": "47fb7641",
   "metadata": {},
   "outputs": [
    {
     "name": "stdout",
     "output_type": "stream",
     "text": [
      "57 78 67\n"
     ]
    }
   ],
   "source": [
    "print(a,b,c)"
   ]
  },
  {
   "cell_type": "code",
   "execution_count": 7,
   "id": "14d057e6",
   "metadata": {},
   "outputs": [
    {
     "ename": "SyntaxError",
     "evalue": "unexpected EOF while parsing (101779742.py, line 1)",
     "output_type": "error",
     "traceback": [
      "\u001b[1;36m  Input \u001b[1;32mIn [7]\u001b[1;36m\u001b[0m\n\u001b[1;33m    print('addition of {} and {} and {} is {}'.format(a.b.c)\u001b[0m\n\u001b[1;37m                                                            ^\u001b[0m\n\u001b[1;31mSyntaxError\u001b[0m\u001b[1;31m:\u001b[0m unexpected EOF while parsing\n"
     ]
    }
   ],
   "source": [
    "print('addition of {} and {} and {} is {}'.format(a.b.c)"
   ]
  },
  {
   "cell_type": "code",
   "execution_count": 43,
   "id": "38d54f1a",
   "metadata": {},
   "outputs": [
    {
     "ename": "AttributeError",
     "evalue": "'int' object has no attribute 'b'",
     "output_type": "error",
     "traceback": [
      "\u001b[1;31m---------------------------------------------------------------------------\u001b[0m",
      "\u001b[1;31mAttributeError\u001b[0m                            Traceback (most recent call last)",
      "Input \u001b[1;32mIn [43]\u001b[0m, in \u001b[0;36m<cell line: 1>\u001b[1;34m()\u001b[0m\n\u001b[1;32m----> 1\u001b[0m \u001b[38;5;28mprint\u001b[39m(\u001b[38;5;124m'\u001b[39m\u001b[38;5;124maddition of \u001b[39m\u001b[38;5;132;01m{}\u001b[39;00m\u001b[38;5;124m and \u001b[39m\u001b[38;5;132;01m{}\u001b[39;00m\u001b[38;5;124m is \u001b[39m\u001b[38;5;132;01m{}\u001b[39;00m\u001b[38;5;124m'\u001b[39m\u001b[38;5;241m.\u001b[39mformat(\u001b[43ma\u001b[49m\u001b[38;5;241;43m.\u001b[39;49m\u001b[43mb\u001b[49m\u001b[38;5;241m.\u001b[39mc))\n",
      "\u001b[1;31mAttributeError\u001b[0m: 'int' object has no attribute 'b'"
     ]
    }
   ],
   "source": [
    "print('addition of {} and {} is {}'.format(a.b.c))"
   ]
  },
  {
   "cell_type": "code",
   "execution_count": 44,
   "id": "c44dc2d0",
   "metadata": {},
   "outputs": [
    {
     "ename": "AttributeError",
     "evalue": "'int' object has no attribute 'b'",
     "output_type": "error",
     "traceback": [
      "\u001b[1;31m---------------------------------------------------------------------------\u001b[0m",
      "\u001b[1;31mAttributeError\u001b[0m                            Traceback (most recent call last)",
      "Input \u001b[1;32mIn [44]\u001b[0m, in \u001b[0;36m<cell line: 1>\u001b[1;34m()\u001b[0m\n\u001b[1;32m----> 1\u001b[0m \u001b[38;5;28mprint\u001b[39m(\u001b[38;5;124m'\u001b[39m\u001b[38;5;124maddition of \u001b[39m\u001b[38;5;132;01m{}\u001b[39;00m\u001b[38;5;124m and \u001b[39m\u001b[38;5;132;01m{}\u001b[39;00m\u001b[38;5;124m is \u001b[39m\u001b[38;5;132;01m{}\u001b[39;00m\u001b[38;5;124m'\u001b[39m\u001b[38;5;241m.\u001b[39mformat(\u001b[43ma\u001b[49m\u001b[38;5;241;43m.\u001b[39;49m\u001b[43mb\u001b[49m\u001b[38;5;241m.\u001b[39mc))\n",
      "\u001b[1;31mAttributeError\u001b[0m: 'int' object has no attribute 'b'"
     ]
    }
   ],
   "source": [
    "print('addition of {} and {} is {}'.format(a.b.c))"
   ]
  },
  {
   "cell_type": "code",
   "execution_count": 61,
   "id": "1baf591f",
   "metadata": {},
   "outputs": [
    {
     "name": "stdout",
     "output_type": "stream",
     "text": [
      "addition of 57 and 78 is 135\n"
     ]
    }
   ],
   "source": [
    "print('addition of {} and {} is {}'.format(a,b,d))"
   ]
  },
  {
   "cell_type": "code",
   "execution_count": 64,
   "id": "b0bb3765",
   "metadata": {},
   "outputs": [
    {
     "name": "stdout",
     "output_type": "stream",
     "text": [
      "addition of 57 and 78 and 67 is 202\n"
     ]
    }
   ],
   "source": [
    "print(\"addition of {} and {} and {} is {}\".format(a,b,c,f))"
   ]
  },
  {
   "cell_type": "code",
   "execution_count": 65,
   "id": "0da58e93",
   "metadata": {},
   "outputs": [
    {
     "name": "stdout",
     "output_type": "stream",
     "text": [
      "addition of 57 and 67 and 78 is 202\n"
     ]
    }
   ],
   "source": [
    "print(\"addition of {} and {} and {} is {}\".format(a,c,b,f))"
   ]
  },
  {
   "cell_type": "markdown",
   "id": "f4b1df09",
   "metadata": {},
   "source": [
    "### some important notes"
   ]
  },
  {
   "cell_type": "raw",
   "id": "a2356933",
   "metadata": {},
   "source": [
    "name='ram'#string\n",
    "score=76.78 #float\n",
    "num=65#integer"
   ]
  },
  {
   "cell_type": "raw",
   "id": "c99468f1",
   "metadata": {},
   "source": [
    "%f>>float\n",
    "%d>>desimal/int\n",
    "%s>>string"
   ]
  },
  {
   "cell_type": "code",
   "execution_count": null,
   "id": "a6ff7554",
   "metadata": {},
   "outputs": [],
   "source": [
    "print('addition of a and b is =',d)# r string\n",
    "print('addition of',a,'and',b,'is=',d)\n",
    "print(f'addition of {a} and {b} is ={d}')# f string\n",
    "print('addition of {} and {} is {}'.format(a,b,d))# format string\n",
    "print('addition of a=%f and b=%d is d=%d'%(a,b,d))# percent format string"
   ]
  },
  {
   "cell_type": "code",
   "execution_count": 71,
   "id": "38ffcc3a",
   "metadata": {},
   "outputs": [],
   "source": [
    "name='ram'#string\n",
    "score=76.78 #float\n",
    "num=65#integer\n",
    "a=57\n",
    "b=78\n",
    "c=67\n",
    "d=a+b"
   ]
  },
  {
   "cell_type": "code",
   "execution_count": 72,
   "id": "480533c4",
   "metadata": {},
   "outputs": [
    {
     "name": "stdout",
     "output_type": "stream",
     "text": [
      "values of a=57 and b=78\n"
     ]
    }
   ],
   "source": [
    "print('values of a=%d and b=%d'%(a,b))"
   ]
  },
  {
   "cell_type": "code",
   "execution_count": 73,
   "id": "5a95002c",
   "metadata": {},
   "outputs": [
    {
     "name": "stdout",
     "output_type": "stream",
     "text": [
      "values of a=57 and b=78.000000\n"
     ]
    }
   ],
   "source": [
    "print('values of a=%d and b=%f'%(a,b))"
   ]
  },
  {
   "cell_type": "code",
   "execution_count": 74,
   "id": "9d45fc25",
   "metadata": {},
   "outputs": [
    {
     "name": "stdout",
     "output_type": "stream",
     "text": [
      "values of a=57 and b=78tr\n"
     ]
    }
   ],
   "source": [
    "print('values of a=%d and b=%str'%(a,b))"
   ]
  },
  {
   "cell_type": "code",
   "execution_count": 76,
   "id": "c46dd6d5",
   "metadata": {},
   "outputs": [
    {
     "name": "stdout",
     "output_type": "stream",
     "text": [
      "addition of a=57.000000 and b=78 is d=135\n"
     ]
    }
   ],
   "source": [
    "print('addition of a=%f and b=%d is d=%d'%(a,b,d))"
   ]
  },
  {
   "cell_type": "code",
   "execution_count": 77,
   "id": "ee282c8a",
   "metadata": {},
   "outputs": [
    {
     "name": "stdout",
     "output_type": "stream",
     "text": [
      "we are learning name=ram and score=76\n"
     ]
    }
   ],
   "source": [
    "print('we are learning name=%s and score=%d'%(name,score))"
   ]
  },
  {
   "cell_type": "code",
   "execution_count": 78,
   "id": "bfa26251",
   "metadata": {},
   "outputs": [
    {
     "name": "stdout",
     "output_type": "stream",
     "text": [
      "we are learning name=ram and score=76.780000\n"
     ]
    }
   ],
   "source": [
    "print('we are learning name=%s and score=%f'%(name,score))"
   ]
  },
  {
   "cell_type": "code",
   "execution_count": 4,
   "id": "7457899f",
   "metadata": {},
   "outputs": [],
   "source": [
    "list1=[1,2,3,4,5,6,7,8,9,10]"
   ]
  },
  {
   "cell_type": "code",
   "execution_count": 5,
   "id": "742b7737",
   "metadata": {},
   "outputs": [
    {
     "name": "stdout",
     "output_type": "stream",
     "text": [
      "list of even number is  [2, 4, 6, 8, 10]\n",
      "list of odd number is  [1, 3, 5, 7, 9]\n"
     ]
    }
   ],
   "source": [
    "even_number=[]\n",
    "odd_number=[]\n",
    "for i in list1:\n",
    "    if i%2==0:\n",
    "        even_number.append(i)\n",
    "    else:\n",
    "        odd_number.append(i)\n",
    "print('list of even number is ',even_number)\n",
    "print('list of odd number is ',odd_number)            "
   ]
  },
  {
   "cell_type": "code",
   "execution_count": 8,
   "id": "e86d46fa",
   "metadata": {},
   "outputs": [
    {
     "name": "stdout",
     "output_type": "stream",
     "text": [
      "list of even [50, 24, 22]\n",
      "list of odd [33, 45, 87, 67, 43]\n"
     ]
    }
   ],
   "source": [
    "list2= [50,24,33,45,87,67,43,22]\n",
    "even_list =[]\n",
    "odd_list=[]\n",
    "\n",
    "for i in list2:\n",
    "    if i%2==0:\n",
    "        even_list.append(i)\n",
    "    else:\n",
    "        odd_list.append(i)\n",
    "                       \n",
    "print(\"list of even\",even_list)\n",
    "print(\"list of odd\",odd_list)"
   ]
  },
  {
   "cell_type": "code",
   "execution_count": 4,
   "id": "edde2a76",
   "metadata": {},
   "outputs": [
    {
     "name": "stdout",
     "output_type": "stream",
     "text": [
      "enter yur numbers 3,45,67,8,9,0,298,7,6\n",
      "list of even [8, 0, 298, 6]\n",
      "list of odd [3, 45, 67, 9, 7]\n"
     ]
    }
   ],
   "source": [
    "list2=eval(input('enter yur numbers ',))\n",
    "even_list =[]\n",
    "odd_list=[]\n",
    "\n",
    "for i in list2:\n",
    "    if   i%2==0:\n",
    "         even_list.append(i)\n",
    "    else:\n",
    "          odd_list.append(i)\n",
    "            \n",
    "            \n",
    "            \n",
    "print(\"list of even\",even_list)\n",
    "print(\"list of odd\",odd_list)"
   ]
  },
  {
   "cell_type": "code",
   "execution_count": null,
   "id": "4deb3625",
   "metadata": {},
   "outputs": [],
   "source": []
  }
 ],
 "metadata": {
  "kernelspec": {
   "display_name": "Python 3 (ipykernel)",
   "language": "python",
   "name": "python3"
  },
  "language_info": {
   "codemirror_mode": {
    "name": "ipython",
    "version": 3
   },
   "file_extension": ".py",
   "mimetype": "text/x-python",
   "name": "python",
   "nbconvert_exporter": "python",
   "pygments_lexer": "ipython3",
   "version": "3.9.12"
  }
 },
 "nbformat": 4,
 "nbformat_minor": 5
}
