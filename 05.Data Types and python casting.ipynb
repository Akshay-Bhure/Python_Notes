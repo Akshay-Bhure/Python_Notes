{
 "cells": [
  {
   "cell_type": "markdown",
   "id": "86346e8f",
   "metadata": {},
   "source": [
    "### Data Types"
   ]
  },
  {
   "cell_type": "raw",
   "id": "9c91f2d9",
   "metadata": {},
   "source": [
    "Numeric : int, float, complex\n",
    "Text : str\n",
    "Sequence : list, tuple, range\n",
    "Mapping : dict\n",
    "Set : set, frozenset\n",
    "boolean : bool(true and false)"
   ]
  },
  {
   "cell_type": "markdown",
   "id": "33977dd4",
   "metadata": {},
   "source": [
    "### Numeric"
   ]
  },
  {
   "cell_type": "markdown",
   "id": "8823e9ee",
   "metadata": {},
   "source": [
    "### 1. integet"
   ]
  },
  {
   "cell_type": "markdown",
   "id": "5537f858",
   "metadata": {},
   "source": [
    "integer will include whole numbers\n",
    "+ve, -ve numbers "
   ]
  },
  {
   "cell_type": "code",
   "execution_count": 3,
   "id": "4d0c8fb6",
   "metadata": {},
   "outputs": [
    {
     "data": {
      "text/plain": [
       "int"
      ]
     },
     "execution_count": 3,
     "metadata": {},
     "output_type": "execute_result"
    }
   ],
   "source": [
    "ab=45\n",
    "type(ab)"
   ]
  },
  {
   "cell_type": "code",
   "execution_count": 8,
   "id": "09f5e506",
   "metadata": {},
   "outputs": [
    {
     "data": {
      "text/plain": [
       "int"
      ]
     },
     "execution_count": 8,
     "metadata": {},
     "output_type": "execute_result"
    }
   ],
   "source": [
    "ab=45\n",
    "type(ab)"
   ]
  },
  {
   "cell_type": "code",
   "execution_count": 4,
   "id": "7eeecd63",
   "metadata": {},
   "outputs": [
    {
     "data": {
      "text/plain": [
       "int"
      ]
     },
     "execution_count": 4,
     "metadata": {},
     "output_type": "execute_result"
    }
   ],
   "source": [
    "type(ab)"
   ]
  },
  {
   "cell_type": "code",
   "execution_count": 11,
   "id": "38393b13",
   "metadata": {},
   "outputs": [
    {
     "data": {
      "text/plain": [
       "78"
      ]
     },
     "execution_count": 11,
     "metadata": {},
     "output_type": "execute_result"
    }
   ],
   "source": [
    "ab=78\n",
    "ab"
   ]
  },
  {
   "cell_type": "code",
   "execution_count": 10,
   "id": "ed9907b5",
   "metadata": {},
   "outputs": [
    {
     "data": {
      "text/plain": [
       "78"
      ]
     },
     "execution_count": 10,
     "metadata": {},
     "output_type": "execute_result"
    }
   ],
   "source": [
    "ab"
   ]
  },
  {
   "cell_type": "code",
   "execution_count": 12,
   "id": "635fa1b0",
   "metadata": {},
   "outputs": [
    {
     "name": "stdout",
     "output_type": "stream",
     "text": [
      "78\n"
     ]
    }
   ],
   "source": [
    "print(ab)"
   ]
  },
  {
   "cell_type": "code",
   "execution_count": 12,
   "id": "b4736ef9",
   "metadata": {},
   "outputs": [
    {
     "data": {
      "text/plain": [
       "-45"
      ]
     },
     "execution_count": 12,
     "metadata": {},
     "output_type": "execute_result"
    }
   ],
   "source": [
    "ab=-45\n",
    "ab"
   ]
  },
  {
   "cell_type": "code",
   "execution_count": 4,
   "id": "bb4c5f81",
   "metadata": {},
   "outputs": [],
   "source": [
    "r=789088748"
   ]
  },
  {
   "cell_type": "code",
   "execution_count": 5,
   "id": "ab4652bf",
   "metadata": {},
   "outputs": [
    {
     "data": {
      "text/plain": [
       "789088748"
      ]
     },
     "execution_count": 5,
     "metadata": {},
     "output_type": "execute_result"
    }
   ],
   "source": [
    "r"
   ]
  },
  {
   "cell_type": "code",
   "execution_count": 6,
   "id": "1f5fbb84",
   "metadata": {},
   "outputs": [
    {
     "data": {
      "text/plain": [
       "int"
      ]
     },
     "execution_count": 6,
     "metadata": {},
     "output_type": "execute_result"
    }
   ],
   "source": [
    "type(r)"
   ]
  },
  {
   "cell_type": "code",
   "execution_count": 7,
   "id": "12566a64",
   "metadata": {},
   "outputs": [
    {
     "name": "stdout",
     "output_type": "stream",
     "text": [
      "<class 'int'>\n"
     ]
    }
   ],
   "source": [
    "print(type(r))"
   ]
  },
  {
   "cell_type": "code",
   "execution_count": 11,
   "id": "c8f896ba",
   "metadata": {},
   "outputs": [
    {
     "name": "stdout",
     "output_type": "stream",
     "text": [
      "<class 'int'>\n"
     ]
    }
   ],
   "source": [
    "r=-789088748\n",
    "print(type(r))"
   ]
  },
  {
   "cell_type": "markdown",
   "id": "e907b320",
   "metadata": {},
   "source": [
    "### 2.Float"
   ]
  },
  {
   "cell_type": "markdown",
   "id": "e640078a",
   "metadata": {},
   "source": [
    "It contains/includes desimal point"
   ]
  },
  {
   "cell_type": "code",
   "execution_count": 13,
   "id": "ab2e31bb",
   "metadata": {},
   "outputs": [],
   "source": [
    "r=7890.88748"
   ]
  },
  {
   "cell_type": "code",
   "execution_count": 14,
   "id": "73c3576e",
   "metadata": {},
   "outputs": [
    {
     "data": {
      "text/plain": [
       "7890.88748"
      ]
     },
     "execution_count": 14,
     "metadata": {},
     "output_type": "execute_result"
    }
   ],
   "source": [
    "r"
   ]
  },
  {
   "cell_type": "code",
   "execution_count": 15,
   "id": "820c5cce",
   "metadata": {},
   "outputs": [
    {
     "name": "stdout",
     "output_type": "stream",
     "text": [
      "<class 'float'>\n"
     ]
    }
   ],
   "source": [
    "print(type(r))"
   ]
  },
  {
   "cell_type": "code",
   "execution_count": 16,
   "id": "a812d3a9",
   "metadata": {},
   "outputs": [
    {
     "data": {
      "text/plain": [
       "float"
      ]
     },
     "execution_count": 16,
     "metadata": {},
     "output_type": "execute_result"
    }
   ],
   "source": [
    "type(r)"
   ]
  },
  {
   "cell_type": "code",
   "execution_count": 17,
   "id": "3957bf8c",
   "metadata": {},
   "outputs": [
    {
     "data": {
      "text/plain": [
       "float"
      ]
     },
     "execution_count": 17,
     "metadata": {},
     "output_type": "execute_result"
    }
   ],
   "source": [
    "r=-7890.88748\n",
    "type(r)"
   ]
  },
  {
   "cell_type": "markdown",
   "id": "2b748512",
   "metadata": {},
   "source": [
    "### Complex"
   ]
  },
  {
   "cell_type": "markdown",
   "id": "0874281d",
   "metadata": {},
   "source": [
    "It contains real and imaginary part"
   ]
  },
  {
   "cell_type": "code",
   "execution_count": 19,
   "id": "d19fad99",
   "metadata": {},
   "outputs": [
    {
     "data": {
      "text/plain": [
       "(34+4j)"
      ]
     },
     "execution_count": 19,
     "metadata": {},
     "output_type": "execute_result"
    }
   ],
   "source": [
    "r=34+4j\n",
    "r"
   ]
  },
  {
   "cell_type": "code",
   "execution_count": 20,
   "id": "bdc05bee",
   "metadata": {},
   "outputs": [
    {
     "data": {
      "text/plain": [
       "complex"
      ]
     },
     "execution_count": 20,
     "metadata": {},
     "output_type": "execute_result"
    }
   ],
   "source": [
    "type(r)"
   ]
  },
  {
   "cell_type": "code",
   "execution_count": 36,
   "id": "c9903d46",
   "metadata": {},
   "outputs": [
    {
     "ename": "NameError",
     "evalue": "name 'j' is not defined",
     "output_type": "error",
     "traceback": [
      "\u001b[1;31m---------------------------------------------------------------------------\u001b[0m",
      "\u001b[1;31mNameError\u001b[0m                                 Traceback (most recent call last)",
      "Input \u001b[1;32mIn [36]\u001b[0m, in \u001b[0;36m<cell line: 1>\u001b[1;34m()\u001b[0m\n\u001b[1;32m----> 1\u001b[0m c\u001b[38;5;241m=\u001b[39m\u001b[38;5;241m34\u001b[39m\u001b[38;5;241m+\u001b[39m\u001b[43mj\u001b[49m\n\u001b[0;32m      2\u001b[0m \u001b[38;5;28mtype\u001b[39m(r)\n",
      "\u001b[1;31mNameError\u001b[0m: name 'j' is not defined"
     ]
    }
   ],
   "source": [
    "c=34+j\n",
    "type(r)"
   ]
  },
  {
   "cell_type": "code",
   "execution_count": 37,
   "id": "7a1308cb",
   "metadata": {},
   "outputs": [
    {
     "ename": "NameError",
     "evalue": "name 'c' is not defined",
     "output_type": "error",
     "traceback": [
      "\u001b[1;31m---------------------------------------------------------------------------\u001b[0m",
      "\u001b[1;31mNameError\u001b[0m                                 Traceback (most recent call last)",
      "Input \u001b[1;32mIn [37]\u001b[0m, in \u001b[0;36m<cell line: 1>\u001b[1;34m()\u001b[0m\n\u001b[1;32m----> 1\u001b[0m \u001b[38;5;28mtype\u001b[39m(\u001b[43mc\u001b[49m)\n",
      "\u001b[1;31mNameError\u001b[0m: name 'c' is not defined"
     ]
    }
   ],
   "source": [
    "type(c)"
   ]
  },
  {
   "cell_type": "code",
   "execution_count": 23,
   "id": "11328705",
   "metadata": {},
   "outputs": [
    {
     "data": {
      "text/plain": [
       "complex"
      ]
     },
     "execution_count": 23,
     "metadata": {},
     "output_type": "execute_result"
    }
   ],
   "source": [
    "r=34+4j\n",
    "type(r)"
   ]
  },
  {
   "cell_type": "code",
   "execution_count": 25,
   "id": "a286ea6c",
   "metadata": {},
   "outputs": [
    {
     "data": {
      "text/plain": [
       "(34+4j)"
      ]
     },
     "execution_count": 25,
     "metadata": {},
     "output_type": "execute_result"
    }
   ],
   "source": [
    "r"
   ]
  },
  {
   "cell_type": "code",
   "execution_count": 26,
   "id": "f5ec182a",
   "metadata": {},
   "outputs": [
    {
     "data": {
      "text/plain": [
       "(375+4j)"
      ]
     },
     "execution_count": 26,
     "metadata": {},
     "output_type": "execute_result"
    }
   ],
   "source": [
    "r=375+4j\n",
    "r"
   ]
  },
  {
   "cell_type": "code",
   "execution_count": 1,
   "id": "f11400d6",
   "metadata": {},
   "outputs": [],
   "source": [
    "b=375+0j"
   ]
  },
  {
   "cell_type": "code",
   "execution_count": 2,
   "id": "a1e97de6",
   "metadata": {},
   "outputs": [
    {
     "data": {
      "text/plain": [
       "complex"
      ]
     },
     "execution_count": 2,
     "metadata": {},
     "output_type": "execute_result"
    }
   ],
   "source": [
    "type(b)"
   ]
  },
  {
   "cell_type": "code",
   "execution_count": 28,
   "id": "10436212",
   "metadata": {},
   "outputs": [
    {
     "data": {
      "text/plain": [
       "complex"
      ]
     },
     "execution_count": 28,
     "metadata": {},
     "output_type": "execute_result"
    }
   ],
   "source": [
    "r=375+4j\n",
    "type(r)"
   ]
  },
  {
   "cell_type": "code",
   "execution_count": 1,
   "id": "8aace482",
   "metadata": {},
   "outputs": [
    {
     "ename": "SyntaxError",
     "evalue": "invalid syntax (121009481.py, line 1)",
     "output_type": "error",
     "traceback": [
      "\u001b[1;36m  Input \u001b[1;32mIn [1]\u001b[1;36m\u001b[0m\n\u001b[1;33m    n=375+4y\u001b[0m\n\u001b[1;37m           ^\u001b[0m\n\u001b[1;31mSyntaxError\u001b[0m\u001b[1;31m:\u001b[0m invalid syntax\n"
     ]
    }
   ],
   "source": [
    "n=375+4y\n",
    "type(n)"
   ]
  },
  {
   "cell_type": "code",
   "execution_count": 2,
   "id": "d2ead7d6",
   "metadata": {},
   "outputs": [
    {
     "ename": "NameError",
     "evalue": "name 'n' is not defined",
     "output_type": "error",
     "traceback": [
      "\u001b[1;31m---------------------------------------------------------------------------\u001b[0m",
      "\u001b[1;31mNameError\u001b[0m                                 Traceback (most recent call last)",
      "Input \u001b[1;32mIn [2]\u001b[0m, in \u001b[0;36m<cell line: 1>\u001b[1;34m()\u001b[0m\n\u001b[1;32m----> 1\u001b[0m \u001b[38;5;28mtype\u001b[39m(\u001b[43mn\u001b[49m)\n",
      "\u001b[1;31mNameError\u001b[0m: name 'n' is not defined"
     ]
    }
   ],
   "source": [
    "type(n)"
   ]
  },
  {
   "cell_type": "markdown",
   "id": "a05e2525",
   "metadata": {},
   "source": [
    "### python casting "
   ]
  },
  {
   "cell_type": "markdown",
   "id": "a9e04a4f",
   "metadata": {},
   "source": [
    "int()\n",
    "float()\n",
    "complex()\n",
    "str()"
   ]
  },
  {
   "cell_type": "markdown",
   "id": "600805e2",
   "metadata": {},
   "source": [
    "### 1. int to float, complex, string"
   ]
  },
  {
   "cell_type": "code",
   "execution_count": 3,
   "id": "7a430d7d",
   "metadata": {},
   "outputs": [
    {
     "data": {
      "text/plain": [
       "int"
      ]
     },
     "execution_count": 3,
     "metadata": {},
     "output_type": "execute_result"
    }
   ],
   "source": [
    "a=413\n",
    "type(a)"
   ]
  },
  {
   "cell_type": "code",
   "execution_count": 4,
   "id": "7946c16f",
   "metadata": {},
   "outputs": [
    {
     "data": {
      "text/plain": [
       "413.0"
      ]
     },
     "execution_count": 4,
     "metadata": {},
     "output_type": "execute_result"
    }
   ],
   "source": [
    "float(a)"
   ]
  },
  {
   "cell_type": "code",
   "execution_count": 5,
   "id": "9617611e",
   "metadata": {},
   "outputs": [
    {
     "data": {
      "text/plain": [
       "(413+0j)"
      ]
     },
     "execution_count": 5,
     "metadata": {},
     "output_type": "execute_result"
    }
   ],
   "source": [
    "complex(a)"
   ]
  },
  {
   "cell_type": "code",
   "execution_count": 6,
   "id": "36f4a831",
   "metadata": {},
   "outputs": [
    {
     "data": {
      "text/plain": [
       "'413'"
      ]
     },
     "execution_count": 6,
     "metadata": {},
     "output_type": "execute_result"
    }
   ],
   "source": [
    "str(a)"
   ]
  },
  {
   "cell_type": "code",
   "execution_count": 3,
   "id": "8b4c573e",
   "metadata": {},
   "outputs": [
    {
     "name": "stdout",
     "output_type": "stream",
     "text": [
      "413.0\n"
     ]
    }
   ],
   "source": [
    "print (float(a))"
   ]
  },
  {
   "cell_type": "code",
   "execution_count": 11,
   "id": "1ae1b3c2",
   "metadata": {},
   "outputs": [
    {
     "name": "stdout",
     "output_type": "stream",
     "text": [
      "Value of our variable is: 45 <class 'int'>\n",
      "Value of our variable is: 45.0 <class 'float'>\n"
     ]
    }
   ],
   "source": [
    "a = 45\n",
    "print('Value of our variable is:',a , type(a))\n",
    "a = float(a)\n",
    "print('Value of our variable is:',a , type(a))"
   ]
  },
  {
   "cell_type": "code",
   "execution_count": 12,
   "id": "d04fdcd4",
   "metadata": {},
   "outputs": [
    {
     "data": {
      "text/plain": [
       "45.0"
      ]
     },
     "execution_count": 12,
     "metadata": {},
     "output_type": "execute_result"
    }
   ],
   "source": [
    "a"
   ]
  },
  {
   "cell_type": "code",
   "execution_count": 8,
   "id": "d0c0b3a5",
   "metadata": {},
   "outputs": [
    {
     "name": "stdout",
     "output_type": "stream",
     "text": [
      "Value of our variable is: 45 <class 'int'>\n",
      "Value of our variable is: (45+0j) <class 'complex'>\n"
     ]
    }
   ],
   "source": [
    "a = 45\n",
    "print('Value of our variable is:',a , type(a))\n",
    "a = complex(a)\n",
    "print('Value of our variable is:',a , type(a))"
   ]
  },
  {
   "cell_type": "code",
   "execution_count": 9,
   "id": "e3e8163c",
   "metadata": {},
   "outputs": [
    {
     "data": {
      "text/plain": [
       "(45+0j)"
      ]
     },
     "execution_count": 9,
     "metadata": {},
     "output_type": "execute_result"
    }
   ],
   "source": [
    "a"
   ]
  },
  {
   "cell_type": "code",
   "execution_count": 13,
   "id": "6a91a71d",
   "metadata": {},
   "outputs": [
    {
     "name": "stdout",
     "output_type": "stream",
     "text": [
      "Value of our variable is: 45 <class 'int'>\n",
      "Value of our variable is: 45 <class 'str'>\n"
     ]
    }
   ],
   "source": [
    "a = 45\n",
    "print('Value of our variable is:',a , type(a))\n",
    "a = str(a)\n",
    "print('Value of our variable is:',a , type(a))"
   ]
  },
  {
   "cell_type": "code",
   "execution_count": 14,
   "id": "7743ba45",
   "metadata": {},
   "outputs": [
    {
     "data": {
      "text/plain": [
       "'45'"
      ]
     },
     "execution_count": 14,
     "metadata": {},
     "output_type": "execute_result"
    }
   ],
   "source": [
    "a"
   ]
  },
  {
   "cell_type": "code",
   "execution_count": 63,
   "id": "fe3aea34",
   "metadata": {},
   "outputs": [
    {
     "name": "stdout",
     "output_type": "stream",
     "text": [
      "Value of our variable is: 45 <class 'int'>\n"
     ]
    },
    {
     "ename": "NameError",
     "evalue": "name 'string' is not defined",
     "output_type": "error",
     "traceback": [
      "\u001b[1;31m---------------------------------------------------------------------------\u001b[0m",
      "\u001b[1;31mNameError\u001b[0m                                 Traceback (most recent call last)",
      "Input \u001b[1;32mIn [63]\u001b[0m, in \u001b[0;36m<cell line: 3>\u001b[1;34m()\u001b[0m\n\u001b[0;32m      1\u001b[0m a \u001b[38;5;241m=\u001b[39m \u001b[38;5;241m45\u001b[39m\n\u001b[0;32m      2\u001b[0m \u001b[38;5;28mprint\u001b[39m(\u001b[38;5;124m'\u001b[39m\u001b[38;5;124mValue of our variable is:\u001b[39m\u001b[38;5;124m'\u001b[39m,a , \u001b[38;5;28mtype\u001b[39m(a))\n\u001b[1;32m----> 3\u001b[0m a \u001b[38;5;241m=\u001b[39m \u001b[43mstring\u001b[49m(a)\n\u001b[0;32m      4\u001b[0m \u001b[38;5;28mprint\u001b[39m(\u001b[38;5;124m'\u001b[39m\u001b[38;5;124mValue of our variable is:\u001b[39m\u001b[38;5;124m'\u001b[39m,a , \u001b[38;5;28mtype\u001b[39m(a))\n",
      "\u001b[1;31mNameError\u001b[0m: name 'string' is not defined"
     ]
    }
   ],
   "source": [
    "a = 45\n",
    "print('Value of our variable is:',a , type(a))\n",
    "a = string(a)\n",
    "print('Value of our variable is:',a , type(a))"
   ]
  },
  {
   "cell_type": "code",
   "execution_count": 22,
   "id": "9490d2e7",
   "metadata": {},
   "outputs": [
    {
     "data": {
      "text/plain": [
       "('ramdas', 60)"
      ]
     },
     "execution_count": 22,
     "metadata": {},
     "output_type": "execute_result"
    }
   ],
   "source": [
    "re='ramdas',60\n",
    "re"
   ]
  },
  {
   "cell_type": "code",
   "execution_count": 67,
   "id": "ebcf8350",
   "metadata": {},
   "outputs": [
    {
     "name": "stdout",
     "output_type": "stream",
     "text": [
      "('ramdas', 60)\n"
     ]
    }
   ],
   "source": [
    "print(re)"
   ]
  },
  {
   "cell_type": "code",
   "execution_count": 68,
   "id": "d5101fbe",
   "metadata": {},
   "outputs": [
    {
     "name": "stdout",
     "output_type": "stream",
     "text": [
      "('ramdas', 60)\n"
     ]
    }
   ],
   "source": [
    "re='ramdas',60\n",
    "print(re)"
   ]
  },
  {
   "cell_type": "code",
   "execution_count": 23,
   "id": "5e1a0423",
   "metadata": {},
   "outputs": [
    {
     "data": {
      "text/plain": [
       "60"
      ]
     },
     "execution_count": 23,
     "metadata": {},
     "output_type": "execute_result"
    }
   ],
   "source": [
    "re=60\n",
    "re"
   ]
  },
  {
   "cell_type": "code",
   "execution_count": 24,
   "id": "dacafcbd",
   "metadata": {},
   "outputs": [
    {
     "data": {
      "text/plain": [
       "'60'"
      ]
     },
     "execution_count": 24,
     "metadata": {},
     "output_type": "execute_result"
    }
   ],
   "source": [
    "str(re)"
   ]
  },
  {
   "cell_type": "code",
   "execution_count": 25,
   "id": "3c7e6013",
   "metadata": {},
   "outputs": [
    {
     "name": "stdout",
     "output_type": "stream",
     "text": [
      "60\n"
     ]
    }
   ],
   "source": [
    "print(str(re))"
   ]
  },
  {
   "cell_type": "code",
   "execution_count": 71,
   "id": "4ede65cd",
   "metadata": {},
   "outputs": [
    {
     "data": {
      "text/plain": [
       "60"
      ]
     },
     "execution_count": 71,
     "metadata": {},
     "output_type": "execute_result"
    }
   ],
   "source": [
    "int(re)"
   ]
  },
  {
   "cell_type": "code",
   "execution_count": 72,
   "id": "6ac04c8f",
   "metadata": {},
   "outputs": [
    {
     "data": {
      "text/plain": [
       "60.0"
      ]
     },
     "execution_count": 72,
     "metadata": {},
     "output_type": "execute_result"
    }
   ],
   "source": [
    "float(re)"
   ]
  },
  {
   "cell_type": "markdown",
   "id": "eddac27d",
   "metadata": {},
   "source": [
    "### 2.float into string int complex"
   ]
  },
  {
   "cell_type": "code",
   "execution_count": 7,
   "id": "7ddf3ca8",
   "metadata": {},
   "outputs": [
    {
     "data": {
      "text/plain": [
       "54.697"
      ]
     },
     "execution_count": 7,
     "metadata": {},
     "output_type": "execute_result"
    }
   ],
   "source": [
    "be=54.697\n",
    "be"
   ]
  },
  {
   "cell_type": "code",
   "execution_count": 8,
   "id": "378b5359",
   "metadata": {},
   "outputs": [
    {
     "data": {
      "text/plain": [
       "float"
      ]
     },
     "execution_count": 8,
     "metadata": {},
     "output_type": "execute_result"
    }
   ],
   "source": [
    "type(be)"
   ]
  },
  {
   "cell_type": "code",
   "execution_count": 9,
   "id": "e303089a",
   "metadata": {},
   "outputs": [
    {
     "name": "stdout",
     "output_type": "stream",
     "text": [
      "<class 'float'>\n"
     ]
    }
   ],
   "source": [
    "print(type(be))"
   ]
  },
  {
   "cell_type": "code",
   "execution_count": 10,
   "id": "a12eab7d",
   "metadata": {},
   "outputs": [
    {
     "data": {
      "text/plain": [
       "54.697"
      ]
     },
     "execution_count": 10,
     "metadata": {},
     "output_type": "execute_result"
    }
   ],
   "source": [
    "be"
   ]
  },
  {
   "cell_type": "code",
   "execution_count": 11,
   "id": "cbe9f39d",
   "metadata": {},
   "outputs": [
    {
     "name": "stdout",
     "output_type": "stream",
     "text": [
      "my taken value is: 54.697 <class 'float'>\n",
      "my 2nd taken value is: 54.697 <class 'str'>\n"
     ]
    }
   ],
   "source": [
    "print(\"my taken value is:\",be,type(be))\n",
    "be=str(be)\n",
    "print(\"my 2nd taken value is:\",be,type(be))"
   ]
  },
  {
   "cell_type": "code",
   "execution_count": 28,
   "id": "11c8870f",
   "metadata": {},
   "outputs": [],
   "source": [
    "ce=56.7"
   ]
  },
  {
   "cell_type": "code",
   "execution_count": 29,
   "id": "3f56bd99",
   "metadata": {},
   "outputs": [
    {
     "data": {
      "text/plain": [
       "float"
      ]
     },
     "execution_count": 29,
     "metadata": {},
     "output_type": "execute_result"
    }
   ],
   "source": [
    "type(ce)"
   ]
  },
  {
   "cell_type": "code",
   "execution_count": 30,
   "id": "08f48530",
   "metadata": {},
   "outputs": [
    {
     "data": {
      "text/plain": [
       "56"
      ]
     },
     "execution_count": 30,
     "metadata": {},
     "output_type": "execute_result"
    }
   ],
   "source": [
    "int(ce)"
   ]
  },
  {
   "cell_type": "code",
   "execution_count": 31,
   "id": "0edbba6d",
   "metadata": {},
   "outputs": [
    {
     "data": {
      "text/plain": [
       "'56.7'"
      ]
     },
     "execution_count": 31,
     "metadata": {},
     "output_type": "execute_result"
    }
   ],
   "source": [
    "str(ce)"
   ]
  },
  {
   "cell_type": "code",
   "execution_count": 32,
   "id": "58470c03",
   "metadata": {},
   "outputs": [
    {
     "data": {
      "text/plain": [
       "(56.7+0j)"
      ]
     },
     "execution_count": 32,
     "metadata": {},
     "output_type": "execute_result"
    }
   ],
   "source": [
    "complex(ce)"
   ]
  },
  {
   "cell_type": "code",
   "execution_count": 14,
   "id": "ba984b56",
   "metadata": {},
   "outputs": [],
   "source": [
    "be=567"
   ]
  },
  {
   "cell_type": "code",
   "execution_count": 15,
   "id": "94cc0df0",
   "metadata": {},
   "outputs": [
    {
     "data": {
      "text/plain": [
       "int"
      ]
     },
     "execution_count": 15,
     "metadata": {},
     "output_type": "execute_result"
    }
   ],
   "source": [
    "type(be)"
   ]
  },
  {
   "cell_type": "code",
   "execution_count": 17,
   "id": "217bbe6c",
   "metadata": {},
   "outputs": [
    {
     "name": "stdout",
     "output_type": "stream",
     "text": [
      "<class 'int'>\n"
     ]
    }
   ],
   "source": [
    "print(type(be))"
   ]
  },
  {
   "cell_type": "code",
   "execution_count": 87,
   "id": "2d6fb54b",
   "metadata": {},
   "outputs": [
    {
     "data": {
      "text/plain": [
       "int"
      ]
     },
     "execution_count": 87,
     "metadata": {},
     "output_type": "execute_result"
    }
   ],
   "source": [
    "type(be)"
   ]
  },
  {
   "cell_type": "code",
   "execution_count": 15,
   "id": "8b673519",
   "metadata": {},
   "outputs": [],
   "source": [
    "be=56.58"
   ]
  },
  {
   "cell_type": "code",
   "execution_count": 19,
   "id": "a6bf61ca",
   "metadata": {},
   "outputs": [
    {
     "name": "stdout",
     "output_type": "stream",
     "text": [
      "my taken value is: 56.58 <class 'float'>\n",
      "my 2nd taken value is: 56.58 <class 'str'>\n"
     ]
    }
   ],
   "source": [
    "print(\"my taken value is:\",be,type(be))\n",
    "be=str(be)\n",
    "print(\"my 2nd taken value is:\",be,type(be))"
   ]
  },
  {
   "cell_type": "code",
   "execution_count": 16,
   "id": "5d5136af",
   "metadata": {},
   "outputs": [
    {
     "name": "stdout",
     "output_type": "stream",
     "text": [
      "my taken value is: 56.58 <class 'float'>\n",
      "my 2nd taken value is: 56 <class 'int'>\n"
     ]
    }
   ],
   "source": [
    "print(\"my taken value is:\",be,type(be))\n",
    "be=int(be)\n",
    "print(\"my 2nd taken value is:\",be,type(be))"
   ]
  },
  {
   "cell_type": "code",
   "execution_count": 24,
   "id": "73c27e0d",
   "metadata": {},
   "outputs": [],
   "source": [
    "an='67.80'"
   ]
  },
  {
   "cell_type": "code",
   "execution_count": 25,
   "id": "4d6f9504",
   "metadata": {},
   "outputs": [
    {
     "data": {
      "text/plain": [
       "str"
      ]
     },
     "execution_count": 25,
     "metadata": {},
     "output_type": "execute_result"
    }
   ],
   "source": [
    "type(an)"
   ]
  },
  {
   "cell_type": "code",
   "execution_count": 103,
   "id": "53fe1968",
   "metadata": {},
   "outputs": [
    {
     "ename": "NameError",
     "evalue": "name 'bj' is not defined",
     "output_type": "error",
     "traceback": [
      "\u001b[1;31m---------------------------------------------------------------------------\u001b[0m",
      "\u001b[1;31mNameError\u001b[0m                                 Traceback (most recent call last)",
      "Input \u001b[1;32mIn [103]\u001b[0m, in \u001b[0;36m<cell line: 1>\u001b[1;34m()\u001b[0m\n\u001b[1;32m----> 1\u001b[0m \u001b[43mbj\u001b[49m\n",
      "\u001b[1;31mNameError\u001b[0m: name 'bj' is not defined"
     ]
    }
   ],
   "source": [
    "bj"
   ]
  },
  {
   "cell_type": "code",
   "execution_count": 47,
   "id": "ec99cb44",
   "metadata": {},
   "outputs": [],
   "source": [
    "be=54.697"
   ]
  },
  {
   "cell_type": "code",
   "execution_count": 28,
   "id": "7c0a434c",
   "metadata": {},
   "outputs": [
    {
     "data": {
      "text/plain": [
       "float"
      ]
     },
     "execution_count": 28,
     "metadata": {},
     "output_type": "execute_result"
    }
   ],
   "source": [
    "type(be)"
   ]
  },
  {
   "cell_type": "code",
   "execution_count": 44,
   "id": "2a73ad9d",
   "metadata": {},
   "outputs": [
    {
     "name": "stdout",
     "output_type": "stream",
     "text": [
      "my taken value is: 54.697 <class 'float'>\n",
      "my 2nd taken value is: 54 <class 'int'>\n"
     ]
    }
   ],
   "source": [
    "print(\"my taken value is:\",be,type(be))\n",
    "be=int(be)\n",
    "print(\"my 2nd taken value is:\",be,type(be))"
   ]
  },
  {
   "cell_type": "code",
   "execution_count": 46,
   "id": "f5c85e0c",
   "metadata": {},
   "outputs": [
    {
     "name": "stdout",
     "output_type": "stream",
     "text": [
      "my taken value is: 54.697 <class 'float'>\n",
      "my 2nd taken value is: (54.697+0j) <class 'complex'>\n"
     ]
    }
   ],
   "source": [
    "print(\"my taken value is:\",be,type(be))\n",
    "be=complex(be)\n",
    "print(\"my 2nd taken value is:\",be,type(be))"
   ]
  },
  {
   "cell_type": "code",
   "execution_count": 50,
   "id": "cc9867bf",
   "metadata": {},
   "outputs": [],
   "source": [
    "bb=67.80"
   ]
  },
  {
   "cell_type": "code",
   "execution_count": 51,
   "id": "b372e0c2",
   "metadata": {},
   "outputs": [
    {
     "name": "stdout",
     "output_type": "stream",
     "text": [
      "my taken value is: 67.8 <class 'float'>\n",
      "my taken value is: 54.697 <class 'str'>\n"
     ]
    }
   ],
   "source": [
    "print(\"my taken value is:\",bb,type(bb))\n",
    "bb=str(be)\n",
    "print(\"my taken value is:\",bb,type(bb))"
   ]
  },
  {
   "cell_type": "markdown",
   "id": "8af0ef43",
   "metadata": {},
   "source": [
    "### 3. string to int float complex"
   ]
  },
  {
   "cell_type": "raw",
   "id": "eeebb74f",
   "metadata": {},
   "source": [
    "If string is in word then it can't convert into int,float and complex\n",
    "If string is in number then it can convert into int,float and complex"
   ]
  },
  {
   "cell_type": "code",
   "execution_count": 23,
   "id": "bb3bbb67",
   "metadata": {},
   "outputs": [
    {
     "data": {
      "text/plain": [
       "'jio mere lal'"
      ]
     },
     "execution_count": 23,
     "metadata": {},
     "output_type": "execute_result"
    }
   ],
   "source": [
    "m='jio mere lal'\n",
    "m"
   ]
  },
  {
   "cell_type": "code",
   "execution_count": 24,
   "id": "93c56552",
   "metadata": {},
   "outputs": [
    {
     "ename": "ValueError",
     "evalue": "invalid literal for int() with base 10: 'jio mere lal'",
     "output_type": "error",
     "traceback": [
      "\u001b[1;31m---------------------------------------------------------------------------\u001b[0m",
      "\u001b[1;31mValueError\u001b[0m                                Traceback (most recent call last)",
      "Input \u001b[1;32mIn [24]\u001b[0m, in \u001b[0;36m<cell line: 1>\u001b[1;34m()\u001b[0m\n\u001b[1;32m----> 1\u001b[0m \u001b[38;5;28;43mint\u001b[39;49m\u001b[43m(\u001b[49m\u001b[43mm\u001b[49m\u001b[43m)\u001b[49m\n",
      "\u001b[1;31mValueError\u001b[0m: invalid literal for int() with base 10: 'jio mere lal'"
     ]
    }
   ],
   "source": [
    "int(m)"
   ]
  },
  {
   "cell_type": "code",
   "execution_count": 25,
   "id": "df4e26d5",
   "metadata": {},
   "outputs": [
    {
     "ename": "ValueError",
     "evalue": "could not convert string to float: 'jio mere lal'",
     "output_type": "error",
     "traceback": [
      "\u001b[1;31m---------------------------------------------------------------------------\u001b[0m",
      "\u001b[1;31mValueError\u001b[0m                                Traceback (most recent call last)",
      "Input \u001b[1;32mIn [25]\u001b[0m, in \u001b[0;36m<cell line: 1>\u001b[1;34m()\u001b[0m\n\u001b[1;32m----> 1\u001b[0m \u001b[38;5;28;43mfloat\u001b[39;49m\u001b[43m(\u001b[49m\u001b[43mm\u001b[49m\u001b[43m)\u001b[49m\n",
      "\u001b[1;31mValueError\u001b[0m: could not convert string to float: 'jio mere lal'"
     ]
    }
   ],
   "source": [
    "float(m)"
   ]
  },
  {
   "cell_type": "code",
   "execution_count": 26,
   "id": "106d4e1c",
   "metadata": {},
   "outputs": [
    {
     "ename": "ValueError",
     "evalue": "complex() arg is a malformed string",
     "output_type": "error",
     "traceback": [
      "\u001b[1;31m---------------------------------------------------------------------------\u001b[0m",
      "\u001b[1;31mValueError\u001b[0m                                Traceback (most recent call last)",
      "Input \u001b[1;32mIn [26]\u001b[0m, in \u001b[0;36m<cell line: 1>\u001b[1;34m()\u001b[0m\n\u001b[1;32m----> 1\u001b[0m \u001b[38;5;28;43mcomplex\u001b[39;49m\u001b[43m(\u001b[49m\u001b[43mm\u001b[49m\u001b[43m)\u001b[49m\n",
      "\u001b[1;31mValueError\u001b[0m: complex() arg is a malformed string"
     ]
    }
   ],
   "source": [
    "complex(m)"
   ]
  },
  {
   "cell_type": "code",
   "execution_count": 126,
   "id": "200e3fb4",
   "metadata": {},
   "outputs": [
    {
     "ename": "SyntaxError",
     "evalue": "invalid syntax (3719770737.py, line 2)",
     "output_type": "error",
     "traceback": [
      "\u001b[1;36m  Input \u001b[1;32mIn [126]\u001b[1;36m\u001b[0m\n\u001b[1;33m    m=int(m)\u001b[0m\n\u001b[1;37m    ^\u001b[0m\n\u001b[1;31mSyntaxError\u001b[0m\u001b[1;31m:\u001b[0m invalid syntax\n"
     ]
    }
   ],
   "source": [
    "print('maine jo likha ahi vo jai:',m,type(m)\n",
    "m=int(m)\n",
    "print('maine jo likha hai vo hai:',m,type(m))"
   ]
  },
  {
   "cell_type": "code",
   "execution_count": 127,
   "id": "912e4759",
   "metadata": {},
   "outputs": [
    {
     "ename": "SyntaxError",
     "evalue": "invalid syntax (1288684137.py, line 2)",
     "output_type": "error",
     "traceback": [
      "\u001b[1;36m  Input \u001b[1;32mIn [127]\u001b[1;36m\u001b[0m\n\u001b[1;33m    m=float(m)\u001b[0m\n\u001b[1;37m    ^\u001b[0m\n\u001b[1;31mSyntaxError\u001b[0m\u001b[1;31m:\u001b[0m invalid syntax\n"
     ]
    }
   ],
   "source": [
    "print('maine jo likha ahi vo jai:',m,type(m)\n",
    "m=float(m)\n",
    "print('maine jo likha hai vo hai:',m,type(m))"
   ]
  },
  {
   "cell_type": "code",
   "execution_count": 128,
   "id": "63568403",
   "metadata": {},
   "outputs": [
    {
     "ename": "SyntaxError",
     "evalue": "invalid syntax (285208156.py, line 2)",
     "output_type": "error",
     "traceback": [
      "\u001b[1;36m  Input \u001b[1;32mIn [128]\u001b[1;36m\u001b[0m\n\u001b[1;33m    m=complex(m)\u001b[0m\n\u001b[1;37m    ^\u001b[0m\n\u001b[1;31mSyntaxError\u001b[0m\u001b[1;31m:\u001b[0m invalid syntax\n"
     ]
    }
   ],
   "source": [
    "print('maine jo likha ahi vo jai:',m,type(m)\n",
    "m=complex(m)\n",
    "print('maine jo likha hai vo hai:',m,type(m))"
   ]
  },
  {
   "cell_type": "code",
   "execution_count": 52,
   "id": "baf53707",
   "metadata": {},
   "outputs": [
    {
     "data": {
      "text/plain": [
       "'56'"
      ]
     },
     "execution_count": 52,
     "metadata": {},
     "output_type": "execute_result"
    }
   ],
   "source": [
    "radhe='56'\n",
    "radhe"
   ]
  },
  {
   "cell_type": "code",
   "execution_count": 132,
   "id": "de34d40c",
   "metadata": {},
   "outputs": [
    {
     "data": {
      "text/plain": [
       "str"
      ]
     },
     "execution_count": 132,
     "metadata": {},
     "output_type": "execute_result"
    }
   ],
   "source": [
    "type(radhe)"
   ]
  },
  {
   "cell_type": "code",
   "execution_count": 133,
   "id": "134ace68",
   "metadata": {},
   "outputs": [
    {
     "data": {
      "text/plain": [
       "56"
      ]
     },
     "execution_count": 133,
     "metadata": {},
     "output_type": "execute_result"
    }
   ],
   "source": [
    "int(radhe)"
   ]
  },
  {
   "cell_type": "code",
   "execution_count": 134,
   "id": "da41e35e",
   "metadata": {},
   "outputs": [
    {
     "data": {
      "text/plain": [
       "56.0"
      ]
     },
     "execution_count": 134,
     "metadata": {},
     "output_type": "execute_result"
    }
   ],
   "source": [
    "float(radhe)"
   ]
  },
  {
   "cell_type": "code",
   "execution_count": 21,
   "id": "5f409093",
   "metadata": {},
   "outputs": [
    {
     "data": {
      "text/plain": [
       "(56+0j)"
      ]
     },
     "execution_count": 21,
     "metadata": {},
     "output_type": "execute_result"
    }
   ],
   "source": [
    "complex(radhe)"
   ]
  },
  {
   "cell_type": "code",
   "execution_count": 53,
   "id": "3bc282e2",
   "metadata": {},
   "outputs": [
    {
     "name": "stdout",
     "output_type": "stream",
     "text": [
      "my taken value is: 56 <class 'str'>\n",
      "my 2nd taken value is: (56+0j) <class 'complex'>\n"
     ]
    }
   ],
   "source": [
    "print(\"my taken value is:\",radhe,type(radhe))\n",
    "radhe=complex(radhe)\n",
    "print(\"my 2nd taken value is:\",radhe,type(radhe))"
   ]
  },
  {
   "cell_type": "code",
   "execution_count": 58,
   "id": "c28f87ae",
   "metadata": {},
   "outputs": [
    {
     "data": {
      "text/plain": [
       "'76'"
      ]
     },
     "execution_count": 58,
     "metadata": {},
     "output_type": "execute_result"
    }
   ],
   "source": [
    "radhe='76'\n",
    "radhe"
   ]
  },
  {
   "cell_type": "code",
   "execution_count": 55,
   "id": "823f2d85",
   "metadata": {},
   "outputs": [
    {
     "name": "stdout",
     "output_type": "stream",
     "text": [
      "my taken value is: 76 <class 'str'>\n",
      "my 2nd taken value is: 76 <class 'int'>\n"
     ]
    }
   ],
   "source": [
    "print(\"my taken value is:\",radhe,type(radhe))\n",
    "radhe=int(radhe)\n",
    "print(\"my 2nd taken value is:\",radhe,type(radhe))"
   ]
  },
  {
   "cell_type": "code",
   "execution_count": 57,
   "id": "0d89da78",
   "metadata": {},
   "outputs": [
    {
     "name": "stdout",
     "output_type": "stream",
     "text": [
      "my taken value is: 76 <class 'str'>\n",
      "my 2nd taken value is: 76.0 <class 'float'>\n"
     ]
    }
   ],
   "source": [
    "print(\"my taken value is:\",radhe,type(radhe))\n",
    "radhe=float(radhe)\n",
    "print(\"my 2nd taken value is:\",radhe,type(radhe))"
   ]
  },
  {
   "cell_type": "code",
   "execution_count": 59,
   "id": "6b7ae1b7",
   "metadata": {},
   "outputs": [
    {
     "name": "stdout",
     "output_type": "stream",
     "text": [
      "my taken value is: 76 <class 'str'>\n",
      "my 2nd taken value is: (76+0j) <class 'complex'>\n"
     ]
    }
   ],
   "source": [
    "print(\"my taken value is:\",radhe,type(radhe))\n",
    "radhe=complex(radhe)\n",
    "print(\"my 2nd taken value is:\",radhe,type(radhe))"
   ]
  },
  {
   "cell_type": "markdown",
   "id": "f93ef980",
   "metadata": {},
   "source": [
    "### 3. Complex to string int float"
   ]
  },
  {
   "cell_type": "code",
   "execution_count": 146,
   "id": "76a03e5b",
   "metadata": {},
   "outputs": [
    {
     "data": {
      "text/plain": [
       "(4+4j)"
      ]
     },
     "execution_count": 146,
     "metadata": {},
     "output_type": "execute_result"
    }
   ],
   "source": [
    "a=4+4j\n",
    "a"
   ]
  },
  {
   "cell_type": "code",
   "execution_count": 147,
   "id": "e61eeb92",
   "metadata": {},
   "outputs": [
    {
     "data": {
      "text/plain": [
       "complex"
      ]
     },
     "execution_count": 147,
     "metadata": {},
     "output_type": "execute_result"
    }
   ],
   "source": [
    "type(a)"
   ]
  },
  {
   "cell_type": "code",
   "execution_count": 148,
   "id": "c75e16bf",
   "metadata": {},
   "outputs": [
    {
     "name": "stdout",
     "output_type": "stream",
     "text": [
      "my complex number is: (4+4j) <class 'complex'>\n"
     ]
    },
    {
     "ename": "TypeError",
     "evalue": "can't convert complex to int",
     "output_type": "error",
     "traceback": [
      "\u001b[1;31m---------------------------------------------------------------------------\u001b[0m",
      "\u001b[1;31mTypeError\u001b[0m                                 Traceback (most recent call last)",
      "Input \u001b[1;32mIn [148]\u001b[0m, in \u001b[0;36m<cell line: 2>\u001b[1;34m()\u001b[0m\n\u001b[0;32m      1\u001b[0m \u001b[38;5;28mprint\u001b[39m(\u001b[38;5;124m'\u001b[39m\u001b[38;5;124mmy complex number is:\u001b[39m\u001b[38;5;124m'\u001b[39m,a,\u001b[38;5;28mtype\u001b[39m(a))\n\u001b[1;32m----> 2\u001b[0m a\u001b[38;5;241m=\u001b[39m\u001b[38;5;28;43mint\u001b[39;49m\u001b[43m(\u001b[49m\u001b[43ma\u001b[49m\u001b[43m)\u001b[49m\n\u001b[0;32m      3\u001b[0m \u001b[38;5;28mprint\u001b[39m(\u001b[38;5;124m'\u001b[39m\u001b[38;5;124myes boss got it:\u001b[39m\u001b[38;5;124m'\u001b[39m,a,\u001b[38;5;28mtype\u001b[39m(a))\n",
      "\u001b[1;31mTypeError\u001b[0m: can't convert complex to int"
     ]
    }
   ],
   "source": [
    "print('my complex number is:',a,type(a))\n",
    "a=int(a)\n",
    "print('yes boss got it:',a,type(a))"
   ]
  },
  {
   "cell_type": "code",
   "execution_count": 149,
   "id": "f7073563",
   "metadata": {},
   "outputs": [
    {
     "name": "stdout",
     "output_type": "stream",
     "text": [
      "my complex number is: (4+4j) <class 'complex'>\n"
     ]
    },
    {
     "ename": "TypeError",
     "evalue": "can't convert complex to float",
     "output_type": "error",
     "traceback": [
      "\u001b[1;31m---------------------------------------------------------------------------\u001b[0m",
      "\u001b[1;31mTypeError\u001b[0m                                 Traceback (most recent call last)",
      "Input \u001b[1;32mIn [149]\u001b[0m, in \u001b[0;36m<cell line: 2>\u001b[1;34m()\u001b[0m\n\u001b[0;32m      1\u001b[0m \u001b[38;5;28mprint\u001b[39m(\u001b[38;5;124m'\u001b[39m\u001b[38;5;124mmy complex number is:\u001b[39m\u001b[38;5;124m'\u001b[39m,a,\u001b[38;5;28mtype\u001b[39m(a))\n\u001b[1;32m----> 2\u001b[0m a\u001b[38;5;241m=\u001b[39m\u001b[38;5;28;43mfloat\u001b[39;49m\u001b[43m(\u001b[49m\u001b[43ma\u001b[49m\u001b[43m)\u001b[49m\n\u001b[0;32m      3\u001b[0m \u001b[38;5;28mprint\u001b[39m(\u001b[38;5;124m'\u001b[39m\u001b[38;5;124myes boss got it:\u001b[39m\u001b[38;5;124m'\u001b[39m,a,\u001b[38;5;28mtype\u001b[39m(a))\n",
      "\u001b[1;31mTypeError\u001b[0m: can't convert complex to float"
     ]
    }
   ],
   "source": [
    "print('my complex number is:',a,type(a))\n",
    "a=float(a)\n",
    "print('yes boss got it:',a,type(a))"
   ]
  },
  {
   "cell_type": "code",
   "execution_count": 150,
   "id": "450257ca",
   "metadata": {},
   "outputs": [
    {
     "name": "stdout",
     "output_type": "stream",
     "text": [
      "my complex number is: (4+4j) <class 'complex'>\n",
      "yes boss got it: (4+4j) <class 'str'>\n"
     ]
    }
   ],
   "source": [
    "print('my complex number is:',a,type(a))\n",
    "a=str(a)\n",
    "print('yes boss got it:',a,type(a))"
   ]
  },
  {
   "cell_type": "code",
   "execution_count": null,
   "id": "68973f65",
   "metadata": {},
   "outputs": [],
   "source": []
  }
 ],
 "metadata": {
  "kernelspec": {
   "display_name": "Python 3 (ipykernel)",
   "language": "python",
   "name": "python3"
  },
  "language_info": {
   "codemirror_mode": {
    "name": "ipython",
    "version": 3
   },
   "file_extension": ".py",
   "mimetype": "text/x-python",
   "name": "python",
   "nbconvert_exporter": "python",
   "pygments_lexer": "ipython3",
   "version": "3.9.12"
  }
 },
 "nbformat": 4,
 "nbformat_minor": 5
}
