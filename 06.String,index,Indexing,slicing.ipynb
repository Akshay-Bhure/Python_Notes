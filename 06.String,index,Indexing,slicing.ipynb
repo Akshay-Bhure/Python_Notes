{
 "cells": [
  {
   "cell_type": "markdown",
   "id": "352f4669",
   "metadata": {},
   "source": [
    "### strings"
   ]
  },
  {
   "cell_type": "raw",
   "id": "2c7c64bc",
   "metadata": {},
   "source": [
    "String is a collection of characters/ special characters/numbers which are surrounded \n",
    "or enclosed by single, double or triple quote.\n",
    "escape character:'\\' \\n means new line character it means command when apply new line will start the character\n",
    "\\t means tab "
   ]
  },
  {
   "cell_type": "raw",
   "id": "779eb402",
   "metadata": {},
   "source": [
    "for more than one line string use triple quotes('''or\"\"\")\n",
    "for one or less than one line string use triple or single quotes('''or\"\"\" and 'or\")\n",
    "do not use double quotes(''or\"\")\n",
    "if we are running only variable name then output will come in quotes\n",
    "if we are running print name then output will not come in quotes"
   ]
  },
  {
   "cell_type": "code",
   "execution_count": 9,
   "id": "eb45c879",
   "metadata": {},
   "outputs": [
    {
     "name": "stdout",
     "output_type": "stream",
     "text": [
      "rama is one of the best man in this country so\n",
      "i would like to say tha he never supposed to be fail inhis desision gys be ready to work with him\n"
     ]
    }
   ],
   "source": [
    "jug='''rama is one of the best man in this country so\n",
    "i would like to say tha he never supposed to be fail in his decisions gys be ready to work with him'''\n",
    "print(jug)"
   ]
  },
  {
   "cell_type": "code",
   "execution_count": 10,
   "id": "46002248",
   "metadata": {},
   "outputs": [
    {
     "data": {
      "text/plain": [
       "'rama is one of the best man in this country so\\ni would like to say tha he never supposed to be fail inhis desision gys be ready to work with him'"
      ]
     },
     "execution_count": 10,
     "metadata": {},
     "output_type": "execute_result"
    }
   ],
   "source": [
    "jug='''rama is one of the best man in this country so\n",
    "i would like to say tha he never supposed to be fail inhis desision gys be ready to work with him'''\n",
    "jug"
   ]
  },
  {
   "cell_type": "code",
   "execution_count": 58,
   "id": "5752d321",
   "metadata": {},
   "outputs": [
    {
     "data": {
      "text/plain": [
       "'rama is one of the best man in this country so\\ni would like to say tha he never supposed to be fail inhis desision gys be ready to work with him\\t'"
      ]
     },
     "execution_count": 58,
     "metadata": {},
     "output_type": "execute_result"
    }
   ],
   "source": [
    "jug='''rama is one of the best man in this country so\n",
    "i would like to say tha he never supposed to be fail inhis desision gys be ready to work with him\\t'''\n",
    "jug"
   ]
  },
  {
   "cell_type": "code",
   "execution_count": 56,
   "id": "db2b1d75",
   "metadata": {},
   "outputs": [
    {
     "name": "stdout",
     "output_type": "stream",
     "text": [
      "rama is one of the best man in this country so\n",
      "i would like to say tha he never supposed to be fail inhis desision gys be ready to work with him\n"
     ]
    }
   ],
   "source": [
    "jug='''rama is one of the best man in this country so\n",
    "i would like to say tha he never supposed to be fail inhis desision gys be ready to work with him'''\n",
    "print(jug)"
   ]
  },
  {
   "cell_type": "code",
   "execution_count": 11,
   "id": "c1bd2972",
   "metadata": {},
   "outputs": [
    {
     "name": "stdout",
     "output_type": "stream",
     "text": [
      "rama is one of the best man in this country so i would like to say tha he never supposed to be fail inhis desision gys be ready to work with him\n"
     ]
    }
   ],
   "source": [
    "jug='''rama is one of the best man in this country so i would like to say tha he never supposed to be fail inhis desision gys be ready to work with him'''\n",
    "print(jug)"
   ]
  },
  {
   "cell_type": "code",
   "execution_count": 12,
   "id": "38ac8669",
   "metadata": {},
   "outputs": [
    {
     "name": "stdout",
     "output_type": "stream",
     "text": [
      "rama is one of the best man in this country so i would like to say tha he never supposed to be fail inhis desision gys be ready to work with him\n"
     ]
    }
   ],
   "source": [
    "jug='rama is one of the best man in this country so i would like to say tha he never supposed to be fail inhis desision gys be ready to work with him'\n",
    "print(jug)"
   ]
  },
  {
   "cell_type": "code",
   "execution_count": 14,
   "id": "ac5d4ff9",
   "metadata": {},
   "outputs": [
    {
     "name": "stdout",
     "output_type": "stream",
     "text": [
      "rama is one of the best man in this country so i would like to say tha he never supposed to be fail inhis desision gys be ready to work with him\n"
     ]
    }
   ],
   "source": [
    "jug=\"rama is one of the best man in this country so i would like to say tha he never supposed to be fail inhis desision gys be ready to work with him\"\n",
    "print(jug)"
   ]
  },
  {
   "cell_type": "code",
   "execution_count": 52,
   "id": "85b3986f",
   "metadata": {},
   "outputs": [
    {
     "name": "stdout",
     "output_type": "stream",
     "text": [
      "rama is one of the best man in this country \n",
      " so i would like to say tha he never supposed to be fail inhis desision gys be ready to work with him\n"
     ]
    }
   ],
   "source": [
    "jug=\"rama is one of the best man in this country \\n so i would like to say tha he never supposed to be fail inhis desision gys be ready to work with him\"\n",
    "print(jug)"
   ]
  },
  {
   "cell_type": "code",
   "execution_count": 59,
   "id": "8671bbac",
   "metadata": {},
   "outputs": [
    {
     "data": {
      "text/plain": [
       "'rama is one of the best man in this country \\n so i would like to say tha he never supposed to be fail inhis desision gys be ready to work with him'"
      ]
     },
     "execution_count": 59,
     "metadata": {},
     "output_type": "execute_result"
    }
   ],
   "source": [
    "jug=\"rama is one of the best man in this country \\n so i would like to say tha he never supposed to be fail inhis desision gys be ready to work with him\"\n",
    "(jug)"
   ]
  },
  {
   "cell_type": "code",
   "execution_count": 15,
   "id": "9aa76c43",
   "metadata": {},
   "outputs": [
    {
     "ename": "SyntaxError",
     "evalue": "invalid syntax (3166370647.py, line 1)",
     "output_type": "error",
     "traceback": [
      "\u001b[1;36m  Input \u001b[1;32mIn [15]\u001b[1;36m\u001b[0m\n\u001b[1;33m    jug=\"\"rama is one of the best man in this country so i would like to say tha he never supposed to be fail inhis desision gys be ready to work with him\"\"\u001b[0m\n\u001b[1;37m          ^\u001b[0m\n\u001b[1;31mSyntaxError\u001b[0m\u001b[1;31m:\u001b[0m invalid syntax\n"
     ]
    }
   ],
   "source": [
    "jug=\"\"rama is one of the best man in this country so i would like to say tha he never supposed to be fail inhis desision gys be ready to work with him\"\"\n",
    "print(jug)"
   ]
  },
  {
   "cell_type": "code",
   "execution_count": 16,
   "id": "e1ac4780",
   "metadata": {},
   "outputs": [
    {
     "name": "stdout",
     "output_type": "stream",
     "text": [
      "rama is one of the best man in this country so\n",
      "i would like to say tha he never supposed to be fail inhis desision gys be ready to work with him\n"
     ]
    }
   ],
   "source": [
    "jug=\"\"\"rama is one of the best man in this country so\n",
    "i would like to say tha he never supposed to be fail inhis desision gys be ready to work with him\"\"\"\n",
    "print(jug)"
   ]
  },
  {
   "cell_type": "code",
   "execution_count": 2,
   "id": "62c07ff8",
   "metadata": {},
   "outputs": [
    {
     "name": "stdout",
     "output_type": "stream",
     "text": [
      "rama is one of the best man in this country so\n",
      " i would like to say tha he never supposed to be fail inhis desision gys be ready to work with him\n"
     ]
    }
   ],
   "source": [
    "jug=\"\"\"rama is one of the best man in this country so\\n i would like to say tha he never supposed to be fail inhis desision gys be ready to work with him\"\"\"\n",
    "print(jug)"
   ]
  },
  {
   "cell_type": "code",
   "execution_count": 17,
   "id": "0a38d897",
   "metadata": {},
   "outputs": [
    {
     "ename": "SyntaxError",
     "evalue": "EOF while scanning triple-quoted string literal (609411377.py, line 3)",
     "output_type": "error",
     "traceback": [
      "\u001b[1;36m  Input \u001b[1;32mIn [17]\u001b[1;36m\u001b[0m\n\u001b[1;33m    print(jug)\u001b[0m\n\u001b[1;37m              \n^\u001b[0m\n\u001b[1;31mSyntaxError\u001b[0m\u001b[1;31m:\u001b[0m EOF while scanning triple-quoted string literal\n"
     ]
    }
   ],
   "source": [
    "jug='''rama is one of the best man in this country so\n",
    "i would like to say tha he never supposed to be fail inhis desision gys be ready to work with him\"\"\"\n",
    "print(jug)"
   ]
  },
  {
   "cell_type": "code",
   "execution_count": 18,
   "id": "2513c885",
   "metadata": {},
   "outputs": [
    {
     "ename": "SyntaxError",
     "evalue": "EOF while scanning triple-quoted string literal (3786931256.py, line 3)",
     "output_type": "error",
     "traceback": [
      "\u001b[1;36m  Input \u001b[1;32mIn [18]\u001b[1;36m\u001b[0m\n\u001b[1;33m    print(jug)\u001b[0m\n\u001b[1;37m              \n^\u001b[0m\n\u001b[1;31mSyntaxError\u001b[0m\u001b[1;31m:\u001b[0m EOF while scanning triple-quoted string literal\n"
     ]
    }
   ],
   "source": [
    "jug=\"\"\"rama is one of the best man in this country so\n",
    "i would like to say tha he never supposed to be fail inhis desision gys be ready to work with him'''\n",
    "print(jug)"
   ]
  },
  {
   "cell_type": "code",
   "execution_count": 19,
   "id": "8859eb0d",
   "metadata": {},
   "outputs": [
    {
     "ename": "SyntaxError",
     "evalue": "invalid syntax (4023174161.py, line 1)",
     "output_type": "error",
     "traceback": [
      "\u001b[1;36m  Input \u001b[1;32mIn [19]\u001b[1;36m\u001b[0m\n\u001b[1;33m    ram=\"\"hari om vitthala\"\"\u001b[0m\n\u001b[1;37m          ^\u001b[0m\n\u001b[1;31mSyntaxError\u001b[0m\u001b[1;31m:\u001b[0m invalid syntax\n"
     ]
    }
   ],
   "source": [
    "ram=\"\"hari om vitthala\"\"\n",
    "ram"
   ]
  },
  {
   "cell_type": "code",
   "execution_count": 13,
   "id": "e50292b0",
   "metadata": {},
   "outputs": [
    {
     "data": {
      "text/plain": [
       "'hari om vitthala'"
      ]
     },
     "execution_count": 13,
     "metadata": {},
     "output_type": "execute_result"
    }
   ],
   "source": [
    "ram=\"hari om vitthala\"\n",
    "ram"
   ]
  },
  {
   "cell_type": "code",
   "execution_count": 22,
   "id": "e916e761",
   "metadata": {},
   "outputs": [
    {
     "data": {
      "text/plain": [
       "'hari om vitthala'"
      ]
     },
     "execution_count": 22,
     "metadata": {},
     "output_type": "execute_result"
    }
   ],
   "source": [
    "das=\"\"\"hari om vitthala\"\"\"\n",
    "ram"
   ]
  },
  {
   "cell_type": "code",
   "execution_count": 1,
   "id": "842db874",
   "metadata": {},
   "outputs": [
    {
     "ename": "SyntaxError",
     "evalue": "invalid syntax (3141239710.py, line 1)",
     "output_type": "error",
     "traceback": [
      "\u001b[1;36m  Input \u001b[1;32mIn [1]\u001b[1;36m\u001b[0m\n\u001b[1;33m    supriya=kya ha ba\u001b[0m\n\u001b[1;37m                ^\u001b[0m\n\u001b[1;31mSyntaxError\u001b[0m\u001b[1;31m:\u001b[0m invalid syntax\n"
     ]
    }
   ],
   "source": [
    "supriya=kya ha ba\n",
    "supriya"
   ]
  },
  {
   "cell_type": "code",
   "execution_count": 3,
   "id": "3a65d8dd",
   "metadata": {},
   "outputs": [
    {
     "data": {
      "text/plain": [
       "'kya ha ba'"
      ]
     },
     "execution_count": 3,
     "metadata": {},
     "output_type": "execute_result"
    }
   ],
   "source": [
    "supriya=\"\"\"kya ha ba\"\"\"\n",
    "supriya"
   ]
  },
  {
   "cell_type": "code",
   "execution_count": 4,
   "id": "fb3b9310",
   "metadata": {},
   "outputs": [
    {
     "data": {
      "text/plain": [
       "'kya ha ba'"
      ]
     },
     "execution_count": 4,
     "metadata": {},
     "output_type": "execute_result"
    }
   ],
   "source": [
    "supriya=\"kya ha ba\"\n",
    "supriya"
   ]
  },
  {
   "cell_type": "code",
   "execution_count": 5,
   "id": "a3bb2f84",
   "metadata": {},
   "outputs": [
    {
     "name": "stdout",
     "output_type": "stream",
     "text": [
      "kya ha ba\n"
     ]
    }
   ],
   "source": [
    "supriya=\"\"\"kya ha ba\"\"\"\n",
    "print(supriya)"
   ]
  },
  {
   "cell_type": "code",
   "execution_count": 6,
   "id": "a3f4e7ad",
   "metadata": {},
   "outputs": [
    {
     "name": "stdout",
     "output_type": "stream",
     "text": [
      "kya ha ba\n"
     ]
    }
   ],
   "source": [
    "supriya=\"kya ha ba\"\n",
    "print(supriya)"
   ]
  },
  {
   "cell_type": "code",
   "execution_count": 7,
   "id": "fd05ef3c",
   "metadata": {},
   "outputs": [
    {
     "ename": "SyntaxError",
     "evalue": "invalid syntax (56688487.py, line 1)",
     "output_type": "error",
     "traceback": [
      "\u001b[1;36m  Input \u001b[1;32mIn [7]\u001b[1;36m\u001b[0m\n\u001b[1;33m    supriya=''kya ha ba''\u001b[0m\n\u001b[1;37m              ^\u001b[0m\n\u001b[1;31mSyntaxError\u001b[0m\u001b[1;31m:\u001b[0m invalid syntax\n"
     ]
    }
   ],
   "source": [
    "supriya=''kya ha ba''\n",
    "supriya"
   ]
  },
  {
   "cell_type": "code",
   "execution_count": 8,
   "id": "3cfadc6b",
   "metadata": {},
   "outputs": [
    {
     "data": {
      "text/plain": [
       "'h are baba kya hal hai3 568 ke bsre me kya sochata hai tu@@ u % my ^ jud $ jdhsubvs8 %%E'"
      ]
     },
     "execution_count": 8,
     "metadata": {},
     "output_type": "execute_result"
    }
   ],
   "source": [
    "name=\"h are baba kya hal hai3 568 ke bsre me kya sochata hai tu@@ u % my ^ jud $ jdhsubvs8 %%E\"\n",
    "name"
   ]
  },
  {
   "cell_type": "code",
   "execution_count": 9,
   "id": "62e4bc24",
   "metadata": {},
   "outputs": [
    {
     "name": "stdout",
     "output_type": "stream",
     "text": [
      "h are baba kya hal hai3 568 ke bsre me kya sochata hai tu@@ u % my ^ jud $ jdhsubvs8 %%E\n"
     ]
    }
   ],
   "source": [
    "name=\"h are baba kya hal hai3 568 ke bsre me kya sochata hai tu@@ u % my ^ jud $ jdhsubvs8 %%E\"\n",
    "print(name)"
   ]
  },
  {
   "cell_type": "code",
   "execution_count": 13,
   "id": "25e76f7a",
   "metadata": {},
   "outputs": [
    {
     "name": "stdout",
     "output_type": "stream",
     "text": [
      "h are baba kya hal hai3 568 ke bsre me kya sochata hai tu@@ u % my ^ jud $ jdhsubvs8 %%E\n"
     ]
    }
   ],
   "source": [
    "print(name)"
   ]
  },
  {
   "cell_type": "code",
   "execution_count": 11,
   "id": "29d3dbb0",
   "metadata": {},
   "outputs": [
    {
     "data": {
      "text/plain": [
       "'h are baba kya hal hai3 568 ke bsre me kya sochata hai tu@@ u % my ^ jud $ jdhsubvs8 %%E'"
      ]
     },
     "execution_count": 11,
     "metadata": {},
     "output_type": "execute_result"
    }
   ],
   "source": [
    "name"
   ]
  },
  {
   "cell_type": "code",
   "execution_count": 14,
   "id": "db5e47c9",
   "metadata": {},
   "outputs": [
    {
     "name": "stdout",
     "output_type": "stream",
     "text": [
      "kya haa ha 'janab' ke bahu\n"
     ]
    }
   ],
   "source": [
    "dada=\"kya haa ha 'janab' ke bahu\"\n",
    "print(dada)"
   ]
  },
  {
   "cell_type": "code",
   "execution_count": 15,
   "id": "491c78f5",
   "metadata": {},
   "outputs": [
    {
     "data": {
      "text/plain": [
       "\"kya haa ha 'janab' ke bahu\""
      ]
     },
     "execution_count": 15,
     "metadata": {},
     "output_type": "execute_result"
    }
   ],
   "source": [
    "dada=\"kya haa ha 'janab' ke bahu\"\n",
    "dada"
   ]
  },
  {
   "cell_type": "code",
   "execution_count": 16,
   "id": "0d4b6e2c",
   "metadata": {},
   "outputs": [
    {
     "name": "stdout",
     "output_type": "stream",
     "text": [
      "kya haa ha \"janab\" ke bahu\n"
     ]
    }
   ],
   "source": [
    "dada='kya haa ha \"janab\" ke bahu'\n",
    "print(dada)"
   ]
  },
  {
   "cell_type": "code",
   "execution_count": 17,
   "id": "22156781",
   "metadata": {},
   "outputs": [
    {
     "data": {
      "text/plain": [
       "'kya haa ha \"janab\" ke bahu'"
      ]
     },
     "execution_count": 17,
     "metadata": {},
     "output_type": "execute_result"
    }
   ],
   "source": [
    "dada='kya haa ha \"janab\" ke bahu'\n",
    "dada"
   ]
  },
  {
   "cell_type": "code",
   "execution_count": 18,
   "id": "a9a8ede2",
   "metadata": {},
   "outputs": [
    {
     "name": "stdout",
     "output_type": "stream",
     "text": [
      "kya haa ha \"janab\" ke bahu\n"
     ]
    }
   ],
   "source": [
    "dada='''kya haa ha \"janab\" ke bahu'''\n",
    "print(dada)"
   ]
  },
  {
   "cell_type": "code",
   "execution_count": 19,
   "id": "f2ea1664",
   "metadata": {},
   "outputs": [
    {
     "data": {
      "text/plain": [
       "'kya haa ha \"janab\" ke bahu'"
      ]
     },
     "execution_count": 19,
     "metadata": {},
     "output_type": "execute_result"
    }
   ],
   "source": [
    "dada='''kya haa ha \"janab\" ke bahu'''\n",
    "dada"
   ]
  },
  {
   "cell_type": "code",
   "execution_count": 45,
   "id": "f4cbec3b",
   "metadata": {},
   "outputs": [
    {
     "ename": "SyntaxError",
     "evalue": "invalid syntax (1207489707.py, line 1)",
     "output_type": "error",
     "traceback": [
      "\u001b[1;36m  Input \u001b[1;32mIn [45]\u001b[1;36m\u001b[0m\n\u001b[1;33m    dada=\"\"\"kya haa ha \"\"\"janab\"\"\"ke bahu\"\"\"\u001b[0m\n\u001b[1;37m                          ^\u001b[0m\n\u001b[1;31mSyntaxError\u001b[0m\u001b[1;31m:\u001b[0m invalid syntax\n"
     ]
    }
   ],
   "source": [
    "dada=\"\"\"kya haa ha \"\"\"janab\"\"\"ke bahu\"\"\"\n",
    "dada"
   ]
  },
  {
   "cell_type": "code",
   "execution_count": 47,
   "id": "b44eca00",
   "metadata": {},
   "outputs": [
    {
     "ename": "SyntaxError",
     "evalue": "invalid syntax (2657127431.py, line 1)",
     "output_type": "error",
     "traceback": [
      "\u001b[1;36m  Input \u001b[1;32mIn [47]\u001b[1;36m\u001b[0m\n\u001b[1;33m    dada=\"kya haa ha\"janab\"ke bahu\"\u001b[0m\n\u001b[1;37m                     ^\u001b[0m\n\u001b[1;31mSyntaxError\u001b[0m\u001b[1;31m:\u001b[0m invalid syntax\n"
     ]
    }
   ],
   "source": [
    "dada=\"kya haa ha\"janab\"ke bahu\"\n",
    "dada"
   ]
  },
  {
   "cell_type": "code",
   "execution_count": 51,
   "id": "44b0a836",
   "metadata": {},
   "outputs": [
    {
     "name": "stdout",
     "output_type": "stream",
     "text": [
      "kya haa ha''janab''ke bahu\n"
     ]
    }
   ],
   "source": [
    "dada=\"kya haa ha''janab''ke bahu\"\n",
    "print(dada)"
   ]
  },
  {
   "cell_type": "code",
   "execution_count": 20,
   "id": "e88acc67",
   "metadata": {},
   "outputs": [
    {
     "name": "stdout",
     "output_type": "stream",
     "text": [
      "kya haa ha 'janab' ke bahu\n"
     ]
    }
   ],
   "source": [
    "dada='''kya haa ha 'janab' ke bahu'''\n",
    "print(dada)"
   ]
  },
  {
   "cell_type": "code",
   "execution_count": 21,
   "id": "d94f6f6c",
   "metadata": {},
   "outputs": [
    {
     "name": "stdout",
     "output_type": "stream",
     "text": [
      "kya haa ha \"janab\" ke bahu\n"
     ]
    }
   ],
   "source": [
    "dada=\"\"\"kya haa ha \"janab\" ke bahu\"\"\"\n",
    "print(dada)"
   ]
  },
  {
   "cell_type": "code",
   "execution_count": 38,
   "id": "1f7fd7bf",
   "metadata": {},
   "outputs": [
    {
     "data": {
      "text/plain": [
       "'kya haa ha \"janab\" ke bahu'"
      ]
     },
     "execution_count": 38,
     "metadata": {},
     "output_type": "execute_result"
    }
   ],
   "source": [
    "dada=\"\"\"kya haa ha \"janab\" ke bahu\"\"\"\n",
    "dada"
   ]
  },
  {
   "cell_type": "code",
   "execution_count": 44,
   "id": "da2b2056",
   "metadata": {},
   "outputs": [
    {
     "data": {
      "text/plain": [
       "'Python \"and\" Data Science'"
      ]
     },
     "execution_count": 44,
     "metadata": {},
     "output_type": "execute_result"
    }
   ],
   "source": [
    "text1 = \"Python \\\"and\\\" Data Science\"\n",
    "text1"
   ]
  },
  {
   "cell_type": "code",
   "execution_count": 45,
   "id": "4031962b",
   "metadata": {},
   "outputs": [
    {
     "name": "stdout",
     "output_type": "stream",
     "text": [
      "Python \"and\" Data Science\n"
     ]
    }
   ],
   "source": [
    "text1 = \"Python \\\"and\\\" Data Science\"\n",
    "print(text1)"
   ]
  },
  {
   "cell_type": "code",
   "execution_count": 46,
   "id": "4880aa00",
   "metadata": {},
   "outputs": [
    {
     "data": {
      "text/plain": [
       "'Python \"and\" Data Science'"
      ]
     },
     "execution_count": 46,
     "metadata": {},
     "output_type": "execute_result"
    }
   ],
   "source": [
    "text1 = \"\"\"Python \\\"and\\\" Data Science\"\"\"\n",
    "text1"
   ]
  },
  {
   "cell_type": "code",
   "execution_count": 47,
   "id": "60f1ded6",
   "metadata": {},
   "outputs": [
    {
     "name": "stdout",
     "output_type": "stream",
     "text": [
      "Python \"and\" Data Science\n"
     ]
    }
   ],
   "source": [
    "text1 = \"\"\"Python \"and\" Data Science\"\"\"\n",
    "print(text1)"
   ]
  },
  {
   "cell_type": "code",
   "execution_count": 48,
   "id": "805b8ede",
   "metadata": {},
   "outputs": [
    {
     "data": {
      "text/plain": [
       "' \"\"\"Python \"and\" Data Science\"\"\" '"
      ]
     },
     "execution_count": 48,
     "metadata": {},
     "output_type": "execute_result"
    }
   ],
   "source": [
    "text1 = \"\"\" \\\"\"\"Python \"and\" Data Science\\\"\"\" \"\"\"\n",
    "text1"
   ]
  },
  {
   "cell_type": "code",
   "execution_count": 51,
   "id": "acb4ecfb",
   "metadata": {},
   "outputs": [
    {
     "name": "stdout",
     "output_type": "stream",
     "text": [
      " \"\"\"Python \"and\" Data Science\"\"\" \n"
     ]
    }
   ],
   "source": [
    "text1 = \"\"\" \\\"\"\"Python \"and\" Data Science\\\"\"\" \"\"\"\n",
    "print(text1)"
   ]
  },
  {
   "cell_type": "code",
   "execution_count": 35,
   "id": "af068673",
   "metadata": {},
   "outputs": [
    {
     "data": {
      "text/plain": [
       "' \"\"\"Python \"and\" Data Science\"\"\" '"
      ]
     },
     "execution_count": 35,
     "metadata": {},
     "output_type": "execute_result"
    }
   ],
   "source": [
    "text1 = ' \\\"\"\"Python \"and\" Data Science\\\"\"\" '\n",
    "text1"
   ]
  },
  {
   "cell_type": "code",
   "execution_count": 53,
   "id": "0d4233da",
   "metadata": {},
   "outputs": [
    {
     "name": "stdout",
     "output_type": "stream",
     "text": [
      " \"\"\"Python \"and\" Data Science\"\"\" \n"
     ]
    }
   ],
   "source": [
    "text1 = ' \\\"\"\"Python \"and\" Data Science\\\"\"\" '\n",
    "print(text1)"
   ]
  },
  {
   "cell_type": "code",
   "execution_count": 54,
   "id": "194e9b30",
   "metadata": {},
   "outputs": [
    {
     "data": {
      "text/plain": [
       "'\"\"\"Python \"and\" Data Science\"\"\"'"
      ]
     },
     "execution_count": 54,
     "metadata": {},
     "output_type": "execute_result"
    }
   ],
   "source": [
    "text1 = '\\\"\"\"Python \"and\" Data Science\\\"\"\"'\n",
    "text1"
   ]
  },
  {
   "cell_type": "code",
   "execution_count": 60,
   "id": "57e67606",
   "metadata": {},
   "outputs": [
    {
     "data": {
      "text/plain": [
       "'\"Python \"and\" Data Science\"'"
      ]
     },
     "execution_count": 60,
     "metadata": {},
     "output_type": "execute_result"
    }
   ],
   "source": [
    "text1 = '\\\"Python \"and\" Data Science\\\"'\n",
    "text1"
   ]
  },
  {
   "cell_type": "code",
   "execution_count": 61,
   "id": "ac9de143",
   "metadata": {},
   "outputs": [
    {
     "name": "stdout",
     "output_type": "stream",
     "text": [
      "\"Python \"and\" Data Science\"\n"
     ]
    }
   ],
   "source": [
    "text1 = '\\\"Python \"and\" Data Science\\\"'\n",
    "print(text1)"
   ]
  },
  {
   "cell_type": "code",
   "execution_count": 55,
   "id": "4067c286",
   "metadata": {},
   "outputs": [
    {
     "data": {
      "text/plain": [
       "' \"\"\"Python and Data Science\"\"\" '"
      ]
     },
     "execution_count": 55,
     "metadata": {},
     "output_type": "execute_result"
    }
   ],
   "source": [
    "text1 = ' \\\"\"\"Python and Data Science\\\"\"\" '\n",
    "text1"
   ]
  },
  {
   "cell_type": "code",
   "execution_count": 56,
   "id": "ab6164e9",
   "metadata": {},
   "outputs": [
    {
     "name": "stdout",
     "output_type": "stream",
     "text": [
      " \"\"\"Python \"and\" Data Science\"\"\" \n"
     ]
    }
   ],
   "source": [
    "text1 = ' \\\"\"\"Python \"and\" Data Science\\\"\"\" '\n",
    "print(text1)"
   ]
  },
  {
   "cell_type": "code",
   "execution_count": 1,
   "id": "57da22b1",
   "metadata": {},
   "outputs": [
    {
     "data": {
      "text/plain": [
       "'Python \"and\" Data Science'"
      ]
     },
     "execution_count": 1,
     "metadata": {},
     "output_type": "execute_result"
    }
   ],
   "source": [
    "text1 = \"\"\"Python \\\"and\\\" Data Science\"\"\"\n",
    "text1"
   ]
  },
  {
   "cell_type": "code",
   "execution_count": 2,
   "id": "0628c424",
   "metadata": {},
   "outputs": [
    {
     "data": {
      "text/plain": [
       "'Python \"\"and\"\" Data Science'"
      ]
     },
     "execution_count": 2,
     "metadata": {},
     "output_type": "execute_result"
    }
   ],
   "source": [
    "text1 = \"\"\"Python \"\"and\"\" Data Science\"\"\"\n",
    "text1"
   ]
  },
  {
   "cell_type": "code",
   "execution_count": 59,
   "id": "b77a1ae6",
   "metadata": {},
   "outputs": [
    {
     "ename": "SyntaxError",
     "evalue": "unexpected character after line continuation character (2624608.py, line 1)",
     "output_type": "error",
     "traceback": [
      "\u001b[1;36m  Input \u001b[1;32mIn [59]\u001b[1;36m\u001b[0m\n\u001b[1;33m    text1 = \"Python \"and\\\" Data Science\"\u001b[0m\n\u001b[1;37m                         ^\u001b[0m\n\u001b[1;31mSyntaxError\u001b[0m\u001b[1;31m:\u001b[0m unexpected character after line continuation character\n"
     ]
    }
   ],
   "source": [
    "text1 = \"Python \"and\\\" Data Science\""
   ]
  },
  {
   "cell_type": "code",
   "execution_count": 22,
   "id": "dc0b1556",
   "metadata": {},
   "outputs": [
    {
     "name": "stdout",
     "output_type": "stream",
     "text": [
      "h are mere bahi@@___ ku tume ___ muje$$ rula ^^^ diya\n"
     ]
    }
   ],
   "source": [
    "print(\"h are mere bahi@@___ ku tume ___ muje$$ rula ^^^ diya\")"
   ]
  },
  {
   "cell_type": "code",
   "execution_count": 4,
   "id": "9a4e9905",
   "metadata": {},
   "outputs": [],
   "source": [
    "dada=(\"h are mere bahi@@___ ku tume ___ muje$$ rula ^^^ diya\")"
   ]
  },
  {
   "cell_type": "code",
   "execution_count": 5,
   "id": "ba205d0c",
   "metadata": {},
   "outputs": [
    {
     "data": {
      "text/plain": [
       "'h are mere bahi@@___ ku tume ___ muje$$ rula ^^^ diya'"
      ]
     },
     "execution_count": 5,
     "metadata": {},
     "output_type": "execute_result"
    }
   ],
   "source": [
    "dada"
   ]
  },
  {
   "cell_type": "code",
   "execution_count": 7,
   "id": "8a2a7991",
   "metadata": {},
   "outputs": [],
   "source": [
    "dada=(\"h are mere bahi@@___ ku tume ___ muje$$ rula ^^^ diya\")"
   ]
  },
  {
   "cell_type": "code",
   "execution_count": 8,
   "id": "82040847",
   "metadata": {},
   "outputs": [
    {
     "name": "stdout",
     "output_type": "stream",
     "text": [
      "h are mere bahi@@___ ku tume ___ muje$$ rula ^^^ diya\n"
     ]
    }
   ],
   "source": [
    "print(dada)"
   ]
  },
  {
   "cell_type": "code",
   "execution_count": 25,
   "id": "38d25077",
   "metadata": {},
   "outputs": [],
   "source": [
    "nana=\"h are mere bahi@@___ ku tume ___ muje$$ rula ^^^ diya\""
   ]
  },
  {
   "cell_type": "code",
   "execution_count": 26,
   "id": "43f1270d",
   "metadata": {},
   "outputs": [
    {
     "data": {
      "text/plain": [
       "'h are mere bahi@@___ ku tume ___ muje$$ rula ^^^ diya'"
      ]
     },
     "execution_count": 26,
     "metadata": {},
     "output_type": "execute_result"
    }
   ],
   "source": [
    "nana"
   ]
  },
  {
   "cell_type": "markdown",
   "id": "d576e585",
   "metadata": {},
   "source": [
    "### indexing"
   ]
  },
  {
   "cell_type": "raw",
   "id": "fbabbe0c",
   "metadata": {},
   "source": [
    "Indexing : It simply gives us position of any perticular character/word/element/number in our string\n",
    "There are two types of indexing:\n",
    "1. positive Indexing\n",
    "2. Negative Indexing"
   ]
  },
  {
   "cell_type": "markdown",
   "id": "ee878589",
   "metadata": {},
   "source": [
    "### positive indexing"
   ]
  },
  {
   "cell_type": "raw",
   "id": "1b734b65",
   "metadata": {},
   "source": [
    "akshay bhure\n",
    "a=0\n",
    "k=1\n",
    "s=2\n",
    "h=3\n",
    "a=4\n",
    "y=5\n",
    " =6\n",
    "b=7\n",
    "h=8\n",
    "u=9\n",
    "r=10\n",
    "e=11"
   ]
  },
  {
   "cell_type": "code",
   "execution_count": 40,
   "id": "251e3f53",
   "metadata": {},
   "outputs": [
    {
     "data": {
      "text/plain": [
       "'raju'"
      ]
     },
     "execution_count": 40,
     "metadata": {},
     "output_type": "execute_result"
    }
   ],
   "source": [
    "kaminaraja='raju'\n",
    "kaminaraja"
   ]
  },
  {
   "cell_type": "code",
   "execution_count": 39,
   "id": "f08982f5",
   "metadata": {},
   "outputs": [
    {
     "name": "stdout",
     "output_type": "stream",
     "text": [
      "r\n",
      "a\n",
      "j\n",
      "u\n"
     ]
    }
   ],
   "source": [
    "print(kaminaraja[0])\n",
    "print(kaminaraja[1])\n",
    "print(kaminaraja[2])\n",
    "print(kaminaraja[3])"
   ]
  },
  {
   "cell_type": "markdown",
   "id": "0475cc86",
   "metadata": {},
   "source": [
    "### Negative Index"
   ]
  },
  {
   "cell_type": "raw",
   "id": "e7d6576f",
   "metadata": {},
   "source": [
    "akshay bhure\n",
    "a=-12\n",
    "k=-11\n",
    "s=-10\n",
    "h=-9\n",
    "a=-8\n",
    "y=-7\n",
    " =-6\n",
    "b=-5\n",
    "h=-4\n",
    "u=-3\n",
    "r=-2\n",
    "e=-1"
   ]
  },
  {
   "cell_type": "code",
   "execution_count": 10,
   "id": "b8556b29",
   "metadata": {},
   "outputs": [
    {
     "data": {
      "text/plain": [
       "'raja maharaja'"
      ]
     },
     "execution_count": 10,
     "metadata": {},
     "output_type": "execute_result"
    }
   ],
   "source": [
    "adi='raja maharaja'\n",
    "adi"
   ]
  },
  {
   "cell_type": "code",
   "execution_count": 30,
   "id": "e9565690",
   "metadata": {},
   "outputs": [
    {
     "name": "stdout",
     "output_type": "stream",
     "text": [
      "r\n",
      "a\n",
      "j\n",
      "a\n",
      " \n",
      "m\n",
      "a\n",
      "h\n",
      "a\n",
      "r\n",
      "a\n",
      "j\n",
      "a\n"
     ]
    }
   ],
   "source": [
    "print(adi[-13])\n",
    "print(adi[-12])\n",
    "print(adi[-11])\n",
    "print(adi[-10])\n",
    "print(adi[-9])\n",
    "print(adi[-8])\n",
    "print(adi[-7])\n",
    "print(adi[-6])\n",
    "print(adi[-5])\n",
    "print(adi[-4])\n",
    "print(adi[-3])\n",
    "print(adi[-2])\n",
    "print(adi[-1])\n",
    "      "
   ]
  },
  {
   "cell_type": "code",
   "execution_count": 42,
   "id": "ec33a074",
   "metadata": {},
   "outputs": [
    {
     "name": "stdout",
     "output_type": "stream",
     "text": [
      "a\n",
      "j\n",
      "a\n",
      "r\n",
      "a\n",
      "h\n",
      "a\n",
      "m\n",
      " \n",
      "a\n",
      "j\n",
      "a\n"
     ]
    }
   ],
   "source": [
    "print(adi[-1])\n",
    "print(adi[-2])\n",
    "print(adi[-3])\n",
    "print(adi[-4])\n",
    "print(adi[-5])\n",
    "print(adi[-6])\n",
    "print(adi[-7])\n",
    "print(adi[-8])\n",
    "print(adi[-9])\n",
    "print(adi[-10])\n",
    "print(adi[-11])\n",
    "print(adi[-12])\n",
    "      "
   ]
  },
  {
   "cell_type": "code",
   "execution_count": 26,
   "id": "d66994e3",
   "metadata": {},
   "outputs": [
    {
     "data": {
      "text/plain": [
       "'mohammad'"
      ]
     },
     "execution_count": 26,
     "metadata": {},
     "output_type": "execute_result"
    }
   ],
   "source": [
    "d1='mohammad'\n",
    "d1"
   ]
  },
  {
   "cell_type": "code",
   "execution_count": 29,
   "id": "e515dd42",
   "metadata": {},
   "outputs": [
    {
     "name": "stdout",
     "output_type": "stream",
     "text": [
      "m\n",
      "o\n",
      "h\n",
      "a\n",
      "m\n",
      "m\n",
      "a\n",
      "d\n"
     ]
    }
   ],
   "source": [
    "print(d1[-8])\n",
    "print(d1[-7])\n",
    "print(d1[-6])\n",
    "print(d1[-5])\n",
    "print(d1[-4])\n",
    "print(d1[-3])\n",
    "print(d1[-2])\n",
    "print(d1[-1])"
   ]
  },
  {
   "cell_type": "markdown",
   "id": "4d90d1a1",
   "metadata": {},
   "source": [
    "### string indexing"
   ]
  },
  {
   "cell_type": "code",
   "execution_count": 1,
   "id": "26b2f22d",
   "metadata": {},
   "outputs": [],
   "source": [
    "harry='kab tak jayega'"
   ]
  },
  {
   "cell_type": "code",
   "execution_count": 2,
   "id": "2708db15",
   "metadata": {},
   "outputs": [
    {
     "data": {
      "text/plain": [
       "' '"
      ]
     },
     "execution_count": 2,
     "metadata": {},
     "output_type": "execute_result"
    }
   ],
   "source": [
    "harry[3]"
   ]
  },
  {
   "cell_type": "code",
   "execution_count": 3,
   "id": "b0a5f3c4",
   "metadata": {},
   "outputs": [
    {
     "name": "stdout",
     "output_type": "stream",
     "text": [
      " \n"
     ]
    }
   ],
   "source": [
    "print(harry[3])"
   ]
  },
  {
   "cell_type": "code",
   "execution_count": 4,
   "id": "e46499ba",
   "metadata": {},
   "outputs": [
    {
     "data": {
      "text/plain": [
       "'a'"
      ]
     },
     "execution_count": 4,
     "metadata": {},
     "output_type": "execute_result"
    }
   ],
   "source": [
    "harry[5]"
   ]
  },
  {
   "cell_type": "code",
   "execution_count": 5,
   "id": "85b62556",
   "metadata": {},
   "outputs": [
    {
     "name": "stdout",
     "output_type": "stream",
     "text": [
      "a\n"
     ]
    }
   ],
   "source": [
    "print(harry[5])"
   ]
  },
  {
   "cell_type": "code",
   "execution_count": 6,
   "id": "c1c6474c",
   "metadata": {},
   "outputs": [
    {
     "name": "stdout",
     "output_type": "stream",
     "text": [
      "a\n"
     ]
    }
   ],
   "source": [
    "print(harry[9])"
   ]
  },
  {
   "cell_type": "code",
   "execution_count": 7,
   "id": "372cc5e2",
   "metadata": {},
   "outputs": [
    {
     "data": {
      "text/plain": [
       "'a'"
      ]
     },
     "execution_count": 7,
     "metadata": {},
     "output_type": "execute_result"
    }
   ],
   "source": [
    "harry[9]"
   ]
  },
  {
   "cell_type": "code",
   "execution_count": 8,
   "id": "4be5a411",
   "metadata": {},
   "outputs": [
    {
     "data": {
      "text/plain": [
       "'y'"
      ]
     },
     "execution_count": 8,
     "metadata": {},
     "output_type": "execute_result"
    }
   ],
   "source": [
    "harry[-4]"
   ]
  },
  {
   "cell_type": "code",
   "execution_count": 9,
   "id": "7490b645",
   "metadata": {},
   "outputs": [
    {
     "name": "stdout",
     "output_type": "stream",
     "text": [
      "y\n"
     ]
    }
   ],
   "source": [
    "print(harry[-4])"
   ]
  },
  {
   "cell_type": "code",
   "execution_count": 11,
   "id": "5a6ab78a",
   "metadata": {},
   "outputs": [
    {
     "data": {
      "text/plain": [
       "'j'"
      ]
     },
     "execution_count": 11,
     "metadata": {},
     "output_type": "execute_result"
    }
   ],
   "source": [
    "harry='kab tak jayega'\n",
    "harry[8]"
   ]
  },
  {
   "cell_type": "code",
   "execution_count": 12,
   "id": "96f1eb51",
   "metadata": {},
   "outputs": [
    {
     "name": "stdout",
     "output_type": "stream",
     "text": [
      "j\n"
     ]
    }
   ],
   "source": [
    "harry='kab tak jayega'\n",
    "print(harry[8])"
   ]
  },
  {
   "cell_type": "code",
   "execution_count": 15,
   "id": "a1948462",
   "metadata": {},
   "outputs": [
    {
     "data": {
      "text/plain": [
       "'k'"
      ]
     },
     "execution_count": 15,
     "metadata": {},
     "output_type": "execute_result"
    }
   ],
   "source": [
    "harry='kab tak jayega'\n",
    "harry[-8]"
   ]
  },
  {
   "cell_type": "code",
   "execution_count": 13,
   "id": "bb751c21",
   "metadata": {},
   "outputs": [
    {
     "name": "stdout",
     "output_type": "stream",
     "text": [
      "k\n"
     ]
    }
   ],
   "source": [
    "harry='kab tak jayega'\n",
    "print(harry[-8])"
   ]
  },
  {
   "cell_type": "code",
   "execution_count": 18,
   "id": "efeb9173",
   "metadata": {},
   "outputs": [
    {
     "name": "stdout",
     "output_type": "stream",
     "text": [
      "14\n"
     ]
    }
   ],
   "source": [
    "harry='kab tak jayega'\n",
    "print(len(harry))"
   ]
  },
  {
   "cell_type": "code",
   "execution_count": 20,
   "id": "a73a5485",
   "metadata": {},
   "outputs": [
    {
     "data": {
      "text/plain": [
       "14"
      ]
     },
     "execution_count": 20,
     "metadata": {},
     "output_type": "execute_result"
    }
   ],
   "source": [
    "len(harry)"
   ]
  },
  {
   "cell_type": "code",
   "execution_count": 21,
   "id": "f01e0a01",
   "metadata": {},
   "outputs": [
    {
     "name": "stdout",
     "output_type": "stream",
     "text": [
      "14\n"
     ]
    }
   ],
   "source": [
    "print(len(harry))"
   ]
  },
  {
   "cell_type": "code",
   "execution_count": 22,
   "id": "b90b6f88",
   "metadata": {},
   "outputs": [
    {
     "data": {
      "text/plain": [
       "14"
      ]
     },
     "execution_count": 22,
     "metadata": {},
     "output_type": "execute_result"
    }
   ],
   "source": [
    "harry='kab tak jayega'\n",
    "len(harry)"
   ]
  },
  {
   "cell_type": "code",
   "execution_count": 19,
   "id": "f29ce370",
   "metadata": {},
   "outputs": [
    {
     "ename": "TypeError",
     "evalue": "'str' object is not callable",
     "output_type": "error",
     "traceback": [
      "\u001b[1;31m---------------------------------------------------------------------------\u001b[0m",
      "\u001b[1;31mTypeError\u001b[0m                                 Traceback (most recent call last)",
      "Input \u001b[1;32mIn [19]\u001b[0m, in \u001b[0;36m<cell line: 2>\u001b[1;34m()\u001b[0m\n\u001b[0;32m      1\u001b[0m harry\u001b[38;5;241m=\u001b[39m\u001b[38;5;124m'\u001b[39m\u001b[38;5;124mkab tak jayega\u001b[39m\u001b[38;5;124m'\u001b[39m\n\u001b[1;32m----> 2\u001b[0m \u001b[43mharry\u001b[49m\u001b[43m(\u001b[49m\u001b[38;5;28;43mlen\u001b[39;49m\u001b[43m)\u001b[49m\n",
      "\u001b[1;31mTypeError\u001b[0m: 'str' object is not callable"
     ]
    }
   ],
   "source": [
    "harry='kab tak jayega'\n",
    "harry(len)"
   ]
  },
  {
   "cell_type": "code",
   "execution_count": 23,
   "id": "f5700a62",
   "metadata": {},
   "outputs": [
    {
     "data": {
      "text/plain": [
       "14"
      ]
     },
     "execution_count": 23,
     "metadata": {},
     "output_type": "execute_result"
    }
   ],
   "source": [
    "raw=len(harry)\n",
    "raw"
   ]
  },
  {
   "cell_type": "code",
   "execution_count": 24,
   "id": "4f0a54d8",
   "metadata": {},
   "outputs": [
    {
     "name": "stdout",
     "output_type": "stream",
     "text": [
      "14\n"
     ]
    }
   ],
   "source": [
    "raw=len(harry)\n",
    "print(raw)"
   ]
  },
  {
   "cell_type": "code",
   "execution_count": 34,
   "id": "d2500a85",
   "metadata": {},
   "outputs": [],
   "source": [
    "harry='kab tak jayega'"
   ]
  },
  {
   "cell_type": "code",
   "execution_count": 35,
   "id": "b0b830dd",
   "metadata": {},
   "outputs": [
    {
     "name": "stdout",
     "output_type": "stream",
     "text": [
      "14\n"
     ]
    }
   ],
   "source": [
    "print(len(harry))"
   ]
  },
  {
   "cell_type": "code",
   "execution_count": 37,
   "id": "b33eaefb",
   "metadata": {},
   "outputs": [
    {
     "data": {
      "text/plain": [
       "'g'"
      ]
     },
     "execution_count": 37,
     "metadata": {},
     "output_type": "execute_result"
    }
   ],
   "source": [
    "harry[len(harry)-2]"
   ]
  },
  {
   "cell_type": "code",
   "execution_count": 41,
   "id": "a99754fe",
   "metadata": {},
   "outputs": [
    {
     "data": {
      "text/plain": [
       "' '"
      ]
     },
     "execution_count": 41,
     "metadata": {},
     "output_type": "execute_result"
    }
   ],
   "source": [
    "harry[len(harry)-7]"
   ]
  },
  {
   "cell_type": "code",
   "execution_count": 42,
   "id": "abb50a08",
   "metadata": {},
   "outputs": [
    {
     "data": {
      "text/plain": [
       "'a'"
      ]
     },
     "execution_count": 42,
     "metadata": {},
     "output_type": "execute_result"
    }
   ],
   "source": [
    "harry[len(harry)-9] #string[14-9]=5 means harry[5]"
   ]
  },
  {
   "cell_type": "code",
   "execution_count": 62,
   "id": "765e6d88",
   "metadata": {},
   "outputs": [
    {
     "data": {
      "text/plain": [
       "'a'"
      ]
     },
     "execution_count": 62,
     "metadata": {},
     "output_type": "execute_result"
    }
   ],
   "source": [
    "harry[5]"
   ]
  },
  {
   "cell_type": "code",
   "execution_count": 43,
   "id": "db8959af",
   "metadata": {},
   "outputs": [
    {
     "name": "stdout",
     "output_type": "stream",
     "text": [
      "j\n"
     ]
    }
   ],
   "source": [
    "print(harry[len(harry)-6])"
   ]
  },
  {
   "cell_type": "code",
   "execution_count": 36,
   "id": "77fa55fe",
   "metadata": {},
   "outputs": [
    {
     "ename": "SyntaxError",
     "evalue": "invalid syntax (1954620333.py, line 1)",
     "output_type": "error",
     "traceback": [
      "\u001b[1;36m  Input \u001b[1;32mIn [36]\u001b[1;36m\u001b[0m\n\u001b[1;33m    harry[len(harry)2]\u001b[0m\n\u001b[1;37m                    ^\u001b[0m\n\u001b[1;31mSyntaxError\u001b[0m\u001b[1;31m:\u001b[0m invalid syntax\n"
     ]
    }
   ],
   "source": [
    "harry[len(harry)2]"
   ]
  },
  {
   "cell_type": "code",
   "execution_count": 39,
   "id": "18192633",
   "metadata": {},
   "outputs": [
    {
     "ename": "TypeError",
     "evalue": "'builtin_function_or_method' object is not subscriptable",
     "output_type": "error",
     "traceback": [
      "\u001b[1;31m---------------------------------------------------------------------------\u001b[0m",
      "\u001b[1;31mTypeError\u001b[0m                                 Traceback (most recent call last)",
      "Input \u001b[1;32mIn [39]\u001b[0m, in \u001b[0;36m<cell line: 1>\u001b[1;34m()\u001b[0m\n\u001b[1;32m----> 1\u001b[0m \u001b[38;5;28;43mprint\u001b[39;49m\u001b[43m[\u001b[49m\u001b[38;5;28;43mlen\u001b[39;49m\u001b[43m(\u001b[49m\u001b[43mharry\u001b[49m\u001b[43m)\u001b[49m\u001b[38;5;241;43m-\u001b[39;49m\u001b[38;5;241;43m2\u001b[39;49m\u001b[43m]\u001b[49m\n",
      "\u001b[1;31mTypeError\u001b[0m: 'builtin_function_or_method' object is not subscriptable"
     ]
    }
   ],
   "source": [
    "print[len(harry)-2]"
   ]
  },
  {
   "cell_type": "code",
   "execution_count": 44,
   "id": "3ad84f4c",
   "metadata": {},
   "outputs": [
    {
     "ename": "SyntaxError",
     "evalue": "invalid syntax (106223974.py, line 1)",
     "output_type": "error",
     "traceback": [
      "\u001b[1;36m  Input \u001b[1;32mIn [44]\u001b[1;36m\u001b[0m\n\u001b[1;33m    print(harry[len(harry)6])\u001b[0m\n\u001b[1;37m                          ^\u001b[0m\n\u001b[1;31mSyntaxError\u001b[0m\u001b[1;31m:\u001b[0m invalid syntax\n"
     ]
    }
   ],
   "source": [
    "print(harry[len(harry)6])"
   ]
  },
  {
   "cell_type": "code",
   "execution_count": 7,
   "id": "08d76962",
   "metadata": {},
   "outputs": [],
   "source": [
    "harry='kab tak jayega'"
   ]
  },
  {
   "cell_type": "code",
   "execution_count": 3,
   "id": "5e6e34f9",
   "metadata": {},
   "outputs": [
    {
     "data": {
      "text/plain": [
       "14"
      ]
     },
     "execution_count": 3,
     "metadata": {},
     "output_type": "execute_result"
    }
   ],
   "source": [
    "len(harry)"
   ]
  },
  {
   "cell_type": "code",
   "execution_count": 4,
   "id": "ee51adf4",
   "metadata": {},
   "outputs": [
    {
     "data": {
      "text/plain": [
       "False"
      ]
     },
     "execution_count": 4,
     "metadata": {},
     "output_type": "execute_result"
    }
   ],
   "source": [
    "harry[6]==harry[len(harry)-9] "
   ]
  },
  {
   "cell_type": "code",
   "execution_count": 6,
   "id": "a385208f",
   "metadata": {},
   "outputs": [
    {
     "data": {
      "text/plain": [
       "True"
      ]
     },
     "execution_count": 6,
     "metadata": {},
     "output_type": "execute_result"
    }
   ],
   "source": [
    "harry[6]==harry[-8]"
   ]
  },
  {
   "cell_type": "code",
   "execution_count": 5,
   "id": "826c4518",
   "metadata": {},
   "outputs": [
    {
     "data": {
      "text/plain": [
       "True"
      ]
     },
     "execution_count": 5,
     "metadata": {},
     "output_type": "execute_result"
    }
   ],
   "source": [
    "harry[6]==harry[len(harry)-8] "
   ]
  },
  {
   "cell_type": "code",
   "execution_count": 8,
   "id": "6a3d8a7d",
   "metadata": {},
   "outputs": [
    {
     "name": "stdout",
     "output_type": "stream",
     "text": [
      "k\n",
      "k\n"
     ]
    },
    {
     "data": {
      "text/plain": [
       "True"
      ]
     },
     "execution_count": 8,
     "metadata": {},
     "output_type": "execute_result"
    }
   ],
   "source": [
    "print(harry[6])==print(harry[-8])"
   ]
  },
  {
   "cell_type": "code",
   "execution_count": 49,
   "id": "e15e9272",
   "metadata": {},
   "outputs": [
    {
     "name": "stdout",
     "output_type": "stream",
     "text": [
      "k\n",
      "k\n"
     ]
    },
    {
     "data": {
      "text/plain": [
       "True"
      ]
     },
     "execution_count": 49,
     "metadata": {},
     "output_type": "execute_result"
    }
   ],
   "source": [
    "print(harry[6])==print(harry[len(harry)-8])"
   ]
  },
  {
   "cell_type": "code",
   "execution_count": 10,
   "id": "e281ced9",
   "metadata": {},
   "outputs": [],
   "source": [
    "harry='kab tak jayega'"
   ]
  },
  {
   "cell_type": "code",
   "execution_count": 11,
   "id": "27fa8c03",
   "metadata": {},
   "outputs": [
    {
     "ename": "IndexError",
     "evalue": "string index out of range",
     "output_type": "error",
     "traceback": [
      "\u001b[1;31m---------------------------------------------------------------------------\u001b[0m",
      "\u001b[1;31mIndexError\u001b[0m                                Traceback (most recent call last)",
      "Input \u001b[1;32mIn [11]\u001b[0m, in \u001b[0;36m<cell line: 1>\u001b[1;34m()\u001b[0m\n\u001b[1;32m----> 1\u001b[0m \u001b[43mharry\u001b[49m\u001b[43m[\u001b[49m\u001b[38;5;241;43m14\u001b[39;49m\u001b[43m]\u001b[49m\n",
      "\u001b[1;31mIndexError\u001b[0m: string index out of range"
     ]
    }
   ],
   "source": [
    "harry[14]"
   ]
  },
  {
   "cell_type": "code",
   "execution_count": 12,
   "id": "36ad9f52",
   "metadata": {},
   "outputs": [
    {
     "ename": "IndexError",
     "evalue": "string index out of range",
     "output_type": "error",
     "traceback": [
      "\u001b[1;31m---------------------------------------------------------------------------\u001b[0m",
      "\u001b[1;31mIndexError\u001b[0m                                Traceback (most recent call last)",
      "Input \u001b[1;32mIn [12]\u001b[0m, in \u001b[0;36m<cell line: 1>\u001b[1;34m()\u001b[0m\n\u001b[1;32m----> 1\u001b[0m \u001b[43mharry\u001b[49m\u001b[43m[\u001b[49m\u001b[38;5;241;43m-\u001b[39;49m\u001b[38;5;241;43m15\u001b[39;49m\u001b[43m]\u001b[49m\n",
      "\u001b[1;31mIndexError\u001b[0m: string index out of range"
     ]
    }
   ],
   "source": [
    "harry[-15]"
   ]
  },
  {
   "cell_type": "code",
   "execution_count": 16,
   "id": "e03df8c1",
   "metadata": {},
   "outputs": [
    {
     "data": {
      "text/plain": [
       "14"
      ]
     },
     "execution_count": 16,
     "metadata": {},
     "output_type": "execute_result"
    }
   ],
   "source": [
    "len(harry)"
   ]
  },
  {
   "cell_type": "code",
   "execution_count": 15,
   "id": "0738962c",
   "metadata": {},
   "outputs": [
    {
     "name": "stdout",
     "output_type": "stream",
     "text": [
      "14\n"
     ]
    }
   ],
   "source": [
    "print(len(harry))"
   ]
  },
  {
   "cell_type": "code",
   "execution_count": 13,
   "id": "8fd179b2",
   "metadata": {},
   "outputs": [
    {
     "data": {
      "text/plain": [
       "'k'"
      ]
     },
     "execution_count": 13,
     "metadata": {},
     "output_type": "execute_result"
    }
   ],
   "source": [
    "harry[-14]"
   ]
  },
  {
   "cell_type": "code",
   "execution_count": 14,
   "id": "c6d2f53c",
   "metadata": {},
   "outputs": [
    {
     "name": "stdout",
     "output_type": "stream",
     "text": [
      "k\n"
     ]
    }
   ],
   "source": [
    "print(harry[-14])"
   ]
  },
  {
   "cell_type": "code",
   "execution_count": 56,
   "id": "2be3bfc8",
   "metadata": {},
   "outputs": [
    {
     "name": "stdout",
     "output_type": "stream",
     "text": [
      "k\n"
     ]
    }
   ],
   "source": [
    "print(harry[len(harry)-14])"
   ]
  },
  {
   "cell_type": "code",
   "execution_count": 58,
   "id": "2e69af6f",
   "metadata": {},
   "outputs": [
    {
     "ename": "SyntaxError",
     "evalue": "invalid syntax (2312247642.py, line 1)",
     "output_type": "error",
     "traceback": [
      "\u001b[1;36m  Input \u001b[1;32mIn [58]\u001b[1;36m\u001b[0m\n\u001b[1;33m    print(harry[len(harry)1]) #error beacuse applying length means total length+1= out of range so comming error\u001b[0m\n\u001b[1;37m                          ^\u001b[0m\n\u001b[1;31mSyntaxError\u001b[0m\u001b[1;31m:\u001b[0m invalid syntax\n"
     ]
    }
   ],
   "source": [
    "print(harry[len(harry)1]) #error beacuse applying length means total length+1= out of range so comming error"
   ]
  },
  {
   "cell_type": "code",
   "execution_count": 59,
   "id": "84820661",
   "metadata": {},
   "outputs": [
    {
     "name": "stdout",
     "output_type": "stream",
     "text": [
      "a\n"
     ]
    }
   ],
   "source": [
    "print(harry[len(harry)-1])"
   ]
  },
  {
   "cell_type": "markdown",
   "id": "eebfe136",
   "metadata": {},
   "source": [
    "### string slicing"
   ]
  },
  {
   "cell_type": "raw",
   "id": "ac393235",
   "metadata": {},
   "source": [
    "String Slicing: We can cut or we can have any part of string.\n",
    "string[start index : end index]\n",
    "end index is excluded."
   ]
  },
  {
   "cell_type": "code",
   "execution_count": 1,
   "id": "9dc2a076",
   "metadata": {},
   "outputs": [],
   "source": [
    "myd='jupyter'# 0,1,2,3,4,5,6,7"
   ]
  },
  {
   "cell_type": "code",
   "execution_count": 2,
   "id": "289040e9",
   "metadata": {},
   "outputs": [
    {
     "data": {
      "text/plain": [
       "'jup'"
      ]
     },
     "execution_count": 2,
     "metadata": {},
     "output_type": "execute_result"
    }
   ],
   "source": [
    "myd[0:3] # 0,1,2 (3rd index is excluded)"
   ]
  },
  {
   "cell_type": "code",
   "execution_count": 3,
   "id": "25ec094c",
   "metadata": {},
   "outputs": [
    {
     "name": "stdout",
     "output_type": "stream",
     "text": [
      "jup\n"
     ]
    }
   ],
   "source": [
    "myd[0:3]\n",
    "print(myd[0:3])"
   ]
  },
  {
   "cell_type": "code",
   "execution_count": 4,
   "id": "71d1afc0",
   "metadata": {},
   "outputs": [
    {
     "name": "stdout",
     "output_type": "stream",
     "text": [
      "jupyter\n"
     ]
    }
   ],
   "source": [
    "myd[0:7]\n",
    "print(myd[0:7])"
   ]
  },
  {
   "cell_type": "code",
   "execution_count": 68,
   "id": "bafec67c",
   "metadata": {},
   "outputs": [
    {
     "name": "stdout",
     "output_type": "stream",
     "text": [
      "jupyt\n"
     ]
    }
   ],
   "source": [
    "myd[0:5]\n",
    "print(myd[0:5])"
   ]
  },
  {
   "cell_type": "code",
   "execution_count": 69,
   "id": "13f584ff",
   "metadata": {},
   "outputs": [
    {
     "data": {
      "text/plain": [
       "'jupyt'"
      ]
     },
     "execution_count": 69,
     "metadata": {},
     "output_type": "execute_result"
    }
   ],
   "source": [
    "myd[0:5]"
   ]
  },
  {
   "cell_type": "code",
   "execution_count": 70,
   "id": "1fe72f40",
   "metadata": {},
   "outputs": [
    {
     "name": "stdout",
     "output_type": "stream",
     "text": [
      "p\n"
     ]
    }
   ],
   "source": [
    "myd[2:3]\n",
    "print(myd[2:3])"
   ]
  },
  {
   "cell_type": "code",
   "execution_count": 71,
   "id": "3ac2e96b",
   "metadata": {},
   "outputs": [
    {
     "name": "stdout",
     "output_type": "stream",
     "text": [
      "pyt\n"
     ]
    }
   ],
   "source": [
    "myd[2:5]\n",
    "print(myd[2:5])"
   ]
  },
  {
   "cell_type": "code",
   "execution_count": 72,
   "id": "acff9b19",
   "metadata": {},
   "outputs": [
    {
     "data": {
      "text/plain": [
       "'jupyter'"
      ]
     },
     "execution_count": 72,
     "metadata": {},
     "output_type": "execute_result"
    }
   ],
   "source": [
    "myd[0:]"
   ]
  },
  {
   "cell_type": "code",
   "execution_count": 74,
   "id": "94f0e289",
   "metadata": {},
   "outputs": [
    {
     "data": {
      "text/plain": [
       "'jupyter'"
      ]
     },
     "execution_count": 74,
     "metadata": {},
     "output_type": "execute_result"
    }
   ],
   "source": [
    "myd[:7]"
   ]
  },
  {
   "cell_type": "code",
   "execution_count": 75,
   "id": "bd39a09e",
   "metadata": {},
   "outputs": [
    {
     "data": {
      "text/plain": [
       "'jupyter'"
      ]
     },
     "execution_count": 75,
     "metadata": {},
     "output_type": "execute_result"
    }
   ],
   "source": [
    "myd[:]"
   ]
  },
  {
   "cell_type": "code",
   "execution_count": 76,
   "id": "106bfdd7",
   "metadata": {},
   "outputs": [
    {
     "data": {
      "text/plain": [
       "'jup'"
      ]
     },
     "execution_count": 76,
     "metadata": {},
     "output_type": "execute_result"
    }
   ],
   "source": [
    "myd[:3]"
   ]
  },
  {
   "cell_type": "code",
   "execution_count": 77,
   "id": "c313184b",
   "metadata": {},
   "outputs": [
    {
     "name": "stdout",
     "output_type": "stream",
     "text": [
      "jupyter\n"
     ]
    }
   ],
   "source": [
    "print(myd[0:])"
   ]
  },
  {
   "cell_type": "code",
   "execution_count": 78,
   "id": "36a0110b",
   "metadata": {},
   "outputs": [
    {
     "name": "stdout",
     "output_type": "stream",
     "text": [
      "jupyter\n"
     ]
    }
   ],
   "source": [
    "print(myd[:])"
   ]
  },
  {
   "cell_type": "code",
   "execution_count": 81,
   "id": "27898de0",
   "metadata": {},
   "outputs": [
    {
     "name": "stdout",
     "output_type": "stream",
     "text": [
      "jupyt\n"
     ]
    }
   ],
   "source": [
    "print(myd[:5])"
   ]
  },
  {
   "cell_type": "code",
   "execution_count": 84,
   "id": "ca363949",
   "metadata": {},
   "outputs": [
    {
     "name": "stdout",
     "output_type": "stream",
     "text": [
      "upyt\n"
     ]
    }
   ],
   "source": [
    "print(myd[-6:-2]) # -2 is excluded means start from -3 "
   ]
  },
  {
   "cell_type": "code",
   "execution_count": 87,
   "id": "9b9c39e5",
   "metadata": {},
   "outputs": [
    {
     "name": "stdout",
     "output_type": "stream",
     "text": [
      "upyt\n"
     ]
    }
   ],
   "source": [
    "print(myd[1:5])"
   ]
  },
  {
   "cell_type": "code",
   "execution_count": 83,
   "id": "572dd403",
   "metadata": {},
   "outputs": [
    {
     "data": {
      "text/plain": [
       "'pyte'"
      ]
     },
     "execution_count": 83,
     "metadata": {},
     "output_type": "execute_result"
    }
   ],
   "source": [
    "(myd[-5:-1])"
   ]
  },
  {
   "cell_type": "code",
   "execution_count": 85,
   "id": "1452a09e",
   "metadata": {},
   "outputs": [
    {
     "name": "stdout",
     "output_type": "stream",
     "text": [
      "upyter\n"
     ]
    }
   ],
   "source": [
    "print(myd[-6:])"
   ]
  },
  {
   "cell_type": "code",
   "execution_count": 86,
   "id": "9b7e1544",
   "metadata": {},
   "outputs": [
    {
     "name": "stdout",
     "output_type": "stream",
     "text": [
      "jupyter\n"
     ]
    }
   ],
   "source": [
    "print(myd[-7:])"
   ]
  },
  {
   "cell_type": "code",
   "execution_count": 88,
   "id": "492857b8",
   "metadata": {},
   "outputs": [],
   "source": [
    "# string[start index : end index]"
   ]
  },
  {
   "cell_type": "markdown",
   "id": "0540834d",
   "metadata": {},
   "source": [
    "### step size"
   ]
  },
  {
   "cell_type": "markdown",
   "id": "9704c830",
   "metadata": {},
   "source": [
    "string[start index : end index : step size]\n",
    "step size is by default 1."
   ]
  },
  {
   "cell_type": "code",
   "execution_count": 1,
   "id": "00b3eda0",
   "metadata": {},
   "outputs": [
    {
     "data": {
      "text/plain": [
       "'amicho das'"
      ]
     },
     "execution_count": 1,
     "metadata": {},
     "output_type": "execute_result"
    }
   ],
   "source": [
    "my_d_3='amicho das'\n",
    "my_d_3"
   ]
  },
  {
   "cell_type": "code",
   "execution_count": 98,
   "id": "694c9c08",
   "metadata": {},
   "outputs": [
    {
     "name": "stdout",
     "output_type": "stream",
     "text": [
      "10\n"
     ]
    }
   ],
   "source": [
    "print(len(my_d_3))"
   ]
  },
  {
   "cell_type": "code",
   "execution_count": 99,
   "id": "3962ad23",
   "metadata": {},
   "outputs": [
    {
     "data": {
      "text/plain": [
       "10"
      ]
     },
     "execution_count": 99,
     "metadata": {},
     "output_type": "execute_result"
    }
   ],
   "source": [
    "len(my_d_3)"
   ]
  },
  {
   "cell_type": "code",
   "execution_count": 97,
   "id": "30c35a1e",
   "metadata": {},
   "outputs": [
    {
     "data": {
      "text/plain": [
       "int"
      ]
     },
     "execution_count": 97,
     "metadata": {},
     "output_type": "execute_result"
    }
   ],
   "source": [
    "type(len(my_d_3))"
   ]
  },
  {
   "cell_type": "code",
   "execution_count": 2,
   "id": "508cd1d2",
   "metadata": {},
   "outputs": [
    {
     "data": {
      "text/plain": [
       "str"
      ]
     },
     "execution_count": 2,
     "metadata": {},
     "output_type": "execute_result"
    }
   ],
   "source": [
    "type(my_d_3)"
   ]
  },
  {
   "cell_type": "code",
   "execution_count": 92,
   "id": "f41b568c",
   "metadata": {},
   "outputs": [
    {
     "data": {
      "text/plain": [
       "'amich'"
      ]
     },
     "execution_count": 92,
     "metadata": {},
     "output_type": "execute_result"
    }
   ],
   "source": [
    "my_d_3[0:5:]"
   ]
  },
  {
   "cell_type": "code",
   "execution_count": 91,
   "id": "fb843853",
   "metadata": {},
   "outputs": [
    {
     "data": {
      "text/plain": [
       "'amich'"
      ]
     },
     "execution_count": 91,
     "metadata": {},
     "output_type": "execute_result"
    }
   ],
   "source": [
    "my_d_3[0:5:1]"
   ]
  },
  {
   "cell_type": "code",
   "execution_count": 93,
   "id": "fc2fcc44",
   "metadata": {},
   "outputs": [
    {
     "data": {
      "text/plain": [
       "'aih'"
      ]
     },
     "execution_count": 93,
     "metadata": {},
     "output_type": "execute_result"
    }
   ],
   "source": [
    "my_d_3[0:5:2]"
   ]
  },
  {
   "cell_type": "code",
   "execution_count": 94,
   "id": "ea79340f",
   "metadata": {},
   "outputs": [
    {
     "data": {
      "text/plain": [
       "'aih '"
      ]
     },
     "execution_count": 94,
     "metadata": {},
     "output_type": "execute_result"
    }
   ],
   "source": [
    "my_d_3[0:8:2]"
   ]
  },
  {
   "cell_type": "code",
   "execution_count": 95,
   "id": "147bfcfb",
   "metadata": {},
   "outputs": [
    {
     "data": {
      "text/plain": [
       "'aih a'"
      ]
     },
     "execution_count": 95,
     "metadata": {},
     "output_type": "execute_result"
    }
   ],
   "source": [
    "my_d_3[0:9:2]"
   ]
  },
  {
   "cell_type": "code",
   "execution_count": 100,
   "id": "dbe46645",
   "metadata": {},
   "outputs": [
    {
     "data": {
      "text/plain": [
       "'aih a'"
      ]
     },
     "execution_count": 100,
     "metadata": {},
     "output_type": "execute_result"
    }
   ],
   "source": [
    "my_d_3[0:10:2]"
   ]
  },
  {
   "cell_type": "code",
   "execution_count": 101,
   "id": "e05decd5",
   "metadata": {},
   "outputs": [
    {
     "data": {
      "text/plain": [
       "'aih'"
      ]
     },
     "execution_count": 101,
     "metadata": {},
     "output_type": "execute_result"
    }
   ],
   "source": [
    "my_d_3[0:6:2]"
   ]
  },
  {
   "cell_type": "code",
   "execution_count": 102,
   "id": "76d988bb",
   "metadata": {},
   "outputs": [
    {
     "data": {
      "text/plain": [
       "'ac '"
      ]
     },
     "execution_count": 102,
     "metadata": {},
     "output_type": "execute_result"
    }
   ],
   "source": [
    "my_d_3[0:9:3]"
   ]
  },
  {
   "cell_type": "code",
   "execution_count": 103,
   "id": "b211c629",
   "metadata": {},
   "outputs": [
    {
     "data": {
      "text/plain": [
       "'aha'"
      ]
     },
     "execution_count": 103,
     "metadata": {},
     "output_type": "execute_result"
    }
   ],
   "source": [
    "my_d_3[0:9:4]"
   ]
  },
  {
   "cell_type": "code",
   "execution_count": 109,
   "id": "062ee0f4",
   "metadata": {},
   "outputs": [
    {
     "name": "stdout",
     "output_type": "stream",
     "text": [
      "aih a\n"
     ]
    }
   ],
   "source": [
    "my_d_3[0:9:2]\n",
    "print(my_d_3[0:9:2])"
   ]
  },
  {
   "cell_type": "code",
   "execution_count": 105,
   "id": "2dee86d3",
   "metadata": {},
   "outputs": [
    {
     "data": {
      "text/plain": [
       "'aih a'"
      ]
     },
     "execution_count": 105,
     "metadata": {},
     "output_type": "execute_result"
    }
   ],
   "source": [
    "my_d_3[:10:2]"
   ]
  },
  {
   "cell_type": "code",
   "execution_count": 106,
   "id": "fbf51e83",
   "metadata": {},
   "outputs": [
    {
     "data": {
      "text/plain": [
       "'aih a'"
      ]
     },
     "execution_count": 106,
     "metadata": {},
     "output_type": "execute_result"
    }
   ],
   "source": [
    "my_d_3[::2]"
   ]
  },
  {
   "cell_type": "code",
   "execution_count": 107,
   "id": "7b7ad6a4",
   "metadata": {},
   "outputs": [
    {
     "data": {
      "text/plain": [
       "'amicho das'"
      ]
     },
     "execution_count": 107,
     "metadata": {},
     "output_type": "execute_result"
    }
   ],
   "source": [
    "my_d_3[0:]\n",
    "my_d_3[:10]\n",
    "my_d_3[:]"
   ]
  },
  {
   "cell_type": "code",
   "execution_count": 108,
   "id": "18557393",
   "metadata": {},
   "outputs": [
    {
     "data": {
      "text/plain": [
       "'amicho das'"
      ]
     },
     "execution_count": 108,
     "metadata": {},
     "output_type": "execute_result"
    }
   ],
   "source": [
    "my_d_3[0:]\n",
    "my_d_3[:10]\n",
    "my_d_3[:]\n",
    "my_d_3[0::]"
   ]
  },
  {
   "cell_type": "code",
   "execution_count": 111,
   "id": "aebd88f1",
   "metadata": {},
   "outputs": [
    {
     "name": "stdout",
     "output_type": "stream",
     "text": [
      "the step size string is: amicho das\n"
     ]
    }
   ],
   "source": [
    "print(\"the step size string is:\",my_d_3[0::])"
   ]
  },
  {
   "cell_type": "code",
   "execution_count": 62,
   "id": "f2210e41",
   "metadata": {},
   "outputs": [
    {
     "name": "stdout",
     "output_type": "stream",
     "text": [
      "the step size string is: my_d_3[0::]\n"
     ]
    }
   ],
   "source": [
    "print(f\"the step size string is: my_d_3[0::]\")"
   ]
  },
  {
   "cell_type": "markdown",
   "id": "aa2acf35",
   "metadata": {},
   "source": [
    "### reversed string"
   ]
  },
  {
   "cell_type": "markdown",
   "id": "6e41b0ae",
   "metadata": {},
   "source": [
    "here also by deafault step size is -1"
   ]
  },
  {
   "cell_type": "code",
   "execution_count": 1,
   "id": "f906e143",
   "metadata": {},
   "outputs": [],
   "source": [
    "my_d_3='amicho das'"
   ]
  },
  {
   "cell_type": "code",
   "execution_count": 122,
   "id": "51d8b77c",
   "metadata": {},
   "outputs": [
    {
     "name": "stdout",
     "output_type": "stream",
     "text": [
      "the step size string is: amicho das\n"
     ]
    }
   ],
   "source": [
    "print(\"the step size string is:\",my_d_3[::])"
   ]
  },
  {
   "cell_type": "code",
   "execution_count": 123,
   "id": "effd0644",
   "metadata": {},
   "outputs": [
    {
     "name": "stdout",
     "output_type": "stream",
     "text": [
      "the step size string is: sad ohcima\n"
     ]
    }
   ],
   "source": [
    "print(\"the step size string is:\",my_d_3[::-1]) # here -1 if we take then hole string will be revers"
   ]
  },
  {
   "cell_type": "code",
   "execution_count": 124,
   "id": "c68dbba2",
   "metadata": {},
   "outputs": [
    {
     "data": {
      "text/plain": [
       "'sad ohcima'"
      ]
     },
     "execution_count": 124,
     "metadata": {},
     "output_type": "execute_result"
    }
   ],
   "source": [
    "my_d_3[::-1]"
   ]
  },
  {
   "cell_type": "code",
   "execution_count": 126,
   "id": "130d2342",
   "metadata": {},
   "outputs": [
    {
     "data": {
      "text/plain": [
       "'sdocm'"
      ]
     },
     "execution_count": 126,
     "metadata": {},
     "output_type": "execute_result"
    }
   ],
   "source": [
    "my_d_3[::-2]"
   ]
  },
  {
   "cell_type": "code",
   "execution_count": 128,
   "id": "e9595e52",
   "metadata": {},
   "outputs": [
    {
     "data": {
      "text/plain": [
       "'s ca'"
      ]
     },
     "execution_count": 128,
     "metadata": {},
     "output_type": "execute_result"
    }
   ],
   "source": [
    "my_d_3[::-3]"
   ]
  },
  {
   "cell_type": "code",
   "execution_count": 14,
   "id": "7c234f44",
   "metadata": {},
   "outputs": [
    {
     "data": {
      "text/plain": [
       "'i'"
      ]
     },
     "execution_count": 14,
     "metadata": {},
     "output_type": "execute_result"
    }
   ],
   "source": [
    "my_d_3[-8::-3]"
   ]
  },
  {
   "cell_type": "code",
   "execution_count": 5,
   "id": "06eef0c1",
   "metadata": {},
   "outputs": [
    {
     "data": {
      "text/plain": [
       "'ao'"
      ]
     },
     "execution_count": 5,
     "metadata": {},
     "output_type": "execute_result"
    }
   ],
   "source": [
    "my_d_3[-2:-8:-3]"
   ]
  },
  {
   "cell_type": "code",
   "execution_count": 4,
   "id": "3d0a1075",
   "metadata": {},
   "outputs": [
    {
     "data": {
      "text/plain": [
       "'ad ohci'"
      ]
     },
     "execution_count": 4,
     "metadata": {},
     "output_type": "execute_result"
    }
   ],
   "source": [
    "my_d_3[-2:-9:-1]"
   ]
  },
  {
   "cell_type": "code",
   "execution_count": 12,
   "id": "13dddace",
   "metadata": {},
   "outputs": [
    {
     "data": {
      "text/plain": [
       "'mcods'"
      ]
     },
     "execution_count": 12,
     "metadata": {},
     "output_type": "execute_result"
    }
   ],
   "source": [
    "my_d_3[1:10:2]"
   ]
  },
  {
   "cell_type": "code",
   "execution_count": 8,
   "id": "ada9cf7c",
   "metadata": {},
   "outputs": [
    {
     "data": {
      "text/plain": [
       "''"
      ]
     },
     "execution_count": 8,
     "metadata": {},
     "output_type": "execute_result"
    }
   ],
   "source": [
    "my_d_3[0:10:-2]"
   ]
  },
  {
   "cell_type": "code",
   "execution_count": null,
   "id": "1cf7d9dd",
   "metadata": {},
   "outputs": [],
   "source": []
  }
 ],
 "metadata": {
  "celltoolbar": "Raw Cell Format",
  "kernelspec": {
   "display_name": "Python 3 (ipykernel)",
   "language": "python",
   "name": "python3"
  },
  "language_info": {
   "codemirror_mode": {
    "name": "ipython",
    "version": 3
   },
   "file_extension": ".py",
   "mimetype": "text/x-python",
   "name": "python",
   "nbconvert_exporter": "python",
   "pygments_lexer": "ipython3",
   "version": "3.9.12"
  }
 },
 "nbformat": 4,
 "nbformat_minor": 5
}
