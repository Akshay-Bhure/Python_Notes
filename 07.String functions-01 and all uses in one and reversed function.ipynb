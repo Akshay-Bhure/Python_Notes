{
 "cells": [
  {
   "cell_type": "markdown",
   "id": "582b6e30",
   "metadata": {},
   "source": [
    "### string functions"
   ]
  },
  {
   "cell_type": "raw",
   "id": "852095b0",
   "metadata": {},
   "source": [
    "string >>\n",
    "\n",
    "String is a collection of characters/ special characters/numbers which are surrounded \n",
    "or enclosed by single, double or triple quote.\n"
   ]
  },
  {
   "cell_type": "raw",
   "id": "186230ac",
   "metadata": {},
   "source": [
    "string is text data type\n",
    "strings are imutable ( it can not be change)\n",
    "it simply means we can not change our original string.\n",
    "It Allows duplicates items.\n",
    "Indexing and slicing is possible.\n",
    "it is written in single or triple quotes"
   ]
  },
  {
   "cell_type": "code",
   "execution_count": 13,
   "id": "738f2dd2",
   "metadata": {},
   "outputs": [],
   "source": [
    "str1=\"\"\"radhe\"\"\"\n",
    "str2=\"\"\"sham\"\"\""
   ]
  },
  {
   "cell_type": "code",
   "execution_count": 14,
   "id": "2768106c",
   "metadata": {},
   "outputs": [
    {
     "data": {
      "text/plain": [
       "'radhesham'"
      ]
     },
     "execution_count": 14,
     "metadata": {},
     "output_type": "execute_result"
    }
   ],
   "source": [
    "str1+str2"
   ]
  },
  {
   "cell_type": "code",
   "execution_count": 17,
   "id": "0619c264",
   "metadata": {},
   "outputs": [
    {
     "data": {
      "text/plain": [
       "'radhesham'"
      ]
     },
     "execution_count": 17,
     "metadata": {},
     "output_type": "execute_result"
    }
   ],
   "source": [
    "str1+''+str2 #not given space between two quotes"
   ]
  },
  {
   "cell_type": "code",
   "execution_count": 16,
   "id": "2833bf25",
   "metadata": {},
   "outputs": [
    {
     "data": {
      "text/plain": [
       "'radhe sham'"
      ]
     },
     "execution_count": 16,
     "metadata": {},
     "output_type": "execute_result"
    }
   ],
   "source": [
    "str1+' '+str2 #given space between two quotes"
   ]
  },
  {
   "cell_type": "code",
   "execution_count": 15,
   "id": "e5bc4e33",
   "metadata": {},
   "outputs": [
    {
     "data": {
      "text/plain": [
       "'radhe sham'"
      ]
     },
     "execution_count": 15,
     "metadata": {},
     "output_type": "execute_result"
    }
   ],
   "source": [
    "str1+\" \"+str2"
   ]
  },
  {
   "cell_type": "code",
   "execution_count": 18,
   "id": "0adc6aa9",
   "metadata": {},
   "outputs": [
    {
     "data": {
      "text/plain": [
       "'radhesham'"
      ]
     },
     "execution_count": 18,
     "metadata": {},
     "output_type": "execute_result"
    }
   ],
   "source": [
    "str1+\"\"+str2"
   ]
  },
  {
   "cell_type": "code",
   "execution_count": 20,
   "id": "5c9dcfd1",
   "metadata": {},
   "outputs": [],
   "source": [
    "str1=\"123\"\n",
    "str2=\"456\""
   ]
  },
  {
   "cell_type": "code",
   "execution_count": 21,
   "id": "67ae5861",
   "metadata": {},
   "outputs": [
    {
     "data": {
      "text/plain": [
       "'123456'"
      ]
     },
     "execution_count": 21,
     "metadata": {},
     "output_type": "execute_result"
    }
   ],
   "source": [
    "str1+str2"
   ]
  },
  {
   "cell_type": "code",
   "execution_count": 22,
   "id": "104378b0",
   "metadata": {},
   "outputs": [
    {
     "name": "stdout",
     "output_type": "stream",
     "text": [
      "123456\n"
     ]
    }
   ],
   "source": [
    "print(str1+str2)"
   ]
  },
  {
   "cell_type": "code",
   "execution_count": 23,
   "id": "91e5492f",
   "metadata": {},
   "outputs": [
    {
     "data": {
      "text/plain": [
       "'123 456'"
      ]
     },
     "execution_count": 23,
     "metadata": {},
     "output_type": "execute_result"
    }
   ],
   "source": [
    "str1+\" \"+str2"
   ]
  },
  {
   "cell_type": "code",
   "execution_count": 24,
   "id": "a5077c21",
   "metadata": {},
   "outputs": [
    {
     "data": {
      "text/plain": [
       "'123 456'"
      ]
     },
     "execution_count": 24,
     "metadata": {},
     "output_type": "execute_result"
    }
   ],
   "source": [
    "str1+' '+str2"
   ]
  },
  {
   "cell_type": "code",
   "execution_count": 25,
   "id": "c1f752d3",
   "metadata": {},
   "outputs": [],
   "source": [
    "str1=123\n",
    "str2=456"
   ]
  },
  {
   "cell_type": "code",
   "execution_count": 26,
   "id": "d22e9ea0",
   "metadata": {},
   "outputs": [
    {
     "data": {
      "text/plain": [
       "579"
      ]
     },
     "execution_count": 26,
     "metadata": {},
     "output_type": "execute_result"
    }
   ],
   "source": [
    "str1+str2"
   ]
  },
  {
   "cell_type": "markdown",
   "id": "3fbaad66",
   "metadata": {},
   "source": [
    "### Functions >>"
   ]
  },
  {
   "cell_type": "raw",
   "id": "5fcb97a6",
   "metadata": {},
   "source": [
    "1.capitalize()\n",
    "2.upper()\n",
    "3.lower()\n",
    "4.title()\n",
    "5.lstrip\n",
    "6.rstrip\n",
    "7.strip()\n",
    "8.swapcase()\n",
    "9.count()\n",
    "10.replace()"
   ]
  },
  {
   "cell_type": "markdown",
   "id": "d4966413",
   "metadata": {},
   "source": [
    "### 1.capitalize()"
   ]
  },
  {
   "cell_type": "raw",
   "id": "d48d5dd8",
   "metadata": {},
   "source": [
    "it will capitalize first character of our string,and keep other things in small case.\n",
    "syntax:string.capitalize()"
   ]
  },
  {
   "cell_type": "code",
   "execution_count": 27,
   "id": "032bdf55",
   "metadata": {},
   "outputs": [],
   "source": [
    "mom='python is object oriented language'"
   ]
  },
  {
   "cell_type": "code",
   "execution_count": 28,
   "id": "ca5c73fd",
   "metadata": {},
   "outputs": [
    {
     "data": {
      "text/plain": [
       "'python is object oriented language'"
      ]
     },
     "execution_count": 28,
     "metadata": {},
     "output_type": "execute_result"
    }
   ],
   "source": [
    "mom"
   ]
  },
  {
   "cell_type": "code",
   "execution_count": 29,
   "id": "0d7b6541",
   "metadata": {},
   "outputs": [
    {
     "data": {
      "text/plain": [
       "'Python is object oriented language'"
      ]
     },
     "execution_count": 29,
     "metadata": {},
     "output_type": "execute_result"
    }
   ],
   "source": [
    "mom.capitalize()"
   ]
  },
  {
   "cell_type": "code",
   "execution_count": 32,
   "id": "938037c6",
   "metadata": {},
   "outputs": [
    {
     "name": "stdout",
     "output_type": "stream",
     "text": [
      "Python is object oriented language\n"
     ]
    }
   ],
   "source": [
    "print(mom.capitalize())"
   ]
  },
  {
   "cell_type": "code",
   "execution_count": 33,
   "id": "4cc4c0b3",
   "metadata": {},
   "outputs": [
    {
     "data": {
      "text/plain": [
       "'I'"
      ]
     },
     "execution_count": 33,
     "metadata": {},
     "output_type": "execute_result"
    }
   ],
   "source": [
    "mom[7].capitalize()"
   ]
  },
  {
   "cell_type": "code",
   "execution_count": 34,
   "id": "d69752b0",
   "metadata": {},
   "outputs": [
    {
     "name": "stdout",
     "output_type": "stream",
     "text": [
      "I\n"
     ]
    }
   ],
   "source": [
    "print(mom[7].capitalize())"
   ]
  },
  {
   "cell_type": "code",
   "execution_count": 37,
   "id": "203457a8",
   "metadata": {},
   "outputs": [
    {
     "name": "stdout",
     "output_type": "stream",
     "text": [
      "G\n"
     ]
    }
   ],
   "source": [
    "print(mom[-5].capitalize())"
   ]
  },
  {
   "cell_type": "code",
   "execution_count": 38,
   "id": "f95cd290",
   "metadata": {},
   "outputs": [],
   "source": [
    "mom='python is object oriented Language'"
   ]
  },
  {
   "cell_type": "code",
   "execution_count": 39,
   "id": "4d415e1c",
   "metadata": {},
   "outputs": [
    {
     "data": {
      "text/plain": [
       "'python is object oriented Language'"
      ]
     },
     "execution_count": 39,
     "metadata": {},
     "output_type": "execute_result"
    }
   ],
   "source": [
    "mom"
   ]
  },
  {
   "cell_type": "code",
   "execution_count": 40,
   "id": "fd6c7a3a",
   "metadata": {},
   "outputs": [
    {
     "data": {
      "text/plain": [
       "'Python is object oriented language'"
      ]
     },
     "execution_count": 40,
     "metadata": {},
     "output_type": "execute_result"
    }
   ],
   "source": [
    "mom.capitalize()"
   ]
  },
  {
   "cell_type": "code",
   "execution_count": 42,
   "id": "d6af3f0a",
   "metadata": {},
   "outputs": [],
   "source": [
    "mom='Python is object oriented language'"
   ]
  },
  {
   "cell_type": "code",
   "execution_count": 44,
   "id": "b126a556",
   "metadata": {},
   "outputs": [
    {
     "name": "stdout",
     "output_type": "stream",
     "text": [
      "Python is object oriented language\n"
     ]
    }
   ],
   "source": [
    "print(mom.capitalize())"
   ]
  },
  {
   "cell_type": "code",
   "execution_count": 55,
   "id": "ce26446e",
   "metadata": {},
   "outputs": [
    {
     "name": "stdout",
     "output_type": "stream",
     "text": [
      "PYTHON IS OBJECT ORIENTED LANGUAGE\n"
     ]
    }
   ],
   "source": [
    "print(mom.capitalize().upper())"
   ]
  },
  {
   "cell_type": "markdown",
   "id": "c23fda4e",
   "metadata": {},
   "source": [
    "### 2.upper()"
   ]
  },
  {
   "cell_type": "raw",
   "id": "f425cdaa",
   "metadata": {},
   "source": [
    "it simply convert whole string into upper case\n",
    "Syntax >> variable_name.upper()"
   ]
  },
  {
   "cell_type": "code",
   "execution_count": 45,
   "id": "0ebd5e8b",
   "metadata": {},
   "outputs": [],
   "source": [
    "dad='it is an dynamically typed language'"
   ]
  },
  {
   "cell_type": "code",
   "execution_count": 46,
   "id": "3aec6b72",
   "metadata": {},
   "outputs": [
    {
     "data": {
      "text/plain": [
       "'IT IS AN DYNAMICALLY TYPED LANGUAGE'"
      ]
     },
     "execution_count": 46,
     "metadata": {},
     "output_type": "execute_result"
    }
   ],
   "source": [
    "dad.upper()"
   ]
  },
  {
   "cell_type": "code",
   "execution_count": 47,
   "id": "b78feb76",
   "metadata": {},
   "outputs": [
    {
     "name": "stdout",
     "output_type": "stream",
     "text": [
      "IT IS AN DYNAMICALLY TYPED LANGUAGE\n"
     ]
    }
   ],
   "source": [
    "print(dad.upper())"
   ]
  },
  {
   "cell_type": "code",
   "execution_count": 48,
   "id": "fc4609d2",
   "metadata": {},
   "outputs": [],
   "source": [
    "dad2=dad.upper()"
   ]
  },
  {
   "cell_type": "code",
   "execution_count": 49,
   "id": "bbd77125",
   "metadata": {},
   "outputs": [
    {
     "data": {
      "text/plain": [
       "'IT IS AN DYNAMICALLY TYPED LANGUAGE'"
      ]
     },
     "execution_count": 49,
     "metadata": {},
     "output_type": "execute_result"
    }
   ],
   "source": [
    "dad2"
   ]
  },
  {
   "cell_type": "code",
   "execution_count": 50,
   "id": "4302d947",
   "metadata": {},
   "outputs": [
    {
     "data": {
      "text/plain": [
       "'it is an dynamically typed language'"
      ]
     },
     "execution_count": 50,
     "metadata": {},
     "output_type": "execute_result"
    }
   ],
   "source": [
    "dad"
   ]
  },
  {
   "cell_type": "code",
   "execution_count": 51,
   "id": "ffac7b53",
   "metadata": {},
   "outputs": [
    {
     "name": "stdout",
     "output_type": "stream",
     "text": [
      "IT IS AN DYNAMICALLY TYPED LANGUAGE\n"
     ]
    }
   ],
   "source": [
    "print(dad2.upper())"
   ]
  },
  {
   "cell_type": "code",
   "execution_count": 53,
   "id": "4d94a3c8",
   "metadata": {},
   "outputs": [
    {
     "data": {
      "text/plain": [
       "'IT IS AN DYNAMICALLY TYPED LANGUAGE'"
      ]
     },
     "execution_count": 53,
     "metadata": {},
     "output_type": "execute_result"
    }
   ],
   "source": [
    "dad.capitalize().upper()"
   ]
  },
  {
   "cell_type": "code",
   "execution_count": 54,
   "id": "041f4a93",
   "metadata": {},
   "outputs": [
    {
     "name": "stdout",
     "output_type": "stream",
     "text": [
      "IT IS AN DYNAMICALLY TYPED LANGUAGE\n"
     ]
    }
   ],
   "source": [
    "print(dad.capitalize().upper())"
   ]
  },
  {
   "cell_type": "markdown",
   "id": "602e5022",
   "metadata": {},
   "source": [
    "### 3.lower()"
   ]
  },
  {
   "cell_type": "raw",
   "id": "b6b9ec07",
   "metadata": {},
   "source": [
    "It simply convert whole string into lower case."
   ]
  },
  {
   "cell_type": "code",
   "execution_count": 7,
   "id": "a671227b",
   "metadata": {},
   "outputs": [],
   "source": [
    "didi=\"python platform is independent pvm vonverts in machine\""
   ]
  },
  {
   "cell_type": "code",
   "execution_count": 8,
   "id": "c6bcf5f5",
   "metadata": {},
   "outputs": [],
   "source": [
    "didi2=didi.upper()"
   ]
  },
  {
   "cell_type": "code",
   "execution_count": 9,
   "id": "247582e0",
   "metadata": {},
   "outputs": [
    {
     "data": {
      "text/plain": [
       "'PYTHON PLATFORM IS INDEPENDENT PVM VONVERTS IN MACHINE'"
      ]
     },
     "execution_count": 9,
     "metadata": {},
     "output_type": "execute_result"
    }
   ],
   "source": [
    "didi2"
   ]
  },
  {
   "cell_type": "code",
   "execution_count": 11,
   "id": "61510fd6",
   "metadata": {},
   "outputs": [
    {
     "data": {
      "text/plain": [
       "'python platform is independent pvm vonverts in machine'"
      ]
     },
     "execution_count": 11,
     "metadata": {},
     "output_type": "execute_result"
    }
   ],
   "source": [
    "didi2.lower()"
   ]
  },
  {
   "cell_type": "code",
   "execution_count": 10,
   "id": "53fa4053",
   "metadata": {},
   "outputs": [
    {
     "data": {
      "text/plain": [
       "'PYTHON PLATFORM IS INDEPENDENT PVM VONVERTS IN MACHINE'"
      ]
     },
     "execution_count": 10,
     "metadata": {},
     "output_type": "execute_result"
    }
   ],
   "source": [
    "didi2.lower()\n",
    "didi2"
   ]
  },
  {
   "cell_type": "code",
   "execution_count": 63,
   "id": "f4cf1b24",
   "metadata": {},
   "outputs": [
    {
     "name": "stdout",
     "output_type": "stream",
     "text": [
      "python platform is independent pvm vonverts in machine\n"
     ]
    }
   ],
   "source": [
    "print(didi2.lower())"
   ]
  },
  {
   "cell_type": "code",
   "execution_count": 64,
   "id": "753cb093",
   "metadata": {},
   "outputs": [
    {
     "data": {
      "text/plain": [
       "'PYTHON PLATFORM IS INDEPENDENT PVM VONVERTS IN MACHINE'"
      ]
     },
     "execution_count": 64,
     "metadata": {},
     "output_type": "execute_result"
    }
   ],
   "source": [
    "didi2"
   ]
  },
  {
   "cell_type": "code",
   "execution_count": 65,
   "id": "c9166196",
   "metadata": {},
   "outputs": [
    {
     "data": {
      "text/plain": [
       "'python platform is independent pvm vonverts in machine'"
      ]
     },
     "execution_count": 65,
     "metadata": {},
     "output_type": "execute_result"
    }
   ],
   "source": [
    "didi"
   ]
  },
  {
   "cell_type": "markdown",
   "id": "40a6e3a4",
   "metadata": {},
   "source": [
    "### 4.title()"
   ]
  },
  {
   "cell_type": "raw",
   "id": "00bc6c37",
   "metadata": {},
   "source": [
    "it will capitalize first character of every word of string\n",
    "syntax >> variable_name.title()"
   ]
  },
  {
   "cell_type": "code",
   "execution_count": 69,
   "id": "3e87a1da",
   "metadata": {},
   "outputs": [],
   "source": [
    "choti='it is an interpreted language'"
   ]
  },
  {
   "cell_type": "code",
   "execution_count": 70,
   "id": "252a9550",
   "metadata": {},
   "outputs": [
    {
     "data": {
      "text/plain": [
       "'It Is An Interpreted Language'"
      ]
     },
     "execution_count": 70,
     "metadata": {},
     "output_type": "execute_result"
    }
   ],
   "source": [
    "choti.title()"
   ]
  },
  {
   "cell_type": "code",
   "execution_count": 71,
   "id": "01aef1aa",
   "metadata": {},
   "outputs": [
    {
     "name": "stdout",
     "output_type": "stream",
     "text": [
      "It Is An Interpreted Language\n"
     ]
    }
   ],
   "source": [
    "print(choti.title())"
   ]
  },
  {
   "cell_type": "code",
   "execution_count": 72,
   "id": "30dc608c",
   "metadata": {},
   "outputs": [],
   "source": [
    "choti='India'"
   ]
  },
  {
   "cell_type": "code",
   "execution_count": 73,
   "id": "a2669ac3",
   "metadata": {},
   "outputs": [
    {
     "data": {
      "text/plain": [
       "'India'"
      ]
     },
     "execution_count": 73,
     "metadata": {},
     "output_type": "execute_result"
    }
   ],
   "source": [
    "choti.title()"
   ]
  },
  {
   "cell_type": "code",
   "execution_count": 86,
   "id": "8a02e7f2",
   "metadata": {},
   "outputs": [],
   "source": [
    "choti2='INDIA'"
   ]
  },
  {
   "cell_type": "code",
   "execution_count": 87,
   "id": "d65f59cc",
   "metadata": {},
   "outputs": [
    {
     "data": {
      "text/plain": [
       "'India'"
      ]
     },
     "execution_count": 87,
     "metadata": {},
     "output_type": "execute_result"
    }
   ],
   "source": [
    "choti2.title()"
   ]
  },
  {
   "cell_type": "code",
   "execution_count": 88,
   "id": "a6bb12cb",
   "metadata": {},
   "outputs": [],
   "source": [
    "choti3='india2'"
   ]
  },
  {
   "cell_type": "code",
   "execution_count": 89,
   "id": "99361453",
   "metadata": {},
   "outputs": [
    {
     "data": {
      "text/plain": [
       "'India2'"
      ]
     },
     "execution_count": 89,
     "metadata": {},
     "output_type": "execute_result"
    }
   ],
   "source": [
    "choti3.title()"
   ]
  },
  {
   "cell_type": "code",
   "execution_count": 276,
   "id": "ee6df5eb",
   "metadata": {},
   "outputs": [],
   "source": [
    "choti3=' India2'"
   ]
  },
  {
   "cell_type": "code",
   "execution_count": 277,
   "id": "c908c2a5",
   "metadata": {},
   "outputs": [
    {
     "data": {
      "text/plain": [
       "' India2'"
      ]
     },
     "execution_count": 277,
     "metadata": {},
     "output_type": "execute_result"
    }
   ],
   "source": [
    "choti3.title()"
   ]
  },
  {
   "cell_type": "code",
   "execution_count": 278,
   "id": "0c47da01",
   "metadata": {},
   "outputs": [
    {
     "name": "stdout",
     "output_type": "stream",
     "text": [
      " India2\n"
     ]
    }
   ],
   "source": [
    "print(choti3.title())"
   ]
  },
  {
   "cell_type": "markdown",
   "id": "97993234",
   "metadata": {},
   "source": [
    "### 5.lstrip()"
   ]
  },
  {
   "cell_type": "raw",
   "id": "38418ed4",
   "metadata": {},
   "source": [
    "it removes all leading white spacess.....(leading means starting white spaces)\n",
    "Syntax >> variable_name.lstrip()"
   ]
  },
  {
   "cell_type": "code",
   "execution_count": 102,
   "id": "f693f38a",
   "metadata": {},
   "outputs": [],
   "source": [
    "dd='             high level programing language'"
   ]
  },
  {
   "cell_type": "code",
   "execution_count": 103,
   "id": "0f50f450",
   "metadata": {},
   "outputs": [
    {
     "data": {
      "text/plain": [
       "'high level programing language'"
      ]
     },
     "execution_count": 103,
     "metadata": {},
     "output_type": "execute_result"
    }
   ],
   "source": [
    "dd.lstrip()"
   ]
  },
  {
   "cell_type": "code",
   "execution_count": 104,
   "id": "78a07f57",
   "metadata": {},
   "outputs": [
    {
     "name": "stdout",
     "output_type": "stream",
     "text": [
      "high level programing language\n"
     ]
    }
   ],
   "source": [
    "print(dd.lstrip())"
   ]
  },
  {
   "cell_type": "code",
   "execution_count": 97,
   "id": "189fc437",
   "metadata": {},
   "outputs": [],
   "source": [
    "dd='high level programing language                '"
   ]
  },
  {
   "cell_type": "code",
   "execution_count": 98,
   "id": "b9fafd9a",
   "metadata": {},
   "outputs": [
    {
     "data": {
      "text/plain": [
       "'high level programing language                '"
      ]
     },
     "execution_count": 98,
     "metadata": {},
     "output_type": "execute_result"
    }
   ],
   "source": [
    "dd.lstrip()"
   ]
  },
  {
   "cell_type": "code",
   "execution_count": 99,
   "id": "03267b70",
   "metadata": {},
   "outputs": [],
   "source": [
    "dd='             high level programing language           '"
   ]
  },
  {
   "cell_type": "code",
   "execution_count": 100,
   "id": "8d00f943",
   "metadata": {},
   "outputs": [
    {
     "data": {
      "text/plain": [
       "'high level programing language           '"
      ]
     },
     "execution_count": 100,
     "metadata": {},
     "output_type": "execute_result"
    }
   ],
   "source": [
    "dd.lstrip()"
   ]
  },
  {
   "cell_type": "code",
   "execution_count": 101,
   "id": "5c53cd96",
   "metadata": {},
   "outputs": [
    {
     "name": "stdout",
     "output_type": "stream",
     "text": [
      "high level programing language           \n"
     ]
    }
   ],
   "source": [
    "print(dd.lstrip())"
   ]
  },
  {
   "cell_type": "markdown",
   "id": "1a323adc",
   "metadata": {},
   "source": [
    "### 6.rstip()"
   ]
  },
  {
   "cell_type": "raw",
   "id": "257a6c20",
   "metadata": {},
   "source": [
    "it will remove all trailing spaces...(trailing means end spaces)\n",
    "Syntax >> variable_name.rstrip()"
   ]
  },
  {
   "cell_type": "code",
   "execution_count": 107,
   "id": "b2477419",
   "metadata": {},
   "outputs": [],
   "source": [
    "bb2='freeware and open soures                  '"
   ]
  },
  {
   "cell_type": "code",
   "execution_count": 109,
   "id": "c0cd95ae",
   "metadata": {},
   "outputs": [
    {
     "data": {
      "text/plain": [
       "'freeware and open soures'"
      ]
     },
     "execution_count": 109,
     "metadata": {},
     "output_type": "execute_result"
    }
   ],
   "source": [
    "bb2.rstrip()"
   ]
  },
  {
   "cell_type": "code",
   "execution_count": 111,
   "id": "de20118b",
   "metadata": {},
   "outputs": [
    {
     "name": "stdout",
     "output_type": "stream",
     "text": [
      "freeware and open soures\n"
     ]
    }
   ],
   "source": [
    "print(bb2.rstrip())"
   ]
  },
  {
   "cell_type": "code",
   "execution_count": 13,
   "id": "a0812fbc",
   "metadata": {},
   "outputs": [
    {
     "data": {
      "text/plain": [
       "'                     freeware and open soures'"
      ]
     },
     "execution_count": 13,
     "metadata": {},
     "output_type": "execute_result"
    }
   ],
   "source": [
    "bb2='                     freeware and open soures                  '\n",
    "bb2.rstrip()"
   ]
  },
  {
   "cell_type": "code",
   "execution_count": 115,
   "id": "2499532b",
   "metadata": {},
   "outputs": [
    {
     "data": {
      "text/plain": [
       "'                     freeware and open soures'"
      ]
     },
     "execution_count": 115,
     "metadata": {},
     "output_type": "execute_result"
    }
   ],
   "source": [
    "bb2.rstrip()"
   ]
  },
  {
   "cell_type": "code",
   "execution_count": 118,
   "id": "3b449406",
   "metadata": {},
   "outputs": [],
   "source": [
    "bb2='                     freeware and open soures'"
   ]
  },
  {
   "cell_type": "code",
   "execution_count": 119,
   "id": "8eeedca8",
   "metadata": {},
   "outputs": [
    {
     "data": {
      "text/plain": [
       "'                     freeware and open soures'"
      ]
     },
     "execution_count": 119,
     "metadata": {},
     "output_type": "execute_result"
    }
   ],
   "source": [
    "bb2.rstrip()"
   ]
  },
  {
   "cell_type": "markdown",
   "id": "0fe8a536",
   "metadata": {},
   "source": [
    "### 7.strip"
   ]
  },
  {
   "cell_type": "raw",
   "id": "eaf5977f",
   "metadata": {},
   "source": [
    "# it removes all leading + trailing whitespaces\n",
    "Syntax >> variable_name.strip()"
   ]
  },
  {
   "cell_type": "code",
   "execution_count": 124,
   "id": "ebab8e21",
   "metadata": {},
   "outputs": [],
   "source": [
    "che1='      simple and easy to code,run,read,write as compare to other language'"
   ]
  },
  {
   "cell_type": "code",
   "execution_count": 125,
   "id": "6336a895",
   "metadata": {},
   "outputs": [
    {
     "data": {
      "text/plain": [
       "'      simple and easy to code,run,read,write as compare to other language'"
      ]
     },
     "execution_count": 125,
     "metadata": {},
     "output_type": "execute_result"
    }
   ],
   "source": [
    "che1"
   ]
  },
  {
   "cell_type": "code",
   "execution_count": 126,
   "id": "c51325de",
   "metadata": {},
   "outputs": [
    {
     "name": "stdout",
     "output_type": "stream",
     "text": [
      "      simple and easy to code,run,read,write as compare to other language\n"
     ]
    }
   ],
   "source": [
    "print(che1)"
   ]
  },
  {
   "cell_type": "code",
   "execution_count": 127,
   "id": "d9dc1ef5",
   "metadata": {},
   "outputs": [
    {
     "data": {
      "text/plain": [
       "'simple and easy to code,run,read,write as compare to other language'"
      ]
     },
     "execution_count": 127,
     "metadata": {},
     "output_type": "execute_result"
    }
   ],
   "source": [
    "che1.strip()"
   ]
  },
  {
   "cell_type": "code",
   "execution_count": 128,
   "id": "2e6e0eec",
   "metadata": {},
   "outputs": [
    {
     "name": "stdout",
     "output_type": "stream",
     "text": [
      "simple and easy to code,run,read,write as compare to other language\n"
     ]
    }
   ],
   "source": [
    "print(che1.strip())"
   ]
  },
  {
   "cell_type": "code",
   "execution_count": 130,
   "id": "aa424476",
   "metadata": {},
   "outputs": [],
   "source": [
    "che1='simple and easy to code,run,read,write as compare to other language              '"
   ]
  },
  {
   "cell_type": "code",
   "execution_count": 131,
   "id": "3d7430eb",
   "metadata": {},
   "outputs": [
    {
     "name": "stdout",
     "output_type": "stream",
     "text": [
      "simple and easy to code,run,read,write as compare to other language\n"
     ]
    }
   ],
   "source": [
    "print(che1.strip())"
   ]
  },
  {
   "cell_type": "code",
   "execution_count": 132,
   "id": "80edb830",
   "metadata": {},
   "outputs": [],
   "source": [
    "che1='      simple and easy to code,run,read,write as compare to other language              '"
   ]
  },
  {
   "cell_type": "code",
   "execution_count": 133,
   "id": "a1c12808",
   "metadata": {},
   "outputs": [
    {
     "data": {
      "text/plain": [
       "'simple and easy to code,run,read,write as compare to other language'"
      ]
     },
     "execution_count": 133,
     "metadata": {},
     "output_type": "execute_result"
    }
   ],
   "source": [
    "che1.strip()"
   ]
  },
  {
   "cell_type": "markdown",
   "id": "75f034ac",
   "metadata": {},
   "source": [
    "### 8.swapcase"
   ]
  },
  {
   "cell_type": "raw",
   "id": "6b4c3f9d",
   "metadata": {},
   "source": [
    "it simply convert the case \n",
    "upper>>lower\n",
    "lower>>upper\n",
    "Syntax >> variable_name.swapcase()"
   ]
  },
  {
   "cell_type": "code",
   "execution_count": 139,
   "id": "4a01ae98",
   "metadata": {},
   "outputs": [],
   "source": [
    "choti='it is an interpreted language'"
   ]
  },
  {
   "cell_type": "code",
   "execution_count": 141,
   "id": "3054c9fb",
   "metadata": {},
   "outputs": [
    {
     "data": {
      "text/plain": [
       "'IT IS AN INTERPRETED LANGUAGE'"
      ]
     },
     "execution_count": 141,
     "metadata": {},
     "output_type": "execute_result"
    }
   ],
   "source": [
    "choti.swapcase()"
   ]
  },
  {
   "cell_type": "code",
   "execution_count": 142,
   "id": "06700e10",
   "metadata": {},
   "outputs": [],
   "source": [
    "choti='it iS an JIterpreted RAnguage'"
   ]
  },
  {
   "cell_type": "code",
   "execution_count": 143,
   "id": "6df7b18e",
   "metadata": {},
   "outputs": [
    {
     "data": {
      "text/plain": [
       "'IT Is AN jiTERPRETED raNGUAGE'"
      ]
     },
     "execution_count": 143,
     "metadata": {},
     "output_type": "execute_result"
    }
   ],
   "source": [
    "choti.swapcase()"
   ]
  },
  {
   "cell_type": "code",
   "execution_count": 144,
   "id": "a8619386",
   "metadata": {},
   "outputs": [],
   "source": [
    "ram='dil NE kaH hai dil2 se ki,__pyar ho GaTa'"
   ]
  },
  {
   "cell_type": "code",
   "execution_count": 145,
   "id": "32fe5f87",
   "metadata": {},
   "outputs": [
    {
     "data": {
      "text/plain": [
       "'DIL ne KAh HAI DIL2 SE KI,__PYAR HO gAtA'"
      ]
     },
     "execution_count": 145,
     "metadata": {},
     "output_type": "execute_result"
    }
   ],
   "source": [
    "ram.swapcase()"
   ]
  },
  {
   "cell_type": "markdown",
   "id": "14ec1aed",
   "metadata": {},
   "source": [
    "### 9. count()"
   ]
  },
  {
   "cell_type": "raw",
   "id": "68b01972",
   "metadata": {},
   "source": [
    "simply gives count of a string or perticuler substring\n",
    "string.count(substring)\n",
    "string.count(substring, start_index, end_index)"
   ]
  },
  {
   "cell_type": "code",
   "execution_count": 146,
   "id": "5e525911",
   "metadata": {},
   "outputs": [],
   "source": [
    "len='''Data science is an interdisciplinary field that uses scientific methods, processes, algorithms and systems to extract knowledge and insights from noisy, structured and unstructured data, and apply knowledge from data across a broad range of application domains.'''"
   ]
  },
  {
   "cell_type": "code",
   "execution_count": 148,
   "id": "27b72ac1",
   "metadata": {},
   "outputs": [
    {
     "data": {
      "text/plain": [
       "4"
      ]
     },
     "execution_count": 148,
     "metadata": {},
     "output_type": "execute_result"
    }
   ],
   "source": [
    "len.count('and')"
   ]
  },
  {
   "cell_type": "code",
   "execution_count": 149,
   "id": "c3007872",
   "metadata": {},
   "outputs": [
    {
     "data": {
      "text/plain": [
       "0"
      ]
     },
     "execution_count": 149,
     "metadata": {},
     "output_type": "execute_result"
    }
   ],
   "source": [
    "len.count('am')"
   ]
  },
  {
   "cell_type": "code",
   "execution_count": 150,
   "id": "3203acb9",
   "metadata": {},
   "outputs": [
    {
     "data": {
      "text/plain": [
       "6"
      ]
     },
     "execution_count": 150,
     "metadata": {},
     "output_type": "execute_result"
    }
   ],
   "source": [
    "len.count('u')"
   ]
  },
  {
   "cell_type": "code",
   "execution_count": 152,
   "id": "6879a21b",
   "metadata": {},
   "outputs": [
    {
     "data": {
      "text/plain": [
       "17"
      ]
     },
     "execution_count": 152,
     "metadata": {},
     "output_type": "execute_result"
    }
   ],
   "source": [
    "len.count('i')"
   ]
  },
  {
   "cell_type": "code",
   "execution_count": 153,
   "id": "3a9cd289",
   "metadata": {},
   "outputs": [
    {
     "data": {
      "text/plain": [
       "0"
      ]
     },
     "execution_count": 153,
     "metadata": {},
     "output_type": "execute_result"
    }
   ],
   "source": [
    "len.count('I')"
   ]
  },
  {
   "cell_type": "code",
   "execution_count": 154,
   "id": "19c3e769",
   "metadata": {},
   "outputs": [
    {
     "data": {
      "text/plain": [
       "0"
      ]
     },
     "execution_count": 154,
     "metadata": {},
     "output_type": "execute_result"
    }
   ],
   "source": [
    "len.count(\"U\")"
   ]
  },
  {
   "cell_type": "code",
   "execution_count": 1,
   "id": "c2e5e585",
   "metadata": {},
   "outputs": [],
   "source": [
    "text ='''Data science is an Interdisciplinary field that uses scientific methods, processes, algorithms and systems to extract knowledge and insights from noisy, structured and unstructured data, and apply knowledge from data across a broad range of application domains.'''"
   ]
  },
  {
   "cell_type": "code",
   "execution_count": 2,
   "id": "32378ae4",
   "metadata": {},
   "outputs": [
    {
     "data": {
      "text/plain": [
       "1"
      ]
     },
     "execution_count": 2,
     "metadata": {},
     "output_type": "execute_result"
    }
   ],
   "source": [
    "text.count(\"I\")"
   ]
  },
  {
   "cell_type": "code",
   "execution_count": 3,
   "id": "8a1aa518",
   "metadata": {},
   "outputs": [
    {
     "data": {
      "text/plain": [
       "2"
      ]
     },
     "execution_count": 3,
     "metadata": {},
     "output_type": "execute_result"
    }
   ],
   "source": [
    "text.count('data')"
   ]
  },
  {
   "cell_type": "code",
   "execution_count": 173,
   "id": "33ae0d79",
   "metadata": {},
   "outputs": [
    {
     "data": {
      "text/plain": [
       "1"
      ]
     },
     "execution_count": 173,
     "metadata": {},
     "output_type": "execute_result"
    }
   ],
   "source": [
    "text.count('Data')"
   ]
  },
  {
   "cell_type": "code",
   "execution_count": 174,
   "id": "1bfb8e9f",
   "metadata": {},
   "outputs": [
    {
     "name": "stdout",
     "output_type": "stream",
     "text": [
      "1\n"
     ]
    }
   ],
   "source": [
    "print(text.count('Data'))"
   ]
  },
  {
   "cell_type": "code",
   "execution_count": 16,
   "id": "c23d2aaa",
   "metadata": {},
   "outputs": [
    {
     "data": {
      "text/plain": [
       "1"
      ]
     },
     "execution_count": 16,
     "metadata": {},
     "output_type": "execute_result"
    }
   ],
   "source": [
    "text.count('D',0,1) # end index excluded."
   ]
  },
  {
   "cell_type": "code",
   "execution_count": 18,
   "id": "1eb97e9b",
   "metadata": {},
   "outputs": [
    {
     "data": {
      "text/plain": [
       "1"
      ]
     },
     "execution_count": 18,
     "metadata": {},
     "output_type": "execute_result"
    }
   ],
   "source": [
    "text.count('D',0) # direct index"
   ]
  },
  {
   "cell_type": "code",
   "execution_count": 163,
   "id": "4aa3ab80",
   "metadata": {},
   "outputs": [
    {
     "data": {
      "text/plain": [
       "2"
      ]
     },
     "execution_count": 163,
     "metadata": {},
     "output_type": "execute_result"
    }
   ],
   "source": [
    "text.count('a',0,10)"
   ]
  },
  {
   "cell_type": "code",
   "execution_count": 164,
   "id": "daddfce1",
   "metadata": {},
   "outputs": [
    {
     "data": {
      "text/plain": [
       "2"
      ]
     },
     "execution_count": 164,
     "metadata": {},
     "output_type": "execute_result"
    }
   ],
   "source": [
    "text.count('e',0,20)"
   ]
  },
  {
   "cell_type": "code",
   "execution_count": 165,
   "id": "9b120efd",
   "metadata": {},
   "outputs": [
    {
     "data": {
      "text/plain": [
       "2"
      ]
     },
     "execution_count": 165,
     "metadata": {},
     "output_type": "execute_result"
    }
   ],
   "source": [
    "text.count('e',0,22)"
   ]
  },
  {
   "cell_type": "code",
   "execution_count": 166,
   "id": "3dd3a9d1",
   "metadata": {},
   "outputs": [
    {
     "data": {
      "text/plain": [
       "3"
      ]
     },
     "execution_count": 166,
     "metadata": {},
     "output_type": "execute_result"
    }
   ],
   "source": [
    "text.count('e',0,23)"
   ]
  },
  {
   "cell_type": "code",
   "execution_count": 167,
   "id": "2b24c2c9",
   "metadata": {},
   "outputs": [
    {
     "data": {
      "text/plain": [
       "3"
      ]
     },
     "execution_count": 167,
     "metadata": {},
     "output_type": "execute_result"
    }
   ],
   "source": [
    "text.count('e',5,23)"
   ]
  },
  {
   "cell_type": "code",
   "execution_count": 168,
   "id": "8f88236d",
   "metadata": {},
   "outputs": [
    {
     "data": {
      "text/plain": [
       "3"
      ]
     },
     "execution_count": 168,
     "metadata": {},
     "output_type": "execute_result"
    }
   ],
   "source": [
    "text.count('e',7,23)"
   ]
  },
  {
   "cell_type": "code",
   "execution_count": 169,
   "id": "ba5f65ea",
   "metadata": {},
   "outputs": [
    {
     "name": "stdout",
     "output_type": "stream",
     "text": [
      "2\n"
     ]
    }
   ],
   "source": [
    "print(text.count('e',9,23))"
   ]
  },
  {
   "cell_type": "code",
   "execution_count": 170,
   "id": "eba91bae",
   "metadata": {},
   "outputs": [
    {
     "name": "stdout",
     "output_type": "stream",
     "text": [
      "18\n"
     ]
    }
   ],
   "source": [
    "print(text.count('e',0,260))"
   ]
  },
  {
   "cell_type": "code",
   "execution_count": 172,
   "id": "863d6225",
   "metadata": {},
   "outputs": [
    {
     "name": "stdout",
     "output_type": "stream",
     "text": [
      "18\n"
     ]
    }
   ],
   "source": [
    "print(text.count('e'))"
   ]
  },
  {
   "cell_type": "markdown",
   "id": "8b1d5a49",
   "metadata": {},
   "source": [
    "### 10.replace()"
   ]
  },
  {
   "cell_type": "raw",
   "id": "8769cd88",
   "metadata": {},
   "source": [
    "string.replace( old_str, new_str)# syntax\n",
    "\n",
    "string.replace( old_str, new_str, count)\n",
    "old_str >> The thing which we want to replace.\n",
    "new_str >> the thing by which we want to replace.\n",
    "count >> how much observations we want to replace"
   ]
  },
  {
   "cell_type": "code",
   "execution_count": 1,
   "id": "d7b8bd42",
   "metadata": {},
   "outputs": [],
   "source": [
    "bye='kaun se gaon se hai re babulal tu'"
   ]
  },
  {
   "cell_type": "code",
   "execution_count": 182,
   "id": "e76bbfca",
   "metadata": {},
   "outputs": [
    {
     "data": {
      "text/plain": [
       "3"
      ]
     },
     "execution_count": 182,
     "metadata": {},
     "output_type": "execute_result"
    }
   ],
   "source": [
    "bye.count('e')"
   ]
  },
  {
   "cell_type": "code",
   "execution_count": 183,
   "id": "854cb4db",
   "metadata": {},
   "outputs": [
    {
     "data": {
      "text/plain": [
       "'kaun sc gaon sc hai rc babulal tu'"
      ]
     },
     "execution_count": 183,
     "metadata": {},
     "output_type": "execute_result"
    }
   ],
   "source": [
    "bye.replace('e','c')"
   ]
  },
  {
   "cell_type": "code",
   "execution_count": 184,
   "id": "084cd2b4",
   "metadata": {},
   "outputs": [
    {
     "data": {
      "text/plain": [
       "'kaun se gaon se hai re babueae tu'"
      ]
     },
     "execution_count": 184,
     "metadata": {},
     "output_type": "execute_result"
    }
   ],
   "source": [
    "bye.replace('l','e')"
   ]
  },
  {
   "cell_type": "code",
   "execution_count": 186,
   "id": "c0df48a3",
   "metadata": {},
   "outputs": [
    {
     "data": {
      "text/plain": [
       "2"
      ]
     },
     "execution_count": 186,
     "metadata": {},
     "output_type": "execute_result"
    }
   ],
   "source": [
    "bye.count('l')"
   ]
  },
  {
   "cell_type": "code",
   "execution_count": 187,
   "id": "124f1dae",
   "metadata": {},
   "outputs": [
    {
     "ename": "AttributeError",
     "evalue": "'int' object has no attribute 'replace'",
     "output_type": "error",
     "traceback": [
      "\u001b[1;31m---------------------------------------------------------------------------\u001b[0m",
      "\u001b[1;31mAttributeError\u001b[0m                            Traceback (most recent call last)",
      "Input \u001b[1;32mIn [187]\u001b[0m, in \u001b[0;36m<cell line: 1>\u001b[1;34m()\u001b[0m\n\u001b[1;32m----> 1\u001b[0m \u001b[43mbye\u001b[49m\u001b[38;5;241;43m.\u001b[39;49m\u001b[43mcount\u001b[49m\u001b[43m(\u001b[49m\u001b[38;5;124;43m'\u001b[39;49m\u001b[38;5;124;43ml\u001b[39;49m\u001b[38;5;124;43m'\u001b[39;49m\u001b[43m)\u001b[49m\u001b[38;5;241;43m.\u001b[39;49m\u001b[43mreplace\u001b[49m(\u001b[38;5;124m'\u001b[39m\u001b[38;5;124ml\u001b[39m\u001b[38;5;124m'\u001b[39m,\u001b[38;5;124m'\u001b[39m\u001b[38;5;124mb\u001b[39m\u001b[38;5;124m'\u001b[39m)\n",
      "\u001b[1;31mAttributeError\u001b[0m: 'int' object has no attribute 'replace'"
     ]
    }
   ],
   "source": [
    "bye.count('l').replace('l','b')"
   ]
  },
  {
   "cell_type": "code",
   "execution_count": 188,
   "id": "03629ed9",
   "metadata": {},
   "outputs": [
    {
     "data": {
      "text/plain": [
       "'kaun s$ gaon s$ hai r$ babulal tu'"
      ]
     },
     "execution_count": 188,
     "metadata": {},
     "output_type": "execute_result"
    }
   ],
   "source": [
    "bye.replace('e','$')"
   ]
  },
  {
   "cell_type": "code",
   "execution_count": 191,
   "id": "6b831338",
   "metadata": {},
   "outputs": [
    {
     "data": {
      "text/plain": [
       "5"
      ]
     },
     "execution_count": 191,
     "metadata": {},
     "output_type": "execute_result"
    }
   ],
   "source": [
    "bye.count('a')"
   ]
  },
  {
   "cell_type": "code",
   "execution_count": 2,
   "id": "0727c598",
   "metadata": {},
   "outputs": [
    {
     "name": "stdout",
     "output_type": "stream",
     "text": [
      "D_t_ sc__nc_ _s _n _nt_rd_sc_pl_n_ry f__ld th_t _s_s sc__nt_f_c m_th_ds, pr_c_ss_s, _lg_r_thms _nd syst_ms t_ _xtr_ct kn_wl_dg_ _nd _ns_ghts fr_m n__sy, str_ct_r_d _nd _nstr_ct_r_d d_t_, _nd _pply kn_wl_dg_ fr_m d_t_ _cr_ss _ br__d r_ng_ _f _ppl_c_t__n d_m__ns."
     ]
    }
   ],
   "source": [
    "baby=text = '''Data science is an interdisciplinary field that uses scientific methods, processes, algorithms and systems to extract knowledge and insights from noisy, structured and unstructured data, and apply knowledge from data across a broad range of application domains.'''\n",
    "# Q. Replace vowels(a,e,i,o,u) with '_'.\n",
    "\n",
    "for i in baby:\n",
    "    data=i.replace('a','_').replace('e','_').replace('i','_').replace('o','_').replace('u','_')\n",
    "    print(data,end='')"
   ]
  },
  {
   "cell_type": "code",
   "execution_count": 190,
   "id": "6cebc50d",
   "metadata": {},
   "outputs": [
    {
     "data": {
      "text/plain": [
       "'k%un se g%on se h%i re b%bul%l tu'"
      ]
     },
     "execution_count": 190,
     "metadata": {},
     "output_type": "execute_result"
    }
   ],
   "source": [
    "bye.replace('a','%')"
   ]
  },
  {
   "cell_type": "code",
   "execution_count": 192,
   "id": "90dfe3b9",
   "metadata": {},
   "outputs": [
    {
     "name": "stdout",
     "output_type": "stream",
     "text": [
      "k$un se g$on se h$i re b$bul$l tu\n"
     ]
    }
   ],
   "source": [
    "print(bye.replace('a','$'))"
   ]
  },
  {
   "cell_type": "code",
   "execution_count": 195,
   "id": "138f7de3",
   "metadata": {},
   "outputs": [
    {
     "name": "stdout",
     "output_type": "stream",
     "text": [
      "k&un se g&on se hai re babulal tu\n"
     ]
    }
   ],
   "source": [
    "print(bye.replace('a','&',2))"
   ]
  },
  {
   "cell_type": "code",
   "execution_count": 2,
   "id": "f33dec07",
   "metadata": {},
   "outputs": [
    {
     "name": "stdout",
     "output_type": "stream",
     "text": [
      "kaun s@ gaon s@ hai r@ babulal tu sare jaha se acha hindustan hamara\n"
     ]
    }
   ],
   "source": [
    "print(bye.replace('e','@',3),'sare jaha se acha hindustan hamara')"
   ]
  },
  {
   "cell_type": "code",
   "execution_count": 200,
   "id": "90abb4d9",
   "metadata": {},
   "outputs": [
    {
     "ename": "SyntaxError",
     "evalue": "invalid syntax (1099867700.py, line 1)",
     "output_type": "error",
     "traceback": [
      "\u001b[1;36m  Input \u001b[1;32mIn [200]\u001b[1;36m\u001b[0m\n\u001b[1;33m    print(bye.replace('e','@'),sare jaha se acha hindustan hamara)\u001b[0m\n\u001b[1;37m                                    ^\u001b[0m\n\u001b[1;31mSyntaxError\u001b[0m\u001b[1;31m:\u001b[0m invalid syntax\n"
     ]
    }
   ],
   "source": [
    "print(bye.replace('e','@'),sare jaha se acha hindustan hamara)"
   ]
  },
  {
   "cell_type": "code",
   "execution_count": 202,
   "id": "9bce5e7f",
   "metadata": {},
   "outputs": [
    {
     "name": "stdout",
     "output_type": "stream",
     "text": [
      "kaun s@ gaon s@ hai re babulal tu sare jaha se acha hindustan hamara\n"
     ]
    }
   ],
   "source": [
    "print(bye.replace('e','@',2),'sare jaha se acha hindustan hamara')"
   ]
  },
  {
   "cell_type": "code",
   "execution_count": 203,
   "id": "f8f78210",
   "metadata": {},
   "outputs": [
    {
     "name": "stdout",
     "output_type": "stream",
     "text": [
      "kaun s@ gaon s@ hai r@ babulal tu sare jaha se acha hindustan hamara 6594 __$%\n"
     ]
    }
   ],
   "source": [
    "print(bye.replace('e','@'),'sare jaha se acha hindustan hamara 6594 __$%')"
   ]
  },
  {
   "cell_type": "code",
   "execution_count": 1,
   "id": "9ad57c76",
   "metadata": {},
   "outputs": [],
   "source": [
    "baby=text = '''Data science is an interdisciplinary field that uses scientific methods, processes, algorithms and systems to extract knowledge and insights from noisy, structured and unstructured data, and apply knowledge from data across a broad range of application domains.'''\n",
    "# Q. Replace vowels(a,e,i,o,u) with '_'."
   ]
  },
  {
   "cell_type": "code",
   "execution_count": 205,
   "id": "dac5e46b",
   "metadata": {},
   "outputs": [
    {
     "data": {
      "text/plain": [
       "'Data science is an interdisciplinary field that uses scientific methods, processes, algorithms and systems to extract knowledge and insights from noisy, structured and unstructured data, and apply knowledge from data across a broad range of application domains.'"
      ]
     },
     "execution_count": 205,
     "metadata": {},
     "output_type": "execute_result"
    }
   ],
   "source": [
    "baby"
   ]
  },
  {
   "cell_type": "code",
   "execution_count": 206,
   "id": "afb54aed",
   "metadata": {},
   "outputs": [
    {
     "data": {
      "text/plain": [
       "'Data science is an interdisciplinary field that uses scientific methods, processes, algorithms and systems to extract knowledge and insights from noisy, structured and unstructured data, and apply knowledge from data across a broad range of application domains.'"
      ]
     },
     "execution_count": 206,
     "metadata": {},
     "output_type": "execute_result"
    }
   ],
   "source": [
    "text"
   ]
  },
  {
   "cell_type": "code",
   "execution_count": 2,
   "id": "f432e751",
   "metadata": {},
   "outputs": [
    {
     "data": {
      "text/plain": [
       "'D%t% sc*_nc_ *s %n *nt_rd*sc*pl*n%ry f*_ld th%t $s_s sc*_nt*f*c m_th^ds, pr^c_ss_s, %lg^r*thms %nd syst_ms t^ _xtr%ct kn^wl_dg_ %nd *ns*ghts fr^m n^*sy, str$ct$r_d %nd $nstr$ct$r_d d%t%, %nd %pply kn^wl_dg_ fr^m d%t% %cr^ss % br^%d r%ng_ ^f %ppl*c%t*^n d^m%*ns.'"
      ]
     },
     "execution_count": 2,
     "metadata": {},
     "output_type": "execute_result"
    }
   ],
   "source": [
    "baby.replace('a','%').replace('e','_').replace('i','*').replace('o','^').replace('u','$')"
   ]
  },
  {
   "cell_type": "code",
   "execution_count": 209,
   "id": "e26253e5",
   "metadata": {},
   "outputs": [
    {
     "data": {
      "text/plain": [
       "'D%t% sci_nc_ is %n int_rdisciplin%ry fi_ld th%t $s_s sci_ntific m_th^ds, pr^c_ss_s, %lg^rithms %nd syst_ms t^ _xtr%ct kn^wl_dg_ %nd insights fr^m n^isy, str$ct$r_d %nd $nstr$ct$r_d d%t%, %nd %pply kn^wl_dg_ fr^m d%t% %cr^ss % br^%d r%ng_ ^f %pplic%ti^n d^m%ins.'"
      ]
     },
     "execution_count": 209,
     "metadata": {},
     "output_type": "execute_result"
    }
   ],
   "source": [
    "text.replace('a','%').replace('e','_').replace('e','*').replace('o','^').replace('u','$')"
   ]
  },
  {
   "cell_type": "code",
   "execution_count": 211,
   "id": "d9c12960",
   "metadata": {},
   "outputs": [
    {
     "data": {
      "text/plain": [
       "'D%t% sci_nc_ is %n int_rdisciplin%ry fi_ld th%t $s_s sci_ntific m_th^ds, pr^c_ss_s, %lg^rithms %nd syst_ms t^ _xtr%ct kn^wl_dg_ %nd insights fr^m n^isy, str$ct$r_d %nd $nstr$ct$r_d d%t%, %nd %pply kn^wl_dg_ fr^m d%t% %cr^ss % br^%d r%ng_ ^f %pplic%ti^n d^m%ins.'"
      ]
     },
     "execution_count": 211,
     "metadata": {},
     "output_type": "execute_result"
    }
   ],
   "source": [
    "text.replace('a','%').replace('e','_').replace('e','*').replace('o','^').replace('u','$')"
   ]
  },
  {
   "cell_type": "code",
   "execution_count": 212,
   "id": "a6880e36",
   "metadata": {},
   "outputs": [],
   "source": [
    "baby=text = '''Data science is an interdisciplinary field that uses scientific methods, processes, algorithms and systems to extract knowledge and insights from noisy, structured and unstructured data, and apply knowledge from data across a broad range of application domains.'''\n",
    "# Q. Replace vowels(a,e,i,o,u) with '_'."
   ]
  },
  {
   "cell_type": "code",
   "execution_count": 213,
   "id": "db48e0ce",
   "metadata": {},
   "outputs": [
    {
     "data": {
      "text/plain": [
       "'Data Science Is An Interdisciplinary Field That Uses Scientific Methods, Processes, Algorithms And Systems To Extract Knowledge And Insights From Noisy, Structured And Unstructured Data, And Apply Knowledge From Data Across A Broad Range Of Application Domains.'"
      ]
     },
     "execution_count": 213,
     "metadata": {},
     "output_type": "execute_result"
    }
   ],
   "source": [
    "baby.title()"
   ]
  },
  {
   "cell_type": "code",
   "execution_count": 214,
   "id": "1c2e996c",
   "metadata": {},
   "outputs": [
    {
     "name": "stdout",
     "output_type": "stream",
     "text": [
      "Data Science Is An Interdisciplinary Field That Uses Scientific Methods, Processes, Algorithms And Systems To Extract Knowledge And Insights From Noisy, Structured And Unstructured Data, And Apply Knowledge From Data Across A Broad Range Of Application Domains.\n"
     ]
    }
   ],
   "source": [
    "print(baby.title())"
   ]
  },
  {
   "cell_type": "code",
   "execution_count": 215,
   "id": "c835a835",
   "metadata": {},
   "outputs": [],
   "source": [
    "read=baby.title()"
   ]
  },
  {
   "cell_type": "code",
   "execution_count": 216,
   "id": "2ea0055e",
   "metadata": {},
   "outputs": [
    {
     "data": {
      "text/plain": [
       "'Data Science Is An Interdisciplinary Field That Uses Scientific Methods, Processes, Algorithms And Systems To Extract Knowledge And Insights From Noisy, Structured And Unstructured Data, And Apply Knowledge From Data Across A Broad Range Of Application Domains.'"
      ]
     },
     "execution_count": 216,
     "metadata": {},
     "output_type": "execute_result"
    }
   ],
   "source": [
    "read"
   ]
  },
  {
   "cell_type": "code",
   "execution_count": 217,
   "id": "0dca67d1",
   "metadata": {},
   "outputs": [
    {
     "data": {
      "text/plain": [
       "'!ata Sci_nc_ Is An Int_rdisciplinary $i_ld That Us_s Sci_ntific M_thods, Proc_ss_s, Algorithms And Syst_ms To Extract Knowl_dg_ And Insights $rom Noisy, Structur_d And Unstructur_d !ata, And Apply Knowl_dg_ $rom !ata Across A Broad Rang_ Of Application !omains.'"
      ]
     },
     "execution_count": 217,
     "metadata": {},
     "output_type": "execute_result"
    }
   ],
   "source": [
    "read.replace('D','!').replace('e','_').replace('F','$').replace('e','%')"
   ]
  },
  {
   "cell_type": "markdown",
   "id": "6da5567b",
   "metadata": {},
   "source": [
    "# all functions using at a time"
   ]
  },
  {
   "cell_type": "code",
   "execution_count": 1,
   "id": "6bd39fc2",
   "metadata": {},
   "outputs": [],
   "source": [
    "guys='i love you my mom love you so much without u i am really incomplete     '"
   ]
  },
  {
   "cell_type": "code",
   "execution_count": 5,
   "id": "41abda2f",
   "metadata": {},
   "outputs": [
    {
     "data": {
      "text/plain": [
       "'I L%VE Y%U MY M%M L%VE Y%U S% MUCH WITH%UT U I AM REALLY UNC%MPLETE'"
      ]
     },
     "execution_count": 5,
     "metadata": {},
     "output_type": "execute_result"
    }
   ],
   "source": [
    "guys.replace('o','%').strip().upper()"
   ]
  },
  {
   "cell_type": "code",
   "execution_count": 6,
   "id": "1fd43c92",
   "metadata": {},
   "outputs": [
    {
     "name": "stdout",
     "output_type": "stream",
     "text": [
      "I L%VE Y%U MY M%M L%VE Y%U S% MUCH WITH%UT U I AM REALLY UNC%MPLETE\n"
     ]
    }
   ],
   "source": [
    "print(guys.replace('o','%').strip().upper())"
   ]
  },
  {
   "cell_type": "code",
   "execution_count": 7,
   "id": "30674b40",
   "metadata": {},
   "outputs": [
    {
     "name": "stdout",
     "output_type": "stream",
     "text": [
      "I L%VE Y%U MY M%M L%VE Y%U S% MUCH WITH%UT U I AM REALLY UNC%MPLETE\n"
     ]
    }
   ],
   "source": [
    "guys2=print(guys.replace('o','%').strip().upper())"
   ]
  },
  {
   "cell_type": "code",
   "execution_count": 8,
   "id": "402c85d3",
   "metadata": {},
   "outputs": [
    {
     "name": "stdout",
     "output_type": "stream",
     "text": [
      "I L%VE Y%U MY M%M LOVE YOU SO MUCH WITHOUT U I AM REALLY UNCOMPLETE\n"
     ]
    }
   ],
   "source": [
    "guys2=print(guys.replace('o','%',3).strip().upper())"
   ]
  },
  {
   "cell_type": "code",
   "execution_count": 9,
   "id": "d815e905",
   "metadata": {},
   "outputs": [],
   "source": [
    "guys2=guys"
   ]
  },
  {
   "cell_type": "code",
   "execution_count": 10,
   "id": "fc79104b",
   "metadata": {},
   "outputs": [
    {
     "data": {
      "text/plain": [
       "'i love you my mom love you so much without u i am really uncomplete     '"
      ]
     },
     "execution_count": 10,
     "metadata": {},
     "output_type": "execute_result"
    }
   ],
   "source": [
    "guys2"
   ]
  },
  {
   "cell_type": "code",
   "execution_count": 11,
   "id": "72e2ef46",
   "metadata": {},
   "outputs": [
    {
     "data": {
      "text/plain": [
       "'I LOVE YOU MY MOM LOVE YOU SO MUCH WITHOUT U I AM REALLY UNCOMPLETE     '"
      ]
     },
     "execution_count": 11,
     "metadata": {},
     "output_type": "execute_result"
    }
   ],
   "source": [
    "guys2.upper()"
   ]
  },
  {
   "cell_type": "code",
   "execution_count": 12,
   "id": "fb89e62f",
   "metadata": {},
   "outputs": [
    {
     "name": "stdout",
     "output_type": "stream",
     "text": [
      "I LOVE YOU MY MOM LOVE YOU SO MUCH WITHOUT U I AM REALLY UNCOMPLETE     \n"
     ]
    }
   ],
   "source": [
    "print(guys2.upper())"
   ]
  },
  {
   "cell_type": "code",
   "execution_count": 13,
   "id": "d5f02f9d",
   "metadata": {},
   "outputs": [],
   "source": [
    "guys3='i love you my mom love you so much without u i am really uncomplete     '"
   ]
  },
  {
   "cell_type": "code",
   "execution_count": 14,
   "id": "07f94cea",
   "metadata": {},
   "outputs": [
    {
     "data": {
      "text/plain": [
       "'I LOVE YOU MY MOM LOVE YOU SO MUCH WITHOUT U I AM REALLY UNCOMPLETE     '"
      ]
     },
     "execution_count": 14,
     "metadata": {},
     "output_type": "execute_result"
    }
   ],
   "source": [
    "guys3.upper()"
   ]
  },
  {
   "cell_type": "code",
   "execution_count": 17,
   "id": "e2b07c7d",
   "metadata": {},
   "outputs": [],
   "source": [
    "guys4=guys3.upper()"
   ]
  },
  {
   "cell_type": "code",
   "execution_count": 18,
   "id": "404fc04d",
   "metadata": {},
   "outputs": [
    {
     "name": "stdout",
     "output_type": "stream",
     "text": [
      "I LOVE YOU MY MOM LOVE YOU SO MUCH WITHOUT U I AM REALLY UNCOMPLETE     \n"
     ]
    }
   ],
   "source": [
    "print(guys4)"
   ]
  },
  {
   "cell_type": "code",
   "execution_count": 234,
   "id": "9411cc2b",
   "metadata": {},
   "outputs": [],
   "source": [
    "ram='ram k bhatija sham kaha gaya re bhai dhundo osako'"
   ]
  },
  {
   "cell_type": "code",
   "execution_count": 237,
   "id": "408fa14a",
   "metadata": {},
   "outputs": [
    {
     "data": {
      "text/plain": [
       "'RAM K BHAT2JA SHAM KAHA GAYA RE BHA2 DHUNDO OSAKO'"
      ]
     },
     "execution_count": 237,
     "metadata": {},
     "output_type": "execute_result"
    }
   ],
   "source": [
    "ram.replace('i','2').upper()"
   ]
  },
  {
   "cell_type": "code",
   "execution_count": 259,
   "id": "eee18e8a",
   "metadata": {},
   "outputs": [],
   "source": [
    "ram2=ram"
   ]
  },
  {
   "cell_type": "code",
   "execution_count": 260,
   "id": "83526038",
   "metadata": {},
   "outputs": [
    {
     "data": {
      "text/plain": [
       "'ram k bhatija sham kaha gaya re bhai dhundo osako'"
      ]
     },
     "execution_count": 260,
     "metadata": {},
     "output_type": "execute_result"
    }
   ],
   "source": [
    "ram2"
   ]
  },
  {
   "cell_type": "code",
   "execution_count": 261,
   "id": "453c41f1",
   "metadata": {},
   "outputs": [
    {
     "data": {
      "text/plain": [
       "'RAM K BHATI5A SHAM KAHA GAYA RE BHAI DHUNDO OSAKO'"
      ]
     },
     "execution_count": 261,
     "metadata": {},
     "output_type": "execute_result"
    }
   ],
   "source": [
    "ram2.replace('j','5').upper()"
   ]
  },
  {
   "cell_type": "code",
   "execution_count": 280,
   "id": "ea2dae30",
   "metadata": {},
   "outputs": [
    {
     "data": {
      "text/plain": [
       "'RAM K BHATI5A SHAM KAHA GAYA RE BHAI DHUNDO OSAKO'"
      ]
     },
     "execution_count": 280,
     "metadata": {},
     "output_type": "execute_result"
    }
   ],
   "source": [
    "ram2.replace('j','5',2).upper()"
   ]
  },
  {
   "cell_type": "markdown",
   "id": "5e297ad3",
   "metadata": {},
   "source": [
    "# reversed()"
   ]
  },
  {
   "cell_type": "raw",
   "id": "618d242d",
   "metadata": {},
   "source": [
    "uses function for reverse the number of string\n",
    "syntax:print(list(reversed(name)))"
   ]
  },
  {
   "cell_type": "code",
   "execution_count": 19,
   "id": "a8ec5cbc",
   "metadata": {},
   "outputs": [],
   "source": [
    "ram3='123456'"
   ]
  },
  {
   "cell_type": "code",
   "execution_count": 269,
   "id": "8165ff7e",
   "metadata": {},
   "outputs": [
    {
     "data": {
      "text/plain": [
       "['6', '5', '4', '3', '2', '1']"
      ]
     },
     "execution_count": 269,
     "metadata": {},
     "output_type": "execute_result"
    }
   ],
   "source": [
    "list(reversed(ram3))"
   ]
  },
  {
   "cell_type": "code",
   "execution_count": 21,
   "id": "f06547e1",
   "metadata": {},
   "outputs": [],
   "source": [
    "ram='sham'"
   ]
  },
  {
   "cell_type": "code",
   "execution_count": 22,
   "id": "df6bb824",
   "metadata": {},
   "outputs": [
    {
     "data": {
      "text/plain": [
       "'<reversed object at 0x0000023AC37CEC70>'"
      ]
     },
     "execution_count": 22,
     "metadata": {},
     "output_type": "execute_result"
    }
   ],
   "source": [
    "str(reversed(ram))"
   ]
  },
  {
   "cell_type": "code",
   "execution_count": 270,
   "id": "af29c2f7",
   "metadata": {},
   "outputs": [
    {
     "name": "stdout",
     "output_type": "stream",
     "text": [
      "['6', '5', '4', '3', '2', '1']\n"
     ]
    }
   ],
   "source": [
    "print(list(reversed(ram3)))"
   ]
  },
  {
   "cell_type": "code",
   "execution_count": 3,
   "id": "1dc2e301",
   "metadata": {},
   "outputs": [],
   "source": [
    "ram3='''coca cola'''"
   ]
  },
  {
   "cell_type": "code",
   "execution_count": 4,
   "id": "7e7a34f3",
   "metadata": {},
   "outputs": [
    {
     "name": "stdout",
     "output_type": "stream",
     "text": [
      "['a', 'l', 'o', 'c', ' ', 'a', 'c', 'o', 'c']\n"
     ]
    }
   ],
   "source": [
    "print(list(reversed(ram3)))"
   ]
  },
  {
   "cell_type": "markdown",
   "id": "eb18adea",
   "metadata": {},
   "source": [
    "### reverse()"
   ]
  },
  {
   "cell_type": "code",
   "execution_count": 7,
   "id": "fa1b71c1",
   "metadata": {},
   "outputs": [],
   "source": [
    "ram3=['sham',34,56,76.7,'ram']"
   ]
  },
  {
   "cell_type": "code",
   "execution_count": 8,
   "id": "e504df01",
   "metadata": {},
   "outputs": [],
   "source": [
    "ram3.reverse()"
   ]
  },
  {
   "cell_type": "code",
   "execution_count": 9,
   "id": "738eec5a",
   "metadata": {},
   "outputs": [
    {
     "data": {
      "text/plain": [
       "['ram', 76.7, 56, 34, 'sham']"
      ]
     },
     "execution_count": 9,
     "metadata": {},
     "output_type": "execute_result"
    }
   ],
   "source": [
    "ram3"
   ]
  },
  {
   "cell_type": "code",
   "execution_count": 10,
   "id": "c6e1235b",
   "metadata": {},
   "outputs": [
    {
     "data": {
      "text/plain": [
       "['ram', 76.7, 56, 34, 'sham']"
      ]
     },
     "execution_count": 10,
     "metadata": {},
     "output_type": "execute_result"
    }
   ],
   "source": [
    "ram3"
   ]
  },
  {
   "cell_type": "code",
   "execution_count": null,
   "id": "5c24fcb0",
   "metadata": {},
   "outputs": [],
   "source": []
  }
 ],
 "metadata": {
  "kernelspec": {
   "display_name": "Python 3 (ipykernel)",
   "language": "python",
   "name": "python3"
  },
  "language_info": {
   "codemirror_mode": {
    "name": "ipython",
    "version": 3
   },
   "file_extension": ".py",
   "mimetype": "text/x-python",
   "name": "python",
   "nbconvert_exporter": "python",
   "pygments_lexer": "ipython3",
   "version": "3.9.12"
  }
 },
 "nbformat": 4,
 "nbformat_minor": 5
}
