{
 "cells": [
  {
   "cell_type": "raw",
   "id": "2407490c",
   "metadata": {},
   "source": [
    "11.index()\n",
    "12.find()\n",
    "13.split()\n",
    "14.join()\n",
    "15.startwith()\n",
    "16.endswith()\n",
    "17.isalnum()\n",
    "18.isalpha()\n",
    "19.isdecimal()\n",
    "20.isdigit()\n",
    "21. isnumeric()\n",
    "22. islower()\n",
    "23. isupper()\n",
    "24. istitle()\n",
    "25. isspace()\n",
    "26. zfill()\n",
    "27. center()"
   ]
  },
  {
   "cell_type": "markdown",
   "id": "8ff25def",
   "metadata": {},
   "source": [
    "### 11. index()"
   ]
  },
  {
   "cell_type": "raw",
   "id": "4d41cc4d",
   "metadata": {},
   "source": [
    "it gives the index of substring in string.\n",
    "also we can mention start and end index so inbetween string index will be give\n",
    "syntax>>string.index('substring',start_index,end_index)"
   ]
  },
  {
   "cell_type": "code",
   "execution_count": 1,
   "id": "ce8fb7dc",
   "metadata": {},
   "outputs": [],
   "source": [
    "str1='i would like to say that your awessome and clever boy so be ready with_my daddy and mummy to sya 1 my mom@ love you'"
   ]
  },
  {
   "cell_type": "code",
   "execution_count": 2,
   "id": "0f32430d",
   "metadata": {},
   "outputs": [
    {
     "data": {
      "text/plain": [
       "'i would like to say that your awessome and clever boy so be ready with_my daddy and mummy to sya 1 my mom@ love you'"
      ]
     },
     "execution_count": 2,
     "metadata": {},
     "output_type": "execute_result"
    }
   ],
   "source": [
    "str1"
   ]
  },
  {
   "cell_type": "code",
   "execution_count": 3,
   "id": "c159670b",
   "metadata": {},
   "outputs": [
    {
     "name": "stdout",
     "output_type": "stream",
     "text": [
      "i would like to say that your awessome and clever boy so be ready with_my daddy and mummy to sya 1 my mom@ love you\n"
     ]
    }
   ],
   "source": [
    "print(str1)"
   ]
  },
  {
   "cell_type": "code",
   "execution_count": 4,
   "id": "0adb5a92",
   "metadata": {},
   "outputs": [
    {
     "ename": "TypeError",
     "evalue": "index() takes at least 1 argument (0 given)",
     "output_type": "error",
     "traceback": [
      "\u001b[1;31m---------------------------------------------------------------------------\u001b[0m",
      "\u001b[1;31mTypeError\u001b[0m                                 Traceback (most recent call last)",
      "Input \u001b[1;32mIn [4]\u001b[0m, in \u001b[0;36m<cell line: 1>\u001b[1;34m()\u001b[0m\n\u001b[1;32m----> 1\u001b[0m \u001b[43mstr1\u001b[49m\u001b[38;5;241;43m.\u001b[39;49m\u001b[43mindex\u001b[49m\u001b[43m(\u001b[49m\u001b[43m)\u001b[49m\n",
      "\u001b[1;31mTypeError\u001b[0m: index() takes at least 1 argument (0 given)"
     ]
    }
   ],
   "source": [
    "str1.index()"
   ]
  },
  {
   "cell_type": "code",
   "execution_count": 5,
   "id": "f548e2b4",
   "metadata": {},
   "outputs": [
    {
     "data": {
      "text/plain": [
       "25"
      ]
     },
     "execution_count": 5,
     "metadata": {},
     "output_type": "execute_result"
    }
   ],
   "source": [
    "str1.index('your')"
   ]
  },
  {
   "cell_type": "code",
   "execution_count": 21,
   "id": "c89c9f4c",
   "metadata": {},
   "outputs": [
    {
     "data": {
      "text/plain": [
       "25"
      ]
     },
     "execution_count": 21,
     "metadata": {},
     "output_type": "execute_result"
    }
   ],
   "source": [
    "str1.index('your',0,29)"
   ]
  },
  {
   "cell_type": "code",
   "execution_count": 20,
   "id": "e9505907",
   "metadata": {},
   "outputs": [
    {
     "ename": "ValueError",
     "evalue": "substring not found",
     "output_type": "error",
     "traceback": [
      "\u001b[1;31m---------------------------------------------------------------------------\u001b[0m",
      "\u001b[1;31mValueError\u001b[0m                                Traceback (most recent call last)",
      "Input \u001b[1;32mIn [20]\u001b[0m, in \u001b[0;36m<cell line: 1>\u001b[1;34m()\u001b[0m\n\u001b[1;32m----> 1\u001b[0m \u001b[43mstr1\u001b[49m\u001b[38;5;241;43m.\u001b[39;49m\u001b[43mindex\u001b[49m\u001b[43m(\u001b[49m\u001b[38;5;124;43m'\u001b[39;49m\u001b[38;5;124;43myour\u001b[39;49m\u001b[38;5;124;43m'\u001b[39;49m\u001b[43m,\u001b[49m\u001b[38;5;241;43m0\u001b[39;49m\u001b[43m,\u001b[49m\u001b[38;5;241;43m28\u001b[39;49m\u001b[43m)\u001b[49m\n",
      "\u001b[1;31mValueError\u001b[0m: substring not found"
     ]
    }
   ],
   "source": [
    "str1.index('your',0,28)"
   ]
  },
  {
   "cell_type": "code",
   "execution_count": 3,
   "id": "f508d2a0",
   "metadata": {},
   "outputs": [
    {
     "data": {
      "text/plain": [
       "25"
      ]
     },
     "execution_count": 3,
     "metadata": {},
     "output_type": "execute_result"
    }
   ],
   "source": [
    "str1.index('your',25)"
   ]
  },
  {
   "cell_type": "code",
   "execution_count": 4,
   "id": "3bad9d46",
   "metadata": {},
   "outputs": [
    {
     "data": {
      "text/plain": [
       "25"
      ]
     },
     "execution_count": 4,
     "metadata": {},
     "output_type": "execute_result"
    }
   ],
   "source": [
    "str1.index('your',24)"
   ]
  },
  {
   "cell_type": "code",
   "execution_count": 6,
   "id": "524cac89",
   "metadata": {},
   "outputs": [
    {
     "data": {
      "text/plain": [
       "18"
      ]
     },
     "execution_count": 6,
     "metadata": {},
     "output_type": "execute_result"
    }
   ],
   "source": [
    "str1.index('y')"
   ]
  },
  {
   "cell_type": "code",
   "execution_count": 12,
   "id": "bf346f44",
   "metadata": {},
   "outputs": [
    {
     "ename": "ValueError",
     "evalue": "substring not found",
     "output_type": "error",
     "traceback": [
      "\u001b[1;31m---------------------------------------------------------------------------\u001b[0m",
      "\u001b[1;31mValueError\u001b[0m                                Traceback (most recent call last)",
      "Input \u001b[1;32mIn [12]\u001b[0m, in \u001b[0;36m<cell line: 1>\u001b[1;34m()\u001b[0m\n\u001b[1;32m----> 1\u001b[0m \u001b[43mstr1\u001b[49m\u001b[38;5;241;43m.\u001b[39;49m\u001b[43mindex\u001b[49m\u001b[43m(\u001b[49m\u001b[38;5;124;43m'\u001b[39;49m\u001b[38;5;124;43my\u001b[39;49m\u001b[38;5;124;43m'\u001b[39;49m\u001b[43m,\u001b[49m\u001b[38;5;241;43m0\u001b[39;49m\u001b[43m,\u001b[49m\u001b[38;5;241;43m18\u001b[39;49m\u001b[43m)\u001b[49m\n",
      "\u001b[1;31mValueError\u001b[0m: substring not found"
     ]
    }
   ],
   "source": [
    "str1.index('y',0,18)"
   ]
  },
  {
   "cell_type": "code",
   "execution_count": 13,
   "id": "bfe91c15",
   "metadata": {},
   "outputs": [
    {
     "data": {
      "text/plain": [
       "18"
      ]
     },
     "execution_count": 13,
     "metadata": {},
     "output_type": "execute_result"
    }
   ],
   "source": [
    "str1.index('y',0,19)"
   ]
  },
  {
   "cell_type": "code",
   "execution_count": 14,
   "id": "f369da1c",
   "metadata": {},
   "outputs": [
    {
     "ename": "ValueError",
     "evalue": "substring not found",
     "output_type": "error",
     "traceback": [
      "\u001b[1;31m---------------------------------------------------------------------------\u001b[0m",
      "\u001b[1;31mValueError\u001b[0m                                Traceback (most recent call last)",
      "Input \u001b[1;32mIn [14]\u001b[0m, in \u001b[0;36m<cell line: 1>\u001b[1;34m()\u001b[0m\n\u001b[1;32m----> 1\u001b[0m \u001b[43mstr1\u001b[49m\u001b[38;5;241;43m.\u001b[39;49m\u001b[43mindex\u001b[49m\u001b[43m(\u001b[49m\u001b[38;5;124;43m'\u001b[39;49m\u001b[38;5;124;43myour\u001b[39;49m\u001b[38;5;124;43m'\u001b[39;49m\u001b[43m,\u001b[49m\u001b[38;5;241;43m0\u001b[39;49m\u001b[43m,\u001b[49m\u001b[38;5;241;43m25\u001b[39;49m\u001b[43m)\u001b[49m\n",
      "\u001b[1;31mValueError\u001b[0m: substring not found"
     ]
    }
   ],
   "source": [
    "str1.index('your',0,25)"
   ]
  },
  {
   "cell_type": "code",
   "execution_count": 33,
   "id": "f27aec5d",
   "metadata": {},
   "outputs": [],
   "source": [
    "str1='i would like to say that your awessome and clever boy so be ready with_my daddy and mummy to sya 1 my mom@ love you'"
   ]
  },
  {
   "cell_type": "code",
   "execution_count": 34,
   "id": "a8134b57",
   "metadata": {},
   "outputs": [
    {
     "data": {
      "text/plain": [
       "'i would like to say that your awessome and clever boy so be ready with_my daddy and mummy to sya 1 my mom@ love you'"
      ]
     },
     "execution_count": 34,
     "metadata": {},
     "output_type": "execute_result"
    }
   ],
   "source": [
    "str1"
   ]
  },
  {
   "cell_type": "code",
   "execution_count": 35,
   "id": "f70a9429",
   "metadata": {},
   "outputs": [],
   "source": [
    "substring=\"ready\""
   ]
  },
  {
   "cell_type": "code",
   "execution_count": 36,
   "id": "600016d6",
   "metadata": {},
   "outputs": [
    {
     "data": {
      "text/plain": [
       "'ready'"
      ]
     },
     "execution_count": 36,
     "metadata": {},
     "output_type": "execute_result"
    }
   ],
   "source": [
    "substring"
   ]
  },
  {
   "cell_type": "code",
   "execution_count": 39,
   "id": "01618adb",
   "metadata": {},
   "outputs": [
    {
     "name": "stdout",
     "output_type": "stream",
     "text": [
      "yes ready is present at 60th position\n"
     ]
    }
   ],
   "source": [
    "str1='i would like to say that your awessome and clever boy so be ready with_my daddy and mummy to sya 1 my mom@ love you'\n",
    "\n",
    "substring=\"ready\"\n",
    "\n",
    "if substring in str1:\n",
    "    index=str1.index(substring)\n",
    "    print(f'yes {substring} is present at {index}th position')\n",
    "else:\n",
    "    print(f'no {substring} is not present')"
   ]
  },
  {
   "cell_type": "code",
   "execution_count": 1,
   "id": "5e938d90",
   "metadata": {
    "scrolled": true
   },
   "outputs": [
    {
     "name": "stdout",
     "output_type": "stream",
     "text": [
      "no ready is present\n"
     ]
    }
   ],
   "source": [
    "str1='i would like to say that your awessome and clever boy so be ready with_my daddy and mummy to sya 1 my mom@ love you'\n",
    "\n",
    "substring=\"ready\"\n",
    "\n",
    "if substring not in str1:\n",
    "    index=str1.index(substring)\n",
    "    print(f'yes {substring} is not present at {index}th position')\n",
    "else:\n",
    "    print(f'no {substring} is present')"
   ]
  },
  {
   "cell_type": "code",
   "execution_count": 41,
   "id": "15d6f4ca",
   "metadata": {},
   "outputs": [
    {
     "name": "stdout",
     "output_type": "stream",
     "text": [
      "yes ready is present at 60th position\n"
     ]
    }
   ],
   "source": [
    "str1='i would like to say that your awessome and clever boy so be ready with_my daddy and mummy to sya 1 my mom@ love you'\n",
    "\n",
    "locky=\"ready\"\n",
    "\n",
    "if locky in str1:\n",
    "    index=str1.index(locky)\n",
    "    print(f'yes {locky} is present at {index}th position')\n",
    "else:\n",
    "    print(f'no {locky} is not present')"
   ]
  },
  {
   "cell_type": "code",
   "execution_count": 2,
   "id": "91fdc570",
   "metadata": {},
   "outputs": [],
   "source": [
    "madhu='python is high level programing language'"
   ]
  },
  {
   "cell_type": "code",
   "execution_count": 49,
   "id": "2dca3a10",
   "metadata": {},
   "outputs": [
    {
     "data": {
      "text/plain": [
       "'python is high level programing language'"
      ]
     },
     "execution_count": 49,
     "metadata": {},
     "output_type": "execute_result"
    }
   ],
   "source": [
    "madhu"
   ]
  },
  {
   "cell_type": "code",
   "execution_count": 3,
   "id": "9ff8f104",
   "metadata": {},
   "outputs": [],
   "source": [
    "madhusubstring='programing'"
   ]
  },
  {
   "cell_type": "code",
   "execution_count": 51,
   "id": "9f8d3506",
   "metadata": {},
   "outputs": [
    {
     "data": {
      "text/plain": [
       "'programing'"
      ]
     },
     "execution_count": 51,
     "metadata": {},
     "output_type": "execute_result"
    }
   ],
   "source": [
    "madhusubstring"
   ]
  },
  {
   "cell_type": "code",
   "execution_count": 52,
   "id": "e3c551c7",
   "metadata": {},
   "outputs": [
    {
     "ename": "SyntaxError",
     "evalue": "invalid syntax (3963588519.py, line 1)",
     "output_type": "error",
     "traceback": [
      "\u001b[1;36m  Input \u001b[1;32mIn [52]\u001b[1;36m\u001b[0m\n\u001b[1;33m    madhu substring='programing'\u001b[0m\n\u001b[1;37m          ^\u001b[0m\n\u001b[1;31mSyntaxError\u001b[0m\u001b[1;31m:\u001b[0m invalid syntax\n"
     ]
    }
   ],
   "source": [
    "madhu substring='programing'"
   ]
  },
  {
   "cell_type": "code",
   "execution_count": 4,
   "id": "fb7e540c",
   "metadata": {},
   "outputs": [
    {
     "name": "stdout",
     "output_type": "stream",
     "text": [
      "right sir programing is available at 21th place\n"
     ]
    }
   ],
   "source": [
    "if madhusubstring in madhu:\n",
    "    index=madhu.index(madhusubstring)\n",
    "    print(f\"right sir {madhusubstring} is available at {index}th place\")\n",
    "else:\n",
    "    print(f\"badly {madhusubstring} not available\")\n",
    "           "
   ]
  },
  {
   "cell_type": "code",
   "execution_count": 104,
   "id": "9058b618",
   "metadata": {},
   "outputs": [],
   "source": [
    "madhu=\"rama kaha se ayay hai re tu\""
   ]
  },
  {
   "cell_type": "code",
   "execution_count": 105,
   "id": "97e6e8ce",
   "metadata": {},
   "outputs": [
    {
     "data": {
      "text/plain": [
       "'rama kaha se ayay hai re tu'"
      ]
     },
     "execution_count": 105,
     "metadata": {},
     "output_type": "execute_result"
    }
   ],
   "source": [
    "madhu"
   ]
  },
  {
   "cell_type": "code",
   "execution_count": 106,
   "id": "b31ecf3c",
   "metadata": {},
   "outputs": [],
   "source": [
    "substring=\"dadus\""
   ]
  },
  {
   "cell_type": "code",
   "execution_count": 107,
   "id": "40dd518b",
   "metadata": {},
   "outputs": [
    {
     "data": {
      "text/plain": [
       "'dadus'"
      ]
     },
     "execution_count": 107,
     "metadata": {},
     "output_type": "execute_result"
    }
   ],
   "source": [
    "substring"
   ]
  },
  {
   "cell_type": "code",
   "execution_count": 109,
   "id": "14335686",
   "metadata": {},
   "outputs": [
    {
     "name": "stdout",
     "output_type": "stream",
     "text": [
      "badly dadus not available\n"
     ]
    }
   ],
   "source": [
    "if substring in madhu:\n",
    "    index=madhu.index(substring)\n",
    "    print(f\"right sir {substring} is available at {index}th place\")\n",
    "else:\n",
    "         print (f\"badly {substring} not available\")\n",
    "           "
   ]
  },
  {
   "cell_type": "markdown",
   "id": "54316a76",
   "metadata": {},
   "source": [
    "### 12.find()"
   ]
  },
  {
   "cell_type": "raw",
   "id": "c1feea98",
   "metadata": {},
   "source": [
    "exactly works like index function but diffrence is that if the substring is not available in the string \n",
    "it wil not goes to the any error instesd it gives -1\n",
    "syntax>>string.find(\"substring\")\n",
    "return index -1 >>when substring is not present\n",
    "return index substring not found >> when substring is not present"
   ]
  },
  {
   "cell_type": "code",
   "execution_count": 2,
   "id": "6adafe7a",
   "metadata": {},
   "outputs": [],
   "source": [
    "madhu=\"rama kaha se ayay hai re tu\""
   ]
  },
  {
   "cell_type": "code",
   "execution_count": 124,
   "id": "652acb15",
   "metadata": {},
   "outputs": [
    {
     "name": "stdout",
     "output_type": "stream",
     "text": [
      "rama kaha se ayay hai re tu\n"
     ]
    }
   ],
   "source": [
    "print(madhu)"
   ]
  },
  {
   "cell_type": "code",
   "execution_count": 125,
   "id": "1c02afc1",
   "metadata": {},
   "outputs": [
    {
     "data": {
      "text/plain": [
       "5"
      ]
     },
     "execution_count": 125,
     "metadata": {},
     "output_type": "execute_result"
    }
   ],
   "source": [
    "madhu.find('kaha')"
   ]
  },
  {
   "cell_type": "code",
   "execution_count": 126,
   "id": "dfddcf3b",
   "metadata": {},
   "outputs": [
    {
     "data": {
      "text/plain": [
       "-1"
      ]
     },
     "execution_count": 126,
     "metadata": {},
     "output_type": "execute_result"
    }
   ],
   "source": [
    "madhu.find('raja')"
   ]
  },
  {
   "cell_type": "code",
   "execution_count": 127,
   "id": "e04a4f39",
   "metadata": {},
   "outputs": [
    {
     "data": {
      "text/plain": [
       "-1"
      ]
     },
     "execution_count": 127,
     "metadata": {},
     "output_type": "execute_result"
    }
   ],
   "source": [
    "madhu.find('kaha',0,5)"
   ]
  },
  {
   "cell_type": "code",
   "execution_count": 3,
   "id": "eadeac9c",
   "metadata": {},
   "outputs": [
    {
     "data": {
      "text/plain": [
       "5"
      ]
     },
     "execution_count": 3,
     "metadata": {},
     "output_type": "execute_result"
    }
   ],
   "source": [
    "madhu.find('kaha',0,9)"
   ]
  },
  {
   "cell_type": "code",
   "execution_count": 150,
   "id": "1ce2702b",
   "metadata": {},
   "outputs": [
    {
     "name": "stdout",
     "output_type": "stream",
     "text": [
      "22\n"
     ]
    }
   ],
   "source": [
    "print(madhu.find('re'))"
   ]
  },
  {
   "cell_type": "code",
   "execution_count": 5,
   "id": "84a6c9b7",
   "metadata": {},
   "outputs": [
    {
     "name": "stdout",
     "output_type": "stream",
     "text": [
      "22\n"
     ]
    }
   ],
   "source": [
    "print(madhu.find('r'))"
   ]
  },
  {
   "cell_type": "code",
   "execution_count": 139,
   "id": "3e43c8b1",
   "metadata": {},
   "outputs": [
    {
     "data": {
      "text/plain": [
       "22"
      ]
     },
     "execution_count": 139,
     "metadata": {},
     "output_type": "execute_result"
    }
   ],
   "source": [
    "madhu.find('re',0,24)"
   ]
  },
  {
   "cell_type": "code",
   "execution_count": 137,
   "id": "4104de40",
   "metadata": {},
   "outputs": [
    {
     "data": {
      "text/plain": [
       "-1"
      ]
     },
     "execution_count": 137,
     "metadata": {},
     "output_type": "execute_result"
    }
   ],
   "source": [
    "madhu.find('re',0,22)"
   ]
  },
  {
   "cell_type": "code",
   "execution_count": 144,
   "id": "033a0a1a",
   "metadata": {},
   "outputs": [
    {
     "data": {
      "text/plain": [
       "2"
      ]
     },
     "execution_count": 144,
     "metadata": {},
     "output_type": "execute_result"
    }
   ],
   "source": [
    "madhu.find('m')"
   ]
  },
  {
   "cell_type": "markdown",
   "id": "c76f4c87",
   "metadata": {},
   "source": [
    "### 13.split()"
   ]
  },
  {
   "cell_type": "raw",
   "id": "a61a8df9",
   "metadata": {},
   "source": [
    "it split the string and convert it into list\n",
    "syntax>> string.split()\n",
    "syntax>> string.split('substring')\n",
    "syntax>> string.split('substring',occurance)\n",
    "\n",
    "list>> it is one of the data type in python and it is collection of diffrent types of data\n",
    "list=[1,2,3,4,5,'python']"
   ]
  },
  {
   "cell_type": "code",
   "execution_count": 7,
   "id": "943043d9",
   "metadata": {},
   "outputs": [],
   "source": [
    "my_love2='then what is love,love is $ in life'"
   ]
  },
  {
   "cell_type": "code",
   "execution_count": 147,
   "id": "958ab712",
   "metadata": {},
   "outputs": [
    {
     "data": {
      "text/plain": [
       "'then what is love,love is $ in life'"
      ]
     },
     "execution_count": 147,
     "metadata": {},
     "output_type": "execute_result"
    }
   ],
   "source": [
    "my_love2"
   ]
  },
  {
   "cell_type": "code",
   "execution_count": 148,
   "id": "d1395844",
   "metadata": {},
   "outputs": [
    {
     "name": "stdout",
     "output_type": "stream",
     "text": [
      "then what is love,love is $ in life\n"
     ]
    }
   ],
   "source": [
    "print(my_love2)"
   ]
  },
  {
   "cell_type": "code",
   "execution_count": 149,
   "id": "7a8c4eda",
   "metadata": {},
   "outputs": [
    {
     "name": "stdout",
     "output_type": "stream",
     "text": [
      "['then', 'what', 'is', 'love,love', 'is', '$', 'in', 'life']\n"
     ]
    }
   ],
   "source": [
    "print(my_love2.split())"
   ]
  },
  {
   "cell_type": "code",
   "execution_count": 151,
   "id": "f8282173",
   "metadata": {},
   "outputs": [
    {
     "data": {
      "text/plain": [
       "['then', 'what', 'is', 'love,love', 'is', '$', 'in', 'life']"
      ]
     },
     "execution_count": 151,
     "metadata": {},
     "output_type": "execute_result"
    }
   ],
   "source": [
    "my_love2.split()"
   ]
  },
  {
   "cell_type": "code",
   "execution_count": 8,
   "id": "97f77e1c",
   "metadata": {},
   "outputs": [],
   "source": [
    "my_love3=my_love2.split()"
   ]
  },
  {
   "cell_type": "code",
   "execution_count": 155,
   "id": "8ded5183",
   "metadata": {},
   "outputs": [
    {
     "data": {
      "text/plain": [
       "['then', 'what', 'is', 'love,love', 'is', '$', 'in', 'life']"
      ]
     },
     "execution_count": 155,
     "metadata": {},
     "output_type": "execute_result"
    }
   ],
   "source": [
    "my_love3"
   ]
  },
  {
   "cell_type": "code",
   "execution_count": 9,
   "id": "a34ac394",
   "metadata": {},
   "outputs": [
    {
     "name": "stdout",
     "output_type": "stream",
     "text": [
      "<class 'str'>\n",
      "<class 'list'>\n"
     ]
    }
   ],
   "source": [
    "print(type(my_love2))\n",
    "print(type(my_love3))"
   ]
  },
  {
   "cell_type": "code",
   "execution_count": 10,
   "id": "3d19c44d",
   "metadata": {},
   "outputs": [
    {
     "ename": "TypeError",
     "evalue": "'str' object is not callable",
     "output_type": "error",
     "traceback": [
      "\u001b[1;31m---------------------------------------------------------------------------\u001b[0m",
      "\u001b[1;31mTypeError\u001b[0m                                 Traceback (most recent call last)",
      "Input \u001b[1;32mIn [10]\u001b[0m, in \u001b[0;36m<cell line: 1>\u001b[1;34m()\u001b[0m\n\u001b[1;32m----> 1\u001b[0m \u001b[43mmy_love2\u001b[49m\u001b[43m(\u001b[49m\u001b[38;5;28;43mtype\u001b[39;49m\u001b[43m(\u001b[49m\u001b[43mmy_love2\u001b[49m\u001b[43m)\u001b[49m\u001b[43m)\u001b[49m\n\u001b[0;32m      2\u001b[0m my_love3(\u001b[38;5;28mtype\u001b[39m(my_love3))\n",
      "\u001b[1;31mTypeError\u001b[0m: 'str' object is not callable"
     ]
    }
   ],
   "source": [
    "my_love2(type(my_love2))\n",
    "my_love3(type(my_love3))"
   ]
  },
  {
   "cell_type": "code",
   "execution_count": 159,
   "id": "8ce962df",
   "metadata": {},
   "outputs": [
    {
     "ename": "TypeError",
     "evalue": "'list' object is not callable",
     "output_type": "error",
     "traceback": [
      "\u001b[1;31m---------------------------------------------------------------------------\u001b[0m",
      "\u001b[1;31mTypeError\u001b[0m                                 Traceback (most recent call last)",
      "Input \u001b[1;32mIn [159]\u001b[0m, in \u001b[0;36m<cell line: 1>\u001b[1;34m()\u001b[0m\n\u001b[1;32m----> 1\u001b[0m \u001b[38;5;28mprint\u001b[39m(\u001b[43mmy_love3\u001b[49m\u001b[43m(\u001b[49m\u001b[38;5;28;43mtype\u001b[39;49m\u001b[43m(\u001b[49m\u001b[43mmy_love2\u001b[49m\u001b[43m)\u001b[49m\u001b[43m)\u001b[49m)\n\u001b[0;32m      2\u001b[0m \u001b[38;5;28mprint\u001b[39m(my_love3(\u001b[38;5;28mtype\u001b[39m(my_love3)))\n",
      "\u001b[1;31mTypeError\u001b[0m: 'list' object is not callable"
     ]
    }
   ],
   "source": [
    "print(my_love3(type(my_love2)))\n",
    "print(my_love3(type(my_love3)))"
   ]
  },
  {
   "cell_type": "code",
   "execution_count": 1,
   "id": "1529fad0",
   "metadata": {},
   "outputs": [],
   "source": [
    "my_love2='then what is love,love is $ in life'"
   ]
  },
  {
   "cell_type": "code",
   "execution_count": 2,
   "id": "fbc2e4e5",
   "metadata": {},
   "outputs": [
    {
     "name": "stdout",
     "output_type": "stream",
     "text": [
      "['then what ', ' love,love ', ' $ in life']\n"
     ]
    }
   ],
   "source": [
    "print(my_love2.split('is'))"
   ]
  },
  {
   "cell_type": "code",
   "execution_count": 3,
   "id": "f1fb50d0",
   "metadata": {},
   "outputs": [
    {
     "data": {
      "text/plain": [
       "['then ', ' is love,love is $ in life']"
      ]
     },
     "execution_count": 3,
     "metadata": {},
     "output_type": "execute_result"
    }
   ],
   "source": [
    "my_love2.split('what')"
   ]
  },
  {
   "cell_type": "code",
   "execution_count": 4,
   "id": "540b3481",
   "metadata": {},
   "outputs": [],
   "source": [
    "my_love2='then what is love,love is $ in life'"
   ]
  },
  {
   "cell_type": "code",
   "execution_count": 5,
   "id": "748f205a",
   "metadata": {},
   "outputs": [
    {
     "data": {
      "text/plain": [
       "['then what is love,love is ', ' in life']"
      ]
     },
     "execution_count": 5,
     "metadata": {},
     "output_type": "execute_result"
    }
   ],
   "source": [
    "my_love2.split('$')"
   ]
  },
  {
   "cell_type": "code",
   "execution_count": 7,
   "id": "81f33218",
   "metadata": {},
   "outputs": [
    {
     "name": "stdout",
     "output_type": "stream",
     "text": [
      "['then what ', ' love,love ', ' $ in life']\n"
     ]
    }
   ],
   "source": [
    "print(my_love2.split('is',4))"
   ]
  },
  {
   "cell_type": "code",
   "execution_count": 165,
   "id": "8e283a84",
   "metadata": {},
   "outputs": [
    {
     "ename": "SyntaxError",
     "evalue": "invalid syntax (2997841033.py, line 1)",
     "output_type": "error",
     "traceback": [
      "\u001b[1;36m  Input \u001b[1;32mIn [165]\u001b[1;36m\u001b[0m\n\u001b[1;33m    print(my_love2.split('is'0,10))\u001b[0m\n\u001b[1;37m                             ^\u001b[0m\n\u001b[1;31mSyntaxError\u001b[0m\u001b[1;31m:\u001b[0m invalid syntax\n"
     ]
    }
   ],
   "source": [
    "print(my_love2.split('is'0,10))"
   ]
  },
  {
   "cell_type": "code",
   "execution_count": 170,
   "id": "900e5474",
   "metadata": {},
   "outputs": [],
   "source": [
    "my_love2='then what'"
   ]
  },
  {
   "cell_type": "code",
   "execution_count": 171,
   "id": "059b68b9",
   "metadata": {},
   "outputs": [
    {
     "data": {
      "text/plain": [
       "['then', 'what']"
      ]
     },
     "execution_count": 171,
     "metadata": {},
     "output_type": "execute_result"
    }
   ],
   "source": [
    "my_love2.split()"
   ]
  },
  {
   "cell_type": "code",
   "execution_count": 172,
   "id": "1297d0c7",
   "metadata": {},
   "outputs": [
    {
     "data": {
      "text/plain": [
       "['then ', '']"
      ]
     },
     "execution_count": 172,
     "metadata": {},
     "output_type": "execute_result"
    }
   ],
   "source": [
    "my_love2.split('what')"
   ]
  },
  {
   "cell_type": "code",
   "execution_count": 173,
   "id": "e398c44a",
   "metadata": {},
   "outputs": [
    {
     "data": {
      "text/plain": [
       "['', ' what']"
      ]
     },
     "execution_count": 173,
     "metadata": {},
     "output_type": "execute_result"
    }
   ],
   "source": [
    "my_love2.split('then')"
   ]
  },
  {
   "cell_type": "code",
   "execution_count": 174,
   "id": "bb7c947f",
   "metadata": {},
   "outputs": [
    {
     "name": "stdout",
     "output_type": "stream",
     "text": [
      "length of my_love2 is 9\n"
     ]
    }
   ],
   "source": [
    "my_love2='then what'\n",
    "print('length of my_love2 is',len(my_love2))"
   ]
  },
  {
   "cell_type": "code",
   "execution_count": 176,
   "id": "8ad48153",
   "metadata": {},
   "outputs": [
    {
     "name": "stdout",
     "output_type": "stream",
     "text": [
      "9\n",
      "length of my_love2 is None\n"
     ]
    }
   ],
   "source": [
    "my_love2='then what'\n",
    "print('length of my_love2 is',print(len(my_love2)))"
   ]
  },
  {
   "cell_type": "code",
   "execution_count": 177,
   "id": "a2574e51",
   "metadata": {},
   "outputs": [
    {
     "name": "stdout",
     "output_type": "stream",
     "text": [
      "9\n",
      "length of my_love2 is 9 None\n"
     ]
    }
   ],
   "source": [
    "my_love2='then what'\n",
    "print('length of my_love2 is',len(my_love2),print(len(my_love2)))"
   ]
  },
  {
   "cell_type": "code",
   "execution_count": 11,
   "id": "be694226",
   "metadata": {},
   "outputs": [
    {
     "name": "stdout",
     "output_type": "stream",
     "text": [
      "length of my_love2 is 9\n",
      "t\n",
      "h\n",
      "e\n",
      "n\n",
      " \n",
      "w\n",
      "h\n",
      "a\n",
      "t\n"
     ]
    }
   ],
   "source": [
    "my_love2='then what'\n",
    "print('length of my_love2 is',(len(my_love2)))\n",
    "for letter in my_love2:\n",
    "    print(letter)"
   ]
  },
  {
   "cell_type": "code",
   "execution_count": 13,
   "id": "5d62976a",
   "metadata": {},
   "outputs": [
    {
     "name": "stdout",
     "output_type": "stream",
     "text": [
      "length of my_love2 is 9\n",
      "t\n",
      "h\n",
      "e\n",
      "n\n",
      " \n",
      "w\n",
      "h\n",
      "a\n",
      "t\n"
     ]
    }
   ],
   "source": [
    "my_love2='then what'\n",
    "print('length of my_love2 is',len(my_love2))\n",
    "for letter in my_love2:\n",
    "    print(letter)"
   ]
  },
  {
   "cell_type": "code",
   "execution_count": 181,
   "id": "80e35786",
   "metadata": {},
   "outputs": [
    {
     "name": "stdout",
     "output_type": "stream",
     "text": [
      "length of my_love2 is 9\n",
      "t\n",
      "h\n",
      "e\n",
      "n\n",
      " \n",
      "w\n",
      "h\n",
      "a\n",
      "t\n"
     ]
    }
   ],
   "source": [
    "my_love2='then what'\n",
    "print('length of my_love2 is',len(my_love2))\n",
    "for better in my_love2:\n",
    "    print(better)"
   ]
  },
  {
   "cell_type": "code",
   "execution_count": 182,
   "id": "049a5cfe",
   "metadata": {},
   "outputs": [],
   "source": [
    "my_love3='thenwhat'"
   ]
  },
  {
   "cell_type": "code",
   "execution_count": 184,
   "id": "66ff9716",
   "metadata": {},
   "outputs": [
    {
     "name": "stdout",
     "output_type": "stream",
     "text": [
      "t\n",
      "h\n",
      "e\n",
      "n\n",
      "w\n",
      "h\n",
      "a\n",
      "t\n"
     ]
    }
   ],
   "source": [
    "for letter in my_love3:\n",
    "    print(letter)"
   ]
  },
  {
   "cell_type": "markdown",
   "id": "55ae3927",
   "metadata": {},
   "source": [
    "### 14.join()"
   ]
  },
  {
   "cell_type": "raw",
   "id": "4f5e8b9d",
   "metadata": {},
   "source": [
    "it converts list to string\n",
    "syntax>> ''.join(variable_name)\n",
    "syntax>> ' '.join(variable_name)\n",
    "syntax>> 'any name/number'.join(variable_name)"
   ]
  },
  {
   "cell_type": "code",
   "execution_count": 185,
   "id": "93bf5d8f",
   "metadata": {},
   "outputs": [],
   "source": [
    "str=\"python is object and subject oriented program\""
   ]
  },
  {
   "cell_type": "code",
   "execution_count": 187,
   "id": "7d6057e5",
   "metadata": {},
   "outputs": [],
   "source": [
    "str2=str.split()"
   ]
  },
  {
   "cell_type": "code",
   "execution_count": 188,
   "id": "6234cdcc",
   "metadata": {},
   "outputs": [
    {
     "data": {
      "text/plain": [
       "['python', 'is', 'object', 'and', 'subject', 'oriented', 'program']"
      ]
     },
     "execution_count": 188,
     "metadata": {},
     "output_type": "execute_result"
    }
   ],
   "source": [
    "str2"
   ]
  },
  {
   "cell_type": "code",
   "execution_count": 189,
   "id": "a4c44fa3",
   "metadata": {},
   "outputs": [
    {
     "data": {
      "text/plain": [
       "'python is object and subject oriented program'"
      ]
     },
     "execution_count": 189,
     "metadata": {},
     "output_type": "execute_result"
    }
   ],
   "source": [
    "str"
   ]
  },
  {
   "cell_type": "code",
   "execution_count": 192,
   "id": "302f51e5",
   "metadata": {},
   "outputs": [],
   "source": [
    "str3=''.join(str2)"
   ]
  },
  {
   "cell_type": "code",
   "execution_count": 193,
   "id": "2c40c453",
   "metadata": {},
   "outputs": [
    {
     "data": {
      "text/plain": [
       "'pythonisobjectandsubjectorientedprogram'"
      ]
     },
     "execution_count": 193,
     "metadata": {},
     "output_type": "execute_result"
    }
   ],
   "source": [
    "str3"
   ]
  },
  {
   "cell_type": "code",
   "execution_count": 195,
   "id": "6c795d50",
   "metadata": {},
   "outputs": [],
   "source": [
    "str3=' '.join(str2)"
   ]
  },
  {
   "cell_type": "code",
   "execution_count": 196,
   "id": "f122f051",
   "metadata": {},
   "outputs": [
    {
     "data": {
      "text/plain": [
       "'python is object and subject oriented program'"
      ]
     },
     "execution_count": 196,
     "metadata": {},
     "output_type": "execute_result"
    }
   ],
   "source": [
    "str3"
   ]
  },
  {
   "cell_type": "code",
   "execution_count": 197,
   "id": "34540629",
   "metadata": {},
   "outputs": [
    {
     "name": "stdout",
     "output_type": "stream",
     "text": [
      "python is object and subject oriented program\n",
      "['python', 'is', 'object', 'and', 'subject', 'oriented', 'program']\n"
     ]
    }
   ],
   "source": [
    "str=\"python is object and subject oriented program\"\n",
    "str2=str.split()\n",
    "print(str)\n",
    "print(str2)"
   ]
  },
  {
   "cell_type": "code",
   "execution_count": 203,
   "id": "944fedd6",
   "metadata": {},
   "outputs": [
    {
     "name": "stdout",
     "output_type": "stream",
     "text": [
      "python is object and subject oriented program\n",
      "['python', 'is', 'object', 'and', 'subject', 'oriented', 'program']\n"
     ]
    },
    {
     "data": {
      "text/plain": [
       "'pythonisobjectandsubjectorientedprogram'"
      ]
     },
     "execution_count": 203,
     "metadata": {},
     "output_type": "execute_result"
    }
   ],
   "source": [
    "str=\"python is object and subject oriented program\"\n",
    "str2=str.split()\n",
    "print(str)\n",
    "print(str2)\n",
    "str3=\"\".join(str2)\n",
    "str3"
   ]
  },
  {
   "cell_type": "code",
   "execution_count": 204,
   "id": "0cc86025",
   "metadata": {},
   "outputs": [
    {
     "data": {
      "text/plain": [
       "'python is object and subject oriented program'"
      ]
     },
     "execution_count": 204,
     "metadata": {},
     "output_type": "execute_result"
    }
   ],
   "source": [
    "str4=' '.join(str2)\n",
    "str4"
   ]
  },
  {
   "cell_type": "code",
   "execution_count": 207,
   "id": "12ebd2df",
   "metadata": {},
   "outputs": [
    {
     "data": {
      "text/plain": [
       "'python$is$object$and$subject$oriented$program'"
      ]
     },
     "execution_count": 207,
     "metadata": {},
     "output_type": "execute_result"
    }
   ],
   "source": [
    "str5='$'  .join(str2)\n",
    "str5"
   ]
  },
  {
   "cell_type": "code",
   "execution_count": 208,
   "id": "1c6f47e8",
   "metadata": {},
   "outputs": [
    {
     "data": {
      "text/plain": [
       "'python  $  is  $  object  $  and  $  subject  $  oriented  $  program'"
      ]
     },
     "execution_count": 208,
     "metadata": {},
     "output_type": "execute_result"
    }
   ],
   "source": [
    "str5='  $  '.join(str2)\n",
    "str5"
   ]
  },
  {
   "cell_type": "code",
   "execution_count": 209,
   "id": "5bebd7db",
   "metadata": {},
   "outputs": [
    {
     "data": {
      "text/plain": [
       "'python_is_object_and_subject_oriented_program'"
      ]
     },
     "execution_count": 209,
     "metadata": {},
     "output_type": "execute_result"
    }
   ],
   "source": [
    "str5='_'.join(str2)\n",
    "str5"
   ]
  },
  {
   "cell_type": "markdown",
   "id": "9c0b514c",
   "metadata": {},
   "source": [
    "### 15.startswith()"
   ]
  },
  {
   "cell_type": "raw",
   "id": "a72840a4",
   "metadata": {},
   "source": [
    "if string start with perticuler substring then it gives boolean value>>true/false"
   ]
  },
  {
   "cell_type": "raw",
   "id": "4cad9e3e",
   "metadata": {},
   "source": [
    "syntax>>string.startswith('substring')"
   ]
  },
  {
   "cell_type": "code",
   "execution_count": 4,
   "id": "7286693a",
   "metadata": {},
   "outputs": [],
   "source": [
    "string='python is dynamically types and interpreted program'"
   ]
  },
  {
   "cell_type": "code",
   "execution_count": 213,
   "id": "c27f4050",
   "metadata": {},
   "outputs": [
    {
     "data": {
      "text/plain": [
       "True"
      ]
     },
     "execution_count": 213,
     "metadata": {},
     "output_type": "execute_result"
    }
   ],
   "source": [
    "string.startswith('p')"
   ]
  },
  {
   "cell_type": "code",
   "execution_count": 214,
   "id": "0a2e2809",
   "metadata": {},
   "outputs": [
    {
     "data": {
      "text/plain": [
       "False"
      ]
     },
     "execution_count": 214,
     "metadata": {},
     "output_type": "execute_result"
    }
   ],
   "source": [
    "string.startswith('P')"
   ]
  },
  {
   "cell_type": "code",
   "execution_count": 215,
   "id": "bd7c3ef5",
   "metadata": {},
   "outputs": [
    {
     "data": {
      "text/plain": [
       "True"
      ]
     },
     "execution_count": 215,
     "metadata": {},
     "output_type": "execute_result"
    }
   ],
   "source": [
    "string.startswith('python')"
   ]
  },
  {
   "cell_type": "code",
   "execution_count": 233,
   "id": "7a7528ce",
   "metadata": {},
   "outputs": [
    {
     "name": "stdout",
     "output_type": "stream",
     "text": [
      "yes python is dynamically types and interpreted program is real statement\n"
     ]
    }
   ],
   "source": [
    "if string.startswith('py'):\n",
    "    print(F'yes {string} is real statement')\n",
    "else:\n",
    "    print(f'no {string} is not real statement')"
   ]
  },
  {
   "cell_type": "code",
   "execution_count": 5,
   "id": "a3c162e3",
   "metadata": {},
   "outputs": [
    {
     "name": "stdout",
     "output_type": "stream",
     "text": [
      "no python is dynamically types and interpreted program is real statement\n"
     ]
    }
   ],
   "source": [
    "if string.startswith('pj'):\n",
    "    print(F'yes {string} is not real statement')\n",
    "else:\n",
    "    print(f'no {string} is real statement')"
   ]
  },
  {
   "cell_type": "code",
   "execution_count": 216,
   "id": "e43df7b8",
   "metadata": {},
   "outputs": [
    {
     "data": {
      "text/plain": [
       "False"
      ]
     },
     "execution_count": 216,
     "metadata": {},
     "output_type": "execute_result"
    }
   ],
   "source": [
    "string.startswith(\"Python\")"
   ]
  },
  {
   "cell_type": "code",
   "execution_count": 217,
   "id": "fdd0dce3",
   "metadata": {},
   "outputs": [
    {
     "data": {
      "text/plain": [
       "True"
      ]
     },
     "execution_count": 217,
     "metadata": {},
     "output_type": "execute_result"
    }
   ],
   "source": [
    "string.startswith('pyt')"
   ]
  },
  {
   "cell_type": "code",
   "execution_count": 218,
   "id": "2841b1bf",
   "metadata": {},
   "outputs": [
    {
     "data": {
      "text/plain": [
       "False"
      ]
     },
     "execution_count": 218,
     "metadata": {},
     "output_type": "execute_result"
    }
   ],
   "source": [
    "string.startswith('pyy')"
   ]
  },
  {
   "cell_type": "markdown",
   "id": "210d149d",
   "metadata": {},
   "source": [
    "### 16.endswith()"
   ]
  },
  {
   "cell_type": "raw",
   "id": "fe75317c",
   "metadata": {},
   "source": [
    "if string ends with perticuler substring then,it gives boolean value>> true/false"
   ]
  },
  {
   "cell_type": "code",
   "execution_count": 8,
   "id": "419d27b5",
   "metadata": {},
   "outputs": [],
   "source": [
    "d2_avA='python is easy to code read, write, and run.and it has extensive libraries'"
   ]
  },
  {
   "cell_type": "code",
   "execution_count": 221,
   "id": "ae88fb47",
   "metadata": {},
   "outputs": [
    {
     "data": {
      "text/plain": [
       "True"
      ]
     },
     "execution_count": 221,
     "metadata": {},
     "output_type": "execute_result"
    }
   ],
   "source": [
    "d2_avA.endswith('s')"
   ]
  },
  {
   "cell_type": "code",
   "execution_count": 222,
   "id": "f5d0da22",
   "metadata": {},
   "outputs": [
    {
     "data": {
      "text/plain": [
       "False"
      ]
     },
     "execution_count": 222,
     "metadata": {},
     "output_type": "execute_result"
    }
   ],
   "source": [
    "d2_avA.endswith('S')"
   ]
  },
  {
   "cell_type": "code",
   "execution_count": 223,
   "id": "6e142924",
   "metadata": {},
   "outputs": [
    {
     "data": {
      "text/plain": [
       "True"
      ]
     },
     "execution_count": 223,
     "metadata": {},
     "output_type": "execute_result"
    }
   ],
   "source": [
    "d2_avA.endswith('ies')"
   ]
  },
  {
   "cell_type": "code",
   "execution_count": 9,
   "id": "64969c21",
   "metadata": {},
   "outputs": [
    {
     "data": {
      "text/plain": [
       "True"
      ]
     },
     "execution_count": 9,
     "metadata": {},
     "output_type": "execute_result"
    }
   ],
   "source": [
    "string.startswith('python')"
   ]
  },
  {
   "cell_type": "raw",
   "id": "0403d1cb",
   "metadata": {},
   "source": [
    "if statement>>   condition 1st is true then prints if statement\n",
    "else statement>> condition 1st false then prints else statement"
   ]
  },
  {
   "cell_type": "code",
   "execution_count": 228,
   "id": "3a91347b",
   "metadata": {},
   "outputs": [
    {
     "name": "stdout",
     "output_type": "stream",
     "text": [
      "yes python is easy to code read, write, and run.and it has extensive libraries is real statement\n"
     ]
    }
   ],
   "source": [
    "if d2_avA.endswith('es'):\n",
    "    print(F'yes {d2_avA} is real statement')\n",
    "else:\n",
    "    print(f'no {d2_avA} is not real statement')"
   ]
  },
  {
   "cell_type": "code",
   "execution_count": 10,
   "id": "020162af",
   "metadata": {},
   "outputs": [
    {
     "name": "stdout",
     "output_type": "stream",
     "text": [
      "shut up yr python is easy to code read, write, and run.and it has extensive libraries is correct\n"
     ]
    }
   ],
   "source": [
    "if d2_avA.endswith('ro'):\n",
    "    print(f'haha correct{d2_avA} really not real')\n",
    "else:\n",
    "    print(f'shut up yr {d2_avA} is correct')"
   ]
  },
  {
   "cell_type": "markdown",
   "id": "1ea8353b",
   "metadata": {},
   "source": [
    "### 17.isalnum()"
   ]
  },
  {
   "cell_type": "raw",
   "id": "616f59d5",
   "metadata": {},
   "source": [
    "if our string is alphanumeric,it gives boolean>>true?false\n",
    "alphanumeric >> a-z,A-Z,0-9.\n",
    "it does not allow special characters and spaces\n",
    "also does not allowed float values"
   ]
  },
  {
   "cell_type": "code",
   "execution_count": 235,
   "id": "334d090f",
   "metadata": {},
   "outputs": [],
   "source": [
    "radhe='harihhribolo234'"
   ]
  },
  {
   "cell_type": "code",
   "execution_count": 236,
   "id": "2c250924",
   "metadata": {},
   "outputs": [
    {
     "data": {
      "text/plain": [
       "True"
      ]
     },
     "execution_count": 236,
     "metadata": {},
     "output_type": "execute_result"
    }
   ],
   "source": [
    "radhe.isalnum()"
   ]
  },
  {
   "cell_type": "code",
   "execution_count": 237,
   "id": "b0365b99",
   "metadata": {},
   "outputs": [],
   "source": [
    "radhe='HArihhribolo234'"
   ]
  },
  {
   "cell_type": "code",
   "execution_count": 238,
   "id": "dfc2fbb3",
   "metadata": {},
   "outputs": [
    {
     "data": {
      "text/plain": [
       "True"
      ]
     },
     "execution_count": 238,
     "metadata": {},
     "output_type": "execute_result"
    }
   ],
   "source": [
    "radhe.isalnum()"
   ]
  },
  {
   "cell_type": "code",
   "execution_count": 239,
   "id": "bdca4063",
   "metadata": {},
   "outputs": [],
   "source": [
    "radhe='hari hari bolo234'"
   ]
  },
  {
   "cell_type": "code",
   "execution_count": 240,
   "id": "668d5ea8",
   "metadata": {},
   "outputs": [
    {
     "data": {
      "text/plain": [
       "False"
      ]
     },
     "execution_count": 240,
     "metadata": {},
     "output_type": "execute_result"
    }
   ],
   "source": [
    "radhe.isalnum()"
   ]
  },
  {
   "cell_type": "code",
   "execution_count": 243,
   "id": "3d2f9afe",
   "metadata": {},
   "outputs": [],
   "source": [
    "radhe='harihhribolo234$%#'"
   ]
  },
  {
   "cell_type": "code",
   "execution_count": 244,
   "id": "0d4e62db",
   "metadata": {},
   "outputs": [
    {
     "data": {
      "text/plain": [
       "False"
      ]
     },
     "execution_count": 244,
     "metadata": {},
     "output_type": "execute_result"
    }
   ],
   "source": [
    "radhe.isalnum()"
   ]
  },
  {
   "cell_type": "code",
   "execution_count": 8,
   "id": "cffdde7f",
   "metadata": {},
   "outputs": [],
   "source": [
    "radhe=\"987356\""
   ]
  },
  {
   "cell_type": "code",
   "execution_count": 9,
   "id": "a271661f",
   "metadata": {},
   "outputs": [
    {
     "data": {
      "text/plain": [
       "True"
      ]
     },
     "execution_count": 9,
     "metadata": {},
     "output_type": "execute_result"
    }
   ],
   "source": [
    "radhe.isalnum()"
   ]
  },
  {
   "cell_type": "code",
   "execution_count": 247,
   "id": "542a79d3",
   "metadata": {},
   "outputs": [],
   "source": [
    "radhe=987356"
   ]
  },
  {
   "cell_type": "code",
   "execution_count": 248,
   "id": "600764cd",
   "metadata": {},
   "outputs": [
    {
     "ename": "AttributeError",
     "evalue": "'int' object has no attribute 'isalnum'",
     "output_type": "error",
     "traceback": [
      "\u001b[1;31m---------------------------------------------------------------------------\u001b[0m",
      "\u001b[1;31mAttributeError\u001b[0m                            Traceback (most recent call last)",
      "Input \u001b[1;32mIn [248]\u001b[0m, in \u001b[0;36m<cell line: 1>\u001b[1;34m()\u001b[0m\n\u001b[1;32m----> 1\u001b[0m \u001b[43mradhe\u001b[49m\u001b[38;5;241;43m.\u001b[39;49m\u001b[43misalnum\u001b[49m()\n",
      "\u001b[1;31mAttributeError\u001b[0m: 'int' object has no attribute 'isalnum'"
     ]
    }
   ],
   "source": [
    "radhe.isalnum()"
   ]
  },
  {
   "cell_type": "code",
   "execution_count": 249,
   "id": "c5008d84",
   "metadata": {},
   "outputs": [],
   "source": [
    "radhe=\"987 356\""
   ]
  },
  {
   "cell_type": "code",
   "execution_count": 250,
   "id": "74febe07",
   "metadata": {},
   "outputs": [
    {
     "data": {
      "text/plain": [
       "False"
      ]
     },
     "execution_count": 250,
     "metadata": {},
     "output_type": "execute_result"
    }
   ],
   "source": [
    "radhe.isalnum()"
   ]
  },
  {
   "cell_type": "code",
   "execution_count": 252,
   "id": "77fbfe7c",
   "metadata": {},
   "outputs": [],
   "source": [
    "radhe=\"9856$#\""
   ]
  },
  {
   "cell_type": "code",
   "execution_count": 253,
   "id": "52514281",
   "metadata": {},
   "outputs": [
    {
     "data": {
      "text/plain": [
       "False"
      ]
     },
     "execution_count": 253,
     "metadata": {},
     "output_type": "execute_result"
    }
   ],
   "source": [
    "radhe.isalnum()"
   ]
  },
  {
   "cell_type": "code",
   "execution_count": 254,
   "id": "07323b48",
   "metadata": {},
   "outputs": [
    {
     "name": "stdout",
     "output_type": "stream",
     "text": [
      "False\n"
     ]
    }
   ],
   "source": [
    "print(radhe.isalnum())"
   ]
  },
  {
   "cell_type": "code",
   "execution_count": 255,
   "id": "b6125dca",
   "metadata": {},
   "outputs": [],
   "source": [
    "radhe='68.905'"
   ]
  },
  {
   "cell_type": "code",
   "execution_count": 257,
   "id": "9cff8601",
   "metadata": {},
   "outputs": [
    {
     "data": {
      "text/plain": [
       "False"
      ]
     },
     "execution_count": 257,
     "metadata": {},
     "output_type": "execute_result"
    }
   ],
   "source": [
    "radhe.isalnum()"
   ]
  },
  {
   "cell_type": "code",
   "execution_count": 258,
   "id": "c47ed86a",
   "metadata": {},
   "outputs": [],
   "source": [
    "radhe=\"\""
   ]
  },
  {
   "cell_type": "code",
   "execution_count": 259,
   "id": "fe4f7a68",
   "metadata": {},
   "outputs": [
    {
     "data": {
      "text/plain": [
       "False"
      ]
     },
     "execution_count": 259,
     "metadata": {},
     "output_type": "execute_result"
    }
   ],
   "source": [
    "radhe.isalnum()"
   ]
  },
  {
   "cell_type": "code",
   "execution_count": 261,
   "id": "6fa2eb2f",
   "metadata": {},
   "outputs": [],
   "source": [
    "radhe=\" \""
   ]
  },
  {
   "cell_type": "code",
   "execution_count": 263,
   "id": "e8c3b0a6",
   "metadata": {},
   "outputs": [
    {
     "name": "stdout",
     "output_type": "stream",
     "text": [
      "False\n"
     ]
    }
   ],
   "source": [
    "print(radhe.isalnum())"
   ]
  },
  {
   "cell_type": "markdown",
   "id": "53d8f442",
   "metadata": {},
   "source": [
    "### 18.isalpha()"
   ]
  },
  {
   "cell_type": "raw",
   "id": "85a8f52f",
   "metadata": {},
   "source": [
    "it contains only alphabates only\n",
    "if our string is alphabates,it gives boolea>>true\n",
    "alphabates >> a-z,A-Z,\n",
    "it does not allow special characters and spaces\n",
    "also does not allowed float and decimals"
   ]
  },
  {
   "cell_type": "code",
   "execution_count": 264,
   "id": "c9484235",
   "metadata": {},
   "outputs": [],
   "source": [
    "radhe='harihhribol'"
   ]
  },
  {
   "cell_type": "code",
   "execution_count": 265,
   "id": "cdb7aee1",
   "metadata": {},
   "outputs": [
    {
     "data": {
      "text/plain": [
       "True"
      ]
     },
     "execution_count": 265,
     "metadata": {},
     "output_type": "execute_result"
    }
   ],
   "source": [
    "radhe.isalpha()"
   ]
  },
  {
   "cell_type": "code",
   "execution_count": 266,
   "id": "9c5735ea",
   "metadata": {},
   "outputs": [],
   "source": [
    "radhe2=radhe.upper()"
   ]
  },
  {
   "cell_type": "code",
   "execution_count": 267,
   "id": "88de9720",
   "metadata": {},
   "outputs": [
    {
     "data": {
      "text/plain": [
       "'HARIHHRIBOL'"
      ]
     },
     "execution_count": 267,
     "metadata": {},
     "output_type": "execute_result"
    }
   ],
   "source": [
    "radhe2"
   ]
  },
  {
   "cell_type": "code",
   "execution_count": 268,
   "id": "0c7de74c",
   "metadata": {},
   "outputs": [
    {
     "data": {
      "text/plain": [
       "True"
      ]
     },
     "execution_count": 268,
     "metadata": {},
     "output_type": "execute_result"
    }
   ],
   "source": [
    "radhe2.isalpha()"
   ]
  },
  {
   "cell_type": "code",
   "execution_count": 269,
   "id": "2b3b4036",
   "metadata": {},
   "outputs": [],
   "source": [
    "radhe3=radhe2.lower().capitalize()"
   ]
  },
  {
   "cell_type": "code",
   "execution_count": 270,
   "id": "85019922",
   "metadata": {},
   "outputs": [
    {
     "data": {
      "text/plain": [
       "'Harihhribol'"
      ]
     },
     "execution_count": 270,
     "metadata": {},
     "output_type": "execute_result"
    }
   ],
   "source": [
    "radhe3"
   ]
  },
  {
   "cell_type": "code",
   "execution_count": 271,
   "id": "1d608052",
   "metadata": {},
   "outputs": [
    {
     "data": {
      "text/plain": [
       "True"
      ]
     },
     "execution_count": 271,
     "metadata": {},
     "output_type": "execute_result"
    }
   ],
   "source": [
    "radhe3.isalpha()"
   ]
  },
  {
   "cell_type": "code",
   "execution_count": 272,
   "id": "638fd3de",
   "metadata": {},
   "outputs": [],
   "source": [
    "r4=radhe3.title()"
   ]
  },
  {
   "cell_type": "code",
   "execution_count": 273,
   "id": "63c0520a",
   "metadata": {},
   "outputs": [
    {
     "data": {
      "text/plain": [
       "'Harihhribol'"
      ]
     },
     "execution_count": 273,
     "metadata": {},
     "output_type": "execute_result"
    }
   ],
   "source": [
    "r4"
   ]
  },
  {
   "cell_type": "code",
   "execution_count": 274,
   "id": "8021a2bb",
   "metadata": {},
   "outputs": [
    {
     "data": {
      "text/plain": [
       "True"
      ]
     },
     "execution_count": 274,
     "metadata": {},
     "output_type": "execute_result"
    }
   ],
   "source": [
    "r4.isalpha()"
   ]
  },
  {
   "cell_type": "code",
   "execution_count": 275,
   "id": "cd8a59a1",
   "metadata": {},
   "outputs": [],
   "source": [
    "r5=r4.swapcase()"
   ]
  },
  {
   "cell_type": "code",
   "execution_count": 276,
   "id": "9e2caa40",
   "metadata": {},
   "outputs": [
    {
     "data": {
      "text/plain": [
       "'hARIHHRIBOL'"
      ]
     },
     "execution_count": 276,
     "metadata": {},
     "output_type": "execute_result"
    }
   ],
   "source": [
    "r5"
   ]
  },
  {
   "cell_type": "code",
   "execution_count": 277,
   "id": "7a8f294d",
   "metadata": {},
   "outputs": [],
   "source": [
    "r6=r5.replace('H','e')"
   ]
  },
  {
   "cell_type": "code",
   "execution_count": 278,
   "id": "a665f0b0",
   "metadata": {},
   "outputs": [
    {
     "data": {
      "text/plain": [
       "'hARIeeRIBOL'"
      ]
     },
     "execution_count": 278,
     "metadata": {},
     "output_type": "execute_result"
    }
   ],
   "source": [
    "r6"
   ]
  },
  {
   "cell_type": "code",
   "execution_count": 279,
   "id": "259c0539",
   "metadata": {},
   "outputs": [
    {
     "name": "stdout",
     "output_type": "stream",
     "text": [
      "True\n"
     ]
    }
   ],
   "source": [
    "print(r6.isalpha())"
   ]
  },
  {
   "cell_type": "code",
   "execution_count": 280,
   "id": "541534ff",
   "metadata": {},
   "outputs": [],
   "source": [
    "radhe='harihhribo564l'"
   ]
  },
  {
   "cell_type": "code",
   "execution_count": 282,
   "id": "d32b2665",
   "metadata": {},
   "outputs": [
    {
     "data": {
      "text/plain": [
       "False"
      ]
     },
     "execution_count": 282,
     "metadata": {},
     "output_type": "execute_result"
    }
   ],
   "source": [
    "radhe.isalpha()"
   ]
  },
  {
   "cell_type": "code",
   "execution_count": 285,
   "id": "faae193c",
   "metadata": {},
   "outputs": [],
   "source": [
    "radhe='harihh ribol 1.44'"
   ]
  },
  {
   "cell_type": "code",
   "execution_count": 286,
   "id": "c8d2a9ec",
   "metadata": {},
   "outputs": [
    {
     "data": {
      "text/plain": [
       "False"
      ]
     },
     "execution_count": 286,
     "metadata": {},
     "output_type": "execute_result"
    }
   ],
   "source": [
    "radhe.isalpha()"
   ]
  },
  {
   "cell_type": "code",
   "execution_count": 2,
   "id": "ea59928e",
   "metadata": {},
   "outputs": [
    {
     "data": {
      "text/plain": [
       "False"
      ]
     },
     "execution_count": 2,
     "metadata": {},
     "output_type": "execute_result"
    }
   ],
   "source": [
    "radhe='harihh ribol 1.44*&^'\n",
    "radhe.isalpha()"
   ]
  },
  {
   "cell_type": "markdown",
   "id": "72ae1b7a",
   "metadata": {},
   "source": [
    "### 19.isdecimal()"
   ]
  },
  {
   "cell_type": "raw",
   "id": "a4c2dbd8",
   "metadata": {},
   "source": [
    "it contains only digits (0-9) \n",
    "decimals >> (0-9)\n",
    "it also contain perticular range of unicodes\n",
    "unicodes>> (\\u0030 to \\u0039) #\\u0030>0,\\u0031>1,\\uoo39>9 like that\n",
    "if our string is only digits,it gives boolea>>true\n",
    "it does not allow special characters and spaces\n",
    "also does not allowed float and alphabates"
   ]
  },
  {
   "cell_type": "code",
   "execution_count": 288,
   "id": "a709f3e2",
   "metadata": {},
   "outputs": [],
   "source": [
    "emi='12453'"
   ]
  },
  {
   "cell_type": "code",
   "execution_count": 290,
   "id": "dc3a4a25",
   "metadata": {},
   "outputs": [
    {
     "data": {
      "text/plain": [
       "True"
      ]
     },
     "execution_count": 290,
     "metadata": {},
     "output_type": "execute_result"
    }
   ],
   "source": [
    "emi.isdecimal()"
   ]
  },
  {
   "cell_type": "code",
   "execution_count": 313,
   "id": "6f25a918",
   "metadata": {},
   "outputs": [
    {
     "data": {
      "text/plain": [
       "'0'"
      ]
     },
     "execution_count": 313,
     "metadata": {},
     "output_type": "execute_result"
    }
   ],
   "source": [
    "emi='\\u0030'\n",
    "emi"
   ]
  },
  {
   "cell_type": "code",
   "execution_count": 302,
   "id": "04298a5d",
   "metadata": {},
   "outputs": [
    {
     "data": {
      "text/plain": [
       "True"
      ]
     },
     "execution_count": 302,
     "metadata": {},
     "output_type": "execute_result"
    }
   ],
   "source": [
    "emi.isdecimal()"
   ]
  },
  {
   "cell_type": "code",
   "execution_count": 314,
   "id": "8d94f9d8",
   "metadata": {},
   "outputs": [
    {
     "data": {
      "text/plain": [
       "'4'"
      ]
     },
     "execution_count": 314,
     "metadata": {},
     "output_type": "execute_result"
    }
   ],
   "source": [
    "emi='\\u0034'\n",
    "emi"
   ]
  },
  {
   "cell_type": "code",
   "execution_count": 305,
   "id": "37403e06",
   "metadata": {},
   "outputs": [
    {
     "data": {
      "text/plain": [
       "True"
      ]
     },
     "execution_count": 305,
     "metadata": {},
     "output_type": "execute_result"
    }
   ],
   "source": [
    "emi.isdecimal()"
   ]
  },
  {
   "cell_type": "code",
   "execution_count": 1,
   "id": "d9926dff",
   "metadata": {},
   "outputs": [],
   "source": [
    "emi=12453"
   ]
  },
  {
   "cell_type": "code",
   "execution_count": 2,
   "id": "e7c5d71b",
   "metadata": {},
   "outputs": [
    {
     "ename": "AttributeError",
     "evalue": "'int' object has no attribute 'isdecimal'",
     "output_type": "error",
     "traceback": [
      "\u001b[1;31m---------------------------------------------------------------------------\u001b[0m",
      "\u001b[1;31mAttributeError\u001b[0m                            Traceback (most recent call last)",
      "Input \u001b[1;32mIn [2]\u001b[0m, in \u001b[0;36m<cell line: 1>\u001b[1;34m()\u001b[0m\n\u001b[1;32m----> 1\u001b[0m \u001b[43memi\u001b[49m\u001b[38;5;241;43m.\u001b[39;49m\u001b[43misdecimal\u001b[49m\n",
      "\u001b[1;31mAttributeError\u001b[0m: 'int' object has no attribute 'isdecimal'"
     ]
    }
   ],
   "source": [
    "emi.isdecimal"
   ]
  },
  {
   "cell_type": "code",
   "execution_count": 293,
   "id": "40680fcd",
   "metadata": {},
   "outputs": [],
   "source": [
    "emi='124 53'"
   ]
  },
  {
   "cell_type": "code",
   "execution_count": 294,
   "id": "d1de3043",
   "metadata": {},
   "outputs": [
    {
     "data": {
      "text/plain": [
       "False"
      ]
     },
     "execution_count": 294,
     "metadata": {},
     "output_type": "execute_result"
    }
   ],
   "source": [
    "emi.isdecimal()"
   ]
  },
  {
   "cell_type": "code",
   "execution_count": 295,
   "id": "413a5bcc",
   "metadata": {},
   "outputs": [],
   "source": [
    "emi='12453%$^'"
   ]
  },
  {
   "cell_type": "code",
   "execution_count": 296,
   "id": "95bfab99",
   "metadata": {},
   "outputs": [
    {
     "data": {
      "text/plain": [
       "False"
      ]
     },
     "execution_count": 296,
     "metadata": {},
     "output_type": "execute_result"
    }
   ],
   "source": [
    "emi.isdecimal()"
   ]
  },
  {
   "cell_type": "code",
   "execution_count": 297,
   "id": "a0a67ec9",
   "metadata": {},
   "outputs": [],
   "source": [
    "emi='ramdas'"
   ]
  },
  {
   "cell_type": "code",
   "execution_count": 298,
   "id": "63db32b7",
   "metadata": {},
   "outputs": [
    {
     "data": {
      "text/plain": [
       "False"
      ]
     },
     "execution_count": 298,
     "metadata": {},
     "output_type": "execute_result"
    }
   ],
   "source": [
    "emi.isdecimal()"
   ]
  },
  {
   "cell_type": "code",
   "execution_count": 310,
   "id": "883d6ac4",
   "metadata": {},
   "outputs": [
    {
     "data": {
      "text/plain": [
       "'894'"
      ]
     },
     "execution_count": 310,
     "metadata": {},
     "output_type": "execute_result"
    }
   ],
   "source": [
    "emi='89\\u0034'\n",
    "emi"
   ]
  },
  {
   "cell_type": "code",
   "execution_count": 309,
   "id": "07cbadac",
   "metadata": {},
   "outputs": [
    {
     "data": {
      "text/plain": [
       "True"
      ]
     },
     "execution_count": 309,
     "metadata": {},
     "output_type": "execute_result"
    }
   ],
   "source": [
    "emi.isdecimal()"
   ]
  },
  {
   "cell_type": "code",
   "execution_count": 311,
   "id": "43398d1d",
   "metadata": {},
   "outputs": [],
   "source": [
    "emi='\\u0039'"
   ]
  },
  {
   "cell_type": "code",
   "execution_count": 312,
   "id": "46e8ff78",
   "metadata": {},
   "outputs": [
    {
     "data": {
      "text/plain": [
       "'9'"
      ]
     },
     "execution_count": 312,
     "metadata": {},
     "output_type": "execute_result"
    }
   ],
   "source": [
    "emi"
   ]
  },
  {
   "cell_type": "markdown",
   "id": "0b47698f",
   "metadata": {},
   "source": [
    "### 20.isdigit"
   ]
  },
  {
   "cell_type": "raw",
   "id": "100f9769",
   "metadata": {},
   "source": [
    "it contains only digits (0-9) \n",
    "decimals >> (0-9)\n",
    "it also contain perticular range of unicodes\n",
    "unicodes>> (\\u0030 to \\u0039) #\\u0030>0,\\u0031>1,\\uoo39>9 like that\n",
    "it also contains subscripts and superscripts.\n",
    "subscripts>> \\u2081 to \\u2089.\n",
    "superscripts>> \\u00B2 to \\u00B3\n",
    "if our string is only digits,it gives boolea>>true\n",
    "it does not allow special characters and spaces\n",
    "also does not allowed float and alphabates"
   ]
  },
  {
   "cell_type": "code",
   "execution_count": 5,
   "id": "5d841071",
   "metadata": {},
   "outputs": [],
   "source": [
    "numb=\"5673\""
   ]
  },
  {
   "cell_type": "code",
   "execution_count": 316,
   "id": "46544076",
   "metadata": {},
   "outputs": [
    {
     "data": {
      "text/plain": [
       "'5673'"
      ]
     },
     "execution_count": 316,
     "metadata": {},
     "output_type": "execute_result"
    }
   ],
   "source": [
    "numb"
   ]
  },
  {
   "cell_type": "code",
   "execution_count": 317,
   "id": "f660242c",
   "metadata": {},
   "outputs": [
    {
     "data": {
      "text/plain": [
       "True"
      ]
     },
     "execution_count": 317,
     "metadata": {},
     "output_type": "execute_result"
    }
   ],
   "source": [
    "numb.isdigit()"
   ]
  },
  {
   "cell_type": "code",
   "execution_count": 318,
   "id": "9a19bccf",
   "metadata": {},
   "outputs": [
    {
     "data": {
      "text/plain": [
       "'radha'"
      ]
     },
     "execution_count": 318,
     "metadata": {},
     "output_type": "execute_result"
    }
   ],
   "source": [
    "numb=\"radha\"\n",
    "numb"
   ]
  },
  {
   "cell_type": "code",
   "execution_count": 319,
   "id": "89330cce",
   "metadata": {},
   "outputs": [
    {
     "data": {
      "text/plain": [
       "False"
      ]
     },
     "execution_count": 319,
     "metadata": {},
     "output_type": "execute_result"
    }
   ],
   "source": [
    "numb.isdigit()"
   ]
  },
  {
   "cell_type": "code",
   "execution_count": 321,
   "id": "f8dd848c",
   "metadata": {},
   "outputs": [],
   "source": [
    "numb='\\u0037'"
   ]
  },
  {
   "cell_type": "code",
   "execution_count": 322,
   "id": "0d767d98",
   "metadata": {},
   "outputs": [
    {
     "data": {
      "text/plain": [
       "'7'"
      ]
     },
     "execution_count": 322,
     "metadata": {},
     "output_type": "execute_result"
    }
   ],
   "source": [
    "numb"
   ]
  },
  {
   "cell_type": "code",
   "execution_count": 332,
   "id": "150c093d",
   "metadata": {},
   "outputs": [
    {
     "data": {
      "text/plain": [
       "'₇'"
      ]
     },
     "execution_count": 332,
     "metadata": {},
     "output_type": "execute_result"
    }
   ],
   "source": [
    "numb='\\u2087'\n",
    "numb"
   ]
  },
  {
   "cell_type": "code",
   "execution_count": 324,
   "id": "bc455f6e",
   "metadata": {},
   "outputs": [
    {
     "data": {
      "text/plain": [
       "True"
      ]
     },
     "execution_count": 324,
     "metadata": {},
     "output_type": "execute_result"
    }
   ],
   "source": [
    "numb.isdigit()"
   ]
  },
  {
   "cell_type": "code",
   "execution_count": 331,
   "id": "716e4e7e",
   "metadata": {},
   "outputs": [
    {
     "data": {
      "text/plain": [
       "'²'"
      ]
     },
     "execution_count": 331,
     "metadata": {},
     "output_type": "execute_result"
    }
   ],
   "source": [
    "numb='\\u00B2'\n",
    "numb"
   ]
  },
  {
   "cell_type": "code",
   "execution_count": 10,
   "id": "4e6854ac",
   "metadata": {},
   "outputs": [
    {
     "name": "stdout",
     "output_type": "stream",
     "text": [
      "²/₅\n"
     ]
    }
   ],
   "source": [
    "num=print('\\u00B2/\\u2085')"
   ]
  },
  {
   "cell_type": "code",
   "execution_count": 178,
   "id": "99ee0de1",
   "metadata": {},
   "outputs": [
    {
     "name": "stdout",
     "output_type": "stream",
     "text": [
      "1²/₅\n"
     ]
    }
   ],
   "source": [
    "num=print('1\\u00B2/\\u2085')"
   ]
  },
  {
   "cell_type": "code",
   "execution_count": 171,
   "id": "b909dcc4",
   "metadata": {},
   "outputs": [
    {
     "name": "stdout",
     "output_type": "stream",
     "text": [
      "₁/²\n"
     ]
    }
   ],
   "source": [
    "num=print('\\u2081/\\u00B2')"
   ]
  },
  {
   "cell_type": "code",
   "execution_count": 172,
   "id": "2996e818",
   "metadata": {},
   "outputs": [
    {
     "name": "stdout",
     "output_type": "stream",
     "text": [
      "²/1\n"
     ]
    }
   ],
   "source": [
    "num=print('\\u00B2/\\u0031')"
   ]
  },
  {
   "cell_type": "code",
   "execution_count": 173,
   "id": "8b5062fa",
   "metadata": {},
   "outputs": [
    {
     "name": "stdout",
     "output_type": "stream",
     "text": [
      "±/₂\n"
     ]
    }
   ],
   "source": [
    "num=print('\\u00B1/\\u2082')"
   ]
  },
  {
   "cell_type": "code",
   "execution_count": 175,
   "id": "62436eb3",
   "metadata": {},
   "outputs": [
    {
     "name": "stdout",
     "output_type": "stream",
     "text": [
      "1/₅\n"
     ]
    }
   ],
   "source": [
    "num=print('\\u0031/\\u2085')"
   ]
  },
  {
   "cell_type": "code",
   "execution_count": 176,
   "id": "55e6f18f",
   "metadata": {},
   "outputs": [
    {
     "name": "stdout",
     "output_type": "stream",
     "text": [
      "1/²\n"
     ]
    }
   ],
   "source": [
    "num=print('\\u0031/\\u00B2')"
   ]
  },
  {
   "cell_type": "code",
   "execution_count": 177,
   "id": "e2c9c512",
   "metadata": {},
   "outputs": [
    {
     "name": "stdout",
     "output_type": "stream",
     "text": [
      "1/2\n"
     ]
    }
   ],
   "source": [
    "num=print('\\u0031/\\u0032')"
   ]
  },
  {
   "cell_type": "code",
   "execution_count": 328,
   "id": "a289d9ea",
   "metadata": {},
   "outputs": [
    {
     "data": {
      "text/plain": [
       "True"
      ]
     },
     "execution_count": 328,
     "metadata": {},
     "output_type": "execute_result"
    }
   ],
   "source": [
    "numb.isdigit()"
   ]
  },
  {
   "cell_type": "code",
   "execution_count": 329,
   "id": "5829dcd4",
   "metadata": {},
   "outputs": [],
   "source": [
    "numb='\\u00B3'"
   ]
  },
  {
   "cell_type": "code",
   "execution_count": 330,
   "id": "6dac5dc6",
   "metadata": {},
   "outputs": [
    {
     "data": {
      "text/plain": [
       "'³'"
      ]
     },
     "execution_count": 330,
     "metadata": {},
     "output_type": "execute_result"
    }
   ],
   "source": [
    "numb"
   ]
  },
  {
   "cell_type": "code",
   "execution_count": 333,
   "id": "2d569d74",
   "metadata": {},
   "outputs": [
    {
     "data": {
      "text/plain": [
       "'´'"
      ]
     },
     "execution_count": 333,
     "metadata": {},
     "output_type": "execute_result"
    }
   ],
   "source": [
    "numb='\\u00B4'\n",
    "numb"
   ]
  },
  {
   "cell_type": "code",
   "execution_count": 334,
   "id": "1a92976b",
   "metadata": {},
   "outputs": [],
   "source": [
    "numb='H\\u00B2'"
   ]
  },
  {
   "cell_type": "code",
   "execution_count": 335,
   "id": "87430332",
   "metadata": {},
   "outputs": [
    {
     "data": {
      "text/plain": [
       "'H²'"
      ]
     },
     "execution_count": 335,
     "metadata": {},
     "output_type": "execute_result"
    }
   ],
   "source": [
    "numb"
   ]
  },
  {
   "cell_type": "code",
   "execution_count": 336,
   "id": "89d7b528",
   "metadata": {},
   "outputs": [
    {
     "name": "stdout",
     "output_type": "stream",
     "text": [
      "H²\n"
     ]
    }
   ],
   "source": [
    "print(numb)"
   ]
  },
  {
   "cell_type": "code",
   "execution_count": 1,
   "id": "e16d14a4",
   "metadata": {},
   "outputs": [
    {
     "name": "stdout",
     "output_type": "stream",
     "text": [
      "C₁₂H₂₂O₁₁\n",
      "E = mc²\n"
     ]
    }
   ],
   "source": [
    "print('C\\u2081\\u2082H\\u2082\\u2082O\\u2081\\u2081')\n",
    "print('E = mc\\u00B2')"
   ]
  },
  {
   "cell_type": "code",
   "execution_count": 2,
   "id": "de4276a6",
   "metadata": {},
   "outputs": [
    {
     "data": {
      "text/plain": [
       "'a²+b²=c²'"
      ]
     },
     "execution_count": 2,
     "metadata": {},
     "output_type": "execute_result"
    }
   ],
   "source": [
    "'a\\u00B2+b\\u00B2=c\\u00B2'"
   ]
  },
  {
   "cell_type": "code",
   "execution_count": 337,
   "id": "f4dc25f1",
   "metadata": {},
   "outputs": [],
   "source": [
    "numb='H\\u00B2O'"
   ]
  },
  {
   "cell_type": "code",
   "execution_count": 339,
   "id": "707eb973",
   "metadata": {},
   "outputs": [
    {
     "data": {
      "text/plain": [
       "'H²O'"
      ]
     },
     "execution_count": 339,
     "metadata": {},
     "output_type": "execute_result"
    }
   ],
   "source": [
    "numb"
   ]
  },
  {
   "cell_type": "code",
   "execution_count": 341,
   "id": "f8fcbeb1",
   "metadata": {},
   "outputs": [
    {
     "data": {
      "text/plain": [
       "False"
      ]
     },
     "execution_count": 341,
     "metadata": {},
     "output_type": "execute_result"
    }
   ],
   "source": [
    "numb.isdigit()"
   ]
  },
  {
   "cell_type": "code",
   "execution_count": 342,
   "id": "402cc53b",
   "metadata": {},
   "outputs": [],
   "source": [
    "numb='E=MC\\u00B2'"
   ]
  },
  {
   "cell_type": "code",
   "execution_count": 343,
   "id": "c135f208",
   "metadata": {},
   "outputs": [
    {
     "data": {
      "text/plain": [
       "'E=MC²'"
      ]
     },
     "execution_count": 343,
     "metadata": {},
     "output_type": "execute_result"
    }
   ],
   "source": [
    "numb"
   ]
  },
  {
   "cell_type": "code",
   "execution_count": 345,
   "id": "b34e881a",
   "metadata": {},
   "outputs": [
    {
     "name": "stdout",
     "output_type": "stream",
     "text": [
      "E=MC²\n"
     ]
    }
   ],
   "source": [
    "print(numb)"
   ]
  },
  {
   "cell_type": "code",
   "execution_count": 346,
   "id": "7591c86f",
   "metadata": {},
   "outputs": [
    {
     "data": {
      "text/plain": [
       "False"
      ]
     },
     "execution_count": 346,
     "metadata": {},
     "output_type": "execute_result"
    }
   ],
   "source": [
    "numb.isdigit()"
   ]
  },
  {
   "cell_type": "code",
   "execution_count": 6,
   "id": "45e9b663",
   "metadata": {},
   "outputs": [],
   "source": [
    "numb='E=MC\\u00B3'"
   ]
  },
  {
   "cell_type": "code",
   "execution_count": 7,
   "id": "e94868c3",
   "metadata": {},
   "outputs": [
    {
     "data": {
      "text/plain": [
       "'E=MC³'"
      ]
     },
     "execution_count": 7,
     "metadata": {},
     "output_type": "execute_result"
    }
   ],
   "source": [
    "numb"
   ]
  },
  {
   "cell_type": "code",
   "execution_count": 8,
   "id": "e230e0bd",
   "metadata": {},
   "outputs": [
    {
     "data": {
      "text/plain": [
       "False"
      ]
     },
     "execution_count": 8,
     "metadata": {},
     "output_type": "execute_result"
    }
   ],
   "source": [
    "numb.isdigit()"
   ]
  },
  {
   "cell_type": "code",
   "execution_count": 347,
   "id": "523c1f62",
   "metadata": {},
   "outputs": [],
   "source": [
    "numb='H\\u2089O'"
   ]
  },
  {
   "cell_type": "code",
   "execution_count": 348,
   "id": "b20dd7d7",
   "metadata": {},
   "outputs": [
    {
     "data": {
      "text/plain": [
       "'H₉O'"
      ]
     },
     "execution_count": 348,
     "metadata": {},
     "output_type": "execute_result"
    }
   ],
   "source": [
    "numb"
   ]
  },
  {
   "cell_type": "code",
   "execution_count": 349,
   "id": "2602ba1f",
   "metadata": {},
   "outputs": [
    {
     "data": {
      "text/plain": [
       "False"
      ]
     },
     "execution_count": 349,
     "metadata": {},
     "output_type": "execute_result"
    }
   ],
   "source": [
    "numb.isdigit()"
   ]
  },
  {
   "cell_type": "code",
   "execution_count": 352,
   "id": "5530b54a",
   "metadata": {},
   "outputs": [
    {
     "data": {
      "text/plain": [
       "'H₂O'"
      ]
     },
     "execution_count": 352,
     "metadata": {},
     "output_type": "execute_result"
    }
   ],
   "source": [
    "numb='H\\u2082O'\n",
    "numb"
   ]
  },
  {
   "cell_type": "code",
   "execution_count": 353,
   "id": "17579fd4",
   "metadata": {},
   "outputs": [
    {
     "data": {
      "text/plain": [
       "False"
      ]
     },
     "execution_count": 353,
     "metadata": {},
     "output_type": "execute_result"
    }
   ],
   "source": [
    "numb.isdigit()"
   ]
  },
  {
   "cell_type": "markdown",
   "id": "9321d689",
   "metadata": {},
   "source": [
    "### 21.isnumeric()"
   ]
  },
  {
   "cell_type": "raw",
   "id": "b4c49cdc",
   "metadata": {},
   "source": [
    "it also gives boolean condition>> true/false\n",
    "there are digits,unicodes,subscripts,superscripts,and fractions are alloweded"
   ]
  },
  {
   "cell_type": "code",
   "execution_count": 20,
   "id": "37651a1a",
   "metadata": {},
   "outputs": [
    {
     "name": "stdout",
     "output_type": "stream",
     "text": [
      "2342\n"
     ]
    }
   ],
   "source": [
    "divya='2342'\n",
    "print(divya)"
   ]
  },
  {
   "cell_type": "code",
   "execution_count": 10,
   "id": "925f8002",
   "metadata": {},
   "outputs": [
    {
     "data": {
      "text/plain": [
       "True"
      ]
     },
     "execution_count": 10,
     "metadata": {},
     "output_type": "execute_result"
    }
   ],
   "source": [
    "divya.isnumeric()"
   ]
  },
  {
   "cell_type": "code",
   "execution_count": 19,
   "id": "bcb8a86b",
   "metadata": {},
   "outputs": [
    {
     "data": {
      "text/plain": [
       "'2342alexzendra'"
      ]
     },
     "execution_count": 19,
     "metadata": {},
     "output_type": "execute_result"
    }
   ],
   "source": [
    "divya='2342alexzendra'\n",
    "divya"
   ]
  },
  {
   "cell_type": "code",
   "execution_count": 12,
   "id": "27222649",
   "metadata": {},
   "outputs": [
    {
     "data": {
      "text/plain": [
       "False"
      ]
     },
     "execution_count": 12,
     "metadata": {},
     "output_type": "execute_result"
    }
   ],
   "source": [
    "divya.isnumeric()"
   ]
  },
  {
   "cell_type": "code",
   "execution_count": 11,
   "id": "6421d658",
   "metadata": {},
   "outputs": [],
   "source": [
    "divya='22.4'"
   ]
  },
  {
   "cell_type": "code",
   "execution_count": 12,
   "id": "a9bdac88",
   "metadata": {},
   "outputs": [
    {
     "data": {
      "text/plain": [
       "False"
      ]
     },
     "execution_count": 12,
     "metadata": {},
     "output_type": "execute_result"
    }
   ],
   "source": [
    "divya.isnumeric()"
   ]
  },
  {
   "cell_type": "code",
   "execution_count": 80,
   "id": "4c2a7735",
   "metadata": {},
   "outputs": [
    {
     "name": "stdout",
     "output_type": "stream",
     "text": [
      "True\n"
     ]
    }
   ],
   "source": [
    "divya='½123'\n",
    "print(divya.isnumeric())"
   ]
  },
  {
   "cell_type": "code",
   "execution_count": 18,
   "id": "cfbbbc78",
   "metadata": {},
   "outputs": [
    {
     "data": {
      "text/plain": [
       "'23 34'"
      ]
     },
     "execution_count": 18,
     "metadata": {},
     "output_type": "execute_result"
    }
   ],
   "source": [
    "divya='23 34'\n",
    "divya"
   ]
  },
  {
   "cell_type": "code",
   "execution_count": 14,
   "id": "b38c8620",
   "metadata": {},
   "outputs": [
    {
     "data": {
      "text/plain": [
       "False"
      ]
     },
     "execution_count": 14,
     "metadata": {},
     "output_type": "execute_result"
    }
   ],
   "source": [
    "divya.isnumeric()"
   ]
  },
  {
   "cell_type": "code",
   "execution_count": 70,
   "id": "e3974394",
   "metadata": {},
   "outputs": [],
   "source": [
    "divya=1/2"
   ]
  },
  {
   "cell_type": "code",
   "execution_count": 71,
   "id": "abe96374",
   "metadata": {},
   "outputs": [
    {
     "name": "stdout",
     "output_type": "stream",
     "text": [
      "0.5\n"
     ]
    }
   ],
   "source": [
    "print(divya)"
   ]
  },
  {
   "cell_type": "code",
   "execution_count": 72,
   "id": "2e3e1a45",
   "metadata": {},
   "outputs": [
    {
     "ename": "AttributeError",
     "evalue": "'float' object has no attribute 'isnumeric'",
     "output_type": "error",
     "traceback": [
      "\u001b[1;31m---------------------------------------------------------------------------\u001b[0m",
      "\u001b[1;31mAttributeError\u001b[0m                            Traceback (most recent call last)",
      "Input \u001b[1;32mIn [72]\u001b[0m, in \u001b[0;36m<cell line: 1>\u001b[1;34m()\u001b[0m\n\u001b[1;32m----> 1\u001b[0m \u001b[43mdivya\u001b[49m\u001b[38;5;241;43m.\u001b[39;49m\u001b[43misnumeric\u001b[49m()\n",
      "\u001b[1;31mAttributeError\u001b[0m: 'float' object has no attribute 'isnumeric'"
     ]
    }
   ],
   "source": [
    "divya.isnumeric()"
   ]
  },
  {
   "cell_type": "code",
   "execution_count": 73,
   "id": "9f92d39e",
   "metadata": {},
   "outputs": [],
   "source": [
    "divya='1/2'"
   ]
  },
  {
   "cell_type": "code",
   "execution_count": 74,
   "id": "20af8521",
   "metadata": {},
   "outputs": [
    {
     "data": {
      "text/plain": [
       "'1/2'"
      ]
     },
     "execution_count": 74,
     "metadata": {},
     "output_type": "execute_result"
    }
   ],
   "source": [
    "divya"
   ]
  },
  {
   "cell_type": "code",
   "execution_count": 75,
   "id": "7118e334",
   "metadata": {},
   "outputs": [
    {
     "data": {
      "text/plain": [
       "False"
      ]
     },
     "execution_count": 75,
     "metadata": {},
     "output_type": "execute_result"
    }
   ],
   "source": [
    "divya.isnumeric()"
   ]
  },
  {
   "cell_type": "code",
   "execution_count": 21,
   "id": "6311d6d1",
   "metadata": {},
   "outputs": [
    {
     "name": "stdout",
     "output_type": "stream",
     "text": [
      "4\n"
     ]
    }
   ],
   "source": [
    "divya='\\u0034'\n",
    "print(divya)"
   ]
  },
  {
   "cell_type": "code",
   "execution_count": 16,
   "id": "2510abd7",
   "metadata": {},
   "outputs": [
    {
     "data": {
      "text/plain": [
       "'4'"
      ]
     },
     "execution_count": 16,
     "metadata": {},
     "output_type": "execute_result"
    }
   ],
   "source": [
    "divya"
   ]
  },
  {
   "cell_type": "code",
   "execution_count": 17,
   "id": "0b556502",
   "metadata": {},
   "outputs": [
    {
     "data": {
      "text/plain": [
       "True"
      ]
     },
     "execution_count": 17,
     "metadata": {},
     "output_type": "execute_result"
    }
   ],
   "source": [
    "divya.isnumeric()"
   ]
  },
  {
   "cell_type": "code",
   "execution_count": 27,
   "id": "6fbc1691",
   "metadata": {},
   "outputs": [
    {
     "data": {
      "text/plain": [
       "False"
      ]
     },
     "execution_count": 27,
     "metadata": {},
     "output_type": "execute_result"
    }
   ],
   "source": [
    "divya.isnumeric()"
   ]
  },
  {
   "cell_type": "code",
   "execution_count": 31,
   "id": "2866697f",
   "metadata": {},
   "outputs": [],
   "source": [
    "ram='\\u00B3'"
   ]
  },
  {
   "cell_type": "code",
   "execution_count": 32,
   "id": "d6e116f8",
   "metadata": {},
   "outputs": [
    {
     "data": {
      "text/plain": [
       "'³'"
      ]
     },
     "execution_count": 32,
     "metadata": {},
     "output_type": "execute_result"
    }
   ],
   "source": [
    "ram"
   ]
  },
  {
   "cell_type": "code",
   "execution_count": 34,
   "id": "03c75fd3",
   "metadata": {},
   "outputs": [
    {
     "data": {
      "text/plain": [
       "True"
      ]
     },
     "execution_count": 34,
     "metadata": {},
     "output_type": "execute_result"
    }
   ],
   "source": [
    "ram.isnumeric()"
   ]
  },
  {
   "cell_type": "code",
   "execution_count": 35,
   "id": "e242d181",
   "metadata": {},
   "outputs": [],
   "source": [
    "ram='\\u2082'"
   ]
  },
  {
   "cell_type": "code",
   "execution_count": 36,
   "id": "8d652e72",
   "metadata": {},
   "outputs": [
    {
     "name": "stdout",
     "output_type": "stream",
     "text": [
      "₂\n"
     ]
    }
   ],
   "source": [
    "print(ram)"
   ]
  },
  {
   "cell_type": "code",
   "execution_count": 37,
   "id": "69f5bb5e",
   "metadata": {},
   "outputs": [
    {
     "name": "stdout",
     "output_type": "stream",
     "text": [
      "True\n"
     ]
    }
   ],
   "source": [
    "print(ram.isnumeric())"
   ]
  },
  {
   "cell_type": "code",
   "execution_count": 13,
   "id": "eb3043be",
   "metadata": {},
   "outputs": [
    {
     "name": "stdout",
     "output_type": "stream",
     "text": [
      "False\n",
      "True\n",
      "True\n"
     ]
    }
   ],
   "source": [
    "ram='\\u00B3'\n",
    "print(ram.isdecimal())\n",
    "print(ram.isdigit())\n",
    "print(ram.isnumeric())"
   ]
  },
  {
   "cell_type": "markdown",
   "id": "9440066c",
   "metadata": {},
   "source": [
    "### 22.islower()"
   ]
  },
  {
   "cell_type": "raw",
   "id": "afcf216a",
   "metadata": {},
   "source": [
    "it also gives boolean value if string is in lowercase\n",
    "it allows space,special characteristics,numbers along with alphabates\n",
    "without alphabates are not alllowed it will go to error"
   ]
  },
  {
   "cell_type": "code",
   "execution_count": 59,
   "id": "8a75caaa",
   "metadata": {},
   "outputs": [
    {
     "name": "stdout",
     "output_type": "stream",
     "text": [
      "python\n"
     ]
    }
   ],
   "source": [
    "t1='python'\n",
    "print(t1)"
   ]
  },
  {
   "cell_type": "code",
   "execution_count": 43,
   "id": "b45e23eb",
   "metadata": {},
   "outputs": [
    {
     "data": {
      "text/plain": [
       "True"
      ]
     },
     "execution_count": 43,
     "metadata": {},
     "output_type": "execute_result"
    }
   ],
   "source": [
    "t1.islower()"
   ]
  },
  {
   "cell_type": "code",
   "execution_count": 44,
   "id": "63ec7c15",
   "metadata": {},
   "outputs": [
    {
     "name": "stdout",
     "output_type": "stream",
     "text": [
      "Python\n"
     ]
    }
   ],
   "source": [
    "t1='Python'\n",
    "print(t1)"
   ]
  },
  {
   "cell_type": "code",
   "execution_count": 45,
   "id": "afaf5edd",
   "metadata": {},
   "outputs": [
    {
     "data": {
      "text/plain": [
       "False"
      ]
     },
     "execution_count": 45,
     "metadata": {},
     "output_type": "execute_result"
    }
   ],
   "source": [
    "t1.islower()"
   ]
  },
  {
   "cell_type": "code",
   "execution_count": 46,
   "id": "3ee2833f",
   "metadata": {},
   "outputs": [
    {
     "name": "stdout",
     "output_type": "stream",
     "text": [
      "python13343\n"
     ]
    }
   ],
   "source": [
    "t1='python13343'\n",
    "print(t1)"
   ]
  },
  {
   "cell_type": "code",
   "execution_count": 47,
   "id": "88401c18",
   "metadata": {},
   "outputs": [
    {
     "data": {
      "text/plain": [
       "True"
      ]
     },
     "execution_count": 47,
     "metadata": {},
     "output_type": "execute_result"
    }
   ],
   "source": [
    "t1.islower()"
   ]
  },
  {
   "cell_type": "code",
   "execution_count": 48,
   "id": "2f5ce7a4",
   "metadata": {},
   "outputs": [
    {
     "name": "stdout",
     "output_type": "stream",
     "text": [
      "python123#$@\n"
     ]
    }
   ],
   "source": [
    "t1='python123#$@'\n",
    "print(t1)"
   ]
  },
  {
   "cell_type": "code",
   "execution_count": 49,
   "id": "993d234a",
   "metadata": {},
   "outputs": [
    {
     "data": {
      "text/plain": [
       "True"
      ]
     },
     "execution_count": 49,
     "metadata": {},
     "output_type": "execute_result"
    }
   ],
   "source": [
    "t1.islower()"
   ]
  },
  {
   "cell_type": "code",
   "execution_count": 50,
   "id": "31e933f8",
   "metadata": {},
   "outputs": [
    {
     "name": "stdout",
     "output_type": "stream",
     "text": [
      "py thon 123 #$@\n"
     ]
    }
   ],
   "source": [
    "t1='py thon 123 #$@'\n",
    "print(t1)"
   ]
  },
  {
   "cell_type": "code",
   "execution_count": 51,
   "id": "a8f3a227",
   "metadata": {},
   "outputs": [
    {
     "data": {
      "text/plain": [
       "True"
      ]
     },
     "execution_count": 51,
     "metadata": {},
     "output_type": "execute_result"
    }
   ],
   "source": [
    "t1.islower()"
   ]
  },
  {
   "cell_type": "code",
   "execution_count": 52,
   "id": "c718eba3",
   "metadata": {},
   "outputs": [
    {
     "name": "stdout",
     "output_type": "stream",
     "text": [
      "PY thon 123 #$@\n"
     ]
    }
   ],
   "source": [
    "t1='PY thon 123 #$@'\n",
    "print(t1)"
   ]
  },
  {
   "cell_type": "code",
   "execution_count": 53,
   "id": "33fad26d",
   "metadata": {},
   "outputs": [
    {
     "data": {
      "text/plain": [
       "False"
      ]
     },
     "execution_count": 53,
     "metadata": {},
     "output_type": "execute_result"
    }
   ],
   "source": [
    "t1.islower()"
   ]
  },
  {
   "cell_type": "code",
   "execution_count": 54,
   "id": "bd2f8fd7",
   "metadata": {},
   "outputs": [
    {
     "name": "stdout",
     "output_type": "stream",
     "text": [
      "123 #$@\n"
     ]
    }
   ],
   "source": [
    "t1='123 #$@'\n",
    "print(t1)"
   ]
  },
  {
   "cell_type": "code",
   "execution_count": 55,
   "id": "843ace13",
   "metadata": {},
   "outputs": [
    {
     "data": {
      "text/plain": [
       "False"
      ]
     },
     "execution_count": 55,
     "metadata": {},
     "output_type": "execute_result"
    }
   ],
   "source": [
    "t1.islower()"
   ]
  },
  {
   "cell_type": "code",
   "execution_count": 60,
   "id": "e80444a8",
   "metadata": {},
   "outputs": [
    {
     "name": "stdout",
     "output_type": "stream",
     "text": [
      "123\n"
     ]
    }
   ],
   "source": [
    "t1='123'\n",
    "print(t1)"
   ]
  },
  {
   "cell_type": "code",
   "execution_count": 62,
   "id": "a14c5c61",
   "metadata": {},
   "outputs": [
    {
     "data": {
      "text/plain": [
       "False"
      ]
     },
     "execution_count": 62,
     "metadata": {},
     "output_type": "execute_result"
    }
   ],
   "source": [
    "t1.islower()"
   ]
  },
  {
   "cell_type": "code",
   "execution_count": 63,
   "id": "03bf1b3b",
   "metadata": {},
   "outputs": [
    {
     "name": "stdout",
     "output_type": "stream",
     "text": [
      " \n"
     ]
    }
   ],
   "source": [
    "t1=' '\n",
    "print(t1)"
   ]
  },
  {
   "cell_type": "code",
   "execution_count": 64,
   "id": "8f62972d",
   "metadata": {},
   "outputs": [
    {
     "data": {
      "text/plain": [
       "False"
      ]
     },
     "execution_count": 64,
     "metadata": {},
     "output_type": "execute_result"
    }
   ],
   "source": [
    "t1.islower()"
   ]
  },
  {
   "cell_type": "markdown",
   "id": "dece4bdc",
   "metadata": {},
   "source": [
    "### 23.isuppper()"
   ]
  },
  {
   "cell_type": "raw",
   "id": "b0c78ebc",
   "metadata": {},
   "source": [
    "it also gives boolean value if string is in uppercase\n",
    "it allows space,special characteristics,numbers along with alphabates\n",
    "without alphabates are not alllowed it will goes to error "
   ]
  },
  {
   "cell_type": "code",
   "execution_count": 82,
   "id": "a4a56e0b",
   "metadata": {},
   "outputs": [],
   "source": [
    "t2='MUJE KYA PATA BHAI KAHA GAYE'"
   ]
  },
  {
   "cell_type": "code",
   "execution_count": 85,
   "id": "bd53577a",
   "metadata": {},
   "outputs": [
    {
     "data": {
      "text/plain": [
       "'MUJE KYA PATA BHAI KAHA GAYE'"
      ]
     },
     "execution_count": 85,
     "metadata": {},
     "output_type": "execute_result"
    }
   ],
   "source": [
    "t2"
   ]
  },
  {
   "cell_type": "code",
   "execution_count": 86,
   "id": "772a8ab3",
   "metadata": {},
   "outputs": [
    {
     "data": {
      "text/plain": [
       "True"
      ]
     },
     "execution_count": 86,
     "metadata": {},
     "output_type": "execute_result"
    }
   ],
   "source": [
    "t2.isupper()"
   ]
  },
  {
   "cell_type": "code",
   "execution_count": 87,
   "id": "6b4a3fd5",
   "metadata": {},
   "outputs": [],
   "source": [
    "t3=t2.lower()"
   ]
  },
  {
   "cell_type": "code",
   "execution_count": 88,
   "id": "4df02cb6",
   "metadata": {},
   "outputs": [
    {
     "data": {
      "text/plain": [
       "'muje kya pata bhai kaha gaye'"
      ]
     },
     "execution_count": 88,
     "metadata": {},
     "output_type": "execute_result"
    }
   ],
   "source": [
    "t3"
   ]
  },
  {
   "cell_type": "code",
   "execution_count": 89,
   "id": "96e74468",
   "metadata": {},
   "outputs": [
    {
     "data": {
      "text/plain": [
       "False"
      ]
     },
     "execution_count": 89,
     "metadata": {},
     "output_type": "execute_result"
    }
   ],
   "source": [
    "t3.isupper()"
   ]
  },
  {
   "cell_type": "code",
   "execution_count": 90,
   "id": "37498128",
   "metadata": {},
   "outputs": [],
   "source": [
    "t2='MUJE KYA PATA BHAI KAHA GAYE3562'"
   ]
  },
  {
   "cell_type": "code",
   "execution_count": 91,
   "id": "3e5b49f8",
   "metadata": {},
   "outputs": [
    {
     "data": {
      "text/plain": [
       "'MUJE KYA PATA BHAI KAHA GAYE3562'"
      ]
     },
     "execution_count": 91,
     "metadata": {},
     "output_type": "execute_result"
    }
   ],
   "source": [
    "t2"
   ]
  },
  {
   "cell_type": "code",
   "execution_count": 92,
   "id": "8c1b10de",
   "metadata": {},
   "outputs": [
    {
     "data": {
      "text/plain": [
       "True"
      ]
     },
     "execution_count": 92,
     "metadata": {},
     "output_type": "execute_result"
    }
   ],
   "source": [
    "t2.isupper()"
   ]
  },
  {
   "cell_type": "code",
   "execution_count": 94,
   "id": "8ee50f8d",
   "metadata": {},
   "outputs": [
    {
     "data": {
      "text/plain": [
       "'MUJE KYA PATA BHAI KAHA GAYE3562 $$ ##'"
      ]
     },
     "execution_count": 94,
     "metadata": {},
     "output_type": "execute_result"
    }
   ],
   "source": [
    "t2='MUJE KYA PATA BHAI KAHA GAYE3562 $$ ##'\n",
    "t2"
   ]
  },
  {
   "cell_type": "code",
   "execution_count": 95,
   "id": "96902c95",
   "metadata": {},
   "outputs": [
    {
     "data": {
      "text/plain": [
       "True"
      ]
     },
     "execution_count": 95,
     "metadata": {},
     "output_type": "execute_result"
    }
   ],
   "source": [
    "t2.isupper()"
   ]
  },
  {
   "cell_type": "code",
   "execution_count": 96,
   "id": "69bff9b6",
   "metadata": {},
   "outputs": [],
   "source": [
    "t2='MUJE KYa PATA BHAI KAHA GAYE3562 423'"
   ]
  },
  {
   "cell_type": "code",
   "execution_count": 97,
   "id": "91ca5f52",
   "metadata": {},
   "outputs": [
    {
     "data": {
      "text/plain": [
       "False"
      ]
     },
     "execution_count": 97,
     "metadata": {},
     "output_type": "execute_result"
    }
   ],
   "source": [
    "t2.isupper()"
   ]
  },
  {
   "cell_type": "code",
   "execution_count": 98,
   "id": "2176d666",
   "metadata": {},
   "outputs": [],
   "source": [
    "t2='muJE KYA PATA BHAI KAHA GAYE3562'"
   ]
  },
  {
   "cell_type": "code",
   "execution_count": 99,
   "id": "47d72ebd",
   "metadata": {},
   "outputs": [
    {
     "data": {
      "text/plain": [
       "False"
      ]
     },
     "execution_count": 99,
     "metadata": {},
     "output_type": "execute_result"
    }
   ],
   "source": [
    "t2.isupper()"
   ]
  },
  {
   "cell_type": "code",
   "execution_count": 100,
   "id": "ea8e745c",
   "metadata": {},
   "outputs": [],
   "source": [
    "t2='MUJE KYA          PATA BHAI KAHA GAYE3562'"
   ]
  },
  {
   "cell_type": "code",
   "execution_count": 102,
   "id": "14172654",
   "metadata": {},
   "outputs": [
    {
     "data": {
      "text/plain": [
       "True"
      ]
     },
     "execution_count": 102,
     "metadata": {},
     "output_type": "execute_result"
    }
   ],
   "source": [
    "t2.isupper()"
   ]
  },
  {
   "cell_type": "code",
   "execution_count": 103,
   "id": "8361e37c",
   "metadata": {},
   "outputs": [],
   "source": [
    "t2=''"
   ]
  },
  {
   "cell_type": "code",
   "execution_count": 104,
   "id": "01b74311",
   "metadata": {},
   "outputs": [
    {
     "data": {
      "text/plain": [
       "False"
      ]
     },
     "execution_count": 104,
     "metadata": {},
     "output_type": "execute_result"
    }
   ],
   "source": [
    "t2.isupper()"
   ]
  },
  {
   "cell_type": "markdown",
   "id": "fcb332a3",
   "metadata": {},
   "source": [
    "### 24.istitle()"
   ]
  },
  {
   "cell_type": "raw",
   "id": "4485d687",
   "metadata": {},
   "source": [
    "true>>only first character of every word in string is capital"
   ]
  },
  {
   "cell_type": "code",
   "execution_count": 105,
   "id": "6fd8f763",
   "metadata": {},
   "outputs": [],
   "source": [
    "t2='MUJE KYA PATA BHAI KAHA GAYE'"
   ]
  },
  {
   "cell_type": "code",
   "execution_count": 121,
   "id": "c710d241",
   "metadata": {},
   "outputs": [
    {
     "data": {
      "text/plain": [
       "False"
      ]
     },
     "execution_count": 121,
     "metadata": {},
     "output_type": "execute_result"
    }
   ],
   "source": [
    "t2.istitle()"
   ]
  },
  {
   "cell_type": "code",
   "execution_count": 108,
   "id": "99490c28",
   "metadata": {},
   "outputs": [],
   "source": [
    "t1=t2.lower()"
   ]
  },
  {
   "cell_type": "code",
   "execution_count": 109,
   "id": "96b36be4",
   "metadata": {},
   "outputs": [
    {
     "data": {
      "text/plain": [
       "'muje kya pata bhai kaha gaye'"
      ]
     },
     "execution_count": 109,
     "metadata": {},
     "output_type": "execute_result"
    }
   ],
   "source": [
    "t1"
   ]
  },
  {
   "cell_type": "code",
   "execution_count": 110,
   "id": "1164b527",
   "metadata": {},
   "outputs": [
    {
     "data": {
      "text/plain": [
       "False"
      ]
     },
     "execution_count": 110,
     "metadata": {},
     "output_type": "execute_result"
    }
   ],
   "source": [
    "t1.istitle()"
   ]
  },
  {
   "cell_type": "code",
   "execution_count": 111,
   "id": "8e74ca41",
   "metadata": {},
   "outputs": [],
   "source": [
    "t2=t1.title()"
   ]
  },
  {
   "cell_type": "code",
   "execution_count": 112,
   "id": "84b0e9ab",
   "metadata": {},
   "outputs": [
    {
     "data": {
      "text/plain": [
       "'Muje Kya Pata Bhai Kaha Gaye'"
      ]
     },
     "execution_count": 112,
     "metadata": {},
     "output_type": "execute_result"
    }
   ],
   "source": [
    "t2"
   ]
  },
  {
   "cell_type": "code",
   "execution_count": 113,
   "id": "e91698e5",
   "metadata": {},
   "outputs": [
    {
     "data": {
      "text/plain": [
       "True"
      ]
     },
     "execution_count": 113,
     "metadata": {},
     "output_type": "execute_result"
    }
   ],
   "source": [
    "t2.istitle()"
   ]
  },
  {
   "cell_type": "code",
   "execution_count": 114,
   "id": "ab336299",
   "metadata": {},
   "outputs": [
    {
     "name": "stdout",
     "output_type": "stream",
     "text": [
      "muJE KYA PATA BHAI KAHA GAYE3562\n"
     ]
    }
   ],
   "source": [
    "t2='muJE KYA PATA BHAI KAHA GAYE3562'\n",
    "print(t2)"
   ]
  },
  {
   "cell_type": "code",
   "execution_count": 116,
   "id": "218331af",
   "metadata": {},
   "outputs": [
    {
     "data": {
      "text/plain": [
       "False"
      ]
     },
     "execution_count": 116,
     "metadata": {},
     "output_type": "execute_result"
    }
   ],
   "source": [
    "t2.istitle()"
   ]
  },
  {
   "cell_type": "code",
   "execution_count": 119,
   "id": "848bfd66",
   "metadata": {},
   "outputs": [
    {
     "data": {
      "text/plain": [
       "'MUJE KYA PATA BHAI KAHA GAYE3562 423'"
      ]
     },
     "execution_count": 119,
     "metadata": {},
     "output_type": "execute_result"
    }
   ],
   "source": [
    "t2='MUJE KYA PATA BHAI KAHA GAYE3562 423'\n",
    "t2"
   ]
  },
  {
   "cell_type": "code",
   "execution_count": 120,
   "id": "2f114961",
   "metadata": {},
   "outputs": [
    {
     "data": {
      "text/plain": [
       "False"
      ]
     },
     "execution_count": 120,
     "metadata": {},
     "output_type": "execute_result"
    }
   ],
   "source": [
    "t2.istitle()"
   ]
  },
  {
   "cell_type": "code",
   "execution_count": 122,
   "id": "7317964f",
   "metadata": {},
   "outputs": [],
   "source": [
    "c1='Muje Kya Pata Bhai Kaha Gaye'"
   ]
  },
  {
   "cell_type": "code",
   "execution_count": 124,
   "id": "82a22d5c",
   "metadata": {},
   "outputs": [
    {
     "data": {
      "text/plain": [
       "True"
      ]
     },
     "execution_count": 124,
     "metadata": {},
     "output_type": "execute_result"
    }
   ],
   "source": [
    "c1.istitle()"
   ]
  },
  {
   "cell_type": "code",
   "execution_count": 125,
   "id": "c46fdc82",
   "metadata": {},
   "outputs": [],
   "source": [
    "c1='Muje Kya Pata Bhai Kaha Gaye   987$#$'"
   ]
  },
  {
   "cell_type": "code",
   "execution_count": 126,
   "id": "87c473a4",
   "metadata": {},
   "outputs": [
    {
     "data": {
      "text/plain": [
       "True"
      ]
     },
     "execution_count": 126,
     "metadata": {},
     "output_type": "execute_result"
    }
   ],
   "source": [
    "c1.istitle()"
   ]
  },
  {
   "cell_type": "code",
   "execution_count": 127,
   "id": "0bb44844",
   "metadata": {},
   "outputs": [],
   "source": [
    "c1='%$'"
   ]
  },
  {
   "cell_type": "code",
   "execution_count": 128,
   "id": "1e408749",
   "metadata": {},
   "outputs": [
    {
     "ename": "AttributeError",
     "evalue": "'str' object has no attribute 'istittle'",
     "output_type": "error",
     "traceback": [
      "\u001b[1;31m---------------------------------------------------------------------------\u001b[0m",
      "\u001b[1;31mAttributeError\u001b[0m                            Traceback (most recent call last)",
      "Input \u001b[1;32mIn [128]\u001b[0m, in \u001b[0;36m<cell line: 1>\u001b[1;34m()\u001b[0m\n\u001b[1;32m----> 1\u001b[0m \u001b[43mc1\u001b[49m\u001b[38;5;241;43m.\u001b[39;49m\u001b[43mistittle\u001b[49m()\n",
      "\u001b[1;31mAttributeError\u001b[0m: 'str' object has no attribute 'istittle'"
     ]
    }
   ],
   "source": [
    "c1.istittle()"
   ]
  },
  {
   "cell_type": "code",
   "execution_count": 129,
   "id": "7a532fae",
   "metadata": {},
   "outputs": [
    {
     "data": {
      "text/plain": [
       "False"
      ]
     },
     "execution_count": 129,
     "metadata": {},
     "output_type": "execute_result"
    }
   ],
   "source": [
    "c1.istitle()"
   ]
  },
  {
   "cell_type": "markdown",
   "id": "b66ba579",
   "metadata": {},
   "source": [
    "### 25.isspace()"
   ]
  },
  {
   "cell_type": "raw",
   "id": "70cf8a61",
   "metadata": {},
   "source": [
    "true if string consist space only space without number and string."
   ]
  },
  {
   "cell_type": "code",
   "execution_count": 130,
   "id": "6be81297",
   "metadata": {},
   "outputs": [
    {
     "name": "stdout",
     "output_type": "stream",
     "text": [
      "Muje Kya Pata Bhai Kaha Gaye   987$#$\n"
     ]
    }
   ],
   "source": [
    "c1='Muje Kya Pata Bhai Kaha Gaye   987$#$'\n",
    "print(c1)"
   ]
  },
  {
   "cell_type": "code",
   "execution_count": 131,
   "id": "39d0519e",
   "metadata": {},
   "outputs": [
    {
     "data": {
      "text/plain": [
       "False"
      ]
     },
     "execution_count": 131,
     "metadata": {},
     "output_type": "execute_result"
    }
   ],
   "source": [
    "c1.isspace()"
   ]
  },
  {
   "cell_type": "code",
   "execution_count": 132,
   "id": "c6ec605e",
   "metadata": {},
   "outputs": [],
   "source": [
    "c1=''"
   ]
  },
  {
   "cell_type": "code",
   "execution_count": 133,
   "id": "401dad47",
   "metadata": {},
   "outputs": [
    {
     "data": {
      "text/plain": [
       "False"
      ]
     },
     "execution_count": 133,
     "metadata": {},
     "output_type": "execute_result"
    }
   ],
   "source": [
    "c1.isspace()"
   ]
  },
  {
   "cell_type": "code",
   "execution_count": 134,
   "id": "cc56b2c4",
   "metadata": {},
   "outputs": [],
   "source": [
    "c1=' '"
   ]
  },
  {
   "cell_type": "code",
   "execution_count": 135,
   "id": "55fc1c10",
   "metadata": {},
   "outputs": [
    {
     "data": {
      "text/plain": [
       "True"
      ]
     },
     "execution_count": 135,
     "metadata": {},
     "output_type": "execute_result"
    }
   ],
   "source": [
    "c1.isspace()"
   ]
  },
  {
   "cell_type": "code",
   "execution_count": 136,
   "id": "f9f6357b",
   "metadata": {},
   "outputs": [],
   "source": [
    "c1='   abc'"
   ]
  },
  {
   "cell_type": "code",
   "execution_count": 137,
   "id": "642c2546",
   "metadata": {},
   "outputs": [
    {
     "data": {
      "text/plain": [
       "False"
      ]
     },
     "execution_count": 137,
     "metadata": {},
     "output_type": "execute_result"
    }
   ],
   "source": [
    "c1.isspace()"
   ]
  },
  {
   "cell_type": "code",
   "execution_count": 138,
   "id": "f8c1e4a3",
   "metadata": {},
   "outputs": [],
   "source": [
    "c1='                                  '"
   ]
  },
  {
   "cell_type": "code",
   "execution_count": 139,
   "id": "defb03cf",
   "metadata": {},
   "outputs": [
    {
     "data": {
      "text/plain": [
       "True"
      ]
     },
     "execution_count": 139,
     "metadata": {},
     "output_type": "execute_result"
    }
   ],
   "source": [
    "c1.isspace()"
   ]
  },
  {
   "cell_type": "markdown",
   "id": "e0dbb18e",
   "metadata": {},
   "source": [
    "### 26.zfill()"
   ]
  },
  {
   "cell_type": "raw",
   "id": "8b746efc",
   "metadata": {},
   "source": [
    "it fills zeros\n",
    "means if we have 6 index string and put zfill commmand and 10 we put in command,\n",
    "it means only 4 zero it will add. bcz 10 we gave is means we want total string length 10"
   ]
  },
  {
   "cell_type": "code",
   "execution_count": 14,
   "id": "c7fafb5c",
   "metadata": {},
   "outputs": [
    {
     "data": {
      "text/plain": [
       "'a'"
      ]
     },
     "execution_count": 14,
     "metadata": {},
     "output_type": "execute_result"
    }
   ],
   "source": [
    "str1=\"a\"\n",
    "str1"
   ]
  },
  {
   "cell_type": "code",
   "execution_count": 141,
   "id": "5b4c3bc6",
   "metadata": {},
   "outputs": [
    {
     "ename": "TypeError",
     "evalue": "str.zfill() takes exactly one argument (0 given)",
     "output_type": "error",
     "traceback": [
      "\u001b[1;31m---------------------------------------------------------------------------\u001b[0m",
      "\u001b[1;31mTypeError\u001b[0m                                 Traceback (most recent call last)",
      "Input \u001b[1;32mIn [141]\u001b[0m, in \u001b[0;36m<cell line: 1>\u001b[1;34m()\u001b[0m\n\u001b[1;32m----> 1\u001b[0m \u001b[43mstr1\u001b[49m\u001b[38;5;241;43m.\u001b[39;49m\u001b[43mzfill\u001b[49m\u001b[43m(\u001b[49m\u001b[43m)\u001b[49m\n",
      "\u001b[1;31mTypeError\u001b[0m: str.zfill() takes exactly one argument (0 given)"
     ]
    }
   ],
   "source": [
    "str1.zfill()"
   ]
  },
  {
   "cell_type": "code",
   "execution_count": 142,
   "id": "d0ca57b7",
   "metadata": {},
   "outputs": [
    {
     "data": {
      "text/plain": [
       "'000000000a'"
      ]
     },
     "execution_count": 142,
     "metadata": {},
     "output_type": "execute_result"
    }
   ],
   "source": [
    "str1.zfill(10)"
   ]
  },
  {
   "cell_type": "code",
   "execution_count": 15,
   "id": "c5c0a6cf",
   "metadata": {},
   "outputs": [
    {
     "data": {
      "text/plain": [
       "1"
      ]
     },
     "execution_count": 15,
     "metadata": {},
     "output_type": "execute_result"
    }
   ],
   "source": [
    "len(str1)"
   ]
  },
  {
   "cell_type": "code",
   "execution_count": 16,
   "id": "bc998c02",
   "metadata": {},
   "outputs": [
    {
     "data": {
      "text/plain": [
       "10"
      ]
     },
     "execution_count": 16,
     "metadata": {},
     "output_type": "execute_result"
    }
   ],
   "source": [
    "len(str1.zfill(10))"
   ]
  },
  {
   "cell_type": "code",
   "execution_count": 143,
   "id": "8317456a",
   "metadata": {},
   "outputs": [
    {
     "data": {
      "text/plain": [
       "'baby boy'"
      ]
     },
     "execution_count": 143,
     "metadata": {},
     "output_type": "execute_result"
    }
   ],
   "source": [
    "r2='baby boy'\n",
    "r2"
   ]
  },
  {
   "cell_type": "code",
   "execution_count": 144,
   "id": "213c22c3",
   "metadata": {},
   "outputs": [
    {
     "data": {
      "text/plain": [
       "'00baby boy'"
      ]
     },
     "execution_count": 144,
     "metadata": {},
     "output_type": "execute_result"
    }
   ],
   "source": [
    "r2.zfill(10)"
   ]
  },
  {
   "cell_type": "code",
   "execution_count": 145,
   "id": "398622b6",
   "metadata": {},
   "outputs": [
    {
     "data": {
      "text/plain": [
       "'babyboy'"
      ]
     },
     "execution_count": 145,
     "metadata": {},
     "output_type": "execute_result"
    }
   ],
   "source": [
    "r2='babyboy'\n",
    "r2"
   ]
  },
  {
   "cell_type": "code",
   "execution_count": 146,
   "id": "0d2a18ca",
   "metadata": {},
   "outputs": [
    {
     "data": {
      "text/plain": [
       "'000babyboy'"
      ]
     },
     "execution_count": 146,
     "metadata": {},
     "output_type": "execute_result"
    }
   ],
   "source": [
    "r2.zfill(10)"
   ]
  },
  {
   "cell_type": "code",
   "execution_count": 147,
   "id": "6782f753",
   "metadata": {},
   "outputs": [
    {
     "data": {
      "text/plain": [
       "'babyboy'"
      ]
     },
     "execution_count": 147,
     "metadata": {},
     "output_type": "execute_result"
    }
   ],
   "source": [
    "r2='babyboy'\n",
    "r2"
   ]
  },
  {
   "cell_type": "code",
   "execution_count": 148,
   "id": "f35fd3fe",
   "metadata": {},
   "outputs": [
    {
     "ename": "MemoryError",
     "evalue": "",
     "output_type": "error",
     "traceback": [
      "\u001b[1;31m---------------------------------------------------------------------------\u001b[0m",
      "\u001b[1;31mMemoryError\u001b[0m                               Traceback (most recent call last)",
      "Input \u001b[1;32mIn [148]\u001b[0m, in \u001b[0;36m<cell line: 1>\u001b[1;34m()\u001b[0m\n\u001b[1;32m----> 1\u001b[0m \u001b[43mr2\u001b[49m\u001b[38;5;241;43m.\u001b[39;49m\u001b[43mzfill\u001b[49m\u001b[43m(\u001b[49m\u001b[38;5;241;43m10000000000000\u001b[39;49m\u001b[43m)\u001b[49m\n",
      "\u001b[1;31mMemoryError\u001b[0m: "
     ]
    }
   ],
   "source": [
    "r2.zfill(10000000000000)"
   ]
  },
  {
   "cell_type": "code",
   "execution_count": 18,
   "id": "bacc02e9",
   "metadata": {},
   "outputs": [
    {
     "data": {
      "text/plain": [
       "'babyboy'"
      ]
     },
     "execution_count": 18,
     "metadata": {},
     "output_type": "execute_result"
    }
   ],
   "source": [
    "r2='babyboy'\n",
    "r2"
   ]
  },
  {
   "cell_type": "code",
   "execution_count": 151,
   "id": "17e14e69",
   "metadata": {},
   "outputs": [
    {
     "data": {
      "text/plain": [
       "'000000000000000000000000000000000000000000000000000000000000000000000000000000000000000000000000000000000000000000000000000000000000000000000000000000000000000000000000000000000000000000000000000000000000000000000000000000000000000000000000000000000000000000000000000000000000000000000000000000000000000000000000000000000000000000000000000000000000000000000000000000000000000000000000000000000000000000000000000000000000000000000000000000000000000000000000000000000000000000000000000000000000000000000000000000000000000000000000000000000000000000000000000000000000000000000000000000000000000000000000000000000000000000000000000000000000000000000000000000000000000000000000000000000000000000000000000000000000000000000000000000000000000000000000000000000000000000000000000000000000000000000000000000000000000000000000000000000000000000000000000000000000000000000000000000000000000000000000000000000000000000000000000000000000000000000000000000000000000000000000000000000000000000000000000000000babyboy'"
      ]
     },
     "execution_count": 151,
     "metadata": {},
     "output_type": "execute_result"
    }
   ],
   "source": [
    "r2.zfill(1000)"
   ]
  },
  {
   "cell_type": "code",
   "execution_count": 19,
   "id": "987468e9",
   "metadata": {},
   "outputs": [
    {
     "data": {
      "text/plain": [
       "'babyboy'"
      ]
     },
     "execution_count": 19,
     "metadata": {},
     "output_type": "execute_result"
    }
   ],
   "source": [
    "r2.zfill(-100)"
   ]
  },
  {
   "cell_type": "code",
   "execution_count": 153,
   "id": "608d6448",
   "metadata": {},
   "outputs": [
    {
     "data": {
      "text/plain": [
       "'babyboy'"
      ]
     },
     "execution_count": 153,
     "metadata": {},
     "output_type": "execute_result"
    }
   ],
   "source": [
    "r2.zfill(0)"
   ]
  },
  {
   "cell_type": "code",
   "execution_count": 154,
   "id": "209fe8f4",
   "metadata": {},
   "outputs": [
    {
     "data": {
      "text/plain": [
       "'babyboy'"
      ]
     },
     "execution_count": 154,
     "metadata": {},
     "output_type": "execute_result"
    }
   ],
   "source": [
    "r2.zfill(1)"
   ]
  },
  {
   "cell_type": "code",
   "execution_count": 155,
   "id": "3926a0e2",
   "metadata": {},
   "outputs": [
    {
     "data": {
      "text/plain": [
       "'000babyboy'"
      ]
     },
     "execution_count": 155,
     "metadata": {},
     "output_type": "execute_result"
    }
   ],
   "source": [
    "r2.zfill(10)"
   ]
  },
  {
   "cell_type": "markdown",
   "id": "5ac95bbc",
   "metadata": {},
   "source": [
    "### 27.center()"
   ]
  },
  {
   "cell_type": "raw",
   "id": "b34b9e1a",
   "metadata": {},
   "source": [
    "it takes the string at center. and in paranthesis we have to give number at that perticular given number we get  the string in center"
   ]
  },
  {
   "cell_type": "code",
   "execution_count": 156,
   "id": "d1345800",
   "metadata": {},
   "outputs": [
    {
     "data": {
      "text/plain": [
       "'a'"
      ]
     },
     "execution_count": 156,
     "metadata": {},
     "output_type": "execute_result"
    }
   ],
   "source": [
    "str1=\"a\"\n",
    "str1"
   ]
  },
  {
   "cell_type": "code",
   "execution_count": 157,
   "id": "6cc8dbff",
   "metadata": {},
   "outputs": [
    {
     "ename": "TypeError",
     "evalue": "center expected at least 1 argument, got 0",
     "output_type": "error",
     "traceback": [
      "\u001b[1;31m---------------------------------------------------------------------------\u001b[0m",
      "\u001b[1;31mTypeError\u001b[0m                                 Traceback (most recent call last)",
      "Input \u001b[1;32mIn [157]\u001b[0m, in \u001b[0;36m<cell line: 1>\u001b[1;34m()\u001b[0m\n\u001b[1;32m----> 1\u001b[0m \u001b[43mstr1\u001b[49m\u001b[38;5;241;43m.\u001b[39;49m\u001b[43mcenter\u001b[49m\u001b[43m(\u001b[49m\u001b[43m)\u001b[49m\n",
      "\u001b[1;31mTypeError\u001b[0m: center expected at least 1 argument, got 0"
     ]
    }
   ],
   "source": [
    "str1.center()"
   ]
  },
  {
   "cell_type": "code",
   "execution_count": 158,
   "id": "416fcf1e",
   "metadata": {},
   "outputs": [
    {
     "data": {
      "text/plain": [
       "' a  '"
      ]
     },
     "execution_count": 158,
     "metadata": {},
     "output_type": "execute_result"
    }
   ],
   "source": [
    "str1.center(4)"
   ]
  },
  {
   "cell_type": "code",
   "execution_count": 159,
   "id": "c814e4ff",
   "metadata": {},
   "outputs": [
    {
     "data": {
      "text/plain": [
       "'  a  '"
      ]
     },
     "execution_count": 159,
     "metadata": {},
     "output_type": "execute_result"
    }
   ],
   "source": [
    "str1.center(5)"
   ]
  },
  {
   "cell_type": "code",
   "execution_count": 160,
   "id": "0be50521",
   "metadata": {},
   "outputs": [
    {
     "data": {
      "text/plain": [
       "'  a   '"
      ]
     },
     "execution_count": 160,
     "metadata": {},
     "output_type": "execute_result"
    }
   ],
   "source": [
    "str1.center(6)"
   ]
  },
  {
   "cell_type": "code",
   "execution_count": 161,
   "id": "fa3c2a8a",
   "metadata": {},
   "outputs": [
    {
     "data": {
      "text/plain": [
       "'   a   '"
      ]
     },
     "execution_count": 161,
     "metadata": {},
     "output_type": "execute_result"
    }
   ],
   "source": [
    "str1.center(7)"
   ]
  },
  {
   "cell_type": "code",
   "execution_count": 162,
   "id": "bca12be5",
   "metadata": {},
   "outputs": [
    {
     "data": {
      "text/plain": [
       "'        a        '"
      ]
     },
     "execution_count": 162,
     "metadata": {},
     "output_type": "execute_result"
    }
   ],
   "source": [
    "str1.center(17)"
   ]
  },
  {
   "cell_type": "code",
   "execution_count": 163,
   "id": "64a38a7d",
   "metadata": {},
   "outputs": [
    {
     "data": {
      "text/plain": [
       "'baba ki beti ki kaha hogi shadi'"
      ]
     },
     "execution_count": 163,
     "metadata": {},
     "output_type": "execute_result"
    }
   ],
   "source": [
    "b2='baba ki beti ki kaha hogi shadi'\n",
    "b2"
   ]
  },
  {
   "cell_type": "code",
   "execution_count": 164,
   "id": "2fe9750d",
   "metadata": {},
   "outputs": [
    {
     "data": {
      "text/plain": [
       "'baba ki beti ki kaha hogi shadi'"
      ]
     },
     "execution_count": 164,
     "metadata": {},
     "output_type": "execute_result"
    }
   ],
   "source": [
    "b2.center(9)"
   ]
  },
  {
   "cell_type": "code",
   "execution_count": 166,
   "id": "719b514e",
   "metadata": {},
   "outputs": [
    {
     "data": {
      "text/plain": [
       "'                                                                                    baba ki beti ki kaha hogi shadi                                                                                     '"
      ]
     },
     "execution_count": 166,
     "metadata": {},
     "output_type": "execute_result"
    }
   ],
   "source": [
    "b2.center(200)"
   ]
  },
  {
   "cell_type": "code",
   "execution_count": 167,
   "id": "78e09965",
   "metadata": {},
   "outputs": [
    {
     "data": {
      "text/plain": [
       "'                                  baba ki beti ki kaha hogi shadi                                   '"
      ]
     },
     "execution_count": 167,
     "metadata": {},
     "output_type": "execute_result"
    }
   ],
   "source": [
    "b2.center(100)"
   ]
  },
  {
   "cell_type": "code",
   "execution_count": 168,
   "id": "043a4112",
   "metadata": {},
   "outputs": [
    {
     "data": {
      "text/plain": [
       "'         baba ki beti ki kaha hogi shadi          '"
      ]
     },
     "execution_count": 168,
     "metadata": {},
     "output_type": "execute_result"
    }
   ],
   "source": [
    "b2.center(50)"
   ]
  },
  {
   "cell_type": "code",
   "execution_count": 169,
   "id": "6fea9bd0",
   "metadata": {},
   "outputs": [
    {
     "data": {
      "text/plain": [
       "'baba ki beti ki kaha hogi shadi'"
      ]
     },
     "execution_count": 169,
     "metadata": {},
     "output_type": "execute_result"
    }
   ],
   "source": [
    "b2.center(25)"
   ]
  },
  {
   "cell_type": "code",
   "execution_count": 1,
   "id": "c56b687d",
   "metadata": {},
   "outputs": [
    {
     "name": "stdout",
     "output_type": "stream",
     "text": [
      "²/₅\n"
     ]
    }
   ],
   "source": [
    "num=print('\\u00B2/\\u2085')"
   ]
  },
  {
   "cell_type": "code",
   "execution_count": 6,
   "id": "40dded8f",
   "metadata": {},
   "outputs": [
    {
     "name": "stdout",
     "output_type": "stream",
     "text": [
      "³/²\n"
     ]
    }
   ],
   "source": [
    "num=print('\\u00B3/\\u00B2')"
   ]
  },
  {
   "cell_type": "code",
   "execution_count": 3,
   "id": "e8184368",
   "metadata": {},
   "outputs": [
    {
     "name": "stdout",
     "output_type": "stream",
     "text": [
      "²/₉\n"
     ]
    }
   ],
   "source": [
    "num=print('\\u00B2/\\u2089')"
   ]
  },
  {
   "cell_type": "code",
   "execution_count": 9,
   "id": "00aa90f9",
   "metadata": {
    "scrolled": true
   },
   "outputs": [
    {
     "name": "stdout",
     "output_type": "stream",
     "text": [
      "±/₂\n"
     ]
    }
   ],
   "source": [
    "num=print('\\u00B1/\\u2082')"
   ]
  },
  {
   "cell_type": "code",
   "execution_count": null,
   "id": "57db293b",
   "metadata": {},
   "outputs": [],
   "source": []
  }
 ],
 "metadata": {
  "kernelspec": {
   "display_name": "Python 3 (ipykernel)",
   "language": "python",
   "name": "python3"
  },
  "language_info": {
   "codemirror_mode": {
    "name": "ipython",
    "version": 3
   },
   "file_extension": ".py",
   "mimetype": "text/x-python",
   "name": "python",
   "nbconvert_exporter": "python",
   "pygments_lexer": "ipython3",
   "version": "3.9.12"
  }
 },
 "nbformat": 4,
 "nbformat_minor": 5
}
