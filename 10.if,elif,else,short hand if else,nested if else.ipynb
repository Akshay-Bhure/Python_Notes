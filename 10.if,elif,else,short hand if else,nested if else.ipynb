{
 "cells": [
  {
   "cell_type": "markdown",
   "id": "9429ee72",
   "metadata": {},
   "source": [
    "### if elif else statement"
   ]
  },
  {
   "cell_type": "raw",
   "id": "e6e28be8",
   "metadata": {},
   "source": [
    "it is used in decision making statements\n",
    "decision statements can be written using logical conditions"
   ]
  },
  {
   "cell_type": "code",
   "execution_count": null,
   "id": "f383a24d",
   "metadata": {},
   "outputs": [],
   "source": [
    "Syntax:\n",
    "\n",
    "if condition: #whether it is true / false.\n",
    "    statement/ block of code\n",
    "#####################\n",
    "\n",
    "if condition: # whether it is true / false.\n",
    "    statement1/Block of code\n",
    "else:\n",
    "    statement2/block of code\n",
    "# if statement can not be empty.\n",
    "\n",
    "######################\n",
    "\n",
    "if condition1: # whether it is true / false.\n",
    "    statement1/block of code\n",
    "elif condition2:\n",
    "    statement2\n",
    "elif condition3:\n",
    "    statement3\n",
    "else:\n",
    "    statement4\n"
   ]
  },
  {
   "cell_type": "raw",
   "id": "d3fa7937",
   "metadata": {},
   "source": [
    "if \n",
    "if >> else\n",
    "if >> elif>>else\n",
    "if >> elif >> elif >> elif >> else\n",
    "if >> elif>> elif >> elif>> elif\n",
    "if >> else >> elif>>..... It will give a syntax error."
   ]
  },
  {
   "cell_type": "raw",
   "id": "dd27b974",
   "metadata": {},
   "source": [
    "a= str(input('enter the number: ')) ## user can enter only string\n",
    "a = int(input('Enter the number: ')) ## user can enter only integer\n",
    "a = float(input('Enter the number: ')) ## user can enter only float\n",
    "a = eval(input('Enter the number: ')) ## user can enter either integer / float / string"
   ]
  },
  {
   "cell_type": "code",
   "execution_count": 2,
   "id": "b0297aef",
   "metadata": {},
   "outputs": [],
   "source": [
    "c='python'\n",
    "d='python'"
   ]
  },
  {
   "cell_type": "code",
   "execution_count": 2,
   "id": "434cf04c",
   "metadata": {},
   "outputs": [
    {
     "name": "stdout",
     "output_type": "stream",
     "text": [
      "yes both same\n"
     ]
    }
   ],
   "source": [
    "if c==d:\n",
    "    print('yes both same')"
   ]
  },
  {
   "cell_type": "code",
   "execution_count": 3,
   "id": "52932f15",
   "metadata": {},
   "outputs": [],
   "source": [
    "if c!=d:\n",
    "    print('both are not same')"
   ]
  },
  {
   "cell_type": "code",
   "execution_count": 39,
   "id": "34098966",
   "metadata": {},
   "outputs": [
    {
     "name": "stdout",
     "output_type": "stream",
     "text": [
      "a and b are same\n"
     ]
    }
   ],
   "source": [
    "if c==d:\n",
    "    print('a and b are same')\n",
    "else:\n",
    "    print('a and b are not same')"
   ]
  },
  {
   "cell_type": "code",
   "execution_count": 41,
   "id": "59f065cb",
   "metadata": {},
   "outputs": [
    {
     "name": "stdout",
     "output_type": "stream",
     "text": [
      "c and d are same\n"
     ]
    }
   ],
   "source": [
    "if c!=d:\n",
    "    print('c and d are not same')\n",
    "else:\n",
    "    print('c and d are same')"
   ]
  },
  {
   "cell_type": "code",
   "execution_count": 2,
   "id": "86e58f7e",
   "metadata": {},
   "outputs": [
    {
     "name": "stdout",
     "output_type": "stream",
     "text": [
      "c and d are same\n"
     ]
    }
   ],
   "source": [
    "if c!=d:\n",
    "    print('c and d are not same')\n",
    "else:\n",
    "    print('c and d are same')"
   ]
  },
  {
   "cell_type": "code",
   "execution_count": 14,
   "id": "e6088964",
   "metadata": {},
   "outputs": [
    {
     "name": "stdout",
     "output_type": "stream",
     "text": [
      "c and d same\n"
     ]
    }
   ],
   "source": [
    "if c is d:\n",
    "    print('c and d same')\n",
    "else:\n",
    "    print('c and d are not same')"
   ]
  },
  {
   "cell_type": "code",
   "execution_count": 15,
   "id": "3a1198d7",
   "metadata": {},
   "outputs": [
    {
     "name": "stdout",
     "output_type": "stream",
     "text": [
      "c and d are same\n"
     ]
    }
   ],
   "source": [
    "if c is not d:\n",
    "    print('c and d are not same')\n",
    "else:\n",
    "    print('c and d are same')"
   ]
  },
  {
   "cell_type": "code",
   "execution_count": 4,
   "id": "f148a48e",
   "metadata": {},
   "outputs": [
    {
     "name": "stdout",
     "output_type": "stream",
     "text": [
      "c and d are same\n"
     ]
    }
   ],
   "source": [
    "if c in d:\n",
    "    print('c and d are same')\n",
    "else:\n",
    "    print('c and d are not same')"
   ]
  },
  {
   "cell_type": "code",
   "execution_count": 5,
   "id": "18973fbe",
   "metadata": {},
   "outputs": [
    {
     "name": "stdout",
     "output_type": "stream",
     "text": [
      "c and d are same\n"
     ]
    }
   ],
   "source": [
    "if c not in d:\n",
    "    print('c and d are not same')\n",
    "else:\n",
    "    print('c and d are same')"
   ]
  },
  {
   "cell_type": "code",
   "execution_count": 6,
   "id": "adeaaa59",
   "metadata": {},
   "outputs": [],
   "source": [
    "a='shameless person'\n",
    "b='shameless person'"
   ]
  },
  {
   "cell_type": "code",
   "execution_count": 51,
   "id": "1b33627c",
   "metadata": {},
   "outputs": [
    {
     "name": "stdout",
     "output_type": "stream",
     "text": [
      "a and b are same\n"
     ]
    }
   ],
   "source": [
    "if a==b:#true so it excecute statement 1\n",
    "    print('a and b are same')\n",
    "else:\n",
    "    print('a annd b are not same')"
   ]
  },
  {
   "cell_type": "code",
   "execution_count": 52,
   "id": "f8ff5426",
   "metadata": {},
   "outputs": [
    {
     "name": "stdout",
     "output_type": "stream",
     "text": [
      "a and b are same\n"
     ]
    }
   ],
   "source": [
    "if a!=b:#false so it goes to direct 2nd statement\n",
    "    print('a and b are not same')\n",
    "else:\n",
    "    print('a and b are same')"
   ]
  },
  {
   "cell_type": "code",
   "execution_count": 53,
   "id": "b3e0643a",
   "metadata": {},
   "outputs": [
    {
     "name": "stdout",
     "output_type": "stream",
     "text": [
      "a and b are same\n"
     ]
    }
   ],
   "source": [
    "if a!=b:#false so it goes to direct 2nd statement\n",
    "    print('a and b are not same')\n",
    "else:\n",
    "    print('a and b are same')"
   ]
  },
  {
   "cell_type": "code",
   "execution_count": 72,
   "id": "1e307d8d",
   "metadata": {},
   "outputs": [],
   "source": [
    "a='shameless person'\n",
    "b='dynamical'"
   ]
  },
  {
   "cell_type": "code",
   "execution_count": 73,
   "id": "9990f659",
   "metadata": {},
   "outputs": [
    {
     "name": "stdout",
     "output_type": "stream",
     "text": [
      "a and b are not same\n"
     ]
    }
   ],
   "source": [
    "if a==b:\n",
    "    print('a and b are same')\n",
    "else:\n",
    "    print('a and b are not same')"
   ]
  },
  {
   "cell_type": "code",
   "execution_count": 75,
   "id": "dbfb3433",
   "metadata": {},
   "outputs": [
    {
     "name": "stdout",
     "output_type": "stream",
     "text": [
      "a and b are not same\n"
     ]
    }
   ],
   "source": [
    "if a!=b:\n",
    "    print('a and b are not same')\n",
    "else:\n",
    "    print('a and b are same')"
   ]
  },
  {
   "cell_type": "code",
   "execution_count": 10,
   "id": "4d6d1343",
   "metadata": {},
   "outputs": [
    {
     "name": "stdout",
     "output_type": "stream",
     "text": [
      "both are same names\n"
     ]
    }
   ],
   "source": [
    "real_name=\"akshay bhure\"\n",
    "fake_name=\"akshay bhure\"\n",
    "if real_name==fake_name:\n",
    "    print(\"both are same names\")\n",
    "else:\n",
    "    print(\"real and fake are not same\")"
   ]
  },
  {
   "cell_type": "code",
   "execution_count": null,
   "id": "060305b3",
   "metadata": {},
   "outputs": [],
   "source": [
    "real_name=\"akshay bhure\"\n",
    "fake_name=\"akshay bhure\""
   ]
  },
  {
   "cell_type": "code",
   "execution_count": 11,
   "id": "c08f8b72",
   "metadata": {},
   "outputs": [
    {
     "name": "stdout",
     "output_type": "stream",
     "text": [
      "yes real_name and fake_name are same\n"
     ]
    }
   ],
   "source": [
    "if real_name.upper()==fake_name.upper():\n",
    "    print('yes real_name and fake_name are same')\n",
    "else:\n",
    "    print('real_name and fake_name are not same')"
   ]
  },
  {
   "cell_type": "code",
   "execution_count": 12,
   "id": "a8b28bd4",
   "metadata": {},
   "outputs": [
    {
     "name": "stdout",
     "output_type": "stream",
     "text": [
      "yes real_name and fake_name are same\n"
     ]
    }
   ],
   "source": [
    "real_name=\"akshay bhure\"\n",
    "fake_name=\"AKSHAY BHURE\"\n",
    "if real_name.upper()==fake_name.upper():\n",
    "    print('yes real_name and fake_name are same')\n",
    "else:\n",
    "    print('real_name and fake_name are not same')"
   ]
  },
  {
   "cell_type": "code",
   "execution_count": 13,
   "id": "7d2fa7ac",
   "metadata": {},
   "outputs": [
    {
     "name": "stdout",
     "output_type": "stream",
     "text": [
      "yes real_name and fake_name are same\n"
     ]
    }
   ],
   "source": [
    "real_name=\"akshay bhure\"\n",
    "fake_name=\"AKSHAY BHURE\"\n",
    "if real_name.lower()==fake_name.lower():\n",
    "    print('yes real_name and fake_name are same')\n",
    "else:\n",
    "    print('real_name and fake_name are not same')"
   ]
  },
  {
   "cell_type": "code",
   "execution_count": 14,
   "id": "4c0d36c2",
   "metadata": {},
   "outputs": [
    {
     "name": "stdout",
     "output_type": "stream",
     "text": [
      "yes real_name and fake_name are same\n"
     ]
    }
   ],
   "source": [
    "real_name=\"akshay bhure\"\n",
    "fake_name=\"AKSHAY BHURE\"\n",
    "if real_name.upper()==fake_name:\n",
    "    print('yes real_name and fake_name are same')\n",
    "else:\n",
    "    print('real_name and fake_name are not same')"
   ]
  },
  {
   "cell_type": "code",
   "execution_count": 15,
   "id": "18adfec9",
   "metadata": {},
   "outputs": [
    {
     "name": "stdout",
     "output_type": "stream",
     "text": [
      "real_name and fake_name are not same\n"
     ]
    }
   ],
   "source": [
    "real_name=\"akshay bhure\"\n",
    "fake_name=\"AKSHAY BHURE\"\n",
    "if real_name==fake_name:\n",
    "    print('yes real_name and fake_name are same')\n",
    "else:\n",
    "    print('real_name and fake_name are not same')"
   ]
  },
  {
   "cell_type": "code",
   "execution_count": 17,
   "id": "11f151c3",
   "metadata": {},
   "outputs": [
    {
     "name": "stdout",
     "output_type": "stream",
     "text": [
      "doing is in mummy variable present as a string\n"
     ]
    }
   ],
   "source": [
    "mummy='are you doing well mom'\n",
    "if 'doing' in mummy:\n",
    "    print('doing is in mummy variable present as a string')\n",
    "else:\n",
    "    print('doing is in mummy variable as a string is not there')"
   ]
  },
  {
   "cell_type": "code",
   "execution_count": 4,
   "id": "6cef1394",
   "metadata": {},
   "outputs": [
    {
     "name": "stdout",
     "output_type": "stream",
     "text": [
      "doing and well is in mummy variable present as a string\n"
     ]
    }
   ],
   "source": [
    "mummy='are you doing well mom'\n",
    "if 'doing' and 'well' in mummy:\n",
    "    print('doing and well is in mummy variable present as a string')\n",
    "else:\n",
    "    print('doing is in mummy variable as a string is not there')"
   ]
  },
  {
   "cell_type": "code",
   "execution_count": 5,
   "id": "1a714fdc",
   "metadata": {},
   "outputs": [
    {
     "name": "stdout",
     "output_type": "stream",
     "text": [
      "doing and well is in mummy variable present as a string\n"
     ]
    }
   ],
   "source": [
    "mummy='are you doing well mom'\n",
    "if 'doing'or 'well' in mummy:\n",
    "    print('doing and well is in mummy variable present as a string')\n",
    "else:\n",
    "    print('doing is in mummy variable as a string is not there')"
   ]
  },
  {
   "cell_type": "code",
   "execution_count": 5,
   "id": "91c73f75",
   "metadata": {},
   "outputs": [
    {
     "name": "stdout",
     "output_type": "stream",
     "text": [
      "doing is in mummy variable as a string is there\n"
     ]
    }
   ],
   "source": [
    "mummy='are you doing well mom'\n",
    "if 'doing'not in mummy:\n",
    "    print('doing is not in mummy variable not present as a string')\n",
    "else:\n",
    "    print('doing is in mummy variable as a string is there')"
   ]
  },
  {
   "cell_type": "code",
   "execution_count": 7,
   "id": "b422c3ab",
   "metadata": {},
   "outputs": [
    {
     "name": "stdout",
     "output_type": "stream",
     "text": [
      "rubbish in mummy variable as a string is not there\n"
     ]
    }
   ],
   "source": [
    "mummy='are you doing well mom'\n",
    "if 'rubbish' in mummy:\n",
    "    print('rubbish is in mummy variable present as a string')\n",
    "else:\n",
    "    print('rubbish in mummy variable as a string is not there')"
   ]
  },
  {
   "cell_type": "code",
   "execution_count": 8,
   "id": "0ebe8723",
   "metadata": {},
   "outputs": [],
   "source": [
    "a=200\n",
    "b=100\n",
    "c=300"
   ]
  },
  {
   "cell_type": "code",
   "execution_count": 25,
   "id": "9c65c65a",
   "metadata": {},
   "outputs": [
    {
     "name": "stdout",
     "output_type": "stream",
     "text": [
      "c is gretest number= 300\n"
     ]
    }
   ],
   "source": [
    "if a>b and a>c:\n",
    "    print('a is the gretest number=',a)\n",
    "elif b>c and b>a:\n",
    "    print('b is the gretest number=',b)\n",
    "elif c>a and c>b:\n",
    "    print('c is gretest number=',c)"
   ]
  },
  {
   "cell_type": "code",
   "execution_count": 8,
   "id": "a1006778",
   "metadata": {},
   "outputs": [
    {
     "name": "stdout",
     "output_type": "stream",
     "text": [
      "c is greater than a & b = 300\n"
     ]
    }
   ],
   "source": [
    "if a>b>c:\n",
    "\n",
    "    print(\"a is greater than b & c =\",a)\n",
    "\n",
    "elif b>c>a:\n",
    "\n",
    "    print(\"b is greater than a & c =\",b)\n",
    "\n",
    "else:\n",
    "\n",
    "    print(\"c is greater than a & b =\",c)"
   ]
  },
  {
   "cell_type": "code",
   "execution_count": 9,
   "id": "8ab0c4e8",
   "metadata": {},
   "outputs": [],
   "source": [
    "if a>b>c:\n",
    "\n",
    "    print(\"a is greater than b & c & a =\",a)\n",
    "\n",
    "elif b>c>a:\n",
    "\n",
    "    print(\"b is greater than a & c & b =\",b)\n",
    "\n",
    "elif c>b>a:\n",
    "\n",
    "    print(\"c is greater than a & b & c =\",c)"
   ]
  },
  {
   "cell_type": "code",
   "execution_count": 1,
   "id": "cf403020",
   "metadata": {},
   "outputs": [
    {
     "name": "stdout",
     "output_type": "stream",
     "text": [
      "Enter your number 45\n",
      "lower\n"
     ]
    }
   ],
   "source": [
    "var1=56\n",
    "var2=65\n",
    "var3=int(input('Enter your number '))\n",
    "if var3>var2:\n",
    "    print('greater')\n",
    "elif var3<var2:\n",
    "    print(\"lower\")\n",
    "else:\n",
    "    print('equal')"
   ]
  },
  {
   "cell_type": "code",
   "execution_count": 14,
   "id": "995caa56",
   "metadata": {},
   "outputs": [
    {
     "name": "stdout",
     "output_type": "stream",
     "text": [
      "66\n",
      "greater\n"
     ]
    }
   ],
   "source": [
    "var1=56\n",
    "var2=65\n",
    "var3=int(input())\n",
    "if var3>var2:\n",
    "    print('greater')\n",
    "elif var3<var2:\n",
    "    print(\"lower\")\n",
    "else:\n",
    "    print('equal')"
   ]
  },
  {
   "cell_type": "code",
   "execution_count": 17,
   "id": "033a6b5a",
   "metadata": {},
   "outputs": [
    {
     "name": "stdout",
     "output_type": "stream",
     "text": [
      "56\n",
      "lower\n"
     ]
    }
   ],
   "source": [
    "var1=56\n",
    "var2=65\n",
    "var3=int(input())\n",
    "if var3>var2:\n",
    "    print('greater')\n",
    "elif var3<var2:\n",
    "    print(\"lower\")\n",
    "else:\n",
    "    print('equal')"
   ]
  },
  {
   "cell_type": "code",
   "execution_count": 5,
   "id": "a89bf62d",
   "metadata": {},
   "outputs": [
    {
     "name": "stdout",
     "output_type": "stream",
     "text": [
      "[23, 34, 45, 56, 67, 78]\n",
      "no 24 it is not in the list\n"
     ]
    }
   ],
   "source": [
    "list1=[23,34,45,56,67,78]\n",
    "print(list1)\n",
    "if 24 not in list1:\n",
    "    print(\"no 24 it is not in the list\")\n",
    "elif 24 in list1:\n",
    "    print(\"it is in list\")\n",
    "else:\n",
    "    print(\"happy birthday bhai\")"
   ]
  },
  {
   "cell_type": "code",
   "execution_count": 11,
   "id": "ea862e26",
   "metadata": {},
   "outputs": [
    {
     "name": "stdout",
     "output_type": "stream",
     "text": [
      "[23, 34, 45, 56, 67, 78]\n",
      "happy birthday bhai\n"
     ]
    }
   ],
   "source": [
    "list1=[23,34,45,56,67,78]\n",
    "print(list1)\n",
    "if 23 not in list1:\n",
    "    print(\"no 23 it is not in the list\")\n",
    "elif 24 in list1:\n",
    "    print(\"it is in list\")\n",
    "else:\n",
    "    print(\"happy birthday bhai\")"
   ]
  },
  {
   "cell_type": "code",
   "execution_count": 11,
   "id": "38446ae2",
   "metadata": {},
   "outputs": [
    {
     "name": "stdout",
     "output_type": "stream",
     "text": [
      "[23, 34, 45, 56, 67, 78]\n",
      "it is in list\n"
     ]
    }
   ],
   "source": [
    "list1=[23,34,45,56,67,78]\n",
    "print(list1)\n",
    "if 23 not in list1:\n",
    "    print(\"no 23 it is not in the list\")\n",
    "elif 23 in list1:\n",
    "    print(\"it is in list\")\n",
    "else:\n",
    "    print(\"happy birthday bhai\")"
   ]
  },
  {
   "cell_type": "code",
   "execution_count": 94,
   "id": "dc045bc0",
   "metadata": {},
   "outputs": [
    {
     "name": "stdout",
     "output_type": "stream",
     "text": [
      "what is your age\n",
      "65\n",
      "your genious\n"
     ]
    }
   ],
   "source": [
    "print(\"what is your age\")\n",
    "age=int(input())\n",
    "if age>56:\n",
    "    print(\"your genious\")\n",
    "elif age<56:\n",
    "    print(\"you are aesome\")\n",
    "else:\n",
    "    print(\"rada rada\")\n"
   ]
  },
  {
   "cell_type": "code",
   "execution_count": 16,
   "id": "614c5883",
   "metadata": {},
   "outputs": [
    {
     "name": "stdout",
     "output_type": "stream",
     "text": [
      "what is your age\n",
      "34\n",
      "you are aesome\n"
     ]
    }
   ],
   "source": [
    "print(\"what is your age\")\n",
    "age=int(input())\n",
    "if age>56:\n",
    "    print(\"your genious\")\n",
    "elif age<56:\n",
    "    print(\"you are aesome\")\n",
    "else:\n",
    "    print(\"rada rada\")\n"
   ]
  },
  {
   "cell_type": "code",
   "execution_count": 15,
   "id": "a0617785",
   "metadata": {},
   "outputs": [
    {
     "name": "stdout",
     "output_type": "stream",
     "text": [
      "what is your age\n",
      "56\n",
      "rada rada\n"
     ]
    }
   ],
   "source": [
    "print(\"what is your age\")\n",
    "age=int(input())\n",
    "if age>56:\n",
    "    print(\"your genious\")\n",
    "elif age<56:\n",
    "    print(\"you are aesome\")\n",
    "else:\n",
    "    print(\"rada rada\")\n"
   ]
  },
  {
   "cell_type": "code",
   "execution_count": 100,
   "id": "b2ec567c",
   "metadata": {},
   "outputs": [
    {
     "name": "stdout",
     "output_type": "stream",
     "text": [
      "enter the number=90\n",
      "enter the number=80\n",
      "60\n",
      "50\n",
      "your marks in math = 90 so your grade A in math than all (phy,chem,engl)\n"
     ]
    }
   ],
   "source": [
    "math=int(input('enter the number=',))\n",
    "phy=int(input('enter the number=',))\n",
    "engl=int(input())\n",
    "chem=int(input())\n",
    "if math>=phy:\n",
    "    print(f'your marks in math = {math} so your grade A in math than all (phy,chem,engl)')\n",
    "elif math<=engl:\n",
    "    print(f'your marks in math = {math} so your grade B in math than engl')\n",
    "elif math<=chem:\n",
    "    print(f'your marks in math = {math} so your grade c in math than phy')\n",
    "else:\n",
    "    print(f'your marks in math = {math} so your fail in math than chem')"
   ]
  },
  {
   "cell_type": "code",
   "execution_count": 114,
   "id": "59abd0ae",
   "metadata": {},
   "outputs": [
    {
     "name": "stdout",
     "output_type": "stream",
     "text": [
      "enter the Math marks:81\n",
      "enter the science marks:81\n",
      "enter the english marks:81\n",
      "enter the social science marks:81\n",
      "You alloted for Science stream\n"
     ]
    }
   ],
   "source": [
    "math=int(input('enter the Math marks:'))\n",
    "science=int(input('enter the science marks:'))\n",
    "english=int(input('enter the english marks:'))\n",
    "social_studies=int(input('enter the social science marks:'))\n",
    "\n",
    "if math>80 and science>80 and english>80 and social_studies>80:\n",
    "        print('You alloted for Science stream')\n",
    "elif math and science<80 and english>80 and social_studies>80:\n",
    "        print('You alloted for Commerce Stream')\n",
    "elif math<80 and science<80 and english>80 and social_studies>80:\n",
    "        print('You alloted for Humanities')\n",
    "elif math<80 and science<80 and english<80 and social_studies<80:\n",
    "        print('Your marks are too less to be alloted')"
   ]
  },
  {
   "cell_type": "code",
   "execution_count": 15,
   "id": "6f51dba4",
   "metadata": {},
   "outputs": [
    {
     "name": "stdout",
     "output_type": "stream",
     "text": [
      "enter the Math marks:90\n",
      "enter the science marks:90\n",
      "enter the english marks:90\n",
      "enter the social science marks:90\n",
      "You alloted for Science stream\n"
     ]
    }
   ],
   "source": [
    "math=int(input('enter the Math marks:'))\n",
    "science=int(input('enter the science marks:'))\n",
    "english=int(input('enter the english marks:'))\n",
    "social_studies=int(input('enter the social science marks:'))\n",
    "\n",
    "if math>80 and science>80 and english>80 and social_studies>80:\n",
    "        print('You alloted for Science stream')\n",
    "elif math and science<80 and english>80 and social_studies>80:\n",
    "        print('You alloted for Commerce Stream')\n",
    "elif math<80 and science<80 and english>80 and social_studies>80:\n",
    "        print('You alloted for Humanities')\n",
    "else:\n",
    "    print('Your marks are too less to be alloted')"
   ]
  },
  {
   "cell_type": "code",
   "execution_count": 118,
   "id": "50c9469b",
   "metadata": {},
   "outputs": [
    {
     "name": "stdout",
     "output_type": "stream",
     "text": [
      "enter the Math marks:70\n",
      "enter the science marks:70\n",
      "enter the english marks:67\n",
      "enter the social science marks:56\n",
      "Your marks are too less to be alloted\n"
     ]
    }
   ],
   "source": [
    "math=int(input('enter the Math marks:'))\n",
    "science=int(input('enter the science marks:'))\n",
    "english=int(input('enter the english marks:'))\n",
    "social_studies=int(input('enter the social science marks:'))\n",
    "\n",
    "if math>80 and science>80 and english>80 and social_studies>80:\n",
    "        print('You alloted for Science stream')\n",
    "elif math and science<80 and english>80 and social_studies>80:\n",
    "        print('You alloted for Commerce Stream')\n",
    "elif math<80 and science<80 and english>80 and social_studies>80:\n",
    "        print('You alloted for Humanities')\n",
    "else:\n",
    "    print('Your marks are too less to be alloted')"
   ]
  },
  {
   "cell_type": "code",
   "execution_count": 110,
   "id": "4c36c37f",
   "metadata": {},
   "outputs": [
    {
     "name": "stdout",
     "output_type": "stream",
     "text": [
      "Enter Your Percentage:\n",
      "96\n",
      "You got 'A' Grade\n"
     ]
    }
   ],
   "source": [
    "print('Enter Your Percentage:')\n",
    "num=eval(input())\n",
    "if num>90:\n",
    "    print('You got \\'A\\' Grade')\n",
    "elif num>80 and num<=90:\n",
    "    print('You got \\'B\\' Grade')\n",
    "elif num>=60 and num<=80:\n",
    "    print('You got \\'C\\' Grade')\n",
    "elif num<60:\n",
    "    print('You got \\'D\\' Grade')"
   ]
  },
  {
   "cell_type": "code",
   "execution_count": 17,
   "id": "5cb0bf37",
   "metadata": {},
   "outputs": [
    {
     "name": "stdout",
     "output_type": "stream",
     "text": [
      "Enter Your Percentage:71\n",
      "You got 'C' Grade\n"
     ]
    }
   ],
   "source": [
    "num=eval(input('Enter Your Percentage:'))\n",
    "if num>90:\n",
    "    print('You got \\'A\\' Grade')\n",
    "elif num>80 and num<=90:\n",
    "    print('You got \\'B\\' Grade')\n",
    "elif num>=60 and num<=80:\n",
    "    print('You got \\'C\\' Grade')\n",
    "else:\n",
    "    print('You got \\'D\\' Grade')"
   ]
  },
  {
   "cell_type": "code",
   "execution_count": 18,
   "id": "112cbbbb",
   "metadata": {},
   "outputs": [
    {
     "name": "stdout",
     "output_type": "stream",
     "text": [
      "Enter Your Percentage:76\n",
      "You got 'C' Grade\n"
     ]
    }
   ],
   "source": [
    "num=eval(input('Enter Your Percentage:'))\n",
    "if num>90:\n",
    "    print('You got \\'A\\' Grade')\n",
    "elif num>80 and num<=90:\n",
    "    print('You got \\'B\\' Grade')\n",
    "elif num>=60 and num<=80:\n",
    "    print('You got \\'C\\' Grade')\n",
    "else:\n",
    "    print('You got \\'D\\' Grade')"
   ]
  },
  {
   "cell_type": "code",
   "execution_count": 10,
   "id": "501d03d8",
   "metadata": {},
   "outputs": [
    {
     "name": "stdout",
     "output_type": "stream",
     "text": [
      "Enter Your Percentage:67\n",
      "You got 'C' Grade\n"
     ]
    }
   ],
   "source": [
    "num=eval(input('Enter Your Percentage:'))\n",
    "if num>90:\n",
    "    print('You got \\'A\\' Grade')\n",
    "elif num>80 or num<=50:\n",
    "    print('You got \\'B\\' Grade')\n",
    "elif num>=60 or num<=80:\n",
    "    print('You got \\'C\\' Grade')\n",
    "else:\n",
    "    print('You got \\'D\\' Grade')"
   ]
  },
  {
   "cell_type": "code",
   "execution_count": 7,
   "id": "e0d49bd3",
   "metadata": {},
   "outputs": [
    {
     "name": "stdout",
     "output_type": "stream",
     "text": [
      "Enter Your Percentage:35\n",
      "You got 'D' Grade\n"
     ]
    }
   ],
   "source": [
    "num=eval(input('Enter Your Percentage:'))\n",
    "if num>90:\n",
    "    print('You got \\'A\\' Grade')\n",
    "elif num>80 and num<=90:\n",
    "    print('You got \\'B\\' Grade')\n",
    "elif num>=60 and num<=80:\n",
    "    print('You got \\'C\\' Grade')\n",
    "else:\n",
    "    print('You got \\'D\\' Grade')"
   ]
  },
  {
   "cell_type": "code",
   "execution_count": 12,
   "id": "99bc232a",
   "metadata": {},
   "outputs": [
    {
     "name": "stdout",
     "output_type": "stream",
     "text": [
      "Student 1 percentage:89\n",
      "Student 1 got first class with Distinction\n",
      "Student 2 percentage:47\n",
      "Student 2 got Distinction class\n"
     ]
    }
   ],
   "source": [
    "a=eval(input('Student 1 percentage:'))\n",
    "if a>=85.00:\n",
    "    print(\"Student 1 got first class with Distinction\")\n",
    "elif a>=75.00:\n",
    "    print('Student 1 got first class')\n",
    "elif a>=60.00:\n",
    "    print('Student 1 got second class')\n",
    "elif a>=40.00:\n",
    "    print('Student 1 got third class')\n",
    "else:\n",
    "    print('Student 1 got failed')\n",
    "    \n",
    "b=eval(input('Student 2 percentage:'))\n",
    "if a>=85.00:\n",
    "    print(\"Student 2 got Distinction class\")\n",
    "elif a>=75.00:\n",
    "    print('Student 2 got first class')\n",
    "elif a>=60.00:\n",
    "    print('Student 2 got second class')\n",
    "elif a>=40.00 and a<60.00:\n",
    "    print('Student 2 got third class')\n",
    "else:\n",
    "    print('Student 2 got failed')"
   ]
  },
  {
   "cell_type": "code",
   "execution_count": 4,
   "id": "bc7f27b3",
   "metadata": {},
   "outputs": [
    {
     "name": "stdout",
     "output_type": "stream",
     "text": [
      "enter the Math marks:555\n",
      "enter the science marks:555\n",
      "enter the english marks:555\n",
      "enter the social science marks:555\n",
      "ramesh and suresh got 467 marks for crack addmision\n"
     ]
    }
   ],
   "source": [
    "math=int(input('enter the Math marks:'))\n",
    "science=int(input('enter the science marks:'))\n",
    "english=int(input('enter the english marks:'))\n",
    "social_studies=int(input('enter the social science marks:'))\n",
    "if math and science and english and social_studies>=467:\n",
    "    print('ramesh and suresh got 467 marks for crack addmision')\n",
    "elif math and science and english and social_studies<=467:\n",
    "        print('ramesh and suresh not got 467 marks for crack addmision')\n",
    "else:\n",
    "        print('ramesh and suresh are mindless persons')\n",
    "\n",
    "    "
   ]
  },
  {
   "cell_type": "code",
   "execution_count": 4,
   "id": "c632baef",
   "metadata": {},
   "outputs": [
    {
     "name": "stdout",
     "output_type": "stream",
     "text": [
      "enter the Math marks:788\n",
      "enter the science marks:67\n",
      "enter the english marks:444\n",
      "enter the social science marks:345\n",
      "ramesh and suresh are mindless persons\n"
     ]
    }
   ],
   "source": [
    "math=int(input('enter the Math marks:'))\n",
    "science=int(input('enter the science marks:'))\n",
    "english=int(input('enter the english marks:'))\n",
    "social_studies=int(input('enter the social science marks:'))\n",
    "if math and science and english and social_studies>=467:\n",
    "    print('ramesh and suresh got 467 marks for crack addmision')\n",
    "else:\n",
    "        print('ramesh and suresh are mindless persons')\n",
    "\n",
    "    "
   ]
  },
  {
   "cell_type": "code",
   "execution_count": 9,
   "id": "6e31399b",
   "metadata": {},
   "outputs": [
    {
     "name": "stdout",
     "output_type": "stream",
     "text": [
      "enter the Math marks:12\n",
      "enter the science marks:23\n",
      "enter the english marks:45\n",
      "enter the social science marks:67\n",
      "ramesh and suresh are 0th persons\n"
     ]
    }
   ],
   "source": [
    "math=int(input('enter the Math marks:'))\n",
    "science=int(input('enter the science marks:'))\n",
    "english=int(input('enter the english marks:'))\n",
    "social_studies=int(input('enter the social science marks:'))\n",
    "if math and science and english and social_studies>=467:\n",
    "    print('ramesh and suresh got 467 marks for crack addmision')\n",
    "else: math and science and english and social_studies<=467\n",
    "print('ramesh and suresh are 0th persons')\n",
    "\n",
    "    "
   ]
  },
  {
   "cell_type": "code",
   "execution_count": 3,
   "id": "0398e5dc",
   "metadata": {},
   "outputs": [
    {
     "name": "stdout",
     "output_type": "stream",
     "text": [
      "student ramesh percentages:\n",
      "69\n",
      "ramesh got first 1 class\n"
     ]
    }
   ],
   "source": [
    "print('student ramesh percentages:')\n",
    "ramesh=eval(input())\n",
    "if ramesh>=100 and ramesh<=80:\n",
    "    print('ramesh got first in class')\n",
    "elif ramesh>=70 and ramesh<80:\n",
    "    print('ramesh got distinction in class')\n",
    "elif ramesh>=60 and ramesh<70:\n",
    "    print('ramesh got first 1 class')\n",
    "elif ramesh>=50 and ramesh<60:\n",
    "    print('he got second class marks')\n",
    "else:\n",
    "    print(' ramesh bad zala ahe')"
   ]
  },
  {
   "cell_type": "code",
   "execution_count": 11,
   "id": "8930134c",
   "metadata": {},
   "outputs": [
    {
     "name": "stdout",
     "output_type": "stream",
     "text": [
      "student ramesh percentages:\n",
      "34\n",
      " ramesh bad zala ahe\n"
     ]
    }
   ],
   "source": [
    "print('student ramesh percentages:')\n",
    "ramesh=eval(input())\n",
    "if ramesh>=100 and ramesh<=80:\n",
    "    print('ramesh got first in class')\n",
    "elif ramesh>=70 and ramesh<80:\n",
    "    print('ramesh got distinction in class')\n",
    "elif ramesh>=60 and ramesh<70:\n",
    "    print('ramesh got first class')\n",
    "elif ramesh>=50 and ramesh<60:\n",
    "    print('he got second class marks')\n",
    "else:\n",
    "    print(' ramesh bad zala ahe')"
   ]
  },
  {
   "cell_type": "markdown",
   "id": "0283ef8f",
   "metadata": {},
   "source": [
    "## WAP to Check whether the number is even or odd."
   ]
  },
  {
   "cell_type": "code",
   "execution_count": 8,
   "id": "bd9d8b13",
   "metadata": {},
   "outputs": [],
   "source": [
    "a=6%5"
   ]
  },
  {
   "cell_type": "code",
   "execution_count": 42,
   "id": "4a79702c",
   "metadata": {},
   "outputs": [
    {
     "data": {
      "text/plain": [
       "1"
      ]
     },
     "execution_count": 42,
     "metadata": {},
     "output_type": "execute_result"
    }
   ],
   "source": [
    "a"
   ]
  },
  {
   "cell_type": "code",
   "execution_count": 43,
   "id": "0a0049e6",
   "metadata": {},
   "outputs": [
    {
     "name": "stdout",
     "output_type": "stream",
     "text": [
      "number is odd\n"
     ]
    }
   ],
   "source": [
    "if a%5==0:\n",
    "    print('number is even')\n",
    "else:\n",
    "    print('number is odd')"
   ]
  },
  {
   "cell_type": "code",
   "execution_count": 9,
   "id": "101fe3f3",
   "metadata": {},
   "outputs": [
    {
     "name": "stdout",
     "output_type": "stream",
     "text": [
      "number is odd\n"
     ]
    }
   ],
   "source": [
    "if a%5==1:\n",
    "    print('number is odd')\n",
    "else:\n",
    "    print('number is even')"
   ]
  },
  {
   "cell_type": "code",
   "execution_count": 48,
   "id": "37b32df6",
   "metadata": {},
   "outputs": [
    {
     "name": "stdout",
     "output_type": "stream",
     "text": [
      "number is even\n"
     ]
    }
   ],
   "source": [
    "if a%5==0:\n",
    "    print('number is odd')\n",
    "else:\n",
    "    print('number is even')"
   ]
  },
  {
   "cell_type": "code",
   "execution_count": 3,
   "id": "fb4677c8",
   "metadata": {},
   "outputs": [
    {
     "name": "stdout",
     "output_type": "stream",
     "text": [
      "enter the your choice number: 21\n",
      "a is even number: 21\n"
     ]
    }
   ],
   "source": [
    "a=eval(input('enter the your choice number: '))\n",
    "if a%3==0:\n",
    "    print('a is even number:',a)\n",
    "else:\n",
    "    print('a is o number:',a)"
   ]
  },
  {
   "cell_type": "code",
   "execution_count": 1,
   "id": "1d1dc061",
   "metadata": {},
   "outputs": [
    {
     "name": "stdout",
     "output_type": "stream",
     "text": [
      "enter the your choice number: 49\n",
      "a is odd number: 49\n"
     ]
    }
   ],
   "source": [
    "a=eval(input('enter the your choice number: '))\n",
    "if a%2==0:\n",
    "    print('a is even number:',a)\n",
    "else:\n",
    "    print('a is odd number:',a)"
   ]
  },
  {
   "cell_type": "code",
   "execution_count": 20,
   "id": "6f70e951",
   "metadata": {},
   "outputs": [
    {
     "name": "stdout",
     "output_type": "stream",
     "text": [
      "enter the your choice number: 21\n",
      "a is odd number: 21\n"
     ]
    }
   ],
   "source": [
    "a=eval(input('enter the your choice number: '))\n",
    "if a%2==1:\n",
    "    print('a is odd number:',a)\n",
    "else:\n",
    "    print('a is even number:',a)"
   ]
  },
  {
   "cell_type": "code",
   "execution_count": 13,
   "id": "20a6f5ef",
   "metadata": {},
   "outputs": [
    {
     "name": "stdout",
     "output_type": "stream",
     "text": [
      "enter the your choice number: 24\n",
      "a is even number: 24\n"
     ]
    }
   ],
   "source": [
    "a=eval(input('enter the your choice number: '))\n",
    "if a%3==0:\n",
    "    print('a is even number:',a)\n",
    "else:\n",
    "    print('a is odd number:',a)"
   ]
  },
  {
   "cell_type": "code",
   "execution_count": 18,
   "id": "c782ebaf",
   "metadata": {},
   "outputs": [
    {
     "name": "stdout",
     "output_type": "stream",
     "text": [
      "enter the your choice number: 24\n",
      "a is even number: 24\n"
     ]
    }
   ],
   "source": [
    "a=eval(input('enter the your choice number: '))\n",
    "if a%3==1:\n",
    "    print('a is odd number:',a)\n",
    "else:\n",
    "    print('a is even number:',a)"
   ]
  },
  {
   "cell_type": "code",
   "execution_count": 14,
   "id": "7abdf4b5",
   "metadata": {},
   "outputs": [
    {
     "name": "stdout",
     "output_type": "stream",
     "text": [
      "enter the your choice number: 21\n",
      "a is odd number: 21\n"
     ]
    }
   ],
   "source": [
    "a=eval(input('enter the your choice number: '))\n",
    "if a//3==7:\n",
    "    print('a is odd number:',a)\n",
    "else:\n",
    "    print('a is even number:',a)"
   ]
  },
  {
   "cell_type": "code",
   "execution_count": 15,
   "id": "d9190917",
   "metadata": {},
   "outputs": [
    {
     "name": "stdout",
     "output_type": "stream",
     "text": [
      "enter the your choice number: 24\n",
      "a is even number: 24\n"
     ]
    }
   ],
   "source": [
    "a=eval(input('enter the your choice number: '))\n",
    "if a//3==7:\n",
    "    print('a is odd number:',a)\n",
    "else:\n",
    "    print('a is even number:',a)"
   ]
  },
  {
   "cell_type": "code",
   "execution_count": 23,
   "id": "7818b233",
   "metadata": {},
   "outputs": [
    {
     "name": "stdout",
     "output_type": "stream",
     "text": [
      "enter the your choice number: 24\n",
      "a is even number: 24\n"
     ]
    }
   ],
   "source": [
    "a=eval(input('enter the your choice number: '))\n",
    "if a//3==8:\n",
    "    print('a is even number:',a)\n",
    "else:\n",
    "    print('a is odd number:',a)"
   ]
  },
  {
   "cell_type": "code",
   "execution_count": 14,
   "id": "799514da",
   "metadata": {},
   "outputs": [
    {
     "name": "stdout",
     "output_type": "stream",
     "text": [
      "enter the your choice number: 24\n",
      "a is even number: 24\n"
     ]
    }
   ],
   "source": [
    "a=eval(input('enter the your choice number: '))\n",
    "if a//3==0:\n",
    "    print('a is odd number:',a)\n",
    "else:\n",
    "    print('a is even number:',a)"
   ]
  },
  {
   "cell_type": "code",
   "execution_count": 29,
   "id": "e43b82a7",
   "metadata": {},
   "outputs": [
    {
     "name": "stdout",
     "output_type": "stream",
     "text": [
      "enter the your choice number: 2\n",
      "a is even number: 2\n"
     ]
    }
   ],
   "source": [
    "a=eval(input('enter the your choice number: '))\n",
    "if a**3==8:\n",
    "    print('a is even number:',a)\n",
    "else:\n",
    "    print('a is odd number:',a)"
   ]
  },
  {
   "cell_type": "code",
   "execution_count": 13,
   "id": "c0f4bc02",
   "metadata": {},
   "outputs": [
    {
     "name": "stdout",
     "output_type": "stream",
     "text": [
      "enter the your choice number: 2\n",
      "a is even number: 2\n"
     ]
    }
   ],
   "source": [
    "a=eval(input('enter the your choice number: '))\n",
    "if a**3==0:\n",
    "    print('a is odd number:',a)\n",
    "else:\n",
    "    print('a is even number:',a)"
   ]
  },
  {
   "cell_type": "code",
   "execution_count": 14,
   "id": "9090e73f",
   "metadata": {},
   "outputs": [
    {
     "name": "stdout",
     "output_type": "stream",
     "text": [
      "enter the your choice number: 2\n",
      "a is even number: 2\n"
     ]
    }
   ],
   "source": [
    "a=eval(input('enter the your choice number: '))\n",
    "if a**3==1:\n",
    "    print('a is odd number:',a)\n",
    "else:\n",
    "    print('a is even number:',a)"
   ]
  },
  {
   "cell_type": "code",
   "execution_count": 15,
   "id": "d2111571",
   "metadata": {},
   "outputs": [
    {
     "name": "stdout",
     "output_type": "stream",
     "text": [
      "enter the your choice number: 25\n",
      "a is odd number: 25\n"
     ]
    }
   ],
   "source": [
    "a=eval(input('enter the your choice number: '))\n",
    "if a+3==28:\n",
    "    print('a is odd number:',a)\n",
    "else:\n",
    "    print('a is even number:',a)"
   ]
  },
  {
   "cell_type": "code",
   "execution_count": 4,
   "id": "573d7f47",
   "metadata": {},
   "outputs": [
    {
     "name": "stdout",
     "output_type": "stream",
     "text": [
      "enter the your choice number: 25\n",
      "a is odd number: 25\n"
     ]
    }
   ],
   "source": [
    "a=eval(input('enter the your choice number: '))\n",
    "if a+3==29:\n",
    "    print('a is even number:',a)\n",
    "else:\n",
    "    print('a is odd number:',a)"
   ]
  },
  {
   "cell_type": "code",
   "execution_count": 4,
   "id": "b1180465",
   "metadata": {},
   "outputs": [
    {
     "name": "stdout",
     "output_type": "stream",
     "text": [
      "enter the your choice number: 25\n",
      "a is odd number: 25\n"
     ]
    }
   ],
   "source": [
    "a=eval(input('enter your choice number: '))\n",
    "if a+3==0:\n",
    "    print('a is even number:',a)\n",
    "else:\n",
    "    print('a is odd number:',a)"
   ]
  },
  {
   "cell_type": "code",
   "execution_count": 24,
   "id": "88bfaf07",
   "metadata": {},
   "outputs": [
    {
     "ename": "SyntaxError",
     "evalue": "invalid syntax (651358232.py, line 2)",
     "output_type": "error",
     "traceback": [
      "\u001b[1;36m  Input \u001b[1;32mIn [24]\u001b[1;36m\u001b[0m\n\u001b[1;33m    if a%=3==28:\u001b[0m\n\u001b[1;37m        ^\u001b[0m\n\u001b[1;31mSyntaxError\u001b[0m\u001b[1;31m:\u001b[0m invalid syntax\n"
     ]
    }
   ],
   "source": [
    "a=eval(input('enter the your choice number: '))\n",
    "if a%=3==28:\n",
    "    print('a is even number:',a)\n",
    "else:\n",
    "    print('a is odd number:',a)"
   ]
  },
  {
   "cell_type": "code",
   "execution_count": 3,
   "id": "4513e930",
   "metadata": {},
   "outputs": [
    {
     "name": "stdout",
     "output_type": "stream",
     "text": [
      "enter the no 1\n",
      "it is a prime number\n"
     ]
    }
   ],
   "source": [
    "a=eval(input('enter the no ', ))\n",
    "if type(a)==float:\n",
    "    print('number is float can\\'t accept')\n",
    "elif a==1:\n",
    "    print('it is a prime number')\n",
    "elif a%2==0:\n",
    "    print('no is divsible by 2')\n",
    "elif a%3==0:\n",
    "    print('no is divisible by 3')\n",
    "elif a%5==0:\n",
    "    print('no is divisble by 5')\n",
    "elif a%7==0:\n",
    "    print('no is divisble by 7')   \n",
    "else:\n",
    "    print(f'no is prime number beacuse,it is divisble by 1 and itself {a}')\n"
   ]
  },
  {
   "cell_type": "code",
   "execution_count": 12,
   "id": "289aa5e0",
   "metadata": {},
   "outputs": [
    {
     "name": "stdout",
     "output_type": "stream",
     "text": [
      "Enter how many numbers you want to enter:3\n",
      "Enter the number: 11\n",
      "Enter the number: 22\n",
      "Enter the number: 33\n",
      "The greatest number is 33.0\n"
     ]
    }
   ],
   "source": [
    "n = int(input('Enter how many numbers you want to enter:'))\n",
    "a = float(input('Enter the number: '))\n",
    "x = 0\n",
    "\n",
    "for i in range(1,n):\n",
    "    b = float(input('Enter the number: '))\n",
    "    if b >= a:\n",
    "        x = b\n",
    "        a = b\n",
    "    else:\n",
    "        x = a\n",
    "        \n",
    "    n-=1\n",
    "    \n",
    "print(f'The greatest number is {x}')"
   ]
  },
  {
   "cell_type": "code",
   "execution_count": 10,
   "id": "01d16f11",
   "metadata": {},
   "outputs": [
    {
     "ename": "TypeError",
     "evalue": "'tuple' object cannot be interpreted as an integer",
     "output_type": "error",
     "traceback": [
      "\u001b[1;31m---------------------------------------------------------------------------\u001b[0m",
      "\u001b[1;31mTypeError\u001b[0m                                 Traceback (most recent call last)",
      "Input \u001b[1;32mIn [10]\u001b[0m, in \u001b[0;36m<cell line: 2>\u001b[1;34m()\u001b[0m\n\u001b[0;32m      1\u001b[0m n\u001b[38;5;241m=\u001b[39m\u001b[38;5;241m11\u001b[39m,\u001b[38;5;241m22\u001b[39m,\u001b[38;5;241m33\u001b[39m\n\u001b[1;32m----> 2\u001b[0m \u001b[38;5;28;01mfor\u001b[39;00m i \u001b[38;5;129;01min\u001b[39;00m \u001b[38;5;28;43mrange\u001b[39;49m\u001b[43m(\u001b[49m\u001b[38;5;241;43m1\u001b[39;49m\u001b[43m,\u001b[49m\u001b[43mn\u001b[49m\u001b[43m)\u001b[49m:\n\u001b[0;32m      3\u001b[0m     \u001b[38;5;28mprint\u001b[39m(i)\n",
      "\u001b[1;31mTypeError\u001b[0m: 'tuple' object cannot be interpreted as an integer"
     ]
    }
   ],
   "source": [
    "n=11,22,33\n",
    "for i in range(1,n):\n",
    "    print(i)"
   ]
  },
  {
   "cell_type": "code",
   "execution_count": 2,
   "id": "5f6a6a0b",
   "metadata": {},
   "outputs": [
    {
     "name": "stdout",
     "output_type": "stream",
     "text": [
      "Please Enter Your Percentage Here : 39\n",
      "Regret, but you have failed the exam.\n"
     ]
    }
   ],
   "source": [
    "x = eval(input('Please Enter Your Percentage Here : '))\n",
    "\n",
    "if x>=75:\n",
    "    print('Congratulations!! You have passed the exam with FIRST CLASS DISTINCTION.')\n",
    "elif x>=60 and x<75:\n",
    "    print('Congratulations!! You have passed the exam with FIRST CLASS.')\n",
    "elif x>=50 and x<60:\n",
    "    print('Congratulations!! You have passed the exam with SECOND CLASS.')\n",
    "elif x<40:\n",
    "    print(\"Regret, but you have failed the exam.\")"
   ]
  },
  {
   "cell_type": "code",
   "execution_count": 22,
   "id": "5d11fb2d",
   "metadata": {},
   "outputs": [
    {
     "name": "stdout",
     "output_type": "stream",
     "text": [
      "percentage marks obtained 101\n",
      "Sorry bro You are number is out of 100%\n",
      "Sorry bro You are number is out of 100%\n",
      "Sorry bro You are number 101 is out of 100%\n",
      "Sorry bro You are number 101 is out of 100%\n",
      "Sorry bro perc=101.000000 is\n"
     ]
    }
   ],
   "source": [
    "perc=eval(input('percentage marks obtained '))\n",
    "\n",
    "if perc>=70.00 and perc<=100.00: \n",
    "    print('1st class with dist')\n",
    "elif perc>=60.00 and perc<70.00: \n",
    "    print('1st class')\n",
    "elif perc>=50.00 and perc<60.00:\n",
    "    print('2nd class')\n",
    "elif perc>=40.00 and perc<50.00:\n",
    "    print('3rd class')\n",
    "elif perc>=00.00 and perc<40.00:\n",
    "    print('fail')\n",
    "else:\n",
    "    print(f'Sorry bro You are number is out of 100%')\n",
    "    print('Sorry bro You are number is out of 100%')\n",
    "    print('Sorry bro You are number',perc, 'is out of 100%')\n",
    "    print('Sorry bro You are number {} is out of 100%'.format(perc))\n",
    "    print('Sorry bro perc=%f is'%(perc))"
   ]
  },
  {
   "cell_type": "code",
   "execution_count": 7,
   "id": "bbd32207",
   "metadata": {},
   "outputs": [
    {
     "name": "stdout",
     "output_type": "stream",
     "text": [
      "Enter Marks:59\n",
      "Student is in Second Class: 59 %\n"
     ]
    }
   ],
   "source": [
    "marks = eval(input('Enter Marks:'))\n",
    "if(marks>=75):\n",
    "    print('Student is in Distinction:',marks,'%')\n",
    "elif(marks>=65):\n",
    "    print('Student is in First Class:',marks,'%')\n",
    "elif(marks>=55):\n",
    "    print('Student is in Second Class:',marks,'%')\n",
    "elif(marks>=35):\n",
    "    print('Student is  Pass:',marks,'%')\n",
    "elif(marks<=35):\n",
    "    print('Student is  Fail:',marks,'%')"
   ]
  },
  {
   "cell_type": "markdown",
   "id": "b6cad8e6",
   "metadata": {},
   "source": [
    "## short hand if else statement/Ternary Operator"
   ]
  },
  {
   "cell_type": "code",
   "execution_count": 23,
   "id": "ab31c05f",
   "metadata": {},
   "outputs": [
    {
     "name": "stdout",
     "output_type": "stream",
     "text": [
      "right a is less than b\n"
     ]
    }
   ],
   "source": [
    "#normal if else example\n",
    "\n",
    "a=34\n",
    "b=45\n",
    "if a<b:\n",
    "    print('right a is less than b')\n",
    "else:\n",
    "    print('no a is greater than b')"
   ]
  },
  {
   "cell_type": "markdown",
   "id": "b4233396",
   "metadata": {},
   "source": [
    "### when there is both a and b"
   ]
  },
  {
   "cell_type": "code",
   "execution_count": 24,
   "id": "2ed7f639",
   "metadata": {},
   "outputs": [
    {
     "name": "stdout",
     "output_type": "stream",
     "text": [
      "a is less than b\n"
     ]
    }
   ],
   "source": [
    "print('a is less than b')if a<b else print('a is greater than b')"
   ]
  },
  {
   "cell_type": "code",
   "execution_count": 25,
   "id": "b26e59e6",
   "metadata": {},
   "outputs": [
    {
     "name": "stdout",
     "output_type": "stream",
     "text": [
      "a is less than b\n"
     ]
    }
   ],
   "source": [
    "print('a is less than b' if a<b else 'a is greater than b')"
   ]
  },
  {
   "cell_type": "code",
   "execution_count": 30,
   "id": "2da40d34",
   "metadata": {},
   "outputs": [
    {
     "name": "stdout",
     "output_type": "stream",
     "text": [
      "right a is greater than 30\n"
     ]
    }
   ],
   "source": [
    "#normal if else example\n",
    "\n",
    "a=34\n",
    "if a>30:\n",
    "    print('right a is greater than 30')"
   ]
  },
  {
   "cell_type": "markdown",
   "id": "36b12846",
   "metadata": {},
   "source": [
    "### when there is only if"
   ]
  },
  {
   "cell_type": "code",
   "execution_count": 31,
   "id": "b0a22884",
   "metadata": {},
   "outputs": [
    {
     "name": "stdout",
     "output_type": "stream",
     "text": [
      "right a is greater than 30\n"
     ]
    }
   ],
   "source": [
    "if a>30:print('right a is greater than 30')"
   ]
  },
  {
   "cell_type": "code",
   "execution_count": 25,
   "id": "ee8ad92e",
   "metadata": {},
   "outputs": [
    {
     "ename": "SyntaxError",
     "evalue": "invalid syntax (2213153247.py, line 1)",
     "output_type": "error",
     "traceback": [
      "\u001b[1;36m  Input \u001b[1;32mIn [25]\u001b[1;36m\u001b[0m\n\u001b[1;33m    print('right a is greater than 34') if a>30\u001b[0m\n\u001b[1;37m                                               ^\u001b[0m\n\u001b[1;31mSyntaxError\u001b[0m\u001b[1;31m:\u001b[0m invalid syntax\n"
     ]
    }
   ],
   "source": [
    "print('right a is greater than 34') if a>30"
   ]
  },
  {
   "cell_type": "markdown",
   "id": "fd0aad35",
   "metadata": {},
   "source": [
    "## Nested if-else"
   ]
  },
  {
   "cell_type": "raw",
   "id": "6f03b3ef",
   "metadata": {},
   "source": [
    "if >> else\n",
    "if >> elif >> else"
   ]
  },
  {
   "cell_type": "raw",
   "id": "4fd060a8",
   "metadata": {},
   "source": [
    "for normal if else\n",
    "\n",
    "if condition:\n",
    "    statement1\n",
    "elif condition:\n",
    "     statement2\n",
    "else:\n",
    "    statement3"
   ]
  },
  {
   "cell_type": "raw",
   "id": "067b7af4",
   "metadata": {},
   "source": [
    "for nested if else\n",
    "if condition: #if this statement true it will go in next if statement.otherwise if statement wrong it will go direct last else.\n",
    "    statement1\n",
    "    if condition:\n",
    "        statement2\n",
    "    else:\n",
    "        statement3\n",
    "else:\n",
    "    statement4"
   ]
  },
  {
   "cell_type": "code",
   "execution_count": 11,
   "id": "968b0151",
   "metadata": {},
   "outputs": [
    {
     "name": "stdout",
     "output_type": "stream",
     "text": [
      "a is greater than 50\n",
      "a is either equal to 60 or greater than 60\n"
     ]
    }
   ],
   "source": [
    "a = 60\n",
    "if a>50:#true\n",
    "    print('a is greater than 50')\n",
    "    if a>=60:#true\n",
    "        print('a is either equal to 60 or greater than 60')\n",
    "    else:\n",
    "        print('a is less than 60')\n",
    "elif a>50:\n",
    "    print('a is greater than 50')\n",
    "    if a>=40:\n",
    "        print('a is either equal to 40 or greater than 40')\n",
    "else:\n",
    "    print('a is equal to 60')\n",
    "        "
   ]
  },
  {
   "cell_type": "code",
   "execution_count": 13,
   "id": "b900a508",
   "metadata": {},
   "outputs": [
    {
     "name": "stdout",
     "output_type": "stream",
     "text": [
      "a is greater than 50\n",
      "a is either equal to 60 or greater than 60\n",
      "a is greater than 50\n"
     ]
    }
   ],
   "source": [
    "a = 60\n",
    "if a>50:#true\n",
    "    print('a is greater than 50')\n",
    "    if a>=60:#true\n",
    "        print('a is either equal to 60 or greater than 60')\n",
    "        if a>50:#true\n",
    "            print('a is greater than 50')\n",
    "    else:\n",
    "        print('a is less than 60')\n",
    "elif a>50:\n",
    "    print('a is less than 50')\n",
    "    if a>=40:\n",
    "        print('a is either equal to 40 or greater than 40')\n",
    "else:\n",
    "    print('a is equal to 60')\n",
    "        "
   ]
  },
  {
   "cell_type": "code",
   "execution_count": 14,
   "id": "b3a2af5c",
   "metadata": {},
   "outputs": [
    {
     "name": "stdout",
     "output_type": "stream",
     "text": [
      "a is greater than 50\n",
      "a is either equal to 60 or greater than 60\n"
     ]
    }
   ],
   "source": [
    "a = 60\n",
    "if a>50:#true\n",
    "    print('a is greater than 50')\n",
    "    if a>=60:#true\n",
    "        print('a is either equal to 60 or greater than 60')\n",
    "        if a<50:#false\n",
    "            print('a is greater than 50')\n",
    "    else:\n",
    "        print('a is less than 60')\n",
    "elif a>50:\n",
    "    print('a is less than 50')\n",
    "    if a>=40:\n",
    "        print('a is either equal to 40 or greater than 40')\n",
    "else:\n",
    "    print('a is equal to 60')\n",
    "        "
   ]
  },
  {
   "cell_type": "code",
   "execution_count": 17,
   "id": "8200fd32",
   "metadata": {},
   "outputs": [
    {
     "name": "stdout",
     "output_type": "stream",
     "text": [
      "a is greater than 50\n",
      "a is less than 60\n"
     ]
    }
   ],
   "source": [
    "a = 60\n",
    "if a>50:#true\n",
    "    print('a is greater than 50')\n",
    "    if a<60:#false\n",
    "        print('a is either equal to 60 or greater than 60')\n",
    "        if a>50:#true\n",
    "            print('a is greater or than 50')\n",
    "    else:\n",
    "        print('a is less than 60')\n",
    "elif a>50:\n",
    "    print('a is less than 50')\n",
    "    if a>=40:\n",
    "        print('a is either equal to 40 or greater than 40')\n",
    "else:\n",
    "    print('a is equal to 60')\n",
    "        "
   ]
  },
  {
   "cell_type": "code",
   "execution_count": 2,
   "id": "0c425b59",
   "metadata": {},
   "outputs": [
    {
     "name": "stdout",
     "output_type": "stream",
     "text": [
      "a is greater than 50\n",
      "a is less than 60\n"
     ]
    }
   ],
   "source": [
    "a = 60\n",
    "if a>50:#true\n",
    "    print('a is greater than 50')\n",
    "    if a<60:#false\n",
    "        print('a is either equal to 60 or greater than 60')\n",
    "    else:\n",
    "        print('a is less than 60')\n",
    "elif a>50:\n",
    "    print('a is less than 50')\n",
    "    if a>=40:\n",
    "        print('a is either equal to 40 or greater than 40')\n",
    "else:\n",
    "    print('a is equal to 60')\n",
    "        "
   ]
  },
  {
   "cell_type": "code",
   "execution_count": 5,
   "id": "097796bf",
   "metadata": {},
   "outputs": [
    {
     "name": "stdout",
     "output_type": "stream",
     "text": [
      "a is greater than 50\n"
     ]
    }
   ],
   "source": [
    "a = 60\n",
    "if a>50:#true\n",
    "    print('a is greater than 50')\n",
    "elif a>50:\n",
    "    print('a is less than 50')\n",
    "    if a>=40:\n",
    "        print('a is either equal to 40 or greater than 40')\n",
    "else:\n",
    "    print('a is equal to 60')\n",
    "        "
   ]
  },
  {
   "cell_type": "code",
   "execution_count": 10,
   "id": "69731587",
   "metadata": {},
   "outputs": [
    {
     "name": "stdout",
     "output_type": "stream",
     "text": [
      "a is greater than 50\n",
      "a is either equal to 40 or greater than 40\n"
     ]
    }
   ],
   "source": [
    "a = 60\n",
    "if a<50:#false\n",
    "    print('a is greater than 50')\n",
    "    if a>=60:#true\n",
    "        print('a is either equal to 60 or greater than 60')\n",
    "    else:\n",
    "        print('a is less than 60')\n",
    "elif a>50: # true\n",
    "    print('a is greater than 50')\n",
    "    if a>=40:#true\n",
    "        print('a is either equal to 40 or greater than 40')\n",
    "else:\n",
    "    print('a is equal to 60')\n",
    "        "
   ]
  },
  {
   "cell_type": "code",
   "execution_count": 32,
   "id": "ed078101",
   "metadata": {},
   "outputs": [
    {
     "name": "stdout",
     "output_type": "stream",
     "text": [
      "a is greater than 50\n"
     ]
    }
   ],
   "source": [
    "a = 60\n",
    "if a<50:#false\n",
    "    print('a is greater than 50')\n",
    "    if a>=60:#true\n",
    "        print('a is either equal to 60 or greater than 60')\n",
    "    else:\n",
    "        print('a is less than 60')\n",
    "elif a>50: # true\n",
    "    print('a is greater than 50')\n",
    "    if a>60:#false\n",
    "        print('a is either equal to 40 or greater than 40')\n",
    "else:\n",
    "    print('a is equal to 60')\n",
    "        "
   ]
  },
  {
   "cell_type": "code",
   "execution_count": 21,
   "id": "a59668a9",
   "metadata": {},
   "outputs": [
    {
     "name": "stdout",
     "output_type": "stream",
     "text": [
      "a is equal to 60\n"
     ]
    }
   ],
   "source": [
    "a = 60\n",
    "if a<50:#false\n",
    "    print('a is greater than 50')\n",
    "    if a>=60:#true\n",
    "        print('a is either equal to 60 or greater than 60')\n",
    "    else:\n",
    "        print('a is less than 60')\n",
    "elif a<50: # false\n",
    "    print('a is greater than 50')\n",
    "    if a>=40:#true\n",
    "        print('a is either equal to 40 or greater than 40')\n",
    "else:\n",
    "    print('a is equal to 60')\n",
    "        "
   ]
  },
  {
   "cell_type": "code",
   "execution_count": null,
   "id": "beee914e",
   "metadata": {},
   "outputs": [],
   "source": []
  }
 ],
 "metadata": {
  "kernelspec": {
   "display_name": "Python 3 (ipykernel)",
   "language": "python",
   "name": "python3"
  },
  "language_info": {
   "codemirror_mode": {
    "name": "ipython",
    "version": 3
   },
   "file_extension": ".py",
   "mimetype": "text/x-python",
   "name": "python",
   "nbconvert_exporter": "python",
   "pygments_lexer": "ipython3",
   "version": "3.9.12"
  }
 },
 "nbformat": 4,
 "nbformat_minor": 5
}
