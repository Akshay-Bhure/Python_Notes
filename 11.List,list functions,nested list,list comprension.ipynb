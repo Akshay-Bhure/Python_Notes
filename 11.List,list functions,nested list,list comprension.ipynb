{
 "cells": [
  {
   "cell_type": "markdown",
   "id": "f7022f4d",
   "metadata": {},
   "source": [
    "## chr()"
   ]
  },
  {
   "cell_type": "raw",
   "id": "0fd40054",
   "metadata": {},
   "source": [
    "which transform ASCII value to characters (ASCII-american standard code for information interchange)\n",
    "Range for ASCII value from 65-90 [A-Z]\n",
    "Range for ASCII value from 97-122 [a-z]\n",
    "range for ASCIT value from 91-96 [ [,\\,],^,_,` ]\n"
   ]
  },
  {
   "cell_type": "code",
   "execution_count": 57,
   "id": "6e137072",
   "metadata": {},
   "outputs": [
    {
     "data": {
      "text/plain": [
       "'Z'"
      ]
     },
     "execution_count": 57,
     "metadata": {},
     "output_type": "execute_result"
    }
   ],
   "source": [
    "chr(90)"
   ]
  },
  {
   "cell_type": "code",
   "execution_count": 58,
   "id": "54f90d27",
   "metadata": {},
   "outputs": [
    {
     "name": "stdout",
     "output_type": "stream",
     "text": [
      "Z\n"
     ]
    }
   ],
   "source": [
    "print(chr(90))"
   ]
  },
  {
   "cell_type": "code",
   "execution_count": 59,
   "id": "6f6870a3",
   "metadata": {},
   "outputs": [
    {
     "data": {
      "text/plain": [
       "'A'"
      ]
     },
     "execution_count": 59,
     "metadata": {},
     "output_type": "execute_result"
    }
   ],
   "source": [
    "chr(65)"
   ]
  },
  {
   "cell_type": "code",
   "execution_count": 60,
   "id": "ac293944",
   "metadata": {},
   "outputs": [
    {
     "data": {
      "text/plain": [
       "'O'"
      ]
     },
     "execution_count": 60,
     "metadata": {},
     "output_type": "execute_result"
    }
   ],
   "source": [
    "chr(79)"
   ]
  },
  {
   "cell_type": "code",
   "execution_count": 61,
   "id": "3162ea74",
   "metadata": {},
   "outputs": [
    {
     "data": {
      "text/plain": [
       "'a'"
      ]
     },
     "execution_count": 61,
     "metadata": {},
     "output_type": "execute_result"
    }
   ],
   "source": [
    "chr(97)"
   ]
  },
  {
   "cell_type": "code",
   "execution_count": 62,
   "id": "9fae6a6e",
   "metadata": {},
   "outputs": [
    {
     "data": {
      "text/plain": [
       "'z'"
      ]
     },
     "execution_count": 62,
     "metadata": {},
     "output_type": "execute_result"
    }
   ],
   "source": [
    "chr(122)"
   ]
  },
  {
   "cell_type": "code",
   "execution_count": 63,
   "id": "c99a1616",
   "metadata": {},
   "outputs": [
    {
     "name": "stdout",
     "output_type": "stream",
     "text": [
      "m\n"
     ]
    }
   ],
   "source": [
    "print(chr(109))"
   ]
  },
  {
   "cell_type": "code",
   "execution_count": 64,
   "id": "e0ae3ebe",
   "metadata": {},
   "outputs": [
    {
     "data": {
      "text/plain": [
       "('[', '\\\\')"
      ]
     },
     "execution_count": 64,
     "metadata": {},
     "output_type": "execute_result"
    }
   ],
   "source": [
    "chr(91),chr(92)"
   ]
  },
  {
   "cell_type": "code",
   "execution_count": 65,
   "id": "ceb2115d",
   "metadata": {},
   "outputs": [
    {
     "data": {
      "text/plain": [
       "'`'"
      ]
     },
     "execution_count": 65,
     "metadata": {},
     "output_type": "execute_result"
    }
   ],
   "source": [
    "chr(96)"
   ]
  },
  {
   "cell_type": "markdown",
   "id": "4c8ed54e",
   "metadata": {},
   "source": [
    "## ord()"
   ]
  },
  {
   "cell_type": "raw",
   "id": "8993ad7d",
   "metadata": {},
   "source": [
    "It converts character into an ASCII value"
   ]
  },
  {
   "cell_type": "code",
   "execution_count": 66,
   "id": "6fda1361",
   "metadata": {},
   "outputs": [
    {
     "data": {
      "text/plain": [
       "69"
      ]
     },
     "execution_count": 66,
     "metadata": {},
     "output_type": "execute_result"
    }
   ],
   "source": [
    "ord('E')"
   ]
  },
  {
   "cell_type": "code",
   "execution_count": 67,
   "id": "f1c91bef",
   "metadata": {},
   "outputs": [
    {
     "name": "stdout",
     "output_type": "stream",
     "text": [
      "101\n"
     ]
    }
   ],
   "source": [
    "print(ord('e'))"
   ]
  },
  {
   "cell_type": "code",
   "execution_count": 68,
   "id": "d0f71217",
   "metadata": {},
   "outputs": [
    {
     "data": {
      "text/plain": [
       "88"
      ]
     },
     "execution_count": 68,
     "metadata": {},
     "output_type": "execute_result"
    }
   ],
   "source": [
    "ord('X')"
   ]
  },
  {
   "cell_type": "code",
   "execution_count": 69,
   "id": "b409eb7e",
   "metadata": {},
   "outputs": [
    {
     "data": {
      "text/plain": [
       "118"
      ]
     },
     "execution_count": 69,
     "metadata": {},
     "output_type": "execute_result"
    }
   ],
   "source": [
    "ord('v')"
   ]
  },
  {
   "cell_type": "markdown",
   "id": "7ca77526",
   "metadata": {},
   "source": [
    "## range()"
   ]
  },
  {
   "cell_type": "raw",
   "id": "5264ac31",
   "metadata": {},
   "source": [
    "range(start_index, end_index, step_size)# end index is excluded"
   ]
  },
  {
   "cell_type": "code",
   "execution_count": 15,
   "id": "01438d88",
   "metadata": {},
   "outputs": [
    {
     "data": {
      "text/plain": [
       "range(0, 10)"
      ]
     },
     "execution_count": 15,
     "metadata": {},
     "output_type": "execute_result"
    }
   ],
   "source": [
    "range(0,10)"
   ]
  },
  {
   "cell_type": "code",
   "execution_count": 70,
   "id": "a4c837d3",
   "metadata": {},
   "outputs": [
    {
     "data": {
      "text/plain": [
       "[0, 1, 2, 3, 4, 5, 6, 7, 8, 9]"
      ]
     },
     "execution_count": 70,
     "metadata": {},
     "output_type": "execute_result"
    }
   ],
   "source": [
    "list(range(0,10))"
   ]
  },
  {
   "cell_type": "code",
   "execution_count": 71,
   "id": "31689b56",
   "metadata": {},
   "outputs": [
    {
     "name": "stdout",
     "output_type": "stream",
     "text": [
      "[0, 1, 2, 3, 4, 5, 6, 7, 8, 9]\n"
     ]
    }
   ],
   "source": [
    "print(list(range(0,10)))"
   ]
  },
  {
   "cell_type": "code",
   "execution_count": 72,
   "id": "24d58052",
   "metadata": {},
   "outputs": [
    {
     "data": {
      "text/plain": [
       "[1, 2, 3, 4, 5, 6, 7, 8, 9]"
      ]
     },
     "execution_count": 72,
     "metadata": {},
     "output_type": "execute_result"
    }
   ],
   "source": [
    "list(range(1,10))"
   ]
  },
  {
   "cell_type": "code",
   "execution_count": 73,
   "id": "189df08e",
   "metadata": {},
   "outputs": [
    {
     "data": {
      "text/plain": [
       "[0, 1, 2, 3, 4, 5, 6, 7, 8, 9]"
      ]
     },
     "execution_count": 73,
     "metadata": {},
     "output_type": "execute_result"
    }
   ],
   "source": [
    "list(range(10))"
   ]
  },
  {
   "cell_type": "code",
   "execution_count": 74,
   "id": "84dc8ef8",
   "metadata": {},
   "outputs": [
    {
     "data": {
      "text/plain": [
       "range(1, 100)"
      ]
     },
     "execution_count": 74,
     "metadata": {},
     "output_type": "execute_result"
    }
   ],
   "source": [
    "range(1,100)"
   ]
  },
  {
   "cell_type": "code",
   "execution_count": 75,
   "id": "bfccd863",
   "metadata": {},
   "outputs": [
    {
     "name": "stdout",
     "output_type": "stream",
     "text": [
      "[0, 1, 2, 3, 4, 5, 6, 7, 8, 9, 10, 11, 12, 13, 14, 15, 16, 17, 18, 19, 20, 21, 22, 23, 24, 25, 26, 27, 28, 29, 30, 31, 32, 33, 34, 35, 36, 37, 38, 39, 40, 41, 42, 43, 44, 45, 46, 47, 48, 49]\n"
     ]
    }
   ],
   "source": [
    "print(list(range(50)))"
   ]
  },
  {
   "cell_type": "code",
   "execution_count": 76,
   "id": "c7ce68a2",
   "metadata": {},
   "outputs": [
    {
     "name": "stdout",
     "output_type": "stream",
     "text": [
      "[0, 1, 2, 3, 4, 5, 6, 7, 8, 9, 10, 11, 12, 13, 14, 15, 16, 17, 18, 19, 20, 21, 22, 23, 24, 25, 26, 27, 28, 29, 30, 31, 32, 33, 34, 35, 36, 37, 38, 39, 40, 41, 42, 43, 44, 45, 46, 47, 48, 49, 50, 51, 52, 53, 54, 55, 56, 57, 58, 59, 60, 61, 62, 63, 64, 65, 66, 67, 68, 69, 70, 71, 72, 73, 74, 75, 76, 77, 78, 79, 80, 81, 82, 83, 84, 85, 86, 87, 88, 89, 90, 91, 92, 93, 94, 95, 96, 97, 98, 99]\n"
     ]
    }
   ],
   "source": [
    "print(list(range(0,100)))"
   ]
  },
  {
   "cell_type": "code",
   "execution_count": 77,
   "id": "032a2217",
   "metadata": {},
   "outputs": [
    {
     "name": "stdout",
     "output_type": "stream",
     "text": [
      "[0, 1, 2, 3, 4, 5, 6, 7, 8, 9, 10, 11, 12, 13, 14, 15, 16, 17, 18, 19, 20, 21, 22, 23, 24, 25, 26, 27, 28, 29, 30, 31, 32, 33, 34, 35, 36, 37, 38, 39, 40, 41, 42, 43, 44, 45, 46, 47, 48, 49]\n",
      "None\n"
     ]
    }
   ],
   "source": [
    "print(print(list(range(50))))"
   ]
  },
  {
   "cell_type": "code",
   "execution_count": 78,
   "id": "e5e9cabe",
   "metadata": {},
   "outputs": [
    {
     "data": {
      "text/plain": [
       "[0,\n",
       " 1,\n",
       " 2,\n",
       " 3,\n",
       " 4,\n",
       " 5,\n",
       " 6,\n",
       " 7,\n",
       " 8,\n",
       " 9,\n",
       " 10,\n",
       " 11,\n",
       " 12,\n",
       " 13,\n",
       " 14,\n",
       " 15,\n",
       " 16,\n",
       " 17,\n",
       " 18,\n",
       " 19,\n",
       " 20,\n",
       " 21,\n",
       " 22,\n",
       " 23,\n",
       " 24,\n",
       " 25,\n",
       " 26,\n",
       " 27,\n",
       " 28,\n",
       " 29,\n",
       " 30,\n",
       " 31,\n",
       " 32,\n",
       " 33,\n",
       " 34,\n",
       " 35,\n",
       " 36,\n",
       " 37,\n",
       " 38,\n",
       " 39,\n",
       " 40,\n",
       " 41,\n",
       " 42,\n",
       " 43,\n",
       " 44,\n",
       " 45,\n",
       " 46,\n",
       " 47,\n",
       " 48,\n",
       " 49]"
      ]
     },
     "execution_count": 78,
     "metadata": {},
     "output_type": "execute_result"
    }
   ],
   "source": [
    "list(range(0,50))"
   ]
  },
  {
   "cell_type": "code",
   "execution_count": 79,
   "id": "64217577",
   "metadata": {},
   "outputs": [
    {
     "data": {
      "text/plain": [
       "[0,\n",
       " 1,\n",
       " 2,\n",
       " 3,\n",
       " 4,\n",
       " 5,\n",
       " 6,\n",
       " 7,\n",
       " 8,\n",
       " 9,\n",
       " 10,\n",
       " 11,\n",
       " 12,\n",
       " 13,\n",
       " 14,\n",
       " 15,\n",
       " 16,\n",
       " 17,\n",
       " 18,\n",
       " 19,\n",
       " 20,\n",
       " 21,\n",
       " 22,\n",
       " 23,\n",
       " 24,\n",
       " 25,\n",
       " 26,\n",
       " 27,\n",
       " 28,\n",
       " 29,\n",
       " 30,\n",
       " 31,\n",
       " 32,\n",
       " 33,\n",
       " 34,\n",
       " 35,\n",
       " 36,\n",
       " 37,\n",
       " 38,\n",
       " 39,\n",
       " 40,\n",
       " 41,\n",
       " 42,\n",
       " 43,\n",
       " 44,\n",
       " 45,\n",
       " 46,\n",
       " 47,\n",
       " 48,\n",
       " 49]"
      ]
     },
     "execution_count": 79,
     "metadata": {},
     "output_type": "execute_result"
    }
   ],
   "source": [
    "list(range(50))"
   ]
  },
  {
   "cell_type": "code",
   "execution_count": 80,
   "id": "3790bb66",
   "metadata": {},
   "outputs": [
    {
     "data": {
      "text/plain": [
       "[1,\n",
       " 3,\n",
       " 5,\n",
       " 7,\n",
       " 9,\n",
       " 11,\n",
       " 13,\n",
       " 15,\n",
       " 17,\n",
       " 19,\n",
       " 21,\n",
       " 23,\n",
       " 25,\n",
       " 27,\n",
       " 29,\n",
       " 31,\n",
       " 33,\n",
       " 35,\n",
       " 37,\n",
       " 39,\n",
       " 41,\n",
       " 43,\n",
       " 45,\n",
       " 47,\n",
       " 49]"
      ]
     },
     "execution_count": 80,
     "metadata": {},
     "output_type": "execute_result"
    }
   ],
   "source": [
    "list(range(1,50,2))"
   ]
  },
  {
   "cell_type": "code",
   "execution_count": 7,
   "id": "0fef2d3a",
   "metadata": {},
   "outputs": [
    {
     "name": "stdout",
     "output_type": "stream",
     "text": [
      "m 0\n",
      "y 1\n",
      "  2\n",
      "n 3\n",
      "a 4\n",
      "m 5\n",
      "e 6\n"
     ]
    }
   ],
   "source": [
    "a='my name'\n",
    "index=0\n",
    "for i in a:\n",
    "    print(i,index)\n",
    "    index=index+1"
   ]
  },
  {
   "cell_type": "code",
   "execution_count": 17,
   "id": "168dfbb6",
   "metadata": {},
   "outputs": [
    {
     "name": "stdout",
     "output_type": "stream",
     "text": [
      "m 1\n",
      "y 1\n",
      "  1\n",
      "n 1\n",
      "a 1\n",
      "m 1\n",
      "e 1\n"
     ]
    }
   ],
   "source": [
    "a='my name'\n",
    "for i in a:\n",
    "    print(i,len(i))              "
   ]
  },
  {
   "cell_type": "code",
   "execution_count": 9,
   "id": "3316c967",
   "metadata": {},
   "outputs": [
    {
     "name": "stdout",
     "output_type": "stream",
     "text": [
      "m 7\n",
      "y 7\n",
      "  7\n",
      "n 7\n",
      "a 7\n",
      "m 7\n",
      "e 7\n"
     ]
    }
   ],
   "source": [
    "a='my name'\n",
    "for i in a:\n",
    "    print(i,len(a))              "
   ]
  },
  {
   "cell_type": "code",
   "execution_count": 1,
   "id": "ce5d6dc2",
   "metadata": {
    "scrolled": true
   },
   "outputs": [
    {
     "name": "stdout",
     "output_type": "stream",
     "text": [
      "1\n",
      "1\n",
      "1\n",
      "1\n",
      "1\n",
      "1\n",
      "1\n"
     ]
    }
   ],
   "source": [
    "a='my name'\n",
    "for i in a:\n",
    "    print(i.count(i))              "
   ]
  },
  {
   "cell_type": "code",
   "execution_count": 2,
   "id": "3b742f3c",
   "metadata": {},
   "outputs": [
    {
     "name": "stdout",
     "output_type": "stream",
     "text": [
      "2\n",
      "1\n",
      "1\n",
      "1\n",
      "1\n",
      "2\n",
      "1\n"
     ]
    }
   ],
   "source": [
    "a='my name'\n",
    "for i in a:\n",
    "    print(a.count(i))              "
   ]
  },
  {
   "cell_type": "code",
   "execution_count": 21,
   "id": "5f0f31fc",
   "metadata": {},
   "outputs": [
    {
     "name": "stdout",
     "output_type": "stream",
     "text": [
      "0\n",
      "0\n",
      "0\n",
      "0\n",
      "0\n",
      "0\n",
      "0\n"
     ]
    }
   ],
   "source": [
    "a='my name'\n",
    "for i in a:\n",
    "    print(i.count(a))              "
   ]
  },
  {
   "cell_type": "code",
   "execution_count": 7,
   "id": "7e08d476",
   "metadata": {},
   "outputs": [
    {
     "name": "stdout",
     "output_type": "stream",
     "text": [
      "m y   n a m e "
     ]
    }
   ],
   "source": [
    "a='my name'\n",
    "for i in a:\n",
    "    print(i,end=' ')"
   ]
  },
  {
   "cell_type": "code",
   "execution_count": 2,
   "id": "c322c5db",
   "metadata": {},
   "outputs": [
    {
     "name": "stdout",
     "output_type": "stream",
     "text": [
      "0 1 2 3 4 5 6 "
     ]
    }
   ],
   "source": [
    "a='my name'\n",
    "for i in range(0,len(a)):\n",
    "    print(i,end=' ')"
   ]
  },
  {
   "cell_type": "code",
   "execution_count": 2,
   "id": "490a5b5a",
   "metadata": {},
   "outputs": [
    {
     "name": "stdout",
     "output_type": "stream",
     "text": [
      "enter your string 'my name'\n",
      "0 1 2 3 4 5 6 7 8 "
     ]
    }
   ],
   "source": [
    "a=str(input('enter your string '))\n",
    "for i in range(0,len(a)):\n",
    "    print(i,end=' ')"
   ]
  },
  {
   "cell_type": "code",
   "execution_count": 4,
   "id": "2f8d2a98",
   "metadata": {},
   "outputs": [
    {
     "name": "stdout",
     "output_type": "stream",
     "text": [
      "enter your number 24\n",
      "1 2 3 4 5 6 7 8 9 10 11 12 13 14 15 16 17 18 19 20 21 22 23 "
     ]
    }
   ],
   "source": [
    "a=eval(input('enter your number '))\n",
    "for i in range(1,a):\n",
    "    print(i,end=' ')"
   ]
  },
  {
   "cell_type": "code",
   "execution_count": 3,
   "id": "b0cf2914",
   "metadata": {},
   "outputs": [
    {
     "ename": "TypeError",
     "evalue": "object of type 'int' has no len()",
     "output_type": "error",
     "traceback": [
      "\u001b[1;31m---------------------------------------------------------------------------\u001b[0m",
      "\u001b[1;31mTypeError\u001b[0m                                 Traceback (most recent call last)",
      "Input \u001b[1;32mIn [3]\u001b[0m, in \u001b[0;36m<cell line: 2>\u001b[1;34m()\u001b[0m\n\u001b[0;32m      1\u001b[0m a\u001b[38;5;241m=\u001b[39m\u001b[38;5;241m34\u001b[39m\n\u001b[1;32m----> 2\u001b[0m \u001b[38;5;28;01mfor\u001b[39;00m i \u001b[38;5;129;01min\u001b[39;00m \u001b[38;5;28mrange\u001b[39m(\u001b[38;5;28;43mlen\u001b[39;49m\u001b[43m(\u001b[49m\u001b[43ma\u001b[49m\u001b[43m)\u001b[49m):\n\u001b[0;32m      3\u001b[0m     \u001b[38;5;28mprint\u001b[39m(i,end\u001b[38;5;241m=\u001b[39m\u001b[38;5;124m'\u001b[39m\u001b[38;5;124m \u001b[39m\u001b[38;5;124m'\u001b[39m)\n",
      "\u001b[1;31mTypeError\u001b[0m: object of type 'int' has no len()"
     ]
    }
   ],
   "source": [
    "a=34\n",
    "for i in range(0,len(a)):\n",
    "    print(i,end=' ')"
   ]
  },
  {
   "cell_type": "code",
   "execution_count": 18,
   "id": "67b7a9eb",
   "metadata": {},
   "outputs": [
    {
     "name": "stdout",
     "output_type": "stream",
     "text": [
      "0 1 2 3 4 5 6 7 8 9 10 11 12 13 14 15 16 17 18 19 20 21 22 23 24 25 26 27 28 29 30 31 32 33 "
     ]
    }
   ],
   "source": [
    "a=34\n",
    "for i in range(0,a):\n",
    "    print(i,end=' ')"
   ]
  },
  {
   "cell_type": "code",
   "execution_count": 15,
   "id": "bf8b256b",
   "metadata": {},
   "outputs": [
    {
     "name": "stdout",
     "output_type": "stream",
     "text": [
      "0 1 2 3 "
     ]
    }
   ],
   "source": [
    "a=34,4,35,6\n",
    "for i in range(len(a)):\n",
    "    print(i,end=' ')"
   ]
  },
  {
   "cell_type": "code",
   "execution_count": 1,
   "id": "091b8c52",
   "metadata": {},
   "outputs": [
    {
     "name": "stdout",
     "output_type": "stream",
     "text": [
      "0 1 2 3 4 5 6 "
     ]
    }
   ],
   "source": [
    "a='my name'\n",
    "for i in range(0,len(a)):\n",
    "    print(i,end=' ')"
   ]
  },
  {
   "cell_type": "code",
   "execution_count": 5,
   "id": "032a9fa2",
   "metadata": {},
   "outputs": [
    {
     "ename": "TypeError",
     "evalue": "'str' object cannot be interpreted as an integer",
     "output_type": "error",
     "traceback": [
      "\u001b[1;31m---------------------------------------------------------------------------\u001b[0m",
      "\u001b[1;31mTypeError\u001b[0m                                 Traceback (most recent call last)",
      "Input \u001b[1;32mIn [5]\u001b[0m, in \u001b[0;36m<cell line: 2>\u001b[1;34m()\u001b[0m\n\u001b[0;32m      1\u001b[0m a\u001b[38;5;241m=\u001b[39m\u001b[38;5;124m'\u001b[39m\u001b[38;5;124mmy name\u001b[39m\u001b[38;5;124m'\u001b[39m\n\u001b[1;32m----> 2\u001b[0m \u001b[38;5;28;01mfor\u001b[39;00m i \u001b[38;5;129;01min\u001b[39;00m \u001b[38;5;28;43mrange\u001b[39;49m\u001b[43m(\u001b[49m\u001b[38;5;241;43m0\u001b[39;49m\u001b[43m,\u001b[49m\u001b[43ma\u001b[49m\u001b[43m)\u001b[49m:\n\u001b[0;32m      3\u001b[0m     \u001b[38;5;28mprint\u001b[39m(i,end\u001b[38;5;241m=\u001b[39m\u001b[38;5;124m'\u001b[39m\u001b[38;5;124m \u001b[39m\u001b[38;5;124m'\u001b[39m)\n",
      "\u001b[1;31mTypeError\u001b[0m: 'str' object cannot be interpreted as an integer"
     ]
    }
   ],
   "source": [
    "a='my name'\n",
    "for i in range(0,a):\n",
    "    print(i,end=' ')"
   ]
  },
  {
   "cell_type": "code",
   "execution_count": 3,
   "id": "57566ce9",
   "metadata": {},
   "outputs": [
    {
     "name": "stdout",
     "output_type": "stream",
     "text": [
      "enter your number8\n"
     ]
    },
    {
     "ename": "TypeError",
     "evalue": "object of type 'int' has no len()",
     "output_type": "error",
     "traceback": [
      "\u001b[1;31m---------------------------------------------------------------------------\u001b[0m",
      "\u001b[1;31mTypeError\u001b[0m                                 Traceback (most recent call last)",
      "Input \u001b[1;32mIn [3]\u001b[0m, in \u001b[0;36m<cell line: 2>\u001b[1;34m()\u001b[0m\n\u001b[0;32m      1\u001b[0m a\u001b[38;5;241m=\u001b[39m\u001b[38;5;28meval\u001b[39m(\u001b[38;5;28minput\u001b[39m(\u001b[38;5;124m'\u001b[39m\u001b[38;5;124menter your number\u001b[39m\u001b[38;5;124m'\u001b[39m))\n\u001b[1;32m----> 2\u001b[0m \u001b[38;5;28;01mfor\u001b[39;00m i \u001b[38;5;129;01min\u001b[39;00m \u001b[38;5;28mrange\u001b[39m(\u001b[38;5;241m1\u001b[39m,\u001b[38;5;28;43mlen\u001b[39;49m\u001b[43m(\u001b[49m\u001b[43ma\u001b[49m\u001b[43m)\u001b[49m):\n\u001b[0;32m      3\u001b[0m     \u001b[38;5;28mprint\u001b[39m(i,end\u001b[38;5;241m=\u001b[39m\u001b[38;5;124m'\u001b[39m\u001b[38;5;124m \u001b[39m\u001b[38;5;124m'\u001b[39m)\n",
      "\u001b[1;31mTypeError\u001b[0m: object of type 'int' has no len()"
     ]
    }
   ],
   "source": [
    "a=eval(input('enter your number'))\n",
    "for i in range(1,len(a)):\n",
    "    print(i,end=' ')"
   ]
  },
  {
   "cell_type": "code",
   "execution_count": 81,
   "id": "247418af",
   "metadata": {},
   "outputs": [
    {
     "name": "stdout",
     "output_type": "stream",
     "text": [
      "[1, 3, 5, 7, 9, 11, 13, 15, 17, 19, 21, 23, 25, 27, 29, 31, 33, 35, 37, 39, 41, 43, 45, 47, 49]\n"
     ]
    }
   ],
   "source": [
    "print(list(range(1,50,2)))"
   ]
  },
  {
   "cell_type": "code",
   "execution_count": 82,
   "id": "683831d6",
   "metadata": {},
   "outputs": [
    {
     "name": "stdout",
     "output_type": "stream",
     "text": [
      "A\n",
      "B\n",
      "C\n",
      "D\n",
      "E\n",
      "F\n",
      "G\n",
      "H\n",
      "I\n",
      "J\n",
      "K\n",
      "L\n",
      "M\n",
      "N\n",
      "O\n",
      "P\n",
      "Q\n",
      "R\n",
      "S\n",
      "T\n",
      "U\n",
      "V\n",
      "W\n",
      "X\n",
      "Y\n",
      "Z\n"
     ]
    }
   ],
   "source": [
    "for i in range(65,91):\n",
    "    print(chr(i))"
   ]
  },
  {
   "cell_type": "code",
   "execution_count": 83,
   "id": "4a31c734",
   "metadata": {},
   "outputs": [
    {
     "name": "stdout",
     "output_type": "stream",
     "text": [
      "a\n",
      "b\n",
      "c\n",
      "d\n",
      "e\n",
      "f\n",
      "g\n",
      "h\n",
      "i\n",
      "j\n",
      "k\n",
      "l\n",
      "m\n",
      "n\n",
      "o\n",
      "p\n",
      "q\n",
      "r\n",
      "s\n",
      "t\n",
      "u\n",
      "v\n",
      "w\n",
      "x\n",
      "y\n",
      "z\n"
     ]
    }
   ],
   "source": [
    "for letter in range(97,123):\n",
    "    print(chr(letter))"
   ]
  },
  {
   "cell_type": "code",
   "execution_count": 10,
   "id": "8444b921",
   "metadata": {},
   "outputs": [
    {
     "ename": "NameError",
     "evalue": "name 'A' is not defined",
     "output_type": "error",
     "traceback": [
      "\u001b[1;31m---------------------------------------------------------------------------\u001b[0m",
      "\u001b[1;31mNameError\u001b[0m                                 Traceback (most recent call last)",
      "Input \u001b[1;32mIn [10]\u001b[0m, in \u001b[0;36m<cell line: 1>\u001b[1;34m()\u001b[0m\n\u001b[1;32m----> 1\u001b[0m \u001b[38;5;28;01mfor\u001b[39;00m letter \u001b[38;5;129;01min\u001b[39;00m \u001b[38;5;28mrange\u001b[39m(\u001b[43mA\u001b[49m,Z):\n\u001b[0;32m      2\u001b[0m     \u001b[38;5;28mprint\u001b[39m(\u001b[38;5;28mord\u001b[39m(letter))\n",
      "\u001b[1;31mNameError\u001b[0m: name 'A' is not defined"
     ]
    }
   ],
   "source": [
    "for letter in range(A,Z):\n",
    "    print(ord(letter))"
   ]
  },
  {
   "cell_type": "code",
   "execution_count": 8,
   "id": "ba4e4c46",
   "metadata": {},
   "outputs": [
    {
     "ename": "NameError",
     "evalue": "name 'A' is not defined",
     "output_type": "error",
     "traceback": [
      "\u001b[1;31m---------------------------------------------------------------------------\u001b[0m",
      "\u001b[1;31mNameError\u001b[0m                                 Traceback (most recent call last)",
      "Input \u001b[1;32mIn [8]\u001b[0m, in \u001b[0;36m<cell line: 1>\u001b[1;34m()\u001b[0m\n\u001b[1;32m----> 1\u001b[0m \u001b[38;5;28;01mfor\u001b[39;00m letter \u001b[38;5;129;01min\u001b[39;00m \u001b[38;5;28mchr\u001b[39m(\u001b[43mA\u001b[49m,Z):\n\u001b[0;32m      2\u001b[0m     \u001b[38;5;28mprint\u001b[39m(\u001b[38;5;28mord\u001b[39m(letter))\n",
      "\u001b[1;31mNameError\u001b[0m: name 'A' is not defined"
     ]
    }
   ],
   "source": [
    "for letter in chr(A,Z):\n",
    "    print(ord(letter))"
   ]
  },
  {
   "cell_type": "code",
   "execution_count": 85,
   "id": "56a81e1c",
   "metadata": {},
   "outputs": [
    {
     "name": "stdout",
     "output_type": "stream",
     "text": [
      "A\n",
      "E\n",
      "I\n",
      "M\n",
      "Q\n",
      "U\n",
      "Y\n"
     ]
    }
   ],
   "source": [
    "for letter in range(65,91,4):\n",
    "    print(chr(letter))"
   ]
  },
  {
   "cell_type": "code",
   "execution_count": 86,
   "id": "7a5f46ef",
   "metadata": {},
   "outputs": [
    {
     "name": "stdout",
     "output_type": "stream",
     "text": [
      "A\n",
      "E\n",
      "I\n",
      "M\n",
      "Q\n",
      "U\n",
      "Y\n",
      "]\n",
      "a\n",
      "e\n",
      "i\n",
      "m\n",
      "q\n",
      "u\n",
      "y\n"
     ]
    }
   ],
   "source": [
    "for letter in range(65,123,4):\n",
    "    print(chr(letter))"
   ]
  },
  {
   "cell_type": "code",
   "execution_count": 87,
   "id": "ebfa56ac",
   "metadata": {},
   "outputs": [
    {
     "name": "stdout",
     "output_type": "stream",
     "text": [
      "[\n",
      "\\\n",
      "]\n",
      "^\n",
      "_\n",
      "`\n"
     ]
    }
   ],
   "source": [
    "for special_characters in range(91,97):\n",
    "    print(chr(special_characters))"
   ]
  },
  {
   "cell_type": "markdown",
   "id": "e13ae74d",
   "metadata": {},
   "source": [
    "##  List"
   ]
  },
  {
   "cell_type": "raw",
   "id": "78e80583",
   "metadata": {},
   "source": [
    "It is sequence data type which can be combination of other data types as well.\n",
    "Other data types could be >> list, str, int, float, set, dict, tuple........\n",
    "Lists are mutable>> changable\n",
    "\n",
    "We can make the changes in the original list.\n",
    "\n",
    "List allows duplicate items\n",
    "It is in ordered form.\n",
    "Indexing and slicing is possible.\n",
    "List is denoted in square bracket.[]"
   ]
  },
  {
   "cell_type": "markdown",
   "id": "00ef8cb3",
   "metadata": {},
   "source": [
    "### list Functions"
   ]
  },
  {
   "cell_type": "raw",
   "id": "5701be97",
   "metadata": {},
   "source": [
    "1.append()\n",
    "2.extend()\n",
    "3.index()\n",
    "4.insert()\n",
    "5.remove()\n",
    "6.pop()\n",
    "7.clear()\n",
    "8.del()\n",
    "9.min()\n",
    "10.max()\n",
    "11.sum()\n",
    "12.sorted()\n",
    "13.sort()\n",
    "14.reverse()\n",
    "15.reversed()\n",
    "16.count()"
   ]
  },
  {
   "cell_type": "code",
   "execution_count": 88,
   "id": "89030567",
   "metadata": {},
   "outputs": [],
   "source": [
    "list=[1,2,3,4,5]"
   ]
  },
  {
   "cell_type": "code",
   "execution_count": 89,
   "id": "9c72f213",
   "metadata": {},
   "outputs": [
    {
     "data": {
      "text/plain": [
       "[1, 2, 3, 4, 5]"
      ]
     },
     "execution_count": 89,
     "metadata": {},
     "output_type": "execute_result"
    }
   ],
   "source": [
    "list"
   ]
  },
  {
   "cell_type": "code",
   "execution_count": 90,
   "id": "f584e448",
   "metadata": {},
   "outputs": [
    {
     "data": {
      "text/plain": [
       "1"
      ]
     },
     "execution_count": 90,
     "metadata": {},
     "output_type": "execute_result"
    }
   ],
   "source": [
    "list[0]"
   ]
  },
  {
   "cell_type": "code",
   "execution_count": 91,
   "id": "4f4c7903",
   "metadata": {},
   "outputs": [
    {
     "data": {
      "text/plain": [
       "5"
      ]
     },
     "execution_count": 91,
     "metadata": {},
     "output_type": "execute_result"
    }
   ],
   "source": [
    "list[4]"
   ]
  },
  {
   "cell_type": "code",
   "execution_count": 92,
   "id": "2d97bd75",
   "metadata": {},
   "outputs": [
    {
     "data": {
      "text/plain": [
       "[]"
      ]
     },
     "execution_count": 92,
     "metadata": {},
     "output_type": "execute_result"
    }
   ],
   "source": [
    "list2=[]\n",
    "list2"
   ]
  },
  {
   "cell_type": "code",
   "execution_count": 19,
   "id": "9641a6f9",
   "metadata": {},
   "outputs": [
    {
     "name": "stdout",
     "output_type": "stream",
     "text": [
      "[1, 2, 3, 'python', {1, 2, 3}, (3, 4, 5, 2), [2, 3, 4, 5], 2.4, 3.4, 4.5, 5.6, {'Ram': 20}] <class 'list'>\n"
     ]
    }
   ],
   "source": [
    "list3=[1,2,3,'python',{1,2,3},(3,4,5,2),[2,3,4,5],2.4,3.4,4.5,5.6,{'Ram':20}]\n",
    "print(list3,type(list3))"
   ]
  },
  {
   "cell_type": "markdown",
   "id": "d7a39103",
   "metadata": {},
   "source": [
    "### list indexing and slicing and step sizing"
   ]
  },
  {
   "cell_type": "raw",
   "id": "8af44756",
   "metadata": {},
   "source": [
    "list2 = [1, 4, 7, 8, 5, 2, 3, 6]\n",
    "       # 0  1  2  3  4  5  6  7 Positive Indexing\n",
    "       #-8 -7 -6 -5 -4 -3 -2 -1 Negative Indexing\n",
    "       list2=[4]\n",
    "       list2=[-5]\n",
    "       list2[len(list2)-4]\n",
    "       list2[:],list2[0:4]\n",
    "       list2[0:5:2] list[3:6:-1]"
   ]
  },
  {
   "cell_type": "code",
   "execution_count": 18,
   "id": "5f5b28d0",
   "metadata": {},
   "outputs": [
    {
     "name": "stdout",
     "output_type": "stream",
     "text": [
      "{Aman:12},{},[],(),3,3.6 <class 'str'>\n"
     ]
    }
   ],
   "source": [
    "a='{Aman:12},{},[],(),3,3.6' # string can contain list tuple set,dict,float,int\n",
    "print(a,type(a))"
   ]
  },
  {
   "cell_type": "code",
   "execution_count": 94,
   "id": "f1d24cba",
   "metadata": {},
   "outputs": [],
   "source": [
    "kubota=[143,567,890,2,4,5,67,23]"
   ]
  },
  {
   "cell_type": "code",
   "execution_count": 95,
   "id": "24aef6c4",
   "metadata": {},
   "outputs": [
    {
     "data": {
      "text/plain": [
       "890"
      ]
     },
     "execution_count": 95,
     "metadata": {},
     "output_type": "execute_result"
    }
   ],
   "source": [
    "kubota[2]"
   ]
  },
  {
   "cell_type": "code",
   "execution_count": 96,
   "id": "851baeb0",
   "metadata": {},
   "outputs": [
    {
     "data": {
      "text/plain": [
       "5"
      ]
     },
     "execution_count": 96,
     "metadata": {},
     "output_type": "execute_result"
    }
   ],
   "source": [
    "kubota[5]"
   ]
  },
  {
   "cell_type": "code",
   "execution_count": 97,
   "id": "b0911990",
   "metadata": {},
   "outputs": [
    {
     "data": {
      "text/plain": [
       "5"
      ]
     },
     "execution_count": 97,
     "metadata": {},
     "output_type": "execute_result"
    }
   ],
   "source": [
    "kubota[-3]"
   ]
  },
  {
   "cell_type": "code",
   "execution_count": 98,
   "id": "37fdb430",
   "metadata": {},
   "outputs": [
    {
     "data": {
      "text/plain": [
       "890"
      ]
     },
     "execution_count": 98,
     "metadata": {},
     "output_type": "execute_result"
    }
   ],
   "source": [
    "kubota[-6]"
   ]
  },
  {
   "cell_type": "code",
   "execution_count": 99,
   "id": "866996c3",
   "metadata": {},
   "outputs": [
    {
     "data": {
      "text/plain": [
       "67"
      ]
     },
     "execution_count": 99,
     "metadata": {},
     "output_type": "execute_result"
    }
   ],
   "source": [
    "kubota[len(kubota)-2]"
   ]
  },
  {
   "cell_type": "code",
   "execution_count": 100,
   "id": "d0530b3a",
   "metadata": {},
   "outputs": [
    {
     "data": {
      "text/plain": [
       "8"
      ]
     },
     "execution_count": 100,
     "metadata": {},
     "output_type": "execute_result"
    }
   ],
   "source": [
    "len(kubota)"
   ]
  },
  {
   "cell_type": "code",
   "execution_count": 101,
   "id": "05c5252c",
   "metadata": {},
   "outputs": [
    {
     "name": "stdout",
     "output_type": "stream",
     "text": [
      "143\n"
     ]
    }
   ],
   "source": [
    "print(kubota[len(kubota)-8])"
   ]
  },
  {
   "cell_type": "code",
   "execution_count": 102,
   "id": "93aeab1e",
   "metadata": {},
   "outputs": [
    {
     "data": {
      "text/plain": [
       "[143, 567, 890, 2]"
      ]
     },
     "execution_count": 102,
     "metadata": {},
     "output_type": "execute_result"
    }
   ],
   "source": [
    "kubota[0:4]"
   ]
  },
  {
   "cell_type": "code",
   "execution_count": 103,
   "id": "6933810c",
   "metadata": {},
   "outputs": [
    {
     "data": {
      "text/plain": [
       "[2, 4, 5, 67]"
      ]
     },
     "execution_count": 103,
     "metadata": {},
     "output_type": "execute_result"
    }
   ],
   "source": [
    "kubota[3:7]"
   ]
  },
  {
   "cell_type": "code",
   "execution_count": 104,
   "id": "550d72fd",
   "metadata": {},
   "outputs": [
    {
     "data": {
      "text/plain": [
       "[890, 2, 4, 5, 67, 23]"
      ]
     },
     "execution_count": 104,
     "metadata": {},
     "output_type": "execute_result"
    }
   ],
   "source": [
    "kubota[2:9:1]"
   ]
  },
  {
   "cell_type": "code",
   "execution_count": 105,
   "id": "6500311e",
   "metadata": {},
   "outputs": [
    {
     "data": {
      "text/plain": [
       "[143, 890, 4, 67]"
      ]
     },
     "execution_count": 105,
     "metadata": {},
     "output_type": "execute_result"
    }
   ],
   "source": [
    "kubota[0::2]"
   ]
  },
  {
   "cell_type": "code",
   "execution_count": 106,
   "id": "9c117dd1",
   "metadata": {},
   "outputs": [
    {
     "data": {
      "text/plain": [
       "[23, 67, 5, 4, 2, 890, 567, 143]"
      ]
     },
     "execution_count": 106,
     "metadata": {},
     "output_type": "execute_result"
    }
   ],
   "source": [
    "kubota[::-1]"
   ]
  },
  {
   "cell_type": "code",
   "execution_count": 107,
   "id": "f931d235",
   "metadata": {},
   "outputs": [
    {
     "data": {
      "text/plain": [
       "[23, 5, 2, 567]"
      ]
     },
     "execution_count": 107,
     "metadata": {},
     "output_type": "execute_result"
    }
   ],
   "source": [
    "kubota[::-2]"
   ]
  },
  {
   "cell_type": "code",
   "execution_count": 2,
   "id": "f85470fe",
   "metadata": {},
   "outputs": [
    {
     "name": "stdout",
     "output_type": "stream",
     "text": [
      "l\n",
      "a\n",
      "x\n",
      "m\n",
      "a\n",
      "n\n"
     ]
    }
   ],
   "source": [
    "ram=\"laxman\"\n",
    "for r in ram:\n",
    "    print(r)"
   ]
  },
  {
   "cell_type": "code",
   "execution_count": 109,
   "id": "cba8989c",
   "metadata": {},
   "outputs": [
    {
     "name": "stdout",
     "output_type": "stream",
     "text": [
      "l\n",
      "a\n",
      "x\n",
      "m\n",
      "a\n",
      "n\n"
     ]
    }
   ],
   "source": [
    "ram='laxman'\n",
    "for i in 'laxman':\n",
    "    print(i)"
   ]
  },
  {
   "cell_type": "code",
   "execution_count": 110,
   "id": "9f08bd6c",
   "metadata": {},
   "outputs": [
    {
     "name": "stdout",
     "output_type": "stream",
     "text": [
      "laxman\n",
      "laxman\n",
      "laxman\n",
      "laxman\n",
      "laxman\n",
      "laxman\n"
     ]
    }
   ],
   "source": [
    "ram='laxman'\n",
    "for i in 'laxman':\n",
    "    print(ram)"
   ]
  },
  {
   "cell_type": "code",
   "execution_count": 111,
   "id": "e39e98d2",
   "metadata": {},
   "outputs": [
    {
     "name": "stdout",
     "output_type": "stream",
     "text": [
      "ram\n",
      "ram\n",
      "ram\n",
      "ram\n",
      "ram\n",
      "ram\n"
     ]
    }
   ],
   "source": [
    "ram='laxman'\n",
    "for i in 'laxman':\n",
    "    print('ram')"
   ]
  },
  {
   "cell_type": "code",
   "execution_count": 112,
   "id": "74c61bcc",
   "metadata": {},
   "outputs": [
    {
     "name": "stdout",
     "output_type": "stream",
     "text": [
      "laxman\n",
      "laxman\n",
      "laxman\n",
      "laxman\n",
      "laxman\n",
      "laxman\n"
     ]
    }
   ],
   "source": [
    "ram='laxman'\n",
    "for i in 'laxman':\n",
    "    print('laxman')"
   ]
  },
  {
   "cell_type": "code",
   "execution_count": 113,
   "id": "1dedf26a",
   "metadata": {},
   "outputs": [
    {
     "name": "stdout",
     "output_type": "stream",
     "text": [
      "0 l\n",
      "1 a\n",
      "2 x\n",
      "3 m\n",
      "4 a\n",
      "5 n\n"
     ]
    }
   ],
   "source": [
    "index=0\n",
    "for i in ram:\n",
    "    print(index,i)\n",
    "    index=index+1"
   ]
  },
  {
   "cell_type": "code",
   "execution_count": 114,
   "id": "28ba99c9",
   "metadata": {},
   "outputs": [
    {
     "name": "stdout",
     "output_type": "stream",
     "text": [
      "0\n",
      "1\n",
      "2\n",
      "3\n",
      "4\n",
      "5\n"
     ]
    }
   ],
   "source": [
    "index=0\n",
    "for i in ram:\n",
    "    print(index)\n",
    "    index=index+1"
   ]
  },
  {
   "cell_type": "code",
   "execution_count": 115,
   "id": "20561f87",
   "metadata": {},
   "outputs": [
    {
     "name": "stdout",
     "output_type": "stream",
     "text": [
      "0 l\n",
      "2 a\n",
      "4 x\n",
      "6 m\n",
      "8 a\n",
      "10 n\n"
     ]
    }
   ],
   "source": [
    "index=0\n",
    "for i in ram:\n",
    "    print(index,i)\n",
    "    index=index+2"
   ]
  },
  {
   "cell_type": "code",
   "execution_count": 116,
   "id": "10f875b0",
   "metadata": {},
   "outputs": [
    {
     "name": "stdout",
     "output_type": "stream",
     "text": [
      "1 l\n",
      "101 a\n",
      "201 x\n",
      "301 m\n",
      "401 a\n",
      "501 n\n"
     ]
    }
   ],
   "source": [
    "index=1\n",
    "for i in ram:\n",
    "    print(index,i)\n",
    "    index=index+100"
   ]
  },
  {
   "cell_type": "code",
   "execution_count": 2,
   "id": "2db6dda1",
   "metadata": {},
   "outputs": [
    {
     "name": "stdout",
     "output_type": "stream",
     "text": [
      "l 1\n",
      "a 101\n",
      "x 201\n",
      "m 301\n",
      "a 401\n",
      "n 501\n"
     ]
    }
   ],
   "source": [
    "index=1\n",
    "for i in ram:\n",
    "    print(i,index)\n",
    "    index=index+100"
   ]
  },
  {
   "cell_type": "code",
   "execution_count": 117,
   "id": "75ece7d9",
   "metadata": {},
   "outputs": [
    {
     "name": "stdout",
     "output_type": "stream",
     "text": [
      "7 l\n",
      "11 a\n",
      "15 x\n",
      "19 m\n",
      "23 a\n",
      "27 n\n"
     ]
    }
   ],
   "source": [
    "index=7\n",
    "for i in ram:\n",
    "    print(index,i)\n",
    "    index=index+4"
   ]
  },
  {
   "cell_type": "code",
   "execution_count": 4,
   "id": "1a4f8f3b",
   "metadata": {},
   "outputs": [
    {
     "name": "stdout",
     "output_type": "stream",
     "text": [
      "11 l\n",
      "15 a\n",
      "19 x\n",
      "23 m\n",
      "27 a\n",
      "31 n\n"
     ]
    }
   ],
   "source": [
    "index=7\n",
    "for i in ram:\n",
    "    index=index+4\n",
    "    print(index,i)\n",
    "  "
   ]
  },
  {
   "cell_type": "code",
   "execution_count": 118,
   "id": "2b115ad8",
   "metadata": {},
   "outputs": [
    {
     "name": "stdout",
     "output_type": "stream",
     "text": [
      "laxman value of 1th position is l\n",
      "laxman value of 2th position is a\n",
      "laxman value of 3th position is x\n",
      "laxman value of 4th position is m\n",
      "laxman value of 5th position is a\n",
      "laxman value of 6th position is n\n"
     ]
    }
   ],
   "source": [
    "index=1\n",
    "for letter in 'laxman':\n",
    "    print(f'laxman value of {index}th position is {letter}')\n",
    "    index=index+1"
   ]
  },
  {
   "cell_type": "code",
   "execution_count": 119,
   "id": "93446e87",
   "metadata": {},
   "outputs": [
    {
     "name": "stdout",
     "output_type": "stream",
     "text": [
      "laxman value of 1th position is l\n",
      "laxman value of 8th position is a\n",
      "laxman value of 15th position is x\n",
      "laxman value of 22th position is m\n",
      "laxman value of 29th position is a\n",
      "laxman value of 36th position is n\n"
     ]
    }
   ],
   "source": [
    "index=1\n",
    "for letter in 'laxman':\n",
    "    print(f'laxman value of {index}th position is {letter}')\n",
    "    index=index+7"
   ]
  },
  {
   "cell_type": "code",
   "execution_count": 120,
   "id": "696f2bb3",
   "metadata": {},
   "outputs": [
    {
     "name": "stdout",
     "output_type": "stream",
     "text": [
      "laxman value of 4th position is l\n",
      "laxman value of 11th position is a\n",
      "laxman value of 18th position is x\n",
      "laxman value of 25th position is m\n",
      "laxman value of 32th position is a\n",
      "laxman value of 39th position is n\n"
     ]
    }
   ],
   "source": [
    "index=4\n",
    "for letter in 'laxman':\n",
    "    print(f'laxman value of {index}th position is {letter}')\n",
    "    index=index+7"
   ]
  },
  {
   "cell_type": "code",
   "execution_count": 121,
   "id": "fea3ace2",
   "metadata": {},
   "outputs": [
    {
     "name": "stdout",
     "output_type": "stream",
     "text": [
      "laxman value of 4th position is l\n",
      "laxman value of -3th position is a\n",
      "laxman value of -10th position is x\n",
      "laxman value of -17th position is m\n",
      "laxman value of -24th position is a\n",
      "laxman value of -31th position is n\n"
     ]
    }
   ],
   "source": [
    "index=4\n",
    "for letter in 'laxman':\n",
    "    print(f'laxman value of {index}th position is {letter}')\n",
    "    index=index-7"
   ]
  },
  {
   "cell_type": "code",
   "execution_count": 20,
   "id": "a28d21d0",
   "metadata": {},
   "outputs": [],
   "source": [
    "lis=[234,2,3,4,7.8,.7,65.7,[1,2,3],{22,3,4},(3,2,4),'radha sham',{'Radhe':'Sham'}]"
   ]
  },
  {
   "cell_type": "code",
   "execution_count": 25,
   "id": "44a8e8b7",
   "metadata": {},
   "outputs": [
    {
     "name": "stdout",
     "output_type": "stream",
     "text": [
      "[234, 2, 3, 4, 7.8, 0.7, 65.7, [1, 2, 3], {3, 4, 22}, (3, 2, 4), 'radha sham', {'Radhe': 'Sham'}]"
     ]
    }
   ],
   "source": [
    "print(lis,end='')"
   ]
  },
  {
   "cell_type": "markdown",
   "id": "c2148847",
   "metadata": {},
   "source": [
    "### list functions"
   ]
  },
  {
   "cell_type": "markdown",
   "id": "a23fec10",
   "metadata": {},
   "source": [
    "#### 1.append()"
   ]
  },
  {
   "cell_type": "raw",
   "id": "9065b492",
   "metadata": {},
   "source": [
    "we can add single element in the list.\n",
    "and added element will be at the last of the position in list.\n",
    "syntax >> list.append(value)\n",
    "syntax >> list.append('string')"
   ]
  },
  {
   "cell_type": "code",
   "execution_count": 3,
   "id": "3050920c",
   "metadata": {},
   "outputs": [],
   "source": [
    "r15=[1,2,3,3.4,4.5,9,[3,46.5,4.5],'radhe']"
   ]
  },
  {
   "cell_type": "code",
   "execution_count": 4,
   "id": "d8c4521e",
   "metadata": {},
   "outputs": [
    {
     "data": {
      "text/plain": [
       "[1, 2, 3, 3.4, 4.5, 9, [3, 46.5, 4.5], 'radhe']"
      ]
     },
     "execution_count": 4,
     "metadata": {},
     "output_type": "execute_result"
    }
   ],
   "source": [
    "r15"
   ]
  },
  {
   "cell_type": "code",
   "execution_count": 5,
   "id": "4169e1c2",
   "metadata": {},
   "outputs": [],
   "source": [
    "r15.append(45)"
   ]
  },
  {
   "cell_type": "code",
   "execution_count": 6,
   "id": "e3937056",
   "metadata": {},
   "outputs": [
    {
     "data": {
      "text/plain": [
       "[1, 2, 3, 3.4, 4.5, 9, [3, 46.5, 4.5], 'radhe', 45]"
      ]
     },
     "execution_count": 6,
     "metadata": {},
     "output_type": "execute_result"
    }
   ],
   "source": [
    "r15"
   ]
  },
  {
   "cell_type": "code",
   "execution_count": 7,
   "id": "8a50d659",
   "metadata": {},
   "outputs": [],
   "source": [
    "r15.append('ramulo')"
   ]
  },
  {
   "cell_type": "code",
   "execution_count": 8,
   "id": "b430e72d",
   "metadata": {},
   "outputs": [
    {
     "data": {
      "text/plain": [
       "[1, 2, 3, 3.4, 4.5, 9, [3, 46.5, 4.5], 'radhe', 45, 'ramulo']"
      ]
     },
     "execution_count": 8,
     "metadata": {},
     "output_type": "execute_result"
    }
   ],
   "source": [
    "r15"
   ]
  },
  {
   "cell_type": "code",
   "execution_count": 9,
   "id": "7eb67052",
   "metadata": {},
   "outputs": [],
   "source": [
    "r15.append('456')"
   ]
  },
  {
   "cell_type": "code",
   "execution_count": 10,
   "id": "a0318c51",
   "metadata": {},
   "outputs": [
    {
     "data": {
      "text/plain": [
       "[1, 2, 3, 3.4, 4.5, 9, [3, 46.5, 4.5], 'radhe', 45, 'ramulo', '456']"
      ]
     },
     "execution_count": 10,
     "metadata": {},
     "output_type": "execute_result"
    }
   ],
   "source": [
    "r15"
   ]
  },
  {
   "cell_type": "code",
   "execution_count": 11,
   "id": "d8f8d163",
   "metadata": {},
   "outputs": [
    {
     "name": "stdout",
     "output_type": "stream",
     "text": [
      "[1, 2, 3, 3.4, 4.5, 9, [3, 46.5, 4.5], 'radhe', 45, 'ramulo', '456']\n"
     ]
    }
   ],
   "source": [
    "print(r15)"
   ]
  },
  {
   "cell_type": "code",
   "execution_count": 12,
   "id": "d04d9de9",
   "metadata": {},
   "outputs": [],
   "source": [
    "r13=r15.append('jayashri')"
   ]
  },
  {
   "cell_type": "code",
   "execution_count": 15,
   "id": "bd6c69e5",
   "metadata": {},
   "outputs": [],
   "source": [
    "r13"
   ]
  },
  {
   "cell_type": "code",
   "execution_count": 14,
   "id": "d45840ab",
   "metadata": {},
   "outputs": [
    {
     "data": {
      "text/plain": [
       "[1,\n",
       " 2,\n",
       " 3,\n",
       " 3.4,\n",
       " 4.5,\n",
       " 9,\n",
       " [3, 46.5, 4.5],\n",
       " 'radhe',\n",
       " 45,\n",
       " 'ramulo',\n",
       " '456',\n",
       " 'jayashri']"
      ]
     },
     "execution_count": 14,
     "metadata": {},
     "output_type": "execute_result"
    }
   ],
   "source": [
    "r15"
   ]
  },
  {
   "cell_type": "code",
   "execution_count": 136,
   "id": "db7ff549",
   "metadata": {},
   "outputs": [
    {
     "name": "stdout",
     "output_type": "stream",
     "text": [
      "[1, 2, 3, 3.4, 4.5, 9, [3, 46.5, 4.5], 'radhe', 45, 'ramulo', '456', 'jayashri']\n"
     ]
    }
   ],
   "source": [
    "print(r15)"
   ]
  },
  {
   "cell_type": "code",
   "execution_count": 137,
   "id": "bb89cf6b",
   "metadata": {},
   "outputs": [
    {
     "ename": "TypeError",
     "evalue": "list.append() takes exactly one argument (3 given)",
     "output_type": "error",
     "traceback": [
      "\u001b[1;31m---------------------------------------------------------------------------\u001b[0m",
      "\u001b[1;31mTypeError\u001b[0m                                 Traceback (most recent call last)",
      "Input \u001b[1;32mIn [137]\u001b[0m, in \u001b[0;36m<cell line: 1>\u001b[1;34m()\u001b[0m\n\u001b[1;32m----> 1\u001b[0m \u001b[43mr15\u001b[49m\u001b[38;5;241;43m.\u001b[39;49m\u001b[43mappend\u001b[49m\u001b[43m(\u001b[49m\u001b[38;5;124;43m'\u001b[39;49m\u001b[38;5;124;43mramlal\u001b[39;49m\u001b[38;5;124;43m'\u001b[39;49m\u001b[43m,\u001b[49m\u001b[38;5;124;43m'\u001b[39;49m\u001b[38;5;124;43mshamlal\u001b[39;49m\u001b[38;5;124;43m'\u001b[39;49m\u001b[43m,\u001b[49m\u001b[38;5;241;43m56\u001b[39;49m\u001b[43m)\u001b[49m\n",
      "\u001b[1;31mTypeError\u001b[0m: list.append() takes exactly one argument (3 given)"
     ]
    }
   ],
   "source": [
    "r15.append('ramlal','shamlal',56)"
   ]
  },
  {
   "cell_type": "markdown",
   "id": "b2dfc18f",
   "metadata": {},
   "source": [
    "### 2.extend()"
   ]
  },
  {
   "cell_type": "raw",
   "id": "1d209dda",
   "metadata": {},
   "source": [
    "extend also add elements list or strings list to the list,at end of position.\n",
    "it can add complete new one list in previous one at the end of position.\n",
    "Even though we can add the single element, but its data type should be list.\n",
    "syntax>> list.extend([value]) and list.extend(list2)"
   ]
  },
  {
   "cell_type": "code",
   "execution_count": 27,
   "id": "e6d41594",
   "metadata": {},
   "outputs": [],
   "source": [
    "team=[1.2,3,4,44,567,'adiram']"
   ]
  },
  {
   "cell_type": "code",
   "execution_count": 2,
   "id": "4521ef51",
   "metadata": {},
   "outputs": [
    {
     "name": "stdout",
     "output_type": "stream",
     "text": [
      "[1.2, 3, 4, 44, 567, 'adiram']\n"
     ]
    }
   ],
   "source": [
    "print(team)"
   ]
  },
  {
   "cell_type": "code",
   "execution_count": 3,
   "id": "ab32bd2b",
   "metadata": {},
   "outputs": [
    {
     "data": {
      "text/plain": [
       "[1.2, 3, 4, 44, 567, 'adiram']"
      ]
     },
     "execution_count": 3,
     "metadata": {},
     "output_type": "execute_result"
    }
   ],
   "source": [
    "team"
   ]
  },
  {
   "cell_type": "code",
   "execution_count": 4,
   "id": "56edfa98",
   "metadata": {},
   "outputs": [
    {
     "ename": "AttributeError",
     "evalue": "'list' object has no attribute 'aextend'",
     "output_type": "error",
     "traceback": [
      "\u001b[1;31m---------------------------------------------------------------------------\u001b[0m",
      "\u001b[1;31mAttributeError\u001b[0m                            Traceback (most recent call last)",
      "Input \u001b[1;32mIn [4]\u001b[0m, in \u001b[0;36m<cell line: 1>\u001b[1;34m()\u001b[0m\n\u001b[1;32m----> 1\u001b[0m \u001b[43mteam\u001b[49m\u001b[38;5;241;43m.\u001b[39;49m\u001b[43maextend\u001b[49m(\u001b[38;5;241m67\u001b[39m)\n",
      "\u001b[1;31mAttributeError\u001b[0m: 'list' object has no attribute 'aextend'"
     ]
    }
   ],
   "source": [
    "team.aextend(67)"
   ]
  },
  {
   "cell_type": "code",
   "execution_count": 28,
   "id": "50157ee7",
   "metadata": {},
   "outputs": [
    {
     "ename": "TypeError",
     "evalue": "'int' object is not iterable",
     "output_type": "error",
     "traceback": [
      "\u001b[1;31m---------------------------------------------------------------------------\u001b[0m",
      "\u001b[1;31mTypeError\u001b[0m                                 Traceback (most recent call last)",
      "Input \u001b[1;32mIn [28]\u001b[0m, in \u001b[0;36m<cell line: 1>\u001b[1;34m()\u001b[0m\n\u001b[1;32m----> 1\u001b[0m \u001b[43mteam\u001b[49m\u001b[38;5;241;43m.\u001b[39;49m\u001b[43mextend\u001b[49m\u001b[43m(\u001b[49m\u001b[38;5;241;43m45\u001b[39;49m\u001b[43m)\u001b[49m\n",
      "\u001b[1;31mTypeError\u001b[0m: 'int' object is not iterable"
     ]
    }
   ],
   "source": [
    "team.extend(45)"
   ]
  },
  {
   "cell_type": "code",
   "execution_count": 5,
   "id": "83465282",
   "metadata": {},
   "outputs": [],
   "source": [
    "team.extend([45])"
   ]
  },
  {
   "cell_type": "code",
   "execution_count": 6,
   "id": "1920f774",
   "metadata": {},
   "outputs": [
    {
     "data": {
      "text/plain": [
       "[1.2, 3, 4, 44, 567, 'adiram', 45]"
      ]
     },
     "execution_count": 6,
     "metadata": {},
     "output_type": "execute_result"
    }
   ],
   "source": [
    "team"
   ]
  },
  {
   "cell_type": "code",
   "execution_count": 7,
   "id": "bbcc28d2",
   "metadata": {},
   "outputs": [],
   "source": [
    "team.extend([45,34,78])"
   ]
  },
  {
   "cell_type": "code",
   "execution_count": 8,
   "id": "24af73d7",
   "metadata": {},
   "outputs": [
    {
     "data": {
      "text/plain": [
       "[1.2, 3, 4, 44, 567, 'adiram', 45, 45, 34, 78]"
      ]
     },
     "execution_count": 8,
     "metadata": {},
     "output_type": "execute_result"
    }
   ],
   "source": [
    "team"
   ]
  },
  {
   "cell_type": "code",
   "execution_count": 147,
   "id": "b6d73a6f",
   "metadata": {},
   "outputs": [],
   "source": [
    "r=[34,6,89,935,'t','r']"
   ]
  },
  {
   "cell_type": "code",
   "execution_count": 148,
   "id": "ddc0f0aa",
   "metadata": {},
   "outputs": [],
   "source": [
    "r.extend(['y'])"
   ]
  },
  {
   "cell_type": "code",
   "execution_count": 149,
   "id": "4e2d7504",
   "metadata": {},
   "outputs": [
    {
     "data": {
      "text/plain": [
       "[34, 6, 89, 935, 't', 'r', 'y']"
      ]
     },
     "execution_count": 149,
     "metadata": {},
     "output_type": "execute_result"
    }
   ],
   "source": [
    "r"
   ]
  },
  {
   "cell_type": "code",
   "execution_count": 150,
   "id": "1b8e77d7",
   "metadata": {},
   "outputs": [],
   "source": [
    "t1=[11,22,33,45,667,6,54,]\n",
    "t2=[23,45,66,77,67]"
   ]
  },
  {
   "cell_type": "code",
   "execution_count": 151,
   "id": "1ac6ad57",
   "metadata": {},
   "outputs": [
    {
     "name": "stdout",
     "output_type": "stream",
     "text": [
      "[11, 22, 33, 45, 667, 6, 54]\n",
      "[23, 45, 66, 77, 67]\n"
     ]
    }
   ],
   "source": [
    "print(t1)\n",
    "print(t2)"
   ]
  },
  {
   "cell_type": "code",
   "execution_count": 152,
   "id": "d480efef",
   "metadata": {},
   "outputs": [
    {
     "data": {
      "text/plain": [
       "[23, 45, 66, 77, 67]"
      ]
     },
     "execution_count": 152,
     "metadata": {},
     "output_type": "execute_result"
    }
   ],
   "source": [
    "t1\n",
    "t2"
   ]
  },
  {
   "cell_type": "code",
   "execution_count": 153,
   "id": "dbba64aa",
   "metadata": {},
   "outputs": [],
   "source": [
    "t1.extend(t2)"
   ]
  },
  {
   "cell_type": "code",
   "execution_count": 154,
   "id": "8f5b330a",
   "metadata": {},
   "outputs": [
    {
     "data": {
      "text/plain": [
       "[11, 22, 33, 45, 667, 6, 54, 23, 45, 66, 77, 67]"
      ]
     },
     "execution_count": 154,
     "metadata": {},
     "output_type": "execute_result"
    }
   ],
   "source": [
    "t1"
   ]
  },
  {
   "cell_type": "code",
   "execution_count": 155,
   "id": "98283485",
   "metadata": {},
   "outputs": [
    {
     "data": {
      "text/plain": [
       "[23, 45, 66, 77, 67]"
      ]
     },
     "execution_count": 155,
     "metadata": {},
     "output_type": "execute_result"
    }
   ],
   "source": [
    "t2"
   ]
  },
  {
   "cell_type": "code",
   "execution_count": 156,
   "id": "8538dd99",
   "metadata": {},
   "outputs": [
    {
     "data": {
      "text/plain": [
       "[11, 22, 33, 45, 667, 6, 54, 23, 45, 66, 77, 67]"
      ]
     },
     "execution_count": 156,
     "metadata": {},
     "output_type": "execute_result"
    }
   ],
   "source": [
    "t1"
   ]
  },
  {
   "cell_type": "code",
   "execution_count": 157,
   "id": "68b2eb94",
   "metadata": {},
   "outputs": [],
   "source": [
    "li=[]\n",
    "li1=[23.34,45,6,7.8,5]"
   ]
  },
  {
   "cell_type": "code",
   "execution_count": 158,
   "id": "36b8cdda",
   "metadata": {},
   "outputs": [],
   "source": [
    "li.extend(li1)"
   ]
  },
  {
   "cell_type": "code",
   "execution_count": 159,
   "id": "bbcfdf6f",
   "metadata": {},
   "outputs": [
    {
     "data": {
      "text/plain": [
       "[23.34, 45, 6, 7.8, 5]"
      ]
     },
     "execution_count": 159,
     "metadata": {},
     "output_type": "execute_result"
    }
   ],
   "source": [
    "li"
   ]
  },
  {
   "cell_type": "code",
   "execution_count": 160,
   "id": "43ea072f",
   "metadata": {},
   "outputs": [],
   "source": [
    "li.extend([2,33,4.5,6])"
   ]
  },
  {
   "cell_type": "code",
   "execution_count": 161,
   "id": "db9e86db",
   "metadata": {},
   "outputs": [
    {
     "data": {
      "text/plain": [
       "[23.34, 45, 6, 7.8, 5, 2, 33, 4.5, 6]"
      ]
     },
     "execution_count": 161,
     "metadata": {},
     "output_type": "execute_result"
    }
   ],
   "source": [
    "li"
   ]
  },
  {
   "cell_type": "code",
   "execution_count": 29,
   "id": "15f46996",
   "metadata": {},
   "outputs": [],
   "source": [
    "list1 = [1,4.5,2,3,5.1,6,2.2,4.3,7,8]"
   ]
  },
  {
   "cell_type": "code",
   "execution_count": 30,
   "id": "d686a712",
   "metadata": {},
   "outputs": [
    {
     "name": "stdout",
     "output_type": "stream",
     "text": [
      "even numbers: [2, 6, 8]\n",
      "odd numbers: [1, 4.5, 3, 5.1, 2.2, 4.3, 7]\n"
     ]
    }
   ],
   "source": [
    "even_number=[]\n",
    "odd_number=[]\n",
    "for i in list1:\n",
    "    if i%2==0:\n",
    "        even_number.append(i)\n",
    "    else:\n",
    "        odd_number.append(i)\n",
    "print(f'even numbers: {even_number}')\n",
    "print('odd numbers:',odd_number)\n",
    "\n",
    "     "
   ]
  },
  {
   "cell_type": "code",
   "execution_count": 31,
   "id": "a5ff7998",
   "metadata": {},
   "outputs": [
    {
     "name": "stdout",
     "output_type": "stream",
     "text": [
      "[44, 56, 76, 8, 33]\n",
      "[13, 11, 17, 47]\n"
     ]
    }
   ],
   "source": [
    "l = [13,11,17,47,44,56,76,8,33]\n",
    "notprime =[]\n",
    "prime = []\n",
    "for i in l:\n",
    "    for j in list(range(2,i)):#it will create a list of 2,....12 like that for number 13\n",
    "        if i%j==0:#13/2,3,4,...12\n",
    "            notprime.append(i)\n",
    "            break\n",
    "            #l.remove(i)\n",
    "    else:\n",
    "        prime.append(i)\n",
    "            \n",
    "print(notprime)\n",
    "print(prime)"
   ]
  },
  {
   "cell_type": "code",
   "execution_count": 164,
   "id": "3af8a169",
   "metadata": {},
   "outputs": [
    {
     "name": "stdout",
     "output_type": "stream",
     "text": [
      "list of integer is [1, 2, 3, 6, 7, 8]\n",
      "list of float is [4.5, 5.1, 2.2, 4.3]\n"
     ]
    }
   ],
   "source": [
    "list1 = [1,4.5,2,3,5.1,6,2.2,4.3,7,8]\n",
    "int_list=[]\n",
    "float_list=[]\n",
    "for i in list1:\n",
    "    if type(i)==int:\n",
    "        int_list.append(i)\n",
    "    else:\n",
    "        float_list.append(i)\n",
    "print('list of integer is',int_list)\n",
    "print('list of float is',float_list)\n",
    "        "
   ]
  },
  {
   "cell_type": "code",
   "execution_count": 165,
   "id": "9e12796f",
   "metadata": {},
   "outputs": [],
   "source": [
    "list=[12,-32,5,45,-5,-45,-76,7]"
   ]
  },
  {
   "cell_type": "code",
   "execution_count": 166,
   "id": "d080d55f",
   "metadata": {},
   "outputs": [
    {
     "name": "stdout",
     "output_type": "stream",
     "text": [
      "list of positive is [12, 5, 45, 7]\n",
      "list of negative is [-32, -5, -45, -76]\n"
     ]
    }
   ],
   "source": [
    "positive_list=[]\n",
    "negative_list=[]\n",
    "for i in list:\n",
    "    if i>=0:\n",
    "        positive_list.append(i)\n",
    "    else:\n",
    "        negative_list.append(i)\n",
    "print('list of positive is',positive_list)\n",
    "print('list of negative is',negative_list)\n",
    "        "
   ]
  },
  {
   "cell_type": "code",
   "execution_count": 39,
   "id": "f6402a80",
   "metadata": {},
   "outputs": [
    {
     "name": "stdout",
     "output_type": "stream",
     "text": [
      "Enter the string: My name IS,Akshay.iam from 12 no.pati Latur\n",
      "13\n",
      "19\n",
      "2\n",
      "6\n",
      "3\n",
      "43\n"
     ]
    }
   ],
   "source": [
    "st = input('Enter the string: ')\n",
    "vowels = 0\n",
    "consonants = 0\n",
    "digit = 0\n",
    "space = 0\n",
    "spec_char=0\n",
    "\n",
    "for i in st:\n",
    "    if (i =='a' or i =='e' or i =='i' or i =='o' or i =='u'or i =='A' or i =='E' or i =='I' or i =='O' or i =='U'):\n",
    "        vowels = vowels+1\n",
    "    \n",
    "    elif((ord(i)>=97 and ord(i)<=123)) or ((ord(i)>=65 and ord(i)<=91)):\n",
    "        consonants = consonants+1    \n",
    "    \n",
    "    elif i.isdigit():\n",
    "        digit = digit + 1  \n",
    "    \n",
    "    elif  i.isspace():\n",
    "        space = space + 1  \n",
    "    else:\n",
    "        spec_char = spec_char + 1     \n",
    "              \n",
    "        \n",
    "        \n",
    "        \n",
    "print(vowels)\n",
    "print(consonants)\n",
    "print(digit)\n",
    "print(space)\n",
    "print(spec_char)\n",
    "print(len(st))"
   ]
  },
  {
   "cell_type": "code",
   "execution_count": 23,
   "id": "2c3c921b",
   "metadata": {},
   "outputs": [
    {
     "name": "stdout",
     "output_type": "stream",
     "text": [
      "positive_list: [1, 21, 34, 56, 4, 3]\n",
      "negative_list: [-23, -3, -12]\n"
     ]
    }
   ],
   "source": [
    "list3=[1,21,34,56,-23,4,-3,-12,3]\n",
    "positive_list=[]\n",
    "negative_list=[]\n",
    "for i in list3:\n",
    "    if i>=0:\n",
    "        positive_list.append(i)\n",
    "    else:\n",
    "        negative_list.append(i)\n",
    "print(f'positive_list:',positive_list)\n",
    "print(f'negative_list:',negative_list)"
   ]
  },
  {
   "cell_type": "code",
   "execution_count": 3,
   "id": "7525c03c",
   "metadata": {},
   "outputs": [],
   "source": [
    "list2 = [1,2,3,4,5,6,7,8,9,10]"
   ]
  },
  {
   "cell_type": "code",
   "execution_count": 193,
   "id": "5f78e0d6",
   "metadata": {},
   "outputs": [
    {
     "data": {
      "text/plain": [
       "True"
      ]
     },
     "execution_count": 193,
     "metadata": {},
     "output_type": "execute_result"
    }
   ],
   "source": [
    "2 in list2"
   ]
  },
  {
   "cell_type": "code",
   "execution_count": 194,
   "id": "b53d1b1a",
   "metadata": {},
   "outputs": [
    {
     "data": {
      "text/plain": [
       "False"
      ]
     },
     "execution_count": 194,
     "metadata": {},
     "output_type": "execute_result"
    }
   ],
   "source": [
    "6.5 in list2"
   ]
  },
  {
   "cell_type": "code",
   "execution_count": 195,
   "id": "9e923802",
   "metadata": {},
   "outputs": [
    {
     "data": {
      "text/plain": [
       "False"
      ]
     },
     "execution_count": 195,
     "metadata": {},
     "output_type": "execute_result"
    }
   ],
   "source": [
    "'ram' in list2"
   ]
  },
  {
   "cell_type": "code",
   "execution_count": 5,
   "id": "1afb6d29",
   "metadata": {},
   "outputs": [
    {
     "data": {
      "text/plain": [
       "True"
      ]
     },
     "execution_count": 5,
     "metadata": {},
     "output_type": "execute_result"
    }
   ],
   "source": [
    "20 not in list2"
   ]
  },
  {
   "cell_type": "code",
   "execution_count": 6,
   "id": "21779bd0",
   "metadata": {},
   "outputs": [
    {
     "data": {
      "text/plain": [
       "True"
      ]
     },
     "execution_count": 6,
     "metadata": {},
     "output_type": "execute_result"
    }
   ],
   "source": [
    "'ram' not in list2"
   ]
  },
  {
   "cell_type": "code",
   "execution_count": 197,
   "id": "79f08cec",
   "metadata": {},
   "outputs": [
    {
     "name": "stderr",
     "output_type": "stream",
     "text": [
      "<>:1: SyntaxWarning: \"is not\" with a literal. Did you mean \"!=\"?\n",
      "<>:1: SyntaxWarning: \"is not\" with a literal. Did you mean \"!=\"?\n",
      "C:\\Users\\Admin\\AppData\\Local\\Temp\\ipykernel_16620\\852322040.py:1: SyntaxWarning: \"is not\" with a literal. Did you mean \"!=\"?\n",
      "  5 is not list2\n"
     ]
    },
    {
     "data": {
      "text/plain": [
       "True"
      ]
     },
     "execution_count": 197,
     "metadata": {},
     "output_type": "execute_result"
    }
   ],
   "source": [
    "5 is not list2"
   ]
  },
  {
   "cell_type": "code",
   "execution_count": 2,
   "id": "07dc16cb",
   "metadata": {},
   "outputs": [
    {
     "ename": "SyntaxError",
     "evalue": "invalid syntax (3320205235.py, line 1)",
     "output_type": "error",
     "traceback": [
      "\u001b[1;36m  Input \u001b[1;32mIn [2]\u001b[1;36m\u001b[0m\n\u001b[1;33m    2 is in list2\u001b[0m\n\u001b[1;37m         ^\u001b[0m\n\u001b[1;31mSyntaxError\u001b[0m\u001b[1;31m:\u001b[0m invalid syntax\n"
     ]
    }
   ],
   "source": [
    "2 is in list2"
   ]
  },
  {
   "cell_type": "code",
   "execution_count": 198,
   "id": "e0b39c2a",
   "metadata": {},
   "outputs": [],
   "source": [
    "list1 = [1,4,2,3]\n",
    "list2 = [2,3,5,7]"
   ]
  },
  {
   "cell_type": "code",
   "execution_count": 199,
   "id": "68cc330b",
   "metadata": {},
   "outputs": [
    {
     "data": {
      "text/plain": [
       "[1, 4, 2, 3, 2, 3, 5, 7]"
      ]
     },
     "execution_count": 199,
     "metadata": {},
     "output_type": "execute_result"
    }
   ],
   "source": [
    "list1+list2"
   ]
  },
  {
   "cell_type": "code",
   "execution_count": 201,
   "id": "152633b1",
   "metadata": {},
   "outputs": [],
   "source": [
    "list1.extend(list2)"
   ]
  },
  {
   "cell_type": "code",
   "execution_count": 202,
   "id": "992988f7",
   "metadata": {},
   "outputs": [
    {
     "data": {
      "text/plain": [
       "[1, 4, 2, 3, 2, 3, 5, 7]"
      ]
     },
     "execution_count": 202,
     "metadata": {},
     "output_type": "execute_result"
    }
   ],
   "source": [
    "list1"
   ]
  },
  {
   "cell_type": "code",
   "execution_count": 203,
   "id": "d2632603",
   "metadata": {},
   "outputs": [],
   "source": [
    "list1 = [1,4,2,3,6,8]\n",
    "list2 = [2,3,5]"
   ]
  },
  {
   "cell_type": "code",
   "execution_count": 204,
   "id": "6b8f6295",
   "metadata": {},
   "outputs": [
    {
     "name": "stdout",
     "output_type": "stream",
     "text": [
      "[1, 4, 2, 3, 6, 8, 2, 3, 5]\n"
     ]
    }
   ],
   "source": [
    "for i in list2:\n",
    "    list1.append(i)\n",
    "#     print(list1)\n",
    "print(list1)"
   ]
  },
  {
   "cell_type": "code",
   "execution_count": 205,
   "id": "c0915a68",
   "metadata": {},
   "outputs": [
    {
     "name": "stdout",
     "output_type": "stream",
     "text": [
      "[1, 4, 2, 3, 6, 8, 2, 3, 5, 2]\n",
      "[1, 4, 2, 3, 6, 8, 2, 3, 5, 2, 3]\n",
      "[1, 4, 2, 3, 6, 8, 2, 3, 5, 2, 3, 5]\n"
     ]
    }
   ],
   "source": [
    "for i in list2:\n",
    "    list1.append(i)\n",
    "    print(list1)\n",
    "#print(list1)"
   ]
  },
  {
   "cell_type": "markdown",
   "id": "bf02bbce",
   "metadata": {},
   "source": [
    "### index()"
   ]
  },
  {
   "cell_type": "raw",
   "id": "ce309926",
   "metadata": {},
   "source": [
    "used to find an index of perticular element in list.\n",
    "syntax>> list.index(element)\n",
    "syntax>> list.index(element,occurence)"
   ]
  },
  {
   "cell_type": "code",
   "execution_count": 206,
   "id": "da302b7d",
   "metadata": {},
   "outputs": [],
   "source": [
    "team=[1.2,3,4,44,567,'adiram']"
   ]
  },
  {
   "cell_type": "code",
   "execution_count": 207,
   "id": "e1694571",
   "metadata": {},
   "outputs": [
    {
     "data": {
      "text/plain": [
       "3"
      ]
     },
     "execution_count": 207,
     "metadata": {},
     "output_type": "execute_result"
    }
   ],
   "source": [
    "team.index(44)"
   ]
  },
  {
   "cell_type": "code",
   "execution_count": 208,
   "id": "ee286a55",
   "metadata": {},
   "outputs": [
    {
     "data": {
      "text/plain": [
       "5"
      ]
     },
     "execution_count": 208,
     "metadata": {},
     "output_type": "execute_result"
    }
   ],
   "source": [
    "team.index('adiram') #it is index example."
   ]
  },
  {
   "cell_type": "code",
   "execution_count": 210,
   "id": "df30ce40",
   "metadata": {},
   "outputs": [
    {
     "data": {
      "text/plain": [
       "'adiram'"
      ]
     },
     "execution_count": 210,
     "metadata": {},
     "output_type": "execute_result"
    }
   ],
   "source": [
    "team[5] # it is indexing example."
   ]
  },
  {
   "cell_type": "code",
   "execution_count": 209,
   "id": "8aa7ef5c",
   "metadata": {},
   "outputs": [
    {
     "data": {
      "text/plain": [
       "44"
      ]
     },
     "execution_count": 209,
     "metadata": {},
     "output_type": "execute_result"
    }
   ],
   "source": [
    "team[3] "
   ]
  },
  {
   "cell_type": "code",
   "execution_count": 82,
   "id": "9027c797",
   "metadata": {},
   "outputs": [],
   "source": [
    "team=[1.2,3,4,44,567,'adiram',3,4,56,4]"
   ]
  },
  {
   "cell_type": "code",
   "execution_count": 212,
   "id": "5522e4de",
   "metadata": {},
   "outputs": [
    {
     "data": {
      "text/plain": [
       "1"
      ]
     },
     "execution_count": 212,
     "metadata": {},
     "output_type": "execute_result"
    }
   ],
   "source": [
    "team.index(3)"
   ]
  },
  {
   "cell_type": "code",
   "execution_count": 213,
   "id": "6523deb6",
   "metadata": {},
   "outputs": [
    {
     "data": {
      "text/plain": [
       "6"
      ]
     },
     "execution_count": 213,
     "metadata": {},
     "output_type": "execute_result"
    }
   ],
   "source": [
    "team.index(3,2) # here 2 is occurence"
   ]
  },
  {
   "cell_type": "code",
   "execution_count": 84,
   "id": "8a7fe866",
   "metadata": {},
   "outputs": [
    {
     "data": {
      "text/plain": [
       "7"
      ]
     },
     "execution_count": 84,
     "metadata": {},
     "output_type": "execute_result"
    }
   ],
   "source": [
    "team.index(4,4)"
   ]
  },
  {
   "cell_type": "code",
   "execution_count": 85,
   "id": "f4f97a1a",
   "metadata": {},
   "outputs": [
    {
     "data": {
      "text/plain": [
       "7"
      ]
     },
     "execution_count": 85,
     "metadata": {},
     "output_type": "execute_result"
    }
   ],
   "source": [
    "team.index(4,5)"
   ]
  },
  {
   "cell_type": "code",
   "execution_count": 215,
   "id": "7abeb409",
   "metadata": {},
   "outputs": [
    {
     "data": {
      "text/plain": [
       "2"
      ]
     },
     "execution_count": 215,
     "metadata": {},
     "output_type": "execute_result"
    }
   ],
   "source": [
    "team.index(4,2)"
   ]
  },
  {
   "cell_type": "code",
   "execution_count": 9,
   "id": "00388ffb",
   "metadata": {},
   "outputs": [
    {
     "data": {
      "text/plain": [
       "2"
      ]
     },
     "execution_count": 9,
     "metadata": {},
     "output_type": "execute_result"
    }
   ],
   "source": [
    "list1 = [1,2,4,2,4,3,4,6,8,7,4]\n",
    "list1.index(4)"
   ]
  },
  {
   "cell_type": "code",
   "execution_count": 2,
   "id": "587f1c30",
   "metadata": {},
   "outputs": [
    {
     "data": {
      "text/plain": [
       "2"
      ]
     },
     "execution_count": 2,
     "metadata": {},
     "output_type": "execute_result"
    }
   ],
   "source": [
    "list1.index(4,1)"
   ]
  },
  {
   "cell_type": "code",
   "execution_count": 14,
   "id": "a8d43c39",
   "metadata": {},
   "outputs": [
    {
     "data": {
      "text/plain": [
       "10"
      ]
     },
     "execution_count": 14,
     "metadata": {},
     "output_type": "execute_result"
    }
   ],
   "source": [
    "list1.index(4,7)"
   ]
  },
  {
   "cell_type": "code",
   "execution_count": null,
   "id": "d4cc5c06",
   "metadata": {},
   "outputs": [],
   "source": []
  },
  {
   "cell_type": "markdown",
   "id": "d3e75f20",
   "metadata": {},
   "source": [
    "### 4.insert()"
   ]
  },
  {
   "cell_type": "raw",
   "id": "fb1e4175",
   "metadata": {},
   "source": [
    "we can add any element at any position of existing list.\n",
    "list.insert(index,value)"
   ]
  },
  {
   "cell_type": "code",
   "execution_count": 216,
   "id": "e726d8d5",
   "metadata": {},
   "outputs": [],
   "source": [
    "t1=[11,22,33,45,667,6,54,]\n",
    "t2=[23,45,66,77,67]"
   ]
  },
  {
   "cell_type": "code",
   "execution_count": 217,
   "id": "3cec5275",
   "metadata": {},
   "outputs": [],
   "source": [
    "t1.insert(3,'ram lal pyare $$')"
   ]
  },
  {
   "cell_type": "code",
   "execution_count": 218,
   "id": "06b12144",
   "metadata": {},
   "outputs": [
    {
     "data": {
      "text/plain": [
       "[11, 22, 33, 'ram lal pyare $$', 45, 667, 6, 54]"
      ]
     },
     "execution_count": 218,
     "metadata": {},
     "output_type": "execute_result"
    }
   ],
   "source": [
    "t1"
   ]
  },
  {
   "cell_type": "code",
   "execution_count": 219,
   "id": "24e1a3b8",
   "metadata": {},
   "outputs": [],
   "source": [
    "t1.insert(5,'dada')"
   ]
  },
  {
   "cell_type": "code",
   "execution_count": 220,
   "id": "8540b942",
   "metadata": {},
   "outputs": [
    {
     "data": {
      "text/plain": [
       "[11, 22, 33, 'ram lal pyare $$', 45, 'dada', 667, 6, 54]"
      ]
     },
     "execution_count": 220,
     "metadata": {},
     "output_type": "execute_result"
    }
   ],
   "source": [
    "t1"
   ]
  },
  {
   "cell_type": "code",
   "execution_count": 221,
   "id": "32811168",
   "metadata": {},
   "outputs": [],
   "source": [
    "t1.insert(5,45)"
   ]
  },
  {
   "cell_type": "code",
   "execution_count": 222,
   "id": "b3ca3fb6",
   "metadata": {},
   "outputs": [
    {
     "data": {
      "text/plain": [
       "[11, 22, 33, 'ram lal pyare $$', 45, 45, 'dada', 667, 6, 54]"
      ]
     },
     "execution_count": 222,
     "metadata": {},
     "output_type": "execute_result"
    }
   ],
   "source": [
    "t1"
   ]
  },
  {
   "cell_type": "code",
   "execution_count": 223,
   "id": "adeaaa8c",
   "metadata": {},
   "outputs": [],
   "source": [
    "t1.insert(2,[3,4,5,'ram','sham'])"
   ]
  },
  {
   "cell_type": "code",
   "execution_count": 224,
   "id": "5aaf8a40",
   "metadata": {},
   "outputs": [
    {
     "data": {
      "text/plain": [
       "[11,\n",
       " 22,\n",
       " [3, 4, 5, 'ram', 'sham'],\n",
       " 33,\n",
       " 'ram lal pyare $$',\n",
       " 45,\n",
       " 45,\n",
       " 'dada',\n",
       " 667,\n",
       " 6,\n",
       " 54]"
      ]
     },
     "execution_count": 224,
     "metadata": {},
     "output_type": "execute_result"
    }
   ],
   "source": [
    "t1"
   ]
  },
  {
   "cell_type": "code",
   "execution_count": 225,
   "id": "c7ac8434",
   "metadata": {},
   "outputs": [
    {
     "name": "stdout",
     "output_type": "stream",
     "text": [
      "[11, 22, [3, 4, 5, 'ram', 'sham'], 33, 'ram lal pyare $$', 45, 45, 'dada', 667, 6, 54]\n"
     ]
    }
   ],
   "source": [
    "print(t1)"
   ]
  },
  {
   "cell_type": "code",
   "execution_count": 226,
   "id": "e7a96740",
   "metadata": {},
   "outputs": [],
   "source": [
    "t1.insert(6,t2)"
   ]
  },
  {
   "cell_type": "code",
   "execution_count": 227,
   "id": "3f45d2be",
   "metadata": {},
   "outputs": [
    {
     "name": "stdout",
     "output_type": "stream",
     "text": [
      "[11, 22, [3, 4, 5, 'ram', 'sham'], 33, 'ram lal pyare $$', 45, [23, 45, 66, 77, 67], 45, 'dada', 667, 6, 54]\n"
     ]
    }
   ],
   "source": [
    "print(t1)"
   ]
  },
  {
   "cell_type": "code",
   "execution_count": 228,
   "id": "4cb6bfc7",
   "metadata": {},
   "outputs": [],
   "source": [
    "t1.insert(2,'t3')"
   ]
  },
  {
   "cell_type": "code",
   "execution_count": 229,
   "id": "ca76522f",
   "metadata": {},
   "outputs": [
    {
     "data": {
      "text/plain": [
       "[11,\n",
       " 22,\n",
       " 't3',\n",
       " [3, 4, 5, 'ram', 'sham'],\n",
       " 33,\n",
       " 'ram lal pyare $$',\n",
       " 45,\n",
       " [23, 45, 66, 77, 67],\n",
       " 45,\n",
       " 'dada',\n",
       " 667,\n",
       " 6,\n",
       " 54]"
      ]
     },
     "execution_count": 229,
     "metadata": {},
     "output_type": "execute_result"
    }
   ],
   "source": [
    "t1"
   ]
  },
  {
   "cell_type": "code",
   "execution_count": 230,
   "id": "309718b0",
   "metadata": {},
   "outputs": [
    {
     "name": "stdout",
     "output_type": "stream",
     "text": [
      "[11, 22, 't3', [3, 4, 5, 'ram', 'sham'], 33, 'ram lal pyare $$', 45, [23, 45, 66, 77, 67], 45, 'dada', 667, 6, 54]\n"
     ]
    }
   ],
   "source": [
    "print(t1)"
   ]
  },
  {
   "cell_type": "markdown",
   "id": "12dd9f23",
   "metadata": {},
   "source": [
    "### 5.remove()"
   ]
  },
  {
   "cell_type": "raw",
   "id": "4dd0457a",
   "metadata": {},
   "source": [
    "we can remove the element from the list.\n",
    "in for loop by deafault it removes the first occurence of the element.\n",
    "list.remove(item)\n",
    "in paranthesis we put that element which we want to remove"
   ]
  },
  {
   "cell_type": "code",
   "execution_count": 1,
   "id": "bac4fbcd",
   "metadata": {},
   "outputs": [],
   "source": [
    "tem=[21,3,4,5,55,67,8]"
   ]
  },
  {
   "cell_type": "code",
   "execution_count": 232,
   "id": "2914f08f",
   "metadata": {},
   "outputs": [],
   "source": [
    "tem.remove(3)"
   ]
  },
  {
   "cell_type": "code",
   "execution_count": 233,
   "id": "5266d01d",
   "metadata": {},
   "outputs": [
    {
     "data": {
      "text/plain": [
       "[21, 4, 5, 55, 67, 8]"
      ]
     },
     "execution_count": 233,
     "metadata": {},
     "output_type": "execute_result"
    }
   ],
   "source": [
    "tem"
   ]
  },
  {
   "cell_type": "code",
   "execution_count": 234,
   "id": "e7108699",
   "metadata": {},
   "outputs": [
    {
     "data": {
      "text/plain": [
       "[21, 4, 5, 55, 67, 8]"
      ]
     },
     "execution_count": 234,
     "metadata": {},
     "output_type": "execute_result"
    }
   ],
   "source": [
    "tem"
   ]
  },
  {
   "cell_type": "code",
   "execution_count": 235,
   "id": "ca6bb42f",
   "metadata": {},
   "outputs": [],
   "source": [
    "tem.remove(5)"
   ]
  },
  {
   "cell_type": "code",
   "execution_count": 236,
   "id": "2006db7d",
   "metadata": {},
   "outputs": [
    {
     "data": {
      "text/plain": [
       "[21, 4, 55, 67, 8]"
      ]
     },
     "execution_count": 236,
     "metadata": {},
     "output_type": "execute_result"
    }
   ],
   "source": [
    "tem"
   ]
  },
  {
   "cell_type": "code",
   "execution_count": 237,
   "id": "059c4bf4",
   "metadata": {},
   "outputs": [],
   "source": [
    "tem=[21,3,4,5,55,67,8,5,4,4,6]"
   ]
  },
  {
   "cell_type": "code",
   "execution_count": 238,
   "id": "a834a141",
   "metadata": {},
   "outputs": [],
   "source": [
    "tem.remove(5)"
   ]
  },
  {
   "cell_type": "code",
   "execution_count": 239,
   "id": "4cb2b95c",
   "metadata": {},
   "outputs": [
    {
     "data": {
      "text/plain": [
       "[21, 3, 4, 55, 67, 8, 5, 4, 4, 6]"
      ]
     },
     "execution_count": 239,
     "metadata": {},
     "output_type": "execute_result"
    }
   ],
   "source": [
    "tem"
   ]
  },
  {
   "cell_type": "code",
   "execution_count": 240,
   "id": "c6be10ca",
   "metadata": {},
   "outputs": [
    {
     "ename": "TypeError",
     "evalue": "list.remove() takes exactly one argument (2 given)",
     "output_type": "error",
     "traceback": [
      "\u001b[1;31m---------------------------------------------------------------------------\u001b[0m",
      "\u001b[1;31mTypeError\u001b[0m                                 Traceback (most recent call last)",
      "Input \u001b[1;32mIn [240]\u001b[0m, in \u001b[0;36m<cell line: 1>\u001b[1;34m()\u001b[0m\n\u001b[1;32m----> 1\u001b[0m \u001b[43mtem\u001b[49m\u001b[38;5;241;43m.\u001b[39;49m\u001b[43mremove\u001b[49m\u001b[43m(\u001b[49m\u001b[38;5;241;43m5\u001b[39;49m\u001b[43m,\u001b[49m\u001b[38;5;241;43m2\u001b[39;49m\u001b[43m)\u001b[49m\n",
      "\u001b[1;31mTypeError\u001b[0m: list.remove() takes exactly one argument (2 given)"
     ]
    }
   ],
   "source": [
    "tem.remove(5,2)"
   ]
  },
  {
   "cell_type": "code",
   "execution_count": 241,
   "id": "e8941c6d",
   "metadata": {},
   "outputs": [
    {
     "ename": "TypeError",
     "evalue": "list.remove() takes exactly one argument (0 given)",
     "output_type": "error",
     "traceback": [
      "\u001b[1;31m---------------------------------------------------------------------------\u001b[0m",
      "\u001b[1;31mTypeError\u001b[0m                                 Traceback (most recent call last)",
      "Input \u001b[1;32mIn [241]\u001b[0m, in \u001b[0;36m<cell line: 1>\u001b[1;34m()\u001b[0m\n\u001b[1;32m----> 1\u001b[0m \u001b[43mtem\u001b[49m\u001b[38;5;241;43m.\u001b[39;49m\u001b[43mremove\u001b[49m\u001b[43m(\u001b[49m\u001b[43m)\u001b[49m\n",
      "\u001b[1;31mTypeError\u001b[0m: list.remove() takes exactly one argument (0 given)"
     ]
    }
   ],
   "source": [
    "tem.remove()"
   ]
  },
  {
   "cell_type": "code",
   "execution_count": 242,
   "id": "790927d8",
   "metadata": {},
   "outputs": [
    {
     "ename": "ValueError",
     "evalue": "list.remove(x): x not in list",
     "output_type": "error",
     "traceback": [
      "\u001b[1;31m---------------------------------------------------------------------------\u001b[0m",
      "\u001b[1;31mValueError\u001b[0m                                Traceback (most recent call last)",
      "Input \u001b[1;32mIn [242]\u001b[0m, in \u001b[0;36m<cell line: 1>\u001b[1;34m()\u001b[0m\n\u001b[1;32m----> 1\u001b[0m \u001b[43mtem\u001b[49m\u001b[38;5;241;43m.\u001b[39;49m\u001b[43mremove\u001b[49m\u001b[43m(\u001b[49m\u001b[38;5;241;43m56\u001b[39;49m\u001b[43m)\u001b[49m\n",
      "\u001b[1;31mValueError\u001b[0m: list.remove(x): x not in list"
     ]
    }
   ],
   "source": [
    "tem.remove(56)"
   ]
  },
  {
   "cell_type": "markdown",
   "id": "e88de42c",
   "metadata": {},
   "source": [
    "## 6.pop()"
   ]
  },
  {
   "cell_type": "raw",
   "id": "33d12c47",
   "metadata": {},
   "source": [
    "Pop does work like remove only.\n",
    "syntax>> list.pop(index)\n",
    "Whenever we do not mention anything in the bracket/paranthesis, then by default it will remove the element which is at the -1 index. means it removes last value of list.\n",
    "in paranthesis we put that index number which we want to remove"
   ]
  },
  {
   "cell_type": "code",
   "execution_count": 243,
   "id": "b745a018",
   "metadata": {},
   "outputs": [
    {
     "data": {
      "text/plain": [
       "[2, 3, 44, 55, 67, 'rami', 'daddy']"
      ]
     },
     "execution_count": 243,
     "metadata": {},
     "output_type": "execute_result"
    }
   ],
   "source": [
    "harry=[2,3,44,55,67,'rami','daddy']\n",
    "harry"
   ]
  },
  {
   "cell_type": "code",
   "execution_count": 244,
   "id": "89887581",
   "metadata": {},
   "outputs": [
    {
     "data": {
      "text/plain": [
       "44"
      ]
     },
     "execution_count": 244,
     "metadata": {},
     "output_type": "execute_result"
    }
   ],
   "source": [
    "harry[2]"
   ]
  },
  {
   "cell_type": "code",
   "execution_count": 245,
   "id": "477fb42f",
   "metadata": {},
   "outputs": [
    {
     "data": {
      "text/plain": [
       "44"
      ]
     },
     "execution_count": 245,
     "metadata": {},
     "output_type": "execute_result"
    }
   ],
   "source": [
    "harry.pop(2)"
   ]
  },
  {
   "cell_type": "code",
   "execution_count": 246,
   "id": "3a0d187d",
   "metadata": {},
   "outputs": [
    {
     "data": {
      "text/plain": [
       "[2, 3, 55, 67, 'rami', 'daddy']"
      ]
     },
     "execution_count": 246,
     "metadata": {},
     "output_type": "execute_result"
    }
   ],
   "source": [
    "harry"
   ]
  },
  {
   "cell_type": "code",
   "execution_count": 247,
   "id": "44124f09",
   "metadata": {},
   "outputs": [
    {
     "data": {
      "text/plain": [
       "[1, 4, 8, 9, 'data', 'Python']"
      ]
     },
     "execution_count": 247,
     "metadata": {},
     "output_type": "execute_result"
    }
   ],
   "source": [
    "list1 = [ 1,4,8,9,'data','Python']\n",
    "list1"
   ]
  },
  {
   "cell_type": "code",
   "execution_count": 248,
   "id": "c31ead95",
   "metadata": {},
   "outputs": [
    {
     "data": {
      "text/plain": [
       "'Python'"
      ]
     },
     "execution_count": 248,
     "metadata": {},
     "output_type": "execute_result"
    }
   ],
   "source": [
    "list1.pop()"
   ]
  },
  {
   "cell_type": "code",
   "execution_count": 249,
   "id": "34c5c1cb",
   "metadata": {},
   "outputs": [
    {
     "data": {
      "text/plain": [
       "[1, 4, 8, 9, 'data']"
      ]
     },
     "execution_count": 249,
     "metadata": {},
     "output_type": "execute_result"
    }
   ],
   "source": [
    "list1"
   ]
  },
  {
   "cell_type": "code",
   "execution_count": 3,
   "id": "7a6476a8",
   "metadata": {},
   "outputs": [],
   "source": [
    "rams=[23,45,67,889,1,2,33,567]"
   ]
  },
  {
   "cell_type": "code",
   "execution_count": 4,
   "id": "9038fe9f",
   "metadata": {},
   "outputs": [
    {
     "data": {
      "text/plain": [
       "[23, 45, 67, 889, 1, 2, 33, 567]"
      ]
     },
     "execution_count": 4,
     "metadata": {},
     "output_type": "execute_result"
    }
   ],
   "source": [
    "rams"
   ]
  },
  {
   "cell_type": "code",
   "execution_count": 5,
   "id": "4a7a8816",
   "metadata": {},
   "outputs": [
    {
     "data": {
      "text/plain": [
       "[23, 45, 67, 889, 1, 2, 33]"
      ]
     },
     "execution_count": 5,
     "metadata": {},
     "output_type": "execute_result"
    }
   ],
   "source": [
    "rams.pop()\n",
    "rams"
   ]
  },
  {
   "cell_type": "code",
   "execution_count": 6,
   "id": "ed22740d",
   "metadata": {},
   "outputs": [
    {
     "data": {
      "text/plain": [
       "[23, 45, 67, 1, 2, 33]"
      ]
     },
     "execution_count": 6,
     "metadata": {},
     "output_type": "execute_result"
    }
   ],
   "source": [
    "rams.pop(3)\n",
    "rams"
   ]
  },
  {
   "cell_type": "code",
   "execution_count": 7,
   "id": "efddb508",
   "metadata": {},
   "outputs": [
    {
     "data": {
      "text/plain": [
       "[23, 45, 67, 2, 33]"
      ]
     },
     "execution_count": 7,
     "metadata": {},
     "output_type": "execute_result"
    }
   ],
   "source": [
    "rams.pop(3)\n",
    "rams"
   ]
  },
  {
   "cell_type": "code",
   "execution_count": 8,
   "id": "6bd23e73",
   "metadata": {},
   "outputs": [
    {
     "data": {
      "text/plain": [
       "[23, 45, 67, 2]"
      ]
     },
     "execution_count": 8,
     "metadata": {},
     "output_type": "execute_result"
    }
   ],
   "source": [
    "rams.remove(33)\n",
    "rams"
   ]
  },
  {
   "cell_type": "code",
   "execution_count": 9,
   "id": "263bd8c4",
   "metadata": {},
   "outputs": [
    {
     "data": {
      "text/plain": [
       "[23, 45, 67, 2]"
      ]
     },
     "execution_count": 9,
     "metadata": {},
     "output_type": "execute_result"
    }
   ],
   "source": [
    "rams"
   ]
  },
  {
   "cell_type": "code",
   "execution_count": 10,
   "id": "deaa1084",
   "metadata": {},
   "outputs": [
    {
     "data": {
      "text/plain": [
       "2"
      ]
     },
     "execution_count": 10,
     "metadata": {},
     "output_type": "execute_result"
    }
   ],
   "source": [
    "rams.pop()"
   ]
  },
  {
   "cell_type": "code",
   "execution_count": 11,
   "id": "e1f11151",
   "metadata": {},
   "outputs": [
    {
     "data": {
      "text/plain": [
       "[23, 45, 67]"
      ]
     },
     "execution_count": 11,
     "metadata": {},
     "output_type": "execute_result"
    }
   ],
   "source": [
    "rams"
   ]
  },
  {
   "cell_type": "code",
   "execution_count": 255,
   "id": "b5752ac0",
   "metadata": {},
   "outputs": [
    {
     "ename": "IndexError",
     "evalue": "pop index out of range",
     "output_type": "error",
     "traceback": [
      "\u001b[1;31m---------------------------------------------------------------------------\u001b[0m",
      "\u001b[1;31mIndexError\u001b[0m                                Traceback (most recent call last)",
      "Input \u001b[1;32mIn [255]\u001b[0m, in \u001b[0;36m<cell line: 1>\u001b[1;34m()\u001b[0m\n\u001b[1;32m----> 1\u001b[0m \u001b[43mrams\u001b[49m\u001b[38;5;241;43m.\u001b[39;49m\u001b[43mpop\u001b[49m\u001b[43m(\u001b[49m\u001b[38;5;241;43m33\u001b[39;49m\u001b[43m)\u001b[49m\n\u001b[0;32m      2\u001b[0m rams\n",
      "\u001b[1;31mIndexError\u001b[0m: pop index out of range"
     ]
    }
   ],
   "source": [
    "rams.pop(33)\n",
    "rams"
   ]
  },
  {
   "cell_type": "code",
   "execution_count": 1,
   "id": "31e89201",
   "metadata": {},
   "outputs": [],
   "source": [
    "list1 = [ 1,4,8,9,'data','Python']"
   ]
  },
  {
   "cell_type": "code",
   "execution_count": 2,
   "id": "b063b5a9",
   "metadata": {},
   "outputs": [
    {
     "name": "stdout",
     "output_type": "stream",
     "text": [
      "the list before [1, 4, 8, 9, 'data', 'Python']\n",
      "6\n",
      "list after []\n"
     ]
    }
   ],
   "source": [
    "print('the list before',list1)\n",
    "j=len(list1)\n",
    "print(j)\n",
    "for i in range(0,j):# range(0,7), 0,1,2,3,4,5,6\n",
    "    list1.pop()\n",
    "print('list after',list1)\n",
    "    \n",
    "    "
   ]
  },
  {
   "cell_type": "code",
   "execution_count": 82,
   "id": "9a3384cb",
   "metadata": {},
   "outputs": [
    {
     "name": "stdout",
     "output_type": "stream",
     "text": [
      "list before [1, 4, 8, 9, 'data', 'Python']\n",
      "6\n",
      "list after [1, 4, 8, 9, 'data']\n",
      "list after [1, 4, 8, 9]\n",
      "list after [1, 4, 8]\n",
      "list after [1, 4]\n",
      "list after [1]\n",
      "list after []\n"
     ]
    }
   ],
   "source": [
    "print('list before',list1)\n",
    "j=len(list1)\n",
    "print(j)\n",
    "for i in range(0,j): # range(0,7), 0,1,2,3,4,5,6\n",
    "    list1.pop()\n",
    "    print('list after',list1)"
   ]
  },
  {
   "cell_type": "code",
   "execution_count": 17,
   "id": "df889309",
   "metadata": {},
   "outputs": [
    {
     "name": "stdout",
     "output_type": "stream",
     "text": [
      "1\n",
      "updated list [4, 8, 9, 'data', 'Python']\n",
      "8\n",
      "updated list [4, 9, 'data', 'Python']\n",
      "data\n",
      "updated list [4, 9, 'Python']\n"
     ]
    }
   ],
   "source": [
    "list1 = [ 1,4,8,9,'data','Python']\n",
    "for i in list1:# [4, 8, 9, 'data', 'Python'],[4, 9, 'data', 'Python'],[4, 9, 'Python']\n",
    "    print(i)\n",
    "    list1.remove(i)\n",
    "    print('updated list',list1)\n",
    "    "
   ]
  },
  {
   "cell_type": "code",
   "execution_count": 11,
   "id": "d31194fe",
   "metadata": {},
   "outputs": [
    {
     "name": "stdout",
     "output_type": "stream",
     "text": [
      "1 4\n",
      "4 4\n",
      "8 4\n",
      "9 4\n",
      "data 4\n",
      "Python 4\n"
     ]
    }
   ],
   "source": [
    "list1 = [ 1,4,8,9,'data','Python']\n",
    "for i in list1:\n",
    "    index=4\n",
    "    print(i,index)"
   ]
  },
  {
   "cell_type": "code",
   "execution_count": 1,
   "id": "0a27ee13",
   "metadata": {},
   "outputs": [
    {
     "name": "stdout",
     "output_type": "stream",
     "text": [
      "d 2\n",
      "y 3\n",
      "n 1\n",
      "a 2\n",
      "m 1\n",
      "i 1\n",
      "c 1\n",
      "a 2\n",
      "l 2\n",
      "l 2\n",
      "y 3\n",
      "  1\n",
      "t 1\n",
      "y 3\n",
      "p 1\n",
      "e 1\n",
      "d 2\n"
     ]
    }
   ],
   "source": [
    "a='dynamically typed'\n",
    "for i in a:\n",
    "    print(i,a.count(i))"
   ]
  },
  {
   "cell_type": "code",
   "execution_count": 1,
   "id": "389578d6",
   "metadata": {},
   "outputs": [
    {
     "name": "stdout",
     "output_type": "stream",
     "text": [
      "d 2\n",
      "y 3\n",
      "n 1\n",
      "a 2\n",
      "m 1\n",
      "i 1\n",
      "c 1\n",
      "a 2\n",
      "l 2\n",
      "l 2\n",
      "y 3\n",
      "  1\n",
      "t 1\n",
      "y 3\n",
      "p 1\n",
      "e 1\n",
      "d 2\n"
     ]
    }
   ],
   "source": [
    "a=\"dynamically typed\"\n",
    "for i in a:\n",
    "    b=a.count(i)\n",
    "    print(i,b)"
   ]
  },
  {
   "cell_type": "code",
   "execution_count": 12,
   "id": "ac36ccc4",
   "metadata": {},
   "outputs": [
    {
     "name": "stdout",
     "output_type": "stream",
     "text": [
      "1\n",
      "4\n",
      "8\n",
      "9\n",
      "data\n",
      "Python\n"
     ]
    }
   ],
   "source": [
    "list1 = [ 1,4,8,9,'data','Python']\n",
    "for i in list1:\n",
    "    print(i)"
   ]
  },
  {
   "cell_type": "code",
   "execution_count": 18,
   "id": "e4c4213c",
   "metadata": {},
   "outputs": [
    {
     "name": "stdout",
     "output_type": "stream",
     "text": [
      "0\n",
      "1\n",
      "2\n",
      "3\n",
      "4\n",
      "5\n",
      "6\n"
     ]
    }
   ],
   "source": [
    "for i in range(0,7):\n",
    "    print(i)"
   ]
  },
  {
   "cell_type": "code",
   "execution_count": 23,
   "id": "db676491",
   "metadata": {},
   "outputs": [
    {
     "name": "stdout",
     "output_type": "stream",
     "text": [
      "list updated [5, 'Python', 'Data Science', 10, 25, 4, 30]\n",
      "list updated [5, 'Data Science', 10, 25, 4, 30]\n",
      "list updated [5, 'Data Science', 25, 4, 30]\n",
      "list updated [5, 'Data Science', 25, 30]\n"
     ]
    }
   ],
   "source": [
    "list2 = [2,5,'Python','Data Science',10,25,4,30]\n",
    "for i in list2:# [5,'Python','Data Science',10,25,4,30], [5,'Data Science',10,25,4,30], [5,'Data Science',25,4,30],[5,'Data Science',25,30]\n",
    "    #print(i)\n",
    "    list2.remove(i)\n",
    "    print('list updated',list2)\n",
    "# [2,5,'Python','Data Science',10,25,4,30]\n",
    "# [5,'Python','Data Science',10,25,4,30]\n",
    "# [5,'Data Science',10,25,4,30]\n",
    "# [5,'Data Science',25,4,30]\n",
    "# [5,'Data Science',25,30]"
   ]
  },
  {
   "cell_type": "code",
   "execution_count": 26,
   "id": "7df5cf32",
   "metadata": {},
   "outputs": [
    {
     "name": "stdout",
     "output_type": "stream",
     "text": [
      "2\n",
      "list updated [5, 'Python', 'Data Science', 10, 25, 4, 30]\n",
      "Python\n",
      "list updated [5, 'Data Science', 10, 25, 4, 30]\n",
      "10\n",
      "list updated [5, 'Data Science', 25, 4, 30]\n",
      "4\n",
      "list updated [5, 'Data Science', 25, 30]\n"
     ]
    }
   ],
   "source": [
    "list2 = [2,5,'Python','Data Science',10,25,4,30]\n",
    "for i in list2:# [5,'Python','Data Science',10,25,4,30], [5,'Data Science',10,25,4,30], [5,'Data Science',25,4,30],[5,'Data Science',25,30]\n",
    "    print(i)\n",
    "    list2.remove(i)\n",
    "    print('list updated',list2)\n",
    "# [2,5,'Python','Data Science',10,25,4,30]\n",
    "# [5,'Python','Data Science',10,25,4,30]\n",
    "# [5,'Data Science',10,25,4,30]\n",
    "# [5,'Data Science',25,4,30]\n",
    "# [5,'Data Science',25,30]"
   ]
  },
  {
   "cell_type": "code",
   "execution_count": 26,
   "id": "2cae178a",
   "metadata": {},
   "outputs": [],
   "source": [
    "t1=[]"
   ]
  },
  {
   "cell_type": "code",
   "execution_count": 27,
   "id": "3cda1fbc",
   "metadata": {},
   "outputs": [
    {
     "data": {
      "text/plain": [
       "[]"
      ]
     },
     "execution_count": 27,
     "metadata": {},
     "output_type": "execute_result"
    }
   ],
   "source": [
    "t1"
   ]
  },
  {
   "cell_type": "code",
   "execution_count": 28,
   "id": "2b44c3be",
   "metadata": {},
   "outputs": [
    {
     "name": "stdout",
     "output_type": "stream",
     "text": [
      "there is nothing in list\n"
     ]
    }
   ],
   "source": [
    "if len(t1)==0:\n",
    "    print('there is nothing in list')\n",
    "else:\n",
    "    print('there is something in list')\n"
   ]
  },
  {
   "cell_type": "code",
   "execution_count": 29,
   "id": "eab58cc9",
   "metadata": {},
   "outputs": [
    {
     "name": "stdout",
     "output_type": "stream",
     "text": [
      "empty list\n"
     ]
    }
   ],
   "source": [
    "if not t1:\n",
    "    print('empty list')\n",
    "else:\n",
    "    print('it is fullfill')"
   ]
  },
  {
   "cell_type": "markdown",
   "id": "35090aa6",
   "metadata": {},
   "source": [
    "###  7.clear()"
   ]
  },
  {
   "cell_type": "raw",
   "id": "a56cbd0c",
   "metadata": {},
   "source": [
    "it clears all the elements in the list."
   ]
  },
  {
   "cell_type": "code",
   "execution_count": 266,
   "id": "53543b9d",
   "metadata": {},
   "outputs": [
    {
     "data": {
      "text/plain": [
       "[23, 45, 67, 889, 1, 2, 33, 567]"
      ]
     },
     "execution_count": 266,
     "metadata": {},
     "output_type": "execute_result"
    }
   ],
   "source": [
    "rams=[23,45,67,889,1,2,33,567]\n",
    "rams"
   ]
  },
  {
   "cell_type": "code",
   "execution_count": 267,
   "id": "bbbc358d",
   "metadata": {},
   "outputs": [],
   "source": [
    "rams.clear()"
   ]
  },
  {
   "cell_type": "code",
   "execution_count": 268,
   "id": "dcedc8f8",
   "metadata": {},
   "outputs": [
    {
     "data": {
      "text/plain": [
       "[]"
      ]
     },
     "execution_count": 268,
     "metadata": {},
     "output_type": "execute_result"
    }
   ],
   "source": [
    "rams"
   ]
  },
  {
   "cell_type": "code",
   "execution_count": 2,
   "id": "f7f91675",
   "metadata": {},
   "outputs": [
    {
     "data": {
      "text/plain": [
       "[23, 45, 67, 889, 1, 2, 'python', 'rakhi']"
      ]
     },
     "execution_count": 2,
     "metadata": {},
     "output_type": "execute_result"
    }
   ],
   "source": [
    "ram=[23,45,67,889,1,2,'python','rakhi']\n",
    "ram"
   ]
  },
  {
   "cell_type": "code",
   "execution_count": 4,
   "id": "fc27a46e",
   "metadata": {},
   "outputs": [
    {
     "ename": "TypeError",
     "evalue": "list.clear() takes no arguments (1 given)",
     "output_type": "error",
     "traceback": [
      "\u001b[1;31m---------------------------------------------------------------------------\u001b[0m",
      "\u001b[1;31mTypeError\u001b[0m                                 Traceback (most recent call last)",
      "Input \u001b[1;32mIn [4]\u001b[0m, in \u001b[0;36m<cell line: 1>\u001b[1;34m()\u001b[0m\n\u001b[1;32m----> 1\u001b[0m \u001b[43mram\u001b[49m\u001b[38;5;241;43m.\u001b[39;49m\u001b[43mclear\u001b[49m\u001b[43m(\u001b[49m\u001b[38;5;241;43m3\u001b[39;49m\u001b[43m)\u001b[49m\n",
      "\u001b[1;31mTypeError\u001b[0m: list.clear() takes no arguments (1 given)"
     ]
    }
   ],
   "source": [
    "ram.clear(3)"
   ]
  },
  {
   "cell_type": "code",
   "execution_count": 8,
   "id": "7e305dbf",
   "metadata": {},
   "outputs": [
    {
     "data": {
      "text/plain": [
       "[23, 45, 66, 78, 9, 7, 'ram']"
      ]
     },
     "execution_count": 8,
     "metadata": {},
     "output_type": "execute_result"
    }
   ],
   "source": [
    "a1=[23,45,66,78,9,7,'ram']\n",
    "a1"
   ]
  },
  {
   "cell_type": "code",
   "execution_count": 9,
   "id": "e9afe1d6",
   "metadata": {},
   "outputs": [],
   "source": [
    "a1.clear()"
   ]
  },
  {
   "cell_type": "code",
   "execution_count": 10,
   "id": "2d13c270",
   "metadata": {},
   "outputs": [
    {
     "data": {
      "text/plain": [
       "[]"
      ]
     },
     "execution_count": 10,
     "metadata": {},
     "output_type": "execute_result"
    }
   ],
   "source": [
    "a1"
   ]
  },
  {
   "cell_type": "code",
   "execution_count": 11,
   "id": "127f239f",
   "metadata": {},
   "outputs": [
    {
     "data": {
      "text/plain": [
       "[23, 45, 66, 78, 9, 7, 'ram', 'sham']"
      ]
     },
     "execution_count": 11,
     "metadata": {},
     "output_type": "execute_result"
    }
   ],
   "source": [
    "a1=[23,45,66,78,9,7,'ram','sham']\n",
    "a1"
   ]
  },
  {
   "cell_type": "code",
   "execution_count": 12,
   "id": "32e701d6",
   "metadata": {},
   "outputs": [],
   "source": [
    "a1.clear()"
   ]
  },
  {
   "cell_type": "code",
   "execution_count": 13,
   "id": "9bc4f87c",
   "metadata": {},
   "outputs": [
    {
     "data": {
      "text/plain": [
       "[]"
      ]
     },
     "execution_count": 13,
     "metadata": {},
     "output_type": "execute_result"
    }
   ],
   "source": [
    "a1"
   ]
  },
  {
   "cell_type": "markdown",
   "id": "f1d89a87",
   "metadata": {},
   "source": [
    "### 8.del()"
   ]
  },
  {
   "cell_type": "raw",
   "id": "bb44ccdb",
   "metadata": {},
   "source": [
    "it simply delete the existing list"
   ]
  },
  {
   "cell_type": "code",
   "execution_count": 14,
   "id": "342e01e8",
   "metadata": {},
   "outputs": [
    {
     "data": {
      "text/plain": [
       "[23, 45, 66, 78, 9, 7, 'ram', 'sham']"
      ]
     },
     "execution_count": 14,
     "metadata": {},
     "output_type": "execute_result"
    }
   ],
   "source": [
    "a1=[23,45,66,78,9,7,'ram','sham']\n",
    "a1"
   ]
  },
  {
   "cell_type": "code",
   "execution_count": 15,
   "id": "1f50f091",
   "metadata": {},
   "outputs": [
    {
     "ename": "SyntaxError",
     "evalue": "invalid syntax (2411148784.py, line 1)",
     "output_type": "error",
     "traceback": [
      "\u001b[1;36m  Input \u001b[1;32mIn [15]\u001b[1;36m\u001b[0m\n\u001b[1;33m    a1.del()\u001b[0m\n\u001b[1;37m       ^\u001b[0m\n\u001b[1;31mSyntaxError\u001b[0m\u001b[1;31m:\u001b[0m invalid syntax\n"
     ]
    }
   ],
   "source": [
    "a1.del()"
   ]
  },
  {
   "cell_type": "code",
   "execution_count": 16,
   "id": "fc4a6906",
   "metadata": {},
   "outputs": [],
   "source": [
    "del(a1)"
   ]
  },
  {
   "cell_type": "code",
   "execution_count": 17,
   "id": "aa7ed76a",
   "metadata": {},
   "outputs": [
    {
     "ename": "NameError",
     "evalue": "name 'a1' is not defined",
     "output_type": "error",
     "traceback": [
      "\u001b[1;31m---------------------------------------------------------------------------\u001b[0m",
      "\u001b[1;31mNameError\u001b[0m                                 Traceback (most recent call last)",
      "Input \u001b[1;32mIn [17]\u001b[0m, in \u001b[0;36m<cell line: 1>\u001b[1;34m()\u001b[0m\n\u001b[1;32m----> 1\u001b[0m \u001b[43ma1\u001b[49m\n",
      "\u001b[1;31mNameError\u001b[0m: name 'a1' is not defined"
     ]
    }
   ],
   "source": [
    "a1"
   ]
  },
  {
   "cell_type": "code",
   "execution_count": 19,
   "id": "cce45ed1",
   "metadata": {},
   "outputs": [
    {
     "data": {
      "text/plain": [
       "[23, 45, 66, 78, 9, 7, 'ram', 'sham']"
      ]
     },
     "execution_count": 19,
     "metadata": {},
     "output_type": "execute_result"
    }
   ],
   "source": [
    "a2=[23,45,66,78,9,7,'ram','sham']\n",
    "a2"
   ]
  },
  {
   "cell_type": "code",
   "execution_count": 20,
   "id": "ecccf583",
   "metadata": {},
   "outputs": [],
   "source": [
    "del(a2)"
   ]
  },
  {
   "cell_type": "code",
   "execution_count": 21,
   "id": "9799bbc5",
   "metadata": {},
   "outputs": [
    {
     "ename": "NameError",
     "evalue": "name 'a2' is not defined",
     "output_type": "error",
     "traceback": [
      "\u001b[1;31m---------------------------------------------------------------------------\u001b[0m",
      "\u001b[1;31mNameError\u001b[0m                                 Traceback (most recent call last)",
      "Input \u001b[1;32mIn [21]\u001b[0m, in \u001b[0;36m<cell line: 1>\u001b[1;34m()\u001b[0m\n\u001b[1;32m----> 1\u001b[0m \u001b[43ma2\u001b[49m\n",
      "\u001b[1;31mNameError\u001b[0m: name 'a2' is not defined"
     ]
    }
   ],
   "source": [
    "a2"
   ]
  },
  {
   "cell_type": "code",
   "execution_count": 23,
   "id": "19492fff",
   "metadata": {},
   "outputs": [
    {
     "data": {
      "text/plain": [
       "[23, 45, 66, 78, 9, 7, 'ram', 'sham']"
      ]
     },
     "execution_count": 23,
     "metadata": {},
     "output_type": "execute_result"
    }
   ],
   "source": [
    "a2=[23,45,66,78,9,7,'ram','sham']\n",
    "a2"
   ]
  },
  {
   "cell_type": "code",
   "execution_count": 24,
   "id": "8db68138",
   "metadata": {},
   "outputs": [],
   "source": [
    "del a2 [3]"
   ]
  },
  {
   "cell_type": "code",
   "execution_count": 25,
   "id": "ca3f0161",
   "metadata": {},
   "outputs": [
    {
     "data": {
      "text/plain": [
       "[23, 45, 66, 9, 7, 'ram', 'sham']"
      ]
     },
     "execution_count": 25,
     "metadata": {},
     "output_type": "execute_result"
    }
   ],
   "source": [
    "a2"
   ]
  },
  {
   "cell_type": "code",
   "execution_count": 28,
   "id": "b2879dcd",
   "metadata": {},
   "outputs": [
    {
     "ename": "TypeError",
     "evalue": "list indices must be integers or slices, not str",
     "output_type": "error",
     "traceback": [
      "\u001b[1;31m---------------------------------------------------------------------------\u001b[0m",
      "\u001b[1;31mTypeError\u001b[0m                                 Traceback (most recent call last)",
      "Input \u001b[1;32mIn [28]\u001b[0m, in \u001b[0;36m<cell line: 1>\u001b[1;34m()\u001b[0m\n\u001b[1;32m----> 1\u001b[0m \u001b[38;5;28;01mdel\u001b[39;00m a2[\u001b[38;5;124m'\u001b[39m\u001b[38;5;124mram\u001b[39m\u001b[38;5;124m'\u001b[39m]\n",
      "\u001b[1;31mTypeError\u001b[0m: list indices must be integers or slices, not str"
     ]
    }
   ],
   "source": [
    "del a2['ram']"
   ]
  },
  {
   "cell_type": "code",
   "execution_count": 29,
   "id": "6d592394",
   "metadata": {},
   "outputs": [],
   "source": [
    "del a2[-3]"
   ]
  },
  {
   "cell_type": "code",
   "execution_count": 30,
   "id": "0ed9c983",
   "metadata": {},
   "outputs": [
    {
     "data": {
      "text/plain": [
       "[23, 45, 66, 9, 'ram', 'sham']"
      ]
     },
     "execution_count": 30,
     "metadata": {},
     "output_type": "execute_result"
    }
   ],
   "source": [
    "a2"
   ]
  },
  {
   "cell_type": "code",
   "execution_count": 31,
   "id": "782b18ca",
   "metadata": {},
   "outputs": [],
   "source": [
    "del a2[4]"
   ]
  },
  {
   "cell_type": "code",
   "execution_count": 32,
   "id": "d21b05f9",
   "metadata": {},
   "outputs": [
    {
     "data": {
      "text/plain": [
       "[23, 45, 66, 9, 'sham']"
      ]
     },
     "execution_count": 32,
     "metadata": {},
     "output_type": "execute_result"
    }
   ],
   "source": [
    "a2"
   ]
  },
  {
   "cell_type": "code",
   "execution_count": 33,
   "id": "7c558d79",
   "metadata": {},
   "outputs": [
    {
     "data": {
      "text/plain": [
       "[23, 45, 66, 78, 9, 7, 'ram', 'sham']"
      ]
     },
     "execution_count": 33,
     "metadata": {},
     "output_type": "execute_result"
    }
   ],
   "source": [
    "a2=[23,45,66,78,9,7,'ram','sham']\n",
    "a2"
   ]
  },
  {
   "cell_type": "code",
   "execution_count": 34,
   "id": "dfc95490",
   "metadata": {},
   "outputs": [],
   "source": [
    "del a2[0:5]"
   ]
  },
  {
   "cell_type": "code",
   "execution_count": 35,
   "id": "516bf03c",
   "metadata": {},
   "outputs": [
    {
     "data": {
      "text/plain": [
       "[7, 'ram', 'sham']"
      ]
     },
     "execution_count": 35,
     "metadata": {},
     "output_type": "execute_result"
    }
   ],
   "source": [
    "a2"
   ]
  },
  {
   "cell_type": "code",
   "execution_count": 36,
   "id": "6d674cef",
   "metadata": {},
   "outputs": [],
   "source": [
    "del a2[0:5]"
   ]
  },
  {
   "cell_type": "code",
   "execution_count": 37,
   "id": "f2e74845",
   "metadata": {},
   "outputs": [
    {
     "data": {
      "text/plain": [
       "[]"
      ]
     },
     "execution_count": 37,
     "metadata": {},
     "output_type": "execute_result"
    }
   ],
   "source": [
    "a2"
   ]
  },
  {
   "cell_type": "code",
   "execution_count": 3,
   "id": "e7941cba",
   "metadata": {},
   "outputs": [
    {
     "data": {
      "text/plain": [
       "[23, 45, 66, 78, 9, 7, 'ram', 'sham']"
      ]
     },
     "execution_count": 3,
     "metadata": {},
     "output_type": "execute_result"
    }
   ],
   "source": [
    "a2=[23,45,66,78,9,7,'ram','sham']\n",
    "a2"
   ]
  },
  {
   "cell_type": "code",
   "execution_count": 4,
   "id": "7b2354d2",
   "metadata": {},
   "outputs": [],
   "source": [
    "del a2[0:7:2]"
   ]
  },
  {
   "cell_type": "code",
   "execution_count": 5,
   "id": "7daff14e",
   "metadata": {},
   "outputs": [
    {
     "data": {
      "text/plain": [
       "[45, 78, 7, 'sham']"
      ]
     },
     "execution_count": 5,
     "metadata": {},
     "output_type": "execute_result"
    }
   ],
   "source": [
    "a2"
   ]
  },
  {
   "cell_type": "markdown",
   "id": "338cdb2e",
   "metadata": {},
   "source": [
    "### 9.min()"
   ]
  },
  {
   "cell_type": "raw",
   "id": "87e15f6a",
   "metadata": {},
   "source": [
    "It is a build in function which gives us a lowest value in the list."
   ]
  },
  {
   "cell_type": "code",
   "execution_count": 51,
   "id": "dbc223be",
   "metadata": {},
   "outputs": [
    {
     "data": {
      "text/plain": [
       "[12, 33, 23, 3, 45, 0]"
      ]
     },
     "execution_count": 51,
     "metadata": {},
     "output_type": "execute_result"
    }
   ],
   "source": [
    "re=[12,33,23,3,45,0]\n",
    "re"
   ]
  },
  {
   "cell_type": "code",
   "execution_count": 53,
   "id": "13641271",
   "metadata": {},
   "outputs": [
    {
     "data": {
      "text/plain": [
       "0"
      ]
     },
     "execution_count": 53,
     "metadata": {},
     "output_type": "execute_result"
    }
   ],
   "source": [
    "min(re)"
   ]
  },
  {
   "cell_type": "code",
   "execution_count": 54,
   "id": "8f317d5e",
   "metadata": {},
   "outputs": [
    {
     "data": {
      "text/plain": [
       "[12, 33, 23, 3, 45, 0]"
      ]
     },
     "execution_count": 54,
     "metadata": {},
     "output_type": "execute_result"
    }
   ],
   "source": [
    "re"
   ]
  },
  {
   "cell_type": "code",
   "execution_count": 55,
   "id": "e75d32dc",
   "metadata": {},
   "outputs": [
    {
     "data": {
      "text/plain": [
       "[12, -33, 23, -3, 45, 0]"
      ]
     },
     "execution_count": 55,
     "metadata": {},
     "output_type": "execute_result"
    }
   ],
   "source": [
    "re=[12,-33,23,-3,45,0]\n",
    "re"
   ]
  },
  {
   "cell_type": "code",
   "execution_count": 59,
   "id": "89bb1ba5",
   "metadata": {},
   "outputs": [
    {
     "data": {
      "text/plain": [
       "-33"
      ]
     },
     "execution_count": 59,
     "metadata": {},
     "output_type": "execute_result"
    }
   ],
   "source": [
    "min(re)"
   ]
  },
  {
   "cell_type": "code",
   "execution_count": 60,
   "id": "d62767de",
   "metadata": {},
   "outputs": [
    {
     "ename": "AttributeError",
     "evalue": "'list' object has no attribute 'min'",
     "output_type": "error",
     "traceback": [
      "\u001b[1;31m---------------------------------------------------------------------------\u001b[0m",
      "\u001b[1;31mAttributeError\u001b[0m                            Traceback (most recent call last)",
      "Input \u001b[1;32mIn [60]\u001b[0m, in \u001b[0;36m<cell line: 1>\u001b[1;34m()\u001b[0m\n\u001b[1;32m----> 1\u001b[0m \u001b[43mre\u001b[49m\u001b[38;5;241;43m.\u001b[39;49m\u001b[43mmin\u001b[49m()\n",
      "\u001b[1;31mAttributeError\u001b[0m: 'list' object has no attribute 'min'"
     ]
    }
   ],
   "source": [
    "re.min()"
   ]
  },
  {
   "cell_type": "code",
   "execution_count": 57,
   "id": "28ecc917",
   "metadata": {},
   "outputs": [
    {
     "ename": "SyntaxError",
     "evalue": "invalid syntax (4182229527.py, line 1)",
     "output_type": "error",
     "traceback": [
      "\u001b[1;36m  Input \u001b[1;32mIn [57]\u001b[1;36m\u001b[0m\n\u001b[1;33m    re.(min)\u001b[0m\n\u001b[1;37m       ^\u001b[0m\n\u001b[1;31mSyntaxError\u001b[0m\u001b[1;31m:\u001b[0m invalid syntax\n"
     ]
    }
   ],
   "source": [
    "re.(min)"
   ]
  },
  {
   "cell_type": "code",
   "execution_count": 58,
   "id": "dc618c52",
   "metadata": {},
   "outputs": [
    {
     "ename": "AttributeError",
     "evalue": "'builtin_function_or_method' object has no attribute 're'",
     "output_type": "error",
     "traceback": [
      "\u001b[1;31m---------------------------------------------------------------------------\u001b[0m",
      "\u001b[1;31mAttributeError\u001b[0m                            Traceback (most recent call last)",
      "Input \u001b[1;32mIn [58]\u001b[0m, in \u001b[0;36m<cell line: 1>\u001b[1;34m()\u001b[0m\n\u001b[1;32m----> 1\u001b[0m \u001b[38;5;28;43mmin\u001b[39;49m\u001b[38;5;241;43m.\u001b[39;49m\u001b[43mre\u001b[49m()\n",
      "\u001b[1;31mAttributeError\u001b[0m: 'builtin_function_or_method' object has no attribute 're'"
     ]
    }
   ],
   "source": [
    "min.re()"
   ]
  },
  {
   "cell_type": "code",
   "execution_count": 6,
   "id": "11821d69",
   "metadata": {},
   "outputs": [
    {
     "data": {
      "text/plain": [
       "0"
      ]
     },
     "execution_count": 6,
     "metadata": {},
     "output_type": "execute_result"
    }
   ],
   "source": [
    "list1 = [4,5,7,8,2,1,9,0]\n",
    "min(list1)"
   ]
  },
  {
   "cell_type": "code",
   "execution_count": 28,
   "id": "5f505388",
   "metadata": {},
   "outputs": [
    {
     "name": "stdout",
     "output_type": "stream",
     "text": [
      "0\n"
     ]
    }
   ],
   "source": [
    "list1 = [4,5,7,8,2,1,9,0]\n",
    "min1=list1[0]\n",
    "for i in list1:\n",
    "    if i<min1:\n",
    "        min1=i\n",
    "print(min1)"
   ]
  },
  {
   "cell_type": "code",
   "execution_count": 8,
   "id": "3c019e29",
   "metadata": {},
   "outputs": [
    {
     "name": "stdout",
     "output_type": "stream",
     "text": [
      "4\n",
      "4\n",
      "4\n",
      "4\n",
      "2\n",
      "1\n",
      "1\n",
      "0\n"
     ]
    }
   ],
   "source": [
    "min1=list1[0]\n",
    "for i in list1:\n",
    " #   print(i)\n",
    "    if i<min1:\n",
    "        min1=i\n",
    "    print(min1)"
   ]
  },
  {
   "cell_type": "code",
   "execution_count": null,
   "id": "5a91358c",
   "metadata": {},
   "outputs": [],
   "source": [
    "list1 = [4,5,7,8,2,1,9,0]\n",
    "4<4  >> False >> 4\n",
    "5<4  >> False >> 4\n",
    "7<4  >> False >> 4\n",
    "8<4  >> False >> 4\n",
    "2<4  >> True >> 2\n",
    "1<2  >> True >> 1\n",
    "9<1  >> False >> 1"
   ]
  },
  {
   "cell_type": "markdown",
   "id": "7b65c3a1",
   "metadata": {},
   "source": [
    "### 10 max()"
   ]
  },
  {
   "cell_type": "raw",
   "id": "62783fb8",
   "metadata": {},
   "source": [
    "it does give largest value in the list"
   ]
  },
  {
   "cell_type": "code",
   "execution_count": 61,
   "id": "76834b3e",
   "metadata": {},
   "outputs": [
    {
     "data": {
      "text/plain": [
       "[12, 33, 23, 3, 45, 0]"
      ]
     },
     "execution_count": 61,
     "metadata": {},
     "output_type": "execute_result"
    }
   ],
   "source": [
    "re=[12,33,23,3,45,0]\n",
    "re"
   ]
  },
  {
   "cell_type": "code",
   "execution_count": 62,
   "id": "3539170b",
   "metadata": {},
   "outputs": [
    {
     "data": {
      "text/plain": [
       "45"
      ]
     },
     "execution_count": 62,
     "metadata": {},
     "output_type": "execute_result"
    }
   ],
   "source": [
    "max(re)"
   ]
  },
  {
   "cell_type": "code",
   "execution_count": 65,
   "id": "baf6040f",
   "metadata": {},
   "outputs": [
    {
     "data": {
      "text/plain": [
       "[12, -33, 23, -3, 45, 0, 435561533426434515247563]"
      ]
     },
     "execution_count": 65,
     "metadata": {},
     "output_type": "execute_result"
    }
   ],
   "source": [
    "re=[12,-33,23,-3,45,0,435561533426434515247563]\n",
    "re"
   ]
  },
  {
   "cell_type": "code",
   "execution_count": 66,
   "id": "fb1e0360",
   "metadata": {},
   "outputs": [
    {
     "data": {
      "text/plain": [
       "435561533426434515247563"
      ]
     },
     "execution_count": 66,
     "metadata": {},
     "output_type": "execute_result"
    }
   ],
   "source": [
    "max(re)"
   ]
  },
  {
   "cell_type": "markdown",
   "id": "e11c1c46",
   "metadata": {},
   "source": [
    "### 11 sum()"
   ]
  },
  {
   "cell_type": "raw",
   "id": "7b1a70ab",
   "metadata": {},
   "source": [
    "It gives the addition of total numbers in the list."
   ]
  },
  {
   "cell_type": "code",
   "execution_count": 67,
   "id": "592af657",
   "metadata": {},
   "outputs": [
    {
     "data": {
      "text/plain": [
       "[12, 33, 23, 3, 45, 0]"
      ]
     },
     "execution_count": 67,
     "metadata": {},
     "output_type": "execute_result"
    }
   ],
   "source": [
    "re=[12,33,23,3,45,0]\n",
    "re"
   ]
  },
  {
   "cell_type": "code",
   "execution_count": 68,
   "id": "9ae85ddb",
   "metadata": {},
   "outputs": [
    {
     "data": {
      "text/plain": [
       "116"
      ]
     },
     "execution_count": 68,
     "metadata": {},
     "output_type": "execute_result"
    }
   ],
   "source": [
    "sum(re)"
   ]
  },
  {
   "cell_type": "code",
   "execution_count": 69,
   "id": "1d2a5c2e",
   "metadata": {},
   "outputs": [
    {
     "data": {
      "text/plain": [
       "[12, -33, 23, -3, 45, 0, 435561533426434515247563]"
      ]
     },
     "execution_count": 69,
     "metadata": {},
     "output_type": "execute_result"
    }
   ],
   "source": [
    "re=[12,-33,23,-3,45,0,435561533426434515247563]\n",
    "re"
   ]
  },
  {
   "cell_type": "code",
   "execution_count": 70,
   "id": "9e1d3572",
   "metadata": {},
   "outputs": [
    {
     "data": {
      "text/plain": [
       "435561533426434515247607"
      ]
     },
     "execution_count": 70,
     "metadata": {},
     "output_type": "execute_result"
    }
   ],
   "source": [
    "sum(re)"
   ]
  },
  {
   "cell_type": "code",
   "execution_count": 71,
   "id": "d59a2200",
   "metadata": {},
   "outputs": [
    {
     "data": {
      "text/plain": [
       "[12, -33, 23, -3, 45, 0]"
      ]
     },
     "execution_count": 71,
     "metadata": {},
     "output_type": "execute_result"
    }
   ],
   "source": [
    "re=[12,-33,23,-3,45,0]\n",
    "re"
   ]
  },
  {
   "cell_type": "code",
   "execution_count": 72,
   "id": "65fef510",
   "metadata": {},
   "outputs": [
    {
     "data": {
      "text/plain": [
       "44"
      ]
     },
     "execution_count": 72,
     "metadata": {},
     "output_type": "execute_result"
    }
   ],
   "source": [
    "sum(re)"
   ]
  },
  {
   "cell_type": "markdown",
   "id": "9e621ec5",
   "metadata": {},
   "source": [
    "### 12.sorted()"
   ]
  },
  {
   "cell_type": "raw",
   "id": "4712d185",
   "metadata": {},
   "source": [
    "It will sort a list in an ascending order.\n",
    "It will not update the original list."
   ]
  },
  {
   "cell_type": "code",
   "execution_count": 1,
   "id": "f6b3479e",
   "metadata": {},
   "outputs": [
    {
     "name": "stdout",
     "output_type": "stream",
     "text": [
      "[43, 5, 67, 23, 9, 5, 0, 8, 93]\n"
     ]
    }
   ],
   "source": [
    "a=[43,5,67,23,9,5,0,8,93]\n",
    "print(a)"
   ]
  },
  {
   "cell_type": "code",
   "execution_count": 3,
   "id": "28d0055a",
   "metadata": {},
   "outputs": [
    {
     "data": {
      "text/plain": [
       "[0, 5, 5, 8, 9, 23, 43, 67, 93]"
      ]
     },
     "execution_count": 3,
     "metadata": {},
     "output_type": "execute_result"
    }
   ],
   "source": [
    "sorted(a)"
   ]
  },
  {
   "cell_type": "code",
   "execution_count": 4,
   "id": "f91c450c",
   "metadata": {},
   "outputs": [
    {
     "data": {
      "text/plain": [
       "[43, 5, 67, 23, 9, 5, 0, 8, 93]"
      ]
     },
     "execution_count": 4,
     "metadata": {},
     "output_type": "execute_result"
    }
   ],
   "source": [
    "a"
   ]
  },
  {
   "cell_type": "code",
   "execution_count": 5,
   "id": "552da1d7",
   "metadata": {},
   "outputs": [
    {
     "name": "stdout",
     "output_type": "stream",
     "text": [
      "[43, 5, 67, -5, -33, -56, 1, 23, 9, 5, 0, 8, 93]\n"
     ]
    }
   ],
   "source": [
    "a=[43,5,67,-5,-33,-56,1,23,9,5,0,8,93]\n",
    "print(a)"
   ]
  },
  {
   "cell_type": "code",
   "execution_count": 8,
   "id": "2901bcfb",
   "metadata": {},
   "outputs": [],
   "source": [
    "b=sorted(a)"
   ]
  },
  {
   "cell_type": "code",
   "execution_count": 10,
   "id": "fa08848f",
   "metadata": {},
   "outputs": [
    {
     "data": {
      "text/plain": [
       "[-56, -33, -5, 0, 1, 5, 5, 8, 9, 23, 43, 67, 93]"
      ]
     },
     "execution_count": 10,
     "metadata": {},
     "output_type": "execute_result"
    }
   ],
   "source": [
    "b"
   ]
  },
  {
   "cell_type": "code",
   "execution_count": 9,
   "id": "c454d024",
   "metadata": {},
   "outputs": [
    {
     "name": "stdout",
     "output_type": "stream",
     "text": [
      "[43, 5, 67, -5, -33, -56, 1, 23, 9, 5, 0, 8, 93]\n"
     ]
    }
   ],
   "source": [
    "print(a)"
   ]
  },
  {
   "cell_type": "code",
   "execution_count": 11,
   "id": "109b1776",
   "metadata": {},
   "outputs": [
    {
     "name": "stdout",
     "output_type": "stream",
     "text": [
      "[-56, -33, -5, 0, 1, 5, 5, 8, 9, 23, 43, 67, 93]\n"
     ]
    }
   ],
   "source": [
    "print(b)"
   ]
  },
  {
   "cell_type": "markdown",
   "id": "d25d86be",
   "metadata": {},
   "source": [
    "## sorting "
   ]
  },
  {
   "cell_type": "markdown",
   "id": "38bc5dc9",
   "metadata": {},
   "source": [
    "### ascending order"
   ]
  },
  {
   "cell_type": "markdown",
   "id": "2f524766",
   "metadata": {},
   "source": [
    "### 13.sort()"
   ]
  },
  {
   "cell_type": "raw",
   "id": "f60a160e",
   "metadata": {},
   "source": [
    "value for reverse parameter is by default False.\n",
    "and False F should be capitalize\n",
    "it will update original list"
   ]
  },
  {
   "cell_type": "code",
   "execution_count": 12,
   "id": "12d93742",
   "metadata": {},
   "outputs": [
    {
     "name": "stdout",
     "output_type": "stream",
     "text": [
      "[43, 5, 67, -5, -33, -56, 1, 23, 9, 5, 0, 8, 93]\n"
     ]
    }
   ],
   "source": [
    "a=[43,5,67,-5,-33,-56,1,23,9,5,0,8,93]\n",
    "print(a)"
   ]
  },
  {
   "cell_type": "code",
   "execution_count": 13,
   "id": "b849660b",
   "metadata": {},
   "outputs": [],
   "source": [
    "a.sort()"
   ]
  },
  {
   "cell_type": "code",
   "execution_count": 14,
   "id": "e2dee590",
   "metadata": {},
   "outputs": [
    {
     "data": {
      "text/plain": [
       "[-56, -33, -5, 0, 1, 5, 5, 8, 9, 23, 43, 67, 93]"
      ]
     },
     "execution_count": 14,
     "metadata": {},
     "output_type": "execute_result"
    }
   ],
   "source": [
    "a"
   ]
  },
  {
   "cell_type": "code",
   "execution_count": 15,
   "id": "8da22ea8",
   "metadata": {},
   "outputs": [
    {
     "name": "stdout",
     "output_type": "stream",
     "text": [
      "[-56, -33, -5, 0, 1, 5, 5, 8, 9, 23, 43, 67, 93]\n"
     ]
    }
   ],
   "source": [
    "print(a)"
   ]
  },
  {
   "cell_type": "code",
   "execution_count": 16,
   "id": "1981ffdb",
   "metadata": {},
   "outputs": [
    {
     "data": {
      "text/plain": [
       "[1, 2, 3, 4, 7, 8]"
      ]
     },
     "execution_count": 16,
     "metadata": {},
     "output_type": "execute_result"
    }
   ],
   "source": [
    "list1 = [8,2,1,4,3,7]\n",
    "list1.sort(reverse=False)# value for reverse parameter is by default False.\n",
    "list1"
   ]
  },
  {
   "cell_type": "code",
   "execution_count": 17,
   "id": "03edca36",
   "metadata": {},
   "outputs": [
    {
     "data": {
      "text/plain": [
       "[1, 2, 3, 4, 7, 8]"
      ]
     },
     "execution_count": 17,
     "metadata": {},
     "output_type": "execute_result"
    }
   ],
   "source": [
    "list1"
   ]
  },
  {
   "cell_type": "code",
   "execution_count": 18,
   "id": "8e9bc960",
   "metadata": {},
   "outputs": [
    {
     "name": "stdout",
     "output_type": "stream",
     "text": [
      "[43, 5, 67, -5, -33, -56, 1, 23, 9, 5, 0, 8, 93]\n"
     ]
    }
   ],
   "source": [
    "a=[43,5,67,-5,-33,-56,1,23,9,5,0,8,93]\n",
    "print(a)"
   ]
  },
  {
   "cell_type": "code",
   "execution_count": 20,
   "id": "99f1a41a",
   "metadata": {},
   "outputs": [],
   "source": [
    "a.sort(reverse=False)"
   ]
  },
  {
   "cell_type": "code",
   "execution_count": 21,
   "id": "1bfba29e",
   "metadata": {},
   "outputs": [
    {
     "data": {
      "text/plain": [
       "[-56, -33, -5, 0, 1, 5, 5, 8, 9, 23, 43, 67, 93]"
      ]
     },
     "execution_count": 21,
     "metadata": {},
     "output_type": "execute_result"
    }
   ],
   "source": [
    "a"
   ]
  },
  {
   "cell_type": "code",
   "execution_count": 22,
   "id": "b633ffbf",
   "metadata": {},
   "outputs": [
    {
     "data": {
      "text/plain": [
       "[-56, -33, -5, 0, 1, 5, 5, 8, 9, 23, 43, 67, 93]"
      ]
     },
     "execution_count": 22,
     "metadata": {},
     "output_type": "execute_result"
    }
   ],
   "source": [
    "a"
   ]
  },
  {
   "cell_type": "code",
   "execution_count": 29,
   "id": "abee8172",
   "metadata": {},
   "outputs": [
    {
     "ename": "TypeError",
     "evalue": "'<' not supported between instances of 'str' and 'int'",
     "output_type": "error",
     "traceback": [
      "\u001b[1;31m---------------------------------------------------------------------------\u001b[0m",
      "\u001b[1;31mTypeError\u001b[0m                                 Traceback (most recent call last)",
      "Input \u001b[1;32mIn [29]\u001b[0m, in \u001b[0;36m<cell line: 2>\u001b[1;34m()\u001b[0m\n\u001b[0;32m      1\u001b[0m list1 \u001b[38;5;241m=\u001b[39m [\u001b[38;5;241m8\u001b[39m,\u001b[38;5;241m2\u001b[39m,\u001b[38;5;241m1\u001b[39m,\u001b[38;5;124m'\u001b[39m\u001b[38;5;124mstring\u001b[39m\u001b[38;5;124m'\u001b[39m,\u001b[38;5;241m4\u001b[39m,\u001b[38;5;241m3\u001b[39m,\u001b[38;5;241m7\u001b[39m]\n\u001b[1;32m----> 2\u001b[0m \u001b[43mlist1\u001b[49m\u001b[38;5;241;43m.\u001b[39;49m\u001b[43msort\u001b[49m\u001b[43m(\u001b[49m\u001b[43m)\u001b[49m\n\u001b[0;32m      3\u001b[0m list1\n",
      "\u001b[1;31mTypeError\u001b[0m: '<' not supported between instances of 'str' and 'int'"
     ]
    }
   ],
   "source": [
    "list1 = [8,2,1,'string',4,3,7]\n",
    "list1.sort()\n",
    "list1"
   ]
  },
  {
   "cell_type": "code",
   "execution_count": 24,
   "id": "2bead64d",
   "metadata": {},
   "outputs": [
    {
     "data": {
      "text/plain": [
       "[1, 2, 3, 4, 7, 8]"
      ]
     },
     "execution_count": 24,
     "metadata": {},
     "output_type": "execute_result"
    }
   ],
   "source": [
    "list1 = [8,2,1,4,3,7]\n",
    "list1.sort()\n",
    "list1"
   ]
  },
  {
   "cell_type": "code",
   "execution_count": 25,
   "id": "e0cb8552",
   "metadata": {},
   "outputs": [],
   "source": [
    "list1.sort()"
   ]
  },
  {
   "cell_type": "code",
   "execution_count": 26,
   "id": "593b7768",
   "metadata": {},
   "outputs": [
    {
     "data": {
      "text/plain": [
       "[1, 2, 3, 4, 7, 8]"
      ]
     },
     "execution_count": 26,
     "metadata": {},
     "output_type": "execute_result"
    }
   ],
   "source": [
    "list1"
   ]
  },
  {
   "cell_type": "code",
   "execution_count": 27,
   "id": "cb76ce4d",
   "metadata": {},
   "outputs": [],
   "source": [
    "list1.sort(reverse=False)"
   ]
  },
  {
   "cell_type": "code",
   "execution_count": 28,
   "id": "cabebf38",
   "metadata": {},
   "outputs": [
    {
     "data": {
      "text/plain": [
       "[1, 2, 3, 4, 7, 8]"
      ]
     },
     "execution_count": 28,
     "metadata": {},
     "output_type": "execute_result"
    }
   ],
   "source": [
    "list1"
   ]
  },
  {
   "cell_type": "markdown",
   "id": "06936609",
   "metadata": {},
   "source": [
    "### desending order"
   ]
  },
  {
   "cell_type": "raw",
   "id": "ef1b0b2d",
   "metadata": {},
   "source": [
    "and True T should be capitalize"
   ]
  },
  {
   "cell_type": "code",
   "execution_count": 29,
   "id": "96ba2a59",
   "metadata": {},
   "outputs": [
    {
     "name": "stdout",
     "output_type": "stream",
     "text": [
      "[43, 5, 67, -5, -33, -56, 1, 23, 9, 5, 0, 8, 93]\n"
     ]
    }
   ],
   "source": [
    "a=[43,5,67,-5,-33,-56,1,23,9,5,0,8,93]\n",
    "print(a)"
   ]
  },
  {
   "cell_type": "code",
   "execution_count": 30,
   "id": "e146fdd0",
   "metadata": {},
   "outputs": [],
   "source": [
    "a.sort(reverse=True)"
   ]
  },
  {
   "cell_type": "code",
   "execution_count": 31,
   "id": "0f439a37",
   "metadata": {},
   "outputs": [
    {
     "data": {
      "text/plain": [
       "[93, 67, 43, 23, 9, 8, 5, 5, 1, 0, -5, -33, -56]"
      ]
     },
     "execution_count": 31,
     "metadata": {},
     "output_type": "execute_result"
    }
   ],
   "source": [
    "a"
   ]
  },
  {
   "cell_type": "code",
   "execution_count": 32,
   "id": "f8af0456",
   "metadata": {},
   "outputs": [
    {
     "name": "stdout",
     "output_type": "stream",
     "text": [
      "[93, 67, 43, 23, 9, 8, 5, 5, 1, 0, -5, -33, -56]\n"
     ]
    }
   ],
   "source": [
    "print(a)"
   ]
  },
  {
   "cell_type": "code",
   "execution_count": 33,
   "id": "d5ee8ba4",
   "metadata": {},
   "outputs": [
    {
     "data": {
      "text/plain": [
       "[1, 2, 3, 4, 7, 8]"
      ]
     },
     "execution_count": 33,
     "metadata": {},
     "output_type": "execute_result"
    }
   ],
   "source": [
    "list1 = [8,2,1,4,3,7]\n",
    "list1.sort()\n",
    "list1"
   ]
  },
  {
   "cell_type": "code",
   "execution_count": 34,
   "id": "17f5c18b",
   "metadata": {},
   "outputs": [],
   "source": [
    "list1.sort(reverse=True)"
   ]
  },
  {
   "cell_type": "code",
   "execution_count": 35,
   "id": "a65446e3",
   "metadata": {},
   "outputs": [
    {
     "data": {
      "text/plain": [
       "[8, 7, 4, 3, 2, 1]"
      ]
     },
     "execution_count": 35,
     "metadata": {},
     "output_type": "execute_result"
    }
   ],
   "source": [
    "list1"
   ]
  },
  {
   "cell_type": "code",
   "execution_count": 37,
   "id": "a3919380",
   "metadata": {},
   "outputs": [],
   "source": [
    "list1.sort(reverse=False)"
   ]
  },
  {
   "cell_type": "code",
   "execution_count": 38,
   "id": "6bffb8e7",
   "metadata": {},
   "outputs": [
    {
     "data": {
      "text/plain": [
       "[1, 2, 3, 4, 7, 8]"
      ]
     },
     "execution_count": 38,
     "metadata": {},
     "output_type": "execute_result"
    }
   ],
   "source": [
    "list1"
   ]
  },
  {
   "cell_type": "markdown",
   "id": "b1448196",
   "metadata": {},
   "source": [
    "### 14.reverse()"
   ]
  },
  {
   "cell_type": "raw",
   "id": "d884b96d",
   "metadata": {},
   "source": [
    "it will simply reverse the list elements\n",
    "it update original list"
   ]
  },
  {
   "cell_type": "code",
   "execution_count": 39,
   "id": "415dd00b",
   "metadata": {},
   "outputs": [
    {
     "name": "stdout",
     "output_type": "stream",
     "text": [
      "[43, 5, 67, -5, -33, -56, 1, 23, 9, 5, 0, 8, 93]\n"
     ]
    }
   ],
   "source": [
    "a=[43,5,67,-5,-33,-56,1,23,9,5,0,8,93]\n",
    "print(a)"
   ]
  },
  {
   "cell_type": "code",
   "execution_count": 40,
   "id": "e78761fb",
   "metadata": {},
   "outputs": [],
   "source": [
    "a.reverse()"
   ]
  },
  {
   "cell_type": "code",
   "execution_count": 41,
   "id": "ae2b4ede",
   "metadata": {},
   "outputs": [
    {
     "data": {
      "text/plain": [
       "[93, 8, 0, 5, 9, 23, 1, -56, -33, -5, 67, 5, 43]"
      ]
     },
     "execution_count": 41,
     "metadata": {},
     "output_type": "execute_result"
    }
   ],
   "source": [
    "a"
   ]
  },
  {
   "cell_type": "code",
   "execution_count": 46,
   "id": "7dd8ffd1",
   "metadata": {},
   "outputs": [
    {
     "data": {
      "text/plain": [
       "[1, 2, 3, 4, 5, 7, 8, 34, 44, 65]"
      ]
     },
     "execution_count": 46,
     "metadata": {},
     "output_type": "execute_result"
    }
   ],
   "source": [
    "list1 = [8,2,1,4,3,7,44,34,5,65]\n",
    "list1.sort()\n",
    "list1"
   ]
  },
  {
   "cell_type": "code",
   "execution_count": 47,
   "id": "166011c1",
   "metadata": {},
   "outputs": [],
   "source": [
    "list1.reverse()"
   ]
  },
  {
   "cell_type": "code",
   "execution_count": 48,
   "id": "3316895c",
   "metadata": {},
   "outputs": [
    {
     "data": {
      "text/plain": [
       "[65, 44, 34, 8, 7, 5, 4, 3, 2, 1]"
      ]
     },
     "execution_count": 48,
     "metadata": {},
     "output_type": "execute_result"
    }
   ],
   "source": [
    "list1"
   ]
  },
  {
   "cell_type": "code",
   "execution_count": 30,
   "id": "e5798c03",
   "metadata": {},
   "outputs": [
    {
     "data": {
      "text/plain": [
       "[65, 44, 34, 8, 7, 5, 4, 3, 2, 1]"
      ]
     },
     "execution_count": 30,
     "metadata": {},
     "output_type": "execute_result"
    }
   ],
   "source": [
    "list1 = [8,2,1,4,3,7,44,34,5,65]\n",
    "list1.sort(reverse=True)\n",
    "list1"
   ]
  },
  {
   "cell_type": "code",
   "execution_count": 31,
   "id": "33aea072",
   "metadata": {},
   "outputs": [],
   "source": [
    "list1.reverse()"
   ]
  },
  {
   "cell_type": "code",
   "execution_count": 32,
   "id": "32926198",
   "metadata": {},
   "outputs": [
    {
     "data": {
      "text/plain": [
       "[1, 2, 3, 4, 5, 7, 8, 34, 44, 65]"
      ]
     },
     "execution_count": 32,
     "metadata": {},
     "output_type": "execute_result"
    }
   ],
   "source": [
    "list1"
   ]
  },
  {
   "cell_type": "markdown",
   "id": "8e42eb2d",
   "metadata": {},
   "source": [
    "### 15.reversed()"
   ]
  },
  {
   "cell_type": "raw",
   "id": "038d7153",
   "metadata": {},
   "source": [
    "syntax>> list(reversed(variable1))\n",
    "it not update the original list"
   ]
  },
  {
   "cell_type": "code",
   "execution_count": 12,
   "id": "f0d756c5",
   "metadata": {},
   "outputs": [
    {
     "data": {
      "text/plain": [
       "[65, 5, 34, 44, 7, 3, 4, 1, 2, 8]"
      ]
     },
     "execution_count": 12,
     "metadata": {},
     "output_type": "execute_result"
    }
   ],
   "source": [
    "list1 = [8,2,1,4,3,7,44,34,5,65]\n",
    "list(reversed(list1))"
   ]
  },
  {
   "cell_type": "code",
   "execution_count": 13,
   "id": "f11cbe7c",
   "metadata": {},
   "outputs": [
    {
     "data": {
      "text/plain": [
       "[8, 2, 1, 4, 3, 7, 44, 34, 5, 65]"
      ]
     },
     "execution_count": 13,
     "metadata": {},
     "output_type": "execute_result"
    }
   ],
   "source": [
    "list1"
   ]
  },
  {
   "cell_type": "code",
   "execution_count": 8,
   "id": "9fb286cf",
   "metadata": {},
   "outputs": [
    {
     "name": "stdout",
     "output_type": "stream",
     "text": [
      "['string', 6, 5, 3, 12]\n"
     ]
    }
   ],
   "source": [
    "list1=[12,3,5,6,'string']\n",
    "list2=list(reversed(list1))\n",
    "print(list2)"
   ]
  },
  {
   "cell_type": "code",
   "execution_count": 9,
   "id": "ea2dfd97",
   "metadata": {},
   "outputs": [
    {
     "data": {
      "text/plain": [
       "[12, 3, 5, 6, 'string']"
      ]
     },
     "execution_count": 9,
     "metadata": {},
     "output_type": "execute_result"
    }
   ],
   "source": [
    "list1"
   ]
  },
  {
   "cell_type": "code",
   "execution_count": 10,
   "id": "ce6411c3",
   "metadata": {},
   "outputs": [
    {
     "data": {
      "text/plain": [
       "['string', 6, 5, 3, 12]"
      ]
     },
     "execution_count": 10,
     "metadata": {},
     "output_type": "execute_result"
    }
   ],
   "source": [
    "list2"
   ]
  },
  {
   "cell_type": "code",
   "execution_count": 11,
   "id": "e3db085f",
   "metadata": {},
   "outputs": [
    {
     "data": {
      "text/plain": [
       "['string', 6, 5, 3, 12]"
      ]
     },
     "execution_count": 11,
     "metadata": {},
     "output_type": "execute_result"
    }
   ],
   "source": [
    "list1=[12,3,5,6,'string']\n",
    "list(reversed(list1))"
   ]
  },
  {
   "cell_type": "code",
   "execution_count": 14,
   "id": "1c813c39",
   "metadata": {},
   "outputs": [],
   "source": [
    "list1 = ['d','r','d','g','r',45,65,'23']"
   ]
  },
  {
   "cell_type": "code",
   "execution_count": 15,
   "id": "657e075b",
   "metadata": {},
   "outputs": [
    {
     "data": {
      "text/plain": [
       "['23', 65, 45, 'r', 'g', 'd', 'r', 'd']"
      ]
     },
     "execution_count": 15,
     "metadata": {},
     "output_type": "execute_result"
    }
   ],
   "source": [
    "list(reversed(list1))"
   ]
  },
  {
   "cell_type": "code",
   "execution_count": 16,
   "id": "03e94498",
   "metadata": {},
   "outputs": [],
   "source": [
    "c=list(reversed(list1))"
   ]
  },
  {
   "cell_type": "code",
   "execution_count": 17,
   "id": "f90f7d8d",
   "metadata": {},
   "outputs": [
    {
     "data": {
      "text/plain": [
       "['23', 65, 45, 'r', 'g', 'd', 'r', 'd']"
      ]
     },
     "execution_count": 17,
     "metadata": {},
     "output_type": "execute_result"
    }
   ],
   "source": [
    "c"
   ]
  },
  {
   "cell_type": "markdown",
   "id": "eac3b358",
   "metadata": {},
   "source": [
    "### 16.count()"
   ]
  },
  {
   "cell_type": "code",
   "execution_count": 18,
   "id": "f77f1324",
   "metadata": {},
   "outputs": [],
   "source": [
    "list1 = ['d','r','d','g','r',45,65,'23']"
   ]
  },
  {
   "cell_type": "code",
   "execution_count": 20,
   "id": "f0a2bc27",
   "metadata": {},
   "outputs": [
    {
     "data": {
      "text/plain": [
       "1"
      ]
     },
     "execution_count": 20,
     "metadata": {},
     "output_type": "execute_result"
    }
   ],
   "source": [
    "list1.count('g')"
   ]
  },
  {
   "cell_type": "code",
   "execution_count": 40,
   "id": "a137f7e0",
   "metadata": {},
   "outputs": [
    {
     "data": {
      "text/plain": [
       "8"
      ]
     },
     "execution_count": 40,
     "metadata": {},
     "output_type": "execute_result"
    }
   ],
   "source": [
    "list1 = ['d','r',3,3,3,3,3,5,54,54,62,2,2,2,33,3,3,3,'d','g','r',45,65,'23']\n",
    "list1.count(3)"
   ]
  },
  {
   "cell_type": "code",
   "execution_count": 23,
   "id": "e9675950",
   "metadata": {},
   "outputs": [
    {
     "data": {
      "text/plain": [
       "1"
      ]
     },
     "execution_count": 23,
     "metadata": {},
     "output_type": "execute_result"
    }
   ],
   "source": [
    "list1.count(5)"
   ]
  },
  {
   "cell_type": "code",
   "execution_count": 9,
   "id": "8c7c7c46",
   "metadata": {},
   "outputs": [
    {
     "data": {
      "text/plain": [
       "8"
      ]
     },
     "execution_count": 9,
     "metadata": {},
     "output_type": "execute_result"
    }
   ],
   "source": [
    "list1 = ['d','r',3,3,3,3,3,5,54,54,62,2,2,2,33,3,3,3,'d','g','r',45,65,'23']\n",
    "list1.count(3)"
   ]
  },
  {
   "cell_type": "code",
   "execution_count": 7,
   "id": "c8fe3f9c",
   "metadata": {},
   "outputs": [
    {
     "data": {
      "text/plain": [
       "2"
      ]
     },
     "execution_count": 7,
     "metadata": {},
     "output_type": "execute_result"
    }
   ],
   "source": [
    "list1.count('d'[0:])"
   ]
  },
  {
   "cell_type": "code",
   "execution_count": 9,
   "id": "b31fbe3e",
   "metadata": {},
   "outputs": [
    {
     "data": {
      "text/plain": [
       "1"
      ]
     },
     "execution_count": 9,
     "metadata": {},
     "output_type": "execute_result"
    }
   ],
   "source": [
    "list1.count('23'[0:])"
   ]
  },
  {
   "cell_type": "code",
   "execution_count": 12,
   "id": "cd424169",
   "metadata": {},
   "outputs": [
    {
     "ename": "SyntaxError",
     "evalue": "invalid syntax (3193503873.py, line 1)",
     "output_type": "error",
     "traceback": [
      "\u001b[1;36m  Input \u001b[1;32mIn [12]\u001b[1;36m\u001b[0m\n\u001b[1;33m    list1.count(3,[0:])\u001b[0m\n\u001b[1;37m                    ^\u001b[0m\n\u001b[1;31mSyntaxError\u001b[0m\u001b[1;31m:\u001b[0m invalid syntax\n"
     ]
    }
   ],
   "source": [
    "list1.count(3,[0:])"
   ]
  },
  {
   "cell_type": "code",
   "execution_count": 11,
   "id": "6c8c20dc",
   "metadata": {},
   "outputs": [
    {
     "data": {
      "text/plain": [
       "8"
      ]
     },
     "execution_count": 11,
     "metadata": {},
     "output_type": "execute_result"
    }
   ],
   "source": [
    "list1.count(3)"
   ]
  },
  {
   "cell_type": "markdown",
   "id": "2cbdb536",
   "metadata": {},
   "source": [
    "## list comprehension"
   ]
  },
  {
   "cell_type": "code",
   "execution_count": 15,
   "id": "3d9c95ce",
   "metadata": {},
   "outputs": [
    {
     "name": "stdout",
     "output_type": "stream",
     "text": [
      "1\n",
      "3\n",
      "5\n",
      "4\n",
      "2\n"
     ]
    }
   ],
   "source": [
    "list1=[1,3,5,4,2] # [1,3,5,4,2]\n",
    "for i in list1:\n",
    "    print(i)"
   ]
  },
  {
   "cell_type": "code",
   "execution_count": 17,
   "id": "837c69a3",
   "metadata": {},
   "outputs": [
    {
     "name": "stdout",
     "output_type": "stream",
     "text": [
      "10\n",
      "30\n",
      "50\n",
      "40\n",
      "20\n"
     ]
    }
   ],
   "source": [
    "list1=[1,3,5,4,2] # [10,30,50,40,20]\n",
    "for i in list1:\n",
    "    print(i*10)\n",
    "    \n",
    "    "
   ]
  },
  {
   "cell_type": "code",
   "execution_count": 19,
   "id": "862cd945",
   "metadata": {},
   "outputs": [
    {
     "name": "stdout",
     "output_type": "stream",
     "text": [
      "[10]\n",
      "[10, 30]\n",
      "[10, 30, 50]\n",
      "[10, 30, 50, 40]\n",
      "[10, 30, 50, 40, 20]\n"
     ]
    }
   ],
   "source": [
    "list1=[1,3,5,4,2] # [10,30,50,40,20]\n",
    "list2=[]\n",
    "for i in list1:\n",
    "    list2.append(i*10)\n",
    "    print(list2)\n",
    "    "
   ]
  },
  {
   "cell_type": "code",
   "execution_count": 2,
   "id": "463a0b05",
   "metadata": {},
   "outputs": [
    {
     "name": "stdout",
     "output_type": "stream",
     "text": [
      "[10, 30, 50, 40, 20, 30]\n"
     ]
    }
   ],
   "source": [
    "list1=[1,3,5,4,2,3] # [10,30,50,40,20,30]\n",
    "list2=[]\n",
    "for i in list1:\n",
    "    list2.append(i*10)\n",
    "print(list2)"
   ]
  },
  {
   "cell_type": "code",
   "execution_count": 16,
   "id": "f6d1eef2",
   "metadata": {},
   "outputs": [
    {
     "data": {
      "text/plain": [
       "[1, 3, 5, 4, 2]"
      ]
     },
     "execution_count": 16,
     "metadata": {},
     "output_type": "execute_result"
    }
   ],
   "source": [
    "[i for i in list1]  #[result   for loop  if statement]"
   ]
  },
  {
   "cell_type": "code",
   "execution_count": 18,
   "id": "2b4f6939",
   "metadata": {},
   "outputs": [
    {
     "data": {
      "text/plain": [
       "[10, 30, 50, 40, 20]"
      ]
     },
     "execution_count": 18,
     "metadata": {},
     "output_type": "execute_result"
    }
   ],
   "source": [
    "[i*10 for i in list1]"
   ]
  },
  {
   "cell_type": "code",
   "execution_count": 2,
   "id": "fb1a4f80",
   "metadata": {},
   "outputs": [
    {
     "name": "stdout",
     "output_type": "stream",
     "text": [
      "4\n",
      "2\n"
     ]
    }
   ],
   "source": [
    "list1=[1,3,5,4,2,3]\n",
    "for i in list1:\n",
    "    if i%2==0:\n",
    "        print(i)"
   ]
  },
  {
   "cell_type": "code",
   "execution_count": 6,
   "id": "4a4a0c99",
   "metadata": {},
   "outputs": [
    {
     "name": "stdout",
     "output_type": "stream",
     "text": [
      "[4, 2]\n"
     ]
    }
   ],
   "source": [
    "list1=[1,3,5,4,2,3]\n",
    "list2=[]\n",
    "for i in list1:\n",
    "    if i%2==0:\n",
    "        list2.append(i)\n",
    "print(list2)"
   ]
  },
  {
   "cell_type": "code",
   "execution_count": 13,
   "id": "2c2abafa",
   "metadata": {},
   "outputs": [
    {
     "name": "stdout",
     "output_type": "stream",
     "text": [
      "[4]\n",
      "[4, 2]\n"
     ]
    }
   ],
   "source": [
    "list1=[1,3,5,4,2,3]\n",
    "list2=[]\n",
    "for i in list1:\n",
    "    if i%2==0:\n",
    "        list2.append(i)\n",
    "        print(list2)"
   ]
  },
  {
   "cell_type": "code",
   "execution_count": 14,
   "id": "2a862661",
   "metadata": {},
   "outputs": [
    {
     "data": {
      "text/plain": [
       "[4, 2]"
      ]
     },
     "execution_count": 14,
     "metadata": {},
     "output_type": "execute_result"
    }
   ],
   "source": [
    "[i for i in list1 if i%2==0]"
   ]
  },
  {
   "cell_type": "code",
   "execution_count": 15,
   "id": "9c277e45",
   "metadata": {},
   "outputs": [
    {
     "data": {
      "text/plain": [
       "[4, 2]"
      ]
     },
     "execution_count": 15,
     "metadata": {},
     "output_type": "execute_result"
    }
   ],
   "source": [
    "[i for i in list1 if i%2==0]"
   ]
  },
  {
   "cell_type": "markdown",
   "id": "fda092be",
   "metadata": {},
   "source": [
    "## Nested list"
   ]
  },
  {
   "cell_type": "raw",
   "id": "b216c11b",
   "metadata": {},
   "source": [
    "Nested list is nothing but a list or lists inside or within another list.\n",
    "for eg. [2,3,[3,4,[3,4,5,]5,6,],4,5,6,6] its total length is >> 7"
   ]
  },
  {
   "cell_type": "code",
   "execution_count": 5,
   "id": "bb9fe91e",
   "metadata": {},
   "outputs": [],
   "source": [
    "a=[2,3,[3,4,[3,4,5],5,6],4,5,6,6]"
   ]
  },
  {
   "cell_type": "code",
   "execution_count": 6,
   "id": "5f83cfbc",
   "metadata": {},
   "outputs": [
    {
     "data": {
      "text/plain": [
       "7"
      ]
     },
     "execution_count": 6,
     "metadata": {},
     "output_type": "execute_result"
    }
   ],
   "source": [
    "len(a)"
   ]
  },
  {
   "cell_type": "code",
   "execution_count": 3,
   "id": "1a74d2c5",
   "metadata": {},
   "outputs": [
    {
     "data": {
      "text/plain": [
       "[1, 3, 5, 4, 2, 3, 43, 5, 4, 3, -1, -34, 43, -4, -5]"
      ]
     },
     "execution_count": 3,
     "metadata": {},
     "output_type": "execute_result"
    }
   ],
   "source": [
    "list1=[1,3,5,4,2,3,43,5,4,3,2-3,-34,43,-4,-5]\n",
    "list1"
   ]
  },
  {
   "cell_type": "code",
   "execution_count": 4,
   "id": "92daa622",
   "metadata": {},
   "outputs": [
    {
     "data": {
      "text/plain": [
       "15"
      ]
     },
     "execution_count": 4,
     "metadata": {},
     "output_type": "execute_result"
    }
   ],
   "source": [
    "len(list1)"
   ]
  },
  {
   "cell_type": "code",
   "execution_count": 5,
   "id": "46deab5d",
   "metadata": {},
   "outputs": [
    {
     "data": {
      "text/plain": [
       "[1, 3, 5, 4, 2, 3, 43, 5, 4, 3, 2, -3, -34, 43, -4, -5]"
      ]
     },
     "execution_count": 5,
     "metadata": {},
     "output_type": "execute_result"
    }
   ],
   "source": [
    "list1=[1,3,5,4,2,3,43,5,4,3,2,-3,-34,43,-4,-5]\n",
    "list1"
   ]
  },
  {
   "cell_type": "code",
   "execution_count": 6,
   "id": "c07e83b4",
   "metadata": {},
   "outputs": [
    {
     "data": {
      "text/plain": [
       "16"
      ]
     },
     "execution_count": 6,
     "metadata": {},
     "output_type": "execute_result"
    }
   ],
   "source": [
    "len(list1)"
   ]
  },
  {
   "cell_type": "code",
   "execution_count": 26,
   "id": "b070af76",
   "metadata": {},
   "outputs": [
    {
     "data": {
      "text/plain": [
       "[1, 3, 5, [4, 2, 3, 43, 5], 4, 3, 2, -3, -34, 43, -4, -5]"
      ]
     },
     "execution_count": 26,
     "metadata": {},
     "output_type": "execute_result"
    }
   ],
   "source": [
    "list1=[1,3,5,[4,2,3,43,5],4,3,2,-3,-34,43,-4,-5]\n",
    "list1"
   ]
  },
  {
   "cell_type": "code",
   "execution_count": 27,
   "id": "f24b388b",
   "metadata": {},
   "outputs": [
    {
     "data": {
      "text/plain": [
       "12"
      ]
     },
     "execution_count": 27,
     "metadata": {},
     "output_type": "execute_result"
    }
   ],
   "source": [
    "len(list1)"
   ]
  },
  {
   "cell_type": "code",
   "execution_count": 30,
   "id": "4f45199a",
   "metadata": {},
   "outputs": [
    {
     "data": {
      "text/plain": [
       "[1, 3, [5, 4, 2], 3, 4, 3, 5, 4, 3, 2, -3, -34, 43, -4, -5]"
      ]
     },
     "execution_count": 30,
     "metadata": {},
     "output_type": "execute_result"
    }
   ],
   "source": [
    "list1=[1,3,[5,4,2],3,4,3,5,4,3,2,-3,-34,43,-4,-5]\n",
    "list1"
   ]
  },
  {
   "cell_type": "code",
   "execution_count": 31,
   "id": "5c79da63",
   "metadata": {},
   "outputs": [
    {
     "data": {
      "text/plain": [
       "15"
      ]
     },
     "execution_count": 31,
     "metadata": {},
     "output_type": "execute_result"
    }
   ],
   "source": [
    "len(list1)"
   ]
  },
  {
   "cell_type": "code",
   "execution_count": 7,
   "id": "40f60787",
   "metadata": {},
   "outputs": [
    {
     "data": {
      "text/plain": [
       "[1, 3, [5, 4, [2, 3], 4, 3, 5], 4, 3, 2, -3, -34, 43, -4, -5]"
      ]
     },
     "execution_count": 7,
     "metadata": {},
     "output_type": "execute_result"
    }
   ],
   "source": [
    "list1=[1,3,[5,4,[2,3],4,3,5],4,3,2,-3,-34,43,-4,-5]\n",
    "list1"
   ]
  },
  {
   "cell_type": "code",
   "execution_count": 8,
   "id": "bca40696",
   "metadata": {},
   "outputs": [
    {
     "data": {
      "text/plain": [
       "11"
      ]
     },
     "execution_count": 8,
     "metadata": {},
     "output_type": "execute_result"
    }
   ],
   "source": [
    "len(list1)"
   ]
  },
  {
   "cell_type": "code",
   "execution_count": 38,
   "id": "a9adb08b",
   "metadata": {},
   "outputs": [
    {
     "data": {
      "text/plain": [
       "[1, 3, 5, [4, 2, 3, 4, 3], 5, 4, [3, 2, -3], -34, 43, -4, -5]"
      ]
     },
     "execution_count": 38,
     "metadata": {},
     "output_type": "execute_result"
    }
   ],
   "source": [
    "list1=[1,3,5,[4,2,3,4,3],5,4,[3,2,-3],-34,43,-4,-5]\n",
    "list1"
   ]
  },
  {
   "cell_type": "code",
   "execution_count": 39,
   "id": "364e7ef6",
   "metadata": {},
   "outputs": [
    {
     "data": {
      "text/plain": [
       "11"
      ]
     },
     "execution_count": 39,
     "metadata": {},
     "output_type": "execute_result"
    }
   ],
   "source": [
    "len(list1)"
   ]
  },
  {
   "cell_type": "code",
   "execution_count": 33,
   "id": "8601aa6f",
   "metadata": {},
   "outputs": [
    {
     "data": {
      "text/plain": [
       "[1, 7, [8, 5, 2], 6, 9, 3]"
      ]
     },
     "execution_count": 33,
     "metadata": {},
     "output_type": "execute_result"
    }
   ],
   "source": [
    "list2 = [1,7,[8,5,2],6,9,3] # Nested List\n",
    "list2"
   ]
  },
  {
   "cell_type": "code",
   "execution_count": 12,
   "id": "875df4cb",
   "metadata": {},
   "outputs": [
    {
     "data": {
      "text/plain": [
       "6"
      ]
     },
     "execution_count": 12,
     "metadata": {},
     "output_type": "execute_result"
    }
   ],
   "source": [
    "len(list2)"
   ]
  },
  {
   "cell_type": "code",
   "execution_count": 45,
   "id": "e4a80263",
   "metadata": {},
   "outputs": [
    {
     "data": {
      "text/plain": [
       "6"
      ]
     },
     "execution_count": 45,
     "metadata": {},
     "output_type": "execute_result"
    }
   ],
   "source": [
    "list2[3]"
   ]
  },
  {
   "cell_type": "code",
   "execution_count": 47,
   "id": "08ed7c7b",
   "metadata": {},
   "outputs": [
    {
     "data": {
      "text/plain": [
       "[8, 5, 2]"
      ]
     },
     "execution_count": 47,
     "metadata": {},
     "output_type": "execute_result"
    }
   ],
   "source": [
    "list2[-4]"
   ]
  },
  {
   "cell_type": "code",
   "execution_count": 48,
   "id": "e297438b",
   "metadata": {},
   "outputs": [
    {
     "data": {
      "text/plain": [
       "[8, 5, 2]"
      ]
     },
     "execution_count": 48,
     "metadata": {},
     "output_type": "execute_result"
    }
   ],
   "source": [
    "list2[2]"
   ]
  },
  {
   "cell_type": "code",
   "execution_count": 50,
   "id": "b8e03c72",
   "metadata": {},
   "outputs": [
    {
     "data": {
      "text/plain": [
       "[8, 5, 2]"
      ]
     },
     "execution_count": 50,
     "metadata": {},
     "output_type": "execute_result"
    }
   ],
   "source": [
    "list2[len(list2)-4]"
   ]
  },
  {
   "cell_type": "code",
   "execution_count": 64,
   "id": "4469d325",
   "metadata": {},
   "outputs": [
    {
     "data": {
      "text/plain": [
       "1"
      ]
     },
     "execution_count": 64,
     "metadata": {},
     "output_type": "execute_result"
    }
   ],
   "source": [
    "list2[0]"
   ]
  },
  {
   "cell_type": "code",
   "execution_count": 67,
   "id": "7456a5a0",
   "metadata": {},
   "outputs": [
    {
     "data": {
      "text/plain": [
       "1"
      ]
     },
     "execution_count": 67,
     "metadata": {},
     "output_type": "execute_result"
    }
   ],
   "source": [
    "list2[-6]"
   ]
  },
  {
   "cell_type": "code",
   "execution_count": 56,
   "id": "a6c7e169",
   "metadata": {},
   "outputs": [
    {
     "data": {
      "text/plain": [
       "True"
      ]
     },
     "execution_count": 56,
     "metadata": {},
     "output_type": "execute_result"
    }
   ],
   "source": [
    "list2[0]==list2[-6]"
   ]
  },
  {
   "cell_type": "code",
   "execution_count": 63,
   "id": "bee6e1ff",
   "metadata": {},
   "outputs": [
    {
     "data": {
      "text/plain": [
       "True"
      ]
     },
     "execution_count": 63,
     "metadata": {},
     "output_type": "execute_result"
    }
   ],
   "source": [
    "list2[0]==list2[len(list2)-6]"
   ]
  },
  {
   "cell_type": "code",
   "execution_count": 34,
   "id": "ca060542",
   "metadata": {},
   "outputs": [
    {
     "name": "stdout",
     "output_type": "stream",
     "text": [
      "1\n",
      "1\n"
     ]
    },
    {
     "data": {
      "text/plain": [
       "True"
      ]
     },
     "execution_count": 34,
     "metadata": {},
     "output_type": "execute_result"
    }
   ],
   "source": [
    "print(list2[0])==print(list2[len(list2)-6])"
   ]
  },
  {
   "cell_type": "code",
   "execution_count": 68,
   "id": "a2deb030",
   "metadata": {},
   "outputs": [
    {
     "data": {
      "text/plain": [
       "7"
      ]
     },
     "execution_count": 68,
     "metadata": {},
     "output_type": "execute_result"
    }
   ],
   "source": [
    "list2[1]"
   ]
  },
  {
   "cell_type": "code",
   "execution_count": 69,
   "id": "b94e1d7a",
   "metadata": {},
   "outputs": [
    {
     "data": {
      "text/plain": [
       "[8, 5, 2]"
      ]
     },
     "execution_count": 69,
     "metadata": {},
     "output_type": "execute_result"
    }
   ],
   "source": [
    "list2[2]"
   ]
  },
  {
   "cell_type": "code",
   "execution_count": 70,
   "id": "9669a18f",
   "metadata": {},
   "outputs": [
    {
     "data": {
      "text/plain": [
       "8"
      ]
     },
     "execution_count": 70,
     "metadata": {},
     "output_type": "execute_result"
    }
   ],
   "source": [
    "list2[2][0]"
   ]
  },
  {
   "cell_type": "code",
   "execution_count": 71,
   "id": "e587ac55",
   "metadata": {},
   "outputs": [
    {
     "data": {
      "text/plain": [
       "5"
      ]
     },
     "execution_count": 71,
     "metadata": {},
     "output_type": "execute_result"
    }
   ],
   "source": [
    "list2[2][1]"
   ]
  },
  {
   "cell_type": "code",
   "execution_count": 72,
   "id": "f1bef41c",
   "metadata": {},
   "outputs": [
    {
     "data": {
      "text/plain": [
       "2"
      ]
     },
     "execution_count": 72,
     "metadata": {},
     "output_type": "execute_result"
    }
   ],
   "source": [
    "list2[2][2]"
   ]
  },
  {
   "cell_type": "code",
   "execution_count": 73,
   "id": "1af410b4",
   "metadata": {},
   "outputs": [
    {
     "ename": "IndexError",
     "evalue": "list index out of range",
     "output_type": "error",
     "traceback": [
      "\u001b[1;31m---------------------------------------------------------------------------\u001b[0m",
      "\u001b[1;31mIndexError\u001b[0m                                Traceback (most recent call last)",
      "Input \u001b[1;32mIn [73]\u001b[0m, in \u001b[0;36m<cell line: 1>\u001b[1;34m()\u001b[0m\n\u001b[1;32m----> 1\u001b[0m \u001b[43mlist2\u001b[49m\u001b[43m[\u001b[49m\u001b[38;5;241;43m2\u001b[39;49m\u001b[43m]\u001b[49m\u001b[43m[\u001b[49m\u001b[38;5;241;43m3\u001b[39;49m\u001b[43m]\u001b[49m\n",
      "\u001b[1;31mIndexError\u001b[0m: list index out of range"
     ]
    }
   ],
   "source": [
    "list2[2][3]"
   ]
  },
  {
   "cell_type": "code",
   "execution_count": 74,
   "id": "1b2bca4a",
   "metadata": {},
   "outputs": [],
   "source": [
    "list3 =[1, 7,[ 8, 5], 2, [6, 9], 3]"
   ]
  },
  {
   "cell_type": "code",
   "execution_count": 75,
   "id": "4cd99b12",
   "metadata": {},
   "outputs": [
    {
     "data": {
      "text/plain": [
       "[6, 9]"
      ]
     },
     "execution_count": 75,
     "metadata": {},
     "output_type": "execute_result"
    }
   ],
   "source": [
    "list3[4]"
   ]
  },
  {
   "cell_type": "code",
   "execution_count": 77,
   "id": "264d63f8",
   "metadata": {},
   "outputs": [
    {
     "data": {
      "text/plain": [
       "[6, 9]"
      ]
     },
     "execution_count": 77,
     "metadata": {},
     "output_type": "execute_result"
    }
   ],
   "source": [
    "list3[-2]"
   ]
  },
  {
   "cell_type": "code",
   "execution_count": 78,
   "id": "ea596c68",
   "metadata": {},
   "outputs": [
    {
     "data": {
      "text/plain": [
       "9"
      ]
     },
     "execution_count": 78,
     "metadata": {},
     "output_type": "execute_result"
    }
   ],
   "source": [
    "list3[-2][1]"
   ]
  },
  {
   "cell_type": "code",
   "execution_count": 80,
   "id": "a8407a6d",
   "metadata": {},
   "outputs": [
    {
     "data": {
      "text/plain": [
       "9"
      ]
     },
     "execution_count": 80,
     "metadata": {},
     "output_type": "execute_result"
    }
   ],
   "source": [
    "list3[4][1]"
   ]
  },
  {
   "cell_type": "code",
   "execution_count": null,
   "id": "382ee4fa",
   "metadata": {},
   "outputs": [],
   "source": []
  }
 ],
 "metadata": {
  "kernelspec": {
   "display_name": "Python 3 (ipykernel)",
   "language": "python",
   "name": "python3"
  },
  "language_info": {
   "codemirror_mode": {
    "name": "ipython",
    "version": 3
   },
   "file_extension": ".py",
   "mimetype": "text/x-python",
   "name": "python",
   "nbconvert_exporter": "python",
   "pygments_lexer": "ipython3",
   "version": "3.9.12"
  }
 },
 "nbformat": 4,
 "nbformat_minor": 5
}
