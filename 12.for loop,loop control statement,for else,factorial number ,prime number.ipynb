{
 "cells": [
  {
   "cell_type": "markdown",
   "id": "6eb71f09",
   "metadata": {},
   "source": [
    "## for loop"
   ]
  },
  {
   "cell_type": "raw",
   "id": "15dfaec2",
   "metadata": {},
   "source": [
    "Used for iteration over a sequence.\n",
    "The sequence could be string, list, tuple, set, dict\n",
    "For loop goes on till the last character in the string or last element of list/tuple/set/dict."
   ]
  },
  {
   "cell_type": "raw",
   "id": "8e262de7",
   "metadata": {},
   "source": [
    "Syntax:\n",
    "    for element in sequence:\n",
    "        print(element)\n",
    "        statement1\n",
    "        statement2"
   ]
  },
  {
   "cell_type": "raw",
   "id": "bc2ca853",
   "metadata": {},
   "source": [
    "Syntax:\n",
    "    for index, element in enumerate(sequence):\n",
    "        print(element)\n",
    "        print(index)\n",
    "        print(index, element)\n",
    "        statement1\n",
    "        statement2"
   ]
  },
  {
   "cell_type": "code",
   "execution_count": 2,
   "id": "813f28db",
   "metadata": {},
   "outputs": [
    {
     "name": "stdout",
     "output_type": "stream",
     "text": [
      "r\n",
      "o\n",
      "b\n",
      "o\n",
      "t\n",
      "i\n",
      "c\n",
      "s\n"
     ]
    }
   ],
   "source": [
    "re=\"robotics\"\n",
    "for letter in re:\n",
    "    print(letter)"
   ]
  },
  {
   "cell_type": "code",
   "execution_count": 3,
   "id": "ab2c187e",
   "metadata": {},
   "outputs": [
    {
     "name": "stdout",
     "output_type": "stream",
     "text": [
      "r\n",
      "o\n",
      "b\n",
      "o\n",
      "t\n",
      "i\n",
      "c\n",
      "s\n"
     ]
    }
   ],
   "source": [
    "re='robotics'\n",
    "for letter in 'robotics':\n",
    "    print(letter)"
   ]
  },
  {
   "cell_type": "code",
   "execution_count": 4,
   "id": "d847d16e",
   "metadata": {},
   "outputs": [
    {
     "name": "stdout",
     "output_type": "stream",
     "text": [
      "robotics\n",
      "robotics\n",
      "robotics\n",
      "robotics\n",
      "robotics\n",
      "robotics\n",
      "robotics\n",
      "robotics\n"
     ]
    }
   ],
   "source": [
    "re='robotics'\n",
    "for letter in re:\n",
    "    print(re)"
   ]
  },
  {
   "cell_type": "code",
   "execution_count": 5,
   "id": "6de04b2d",
   "metadata": {},
   "outputs": [
    {
     "name": "stdout",
     "output_type": "stream",
     "text": [
      "robotics\n",
      "robotics\n",
      "robotics\n",
      "robotics\n",
      "robotics\n",
      "robotics\n",
      "robotics\n",
      "robotics\n"
     ]
    }
   ],
   "source": [
    "re='robotics'\n",
    "for i in 'robotics':\n",
    "    print('robotics')"
   ]
  },
  {
   "cell_type": "code",
   "execution_count": 6,
   "id": "36a5fb43",
   "metadata": {},
   "outputs": [
    {
     "name": "stdout",
     "output_type": "stream",
     "text": [
      "ugly\n",
      "ugly\n",
      "ugly\n",
      "ugly\n",
      "ugly\n",
      "ugly\n",
      "ugly\n",
      "ugly\n"
     ]
    }
   ],
   "source": [
    "re='robotics'\n",
    "for i in 'robotics':\n",
    "    print('ugly')"
   ]
  },
  {
   "cell_type": "code",
   "execution_count": 7,
   "id": "9040ac3a",
   "metadata": {},
   "outputs": [
    {
     "name": "stdout",
     "output_type": "stream",
     "text": [
      "r\n",
      "o\n",
      "b\n",
      "o\n",
      "t\n",
      "i\n",
      "c\n",
      "s\n"
     ]
    }
   ],
   "source": [
    "for i in re:# we could use any element replace of i\n",
    "    print(i)"
   ]
  },
  {
   "cell_type": "code",
   "execution_count": 8,
   "id": "edc466f5",
   "metadata": {},
   "outputs": [
    {
     "name": "stdout",
     "output_type": "stream",
     "text": [
      "r\n",
      "o\n",
      "b\n",
      "o\n",
      "t\n",
      "i\n",
      "c\n",
      "s\n"
     ]
    }
   ],
   "source": [
    "for radha in re:\n",
    "    print(radha)"
   ]
  },
  {
   "cell_type": "code",
   "execution_count": 2,
   "id": "448e4193",
   "metadata": {},
   "outputs": [
    {
     "name": "stdout",
     "output_type": "stream",
     "text": [
      "0\n",
      "0\n",
      "0\n",
      "1\n",
      "0\n",
      "0\n",
      "0\n",
      "1\n",
      "0\n",
      "1\n",
      "0\n"
     ]
    }
   ],
   "source": [
    "d1_='interpreted'\n",
    "for i in d1_:\n",
    "    print(i.count('e'))"
   ]
  },
  {
   "cell_type": "code",
   "execution_count": 3,
   "id": "c23e967d",
   "metadata": {},
   "outputs": [
    {
     "name": "stdout",
     "output_type": "stream",
     "text": [
      "1\n",
      "1\n",
      "2\n",
      "3\n",
      "2\n",
      "1\n",
      "2\n",
      "3\n",
      "2\n",
      "3\n",
      "1\n"
     ]
    }
   ],
   "source": [
    "d1_='interpreted'\n",
    "for i in d1_:\n",
    "    print(d1_.count(i))"
   ]
  },
  {
   "cell_type": "code",
   "execution_count": 11,
   "id": "dfe49e5b",
   "metadata": {},
   "outputs": [
    {
     "name": "stdout",
     "output_type": "stream",
     "text": [
      "I\n",
      "N\n",
      "T\n",
      "E\n",
      "R\n",
      "P\n",
      "R\n",
      "E\n",
      "T\n",
      "E\n",
      "D\n"
     ]
    }
   ],
   "source": [
    "d1_='interpreted'\n",
    "for i in d1_:\n",
    "    print(i.upper())"
   ]
  },
  {
   "cell_type": "code",
   "execution_count": 29,
   "id": "98d2d830",
   "metadata": {},
   "outputs": [
    {
     "name": "stdout",
     "output_type": "stream",
     "text": [
      "INTERPRETED"
     ]
    }
   ],
   "source": [
    "d1_='interpreted'\n",
    "for i in d1_:\n",
    "    print(i.upper(),end=\"\")"
   ]
  },
  {
   "cell_type": "code",
   "execution_count": 24,
   "id": "643fb1ba",
   "metadata": {},
   "outputs": [
    {
     "data": {
      "text/plain": [
       "'interpreted'"
      ]
     },
     "execution_count": 24,
     "metadata": {},
     "output_type": "execute_result"
    }
   ],
   "source": [
    "d1_"
   ]
  },
  {
   "cell_type": "code",
   "execution_count": 28,
   "id": "61c7aba7",
   "metadata": {},
   "outputs": [
    {
     "name": "stdout",
     "output_type": "stream",
     "text": [
      "Interpreted\n",
      "Interpreted\n",
      "Interpreted\n",
      "Interpreted\n",
      "Interpreted\n",
      "Interpreted\n",
      "Interpreted\n",
      "Interpreted\n",
      "Interpreted\n",
      "Interpreted\n",
      "Interpreted\n"
     ]
    }
   ],
   "source": [
    "d1_='interpreted'\n",
    "for i in d1_:\n",
    "    print('interpreted'.capitalize())"
   ]
  },
  {
   "cell_type": "code",
   "execution_count": 29,
   "id": "3c295257",
   "metadata": {},
   "outputs": [
    {
     "ename": "IndentationError",
     "evalue": "expected an indented block (2924982706.py, line 3)",
     "output_type": "error",
     "traceback": [
      "\u001b[1;36m  Input \u001b[1;32mIn [29]\u001b[1;36m\u001b[0m\n\u001b[1;33m    print('interpreted'.capitalize())\u001b[0m\n\u001b[1;37m    ^\u001b[0m\n\u001b[1;31mIndentationError\u001b[0m\u001b[1;31m:\u001b[0m expected an indented block\n"
     ]
    }
   ],
   "source": [
    "d1_='interpreted'\n",
    "for i in d1_:\n",
    "print('interpreted'.capitalize())"
   ]
  },
  {
   "cell_type": "code",
   "execution_count": 17,
   "id": "931aabdd",
   "metadata": {},
   "outputs": [
    {
     "name": "stdout",
     "output_type": "stream",
     "text": [
      "2\n",
      "3\n",
      "4\n",
      "5\n",
      "34\n",
      "2\n",
      "4\n",
      "56\n",
      "76\n",
      "-6\n",
      "0.5\n"
     ]
    }
   ],
   "source": [
    "list=[2,3,4,5,34,2,4,56,76,-6,0.5]\n",
    "for element in list:\n",
    "    print(element)\n"
   ]
  },
  {
   "cell_type": "code",
   "execution_count": 19,
   "id": "177ee193",
   "metadata": {},
   "outputs": [
    {
     "name": "stdout",
     "output_type": "stream",
     "text": [
      "20\n",
      "30\n",
      "40\n",
      "50\n",
      "340\n",
      "20\n",
      "40\n",
      "560\n",
      "760\n",
      "-60\n",
      "5.0\n"
     ]
    }
   ],
   "source": [
    "list=[2,3,4,5,34,2,4,56,76,-6,0.5]\n",
    "for i in list:\n",
    "    print(i*10)"
   ]
  },
  {
   "cell_type": "code",
   "execution_count": 18,
   "id": "674631b3",
   "metadata": {},
   "outputs": [
    {
     "name": "stdout",
     "output_type": "stream",
     "text": [
      "[2, 3, 4, 5, 34, 2, 4, 56, 76, -6, 0.5]\n",
      "[2, 3, 4, 5, 34, 2, 4, 56, 76, -6, 0.5]\n",
      "[2, 3, 4, 5, 34, 2, 4, 56, 76, -6, 0.5]\n",
      "[2, 3, 4, 5, 34, 2, 4, 56, 76, -6, 0.5]\n",
      "[2, 3, 4, 5, 34, 2, 4, 56, 76, -6, 0.5]\n",
      "[2, 3, 4, 5, 34, 2, 4, 56, 76, -6, 0.5]\n",
      "[2, 3, 4, 5, 34, 2, 4, 56, 76, -6, 0.5]\n",
      "[2, 3, 4, 5, 34, 2, 4, 56, 76, -6, 0.5]\n",
      "[2, 3, 4, 5, 34, 2, 4, 56, 76, -6, 0.5]\n",
      "[2, 3, 4, 5, 34, 2, 4, 56, 76, -6, 0.5]\n",
      "[2, 3, 4, 5, 34, 2, 4, 56, 76, -6, 0.5]\n"
     ]
    }
   ],
   "source": [
    "list=[2,3,4,5,34,2,4,56,76,-6,0.5]\n",
    "for i in list:\n",
    "    print(list)"
   ]
  },
  {
   "cell_type": "code",
   "execution_count": 51,
   "id": "b603c9b0",
   "metadata": {},
   "outputs": [
    {
     "name": "stdout",
     "output_type": "stream",
     "text": [
      "True\n",
      "True\n",
      "True\n",
      "True\n",
      "True\n",
      "True\n",
      "True\n",
      "True\n",
      "True\n",
      "True\n",
      "True\n"
     ]
    }
   ],
   "source": [
    "list=[2,3,4,5,34,2,4,56,76,-6,0.5]\n",
    "for i in list:\n",
    "    print(i==i*1)"
   ]
  },
  {
   "cell_type": "code",
   "execution_count": 1,
   "id": "070f576a",
   "metadata": {},
   "outputs": [
    {
     "name": "stdout",
     "output_type": "stream",
     "text": [
      "[2, 3, 4, 5, 34, 2, 4, 56, 76, -6, 0.5, 2, 3, 4, 5, 34, 2, 4, 56, 76, -6, 0.5, 2, 3, 4, 5, 34, 2, 4, 56, 76, -6, 0.5, 2, 3, 4, 5, 34, 2, 4, 56, 76, -6, 0.5, 2, 3, 4, 5, 34, 2, 4, 56, 76, -6, 0.5, 2, 3, 4, 5, 34, 2, 4, 56, 76, -6, 0.5, 2, 3, 4, 5, 34, 2, 4, 56, 76, -6, 0.5, 2, 3, 4, 5, 34, 2, 4, 56, 76, -6, 0.5, 2, 3, 4, 5, 34, 2, 4, 56, 76, -6, 0.5, 2, 3, 4, 5, 34, 2, 4, 56, 76, -6, 0.5]\n",
      "[2, 3, 4, 5, 34, 2, 4, 56, 76, -6, 0.5, 2, 3, 4, 5, 34, 2, 4, 56, 76, -6, 0.5, 2, 3, 4, 5, 34, 2, 4, 56, 76, -6, 0.5, 2, 3, 4, 5, 34, 2, 4, 56, 76, -6, 0.5, 2, 3, 4, 5, 34, 2, 4, 56, 76, -6, 0.5, 2, 3, 4, 5, 34, 2, 4, 56, 76, -6, 0.5, 2, 3, 4, 5, 34, 2, 4, 56, 76, -6, 0.5, 2, 3, 4, 5, 34, 2, 4, 56, 76, -6, 0.5, 2, 3, 4, 5, 34, 2, 4, 56, 76, -6, 0.5, 2, 3, 4, 5, 34, 2, 4, 56, 76, -6, 0.5]\n",
      "[2, 3, 4, 5, 34, 2, 4, 56, 76, -6, 0.5, 2, 3, 4, 5, 34, 2, 4, 56, 76, -6, 0.5, 2, 3, 4, 5, 34, 2, 4, 56, 76, -6, 0.5, 2, 3, 4, 5, 34, 2, 4, 56, 76, -6, 0.5, 2, 3, 4, 5, 34, 2, 4, 56, 76, -6, 0.5, 2, 3, 4, 5, 34, 2, 4, 56, 76, -6, 0.5, 2, 3, 4, 5, 34, 2, 4, 56, 76, -6, 0.5, 2, 3, 4, 5, 34, 2, 4, 56, 76, -6, 0.5, 2, 3, 4, 5, 34, 2, 4, 56, 76, -6, 0.5, 2, 3, 4, 5, 34, 2, 4, 56, 76, -6, 0.5]\n",
      "[2, 3, 4, 5, 34, 2, 4, 56, 76, -6, 0.5, 2, 3, 4, 5, 34, 2, 4, 56, 76, -6, 0.5, 2, 3, 4, 5, 34, 2, 4, 56, 76, -6, 0.5, 2, 3, 4, 5, 34, 2, 4, 56, 76, -6, 0.5, 2, 3, 4, 5, 34, 2, 4, 56, 76, -6, 0.5, 2, 3, 4, 5, 34, 2, 4, 56, 76, -6, 0.5, 2, 3, 4, 5, 34, 2, 4, 56, 76, -6, 0.5, 2, 3, 4, 5, 34, 2, 4, 56, 76, -6, 0.5, 2, 3, 4, 5, 34, 2, 4, 56, 76, -6, 0.5, 2, 3, 4, 5, 34, 2, 4, 56, 76, -6, 0.5]\n",
      "[2, 3, 4, 5, 34, 2, 4, 56, 76, -6, 0.5, 2, 3, 4, 5, 34, 2, 4, 56, 76, -6, 0.5, 2, 3, 4, 5, 34, 2, 4, 56, 76, -6, 0.5, 2, 3, 4, 5, 34, 2, 4, 56, 76, -6, 0.5, 2, 3, 4, 5, 34, 2, 4, 56, 76, -6, 0.5, 2, 3, 4, 5, 34, 2, 4, 56, 76, -6, 0.5, 2, 3, 4, 5, 34, 2, 4, 56, 76, -6, 0.5, 2, 3, 4, 5, 34, 2, 4, 56, 76, -6, 0.5, 2, 3, 4, 5, 34, 2, 4, 56, 76, -6, 0.5, 2, 3, 4, 5, 34, 2, 4, 56, 76, -6, 0.5]\n",
      "[2, 3, 4, 5, 34, 2, 4, 56, 76, -6, 0.5, 2, 3, 4, 5, 34, 2, 4, 56, 76, -6, 0.5, 2, 3, 4, 5, 34, 2, 4, 56, 76, -6, 0.5, 2, 3, 4, 5, 34, 2, 4, 56, 76, -6, 0.5, 2, 3, 4, 5, 34, 2, 4, 56, 76, -6, 0.5, 2, 3, 4, 5, 34, 2, 4, 56, 76, -6, 0.5, 2, 3, 4, 5, 34, 2, 4, 56, 76, -6, 0.5, 2, 3, 4, 5, 34, 2, 4, 56, 76, -6, 0.5, 2, 3, 4, 5, 34, 2, 4, 56, 76, -6, 0.5, 2, 3, 4, 5, 34, 2, 4, 56, 76, -6, 0.5]\n",
      "[2, 3, 4, 5, 34, 2, 4, 56, 76, -6, 0.5, 2, 3, 4, 5, 34, 2, 4, 56, 76, -6, 0.5, 2, 3, 4, 5, 34, 2, 4, 56, 76, -6, 0.5, 2, 3, 4, 5, 34, 2, 4, 56, 76, -6, 0.5, 2, 3, 4, 5, 34, 2, 4, 56, 76, -6, 0.5, 2, 3, 4, 5, 34, 2, 4, 56, 76, -6, 0.5, 2, 3, 4, 5, 34, 2, 4, 56, 76, -6, 0.5, 2, 3, 4, 5, 34, 2, 4, 56, 76, -6, 0.5, 2, 3, 4, 5, 34, 2, 4, 56, 76, -6, 0.5, 2, 3, 4, 5, 34, 2, 4, 56, 76, -6, 0.5]\n",
      "[2, 3, 4, 5, 34, 2, 4, 56, 76, -6, 0.5, 2, 3, 4, 5, 34, 2, 4, 56, 76, -6, 0.5, 2, 3, 4, 5, 34, 2, 4, 56, 76, -6, 0.5, 2, 3, 4, 5, 34, 2, 4, 56, 76, -6, 0.5, 2, 3, 4, 5, 34, 2, 4, 56, 76, -6, 0.5, 2, 3, 4, 5, 34, 2, 4, 56, 76, -6, 0.5, 2, 3, 4, 5, 34, 2, 4, 56, 76, -6, 0.5, 2, 3, 4, 5, 34, 2, 4, 56, 76, -6, 0.5, 2, 3, 4, 5, 34, 2, 4, 56, 76, -6, 0.5, 2, 3, 4, 5, 34, 2, 4, 56, 76, -6, 0.5]\n",
      "[2, 3, 4, 5, 34, 2, 4, 56, 76, -6, 0.5, 2, 3, 4, 5, 34, 2, 4, 56, 76, -6, 0.5, 2, 3, 4, 5, 34, 2, 4, 56, 76, -6, 0.5, 2, 3, 4, 5, 34, 2, 4, 56, 76, -6, 0.5, 2, 3, 4, 5, 34, 2, 4, 56, 76, -6, 0.5, 2, 3, 4, 5, 34, 2, 4, 56, 76, -6, 0.5, 2, 3, 4, 5, 34, 2, 4, 56, 76, -6, 0.5, 2, 3, 4, 5, 34, 2, 4, 56, 76, -6, 0.5, 2, 3, 4, 5, 34, 2, 4, 56, 76, -6, 0.5, 2, 3, 4, 5, 34, 2, 4, 56, 76, -6, 0.5]\n",
      "[2, 3, 4, 5, 34, 2, 4, 56, 76, -6, 0.5, 2, 3, 4, 5, 34, 2, 4, 56, 76, -6, 0.5, 2, 3, 4, 5, 34, 2, 4, 56, 76, -6, 0.5, 2, 3, 4, 5, 34, 2, 4, 56, 76, -6, 0.5, 2, 3, 4, 5, 34, 2, 4, 56, 76, -6, 0.5, 2, 3, 4, 5, 34, 2, 4, 56, 76, -6, 0.5, 2, 3, 4, 5, 34, 2, 4, 56, 76, -6, 0.5, 2, 3, 4, 5, 34, 2, 4, 56, 76, -6, 0.5, 2, 3, 4, 5, 34, 2, 4, 56, 76, -6, 0.5, 2, 3, 4, 5, 34, 2, 4, 56, 76, -6, 0.5]\n",
      "[2, 3, 4, 5, 34, 2, 4, 56, 76, -6, 0.5, 2, 3, 4, 5, 34, 2, 4, 56, 76, -6, 0.5, 2, 3, 4, 5, 34, 2, 4, 56, 76, -6, 0.5, 2, 3, 4, 5, 34, 2, 4, 56, 76, -6, 0.5, 2, 3, 4, 5, 34, 2, 4, 56, 76, -6, 0.5, 2, 3, 4, 5, 34, 2, 4, 56, 76, -6, 0.5, 2, 3, 4, 5, 34, 2, 4, 56, 76, -6, 0.5, 2, 3, 4, 5, 34, 2, 4, 56, 76, -6, 0.5, 2, 3, 4, 5, 34, 2, 4, 56, 76, -6, 0.5, 2, 3, 4, 5, 34, 2, 4, 56, 76, -6, 0.5]\n"
     ]
    }
   ],
   "source": [
    "list=[2,3,4,5,34,2,4,56,76,-6,0.5]\n",
    "for i in list:\n",
    "    print(list*10)"
   ]
  },
  {
   "cell_type": "code",
   "execution_count": 21,
   "id": "e3e3fcbf",
   "metadata": {},
   "outputs": [
    {
     "name": "stdout",
     "output_type": "stream",
     "text": [
      "monday\n",
      "tuesday\n",
      "wednessday\n",
      "thursday\n",
      "friday\n",
      "saturday\n",
      "sunday\n"
     ]
    }
   ],
   "source": [
    "list2='monday','tuesday','wednessday','thursday','friday','saturday','sunday'\n",
    "for day in list2:\n",
    "    print(day)"
   ]
  },
  {
   "cell_type": "code",
   "execution_count": 23,
   "id": "0345e6e4",
   "metadata": {},
   "outputs": [
    {
     "name": "stdout",
     "output_type": "stream",
     "text": [
      "monday 6\n",
      "tuesday 7\n",
      "wednessday 10\n",
      "thursday 8\n",
      "friday 6\n",
      "saturday 8\n",
      "sunday 6\n"
     ]
    }
   ],
   "source": [
    "list2='monday','tuesday','wednessday','thursday','friday','saturday','sunday'\n",
    "for day in list2:\n",
    "    print(day,len(day))"
   ]
  },
  {
   "cell_type": "code",
   "execution_count": 24,
   "id": "86362625",
   "metadata": {},
   "outputs": [
    {
     "name": "stdout",
     "output_type": "stream",
     "text": [
      "monday 7\n",
      "tuesday 7\n",
      "wednessday 7\n",
      "thursday 7\n",
      "friday 7\n",
      "saturday 7\n",
      "sunday 7\n"
     ]
    }
   ],
   "source": [
    "list2='monday','tuesday','wednessday','thursday','friday','saturday','sunday'\n",
    "for day in list2:\n",
    "    print(day,len(list2))"
   ]
  },
  {
   "cell_type": "code",
   "execution_count": 25,
   "id": "03688cea",
   "metadata": {},
   "outputs": [
    {
     "name": "stdout",
     "output_type": "stream",
     "text": [
      "('monday', 'tuesday', 'wednessday', 'thursday', 'friday', 'saturday', 'sunday') 7\n",
      "('monday', 'tuesday', 'wednessday', 'thursday', 'friday', 'saturday', 'sunday') 7\n",
      "('monday', 'tuesday', 'wednessday', 'thursday', 'friday', 'saturday', 'sunday') 7\n",
      "('monday', 'tuesday', 'wednessday', 'thursday', 'friday', 'saturday', 'sunday') 7\n",
      "('monday', 'tuesday', 'wednessday', 'thursday', 'friday', 'saturday', 'sunday') 7\n",
      "('monday', 'tuesday', 'wednessday', 'thursday', 'friday', 'saturday', 'sunday') 7\n",
      "('monday', 'tuesday', 'wednessday', 'thursday', 'friday', 'saturday', 'sunday') 7\n"
     ]
    }
   ],
   "source": [
    "list2='monday','tuesday','wednessday','thursday','friday','saturday','sunday'\n",
    "for day in list2:\n",
    "    print(list2,len(list2))"
   ]
  },
  {
   "cell_type": "code",
   "execution_count": 34,
   "id": "16baaad2",
   "metadata": {},
   "outputs": [
    {
     "name": "stdout",
     "output_type": "stream",
     "text": [
      "monday 7\n",
      "tuesday 7\n",
      "wednessday 7\n",
      "thursday 7\n",
      "friday 7\n",
      "saturday 7\n",
      "sunday 7\n"
     ]
    }
   ],
   "source": [
    "list2=['monday','tuesday','wednessday','thursday','friday','saturday','sunday']\n",
    "for day in list2:\n",
    "    print(day,len(list2))"
   ]
  },
  {
   "cell_type": "code",
   "execution_count": 36,
   "id": "d24579e8",
   "metadata": {},
   "outputs": [
    {
     "name": "stdout",
     "output_type": "stream",
     "text": [
      "['monday', 'tuesday', 'wednessday', 'thursday', 'friday', 'saturday', 'sunday'] 7\n",
      "['monday', 'tuesday', 'wednessday', 'thursday', 'friday', 'saturday', 'sunday'] 7\n",
      "['monday', 'tuesday', 'wednessday', 'thursday', 'friday', 'saturday', 'sunday'] 7\n",
      "['monday', 'tuesday', 'wednessday', 'thursday', 'friday', 'saturday', 'sunday'] 7\n",
      "['monday', 'tuesday', 'wednessday', 'thursday', 'friday', 'saturday', 'sunday'] 7\n",
      "['monday', 'tuesday', 'wednessday', 'thursday', 'friday', 'saturday', 'sunday'] 7\n",
      "['monday', 'tuesday', 'wednessday', 'thursday', 'friday', 'saturday', 'sunday'] 7\n"
     ]
    }
   ],
   "source": [
    "list2=['monday','tuesday','wednessday','thursday','friday','saturday','sunday']\n",
    "for day in list2:\n",
    "    print(list2,len(list2))"
   ]
  },
  {
   "cell_type": "code",
   "execution_count": 27,
   "id": "c99f5605",
   "metadata": {},
   "outputs": [
    {
     "name": "stdout",
     "output_type": "stream",
     "text": [
      "0\n",
      "1\n",
      "2\n",
      "3\n",
      "4\n",
      "5\n",
      "6\n",
      "7\n",
      "8\n",
      "9\n",
      "10\n",
      "11\n",
      "12\n",
      "13\n",
      "14\n",
      "15\n",
      "16\n",
      "17\n",
      "18\n",
      "19\n"
     ]
    }
   ],
   "source": [
    "i=range(20)\n",
    "for j in i:\n",
    "    print(j)"
   ]
  },
  {
   "cell_type": "code",
   "execution_count": 30,
   "id": "e20cac71",
   "metadata": {},
   "outputs": [
    {
     "name": "stdout",
     "output_type": "stream",
     "text": [
      "0\n",
      "1\n",
      "2\n",
      "3\n",
      "4\n",
      "5\n",
      "6\n",
      "7\n",
      "8\n",
      "9\n",
      "10\n",
      "11\n",
      "12\n",
      "13\n",
      "14\n",
      "15\n",
      "16\n",
      "17\n",
      "18\n",
      "19\n"
     ]
    }
   ],
   "source": [
    "i=range(0,20)\n",
    "for j in i:\n",
    "    print(j)"
   ]
  },
  {
   "cell_type": "code",
   "execution_count": 43,
   "id": "2414c8d6",
   "metadata": {},
   "outputs": [
    {
     "name": "stdout",
     "output_type": "stream",
     "text": [
      "0\n",
      "1\n",
      "2\n",
      "3\n",
      "4\n",
      "5\n",
      "6\n",
      "7\n",
      "8\n",
      "9\n",
      "10\n",
      "11\n",
      "12\n",
      "13\n",
      "14\n",
      "15\n",
      "16\n",
      "17\n",
      "18\n",
      "19\n"
     ]
    }
   ],
   "source": [
    "for i in range(0,20):\n",
    "    print(i)"
   ]
  },
  {
   "cell_type": "code",
   "execution_count": 32,
   "id": "4041c9a8",
   "metadata": {},
   "outputs": [
    {
     "name": "stdout",
     "output_type": "stream",
     "text": [
      "3\n",
      "4\n",
      "5\n",
      "6\n",
      "7\n",
      "8\n",
      "9\n",
      "10\n",
      "11\n",
      "12\n",
      "13\n",
      "14\n",
      "15\n",
      "16\n",
      "17\n",
      "18\n",
      "19\n",
      "20\n",
      "21\n",
      "22\n"
     ]
    }
   ],
   "source": [
    "i=range(3,23)\n",
    "for j in i:\n",
    "    print(j)"
   ]
  },
  {
   "cell_type": "code",
   "execution_count": 31,
   "id": "c08c510f",
   "metadata": {},
   "outputs": [
    {
     "name": "stdout",
     "output_type": "stream",
     "text": [
      "range(0, 20)\n",
      "range(0, 20)\n",
      "range(0, 20)\n",
      "range(0, 20)\n",
      "range(0, 20)\n",
      "range(0, 20)\n",
      "range(0, 20)\n",
      "range(0, 20)\n",
      "range(0, 20)\n",
      "range(0, 20)\n",
      "range(0, 20)\n",
      "range(0, 20)\n",
      "range(0, 20)\n",
      "range(0, 20)\n",
      "range(0, 20)\n",
      "range(0, 20)\n",
      "range(0, 20)\n",
      "range(0, 20)\n",
      "range(0, 20)\n",
      "range(0, 20)\n"
     ]
    }
   ],
   "source": [
    "i=range(0,20)\n",
    "for j in i:\n",
    "    print(i)"
   ]
  },
  {
   "cell_type": "code",
   "execution_count": 41,
   "id": "3e1d0ce9",
   "metadata": {},
   "outputs": [
    {
     "name": "stdout",
     "output_type": "stream",
     "text": [
      "0\n",
      "3\n",
      "6\n",
      "9\n",
      "12\n",
      "15\n",
      "18\n"
     ]
    }
   ],
   "source": [
    "i=range(0,21)\n",
    "for j in range(0,21,3):\n",
    "    print(j)"
   ]
  },
  {
   "cell_type": "code",
   "execution_count": 42,
   "id": "2a5c982a",
   "metadata": {},
   "outputs": [
    {
     "name": "stdout",
     "output_type": "stream",
     "text": [
      "0\n",
      "2\n",
      "4\n",
      "6\n",
      "8\n",
      "10\n",
      "12\n",
      "14\n",
      "16\n",
      "18\n",
      "20\n"
     ]
    }
   ],
   "source": [
    "for i in range(0,21,2):\n",
    "    print(i)"
   ]
  },
  {
   "cell_type": "code",
   "execution_count": 4,
   "id": "fc37e0e8",
   "metadata": {},
   "outputs": [
    {
     "name": "stdout",
     "output_type": "stream",
     "text": [
      "1\n",
      "3\n",
      "5\n",
      "7\n",
      "9\n",
      "11\n",
      "13\n",
      "15\n",
      "17\n",
      "19\n"
     ]
    }
   ],
   "source": [
    "for i in range(1,21,2):\n",
    "    print(i)"
   ]
  },
  {
   "cell_type": "raw",
   "id": "474c5f97",
   "metadata": {},
   "source": [
    "range(5) = range(0,5) = range(0,5,1) # all are same"
   ]
  },
  {
   "cell_type": "raw",
   "id": "415d9057",
   "metadata": {},
   "source": [
    "range(20)# 0,1,2,3,.....,19\n",
    "range(0,20,1)#0,1,2,3,.....,19\n",
    "range(0,20,3)# 0,3,6,9,.....\n",
    "range(1,20,1) # 1,2,3,....,19\n",
    "range(0,20,2)# 0,2,4,....\n",
    "range(1,20,2)# 1,3,5,7,.....,19"
   ]
  },
  {
   "cell_type": "code",
   "execution_count": 45,
   "id": "9a9c7301",
   "metadata": {},
   "outputs": [
    {
     "name": "stdout",
     "output_type": "stream",
     "text": [
      "0\n",
      "1\n",
      "2\n",
      "3\n",
      "4\n"
     ]
    }
   ],
   "source": [
    "for i in range(5):\n",
    "    print(i)"
   ]
  },
  {
   "cell_type": "code",
   "execution_count": 46,
   "id": "55a2a993",
   "metadata": {},
   "outputs": [
    {
     "name": "stdout",
     "output_type": "stream",
     "text": [
      "0\n",
      "1\n",
      "2\n",
      "3\n",
      "4\n"
     ]
    }
   ],
   "source": [
    "for i in range(0,5):\n",
    "    print(i)"
   ]
  },
  {
   "cell_type": "code",
   "execution_count": 47,
   "id": "6be9bb37",
   "metadata": {},
   "outputs": [
    {
     "name": "stdout",
     "output_type": "stream",
     "text": [
      "0\n",
      "1\n",
      "2\n",
      "3\n",
      "4\n"
     ]
    }
   ],
   "source": [
    "for i in range(0,5,1):\n",
    "    print(i)"
   ]
  },
  {
   "cell_type": "raw",
   "id": "4a93b87c",
   "metadata": {},
   "source": [
    "WAP to have a list of even and odd numbers in between 1 to 20 with the help of range function."
   ]
  },
  {
   "cell_type": "code",
   "execution_count": 18,
   "id": "65113b67",
   "metadata": {},
   "outputs": [
    {
     "data": {
      "text/plain": [
       "[0, 2, 4, 6, 8, 10, 12, 14, 16, 18, 20]"
      ]
     },
     "execution_count": 18,
     "metadata": {},
     "output_type": "execute_result"
    }
   ],
   "source": [
    "[i for i in range(0,21,2)]"
   ]
  },
  {
   "cell_type": "code",
   "execution_count": 19,
   "id": "eaa42689",
   "metadata": {},
   "outputs": [
    {
     "data": {
      "text/plain": [
       "[1, 3, 5, 7, 9, 11, 13, 15, 17, 19]"
      ]
     },
     "execution_count": 19,
     "metadata": {},
     "output_type": "execute_result"
    }
   ],
   "source": [
    "[i for i in range(1,21,2)]"
   ]
  },
  {
   "cell_type": "code",
   "execution_count": 12,
   "id": "17207749",
   "metadata": {},
   "outputs": [
    {
     "data": {
      "text/plain": [
       "[3, 5, 7, 9, 11, 13, 15, 17, 19, 21, 23, 25, 27, 29, 31, 33]"
      ]
     },
     "execution_count": 12,
     "metadata": {},
     "output_type": "execute_result"
    }
   ],
   "source": [
    "[i for i in range(3,34,2)]"
   ]
  },
  {
   "cell_type": "code",
   "execution_count": 37,
   "id": "b22d830e",
   "metadata": {},
   "outputs": [],
   "source": [
    "a='i love my india'"
   ]
  },
  {
   "cell_type": "code",
   "execution_count": 38,
   "id": "5994b043",
   "metadata": {},
   "outputs": [
    {
     "data": {
      "text/plain": [
       "'i love my india'"
      ]
     },
     "execution_count": 38,
     "metadata": {},
     "output_type": "execute_result"
    }
   ],
   "source": [
    "a"
   ]
  },
  {
   "cell_type": "code",
   "execution_count": 10,
   "id": "105a8ea3",
   "metadata": {},
   "outputs": [
    {
     "name": "stdout",
     "output_type": "stream",
     "text": [
      "i love my india ram"
     ]
    }
   ],
   "source": [
    "print('i love my india ',end='ram')"
   ]
  },
  {
   "cell_type": "code",
   "execution_count": 32,
   "id": "9426fc96",
   "metadata": {},
   "outputs": [
    {
     "name": "stdout",
     "output_type": "stream",
     "text": [
      "i love my india "
     ]
    }
   ],
   "source": [
    "print('i love my india ',end=\"\")"
   ]
  },
  {
   "cell_type": "code",
   "execution_count": 35,
   "id": "9a99bfb9",
   "metadata": {},
   "outputs": [
    {
     "name": "stdout",
     "output_type": "stream",
     "text": [
      "[0]\n",
      "[0, 2]\n",
      "[0, 2, 4]\n",
      "[0, 2, 4, 6]\n",
      "[0, 2, 4, 6, 8]\n",
      "[0, 2, 4, 6, 8, 10]\n",
      "[0, 2, 4, 6, 8, 10, 12]\n",
      "[0, 2, 4, 6, 8, 10, 12, 14]\n",
      "[0, 2, 4, 6, 8, 10, 12, 14, 16]\n",
      "[0, 2, 4, 6, 8, 10, 12, 14, 16, 18]\n",
      "[0, 2, 4, 6, 8, 10, 12, 14, 16, 18, 20]\n"
     ]
    }
   ],
   "source": [
    "even_list=[]\n",
    "for i in range(0,21,2):\n",
    "    even_list.append(i)\n",
    "    print(even_list)"
   ]
  },
  {
   "cell_type": "code",
   "execution_count": 36,
   "id": "16717b62",
   "metadata": {},
   "outputs": [
    {
     "name": "stdout",
     "output_type": "stream",
     "text": [
      "[0, 2, 4, 6, 8, 10, 12, 14, 16, 18, 20]\n"
     ]
    }
   ],
   "source": [
    "even_list=[]\n",
    "for i in range(0,21,2):\n",
    "    even_list.append(i)\n",
    "print(even_list)"
   ]
  },
  {
   "cell_type": "code",
   "execution_count": 3,
   "id": "e6fa66fa",
   "metadata": {},
   "outputs": [
    {
     "name": "stdout",
     "output_type": "stream",
     "text": [
      "[1]\n",
      "[1, 3]\n",
      "[1, 3, 5]\n",
      "[1, 3, 5, 7]\n",
      "[1, 3, 5, 7, 9]\n",
      "[1, 3, 5, 7, 9, 11]\n",
      "[1, 3, 5, 7, 9, 11, 13]\n",
      "[1, 3, 5, 7, 9, 11, 13, 15]\n",
      "[1, 3, 5, 7, 9, 11, 13, 15, 17]\n",
      "[1, 3, 5, 7, 9, 11, 13, 15, 17, 19]\n"
     ]
    }
   ],
   "source": [
    "odd_list=[]\n",
    "for i in range(1,21,2):\n",
    "    odd_list.append(i)\n",
    "    print(odd_list)"
   ]
  },
  {
   "cell_type": "code",
   "execution_count": 5,
   "id": "9e7f510a",
   "metadata": {},
   "outputs": [
    {
     "name": "stdout",
     "output_type": "stream",
     "text": [
      "[1]\n",
      "[1, 3]\n",
      "[1, 3, 5]\n",
      "[1, 3, 5, 7]\n",
      "[1, 3, 5, 7, 9]\n",
      "[1, 3, 5, 7, 9, 11]\n",
      "[1, 3, 5, 7, 9, 11, 13]\n",
      "[1, 3, 5, 7, 9, 11, 13, 15]\n",
      "[1, 3, 5, 7, 9, 11, 13, 15, 17]\n",
      "[1, 3, 5, 7, 9, 11, 13, 15, 17, 19]\n"
     ]
    }
   ],
   "source": [
    "odd_list=[]\n",
    "for i in range(1,21,2):\n",
    "    odd_list.append(i)\n",
    "    print(odd_list)"
   ]
  },
  {
   "cell_type": "code",
   "execution_count": 4,
   "id": "492739dd",
   "metadata": {},
   "outputs": [
    {
     "name": "stdout",
     "output_type": "stream",
     "text": [
      "[1, 3, 5, 7, 9, 11, 13, 15, 17, 19]\n"
     ]
    }
   ],
   "source": [
    "list1=[1,2,3,4,5,6,7,8,9,10,11,12,13,14,15,16,17,18,19,20]\n",
    "odd_list=[]\n",
    "for i in list1:\n",
    "    if i%2==1:\n",
    "        odd_list.append(i)\n",
    "print(odd_list)"
   ]
  },
  {
   "cell_type": "code",
   "execution_count": 7,
   "id": "15259c6f",
   "metadata": {},
   "outputs": [
    {
     "name": "stdout",
     "output_type": "stream",
     "text": [
      "[1, 3, 5, 7, 9, 11, 13, 15, 17, 19]\n"
     ]
    }
   ],
   "source": [
    "list1=[1,2,3,4,5,6,7,8,9,10,11,12,13,14,15,16,17,18,19,20]\n",
    "odd_list=[]\n",
    "for i in list1:\n",
    "    if i%2==1:\n",
    "        odd_list.append(i)\n",
    "print(odd_list)"
   ]
  },
  {
   "cell_type": "code",
   "execution_count": 6,
   "id": "2fce551c",
   "metadata": {},
   "outputs": [
    {
     "name": "stdout",
     "output_type": "stream",
     "text": [
      "[1]\n",
      "[1]\n",
      "[1, 3]\n",
      "[1, 3]\n",
      "[1, 3, 5]\n",
      "[1, 3, 5]\n",
      "[1, 3, 5, 7]\n",
      "[1, 3, 5, 7]\n",
      "[1, 3, 5, 7, 9]\n",
      "[1, 3, 5, 7, 9]\n",
      "[1, 3, 5, 7, 9, 11]\n",
      "[1, 3, 5, 7, 9, 11]\n",
      "[1, 3, 5, 7, 9, 11, 13]\n",
      "[1, 3, 5, 7, 9, 11, 13]\n",
      "[1, 3, 5, 7, 9, 11, 13, 15]\n",
      "[1, 3, 5, 7, 9, 11, 13, 15]\n",
      "[1, 3, 5, 7, 9, 11, 13, 15, 17]\n",
      "[1, 3, 5, 7, 9, 11, 13, 15, 17]\n",
      "[1, 3, 5, 7, 9, 11, 13, 15, 17, 19]\n",
      "[1, 3, 5, 7, 9, 11, 13, 15, 17, 19]\n"
     ]
    }
   ],
   "source": [
    "list1=[1,2,3,4,5,6,7,8,9,10,11,12,13,14,15,16,17,18,19,20]\n",
    "odd_list=[]\n",
    "for i in list1:\n",
    "    if i%2==1:\n",
    "        odd_list.append(i)\n",
    "    print(odd_list)"
   ]
  },
  {
   "cell_type": "code",
   "execution_count": 7,
   "id": "4a998a57",
   "metadata": {},
   "outputs": [
    {
     "name": "stdout",
     "output_type": "stream",
     "text": [
      "[]\n",
      "[2]\n",
      "[2]\n",
      "[2, 4]\n",
      "[2, 4]\n",
      "[2, 4, 6]\n",
      "[2, 4, 6]\n",
      "[2, 4, 6, 8]\n",
      "[2, 4, 6, 8]\n",
      "[2, 4, 6, 8, 10]\n",
      "[2, 4, 6, 8, 10]\n",
      "[2, 4, 6, 8, 10, 12]\n",
      "[2, 4, 6, 8, 10, 12]\n",
      "[2, 4, 6, 8, 10, 12, 14]\n",
      "[2, 4, 6, 8, 10, 12, 14]\n",
      "[2, 4, 6, 8, 10, 12, 14, 16]\n",
      "[2, 4, 6, 8, 10, 12, 14, 16]\n",
      "[2, 4, 6, 8, 10, 12, 14, 16, 18]\n",
      "[2, 4, 6, 8, 10, 12, 14, 16, 18]\n",
      "[2, 4, 6, 8, 10, 12, 14, 16, 18, 20]\n"
     ]
    }
   ],
   "source": [
    "list1=[1,2,3,4,5,6,7,8,9,10,11,12,13,14,15,16,17,18,19,20]\n",
    "even_list=[]\n",
    "for i in list1:\n",
    "    if i%2==0:\n",
    "        even_list.append(i)\n",
    "    print(even_list)"
   ]
  },
  {
   "cell_type": "code",
   "execution_count": 8,
   "id": "d6c38f23",
   "metadata": {},
   "outputs": [
    {
     "name": "stdout",
     "output_type": "stream",
     "text": [
      "[2, 4, 6, 8, 10, 12, 14, 16, 18, 20]\n"
     ]
    }
   ],
   "source": [
    "list1=[1,2,3,4,5,6,7,8,9,10,11,12,13,14,15,16,17,18,19,20]\n",
    "even_list=[]\n",
    "for i in list1:\n",
    "    if i%2==0:\n",
    "        even_list.append(i)\n",
    "print(even_list)"
   ]
  },
  {
   "cell_type": "code",
   "execution_count": 1,
   "id": "9938809f",
   "metadata": {},
   "outputs": [
    {
     "name": "stdout",
     "output_type": "stream",
     "text": [
      "\n",
      "iteration number is 0\n",
      "[0]\n",
      "\n",
      "iteration number is 2\n",
      "[0, 2]\n",
      "\n",
      "iteration number is 4\n",
      "[0, 2, 4]\n",
      "\n",
      "iteration number is 6\n",
      "[0, 2, 4, 6]\n",
      "\n",
      "iteration number is 8\n",
      "[0, 2, 4, 6, 8]\n",
      "\n",
      "iteration number is 10\n",
      "[0, 2, 4, 6, 8, 10]\n",
      "\n",
      "iteration number is 12\n",
      "[0, 2, 4, 6, 8, 10, 12]\n",
      "\n",
      "iteration number is 14\n",
      "[0, 2, 4, 6, 8, 10, 12, 14]\n",
      "\n",
      "iteration number is 16\n",
      "[0, 2, 4, 6, 8, 10, 12, 14, 16]\n",
      "\n",
      "iteration number is 18\n",
      "[0, 2, 4, 6, 8, 10, 12, 14, 16, 18]\n",
      "\n",
      "iteration number is 20\n",
      "[0, 2, 4, 6, 8, 10, 12, 14, 16, 18, 20]\n"
     ]
    }
   ],
   "source": [
    "even_list=[]\n",
    "for i in range(0,21,2):\n",
    "    print()\n",
    "    print('iteration number is',i)\n",
    "    even_list.append(i)\n",
    "    print(even_list)"
   ]
  },
  {
   "cell_type": "code",
   "execution_count": 21,
   "id": "e84b81b9",
   "metadata": {},
   "outputs": [
    {
     "name": "stdout",
     "output_type": "stream",
     "text": [
      "even_list [2, 4, 6, 8, 10, 12, 14, 16, 18, 20]\n",
      "odd_list [1, 3, 5, 7, 9, 11, 13, 15, 17, 19]\n"
     ]
    }
   ],
   "source": [
    "list1=[1,2,3,4,5,6,7,8,9,10,11,12,13,14,15,16,17,18,19,20]\n",
    "odd_list=[]\n",
    "even_list=[]\n",
    "for i in list1:\n",
    "    if i%2==0:\n",
    "        even_list.append(i)\n",
    "    else:\n",
    "        odd_list.append(i)\n",
    "print('even_list',even_list)\n",
    "print('odd_list',odd_list)"
   ]
  },
  {
   "cell_type": "code",
   "execution_count": 2,
   "id": "ed85cc69",
   "metadata": {},
   "outputs": [
    {
     "name": "stdout",
     "output_type": "stream",
     "text": [
      "even_list [0, 2, 4, 6, 8, 10, 12, 14, 16, 18, 20]\n",
      "odd_list [1, 3, 5, 7, 9, 11, 13, 15, 17, 19]\n"
     ]
    }
   ],
   "source": [
    "even_list=[]\n",
    "odd_list=[]\n",
    "for i in range(0,21):\n",
    "    if i%2==1:\n",
    "        odd_list.append(i)\n",
    "    else:\n",
    "        even_list.append(i)\n",
    "print('even_list',even_list)\n",
    "print('odd_list',odd_list)"
   ]
  },
  {
   "cell_type": "code",
   "execution_count": 3,
   "id": "6e71e969",
   "metadata": {},
   "outputs": [
    {
     "name": "stdout",
     "output_type": "stream",
     "text": [
      "enter your number 24\n",
      "even_list [0, 2, 4, 6, 8, 10, 12, 14, 16, 18, 20, 22]\n",
      "odd_list [1, 3, 5, 7, 9, 11, 13, 15, 17, 19, 21, 23]\n"
     ]
    }
   ],
   "source": [
    "a=int(input('enter your number '))\n",
    "even_list=[]\n",
    "odd_list=[]\n",
    "for i in range(0,a):\n",
    "    if i%2==0:\n",
    "        even_list.append(i)\n",
    "    else:\n",
    "        odd_list.append(i)\n",
    "print('even_list',even_list)\n",
    "print('odd_list',odd_list)"
   ]
  },
  {
   "cell_type": "code",
   "execution_count": 22,
   "id": "bec37c9e",
   "metadata": {},
   "outputs": [
    {
     "name": "stdout",
     "output_type": "stream",
     "text": [
      "enter your number24\n"
     ]
    },
    {
     "ename": "TypeError",
     "evalue": "'int' object is not iterable",
     "output_type": "error",
     "traceback": [
      "\u001b[1;31m---------------------------------------------------------------------------\u001b[0m",
      "\u001b[1;31mTypeError\u001b[0m                                 Traceback (most recent call last)",
      "Input \u001b[1;32mIn [22]\u001b[0m, in \u001b[0;36m<cell line: 4>\u001b[1;34m()\u001b[0m\n\u001b[0;32m      2\u001b[0m even_list\u001b[38;5;241m=\u001b[39m[]\n\u001b[0;32m      3\u001b[0m odd_list\u001b[38;5;241m=\u001b[39m[]\n\u001b[1;32m----> 4\u001b[0m \u001b[38;5;28;01mfor\u001b[39;00m i \u001b[38;5;129;01min\u001b[39;00m a:\n\u001b[0;32m      5\u001b[0m     \u001b[38;5;28;01mif\u001b[39;00m i\u001b[38;5;241m%\u001b[39m\u001b[38;5;241m2\u001b[39m\u001b[38;5;241m==\u001b[39m\u001b[38;5;241m0\u001b[39m:\n\u001b[0;32m      6\u001b[0m         even_list\u001b[38;5;241m.\u001b[39mappend(i)\n",
      "\u001b[1;31mTypeError\u001b[0m: 'int' object is not iterable"
     ]
    }
   ],
   "source": [
    "a=int(input('enter your number'))\n",
    "even_list=[]\n",
    "odd_list=[]\n",
    "for i in a:\n",
    "    if i%2==0:\n",
    "        even_list.append(i)\n",
    "    else:\n",
    "        odd_list.append(i)\n",
    "print('even_list',even_list)\n",
    "print('odd_list',odd_list)"
   ]
  },
  {
   "cell_type": "code",
   "execution_count": 22,
   "id": "02d595de",
   "metadata": {},
   "outputs": [
    {
     "name": "stdout",
     "output_type": "stream",
     "text": [
      "[1, 3, 5, 7, 9, 11, 13, 15, 17, 19]\n"
     ]
    }
   ],
   "source": [
    "odd =[]\n",
    "for i in range(1,20,2):\n",
    "    odd.append(i)\n",
    "print(odd)"
   ]
  },
  {
   "cell_type": "code",
   "execution_count": 23,
   "id": "10cd1693",
   "metadata": {},
   "outputs": [
    {
     "name": "stdout",
     "output_type": "stream",
     "text": [
      "0\n",
      "1\n",
      "2\n",
      "3\n",
      "4\n"
     ]
    }
   ],
   "source": [
    "for i in range(5):# 0,1,2,3,4\n",
    "    print(i)"
   ]
  },
  {
   "cell_type": "code",
   "execution_count": 24,
   "id": "b70ba085",
   "metadata": {},
   "outputs": [
    {
     "name": "stdout",
     "output_type": "stream",
     "text": [
      "Hello\n",
      "Hello\n",
      "Hello\n",
      "Hello\n",
      "Hello\n"
     ]
    }
   ],
   "source": [
    "for i in range(5):#0,1,2,3,4\n",
    "    print('Hello')"
   ]
  },
  {
   "cell_type": "code",
   "execution_count": 25,
   "id": "e1e43008",
   "metadata": {},
   "outputs": [
    {
     "name": "stdout",
     "output_type": "stream",
     "text": [
      "We are in for loop\n",
      "We are in for loop\n",
      "We are in for loop\n",
      "We are in for loop\n",
      "We are in for loop\n"
     ]
    }
   ],
   "source": [
    "for i in range(5):#0,1,2,3,4\n",
    "    print('We are in for loop')"
   ]
  },
  {
   "cell_type": "code",
   "execution_count": 26,
   "id": "c5d9a517",
   "metadata": {},
   "outputs": [
    {
     "name": "stdout",
     "output_type": "stream",
     "text": [
      "We are learning Python\n",
      "We are in for loop\n",
      "We are learning Python\n",
      "We are in for loop\n",
      "We are learning Python\n",
      "We are in for loop\n",
      "We are learning Python\n",
      "We are in for loop\n",
      "We are learning Python\n",
      "We are in for loop\n"
     ]
    }
   ],
   "source": [
    "for i in range(5):# 0,1,2,3,4\n",
    "    print('We are learning Python')\n",
    "    print('We are in for loop')"
   ]
  },
  {
   "cell_type": "code",
   "execution_count": 27,
   "id": "fafafbd8",
   "metadata": {},
   "outputs": [
    {
     "name": "stdout",
     "output_type": "stream",
     "text": [
      "We are learning Python\n",
      "We are in for loop\n",
      "\n",
      "We are learning Python\n",
      "We are in for loop\n",
      "\n",
      "We are learning Python\n",
      "We are in for loop\n",
      "\n",
      "We are learning Python\n",
      "We are in for loop\n",
      "\n",
      "We are learning Python\n",
      "We are in for loop\n",
      "\n"
     ]
    }
   ],
   "source": [
    "for i in range(5):# 0,1,2,3,4\n",
    "    print('We are learning Python')\n",
    "    print('We are in for loop')\n",
    "    print()"
   ]
  },
  {
   "cell_type": "code",
   "execution_count": 5,
   "id": "22e0ae80",
   "metadata": {},
   "outputs": [
    {
     "name": "stdout",
     "output_type": "stream",
     "text": [
      "Iteration no. is 0\n",
      "We are learning Python\n",
      "We are in for loop\n",
      "\n",
      "Iteration no. is 1\n",
      "We are learning Python\n",
      "We are in for loop\n",
      "\n",
      "Iteration no. is 2\n",
      "We are learning Python\n",
      "We are in for loop\n",
      "\n",
      "Iteration no. is 3\n",
      "We are learning Python\n",
      "We are in for loop\n",
      "\n",
      "Iteration no. is 4\n",
      "We are learning Python\n",
      "We are in for loop\n",
      "\n"
     ]
    }
   ],
   "source": [
    "for i in range(5):# 0,1,2,3,4\n",
    "    print(f'Iteration no. is {i}')\n",
    "    print('We are learning Python')\n",
    "    print('We are in for loop')\n",
    "    print()"
   ]
  },
  {
   "cell_type": "code",
   "execution_count": 6,
   "id": "59c0d240",
   "metadata": {},
   "outputs": [
    {
     "name": "stdout",
     "output_type": "stream",
     "text": [
      "Iteration no. is 1\n",
      "We are learning Python\n",
      "We are in for loop\n",
      "\n",
      "Iteration no. is 2\n",
      "We are learning Python\n",
      "We are in for loop\n",
      "\n",
      "Iteration no. is 3\n",
      "We are learning Python\n",
      "We are in for loop\n",
      "\n",
      "Iteration no. is 4\n",
      "We are learning Python\n",
      "We are in for loop\n",
      "\n",
      "Iteration no. is 5\n",
      "We are learning Python\n",
      "We are in for loop\n",
      "\n"
     ]
    }
   ],
   "source": [
    "for i in range(5):# 0,1,2,3,4\n",
    "    print(f'Iteration no. is {i+1}')\n",
    "    print('We are learning Python')\n",
    "    print('We are in for loop')\n",
    "    print()"
   ]
  },
  {
   "cell_type": "code",
   "execution_count": 1,
   "id": "064aa938",
   "metadata": {},
   "outputs": [],
   "source": [
    "str2 = 'Data'"
   ]
  },
  {
   "cell_type": "code",
   "execution_count": 25,
   "id": "d867cd00",
   "metadata": {},
   "outputs": [
    {
     "name": "stdout",
     "output_type": "stream",
     "text": [
      "D 0\n",
      "a 1\n",
      "t 2\n",
      "a 3\n"
     ]
    }
   ],
   "source": [
    "index = 0\n",
    "for i in str2:\n",
    "    print(i, index)\n",
    "    index = index + 1# index+=1"
   ]
  },
  {
   "cell_type": "code",
   "execution_count": 26,
   "id": "2c014de2",
   "metadata": {},
   "outputs": [
    {
     "name": "stdout",
     "output_type": "stream",
     "text": [
      "2 D\n",
      "3 a\n",
      "4 t\n",
      "5 a\n"
     ]
    }
   ],
   "source": [
    "index=2\n",
    "for i in str2:\n",
    "    print(index,i)\n",
    "    index=index+1"
   ]
  },
  {
   "cell_type": "code",
   "execution_count": 27,
   "id": "3adc10dd",
   "metadata": {},
   "outputs": [
    {
     "name": "stdout",
     "output_type": "stream",
     "text": [
      "3 D\n",
      "4 a\n",
      "5 t\n",
      "6 a\n"
     ]
    }
   ],
   "source": [
    "index=2\n",
    "for i in str2:\n",
    "    index+=1\n",
    "    print(index,i)\n",
    "    "
   ]
  },
  {
   "cell_type": "code",
   "execution_count": 28,
   "id": "c70d0877",
   "metadata": {},
   "outputs": [
    {
     "name": "stdout",
     "output_type": "stream",
     "text": [
      "2 D\n",
      "3 a\n",
      "4 t\n",
      "5 a\n"
     ]
    }
   ],
   "source": [
    "index=2\n",
    "for i in str2:\n",
    "    print(index,i)\n",
    "    index+=1"
   ]
  },
  {
   "cell_type": "code",
   "execution_count": 34,
   "id": "50b552ef",
   "metadata": {},
   "outputs": [
    {
     "name": "stdout",
     "output_type": "stream",
     "text": [
      "3 D\n",
      "3 a\n",
      "3 t\n",
      "3 a\n"
     ]
    }
   ],
   "source": [
    "index=2\n",
    "index+=1\n",
    "for i in str2:\n",
    "    print(index,i)\n",
    "    "
   ]
  },
  {
   "cell_type": "code",
   "execution_count": 35,
   "id": "ef2cac80",
   "metadata": {},
   "outputs": [
    {
     "name": "stdout",
     "output_type": "stream",
     "text": [
      "3 D\n",
      "3 a\n",
      "3 t\n",
      "3 a\n"
     ]
    }
   ],
   "source": [
    "index=2\n",
    "index=index+1\n",
    "for i in str2:\n",
    "    print(index,i)\n",
    "    "
   ]
  },
  {
   "cell_type": "code",
   "execution_count": 36,
   "id": "2827c50a",
   "metadata": {},
   "outputs": [
    {
     "name": "stdout",
     "output_type": "stream",
     "text": [
      "D\n",
      "a\n",
      "t\n",
      "a\n"
     ]
    }
   ],
   "source": [
    "for index, element in enumerate(str2):\n",
    "    print(element)"
   ]
  },
  {
   "cell_type": "code",
   "execution_count": 37,
   "id": "04a52840",
   "metadata": {},
   "outputs": [
    {
     "name": "stdout",
     "output_type": "stream",
     "text": [
      "0\n",
      "1\n",
      "2\n",
      "3\n"
     ]
    }
   ],
   "source": [
    "for index,element in enumerate(str2):\n",
    "    print(index)"
   ]
  },
  {
   "cell_type": "code",
   "execution_count": 39,
   "id": "ab030897",
   "metadata": {},
   "outputs": [
    {
     "name": "stdout",
     "output_type": "stream",
     "text": [
      "0 D\n",
      "1 a\n",
      "2 t\n",
      "3 a\n"
     ]
    }
   ],
   "source": [
    "for index,element in enumerate(str2):\n",
    "    print(index,element)"
   ]
  },
  {
   "cell_type": "code",
   "execution_count": 2,
   "id": "1fe0d873",
   "metadata": {},
   "outputs": [
    {
     "name": "stdout",
     "output_type": "stream",
     "text": [
      "D 0\n",
      "a 1\n",
      "t 2\n",
      "a 3\n"
     ]
    }
   ],
   "source": [
    "for element,index in enumerate(str2):\n",
    "    print(index,element)"
   ]
  },
  {
   "cell_type": "code",
   "execution_count": 41,
   "id": "501d6999",
   "metadata": {},
   "outputs": [
    {
     "ename": "SyntaxError",
     "evalue": "invalid syntax (386035680.py, line 2)",
     "output_type": "error",
     "traceback": [
      "\u001b[1;36m  Input \u001b[1;32mIn [41]\u001b[1;36m\u001b[0m\n\u001b[1;33m    print(index,':' element)\u001b[0m\n\u001b[1;37m                    ^\u001b[0m\n\u001b[1;31mSyntaxError\u001b[0m\u001b[1;31m:\u001b[0m invalid syntax\n"
     ]
    }
   ],
   "source": [
    "for index, element in enumerate(str2):\n",
    "    print(index,':' element)"
   ]
  },
  {
   "cell_type": "code",
   "execution_count": 51,
   "id": "6df7c1ad",
   "metadata": {},
   "outputs": [
    {
     "name": "stdout",
     "output_type": "stream",
     "text": [
      "D : 0\n",
      "a : 1\n",
      "t : 2\n",
      "a : 3\n"
     ]
    }
   ],
   "source": [
    "for element, index in enumerate(str2):\n",
    "    print(index,':', element)"
   ]
  },
  {
   "cell_type": "code",
   "execution_count": 52,
   "id": "32409d67",
   "metadata": {},
   "outputs": [
    {
     "name": "stdout",
     "output_type": "stream",
     "text": [
      "D : 0\n",
      "a : 1\n",
      "t : 2\n",
      "a : 3\n"
     ]
    }
   ],
   "source": [
    "for element, index in enumerate(str2):\n",
    "    print(index,':', element)"
   ]
  },
  {
   "cell_type": "code",
   "execution_count": 53,
   "id": "5d257f92",
   "metadata": {},
   "outputs": [
    {
     "name": "stdout",
     "output_type": "stream",
     "text": [
      "D : 0\n",
      "a : 1\n",
      "t : 2\n",
      "a : 3\n"
     ]
    }
   ],
   "source": [
    "for element,index in enumerate(str2):\n",
    "    print(index,':',element)"
   ]
  },
  {
   "cell_type": "raw",
   "id": "1428bfa9",
   "metadata": {},
   "source": [
    "list2 = [1,2,1,3,1,4,3,4]\n",
    "O/P   >> [1,2,3,4]"
   ]
  },
  {
   "cell_type": "code",
   "execution_count": 54,
   "id": "92867d3f",
   "metadata": {},
   "outputs": [
    {
     "name": "stdout",
     "output_type": "stream",
     "text": [
      "[1]\n",
      "[1, 2]\n",
      "[1, 2]\n",
      "[1, 2, 3]\n",
      "[1, 2, 3]\n",
      "[1, 2, 3, 4]\n",
      "[1, 2, 3, 4]\n",
      "[1, 2, 3, 4]\n"
     ]
    }
   ],
   "source": [
    "list2 = [1,2,1,3,1,4,3,4]\n",
    "without_duplicates = []\n",
    "for element in list2:\n",
    "    if element not in without_duplicates:\n",
    "        without_duplicates.append(element)\n",
    "    print(without_duplicates)\n"
   ]
  },
  {
   "cell_type": "code",
   "execution_count": 29,
   "id": "f43609f3",
   "metadata": {},
   "outputs": [
    {
     "name": "stdout",
     "output_type": "stream",
     "text": [
      "[1, 2, 3, 4]\n"
     ]
    }
   ],
   "source": [
    "list2 = [1,2,1,3,1,4,3,4]\n",
    "without_duplicates = []\n",
    "for element in list2:\n",
    "    if element not in without_duplicates:\n",
    "        without_duplicates.append(element)\n",
    "print(without_duplicates)\n"
   ]
  },
  {
   "cell_type": "code",
   "execution_count": 5,
   "id": "2be843cf",
   "metadata": {},
   "outputs": [
    {
     "name": "stdout",
     "output_type": "stream",
     "text": [
      "without_duplicates [1, 2, 3, 4]\n",
      "duplicates [1, 1, 3, 4]\n"
     ]
    }
   ],
   "source": [
    "list2 = [1,2,1,3,1,4,3,4]\n",
    "without_duplicates = []\n",
    "duplicates = []\n",
    "for element in list2:\n",
    "    if element not in without_duplicates:\n",
    "        without_duplicates.append(element)\n",
    "    else:\n",
    "        duplicates.append(element)\n",
    "print('without_duplicates',without_duplicates)\n",
    "print('duplicates',duplicates)"
   ]
  },
  {
   "cell_type": "code",
   "execution_count": 32,
   "id": "ff2c30b1",
   "metadata": {},
   "outputs": [
    {
     "name": "stdout",
     "output_type": "stream",
     "text": [
      "Unique is: [1, 2, 3, 4]\n",
      "Unique is: [1, 1, 3, 4]\n"
     ]
    }
   ],
   "source": [
    "list2 = [1,2,1,3,1,4,3,4]\n",
    "\n",
    "dup=[]# the elements which are getting repeat in our list\n",
    "new=[]\n",
    "for i in list2:\n",
    "    if i not in new:\n",
    "        new.append(i)\n",
    "    else:\n",
    "        dup.append(i)\n",
    "print(\"Unique is:\",new)\n",
    "print(\"Unique is:\",dup)"
   ]
  },
  {
   "cell_type": "markdown",
   "id": "d63cab62",
   "metadata": {},
   "source": [
    "## loop control statement"
   ]
  },
  {
   "cell_type": "raw",
   "id": "f4908704",
   "metadata": {},
   "source": [
    "1. break\n",
    "2. continue\n",
    "3. pass"
   ]
  },
  {
   "cell_type": "code",
   "execution_count": 1,
   "id": "76a47c69",
   "metadata": {},
   "outputs": [
    {
     "name": "stdout",
     "output_type": "stream",
     "text": [
      "2.5\n",
      "2\n",
      "1\n",
      "5.3\n",
      "Python\n",
      "6\n",
      "Velocity\n"
     ]
    }
   ],
   "source": [
    "list2 = [2.5,2,1,5.3,'Python',6, 'Velocity']\n",
    "for i in list2:\n",
    "    print(i)"
   ]
  },
  {
   "cell_type": "markdown",
   "id": "01838fb4",
   "metadata": {},
   "source": [
    "### 1.break"
   ]
  },
  {
   "cell_type": "raw",
   "id": "be04bcc8",
   "metadata": {},
   "source": [
    "It breaks a loop wherever we make use of it.\n",
    "Simply used to break the loop."
   ]
  },
  {
   "cell_type": "code",
   "execution_count": 19,
   "id": "ca6b4fb5",
   "metadata": {},
   "outputs": [
    {
     "name": "stdout",
     "output_type": "stream",
     "text": [
      "[2.5, 2, 1, 5.3, 'Python', 6, 'Velocity']\n"
     ]
    }
   ],
   "source": [
    "print(list2)"
   ]
  },
  {
   "cell_type": "code",
   "execution_count": 32,
   "id": "ac0a12b7",
   "metadata": {},
   "outputs": [
    {
     "name": "stdout",
     "output_type": "stream",
     "text": [
      "2.5\n",
      "2\n",
      "1\n",
      "5.3\n"
     ]
    }
   ],
   "source": [
    "for i in list2:\n",
    "    print(i) # print before has taken so its showing 5.3 beacuse first it is printing and then its compare and\n",
    "                                         #at certain point condition matches its breaking the loop at that printed value\n",
    "    if i == 5.3:\n",
    "        break"
   ]
  },
  {
   "cell_type": "code",
   "execution_count": 85,
   "id": "e9fcd282",
   "metadata": {},
   "outputs": [
    {
     "name": "stdout",
     "output_type": "stream",
     "text": [
      "2.5\n",
      "2\n",
      "1\n"
     ]
    }
   ],
   "source": [
    "for i in list2:\n",
    "    if i==5.3:\n",
    "        break\n",
    "    print(i) # print after has taken so its not showing 5.3 beacuse first it is compare and then printing\n",
    "                                         #at certain point condition matches its breaking the loop at that printed value"
   ]
  },
  {
   "cell_type": "code",
   "execution_count": 7,
   "id": "f8e06d67",
   "metadata": {},
   "outputs": [
    {
     "name": "stdout",
     "output_type": "stream",
     "text": [
      "5.3\n"
     ]
    }
   ],
   "source": [
    "for i in list2:\n",
    "    if i==5.3:\n",
    "        break\n",
    "print(i)"
   ]
  },
  {
   "cell_type": "code",
   "execution_count": 10,
   "id": "dc9a5072",
   "metadata": {},
   "outputs": [
    {
     "name": "stdout",
     "output_type": "stream",
     "text": [
      "2.5\n",
      "2\n",
      "1\n",
      "5.3\n",
      "Python\n"
     ]
    }
   ],
   "source": [
    "for i in list2:\n",
    "    print(i)\n",
    "    if i == 'Python':\n",
    "        break"
   ]
  },
  {
   "cell_type": "code",
   "execution_count": 24,
   "id": "35735a19",
   "metadata": {},
   "outputs": [
    {
     "name": "stdout",
     "output_type": "stream",
     "text": [
      "2.5\n",
      "2\n",
      "1\n",
      "5.3\n"
     ]
    }
   ],
   "source": [
    "for i in list2:\n",
    "    if i=='Python':\n",
    "        break\n",
    "    print(i)"
   ]
  },
  {
   "cell_type": "code",
   "execution_count": 21,
   "id": "123ab7a7",
   "metadata": {},
   "outputs": [
    {
     "name": "stdout",
     "output_type": "stream",
     "text": [
      "2.5\n",
      "2\n",
      "1\n",
      "5.3\n",
      "Python\n",
      "6\n",
      "Velocity\n"
     ]
    }
   ],
   "source": [
    "for i in list2:\n",
    "    print(i)\n",
    "    if i=='python':# case sensitive small p used\n",
    "        break\n",
    "    "
   ]
  },
  {
   "cell_type": "code",
   "execution_count": 27,
   "id": "df8ccaa9",
   "metadata": {},
   "outputs": [
    {
     "name": "stdout",
     "output_type": "stream",
     "text": [
      "0\n"
     ]
    }
   ],
   "source": [
    "for i in range(0,7):\n",
    "    print(i)\n",
    "    break"
   ]
  },
  {
   "cell_type": "code",
   "execution_count": 8,
   "id": "db43e693",
   "metadata": {},
   "outputs": [],
   "source": [
    "for i in range(0,7):\n",
    "    break\n",
    "    print(i)"
   ]
  },
  {
   "cell_type": "code",
   "execution_count": 9,
   "id": "3ba3109b",
   "metadata": {},
   "outputs": [
    {
     "name": "stdout",
     "output_type": "stream",
     "text": [
      "0\n"
     ]
    }
   ],
   "source": [
    "for i in range(0,7):\n",
    "    print(i)\n",
    "    break"
   ]
  },
  {
   "cell_type": "code",
   "execution_count": 6,
   "id": "fcf8df4d",
   "metadata": {},
   "outputs": [],
   "source": [
    "list2 = [2.5,2,1,5.3,'Python',6, 'Velocity']"
   ]
  },
  {
   "cell_type": "code",
   "execution_count": 7,
   "id": "fa81627d",
   "metadata": {},
   "outputs": [
    {
     "name": "stdout",
     "output_type": "stream",
     "text": [
      "[2.5, 2, 1, 5.3, 'Python', 6, 'Velocity', 1, 1, 1, 1, 1, 1, 1]\n"
     ]
    }
   ],
   "source": [
    "for i in range(len(list2)):# 0,1,2,3,4,5,6\n",
    "    list2.append(1)\n",
    "print(list2)\n",
    "\n",
    "# [2.5, 2, 1, 5.3, 'Python', 6, 'Velocity']"
   ]
  },
  {
   "cell_type": "code",
   "execution_count": 19,
   "id": "3c1a8e67",
   "metadata": {},
   "outputs": [
    {
     "name": "stdout",
     "output_type": "stream",
     "text": [
      "[2.5, 2, 1, 5.3, 'Python', 6, 'Velocity', 1]\n",
      "[2.5, 2, 1, 5.3, 'Python', 6, 'Velocity', 1, 1]\n",
      "[2.5, 2, 1, 5.3, 'Python', 6, 'Velocity', 1, 1, 1]\n",
      "[2.5, 2, 1, 5.3, 'Python', 6, 'Velocity', 1, 1, 1, 1]\n",
      "[2.5, 2, 1, 5.3, 'Python', 6, 'Velocity', 1, 1, 1, 1, 1]\n",
      "[2.5, 2, 1, 5.3, 'Python', 6, 'Velocity', 1, 1, 1, 1, 1, 1]\n",
      "[2.5, 2, 1, 5.3, 'Python', 6, 'Velocity', 1, 1, 1, 1, 1, 1, 1]\n"
     ]
    }
   ],
   "source": [
    "for i in range(len(list2)):\n",
    "    list2.append(1)\n",
    "    print(list2)"
   ]
  },
  {
   "cell_type": "code",
   "execution_count": 17,
   "id": "74b03abf",
   "metadata": {},
   "outputs": [
    {
     "name": "stdout",
     "output_type": "stream",
     "text": [
      "[2.5, 2, 1, 5.3, 'Python', 6, 'Velocity']\n",
      "[2.5, 2, 1, 5.3, 'Python', 6, 'Velocity', 1]\n",
      "[2.5, 2, 1, 5.3, 'Python', 6, 'Velocity', 1, 1]\n",
      "[2.5, 2, 1, 5.3, 'Python', 6, 'Velocity', 1, 1, 1]\n",
      "[2.5, 2, 1, 5.3, 'Python', 6, 'Velocity', 1, 1, 1, 1]\n",
      "[2.5, 2, 1, 5.3, 'Python', 6, 'Velocity', 1, 1, 1, 1, 1]\n",
      "[2.5, 2, 1, 5.3, 'Python', 6, 'Velocity', 1, 1, 1, 1, 1, 1]\n"
     ]
    }
   ],
   "source": [
    "for i in range(len(list2)):\n",
    "    print(list2)\n",
    "    list2.append(1)"
   ]
  },
  {
   "cell_type": "code",
   "execution_count": 10,
   "id": "95977395",
   "metadata": {},
   "outputs": [],
   "source": [
    "list2 = [2.5,2,1,5.3,'Python',6, 'Velocity']"
   ]
  },
  {
   "cell_type": "code",
   "execution_count": 34,
   "id": "fed3b379",
   "metadata": {},
   "outputs": [
    {
     "name": "stdout",
     "output_type": "stream",
     "text": [
      "[1, 2, 1, 3, 1, 4, 3, 4]\n",
      "[1, 2, 1, 3, 1, 4, 3, 4]\n",
      "[1, 2, 1, 3, 1, 4, 3, 4]\n",
      "[1, 2, 1, 3, 1, 4, 3, 4]\n",
      "[1, 2, 1, 3, 1, 4, 3, 4]\n",
      "[1, 2, 1, 3, 1, 4, 3, 4]\n",
      "[1, 2, 1, 3, 1, 4, 3, 4]\n",
      "[1, 2, 1, 3, 1, 4, 3, 4]\n"
     ]
    }
   ],
   "source": [
    "for i in range(len(list2)):\n",
    "    print(list2)\n",
    "list2.append(1)"
   ]
  },
  {
   "cell_type": "markdown",
   "id": "a18d6867",
   "metadata": {},
   "source": [
    "### 2.continue"
   ]
  },
  {
   "cell_type": "raw",
   "id": "2cbf47cf",
   "metadata": {},
   "source": [
    "It is used to stop/skip only the current iteration and again continue with the next iteration."
   ]
  },
  {
   "cell_type": "code",
   "execution_count": 27,
   "id": "3eb4bf1c",
   "metadata": {},
   "outputs": [],
   "source": [
    "list2 = [2.5,2,1,5.3,'Python',6, 'Velocity']"
   ]
  },
  {
   "cell_type": "code",
   "execution_count": 30,
   "id": "66d6c075",
   "metadata": {},
   "outputs": [
    {
     "name": "stdout",
     "output_type": "stream",
     "text": [
      "2.5\n",
      "2\n",
      "1\n",
      "Python\n",
      "6\n",
      "Velocity\n"
     ]
    }
   ],
   "source": [
    "for i in list2:\n",
    "    if i==5.3:\n",
    "        continue\n",
    "    print(i)"
   ]
  },
  {
   "cell_type": "code",
   "execution_count": 31,
   "id": "756acb46",
   "metadata": {},
   "outputs": [
    {
     "name": "stdout",
     "output_type": "stream",
     "text": [
      "Velocity\n"
     ]
    }
   ],
   "source": [
    "for i in list2:\n",
    "    if i==5.3:\n",
    "        continue\n",
    "print(i)"
   ]
  },
  {
   "cell_type": "code",
   "execution_count": 34,
   "id": "3b0197d6",
   "metadata": {},
   "outputs": [
    {
     "name": "stdout",
     "output_type": "stream",
     "text": [
      "2.5\n",
      "2\n",
      "1\n",
      "5.3\n",
      "Python\n",
      "6\n",
      "Velocity\n"
     ]
    }
   ],
   "source": [
    "for i in list2:\n",
    "    print(i)\n",
    "    if i==5.3:\n",
    "        continue"
   ]
  },
  {
   "cell_type": "code",
   "execution_count": 36,
   "id": "efb78b94",
   "metadata": {},
   "outputs": [
    {
     "name": "stdout",
     "output_type": "stream",
     "text": [
      "0\n",
      "1\n",
      "2\n",
      "4\n"
     ]
    }
   ],
   "source": [
    "for i in range(5):\n",
    "    if i==3:\n",
    "        continue\n",
    "    print(i)"
   ]
  },
  {
   "cell_type": "code",
   "execution_count": 37,
   "id": "5e345a52",
   "metadata": {},
   "outputs": [
    {
     "name": "stdout",
     "output_type": "stream",
     "text": [
      "0\n",
      "1\n",
      "2\n",
      "3\n",
      "4\n"
     ]
    }
   ],
   "source": [
    "for i in range(5):\n",
    "    print(i)\n",
    "    if i==3:\n",
    "        continue\n",
    "    "
   ]
  },
  {
   "cell_type": "code",
   "execution_count": 38,
   "id": "fa9dd275",
   "metadata": {},
   "outputs": [
    {
     "name": "stdout",
     "output_type": "stream",
     "text": [
      "0\n",
      "1\n",
      "2\n",
      "yes i =3 is not printing\n",
      "4\n"
     ]
    }
   ],
   "source": [
    "for i in range(5):\n",
    "    if i==3:\n",
    "        print(F'yes i ={i} is not printing')\n",
    "        continue\n",
    "    print(i)"
   ]
  },
  {
   "cell_type": "code",
   "execution_count": 45,
   "id": "293f1586",
   "metadata": {},
   "outputs": [
    {
     "name": "stdout",
     "output_type": "stream",
     "text": [
      "0 1 2 yes i =3 is not printing\n",
      "4 "
     ]
    }
   ],
   "source": [
    "for i in range(5):\n",
    "    if i==3:\n",
    "        print(F'yes i ={i} is not printing')\n",
    "        continue\n",
    "    print(i,end=' ')"
   ]
  },
  {
   "cell_type": "code",
   "execution_count": 41,
   "id": "173a39ce",
   "metadata": {},
   "outputs": [
    {
     "name": "stdout",
     "output_type": "stream",
     "text": [
      "yes i iscompletely divisible my 2,or 5\n",
      "1\n",
      "yes i iscompletely divisible my 2,or 5\n",
      "3\n",
      "yes i iscompletely divisible my 2,or 5\n",
      "yes i iscompletely divisible my 2,or 5\n",
      "yes i iscompletely divisible my 2,or 5\n",
      "7\n",
      "yes i iscompletely divisible my 2,or 5\n",
      "9\n",
      "yes i iscompletely divisible my 2,or 5\n",
      "11\n",
      "yes i iscompletely divisible my 2,or 5\n",
      "13\n",
      "yes i iscompletely divisible my 2,or 5\n",
      "yes i iscompletely divisible my 2,or 5\n",
      "yes i iscompletely divisible my 2,or 5\n",
      "17\n",
      "yes i iscompletely divisible my 2,or 5\n",
      "19\n",
      "yes i iscompletely divisible my 2,or 5\n",
      "21\n",
      "yes i iscompletely divisible my 2,or 5\n",
      "23\n",
      "yes i iscompletely divisible my 2,or 5\n"
     ]
    }
   ],
   "source": [
    "for i in range(25):\n",
    "    if i%2==0 or i%5==0:\n",
    "        print(f'yes i iscompletely divisible my {2},or {5}')\n",
    "        continue\n",
    "    print(i)"
   ]
  },
  {
   "cell_type": "code",
   "execution_count": 42,
   "id": "71673b6d",
   "metadata": {},
   "outputs": [
    {
     "name": "stdout",
     "output_type": "stream",
     "text": [
      "yes i iscompletely divisible my 2,or 5\n",
      "1\n",
      "yes i iscompletely divisible my 2,or 5\n",
      "3\n",
      "yes i iscompletely divisible my 2,or 5\n",
      "yes i iscompletely divisible my 2,or 5\n",
      "yes i iscompletely divisible my 2,or 5\n",
      "7\n",
      "yes i iscompletely divisible my 2,or 5\n",
      "9\n",
      "yes i iscompletely divisible my 2,or 5\n",
      "11\n",
      "yes i iscompletely divisible my 2,or 5\n",
      "13\n",
      "yes i iscompletely divisible my 2,or 5\n",
      "yes i iscompletely divisible my 2,or 5\n",
      "yes i iscompletely divisible my 2,or 5\n",
      "17\n",
      "yes i iscompletely divisible my 2,or 5\n",
      "19\n",
      "yes i iscompletely divisible my 2,or 5\n",
      "21\n",
      "yes i iscompletely divisible my 2,or 5\n",
      "23\n",
      "yes i iscompletely divisible my 2,or 5\n",
      "yes i iscompletely divisible my 2,or 5\n"
     ]
    }
   ],
   "source": [
    "for i in range(0,26):\n",
    "    if i%2==0 or i%5==0:\n",
    "        print(f'yes i iscompletely divisible my {2},or {5}')\n",
    "        continue\n",
    "    print(i)"
   ]
  },
  {
   "cell_type": "code",
   "execution_count": 43,
   "id": "a6087b53",
   "metadata": {},
   "outputs": [
    {
     "name": "stdout",
     "output_type": "stream",
     "text": [
      "1\n",
      "yes i iscompletely divisible my 2,or 5\n",
      "3\n",
      "yes i iscompletely divisible my 2,or 5\n",
      "yes i iscompletely divisible my 2,or 5\n",
      "yes i iscompletely divisible my 2,or 5\n",
      "7\n",
      "yes i iscompletely divisible my 2,or 5\n",
      "9\n",
      "yes i iscompletely divisible my 2,or 5\n",
      "11\n",
      "yes i iscompletely divisible my 2,or 5\n",
      "13\n",
      "yes i iscompletely divisible my 2,or 5\n",
      "yes i iscompletely divisible my 2,or 5\n",
      "yes i iscompletely divisible my 2,or 5\n",
      "17\n",
      "yes i iscompletely divisible my 2,or 5\n",
      "19\n",
      "yes i iscompletely divisible my 2,or 5\n",
      "21\n",
      "yes i iscompletely divisible my 2,or 5\n",
      "23\n",
      "yes i iscompletely divisible my 2,or 5\n",
      "yes i iscompletely divisible my 2,or 5\n"
     ]
    }
   ],
   "source": [
    "for i in range(1,26):\n",
    "    if i%2==0 or i%5==0:\n",
    "        print(f'yes i iscompletely divisible my {2},or {5}')\n",
    "        continue\n",
    "    print(i)"
   ]
  },
  {
   "cell_type": "code",
   "execution_count": 47,
   "id": "4fb001c9",
   "metadata": {},
   "outputs": [
    {
     "name": "stdout",
     "output_type": "stream",
     "text": [
      "yes i iscompletely divisible my 2,or 5\n",
      "1yes i iscompletely divisible my 2,or 5\n",
      "3yes i iscompletely divisible my 2,or 5\n",
      "yes i iscompletely divisible my 2,or 5\n",
      "yes i iscompletely divisible my 2,or 5\n",
      "7yes i iscompletely divisible my 2,or 5\n",
      "9yes i iscompletely divisible my 2,or 5\n",
      "11yes i iscompletely divisible my 2,or 5\n",
      "13yes i iscompletely divisible my 2,or 5\n",
      "yes i iscompletely divisible my 2,or 5\n",
      "yes i iscompletely divisible my 2,or 5\n",
      "17yes i iscompletely divisible my 2,or 5\n",
      "19yes i iscompletely divisible my 2,or 5\n",
      "21yes i iscompletely divisible my 2,or 5\n",
      "23yes i iscompletely divisible my 2,or 5\n"
     ]
    }
   ],
   "source": [
    "for i in range(25):\n",
    "    if i%2==0 or i%5==0:\n",
    "        print(f'yes i iscompletely divisible my {2},or {5}')\n",
    "        continue\n",
    "    print(i,end='')"
   ]
  },
  {
   "cell_type": "markdown",
   "id": "3c24a577",
   "metadata": {},
   "source": [
    "### 3.pass"
   ]
  },
  {
   "cell_type": "raw",
   "id": "ccf4397e",
   "metadata": {},
   "source": [
    "It is used when the condition is true but we do not want to perform any operation.\n",
    "We does use pass when the conditional statements are there inside for loop."
   ]
  },
  {
   "cell_type": "code",
   "execution_count": 55,
   "id": "dc3dad0c",
   "metadata": {},
   "outputs": [],
   "source": [
    "for i in range(10):\n",
    "    break\n",
    "    print(i)"
   ]
  },
  {
   "cell_type": "code",
   "execution_count": 58,
   "id": "c96e91e9",
   "metadata": {},
   "outputs": [
    {
     "name": "stdout",
     "output_type": "stream",
     "text": [
      "0\n"
     ]
    }
   ],
   "source": [
    "for i in range(10):\n",
    "    print(i)\n",
    "    break"
   ]
  },
  {
   "cell_type": "code",
   "execution_count": 61,
   "id": "30003ce6",
   "metadata": {},
   "outputs": [],
   "source": [
    "for i in range(10):\n",
    "    continue\n",
    "    print(i)"
   ]
  },
  {
   "cell_type": "code",
   "execution_count": 60,
   "id": "045f183e",
   "metadata": {},
   "outputs": [
    {
     "name": "stdout",
     "output_type": "stream",
     "text": [
      "0\n",
      "1\n",
      "2\n",
      "3\n",
      "4\n",
      "5\n",
      "6\n",
      "7\n",
      "8\n",
      "9\n"
     ]
    }
   ],
   "source": [
    "for i in range(10):\n",
    "    print(i)\n",
    "    continue"
   ]
  },
  {
   "cell_type": "code",
   "execution_count": 62,
   "id": "9d0088ad",
   "metadata": {},
   "outputs": [
    {
     "name": "stdout",
     "output_type": "stream",
     "text": [
      "0\n",
      "1\n",
      "2\n",
      "3\n",
      "4\n",
      "5\n",
      "6\n",
      "7\n",
      "8\n",
      "9\n"
     ]
    }
   ],
   "source": [
    "for i in range(10):\n",
    "    pass\n",
    "    print(i)\n"
   ]
  },
  {
   "cell_type": "code",
   "execution_count": 63,
   "id": "f881e026",
   "metadata": {},
   "outputs": [
    {
     "name": "stdout",
     "output_type": "stream",
     "text": [
      "0\n",
      "1\n",
      "2\n",
      "3\n",
      "4\n",
      "5\n",
      "6\n",
      "7\n",
      "8\n",
      "9\n"
     ]
    }
   ],
   "source": [
    "for i in range(10):\n",
    "    print(i)\n",
    "    pass"
   ]
  },
  {
   "cell_type": "code",
   "execution_count": 64,
   "id": "690abbaa",
   "metadata": {},
   "outputs": [
    {
     "name": "stdout",
     "output_type": "stream",
     "text": [
      "0\n",
      "1\n",
      "2\n",
      "3\n",
      "4\n",
      "5\n",
      "6\n",
      "7\n",
      "8\n",
      "9\n"
     ]
    }
   ],
   "source": [
    "for i in range(10):\n",
    "    if i%2==0:\n",
    "        pass\n",
    "    print(i)"
   ]
  },
  {
   "cell_type": "code",
   "execution_count": 65,
   "id": "2fce914a",
   "metadata": {},
   "outputs": [
    {
     "name": "stdout",
     "output_type": "stream",
     "text": [
      "0\n",
      "1\n",
      "2\n",
      "3\n",
      "4\n",
      "5\n",
      "6\n",
      "7\n",
      "8\n",
      "9\n"
     ]
    }
   ],
   "source": [
    "for i in range(10):\n",
    "    print(i)\n",
    "    if i%2==0:\n",
    "        pass"
   ]
  },
  {
   "cell_type": "code",
   "execution_count": 72,
   "id": "b7a69fa2",
   "metadata": {},
   "outputs": [
    {
     "name": "stdout",
     "output_type": "stream",
     "text": [
      "9 "
     ]
    }
   ],
   "source": [
    "for i in range(10):\n",
    "    if i%2==0:\n",
    "        pass\n",
    "else: \n",
    "    print(i,end=' ')"
   ]
  },
  {
   "cell_type": "code",
   "execution_count": 74,
   "id": "d485f26a",
   "metadata": {},
   "outputs": [
    {
     "name": "stdout",
     "output_type": "stream",
     "text": [
      "1 3 5 7 9 "
     ]
    }
   ],
   "source": [
    "for i in range(10):\n",
    "    if i%2==0:\n",
    "        pass\n",
    "    else:\n",
    "        print(i, end=' ')"
   ]
  },
  {
   "cell_type": "code",
   "execution_count": 75,
   "id": "e7aa9033",
   "metadata": {},
   "outputs": [
    {
     "name": "stdout",
     "output_type": "stream",
     "text": [
      "1\n",
      "3\n",
      "5\n",
      "7\n",
      "9\n"
     ]
    }
   ],
   "source": [
    "for i in range(10):\n",
    "    if i%2==0:\n",
    "        continue\n",
    "    else:\n",
    "        print(i)"
   ]
  },
  {
   "cell_type": "code",
   "execution_count": 81,
   "id": "3383c0f4",
   "metadata": {},
   "outputs": [],
   "source": [
    "for i in range(10):\n",
    "    if i%2==0:\n",
    "        break\n",
    "    else:\n",
    "        print(i, end=' ')"
   ]
  },
  {
   "cell_type": "code",
   "execution_count": 79,
   "id": "f579ebbd",
   "metadata": {},
   "outputs": [
    {
     "name": "stdout",
     "output_type": "stream",
     "text": [
      "3\n"
     ]
    }
   ],
   "source": [
    "for i in range(3,10):\n",
    "    if i%2==0:\n",
    "        break\n",
    "    else:\n",
    "        print(i)"
   ]
  },
  {
   "cell_type": "markdown",
   "id": "dd103556",
   "metadata": {},
   "source": [
    "## for else"
   ]
  },
  {
   "cell_type": "raw",
   "id": "9fca9f9e",
   "metadata": {},
   "source": [
    "Else block will get execute only when the for loop gets complete."
   ]
  },
  {
   "cell_type": "code",
   "execution_count": 83,
   "id": "f9a6bdd4",
   "metadata": {},
   "outputs": [
    {
     "name": "stdout",
     "output_type": "stream",
     "text": [
      "i = 0\n",
      "loop is completed\n",
      "i = 1\n",
      "loop is completed\n",
      "i = 2\n",
      "loop is completed\n",
      "i = 3\n",
      "loop is completed\n",
      "i = 4\n",
      "loop is completed\n"
     ]
    }
   ],
   "source": [
    "for i in range(5):\n",
    "    print(f'i = {i}')\n",
    "    print('loop is completed')"
   ]
  },
  {
   "cell_type": "code",
   "execution_count": 84,
   "id": "4ad85943",
   "metadata": {},
   "outputs": [
    {
     "name": "stdout",
     "output_type": "stream",
     "text": [
      "i = 0\n",
      "i = 1\n",
      "i = 2\n",
      "i = 3\n",
      "i = 4\n",
      "loop is completed\n"
     ]
    }
   ],
   "source": [
    "for i in range(5):\n",
    "    print(f'i = {i}')\n",
    "print('loop is completed')"
   ]
  },
  {
   "cell_type": "code",
   "execution_count": 86,
   "id": "b632e0c2",
   "metadata": {},
   "outputs": [
    {
     "name": "stdout",
     "output_type": "stream",
     "text": [
      "i = 1\n",
      "i = 2\n",
      "i = 3\n",
      "i = 4\n",
      "loop is completed\n"
     ]
    }
   ],
   "source": [
    "for i in range(1,5):\n",
    "    print(f'i = {i}')\n",
    "print('loop is completed')"
   ]
  },
  {
   "cell_type": "code",
   "execution_count": 92,
   "id": "23e9fd87",
   "metadata": {},
   "outputs": [
    {
     "name": "stdout",
     "output_type": "stream",
     "text": [
      "0\n",
      "1\n",
      "2\n"
     ]
    }
   ],
   "source": [
    "for i in range(5):\n",
    "    if i==3:\n",
    "        break\n",
    "    print(i)\n",
    "else:\n",
    "    print('loop is completed')"
   ]
  },
  {
   "cell_type": "code",
   "execution_count": 12,
   "id": "18305c51",
   "metadata": {},
   "outputs": [
    {
     "name": "stdout",
     "output_type": "stream",
     "text": [
      "0\n",
      "1\n",
      "2\n",
      "3\n"
     ]
    }
   ],
   "source": [
    "for i in range(5):\n",
    "    print(i)\n",
    "    if i==3:\n",
    "        break\n",
    "else:\n",
    "    print('loop is completed')"
   ]
  },
  {
   "cell_type": "code",
   "execution_count": 93,
   "id": "6111ddc7",
   "metadata": {},
   "outputs": [
    {
     "name": "stdout",
     "output_type": "stream",
     "text": [
      " i=1\n",
      " i=2\n",
      " i=4\n",
      "loop has completed\n"
     ]
    }
   ],
   "source": [
    "for i in range(1,5):\n",
    "    if i==3:\n",
    "        continue\n",
    "    print(f' i={i}')\n",
    "else:\n",
    "    print('loop has completed')"
   ]
  },
  {
   "cell_type": "code",
   "execution_count": 35,
   "id": "a21a48bf",
   "metadata": {},
   "outputs": [
    {
     "name": "stdout",
     "output_type": "stream",
     "text": [
      " i=1\n",
      " i=2\n",
      " i=3\n",
      " i=4\n",
      "loop has completed\n"
     ]
    }
   ],
   "source": [
    "for i in range(1,5):\n",
    "    if i==3:\n",
    "        pass\n",
    "    print(f' i={i}')\n",
    "else:\n",
    "    print('loop has completed')"
   ]
  },
  {
   "cell_type": "code",
   "execution_count": 37,
   "id": "0b42ba3c",
   "metadata": {},
   "outputs": [
    {
     "name": "stdout",
     "output_type": "stream",
     "text": [
      " i=1\n",
      " i=2\n",
      " i=3\n",
      " i=4\n",
      "loop has completed\n"
     ]
    }
   ],
   "source": [
    "for i in range(1,5):\n",
    "    if i%2==0:\n",
    "        pass\n",
    "    print(f' i={i}')\n",
    "else:\n",
    "    print('loop has completed')"
   ]
  },
  {
   "cell_type": "markdown",
   "id": "d6b4f7cb",
   "metadata": {},
   "source": [
    "## factorial number"
   ]
  },
  {
   "cell_type": "raw",
   "id": "13d06e19",
   "metadata": {},
   "source": [
    "5! 5*4*3*2*1 / 1*2*3*4*5\n",
    "3! 3*2*1 / 1*2*3"
   ]
  },
  {
   "cell_type": "code",
   "execution_count": 96,
   "id": "74a34ebc",
   "metadata": {},
   "outputs": [
    {
     "name": "stdout",
     "output_type": "stream",
     "text": [
      "120\n"
     ]
    }
   ],
   "source": [
    "fact=1\n",
    "for i in range(1,6):\n",
    "    fact*=i\n",
    "print(fact)"
   ]
  },
  {
   "cell_type": "code",
   "execution_count": 97,
   "id": "023500a3",
   "metadata": {},
   "outputs": [
    {
     "name": "stdout",
     "output_type": "stream",
     "text": [
      "1\n",
      "2\n",
      "6\n",
      "24\n",
      "120\n"
     ]
    }
   ],
   "source": [
    "fact=1\n",
    "for i in range(1,6):\n",
    "    fact*=i\n",
    "    print(fact)"
   ]
  },
  {
   "cell_type": "code",
   "execution_count": 98,
   "id": "d7fd99e7",
   "metadata": {},
   "outputs": [
    {
     "ename": "SyntaxError",
     "evalue": "'literal' is an illegal expression for augmented assignment (2049088676.py, line 2)",
     "output_type": "error",
     "traceback": [
      "\u001b[1;36m  Input \u001b[1;32mIn [98]\u001b[1;36m\u001b[0m\n\u001b[1;33m    1*=i\u001b[0m\n\u001b[1;37m    ^\u001b[0m\n\u001b[1;31mSyntaxError\u001b[0m\u001b[1;31m:\u001b[0m 'literal' is an illegal expression for augmented assignment\n"
     ]
    }
   ],
   "source": [
    "for i in range(1,6):\n",
    "    1*=i\n",
    "print(fact)"
   ]
  },
  {
   "cell_type": "code",
   "execution_count": 114,
   "id": "ff8d4151",
   "metadata": {},
   "outputs": [
    {
     "name": "stdout",
     "output_type": "stream",
     "text": [
      "enter your number programer 6\n",
      "list of factorial number is 1\n",
      "list of factorial number is 2\n",
      "list of factorial number is 6\n",
      "list of factorial number is 24\n",
      "list of factorial number is 120\n",
      "list of factorial number is 720\n"
     ]
    }
   ],
   "source": [
    "a=int(input('enter your number programer ',))\n",
    "b=1\n",
    "for i in range(1,a+1):\n",
    "    b*=i # b=b*i same meaning\n",
    "    print(\"list of factorial number is\",b)"
   ]
  },
  {
   "cell_type": "code",
   "execution_count": 112,
   "id": "f9f00731",
   "metadata": {
    "scrolled": true
   },
   "outputs": [
    {
     "name": "stdout",
     "output_type": "stream",
     "text": [
      "enter your number programer 6\n",
      "list of factorial number is [1]\n",
      "list of factorial number is [1, 2]\n",
      "list of factorial number is [1, 2, 6]\n",
      "list of factorial number is [1, 2, 6, 24]\n",
      "list of factorial number is [1, 2, 6, 24, 120]\n",
      "list of factorial number is [1, 2, 6, 24, 120, 720]\n"
     ]
    }
   ],
   "source": [
    "a=int(input('enter your number programer ',))\n",
    "b=1\n",
    "c=[]\n",
    "for i in range(1,a+1):\n",
    "    b*=i # b=b*i same meaning\n",
    "    c.append(b)\n",
    "    print(\"list of factorial number is\",c)"
   ]
  },
  {
   "cell_type": "code",
   "execution_count": 16,
   "id": "1c0bd7ac",
   "metadata": {},
   "outputs": [
    {
     "name": "stdout",
     "output_type": "stream",
     "text": [
      "list of factorial number is [0]\n",
      "list of factorial number is [0, 2]\n",
      "list of factorial number is [0, 2, 4]\n",
      "list of factorial number is [0, 2, 4, 6]\n",
      "list of factorial number is [0, 2, 4, 6, 8]\n",
      "list of factorial number is [0, 2, 4, 6, 8, 10]\n"
     ]
    }
   ],
   "source": [
    "a=1,2,3,4,5,6\n",
    "b=2\n",
    "c=[]\n",
    "for i in range(len(a)):\n",
    "    m=b*i # b=b*i same meaning\n",
    "    c.append(m)\n",
    "    print(\"list of factorial number is\",c)"
   ]
  },
  {
   "cell_type": "code",
   "execution_count": 113,
   "id": "6e631f35",
   "metadata": {},
   "outputs": [
    {
     "name": "stdout",
     "output_type": "stream",
     "text": [
      "enter your number programer 6\n",
      "list of factorial number is [1, 2, 6, 24, 120, 720]\n"
     ]
    }
   ],
   "source": [
    "a=int(input('enter your number programer ',))\n",
    "b=1\n",
    "c=[]\n",
    "for i in range(1,a+1):\n",
    "    b*=i # b=b*i same meaning\n",
    "    c.append(b)\n",
    "print(\"list of factorial number is\",c)"
   ]
  },
  {
   "cell_type": "code",
   "execution_count": 15,
   "id": "589ff73e",
   "metadata": {},
   "outputs": [
    {
     "name": "stdout",
     "output_type": "stream",
     "text": [
      "enter number 4\n",
      "24\n"
     ]
    }
   ],
   "source": [
    "a=eval(input('enter number '))\n",
    "j = 1\n",
    "if a>0:\n",
    "    for i in range(1,a+1):\n",
    "        j = j*i\n",
    "    print(j)\n",
    "elif a==0:\n",
    "    print('Number is less than zero')"
   ]
  },
  {
   "cell_type": "code",
   "execution_count": 19,
   "id": "6d298438",
   "metadata": {},
   "outputs": [
    {
     "name": "stdout",
     "output_type": "stream",
     "text": [
      "Enter any integer value for which you want to the factorial: 3\n",
      "factorial of 3,is 6\n"
     ]
    }
   ],
   "source": [
    "num = int(input('Enter any integer value for which you want to the factorial: '))\n",
    "fact = 1\n",
    "if num == 0:\n",
    "    print('Factorial is 1')\n",
    "elif num < 0:\n",
    "    print('No Factorial')\n",
    "else:\n",
    "    for i in range(1,num+1):\n",
    "        fact=fact*i\n",
    "    print(f'factorial of {num},is',fact)"
   ]
  },
  {
   "cell_type": "markdown",
   "id": "c479e697",
   "metadata": {},
   "source": [
    "## prime number"
   ]
  },
  {
   "cell_type": "raw",
   "id": "81b82b8a",
   "metadata": {},
   "source": [
    "Prime number is a number which completely divisible only by 1 and itself."
   ]
  },
  {
   "cell_type": "code",
   "execution_count": 24,
   "id": "cab93de4",
   "metadata": {},
   "outputs": [
    {
     "name": "stdout",
     "output_type": "stream",
     "text": [
      "Enter the number: 1\n",
      "number is prime\n"
     ]
    }
   ],
   "source": [
    "n = int(input(\"Enter the number: \"))\n",
    "for i in range(2,n):\n",
    "     if n%i == 0:\n",
    "            a = 1\n",
    "if a==1:\n",
    "     print(\"number is not prime\")\n",
    "else:\n",
    "     print(\"number is prime\")"
   ]
  },
  {
   "cell_type": "code",
   "execution_count": 124,
   "id": "deb9d99b",
   "metadata": {},
   "outputs": [
    {
     "name": "stdout",
     "output_type": "stream",
     "text": [
      "Enter the number: 119\n",
      "The number 119 is a not prime number\n"
     ]
    }
   ],
   "source": [
    "a = eval(input('Enter the number: '))\n",
    "\n",
    "if type(a) == float:\n",
    "    print(f'The number {a} is a float')\n",
    "elif a<=0:\n",
    "    print(f'The number {a} is less than or equal to zero')\n",
    "elif a==1:\n",
    "    print(f'The number {a} prime number')\n",
    "elif a==2:\n",
    "    print(f'The number {a} is a prime number')\n",
    "else:\n",
    "    for i in range(2,a):\n",
    "        if a%i == 0:\n",
    "            print(f'The number {a} is a not prime number')\n",
    "            break\n",
    "    else:\n",
    "        print(f'The number {a} is a prime number')"
   ]
  },
  {
   "cell_type": "code",
   "execution_count": 131,
   "id": "5fbb7813",
   "metadata": {},
   "outputs": [
    {
     "data": {
      "text/plain": [
       "0"
      ]
     },
     "execution_count": 131,
     "metadata": {},
     "output_type": "execute_result"
    }
   ],
   "source": [
    "119%7"
   ]
  },
  {
   "cell_type": "code",
   "execution_count": 103,
   "id": "fe3dabce",
   "metadata": {},
   "outputs": [
    {
     "name": "stdout",
     "output_type": "stream",
     "text": [
      "enter your number: 4\n",
      "1\n",
      "2\n",
      "6\n",
      "24\n"
     ]
    }
   ],
   "source": [
    "a=eval(input('enter your number: '))\n",
    "j = 1\n",
    "if type(a)==float:\n",
    "    print('number is float')\n",
    "elif a>0:\n",
    "    for i in range(1,a+1):\n",
    "        j = j*i\n",
    "        print(j)\n",
    "else:\n",
    "    print('Number is less than zero')"
   ]
  },
  {
   "cell_type": "code",
   "execution_count": 102,
   "id": "69dfdc5c",
   "metadata": {},
   "outputs": [
    {
     "name": "stdout",
     "output_type": "stream",
     "text": [
      "enter your number: 4\n",
      "24\n"
     ]
    }
   ],
   "source": [
    "a=eval(input('enter your number: '))\n",
    "j = 1\n",
    "if type(a)==float:\n",
    "    print('number is float')\n",
    "elif a>0:\n",
    "    for i in range(1,a+1):\n",
    "        j = j*i\n",
    "    print(j)\n",
    "else:\n",
    "    print('Number is less than zero')"
   ]
  },
  {
   "cell_type": "code",
   "execution_count": 2,
   "id": "f51736f3",
   "metadata": {},
   "outputs": [
    {
     "name": "stdout",
     "output_type": "stream",
     "text": [
      "1\n",
      "1\n",
      "2\n",
      "3\n",
      "2\n",
      "2\n",
      "1\n",
      "3\n",
      "1\n",
      "1\n",
      "1\n",
      "2\n",
      "1\n",
      "2\n",
      "2\n",
      "3\n",
      "2\n",
      "2\n",
      "2\n",
      "2\n"
     ]
    }
   ],
   "source": [
    "a='dynamical programing'\n",
    "for i in a:\n",
    "    print(a.count(i))\n",
    "    "
   ]
  },
  {
   "cell_type": "code",
   "execution_count": 43,
   "id": "236d32b9",
   "metadata": {},
   "outputs": [
    {
     "name": "stdout",
     "output_type": "stream",
     "text": [
      "1 d\n",
      "1 y\n",
      "2 n\n",
      "3 a\n",
      "2 m\n",
      "2 i\n",
      "1 c\n",
      "3 a\n",
      "1 l\n",
      "1  \n",
      "1 p\n",
      "2 r\n",
      "1 o\n",
      "2 g\n",
      "2 r\n",
      "3 a\n",
      "2 m\n",
      "2 i\n",
      "2 n\n",
      "2 g\n"
     ]
    }
   ],
   "source": [
    "a='dynamical programing'\n",
    "b=[]\n",
    "for element in a:\n",
    "    print(a.count(element),element)\n",
    "    "
   ]
  }
 ],
 "metadata": {
  "kernelspec": {
   "display_name": "Python 3 (ipykernel)",
   "language": "python",
   "name": "python3"
  },
  "language_info": {
   "codemirror_mode": {
    "name": "ipython",
    "version": 3
   },
   "file_extension": ".py",
   "mimetype": "text/x-python",
   "name": "python",
   "nbconvert_exporter": "python",
   "pygments_lexer": "ipython3",
   "version": "3.9.12"
  }
 },
 "nbformat": 4,
 "nbformat_minor": 5
}
