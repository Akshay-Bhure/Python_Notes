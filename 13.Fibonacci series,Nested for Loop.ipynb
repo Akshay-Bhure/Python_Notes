{
 "cells": [
  {
   "cell_type": "markdown",
   "id": "55cea333",
   "metadata": {},
   "source": [
    "## Fibonacci series"
   ]
  },
  {
   "cell_type": "raw",
   "id": "ea0ac012",
   "metadata": {},
   "source": [
    "n = 6\n",
    "0 1 1 2 3 5\n",
    "\n",
    "n = 10\n",
    "0 1 1 2 3 5 8 13 21 ..."
   ]
  },
  {
   "cell_type": "code",
   "execution_count": 1,
   "id": "89a6e614",
   "metadata": {},
   "outputs": [
    {
     "name": "stdout",
     "output_type": "stream",
     "text": [
      "Enter the length of fibonacci series: 6\n",
      "Fibonacci Series is :\n",
      " 0 \n",
      " 1\n",
      "1\n",
      "2\n",
      "3\n",
      "5\n"
     ]
    }
   ],
   "source": [
    "n = int(input('Enter the length of fibonacci series: ')) # 6 >>0 1 1 2 3 5\n",
    "first = 0 # 1, 1, 2, 3\n",
    "second = 1 # 1, 2, 3, 5\n",
    "print(f'Fibonacci Series is :\\n', first, '\\n', second)\n",
    "for i in range(0,n-2):# range(0,4), 0,1,2,3\n",
    "    new = first + second #0+1, 1+1, 1+2, 2+3\n",
    "    first = second #1,1,2,3\n",
    "    second = new #1,2,3,5\n",
    "    print(new)\n"
   ]
  },
  {
   "cell_type": "code",
   "execution_count": 4,
   "id": "41e8a0b1",
   "metadata": {},
   "outputs": [
    {
     "name": "stdout",
     "output_type": "stream",
     "text": [
      "enter the length of fibonacci 6\n",
      "fibonacci series is : \n",
      " 0 \n",
      " 1\n",
      "1\n",
      "2\n",
      "3\n",
      "5\n",
      "8\n"
     ]
    }
   ],
   "source": [
    "a=int(input('enter the length of fibonacci ', ))\n",
    "one=0\n",
    "two=1\n",
    "print(f'fibonacci series is : \\n', one,'\\n',two)\n",
    "for i in range(0,a-1):\n",
    "    new=one+two\n",
    "    one=two\n",
    "    two=new\n",
    "    print(new)"
   ]
  },
  {
   "cell_type": "code",
   "execution_count": 3,
   "id": "348f323c",
   "metadata": {},
   "outputs": [
    {
     "name": "stdout",
     "output_type": "stream",
     "text": [
      "enter the length of fibonacci 4\n",
      "fibonacci series is : \n",
      " 0 \n",
      " 1\n",
      "1\n",
      "2\n",
      "3\n",
      "5\n",
      "8\n"
     ]
    }
   ],
   "source": [
    "a=int(input('enter the length of fibonacci ', ))\n",
    "one=0\n",
    "two=1\n",
    "print(f'fibonacci series is : \\n', one,'\\n',two)\n",
    "for i in range(0,a+1):\n",
    "    new=one+two\n",
    "    one=two\n",
    "    two=new\n",
    "    print(new)"
   ]
  },
  {
   "cell_type": "code",
   "execution_count": 6,
   "id": "11e65631",
   "metadata": {},
   "outputs": [
    {
     "name": "stdout",
     "output_type": "stream",
     "text": [
      "enter the lenght fibonaci value =9\n",
      "Fibonacci series of the above number\n",
      "0\n",
      "1\n",
      "1\n",
      "2\n",
      "3\n",
      "5\n",
      "8\n",
      "13\n",
      "21\n"
     ]
    }
   ],
   "source": [
    "n = int(input('enter the lenght fibonaci value ='))\n",
    "print('Fibonacci series of the above number')\n",
    "j = 0\n",
    "k = 1\n",
    "print(j)\n",
    "print(k)\n",
    "for i in range(0,n-2):\n",
    "    l = j + k\n",
    "    j = k\n",
    "    k = l\n",
    "    print(l)"
   ]
  },
  {
   "cell_type": "code",
   "execution_count": 7,
   "id": "f0a08d90",
   "metadata": {},
   "outputs": [
    {
     "name": "stdout",
     "output_type": "stream",
     "text": [
      "Enter the number: 6\n",
      "The Fibonacci series of 6 is :   0 1 1 2 3 5 "
     ]
    }
   ],
   "source": [
    "a = eval(input('Enter the number: '))\n",
    "f1 = 0\n",
    "f2 = 1\n",
    "f3 = 0\n",
    "\n",
    "if type(a)==float:\n",
    "    print(f'The number {a} is a float')\n",
    "elif a<=0:\n",
    "    print('Enter an number greater than 0')\n",
    "elif a==1:\n",
    "    print('0')\n",
    "elif a==2:\n",
    "    print('0 1')\n",
    "else:\n",
    "    print(f'The Fibonacci series of {a} is :   {f1} {f2}', end=' ')\n",
    "    for i in range(2,a):\n",
    "        f3 = f1+f2\n",
    "        f1 = f2\n",
    "        f2 = f3\n",
    "        print(f3, end =' ')\n"
   ]
  },
  {
   "cell_type": "markdown",
   "id": "afbb980d",
   "metadata": {},
   "source": [
    "## Nested for Loop"
   ]
  },
  {
   "cell_type": "raw",
   "id": "10d6b297",
   "metadata": {},
   "source": [
    "For loop inside another for loop"
   ]
  },
  {
   "cell_type": "raw",
   "id": "d551ee44",
   "metadata": {},
   "source": [
    "for var1 in sequence1:#1\n",
    "    statement1\n",
    "    statement2\n",
    "    for var2 in sequence2:\n",
    "        statement3\n",
    "        statement4"
   ]
  },
  {
   "cell_type": "code",
   "execution_count": 11,
   "id": "1ab10d6e",
   "metadata": {},
   "outputs": [
    {
     "name": "stdout",
     "output_type": "stream",
     "text": [
      "i==0\n",
      "i==1\n",
      "i==2\n",
      "i==3\n",
      "i==4\n"
     ]
    }
   ],
   "source": [
    "for i in range(5):\n",
    "    print(f'i=={i}')"
   ]
  },
  {
   "cell_type": "code",
   "execution_count": 12,
   "id": "b5b72209",
   "metadata": {},
   "outputs": [
    {
     "name": "stdout",
     "output_type": "stream",
     "text": [
      " i==0\n",
      " j ==0\n",
      " j ==1\n",
      " j ==2\n",
      " i==1\n",
      " j ==0\n",
      " j ==1\n",
      " j ==2\n",
      " i==2\n",
      " j ==0\n",
      " j ==1\n",
      " j ==2\n",
      " i==3\n",
      " j ==0\n",
      " j ==1\n",
      " j ==2\n",
      " i==4\n",
      " j ==0\n",
      " j ==1\n",
      " j ==2\n"
     ]
    }
   ],
   "source": [
    "for i in range(5):\n",
    "    print(f' i=={i}')\n",
    "    for j in range(3):\n",
    "        print(f' j =={j}')"
   ]
  },
  {
   "cell_type": "code",
   "execution_count": 13,
   "id": "4091aace",
   "metadata": {},
   "outputs": [
    {
     "name": "stdout",
     "output_type": "stream",
     "text": [
      " i==0\n",
      " we are in nested for loop\n",
      " we are in nested for loop\n",
      " we are in nested for loop\n",
      " i==1\n",
      " we are in nested for loop\n",
      " we are in nested for loop\n",
      " we are in nested for loop\n",
      " i==2\n",
      " we are in nested for loop\n",
      " we are in nested for loop\n",
      " we are in nested for loop\n",
      " i==3\n",
      " we are in nested for loop\n",
      " we are in nested for loop\n",
      " we are in nested for loop\n",
      " i==4\n",
      " we are in nested for loop\n",
      " we are in nested for loop\n",
      " we are in nested for loop\n"
     ]
    }
   ],
   "source": [
    "for i in range(5):\n",
    "    print(f' i=={i}')\n",
    "    for j in range(3):\n",
    "        print(f' we are in nested for loop')"
   ]
  },
  {
   "cell_type": "code",
   "execution_count": 14,
   "id": "bab15173",
   "metadata": {},
   "outputs": [
    {
     "name": "stdout",
     "output_type": "stream",
     "text": [
      " i == 0\n",
      "nested\n",
      "nested\n",
      "nested\n",
      "nested\n",
      " i == 1\n",
      "nested\n",
      "nested\n",
      "nested\n",
      "nested\n",
      " i == 2\n",
      "nested\n",
      "nested\n",
      "nested\n",
      "nested\n",
      " i == 3\n",
      "nested\n",
      "nested\n",
      "nested\n",
      "nested\n",
      " i == 4\n",
      "nested\n",
      "nested\n",
      "nested\n",
      "nested\n"
     ]
    }
   ],
   "source": [
    "for i in range(5):\n",
    "    print(f' i == {i}')\n",
    "    for j in range(4):\n",
    "        print('nested')"
   ]
  },
  {
   "cell_type": "code",
   "execution_count": 15,
   "id": "c158c82e",
   "metadata": {},
   "outputs": [
    {
     "name": "stdout",
     "output_type": "stream",
     "text": [
      "nested\n",
      "j==0\n",
      "j==1\n",
      "j==2\n",
      "j==3\n",
      "j==4\n",
      "nested\n",
      "j==0\n",
      "j==1\n",
      "j==2\n",
      "j==3\n",
      "j==4\n",
      "nested\n",
      "j==0\n",
      "j==1\n",
      "j==2\n",
      "j==3\n",
      "j==4\n"
     ]
    }
   ],
   "source": [
    "for i in range(3):\n",
    "    print(f'nested')\n",
    "    for j in range(5):\n",
    "        print(f'j=={j}')"
   ]
  },
  {
   "cell_type": "code",
   "execution_count": 20,
   "id": "27c6471b",
   "metadata": {},
   "outputs": [
    {
     "name": "stdout",
     "output_type": "stream",
     "text": [
      "i==0\n",
      " nested\n",
      "********************\n",
      " nested\n",
      "********************\n",
      " nested\n",
      "********************\n",
      " nested\n",
      "********************\n",
      "i==1\n",
      " nested\n",
      "********************\n",
      " nested\n",
      "********************\n",
      " nested\n",
      "********************\n",
      " nested\n",
      "********************\n",
      "i==2\n",
      " nested\n",
      "********************\n",
      " nested\n",
      "********************\n",
      " nested\n",
      "********************\n",
      " nested\n",
      "********************\n",
      "i==3\n",
      " nested\n",
      "********************\n",
      " nested\n",
      "********************\n",
      " nested\n",
      "********************\n",
      " nested\n",
      "********************\n",
      "i==4\n",
      " nested\n",
      "********************\n",
      " nested\n",
      "********************\n",
      " nested\n",
      "********************\n",
      " nested\n",
      "********************\n",
      "i==5\n",
      " nested\n",
      "********************\n",
      " nested\n",
      "********************\n",
      " nested\n",
      "********************\n",
      " nested\n",
      "********************\n"
     ]
    }
   ],
   "source": [
    "for i in range(6):\n",
    "    print(f'i=={i}')\n",
    "    for i in range(4):\n",
    "        print(f' nested')\n",
    "        print('********************')"
   ]
  },
  {
   "cell_type": "code",
   "execution_count": 21,
   "id": "8f3fe178",
   "metadata": {},
   "outputs": [
    {
     "name": "stdout",
     "output_type": "stream",
     "text": [
      "i==0\n",
      " nested\n",
      " nested\n",
      " nested\n",
      " nested\n",
      "********************\n",
      "i==1\n",
      " nested\n",
      " nested\n",
      " nested\n",
      " nested\n",
      "********************\n",
      "i==2\n",
      " nested\n",
      " nested\n",
      " nested\n",
      " nested\n",
      "********************\n",
      "i==3\n",
      " nested\n",
      " nested\n",
      " nested\n",
      " nested\n",
      "********************\n",
      "i==4\n",
      " nested\n",
      " nested\n",
      " nested\n",
      " nested\n",
      "********************\n",
      "i==5\n",
      " nested\n",
      " nested\n",
      " nested\n",
      " nested\n",
      "********************\n"
     ]
    }
   ],
   "source": [
    "for i in range(6):\n",
    "    print(f'i=={i}')\n",
    "    for j in range(4):\n",
    "        print(f' nested')\n",
    "    print('********************')"
   ]
  },
  {
   "cell_type": "code",
   "execution_count": 26,
   "id": "8ee1ce79",
   "metadata": {},
   "outputs": [
    {
     "name": "stdout",
     "output_type": "stream",
     "text": [
      "i==0\n",
      "road\n",
      "nested\n",
      "dim\n",
      "@@@@@@@\n",
      "nested\n",
      "dim\n",
      "@@@@@@@\n",
      "nested\n",
      "dim\n",
      "@@@@@@@\n",
      "&&&&&&&&&&&&&&&&&&\n",
      "i==1\n",
      "road\n",
      "nested\n",
      "dim\n",
      "@@@@@@@\n",
      "nested\n",
      "dim\n",
      "@@@@@@@\n",
      "nested\n",
      "dim\n",
      "@@@@@@@\n",
      "&&&&&&&&&&&&&&&&&&\n",
      "i==2\n",
      "road\n",
      "nested\n",
      "dim\n",
      "@@@@@@@\n",
      "nested\n",
      "dim\n",
      "@@@@@@@\n",
      "nested\n",
      "dim\n",
      "@@@@@@@\n",
      "&&&&&&&&&&&&&&&&&&\n",
      "i==3\n",
      "road\n",
      "nested\n",
      "dim\n",
      "@@@@@@@\n",
      "nested\n",
      "dim\n",
      "@@@@@@@\n",
      "nested\n",
      "dim\n",
      "@@@@@@@\n",
      "&&&&&&&&&&&&&&&&&&\n",
      "i==4\n",
      "road\n",
      "nested\n",
      "dim\n",
      "@@@@@@@\n",
      "nested\n",
      "dim\n",
      "@@@@@@@\n",
      "nested\n",
      "dim\n",
      "@@@@@@@\n",
      "&&&&&&&&&&&&&&&&&&\n"
     ]
    }
   ],
   "source": [
    "for i in range(5):\n",
    "    print(f\"i=={i}\")\n",
    "    print(f'road')\n",
    "    for j in range(3):\n",
    "        print(f'nested')\n",
    "        print(f'dim')\n",
    "        print('@@@@@@@')\n",
    "    print('&&&&&&&&&&&&&&&&&&')            "
   ]
  },
  {
   "cell_type": "code",
   "execution_count": 23,
   "id": "d50899bd",
   "metadata": {},
   "outputs": [
    {
     "name": "stdout",
     "output_type": "stream",
     "text": [
      "i==0\n",
      "\n",
      " this is second loop\n",
      "\n",
      "this is third loop\n",
      "the end\n",
      "this is third loop\n",
      "the end\n",
      "this is third loop\n",
      "the end\n",
      " this is second loop\n",
      "\n",
      "this is third loop\n",
      "the end\n",
      "this is third loop\n",
      "the end\n",
      "this is third loop\n",
      "the end\n",
      "i==1\n",
      "\n",
      " this is second loop\n",
      "\n",
      "this is third loop\n",
      "the end\n",
      "this is third loop\n",
      "the end\n",
      "this is third loop\n",
      "the end\n",
      " this is second loop\n",
      "\n",
      "this is third loop\n",
      "the end\n",
      "this is third loop\n",
      "the end\n",
      "this is third loop\n",
      "the end\n",
      "i==2\n",
      "\n",
      " this is second loop\n",
      "\n",
      "this is third loop\n",
      "the end\n",
      "this is third loop\n",
      "the end\n",
      "this is third loop\n",
      "the end\n",
      " this is second loop\n",
      "\n",
      "this is third loop\n",
      "the end\n",
      "this is third loop\n",
      "the end\n",
      "this is third loop\n",
      "the end\n"
     ]
    }
   ],
   "source": [
    "for i in range(3):\n",
    "    print(f'i=={i}')\n",
    "    print()\n",
    "    for i in range(2):\n",
    "        print(f' this is second loop')\n",
    "        print()\n",
    "        for z in range(3):\n",
    "            print('this is third loop')\n",
    "            print('the end')"
   ]
  },
  {
   "cell_type": "code",
   "execution_count": 21,
   "id": "134c86eb",
   "metadata": {},
   "outputs": [
    {
     "name": "stdout",
     "output_type": "stream",
     "text": [
      "i=0\n",
      "characters of j: n\n",
      "characters of j: e\n",
      "characters of j: s\n",
      "characters of j: t\n",
      "characters of j: e\n",
      "characters of j: d\n",
      "i=1\n",
      "characters of j: n\n",
      "characters of j: e\n",
      "characters of j: s\n",
      "characters of j: t\n",
      "characters of j: e\n",
      "characters of j: d\n"
     ]
    }
   ],
   "source": [
    "for i in range(2):\n",
    "    print(f'i={i}')\n",
    "    for j in 'nested':\n",
    "        print(f'characters of j:',j)"
   ]
  },
  {
   "cell_type": "code",
   "execution_count": 31,
   "id": "e6c91bcd",
   "metadata": {},
   "outputs": [
    {
     "name": "stdout",
     "output_type": "stream",
     "text": [
      "i == 0\n",
      "*******\n",
      "*******\n",
      "*******\n",
      "\n",
      "i == 1\n",
      "*******\n",
      "*******\n",
      "*******\n",
      "\n"
     ]
    }
   ],
   "source": [
    "for i in range(2):\n",
    "    print(f'i == {i}')\n",
    "    for j in range(3):\n",
    "        print('*******')\n",
    "    print()"
   ]
  },
  {
   "cell_type": "code",
   "execution_count": 12,
   "id": "d53a7392",
   "metadata": {},
   "outputs": [
    {
     "name": "stdout",
     "output_type": "stream",
     "text": [
      "nested\n",
      "nested\n",
      "nested\n",
      "nested\n",
      "nested\n",
      "nested\n",
      "nested\n",
      "nested\n",
      "nested\n",
      "nested\n",
      "nested\n",
      "nested\n"
     ]
    }
   ],
   "source": [
    "for i in range(4):\n",
    "    for j in range(3):\n",
    "        print('nested')"
   ]
  },
  {
   "cell_type": "code",
   "execution_count": 1,
   "id": "068d5dfd",
   "metadata": {},
   "outputs": [
    {
     "name": "stdout",
     "output_type": "stream",
     "text": [
      "*\n",
      "*\n",
      "*\n",
      "*\n",
      "*\n",
      "*\n"
     ]
    }
   ],
   "source": [
    "for i in range(2): # It decides our rows >>0,1\n",
    "    for j in range(3): # It decides our column >> 0,1,2\n",
    "        print('*')\n",
    "    "
   ]
  },
  {
   "cell_type": "code",
   "execution_count": 35,
   "id": "eb92828b",
   "metadata": {},
   "outputs": [
    {
     "name": "stdout",
     "output_type": "stream",
     "text": [
      "* * * * * * "
     ]
    }
   ],
   "source": [
    "for i in range(2): # It decides our rows >>0,1\n",
    "    for j in range(3): # It decides our column >> 0,1,2\n",
    "        print('*', end=' ')\n",
    "    "
   ]
  },
  {
   "cell_type": "code",
   "execution_count": 2,
   "id": "8b54d149",
   "metadata": {},
   "outputs": [
    {
     "name": "stdout",
     "output_type": "stream",
     "text": [
      "* * * * * * "
     ]
    }
   ],
   "source": [
    "for i in range(4): # It decides our rows >>0,1\n",
    "    for j in range(i): # It decides our column >> 0,1,2\n",
    "        print('*', end=' ')\n",
    "    "
   ]
  },
  {
   "cell_type": "code",
   "execution_count": 5,
   "id": "21382ce2",
   "metadata": {},
   "outputs": [
    {
     "name": "stdout",
     "output_type": "stream",
     "text": [
      "* * * \n",
      "* * * \n"
     ]
    }
   ],
   "source": [
    "for i in range(2): # It decides our rows >>0,1\n",
    "    for j in range(3): # It decides our column >> 0,1,2\n",
    "        print('*', end=' ')\n",
    "    print()"
   ]
  },
  {
   "cell_type": "code",
   "execution_count": 10,
   "id": "d6a337f1",
   "metadata": {},
   "outputs": [
    {
     "name": "stdout",
     "output_type": "stream",
     "text": [
      "* * * * * \n",
      "* * * * * \n",
      "* * * * * \n",
      "* * * * * \n",
      "* * * * * \n"
     ]
    }
   ],
   "source": [
    "for i in range(5): \n",
    "    for j in range(5): \n",
    "        print('*', end=' ')\n",
    "    print()"
   ]
  },
  {
   "cell_type": "code",
   "execution_count": 2,
   "id": "b966d520",
   "metadata": {},
   "outputs": [
    {
     "name": "stdout",
     "output_type": "stream",
     "text": [
      "88\n",
      "88\n",
      "88\n",
      "\n",
      "88\n",
      "88\n",
      "88\n",
      "\n",
      "88\n",
      "88\n",
      "88\n",
      "\n",
      "88\n",
      "88\n",
      "88\n",
      "\n"
     ]
    }
   ],
   "source": [
    "for i in range(4):\n",
    "    for j in range(3):\n",
    "        print(88,)\n",
    "    print()"
   ]
  },
  {
   "cell_type": "code",
   "execution_count": 39,
   "id": "b3242c84",
   "metadata": {},
   "outputs": [
    {
     "name": "stdout",
     "output_type": "stream",
     "text": [
      "88 88 88 \n",
      "88 88 88 \n",
      "88 88 88 \n",
      "88 88 88 \n"
     ]
    }
   ],
   "source": [
    "for i in range(4):\n",
    "    for j in range(3):\n",
    "        print('88',end=' ')\n",
    "    print()"
   ]
  },
  {
   "cell_type": "code",
   "execution_count": 42,
   "id": "bcbef1a9",
   "metadata": {},
   "outputs": [
    {
     "name": "stdout",
     "output_type": "stream",
     "text": [
      "* * * \n",
      "* * * \n",
      "* * * \n",
      "* * * \n"
     ]
    }
   ],
   "source": [
    "for i in range(4):\n",
    "    for j in range(3):\n",
    "        print('*',end=' ')\n",
    "    print()"
   ]
  },
  {
   "cell_type": "code",
   "execution_count": 46,
   "id": "da743544",
   "metadata": {},
   "outputs": [
    {
     "name": "stdout",
     "output_type": "stream",
     "text": [
      "@@@@@\n",
      "@@@@@\n",
      "@@@@@\n",
      "@@@@@\n"
     ]
    }
   ],
   "source": [
    "for i in range(4):\n",
    "    for j in range(5):\n",
    "        print(\"@\",end=\"\")\n",
    "    print()"
   ]
  },
  {
   "cell_type": "code",
   "execution_count": 17,
   "id": "fda5fbe0",
   "metadata": {},
   "outputs": [
    {
     "name": "stdout",
     "output_type": "stream",
     "text": [
      "*\n",
      "*\n",
      "*\n",
      "*\n",
      "*\n",
      "*\n",
      "*\n",
      "*\n",
      "*\n",
      "*\n",
      "*\n",
      "*\n",
      "*\n",
      "*\n",
      "*\n"
     ]
    }
   ],
   "source": [
    "for i in range(1,6):\n",
    "    for j in range(i):\n",
    "        print(\"*\")"
   ]
  },
  {
   "cell_type": "code",
   "execution_count": 19,
   "id": "276a13eb",
   "metadata": {},
   "outputs": [
    {
     "name": "stdout",
     "output_type": "stream",
     "text": [
      "* * * * * * * * * * * * * * * "
     ]
    }
   ],
   "source": [
    "for i in range(1,6):\n",
    "    for j in range(i):\n",
    "        print(\"*\",end=\" \")"
   ]
  },
  {
   "cell_type": "code",
   "execution_count": 20,
   "id": "34ae6abc",
   "metadata": {},
   "outputs": [
    {
     "name": "stdout",
     "output_type": "stream",
     "text": [
      "*\n",
      "\n",
      "*\n",
      "*\n",
      "\n",
      "*\n",
      "*\n",
      "*\n",
      "\n",
      "*\n",
      "*\n",
      "*\n",
      "*\n",
      "\n",
      "*\n",
      "*\n",
      "*\n",
      "*\n",
      "*\n",
      "\n"
     ]
    }
   ],
   "source": [
    "for i in range(1,6):\n",
    "    for j in range(i):\n",
    "        print(\"*\")\n",
    "    print()"
   ]
  },
  {
   "cell_type": "code",
   "execution_count": 6,
   "id": "fad0ceec",
   "metadata": {},
   "outputs": [
    {
     "name": "stdout",
     "output_type": "stream",
     "text": [
      "* \n",
      "* * \n",
      "* * * \n",
      "* * * * \n",
      "* * * * * \n"
     ]
    }
   ],
   "source": [
    "for i in range(1,6):\n",
    "    for j in range(i):\n",
    "        print('*',end=' ')\n",
    "    print()"
   ]
  },
  {
   "cell_type": "code",
   "execution_count": 73,
   "id": "1fe578c1",
   "metadata": {},
   "outputs": [
    {
     "name": "stdout",
     "output_type": "stream",
     "text": [
      "* * * * * \n",
      "* * * * \n",
      "* * * \n",
      "* * \n",
      "* \n"
     ]
    }
   ],
   "source": [
    "for i in range(1,6):\n",
    "    for j in range(6-i):\n",
    "        print('*',end=' ')\n",
    "    print()"
   ]
  },
  {
   "cell_type": "code",
   "execution_count": 5,
   "id": "1fe3ea66",
   "metadata": {},
   "outputs": [
    {
     "name": "stdout",
     "output_type": "stream",
     "text": [
      "1 1 1 1 1 \n",
      "1 1 1 1 1 \n",
      "1 1 1 1 1 \n",
      "1 1 1 1 1 \n"
     ]
    }
   ],
   "source": [
    "for i in range(1,5):\n",
    "    for j in range(1,6):\n",
    "        print('1',end=' ')\n",
    "    print()"
   ]
  },
  {
   "cell_type": "code",
   "execution_count": 4,
   "id": "6de45ecc",
   "metadata": {},
   "outputs": [
    {
     "name": "stdout",
     "output_type": "stream",
     "text": [
      "1 1 1 1 \n",
      "1 1 1 1 \n",
      "1 1 1 1 \n",
      "1 1 1 1 \n",
      "1 1 1 1 \n"
     ]
    }
   ],
   "source": [
    "for i in range(1,6):\n",
    "    for j in range(1,5):\n",
    "        print('1',end=' ')\n",
    "    print()"
   ]
  },
  {
   "cell_type": "code",
   "execution_count": 75,
   "id": "fcf0f264",
   "metadata": {},
   "outputs": [
    {
     "name": "stdout",
     "output_type": "stream",
     "text": [
      "1 1 1 1 1 \n",
      "1 1 1 1 1 \n",
      "1 1 1 1 1 \n",
      "1 1 1 1 1 \n",
      "1 1 1 1 1 \n"
     ]
    }
   ],
   "source": [
    "for i in range(1,6):\n",
    "    for j in range(1,6):\n",
    "        print('1',end=' ')\n",
    "    print()"
   ]
  },
  {
   "cell_type": "code",
   "execution_count": 83,
   "id": "d1a6ff6c",
   "metadata": {},
   "outputs": [
    {
     "name": "stdout",
     "output_type": "stream",
     "text": [
      "A A A A A \n",
      "A A A A A \n",
      "A A A A A \n",
      "A A A A A \n",
      "A A A A A \n"
     ]
    }
   ],
   "source": [
    "for i in range(1,6):\n",
    "    for j in range(1,6):\n",
    "        print('A',end=' ')\n",
    "    print()"
   ]
  },
  {
   "cell_type": "code",
   "execution_count": 2,
   "id": "ce44efad",
   "metadata": {},
   "outputs": [
    {
     "name": "stdout",
     "output_type": "stream",
     "text": [
      "0 0 0 0 0 \n",
      "1 1 1 1 1 \n",
      "2 2 2 2 2 \n",
      "3 3 3 3 3 \n",
      "4 4 4 4 4 \n"
     ]
    }
   ],
   "source": [
    "for i in range(5):\n",
    "    for j in range(5):\n",
    "        print(i,end=' ')\n",
    "    print()"
   ]
  },
  {
   "cell_type": "code",
   "execution_count": 1,
   "id": "ca4ff416",
   "metadata": {},
   "outputs": [
    {
     "name": "stdout",
     "output_type": "stream",
     "text": [
      "0 0 0 0 \n",
      "1 1 1 1 \n",
      "2 2 2 2 \n",
      "3 3 3 3 \n",
      "4 4 4 4 \n"
     ]
    }
   ],
   "source": [
    "for i in range(5):\n",
    "    for j in range(4):\n",
    "        print(i,end=' ')\n",
    "    print()"
   ]
  },
  {
   "cell_type": "code",
   "execution_count": 3,
   "id": "80aacfa5",
   "metadata": {},
   "outputs": [
    {
     "name": "stdout",
     "output_type": "stream",
     "text": [
      "0 1 2 3 4 \n",
      "0 1 2 3 4 \n",
      "0 1 2 3 4 \n",
      "0 1 2 3 4 \n",
      "0 1 2 3 4 \n"
     ]
    }
   ],
   "source": [
    "for i in range(5):\n",
    "    for j in range(5):\n",
    "        print(j,end=' ')\n",
    "    print()"
   ]
  },
  {
   "cell_type": "code",
   "execution_count": 14,
   "id": "179d208d",
   "metadata": {},
   "outputs": [
    {
     "name": "stdout",
     "output_type": "stream",
     "text": [
      "0 1 2 3 4 \n",
      "0 1 2 3 4 \n",
      "0 1 2 3 4 \n",
      "0 1 2 3 4 \n"
     ]
    }
   ],
   "source": [
    "for i in range(4):\n",
    "    for j in range(5):\n",
    "        print(j,end=' ')\n",
    "    print()"
   ]
  },
  {
   "cell_type": "code",
   "execution_count": 2,
   "id": "8a86d656",
   "metadata": {},
   "outputs": [
    {
     "name": "stdout",
     "output_type": "stream",
     "text": [
      "0 0 0 0 0 \n",
      "1 1 1 1 1 \n",
      "2 2 2 2 2 \n",
      "3 3 3 3 3 \n"
     ]
    }
   ],
   "source": [
    "for i in range(4):\n",
    "    for j in range(5):\n",
    "        print(i,end=' ')\n",
    "    print()"
   ]
  },
  {
   "cell_type": "code",
   "execution_count": 4,
   "id": "d708376a",
   "metadata": {},
   "outputs": [
    {
     "name": "stdout",
     "output_type": "stream",
     "text": [
      "1 2 3 4 5 \n",
      "1 2 3 4 5 \n",
      "1 2 3 4 5 \n",
      "1 2 3 4 5 \n",
      "1 2 3 4 5 \n"
     ]
    }
   ],
   "source": [
    "for i in range(5):\n",
    "    for j in range(5):\n",
    "        print(j+1,end=' ')\n",
    "    print()"
   ]
  },
  {
   "cell_type": "code",
   "execution_count": 15,
   "id": "86961e43",
   "metadata": {},
   "outputs": [
    {
     "name": "stdout",
     "output_type": "stream",
     "text": [
      "1 1 1 1 1 \n",
      "2 2 2 2 2 \n",
      "3 3 3 3 3 \n",
      "4 4 4 4 4 \n",
      "5 5 5 5 5 \n"
     ]
    }
   ],
   "source": [
    "for i in range(5):\n",
    "    for j in range(5):\n",
    "        print(i+1,end=' ')\n",
    "    print()"
   ]
  },
  {
   "cell_type": "code",
   "execution_count": 5,
   "id": "57c65c40",
   "metadata": {},
   "outputs": [
    {
     "name": "stdout",
     "output_type": "stream",
     "text": [
      "1 \n",
      "1 2 \n",
      "1 2 3 \n",
      "1 2 3 4 \n",
      "1 2 3 4 5 \n"
     ]
    }
   ],
   "source": [
    "for i in range(1,6):\n",
    "    for j in range(i):\n",
    "        print(j+1,end=' ')\n",
    "    print()"
   ]
  },
  {
   "cell_type": "code",
   "execution_count": 8,
   "id": "4d7f58e0",
   "metadata": {},
   "outputs": [
    {
     "name": "stdout",
     "output_type": "stream",
     "text": [
      "A B C D E \n",
      "F G H I J \n",
      "K L M N O \n",
      "P Q R S T \n",
      "U V W X Y \n"
     ]
    }
   ],
   "source": [
    "k=65\n",
    "for i in range(5):\n",
    "    for j in range(5):\n",
    "        print(chr(k),end=' ')\n",
    "        k = k + 1  \n",
    "    print()"
   ]
  },
  {
   "cell_type": "code",
   "execution_count": 11,
   "id": "2c3ceac1",
   "metadata": {},
   "outputs": [
    {
     "name": "stdout",
     "output_type": "stream",
     "text": [
      "\n",
      "A \n",
      "B C \n",
      "D E F \n",
      "G H I J \n",
      "K L M N O \n"
     ]
    }
   ],
   "source": [
    "k = 65\n",
    "for i in range(6):\n",
    "    for j in range(i): \n",
    "        print(chr(k),end=' ')\n",
    "        k = k + 1\n",
    "    print()"
   ]
  },
  {
   "cell_type": "code",
   "execution_count": null,
   "id": "1425e9a4",
   "metadata": {},
   "outputs": [],
   "source": [
    "Tip:\n",
    "If shape of the pattern is same, for loop conditions will remain same. There will be change in print statement only."
   ]
  }
 ],
 "metadata": {
  "kernelspec": {
   "display_name": "Python 3 (ipykernel)",
   "language": "python",
   "name": "python3"
  },
  "language_info": {
   "codemirror_mode": {
    "name": "ipython",
    "version": 3
   },
   "file_extension": ".py",
   "mimetype": "text/x-python",
   "name": "python",
   "nbconvert_exporter": "python",
   "pygments_lexer": "ipython3",
   "version": "3.9.12"
  }
 },
 "nbformat": 4,
 "nbformat_minor": 5
}
