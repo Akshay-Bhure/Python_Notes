{
 "cells": [
  {
   "cell_type": "markdown",
   "id": "6437bf9b",
   "metadata": {},
   "source": [
    "# Tuple"
   ]
  },
  {
   "cell_type": "raw",
   "id": "541a454d",
   "metadata": {},
   "source": [
    "a=What is Tuple?\n",
    "Tuple is sequence data type in python.\n",
    "It is used to store different data types >> int, float, string, list,dict etc.\n",
    "Tuples are comma seperated.(7,)>>Tuple.()>>Tuple\n",
    "Tuples does allow duplicate elements.\n",
    "Tuples are immutable.\n",
    "      The values of item stored in tuple at any index can not be modified, change or delete.\n",
    "Tuples are ordered.\n",
    "Tuples are enclosed with round bracket.\n",
    "Tuples are faster than list.\n",
    "It requires less memory."
   ]
  },
  {
   "cell_type": "code",
   "execution_count": 14,
   "id": "f0feab18",
   "metadata": {},
   "outputs": [
    {
     "data": {
      "text/plain": [
       "3"
      ]
     },
     "execution_count": 14,
     "metadata": {},
     "output_type": "execute_result"
    }
   ],
   "source": [
    "a=(3)\n",
    "a"
   ]
  },
  {
   "cell_type": "code",
   "execution_count": 15,
   "id": "c98260de",
   "metadata": {},
   "outputs": [
    {
     "data": {
      "text/plain": [
       "int"
      ]
     },
     "execution_count": 15,
     "metadata": {},
     "output_type": "execute_result"
    }
   ],
   "source": [
    "type(a)"
   ]
  },
  {
   "cell_type": "code",
   "execution_count": 16,
   "id": "1b438078",
   "metadata": {},
   "outputs": [],
   "source": [
    "a=('radha')"
   ]
  },
  {
   "cell_type": "code",
   "execution_count": 17,
   "id": "8ed93fae",
   "metadata": {},
   "outputs": [
    {
     "data": {
      "text/plain": [
       "'radha'"
      ]
     },
     "execution_count": 17,
     "metadata": {},
     "output_type": "execute_result"
    }
   ],
   "source": [
    "a"
   ]
  },
  {
   "cell_type": "code",
   "execution_count": 18,
   "id": "749971a7",
   "metadata": {},
   "outputs": [
    {
     "data": {
      "text/plain": [
       "str"
      ]
     },
     "execution_count": 18,
     "metadata": {},
     "output_type": "execute_result"
    }
   ],
   "source": [
    "type(a)"
   ]
  },
  {
   "cell_type": "code",
   "execution_count": 29,
   "id": "5911b6e2",
   "metadata": {},
   "outputs": [],
   "source": [
    "a=[45,4,567,45,6]"
   ]
  },
  {
   "cell_type": "code",
   "execution_count": 30,
   "id": "ccbcc758",
   "metadata": {},
   "outputs": [
    {
     "data": {
      "text/plain": [
       "list"
      ]
     },
     "execution_count": 30,
     "metadata": {},
     "output_type": "execute_result"
    }
   ],
   "source": [
    "type(a)"
   ]
  },
  {
   "cell_type": "code",
   "execution_count": 3,
   "id": "034cdd9a",
   "metadata": {},
   "outputs": [],
   "source": [
    "a='inter','preted','language','python'"
   ]
  },
  {
   "cell_type": "code",
   "execution_count": 4,
   "id": "e466dc9f",
   "metadata": {},
   "outputs": [
    {
     "data": {
      "text/plain": [
       "tuple"
      ]
     },
     "execution_count": 4,
     "metadata": {},
     "output_type": "execute_result"
    }
   ],
   "source": [
    "type(a)"
   ]
  },
  {
   "cell_type": "code",
   "execution_count": 19,
   "id": "32037fde",
   "metadata": {},
   "outputs": [],
   "source": [
    "a=(3,)"
   ]
  },
  {
   "cell_type": "code",
   "execution_count": 20,
   "id": "3c644aed",
   "metadata": {},
   "outputs": [
    {
     "data": {
      "text/plain": [
       "(3,)"
      ]
     },
     "execution_count": 20,
     "metadata": {},
     "output_type": "execute_result"
    }
   ],
   "source": [
    "a"
   ]
  },
  {
   "cell_type": "code",
   "execution_count": 21,
   "id": "22bf491a",
   "metadata": {},
   "outputs": [
    {
     "data": {
      "text/plain": [
       "tuple"
      ]
     },
     "execution_count": 21,
     "metadata": {},
     "output_type": "execute_result"
    }
   ],
   "source": [
    "type(a)"
   ]
  },
  {
   "cell_type": "code",
   "execution_count": 1,
   "id": "4bcb3e07",
   "metadata": {},
   "outputs": [],
   "source": [
    "a=()"
   ]
  },
  {
   "cell_type": "code",
   "execution_count": 2,
   "id": "825afd78",
   "metadata": {},
   "outputs": [
    {
     "data": {
      "text/plain": [
       "tuple"
      ]
     },
     "execution_count": 2,
     "metadata": {},
     "output_type": "execute_result"
    }
   ],
   "source": [
    "type(a)"
   ]
  },
  {
   "cell_type": "code",
   "execution_count": 22,
   "id": "db98d610",
   "metadata": {},
   "outputs": [
    {
     "data": {
      "text/plain": [
       "tuple"
      ]
     },
     "execution_count": 22,
     "metadata": {},
     "output_type": "execute_result"
    }
   ],
   "source": [
    "a=(1,2,34,5)\n",
    "type(a)"
   ]
  },
  {
   "cell_type": "code",
   "execution_count": 23,
   "id": "db6a1305",
   "metadata": {},
   "outputs": [],
   "source": [
    "a=('radha','ami','remio')"
   ]
  },
  {
   "cell_type": "code",
   "execution_count": 24,
   "id": "48edd033",
   "metadata": {},
   "outputs": [
    {
     "data": {
      "text/plain": [
       "('radha', 'ami', 'remio')"
      ]
     },
     "execution_count": 24,
     "metadata": {},
     "output_type": "execute_result"
    }
   ],
   "source": [
    "a"
   ]
  },
  {
   "cell_type": "code",
   "execution_count": 25,
   "id": "c75b4794",
   "metadata": {},
   "outputs": [
    {
     "data": {
      "text/plain": [
       "tuple"
      ]
     },
     "execution_count": 25,
     "metadata": {},
     "output_type": "execute_result"
    }
   ],
   "source": [
    "type(a)"
   ]
  },
  {
   "cell_type": "code",
   "execution_count": 26,
   "id": "225ecc7e",
   "metadata": {},
   "outputs": [],
   "source": [
    "a=(23,43,0.4,'rema',43,'jiy')"
   ]
  },
  {
   "cell_type": "code",
   "execution_count": 27,
   "id": "c24c07e2",
   "metadata": {},
   "outputs": [
    {
     "data": {
      "text/plain": [
       "(23, 43, 0.4, 'rema', 43, 'jiy')"
      ]
     },
     "execution_count": 27,
     "metadata": {},
     "output_type": "execute_result"
    }
   ],
   "source": [
    "a"
   ]
  },
  {
   "cell_type": "code",
   "execution_count": 28,
   "id": "c76daefd",
   "metadata": {},
   "outputs": [
    {
     "data": {
      "text/plain": [
       "tuple"
      ]
     },
     "execution_count": 28,
     "metadata": {},
     "output_type": "execute_result"
    }
   ],
   "source": [
    "type(a)"
   ]
  },
  {
   "cell_type": "code",
   "execution_count": 33,
   "id": "356794a7",
   "metadata": {},
   "outputs": [
    {
     "data": {
      "text/plain": [
       "23"
      ]
     },
     "execution_count": 33,
     "metadata": {},
     "output_type": "execute_result"
    }
   ],
   "source": [
    "b=(23,43,0.4,'rema',43,'jiy')\n",
    "b[0]"
   ]
  },
  {
   "cell_type": "code",
   "execution_count": 34,
   "id": "79cc2961",
   "metadata": {},
   "outputs": [
    {
     "data": {
      "text/plain": [
       "43"
      ]
     },
     "execution_count": 34,
     "metadata": {},
     "output_type": "execute_result"
    }
   ],
   "source": [
    "b[4]"
   ]
  },
  {
   "cell_type": "code",
   "execution_count": 35,
   "id": "24ae7114",
   "metadata": {},
   "outputs": [
    {
     "data": {
      "text/plain": [
       "'rema'"
      ]
     },
     "execution_count": 35,
     "metadata": {},
     "output_type": "execute_result"
    }
   ],
   "source": [
    "b[3]"
   ]
  },
  {
   "cell_type": "code",
   "execution_count": 55,
   "id": "568b6a8f",
   "metadata": {},
   "outputs": [],
   "source": [
    "list1=[12,34,56,78,90,76]"
   ]
  },
  {
   "cell_type": "code",
   "execution_count": 56,
   "id": "597c0930",
   "metadata": {},
   "outputs": [
    {
     "data": {
      "text/plain": [
       "[12, 34, 56, 78, 90, 76]"
      ]
     },
     "execution_count": 56,
     "metadata": {},
     "output_type": "execute_result"
    }
   ],
   "source": [
    "list1"
   ]
  },
  {
   "cell_type": "code",
   "execution_count": 57,
   "id": "293620b3",
   "metadata": {},
   "outputs": [
    {
     "data": {
      "text/plain": [
       "34"
      ]
     },
     "execution_count": 57,
     "metadata": {},
     "output_type": "execute_result"
    }
   ],
   "source": [
    "list1[1]"
   ]
  },
  {
   "cell_type": "code",
   "execution_count": 58,
   "id": "6f552dd7",
   "metadata": {},
   "outputs": [],
   "source": [
    "list1[1]=10"
   ]
  },
  {
   "cell_type": "code",
   "execution_count": 59,
   "id": "d801fc53",
   "metadata": {},
   "outputs": [
    {
     "data": {
      "text/plain": [
       "[12, 10, 56, 78, 90, 76]"
      ]
     },
     "execution_count": 59,
     "metadata": {},
     "output_type": "execute_result"
    }
   ],
   "source": [
    "list1"
   ]
  },
  {
   "cell_type": "code",
   "execution_count": 60,
   "id": "017c7ebd",
   "metadata": {},
   "outputs": [
    {
     "data": {
      "text/plain": [
       "[12, 10, 56, 78, 90, 76]"
      ]
     },
     "execution_count": 60,
     "metadata": {},
     "output_type": "execute_result"
    }
   ],
   "source": [
    "list1"
   ]
  },
  {
   "cell_type": "code",
   "execution_count": 61,
   "id": "12d6358b",
   "metadata": {},
   "outputs": [],
   "source": [
    "tup=(23,45,67,88,98)"
   ]
  },
  {
   "cell_type": "code",
   "execution_count": 62,
   "id": "82938653",
   "metadata": {},
   "outputs": [
    {
     "data": {
      "text/plain": [
       "23"
      ]
     },
     "execution_count": 62,
     "metadata": {},
     "output_type": "execute_result"
    }
   ],
   "source": [
    "tup[0]"
   ]
  },
  {
   "cell_type": "code",
   "execution_count": 63,
   "id": "1603acf7",
   "metadata": {},
   "outputs": [
    {
     "ename": "TypeError",
     "evalue": "'tuple' object does not support item assignment",
     "output_type": "error",
     "traceback": [
      "\u001b[1;31m---------------------------------------------------------------------------\u001b[0m",
      "\u001b[1;31mTypeError\u001b[0m                                 Traceback (most recent call last)",
      "Input \u001b[1;32mIn [63]\u001b[0m, in \u001b[0;36m<cell line: 1>\u001b[1;34m()\u001b[0m\n\u001b[1;32m----> 1\u001b[0m tup[\u001b[38;5;241m0\u001b[39m]\u001b[38;5;241m=\u001b[39m\u001b[38;5;241m10\u001b[39m\n",
      "\u001b[1;31mTypeError\u001b[0m: 'tuple' object does not support item assignment"
     ]
    }
   ],
   "source": [
    "tup[0]=10"
   ]
  },
  {
   "cell_type": "code",
   "execution_count": 65,
   "id": "582f00d6",
   "metadata": {},
   "outputs": [
    {
     "ename": "AttributeError",
     "evalue": "'tuple' object has no attribute 'append'",
     "output_type": "error",
     "traceback": [
      "\u001b[1;31m---------------------------------------------------------------------------\u001b[0m",
      "\u001b[1;31mAttributeError\u001b[0m                            Traceback (most recent call last)",
      "Input \u001b[1;32mIn [65]\u001b[0m, in \u001b[0;36m<cell line: 1>\u001b[1;34m()\u001b[0m\n\u001b[1;32m----> 1\u001b[0m \u001b[43mtup\u001b[49m\u001b[38;5;241;43m.\u001b[39;49m\u001b[43mappend\u001b[49m(\u001b[38;5;241m34\u001b[39m)\n",
      "\u001b[1;31mAttributeError\u001b[0m: 'tuple' object has no attribute 'append'"
     ]
    }
   ],
   "source": [
    "tup.append(34)"
   ]
  },
  {
   "cell_type": "code",
   "execution_count": 66,
   "id": "12b8e6e3",
   "metadata": {},
   "outputs": [
    {
     "data": {
      "text/plain": [
       "(23, 45, 67, 88, 98)"
      ]
     },
     "execution_count": 66,
     "metadata": {},
     "output_type": "execute_result"
    }
   ],
   "source": [
    "tup"
   ]
  },
  {
   "cell_type": "markdown",
   "id": "dcf3776e",
   "metadata": {},
   "source": [
    "### tuple constructor"
   ]
  },
  {
   "cell_type": "code",
   "execution_count": 69,
   "id": "a5f772d0",
   "metadata": {},
   "outputs": [],
   "source": [
    "str1='python'"
   ]
  },
  {
   "cell_type": "code",
   "execution_count": 76,
   "id": "590950d8",
   "metadata": {},
   "outputs": [
    {
     "name": "stdout",
     "output_type": "stream",
     "text": [
      "<class 'str'>\n"
     ]
    }
   ],
   "source": [
    "print(type(str1))"
   ]
  },
  {
   "cell_type": "code",
   "execution_count": 71,
   "id": "040f3b1c",
   "metadata": {},
   "outputs": [
    {
     "data": {
      "text/plain": [
       "('p', 'y', 't', 'h', 'o', 'n')"
      ]
     },
     "execution_count": 71,
     "metadata": {},
     "output_type": "execute_result"
    }
   ],
   "source": [
    "tuple(str1)"
   ]
  },
  {
   "cell_type": "code",
   "execution_count": 72,
   "id": "9f12a8ff",
   "metadata": {},
   "outputs": [
    {
     "data": {
      "text/plain": [
       "'python'"
      ]
     },
     "execution_count": 72,
     "metadata": {},
     "output_type": "execute_result"
    }
   ],
   "source": [
    "str1"
   ]
  },
  {
   "cell_type": "code",
   "execution_count": 73,
   "id": "33f86cfe",
   "metadata": {},
   "outputs": [],
   "source": [
    "str2='interpreted'\n",
    "tup2=tuple(str2)"
   ]
  },
  {
   "cell_type": "code",
   "execution_count": 74,
   "id": "1d8edfde",
   "metadata": {},
   "outputs": [
    {
     "data": {
      "text/plain": [
       "'interpreted'"
      ]
     },
     "execution_count": 74,
     "metadata": {},
     "output_type": "execute_result"
    }
   ],
   "source": [
    "str2"
   ]
  },
  {
   "cell_type": "code",
   "execution_count": 75,
   "id": "c614e109",
   "metadata": {},
   "outputs": [
    {
     "data": {
      "text/plain": [
       "('i', 'n', 't', 'e', 'r', 'p', 'r', 'e', 't', 'e', 'd')"
      ]
     },
     "execution_count": 75,
     "metadata": {},
     "output_type": "execute_result"
    }
   ],
   "source": [
    "tup2"
   ]
  },
  {
   "cell_type": "code",
   "execution_count": 189,
   "id": "7aa9c0d7",
   "metadata": {},
   "outputs": [
    {
     "data": {
      "text/plain": [
       "tuple"
      ]
     },
     "execution_count": 189,
     "metadata": {},
     "output_type": "execute_result"
    }
   ],
   "source": [
    "type(tup2)"
   ]
  },
  {
   "cell_type": "code",
   "execution_count": 82,
   "id": "b5d91e67",
   "metadata": {},
   "outputs": [],
   "source": [
    "list1=[23,43,55]\n",
    "tup2=tuple(list1)"
   ]
  },
  {
   "cell_type": "code",
   "execution_count": 83,
   "id": "80a53953",
   "metadata": {},
   "outputs": [
    {
     "name": "stdout",
     "output_type": "stream",
     "text": [
      "<class 'list'>\n"
     ]
    }
   ],
   "source": [
    "print(type(list1))"
   ]
  },
  {
   "cell_type": "code",
   "execution_count": 84,
   "id": "f360d040",
   "metadata": {},
   "outputs": [
    {
     "name": "stdout",
     "output_type": "stream",
     "text": [
      "[23, 43, 55]\n"
     ]
    }
   ],
   "source": [
    "print(list1)"
   ]
  },
  {
   "cell_type": "code",
   "execution_count": 87,
   "id": "5eee5d86",
   "metadata": {},
   "outputs": [
    {
     "data": {
      "text/plain": [
       "(23, 43, 55)"
      ]
     },
     "execution_count": 87,
     "metadata": {},
     "output_type": "execute_result"
    }
   ],
   "source": [
    "tup2"
   ]
  },
  {
   "cell_type": "code",
   "execution_count": 88,
   "id": "6b32bb07",
   "metadata": {},
   "outputs": [
    {
     "name": "stdout",
     "output_type": "stream",
     "text": [
      "(23, 43, 55)\n"
     ]
    }
   ],
   "source": [
    "print(tup2)"
   ]
  },
  {
   "cell_type": "code",
   "execution_count": 90,
   "id": "1ba3bdc1",
   "metadata": {},
   "outputs": [
    {
     "data": {
      "text/plain": [
       "tuple"
      ]
     },
     "execution_count": 90,
     "metadata": {},
     "output_type": "execute_result"
    }
   ],
   "source": [
    "type(tup2)"
   ]
  },
  {
   "cell_type": "code",
   "execution_count": 89,
   "id": "cfd58c5f",
   "metadata": {},
   "outputs": [
    {
     "name": "stdout",
     "output_type": "stream",
     "text": [
      "(1, 5, 9) <class 'tuple'>\n"
     ]
    }
   ],
   "source": [
    "list1 = [1,5,9]\n",
    "tup4 = tuple(list1)\n",
    "print(tup4, type(tup4))"
   ]
  },
  {
   "cell_type": "markdown",
   "id": "b5e47d85",
   "metadata": {},
   "source": [
    "### Indexing and slicing and step slicing"
   ]
  },
  {
   "cell_type": "raw",
   "id": "3bd7e329",
   "metadata": {},
   "source": [
    "same indexing and slicing as list and string"
   ]
  },
  {
   "cell_type": "code",
   "execution_count": 3,
   "id": "81ab7271",
   "metadata": {},
   "outputs": [],
   "source": [
    "tup1=(23,43,56,78,98,34,0.4)"
   ]
  },
  {
   "cell_type": "code",
   "execution_count": 92,
   "id": "cb8e9880",
   "metadata": {},
   "outputs": [
    {
     "data": {
      "text/plain": [
       "tuple"
      ]
     },
     "execution_count": 92,
     "metadata": {},
     "output_type": "execute_result"
    }
   ],
   "source": [
    "type(tup1)"
   ]
  },
  {
   "cell_type": "code",
   "execution_count": 93,
   "id": "0f77d74c",
   "metadata": {},
   "outputs": [
    {
     "data": {
      "text/plain": [
       "7"
      ]
     },
     "execution_count": 93,
     "metadata": {},
     "output_type": "execute_result"
    }
   ],
   "source": [
    "len(tup1)"
   ]
  },
  {
   "cell_type": "code",
   "execution_count": 96,
   "id": "1ffde586",
   "metadata": {},
   "outputs": [
    {
     "name": "stdout",
     "output_type": "stream",
     "text": [
      "0.4\n"
     ]
    }
   ],
   "source": [
    "print(tup1[6])"
   ]
  },
  {
   "cell_type": "code",
   "execution_count": 97,
   "id": "aa1d0678",
   "metadata": {},
   "outputs": [
    {
     "data": {
      "text/plain": [
       "0.4"
      ]
     },
     "execution_count": 97,
     "metadata": {},
     "output_type": "execute_result"
    }
   ],
   "source": [
    "tup1[6]"
   ]
  },
  {
   "cell_type": "code",
   "execution_count": 98,
   "id": "3db67619",
   "metadata": {},
   "outputs": [
    {
     "name": "stdout",
     "output_type": "stream",
     "text": [
      "43\n"
     ]
    }
   ],
   "source": [
    "print(tup1[-6])"
   ]
  },
  {
   "cell_type": "code",
   "execution_count": 99,
   "id": "60a6cdc9",
   "metadata": {},
   "outputs": [
    {
     "name": "stdout",
     "output_type": "stream",
     "text": [
      "0.4\n"
     ]
    }
   ],
   "source": [
    "print(tup1[-1])"
   ]
  },
  {
   "cell_type": "code",
   "execution_count": 100,
   "id": "e88a2783",
   "metadata": {},
   "outputs": [
    {
     "name": "stdout",
     "output_type": "stream",
     "text": [
      "23\n"
     ]
    }
   ],
   "source": [
    "print(tup1[-0])"
   ]
  },
  {
   "cell_type": "code",
   "execution_count": 101,
   "id": "bf04b946",
   "metadata": {},
   "outputs": [
    {
     "name": "stdout",
     "output_type": "stream",
     "text": [
      "23\n"
     ]
    }
   ],
   "source": [
    "print(tup1[-7])"
   ]
  },
  {
   "cell_type": "code",
   "execution_count": 102,
   "id": "5137796a",
   "metadata": {},
   "outputs": [
    {
     "name": "stdout",
     "output_type": "stream",
     "text": [
      "78\n"
     ]
    }
   ],
   "source": [
    "print(tup1[3])"
   ]
  },
  {
   "cell_type": "code",
   "execution_count": 104,
   "id": "85c5ac47",
   "metadata": {},
   "outputs": [
    {
     "name": "stdout",
     "output_type": "stream",
     "text": [
      "(23, 43, 56)\n"
     ]
    }
   ],
   "source": [
    "print(tup1[0:3])"
   ]
  },
  {
   "cell_type": "code",
   "execution_count": 105,
   "id": "36834a25",
   "metadata": {},
   "outputs": [],
   "source": [
    "tup1=(23,43,56,78,98,34,0.4)"
   ]
  },
  {
   "cell_type": "code",
   "execution_count": 106,
   "id": "8600c05c",
   "metadata": {},
   "outputs": [
    {
     "name": "stdout",
     "output_type": "stream",
     "text": [
      "(23, 43, 56, 78, 98, 34)\n"
     ]
    }
   ],
   "source": [
    "print(tup1[0:6])"
   ]
  },
  {
   "cell_type": "code",
   "execution_count": 107,
   "id": "60bcfae9",
   "metadata": {},
   "outputs": [
    {
     "name": "stdout",
     "output_type": "stream",
     "text": [
      "(23, 43, 56, 78, 98, 34, 0.4)\n"
     ]
    }
   ],
   "source": [
    "print(tup1[0:8])"
   ]
  },
  {
   "cell_type": "code",
   "execution_count": 108,
   "id": "792a4d8e",
   "metadata": {},
   "outputs": [
    {
     "name": "stdout",
     "output_type": "stream",
     "text": [
      "(23, 43, 56)\n"
     ]
    }
   ],
   "source": [
    "print(tup1[0:-4])"
   ]
  },
  {
   "cell_type": "code",
   "execution_count": 109,
   "id": "a31b98e9",
   "metadata": {},
   "outputs": [
    {
     "name": "stdout",
     "output_type": "stream",
     "text": [
      "(23,)\n"
     ]
    }
   ],
   "source": [
    "print(tup1[0:-6])"
   ]
  },
  {
   "cell_type": "code",
   "execution_count": 111,
   "id": "617dadb7",
   "metadata": {},
   "outputs": [
    {
     "name": "stdout",
     "output_type": "stream",
     "text": [
      "(23, 43)\n"
     ]
    }
   ],
   "source": [
    "print(tup1[0:-5])"
   ]
  },
  {
   "cell_type": "code",
   "execution_count": 112,
   "id": "d617cd84",
   "metadata": {},
   "outputs": [
    {
     "name": "stdout",
     "output_type": "stream",
     "text": [
      "(43, 56)\n"
     ]
    }
   ],
   "source": [
    "print(tup1[1:-4])"
   ]
  },
  {
   "cell_type": "code",
   "execution_count": 114,
   "id": "dbe095b4",
   "metadata": {},
   "outputs": [
    {
     "name": "stdout",
     "output_type": "stream",
     "text": [
      "(43,)\n"
     ]
    }
   ],
   "source": [
    "print(tup1[1:-5])"
   ]
  },
  {
   "cell_type": "code",
   "execution_count": 115,
   "id": "575fe559",
   "metadata": {},
   "outputs": [
    {
     "name": "stdout",
     "output_type": "stream",
     "text": [
      "(23, 43, 56, 78, 98, 34, 0.4)\n"
     ]
    }
   ],
   "source": [
    "print(tup1[0:])"
   ]
  },
  {
   "cell_type": "code",
   "execution_count": 116,
   "id": "996ab797",
   "metadata": {},
   "outputs": [
    {
     "name": "stdout",
     "output_type": "stream",
     "text": [
      "(23, 43, 56, 78, 98, 34, 0.4)\n"
     ]
    }
   ],
   "source": [
    "print(tup1[:8])"
   ]
  },
  {
   "cell_type": "code",
   "execution_count": 117,
   "id": "26abc113",
   "metadata": {},
   "outputs": [
    {
     "name": "stdout",
     "output_type": "stream",
     "text": [
      "(23, 43, 56, 78, 98, 34, 0.4)\n"
     ]
    }
   ],
   "source": [
    "print(tup1[:])"
   ]
  },
  {
   "cell_type": "code",
   "execution_count": 118,
   "id": "b2766815",
   "metadata": {},
   "outputs": [
    {
     "name": "stdout",
     "output_type": "stream",
     "text": [
      "(23, 43, 56, 78, 98, 34)\n"
     ]
    }
   ],
   "source": [
    "print(tup1[-7:-1])"
   ]
  },
  {
   "cell_type": "code",
   "execution_count": 119,
   "id": "b72ae2fc",
   "metadata": {},
   "outputs": [
    {
     "name": "stdout",
     "output_type": "stream",
     "text": [
      "(23, 43, 56, 78)\n"
     ]
    }
   ],
   "source": [
    "print(tup1[-7:-3])"
   ]
  },
  {
   "cell_type": "code",
   "execution_count": 125,
   "id": "86161228",
   "metadata": {},
   "outputs": [
    {
     "name": "stdout",
     "output_type": "stream",
     "text": [
      "78\n"
     ]
    }
   ],
   "source": [
    "print(tup1[len(tup1)-4])"
   ]
  },
  {
   "cell_type": "code",
   "execution_count": 5,
   "id": "767e5aec",
   "metadata": {},
   "outputs": [
    {
     "name": "stdout",
     "output_type": "stream",
     "text": [
      "[3]\n"
     ]
    }
   ],
   "source": [
    "print([len(tup1)-4])"
   ]
  },
  {
   "cell_type": "code",
   "execution_count": 124,
   "id": "862a73a4",
   "metadata": {},
   "outputs": [
    {
     "data": {
      "text/plain": [
       "78"
      ]
     },
     "execution_count": 124,
     "metadata": {},
     "output_type": "execute_result"
    }
   ],
   "source": [
    "tup1[3]"
   ]
  },
  {
   "cell_type": "code",
   "execution_count": 123,
   "id": "823a6d9c",
   "metadata": {},
   "outputs": [
    {
     "data": {
      "text/plain": [
       "78"
      ]
     },
     "execution_count": 123,
     "metadata": {},
     "output_type": "execute_result"
    }
   ],
   "source": [
    "tup1[-4]"
   ]
  },
  {
   "cell_type": "code",
   "execution_count": 127,
   "id": "e7ff99a1",
   "metadata": {},
   "outputs": [
    {
     "name": "stdout",
     "output_type": "stream",
     "text": [
      "(23, 43, 56, 78, 98, 34, 0.4)\n"
     ]
    }
   ],
   "source": [
    "print(tup1[::1])"
   ]
  },
  {
   "cell_type": "code",
   "execution_count": 128,
   "id": "081beb2d",
   "metadata": {},
   "outputs": [
    {
     "name": "stdout",
     "output_type": "stream",
     "text": [
      "(0.4, 34, 98, 78, 56, 43, 23)\n"
     ]
    }
   ],
   "source": [
    "print(tup1[::-1])"
   ]
  },
  {
   "cell_type": "code",
   "execution_count": 129,
   "id": "b37097b6",
   "metadata": {},
   "outputs": [
    {
     "name": "stdout",
     "output_type": "stream",
     "text": [
      "(23, 56, 98, 0.4)\n"
     ]
    }
   ],
   "source": [
    "print(tup1[::2])"
   ]
  },
  {
   "cell_type": "code",
   "execution_count": 130,
   "id": "5b64de53",
   "metadata": {},
   "outputs": [
    {
     "name": "stdout",
     "output_type": "stream",
     "text": [
      "(0.4, 98, 56, 23)\n"
     ]
    }
   ],
   "source": [
    "print(tup1[::-2])"
   ]
  },
  {
   "cell_type": "code",
   "execution_count": 131,
   "id": "eef36d99",
   "metadata": {},
   "outputs": [
    {
     "name": "stdout",
     "output_type": "stream",
     "text": [
      "(56, 98, 0.4)\n"
     ]
    }
   ],
   "source": [
    "print(tup1[2:7:2])"
   ]
  },
  {
   "cell_type": "code",
   "execution_count": 132,
   "id": "868f6a8b",
   "metadata": {},
   "outputs": [
    {
     "name": "stdout",
     "output_type": "stream",
     "text": [
      "(23, 56, 98)\n"
     ]
    }
   ],
   "source": [
    "print(tup1[-7:-2:2])"
   ]
  },
  {
   "cell_type": "code",
   "execution_count": 133,
   "id": "fafbdf57",
   "metadata": {},
   "outputs": [
    {
     "name": "stdout",
     "output_type": "stream",
     "text": [
      "()\n"
     ]
    }
   ],
   "source": [
    "print(tup1[-7:-2:-2])"
   ]
  },
  {
   "cell_type": "code",
   "execution_count": 9,
   "id": "d2b1df8e",
   "metadata": {},
   "outputs": [],
   "source": [
    "tup2=(3,2,34,5)\n",
    "tup1=(1,23,45,3)"
   ]
  },
  {
   "cell_type": "code",
   "execution_count": 8,
   "id": "03ff3bc9",
   "metadata": {},
   "outputs": [
    {
     "data": {
      "text/plain": [
       "(3, 2, 34, 5)"
      ]
     },
     "execution_count": 8,
     "metadata": {},
     "output_type": "execute_result"
    }
   ],
   "source": [
    "tup2"
   ]
  },
  {
   "cell_type": "code",
   "execution_count": 138,
   "id": "1826eaf8",
   "metadata": {},
   "outputs": [],
   "source": [
    "tup2=tup1*2"
   ]
  },
  {
   "cell_type": "code",
   "execution_count": 139,
   "id": "a6796e8c",
   "metadata": {},
   "outputs": [
    {
     "data": {
      "text/plain": [
       "(1, 23, 45, 3, 1, 23, 45, 3)"
      ]
     },
     "execution_count": 139,
     "metadata": {},
     "output_type": "execute_result"
    }
   ],
   "source": [
    "tup2"
   ]
  },
  {
   "cell_type": "code",
   "execution_count": 140,
   "id": "9f2d9c7c",
   "metadata": {},
   "outputs": [
    {
     "data": {
      "text/plain": [
       "(1, 23, 45, 3)"
      ]
     },
     "execution_count": 140,
     "metadata": {},
     "output_type": "execute_result"
    }
   ],
   "source": [
    "tup1"
   ]
  },
  {
   "cell_type": "code",
   "execution_count": 10,
   "id": "15671ec4",
   "metadata": {},
   "outputs": [
    {
     "ename": "TypeError",
     "evalue": "can't multiply sequence by non-int of type 'tuple'",
     "output_type": "error",
     "traceback": [
      "\u001b[1;31m---------------------------------------------------------------------------\u001b[0m",
      "\u001b[1;31mTypeError\u001b[0m                                 Traceback (most recent call last)",
      "Input \u001b[1;32mIn [10]\u001b[0m, in \u001b[0;36m<cell line: 1>\u001b[1;34m()\u001b[0m\n\u001b[1;32m----> 1\u001b[0m tup3\u001b[38;5;241m=\u001b[39m\u001b[43mtup2\u001b[49m\u001b[38;5;241;43m*\u001b[39;49m\u001b[43mtup1\u001b[49m\n",
      "\u001b[1;31mTypeError\u001b[0m: can't multiply sequence by non-int of type 'tuple'"
     ]
    }
   ],
   "source": [
    "tup3=tup2*tup1"
   ]
  },
  {
   "cell_type": "markdown",
   "id": "da1b6790",
   "metadata": {},
   "source": [
    "### tuple functions"
   ]
  },
  {
   "cell_type": "code",
   "execution_count": null,
   "id": "da8169e4",
   "metadata": {},
   "outputs": [],
   "source": [
    "1.index()\n",
    "2.del()\n",
    "3.min()\n",
    "4.max()\n",
    "5.sum()\n",
    "6.sorted()\n",
    "7.reversed()\n",
    "8.count()\n",
    "9.len()"
   ]
  },
  {
   "cell_type": "markdown",
   "id": "af4968ba",
   "metadata": {},
   "source": [
    "### index()"
   ]
  },
  {
   "cell_type": "code",
   "execution_count": 1,
   "id": "76e30a2e",
   "metadata": {},
   "outputs": [
    {
     "data": {
      "text/plain": [
       "(1, 5, 'Python', [2, 3], {1, 4, 7})"
      ]
     },
     "execution_count": 1,
     "metadata": {},
     "output_type": "execute_result"
    }
   ],
   "source": [
    "tup = (1,5,'Python',[2,3],{1,4,7})\n",
    "tup"
   ]
  },
  {
   "cell_type": "code",
   "execution_count": 2,
   "id": "45a08887",
   "metadata": {},
   "outputs": [
    {
     "data": {
      "text/plain": [
       "1"
      ]
     },
     "execution_count": 2,
     "metadata": {},
     "output_type": "execute_result"
    }
   ],
   "source": [
    "tup.index(5)"
   ]
  },
  {
   "cell_type": "code",
   "execution_count": 3,
   "id": "f8eabc77",
   "metadata": {},
   "outputs": [
    {
     "ename": "ValueError",
     "evalue": "tuple.index(x): x not in tuple",
     "output_type": "error",
     "traceback": [
      "\u001b[1;31m---------------------------------------------------------------------------\u001b[0m",
      "\u001b[1;31mValueError\u001b[0m                                Traceback (most recent call last)",
      "Input \u001b[1;32mIn [3]\u001b[0m, in \u001b[0;36m<cell line: 1>\u001b[1;34m()\u001b[0m\n\u001b[1;32m----> 1\u001b[0m \u001b[43mtup\u001b[49m\u001b[38;5;241;43m.\u001b[39;49m\u001b[43mindex\u001b[49m\u001b[43m(\u001b[49m\u001b[38;5;241;43m3\u001b[39;49m\u001b[43m)\u001b[49m\n",
      "\u001b[1;31mValueError\u001b[0m: tuple.index(x): x not in tuple"
     ]
    }
   ],
   "source": [
    "tup.index(3)"
   ]
  },
  {
   "cell_type": "code",
   "execution_count": 147,
   "id": "99bd83a0",
   "metadata": {},
   "outputs": [
    {
     "ename": "ValueError",
     "evalue": "tuple.index(x): x not in tuple",
     "output_type": "error",
     "traceback": [
      "\u001b[1;31m---------------------------------------------------------------------------\u001b[0m",
      "\u001b[1;31mValueError\u001b[0m                                Traceback (most recent call last)",
      "Input \u001b[1;32mIn [147]\u001b[0m, in \u001b[0;36m<cell line: 1>\u001b[1;34m()\u001b[0m\n\u001b[1;32m----> 1\u001b[0m \u001b[43mtup\u001b[49m\u001b[38;5;241;43m.\u001b[39;49m\u001b[43mindex\u001b[49m\u001b[43m(\u001b[49m\u001b[38;5;124;43m'\u001b[39;49m\u001b[38;5;124;43mp\u001b[39;49m\u001b[38;5;124;43m'\u001b[39;49m\u001b[43m)\u001b[49m\n",
      "\u001b[1;31mValueError\u001b[0m: tuple.index(x): x not in tuple"
     ]
    }
   ],
   "source": [
    "tup.index('p')"
   ]
  },
  {
   "cell_type": "code",
   "execution_count": 148,
   "id": "6593e528",
   "metadata": {},
   "outputs": [
    {
     "ename": "ValueError",
     "evalue": "tuple.index(x): x not in tuple",
     "output_type": "error",
     "traceback": [
      "\u001b[1;31m---------------------------------------------------------------------------\u001b[0m",
      "\u001b[1;31mValueError\u001b[0m                                Traceback (most recent call last)",
      "Input \u001b[1;32mIn [148]\u001b[0m, in \u001b[0;36m<cell line: 1>\u001b[1;34m()\u001b[0m\n\u001b[1;32m----> 1\u001b[0m \u001b[43mtup\u001b[49m\u001b[38;5;241;43m.\u001b[39;49m\u001b[43mindex\u001b[49m\u001b[43m(\u001b[49m\u001b[38;5;124;43m'\u001b[39;49m\u001b[38;5;124;43mpython\u001b[39;49m\u001b[38;5;124;43m'\u001b[39;49m\u001b[43m)\u001b[49m\n",
      "\u001b[1;31mValueError\u001b[0m: tuple.index(x): x not in tuple"
     ]
    }
   ],
   "source": [
    "tup.index('python')"
   ]
  },
  {
   "cell_type": "code",
   "execution_count": 149,
   "id": "9b461172",
   "metadata": {},
   "outputs": [
    {
     "data": {
      "text/plain": [
       "2"
      ]
     },
     "execution_count": 149,
     "metadata": {},
     "output_type": "execute_result"
    }
   ],
   "source": [
    "tup.index('Python')"
   ]
  },
  {
   "cell_type": "code",
   "execution_count": 150,
   "id": "8dc17bde",
   "metadata": {},
   "outputs": [
    {
     "data": {
      "text/plain": [
       "3"
      ]
     },
     "execution_count": 150,
     "metadata": {},
     "output_type": "execute_result"
    }
   ],
   "source": [
    "tup.index([2,3])"
   ]
  },
  {
   "cell_type": "markdown",
   "id": "4f48a76e",
   "metadata": {},
   "source": [
    "### count()"
   ]
  },
  {
   "cell_type": "code",
   "execution_count": 151,
   "id": "9214a131",
   "metadata": {},
   "outputs": [
    {
     "data": {
      "text/plain": [
       "(1, 5, 'Python', [2, 3], {1, 4, 7})"
      ]
     },
     "execution_count": 151,
     "metadata": {},
     "output_type": "execute_result"
    }
   ],
   "source": [
    "tup = (1,5,'Python',[2,3],{1,4,7})\n",
    "tup"
   ]
  },
  {
   "cell_type": "code",
   "execution_count": 152,
   "id": "e7c4d6a4",
   "metadata": {},
   "outputs": [
    {
     "data": {
      "text/plain": [
       "1"
      ]
     },
     "execution_count": 152,
     "metadata": {},
     "output_type": "execute_result"
    }
   ],
   "source": [
    "tup.count(5)"
   ]
  },
  {
   "cell_type": "code",
   "execution_count": 153,
   "id": "6ca69b06",
   "metadata": {},
   "outputs": [
    {
     "data": {
      "text/plain": [
       "0"
      ]
     },
     "execution_count": 153,
     "metadata": {},
     "output_type": "execute_result"
    }
   ],
   "source": [
    "tup.count('P')"
   ]
  },
  {
   "cell_type": "code",
   "execution_count": 154,
   "id": "9f51f56d",
   "metadata": {},
   "outputs": [
    {
     "data": {
      "text/plain": [
       "1"
      ]
     },
     "execution_count": 154,
     "metadata": {},
     "output_type": "execute_result"
    }
   ],
   "source": [
    "tup.count('Python')"
   ]
  },
  {
   "cell_type": "code",
   "execution_count": 156,
   "id": "b93ac63c",
   "metadata": {},
   "outputs": [
    {
     "data": {
      "text/plain": [
       "(1, 5, 'Python', 3, 2, 4, [2, 3], {1, 4, 7})"
      ]
     },
     "execution_count": 156,
     "metadata": {},
     "output_type": "execute_result"
    }
   ],
   "source": [
    "tup = (1,5,'Python',3,2,4,[2,3],{1,4,7})\n",
    "tup"
   ]
  },
  {
   "cell_type": "code",
   "execution_count": 157,
   "id": "19705cc3",
   "metadata": {},
   "outputs": [
    {
     "data": {
      "text/plain": [
       "1"
      ]
     },
     "execution_count": 157,
     "metadata": {},
     "output_type": "execute_result"
    }
   ],
   "source": [
    "tup.count(4)"
   ]
  },
  {
   "cell_type": "code",
   "execution_count": 160,
   "id": "ecc61bf1",
   "metadata": {},
   "outputs": [
    {
     "data": {
      "text/plain": [
       "(1, 5, 3, 4, 2, 'Python', 3, 2, 4, [2, 3], {1, 4, 7})"
      ]
     },
     "execution_count": 160,
     "metadata": {},
     "output_type": "execute_result"
    }
   ],
   "source": [
    "tup = (1,5,3,4,2,'Python',3,2,4,[2,3],{1,4,7})\n",
    "tup"
   ]
  },
  {
   "cell_type": "code",
   "execution_count": 161,
   "id": "997a83a0",
   "metadata": {},
   "outputs": [
    {
     "data": {
      "text/plain": [
       "2"
      ]
     },
     "execution_count": 161,
     "metadata": {},
     "output_type": "execute_result"
    }
   ],
   "source": [
    "tup.count(4)"
   ]
  },
  {
   "cell_type": "code",
   "execution_count": 4,
   "id": "7f6a75b4",
   "metadata": {},
   "outputs": [
    {
     "data": {
      "text/plain": [
       "(1, 5, 3, 2, 'Python', 3, 2, [2, 3], {1, 4, 7})"
      ]
     },
     "execution_count": 4,
     "metadata": {},
     "output_type": "execute_result"
    }
   ],
   "source": [
    "tup = (1,5,3,2,'Python',3,2,[2,3],{1,4,7})\n",
    "tup"
   ]
  },
  {
   "cell_type": "code",
   "execution_count": 5,
   "id": "d0bb43a2",
   "metadata": {},
   "outputs": [
    {
     "data": {
      "text/plain": [
       "0"
      ]
     },
     "execution_count": 5,
     "metadata": {},
     "output_type": "execute_result"
    }
   ],
   "source": [
    "tup.count(4)"
   ]
  },
  {
   "cell_type": "markdown",
   "id": "43e6ce0a",
   "metadata": {},
   "source": [
    "### len()"
   ]
  },
  {
   "cell_type": "code",
   "execution_count": 162,
   "id": "c984597c",
   "metadata": {},
   "outputs": [
    {
     "data": {
      "text/plain": [
       "(1, 5, 'Python', 3, 2, 4, [2, 3], {1, 4, 7})"
      ]
     },
     "execution_count": 162,
     "metadata": {},
     "output_type": "execute_result"
    }
   ],
   "source": [
    "tup = (1,5,'Python',3,2,4,[2,3],{1,4,7})\n",
    "tup"
   ]
  },
  {
   "cell_type": "code",
   "execution_count": 163,
   "id": "f6e3119b",
   "metadata": {},
   "outputs": [
    {
     "data": {
      "text/plain": [
       "8"
      ]
     },
     "execution_count": 163,
     "metadata": {},
     "output_type": "execute_result"
    }
   ],
   "source": [
    "len(tup)"
   ]
  },
  {
   "cell_type": "code",
   "execution_count": 164,
   "id": "7baf33b4",
   "metadata": {},
   "outputs": [
    {
     "data": {
      "text/plain": [
       "(1, 5, 3, 4, 2, 'Python', 3, 2, 4, [2, 3], {1, 4, 7})"
      ]
     },
     "execution_count": 164,
     "metadata": {},
     "output_type": "execute_result"
    }
   ],
   "source": [
    "tup = (1,5,3,4,2,'Python',3,2,4,[2,3],{1,4,7})\n",
    "tup"
   ]
  },
  {
   "cell_type": "code",
   "execution_count": 165,
   "id": "17ddb913",
   "metadata": {},
   "outputs": [
    {
     "data": {
      "text/plain": [
       "11"
      ]
     },
     "execution_count": 165,
     "metadata": {},
     "output_type": "execute_result"
    }
   ],
   "source": [
    "len(tup)"
   ]
  },
  {
   "cell_type": "markdown",
   "id": "d98297a3",
   "metadata": {},
   "source": [
    "### min(),max(),sum()"
   ]
  },
  {
   "cell_type": "code",
   "execution_count": 166,
   "id": "f1fdd6e2",
   "metadata": {},
   "outputs": [
    {
     "data": {
      "text/plain": [
       "(1, 2, 5, 4, 8)"
      ]
     },
     "execution_count": 166,
     "metadata": {},
     "output_type": "execute_result"
    }
   ],
   "source": [
    "tup = (1,2,5,4,8)\n",
    "tup"
   ]
  },
  {
   "cell_type": "code",
   "execution_count": 167,
   "id": "adc77f7b",
   "metadata": {},
   "outputs": [
    {
     "data": {
      "text/plain": [
       "1"
      ]
     },
     "execution_count": 167,
     "metadata": {},
     "output_type": "execute_result"
    }
   ],
   "source": [
    "min(tup)"
   ]
  },
  {
   "cell_type": "code",
   "execution_count": 168,
   "id": "8bd0212a",
   "metadata": {},
   "outputs": [
    {
     "data": {
      "text/plain": [
       "8"
      ]
     },
     "execution_count": 168,
     "metadata": {},
     "output_type": "execute_result"
    }
   ],
   "source": [
    "max(tup)"
   ]
  },
  {
   "cell_type": "code",
   "execution_count": 169,
   "id": "22042ecd",
   "metadata": {},
   "outputs": [
    {
     "data": {
      "text/plain": [
       "20"
      ]
     },
     "execution_count": 169,
     "metadata": {},
     "output_type": "execute_result"
    }
   ],
   "source": [
    "sum(tup)"
   ]
  },
  {
   "cell_type": "markdown",
   "id": "938297a7",
   "metadata": {},
   "source": [
    "### sorted()"
   ]
  },
  {
   "cell_type": "raw",
   "id": "245ea99a",
   "metadata": {},
   "source": [
    "Sorting in ascending order\n",
    "but not update original tuple"
   ]
  },
  {
   "cell_type": "raw",
   "id": "c5bb5ab6",
   "metadata": {},
   "source": [
    "Sorting in ascending order"
   ]
  },
  {
   "cell_type": "code",
   "execution_count": 171,
   "id": "0c73c95e",
   "metadata": {},
   "outputs": [
    {
     "data": {
      "text/plain": [
       "[1, 2, 3, 4, 5, 8]"
      ]
     },
     "execution_count": 171,
     "metadata": {},
     "output_type": "execute_result"
    }
   ],
   "source": [
    "tup = (5,8,1,2,4,3)\n",
    "sorted(tup)"
   ]
  },
  {
   "cell_type": "code",
   "execution_count": 172,
   "id": "39f240a4",
   "metadata": {},
   "outputs": [
    {
     "data": {
      "text/plain": [
       "(5, 8, 1, 2, 4, 3)"
      ]
     },
     "execution_count": 172,
     "metadata": {},
     "output_type": "execute_result"
    }
   ],
   "source": [
    "tup"
   ]
  },
  {
   "cell_type": "code",
   "execution_count": 178,
   "id": "464e13b4",
   "metadata": {},
   "outputs": [
    {
     "data": {
      "text/plain": [
       "[1, 2, 3, 4, 5, 8]"
      ]
     },
     "execution_count": 178,
     "metadata": {},
     "output_type": "execute_result"
    }
   ],
   "source": [
    "sorted(tup,reverse=False)"
   ]
  },
  {
   "cell_type": "code",
   "execution_count": 179,
   "id": "453a19f8",
   "metadata": {},
   "outputs": [
    {
     "ename": "AttributeError",
     "evalue": "'tuple' object has no attribute 'sort'",
     "output_type": "error",
     "traceback": [
      "\u001b[1;31m---------------------------------------------------------------------------\u001b[0m",
      "\u001b[1;31mAttributeError\u001b[0m                            Traceback (most recent call last)",
      "Input \u001b[1;32mIn [179]\u001b[0m, in \u001b[0;36m<cell line: 1>\u001b[1;34m()\u001b[0m\n\u001b[1;32m----> 1\u001b[0m \u001b[43mtup\u001b[49m\u001b[38;5;241;43m.\u001b[39;49m\u001b[43msort\u001b[49m()\n",
      "\u001b[1;31mAttributeError\u001b[0m: 'tuple' object has no attribute 'sort'"
     ]
    }
   ],
   "source": [
    "tup.sort()"
   ]
  },
  {
   "cell_type": "raw",
   "id": "0ea2b867",
   "metadata": {},
   "source": [
    "Sorting in descending order"
   ]
  },
  {
   "cell_type": "code",
   "execution_count": 173,
   "id": "c9be7e05",
   "metadata": {},
   "outputs": [
    {
     "data": {
      "text/plain": [
       "(5, 8, 1, 2, 4, 3)"
      ]
     },
     "execution_count": 173,
     "metadata": {},
     "output_type": "execute_result"
    }
   ],
   "source": [
    "tup = (5,8,1,2,4,3)\n",
    "tup"
   ]
  },
  {
   "cell_type": "code",
   "execution_count": 176,
   "id": "2a8940a2",
   "metadata": {},
   "outputs": [
    {
     "data": {
      "text/plain": [
       "[8, 5, 4, 3, 2, 1]"
      ]
     },
     "execution_count": 176,
     "metadata": {},
     "output_type": "execute_result"
    }
   ],
   "source": [
    "sorted(tup,reverse=True)"
   ]
  },
  {
   "cell_type": "markdown",
   "id": "8021f2ce",
   "metadata": {},
   "source": [
    "### reversed()"
   ]
  },
  {
   "cell_type": "code",
   "execution_count": 180,
   "id": "fd18c0ce",
   "metadata": {},
   "outputs": [
    {
     "data": {
      "text/plain": [
       "(3, 4, 2, 1, 8, 5)"
      ]
     },
     "execution_count": 180,
     "metadata": {},
     "output_type": "execute_result"
    }
   ],
   "source": [
    "tup = (5,8,1,2,4,3)\n",
    "tuple(reversed(tup))"
   ]
  },
  {
   "cell_type": "code",
   "execution_count": 181,
   "id": "250d1f84",
   "metadata": {},
   "outputs": [
    {
     "data": {
      "text/plain": [
       "(1, 2, 5, 4, 8)"
      ]
     },
     "execution_count": 181,
     "metadata": {},
     "output_type": "execute_result"
    }
   ],
   "source": [
    "tup = (1,2,5,4,8)\n",
    "tup"
   ]
  },
  {
   "cell_type": "code",
   "execution_count": 183,
   "id": "16d067f6",
   "metadata": {},
   "outputs": [
    {
     "data": {
      "text/plain": [
       "(8, 4, 5, 2, 1)"
      ]
     },
     "execution_count": 183,
     "metadata": {},
     "output_type": "execute_result"
    }
   ],
   "source": [
    "tuple(reversed(tup))"
   ]
  },
  {
   "cell_type": "markdown",
   "id": "96de1b72",
   "metadata": {},
   "source": [
    "### del()"
   ]
  },
  {
   "cell_type": "code",
   "execution_count": 184,
   "id": "f3b163da",
   "metadata": {},
   "outputs": [],
   "source": [
    "list1 = [ 1,5,7,4,9,6]\n",
    "del list1[4]"
   ]
  },
  {
   "cell_type": "code",
   "execution_count": 185,
   "id": "5924a814",
   "metadata": {},
   "outputs": [
    {
     "data": {
      "text/plain": [
       "[1, 5, 7, 4, 6]"
      ]
     },
     "execution_count": 185,
     "metadata": {},
     "output_type": "execute_result"
    }
   ],
   "source": [
    "list1"
   ]
  },
  {
   "cell_type": "code",
   "execution_count": 186,
   "id": "622cc3b1",
   "metadata": {},
   "outputs": [
    {
     "ename": "TypeError",
     "evalue": "'tuple' object doesn't support item deletion",
     "output_type": "error",
     "traceback": [
      "\u001b[1;31m---------------------------------------------------------------------------\u001b[0m",
      "\u001b[1;31mTypeError\u001b[0m                                 Traceback (most recent call last)",
      "Input \u001b[1;32mIn [186]\u001b[0m, in \u001b[0;36m<cell line: 2>\u001b[1;34m()\u001b[0m\n\u001b[0;32m      1\u001b[0m tup\u001b[38;5;241m=\u001b[39m (\u001b[38;5;241m1\u001b[39m,\u001b[38;5;241m5\u001b[39m,\u001b[38;5;241m7\u001b[39m,\u001b[38;5;241m4\u001b[39m,\u001b[38;5;241m9\u001b[39m,\u001b[38;5;241m6\u001b[39m)\n\u001b[1;32m----> 2\u001b[0m \u001b[38;5;28;01mdel\u001b[39;00m tup[\u001b[38;5;241m4\u001b[39m]\n",
      "\u001b[1;31mTypeError\u001b[0m: 'tuple' object doesn't support item deletion"
     ]
    }
   ],
   "source": [
    "tup= (1,5,7,4,9,6)\n",
    "del tup[4]"
   ]
  },
  {
   "cell_type": "code",
   "execution_count": 187,
   "id": "cc9d3da9",
   "metadata": {},
   "outputs": [],
   "source": [
    "del(tup)"
   ]
  },
  {
   "cell_type": "code",
   "execution_count": 188,
   "id": "9de3fc33",
   "metadata": {},
   "outputs": [
    {
     "ename": "NameError",
     "evalue": "name 'tup' is not defined",
     "output_type": "error",
     "traceback": [
      "\u001b[1;31m---------------------------------------------------------------------------\u001b[0m",
      "\u001b[1;31mNameError\u001b[0m                                 Traceback (most recent call last)",
      "Input \u001b[1;32mIn [188]\u001b[0m, in \u001b[0;36m<cell line: 1>\u001b[1;34m()\u001b[0m\n\u001b[1;32m----> 1\u001b[0m \u001b[43mtup\u001b[49m\n",
      "\u001b[1;31mNameError\u001b[0m: name 'tup' is not defined"
     ]
    }
   ],
   "source": [
    "tup"
   ]
  },
  {
   "cell_type": "markdown",
   "id": "044a02cc",
   "metadata": {},
   "source": [
    "# diffrence between list and tuple"
   ]
  },
  {
   "cell_type": "raw",
   "id": "07b34057",
   "metadata": {},
   "source": [
    "List:\n",
    "    1. [ ]\n",
    "    2. Ordered\n",
    "    3. Mutable\n",
    "    4. Slower than Tuples.\n",
    "    5. More functions are there than tuples\n",
    "    6. Duplicate items are allowed\n",
    "    7. Less memory efficient/ takes more memory\n",
    "    8. For single element, it need not be comma seperated."
   ]
  },
  {
   "cell_type": "raw",
   "id": "bc93dfc1",
   "metadata": {},
   "source": [
    "Tuples:\n",
    "    1. ( )\n",
    "    2. Ordered\n",
    "    3. Immutable\n",
    "    4. Faster than lists\n",
    "    5. Less functions are there than tuples\n",
    "    6. Duplicate items are allowed\n",
    "    7. More memory efficient/ takes less memory\n",
    "    8. For single element, it need to be comma seperated\n",
    "    9. tuples are ordered"
   ]
  },
  {
   "cell_type": "markdown",
   "id": "d82875b2",
   "metadata": {},
   "source": [
    "# access the elements using for loop"
   ]
  },
  {
   "cell_type": "code",
   "execution_count": 1,
   "id": "0f1d1d70",
   "metadata": {},
   "outputs": [
    {
     "name": "stdout",
     "output_type": "stream",
     "text": [
      "mumbai\n",
      "pune\n",
      "delhi\n",
      "benguluru\n",
      "pune\n"
     ]
    }
   ],
   "source": [
    "tup=('mumbai','pune','delhi','benguluru','pune')\n",
    "for city in tup:\n",
    "    print(city)"
   ]
  },
  {
   "cell_type": "code",
   "execution_count": 3,
   "id": "45d0eea6",
   "metadata": {},
   "outputs": [
    {
     "name": "stdout",
     "output_type": "stream",
     "text": [
      "0 : mumbai\n",
      "1 : pune\n",
      "2 : delhi\n",
      "3 : benguluru\n",
      "4 : pune\n"
     ]
    }
   ],
   "source": [
    "for index,city in enumerate(tup):\n",
    "    print(index, ':', city)"
   ]
  },
  {
   "cell_type": "code",
   "execution_count": 7,
   "id": "10adb679",
   "metadata": {},
   "outputs": [
    {
     "name": "stdout",
     "output_type": "stream",
     "text": [
      "for city 0th position is mumbai\n",
      "for city 1th position is pune\n",
      "for city 2th position is delhi\n",
      "for city 3th position is benguluru\n",
      "for city 4th position is pune\n"
     ]
    }
   ],
   "source": [
    "for index, city in enumerate(tup):\n",
    "    print(f'for city {index}th position is {city}')"
   ]
  },
  {
   "cell_type": "code",
   "execution_count": 8,
   "id": "fbf57c6f",
   "metadata": {},
   "outputs": [
    {
     "data": {
      "text/plain": [
       "False"
      ]
     },
     "execution_count": 8,
     "metadata": {},
     "output_type": "execute_result"
    }
   ],
   "source": [
    "'PUNE'in tup"
   ]
  },
  {
   "cell_type": "code",
   "execution_count": 9,
   "id": "e466c947",
   "metadata": {},
   "outputs": [
    {
     "data": {
      "text/plain": [
       "False"
      ]
     },
     "execution_count": 9,
     "metadata": {},
     "output_type": "execute_result"
    }
   ],
   "source": [
    "'Pune' in tup"
   ]
  },
  {
   "cell_type": "code",
   "execution_count": 10,
   "id": "255ef820",
   "metadata": {},
   "outputs": [
    {
     "data": {
      "text/plain": [
       "True"
      ]
     },
     "execution_count": 10,
     "metadata": {},
     "output_type": "execute_result"
    }
   ],
   "source": [
    "'pune' in tup"
   ]
  },
  {
   "cell_type": "code",
   "execution_count": 11,
   "id": "631b1f80",
   "metadata": {},
   "outputs": [
    {
     "data": {
      "text/plain": [
       "True"
      ]
     },
     "execution_count": 11,
     "metadata": {},
     "output_type": "execute_result"
    }
   ],
   "source": [
    "'Mumbai' not in tup"
   ]
  },
  {
   "cell_type": "code",
   "execution_count": 12,
   "id": "67880586",
   "metadata": {},
   "outputs": [
    {
     "data": {
      "text/plain": [
       "False"
      ]
     },
     "execution_count": 12,
     "metadata": {},
     "output_type": "execute_result"
    }
   ],
   "source": [
    "'mumbai' not in tup"
   ]
  },
  {
   "cell_type": "code",
   "execution_count": 15,
   "id": "3cbe836d",
   "metadata": {},
   "outputs": [
    {
     "data": {
      "text/plain": [
       "True"
      ]
     },
     "execution_count": 15,
     "metadata": {},
     "output_type": "execute_result"
    }
   ],
   "source": [
    "'pune' and 'mumbai' in tup"
   ]
  },
  {
   "cell_type": "code",
   "execution_count": 16,
   "id": "4f763992",
   "metadata": {},
   "outputs": [
    {
     "data": {
      "text/plain": [
       "'pune'"
      ]
     },
     "execution_count": 16,
     "metadata": {},
     "output_type": "execute_result"
    }
   ],
   "source": [
    "'pune' or 'mumbai' in tup"
   ]
  },
  {
   "cell_type": "code",
   "execution_count": 18,
   "id": "d2ffeeb4",
   "metadata": {},
   "outputs": [
    {
     "data": {
      "text/plain": [
       "True"
      ]
     },
     "execution_count": 18,
     "metadata": {},
     "output_type": "execute_result"
    }
   ],
   "source": [
    "'pune' not in 'mumbai' in tup"
   ]
  },
  {
   "cell_type": "code",
   "execution_count": 19,
   "id": "1e5b199d",
   "metadata": {},
   "outputs": [
    {
     "name": "stdout",
     "output_type": "stream",
     "text": [
      "Pune is not there\n"
     ]
    }
   ],
   "source": [
    "if 'Pune' in tup:\n",
    "    print('Pune is there in tuple')\n",
    "else:\n",
    "    print('Pune is not there')"
   ]
  },
  {
   "cell_type": "code",
   "execution_count": 21,
   "id": "b896c940",
   "metadata": {},
   "outputs": [
    {
     "name": "stdout",
     "output_type": "stream",
     "text": [
      "it is in tup\n"
     ]
    }
   ],
   "source": [
    "if 'pune' not in tup:\n",
    "    print('pune not in tup')\n",
    "else:\n",
    "    print('it is in tup')"
   ]
  },
  {
   "cell_type": "code",
   "execution_count": 22,
   "id": "a2e76040",
   "metadata": {},
   "outputs": [
    {
     "data": {
      "text/plain": [
       "('mumbai', 'pune', 'delhi', 'benguluru', 'pune')"
      ]
     },
     "execution_count": 22,
     "metadata": {},
     "output_type": "execute_result"
    }
   ],
   "source": [
    "tup"
   ]
  },
  {
   "cell_type": "code",
   "execution_count": 28,
   "id": "333242dc",
   "metadata": {},
   "outputs": [],
   "source": [
    "lst = ['Pune', 'Banglore', 'Mumbai', 'Delhi']"
   ]
  },
  {
   "cell_type": "code",
   "execution_count": 24,
   "id": "afbbbc95",
   "metadata": {},
   "outputs": [
    {
     "ename": "AttributeError",
     "evalue": "'list' object has no attribute 'upper'",
     "output_type": "error",
     "traceback": [
      "\u001b[1;31m---------------------------------------------------------------------------\u001b[0m",
      "\u001b[1;31mAttributeError\u001b[0m                            Traceback (most recent call last)",
      "Input \u001b[1;32mIn [24]\u001b[0m, in \u001b[0;36m<cell line: 1>\u001b[1;34m()\u001b[0m\n\u001b[1;32m----> 1\u001b[0m \u001b[43mlst\u001b[49m\u001b[38;5;241;43m.\u001b[39;49m\u001b[43mupper\u001b[49m()\n",
      "\u001b[1;31mAttributeError\u001b[0m: 'list' object has no attribute 'upper'"
     ]
    }
   ],
   "source": [
    "lst.upper()"
   ]
  },
  {
   "cell_type": "code",
   "execution_count": 25,
   "id": "9a3bea11",
   "metadata": {},
   "outputs": [
    {
     "ename": "AttributeError",
     "evalue": "'tuple' object has no attribute 'upper'",
     "output_type": "error",
     "traceback": [
      "\u001b[1;31m---------------------------------------------------------------------------\u001b[0m",
      "\u001b[1;31mAttributeError\u001b[0m                            Traceback (most recent call last)",
      "Input \u001b[1;32mIn [25]\u001b[0m, in \u001b[0;36m<cell line: 1>\u001b[1;34m()\u001b[0m\n\u001b[0;32m      1\u001b[0m \u001b[38;5;28;01mfor\u001b[39;00m city \u001b[38;5;129;01min\u001b[39;00m tup:\n\u001b[1;32m----> 2\u001b[0m     \u001b[38;5;28mprint\u001b[39m(\u001b[43mtup\u001b[49m\u001b[38;5;241;43m.\u001b[39;49m\u001b[43mupper\u001b[49m())\n",
      "\u001b[1;31mAttributeError\u001b[0m: 'tuple' object has no attribute 'upper'"
     ]
    }
   ],
   "source": [
    "for city in tup:\n",
    "    print(tup.upper())"
   ]
  },
  {
   "cell_type": "code",
   "execution_count": 30,
   "id": "bbba9538",
   "metadata": {},
   "outputs": [
    {
     "name": "stdout",
     "output_type": "stream",
     "text": [
      "PUNE\n",
      "BANGLORE\n",
      "MUMBAI\n",
      "DELHI\n"
     ]
    }
   ],
   "source": [
    "for city in lst:\n",
    "    print(city.upper())"
   ]
  },
  {
   "cell_type": "code",
   "execution_count": 49,
   "id": "82b945d2",
   "metadata": {},
   "outputs": [
    {
     "data": {
      "text/plain": [
       "['PUNE', 'BANGLORE', 'MUMBAI', 'DELHI']"
      ]
     },
     "execution_count": 49,
     "metadata": {},
     "output_type": "execute_result"
    }
   ],
   "source": [
    "list1 = [city.upper() for city in lst]\n",
    "list1"
   ]
  },
  {
   "cell_type": "code",
   "execution_count": 32,
   "id": "92798018",
   "metadata": {},
   "outputs": [],
   "source": [
    "list2=[city.lower().capitalize() for city in lst]"
   ]
  },
  {
   "cell_type": "code",
   "execution_count": 33,
   "id": "94f3ba45",
   "metadata": {},
   "outputs": [
    {
     "data": {
      "text/plain": [
       "['Pune', 'Banglore', 'Mumbai', 'Delhi']"
      ]
     },
     "execution_count": 33,
     "metadata": {},
     "output_type": "execute_result"
    }
   ],
   "source": [
    "list2"
   ]
  },
  {
   "cell_type": "code",
   "execution_count": 34,
   "id": "9f9dc5f3",
   "metadata": {},
   "outputs": [
    {
     "data": {
      "text/plain": [
       "('mumbai', 'pune', 'delhi', 'benguluru', 'pune')"
      ]
     },
     "execution_count": 34,
     "metadata": {},
     "output_type": "execute_result"
    }
   ],
   "source": [
    "tup"
   ]
  },
  {
   "cell_type": "code",
   "execution_count": 35,
   "id": "e52a72db",
   "metadata": {},
   "outputs": [],
   "source": [
    "b2= tuple(city.lower() for city in tup)"
   ]
  },
  {
   "cell_type": "code",
   "execution_count": 36,
   "id": "48181707",
   "metadata": {},
   "outputs": [
    {
     "data": {
      "text/plain": [
       "('mumbai', 'pune', 'delhi', 'benguluru', 'pune')"
      ]
     },
     "execution_count": 36,
     "metadata": {},
     "output_type": "execute_result"
    }
   ],
   "source": [
    "b2"
   ]
  },
  {
   "cell_type": "code",
   "execution_count": 40,
   "id": "023ad151",
   "metadata": {},
   "outputs": [],
   "source": [
    "b2= tuple(city.lower().capitalize() for city in tup)"
   ]
  },
  {
   "cell_type": "code",
   "execution_count": 41,
   "id": "fc4420b2",
   "metadata": {},
   "outputs": [
    {
     "data": {
      "text/plain": [
       "('Mumbai', 'Pune', 'Delhi', 'Benguluru', 'Pune')"
      ]
     },
     "execution_count": 41,
     "metadata": {},
     "output_type": "execute_result"
    }
   ],
   "source": [
    "b2"
   ]
  },
  {
   "cell_type": "code",
   "execution_count": 42,
   "id": "56c51c1f",
   "metadata": {},
   "outputs": [
    {
     "data": {
      "text/plain": [
       "['Mumbai', 'Manglore']"
      ]
     },
     "execution_count": 42,
     "metadata": {},
     "output_type": "execute_result"
    }
   ],
   "source": [
    "lst1 = ['Pune', 'Banglore', 'Mumbai', 'Delhi','manglore']\n",
    "list1 = [city.title() for city in lst1 if city.lower().startswith('m')]\n",
    "list1"
   ]
  },
  {
   "cell_type": "code",
   "execution_count": null,
   "id": "6c8428d0",
   "metadata": {},
   "outputs": [],
   "source": [
    "lst = ['Pune', 'Banglore', 'Mumbai', 'Delhi']"
   ]
  },
  {
   "cell_type": "code",
   "execution_count": 52,
   "id": "636cb530",
   "metadata": {},
   "outputs": [],
   "source": [
    "b3=tuple(city.lower() for city in lst if city.startswith('M') )"
   ]
  },
  {
   "cell_type": "code",
   "execution_count": 53,
   "id": "121d7f7a",
   "metadata": {},
   "outputs": [
    {
     "data": {
      "text/plain": [
       "('mumbai',)"
      ]
     },
     "execution_count": 53,
     "metadata": {},
     "output_type": "execute_result"
    }
   ],
   "source": [
    "b3"
   ]
  },
  {
   "cell_type": "code",
   "execution_count": 47,
   "id": "86e1faef",
   "metadata": {},
   "outputs": [],
   "source": [
    "b3=tuple(city.lower() for city in b2 if city.startswith('M') )"
   ]
  },
  {
   "cell_type": "code",
   "execution_count": 48,
   "id": "157ddcf6",
   "metadata": {},
   "outputs": [
    {
     "data": {
      "text/plain": [
       "('mumbai',)"
      ]
     },
     "execution_count": 48,
     "metadata": {},
     "output_type": "execute_result"
    }
   ],
   "source": [
    "b3"
   ]
  },
  {
   "cell_type": "markdown",
   "id": "762b189d",
   "metadata": {},
   "source": [
    "# Shallow copy and Deep copy"
   ]
  },
  {
   "cell_type": "raw",
   "id": "0c64fe95",
   "metadata": {},
   "source": [
    "Shallow copy and deep copy works same for normal list. But it works as per its functionality on the nested list.\n",
    "1.in normal list both shallow copy and deepcopy works same.if we change in list2 there will be no changes in list1,\n",
    "list1 will be as it its apply for both shallow copy and deepcopy deepcopy.\n",
    "2.in nested list if we changes in list2 in shallow copy there will be changes in list1.as well as if we changes in list1 as well it changes list2.but in deepcopy there will be no changes if we change list2 or list1 they will be as it."
   ]
  },
  {
   "cell_type": "markdown",
   "id": "72321bd8",
   "metadata": {},
   "source": [
    "## Normal List"
   ]
  },
  {
   "cell_type": "code",
   "execution_count": null,
   "id": "7689cebf",
   "metadata": {},
   "outputs": [],
   "source": [
    "## Shallow copy\n",
    "list1 = [10,20,25,30,40]\n",
    "list2 = list1.copy()"
   ]
  },
  {
   "cell_type": "code",
   "execution_count": 87,
   "id": "96aba109",
   "metadata": {},
   "outputs": [
    {
     "data": {
      "text/plain": [
       "[10, 20, 25, 30, 40]"
      ]
     },
     "execution_count": 87,
     "metadata": {},
     "output_type": "execute_result"
    }
   ],
   "source": [
    "list1"
   ]
  },
  {
   "cell_type": "code",
   "execution_count": 88,
   "id": "ad7e1a65",
   "metadata": {},
   "outputs": [
    {
     "data": {
      "text/plain": [
       "[10, 20, 25, 30, 40]"
      ]
     },
     "execution_count": 88,
     "metadata": {},
     "output_type": "execute_result"
    }
   ],
   "source": [
    "list2"
   ]
  },
  {
   "cell_type": "code",
   "execution_count": 89,
   "id": "33c88977",
   "metadata": {},
   "outputs": [],
   "source": [
    "list2[0]=50"
   ]
  },
  {
   "cell_type": "code",
   "execution_count": 90,
   "id": "9d517e8e",
   "metadata": {},
   "outputs": [
    {
     "data": {
      "text/plain": [
       "[50, 20, 25, 30, 40]"
      ]
     },
     "execution_count": 90,
     "metadata": {},
     "output_type": "execute_result"
    }
   ],
   "source": [
    "list2"
   ]
  },
  {
   "cell_type": "code",
   "execution_count": 91,
   "id": "53d5f0a3",
   "metadata": {},
   "outputs": [
    {
     "data": {
      "text/plain": [
       "[10, 20, 25, 30, 40]"
      ]
     },
     "execution_count": 91,
     "metadata": {},
     "output_type": "execute_result"
    }
   ],
   "source": [
    "list1"
   ]
  },
  {
   "cell_type": "code",
   "execution_count": 92,
   "id": "16b111c7",
   "metadata": {},
   "outputs": [],
   "source": [
    "list1[1]=17"
   ]
  },
  {
   "cell_type": "code",
   "execution_count": 93,
   "id": "0740de68",
   "metadata": {},
   "outputs": [
    {
     "data": {
      "text/plain": [
       "[10, 17, 25, 30, 40]"
      ]
     },
     "execution_count": 93,
     "metadata": {},
     "output_type": "execute_result"
    }
   ],
   "source": [
    "list1"
   ]
  },
  {
   "cell_type": "code",
   "execution_count": 94,
   "id": "cf5cd4a7",
   "metadata": {},
   "outputs": [
    {
     "data": {
      "text/plain": [
       "[50, 20, 25, 30, 40]"
      ]
     },
     "execution_count": 94,
     "metadata": {},
     "output_type": "execute_result"
    }
   ],
   "source": [
    "list2"
   ]
  },
  {
   "cell_type": "code",
   "execution_count": 96,
   "id": "2c35b2a0",
   "metadata": {},
   "outputs": [],
   "source": [
    "list2=list1[1]=15"
   ]
  },
  {
   "cell_type": "code",
   "execution_count": 97,
   "id": "d0581679",
   "metadata": {},
   "outputs": [
    {
     "data": {
      "text/plain": [
       "15"
      ]
     },
     "execution_count": 97,
     "metadata": {},
     "output_type": "execute_result"
    }
   ],
   "source": [
    "list2"
   ]
  },
  {
   "cell_type": "code",
   "execution_count": 59,
   "id": "01dad7bc",
   "metadata": {},
   "outputs": [],
   "source": [
    "from copy import deepcopy"
   ]
  },
  {
   "cell_type": "code",
   "execution_count": 64,
   "id": "a1443093",
   "metadata": {},
   "outputs": [],
   "source": [
    "# Deepcopy\n",
    "list1 = [10,20,25,30,40]\n",
    "list2 = deepcopy(list1)"
   ]
  },
  {
   "cell_type": "code",
   "execution_count": 65,
   "id": "7ddba421",
   "metadata": {},
   "outputs": [
    {
     "data": {
      "text/plain": [
       "[10, 20, 25, 30, 40]"
      ]
     },
     "execution_count": 65,
     "metadata": {},
     "output_type": "execute_result"
    }
   ],
   "source": [
    "list1"
   ]
  },
  {
   "cell_type": "code",
   "execution_count": 66,
   "id": "e3b0e462",
   "metadata": {},
   "outputs": [
    {
     "data": {
      "text/plain": [
       "[10, 20, 25, 30, 40]"
      ]
     },
     "execution_count": 66,
     "metadata": {},
     "output_type": "execute_result"
    }
   ],
   "source": [
    "list2"
   ]
  },
  {
   "cell_type": "code",
   "execution_count": 67,
   "id": "79fccad6",
   "metadata": {},
   "outputs": [],
   "source": [
    "list2[1]=40"
   ]
  },
  {
   "cell_type": "code",
   "execution_count": 68,
   "id": "db556583",
   "metadata": {},
   "outputs": [
    {
     "data": {
      "text/plain": [
       "[10, 40, 25, 30, 40]"
      ]
     },
     "execution_count": 68,
     "metadata": {},
     "output_type": "execute_result"
    }
   ],
   "source": [
    "list2"
   ]
  },
  {
   "cell_type": "code",
   "execution_count": 69,
   "id": "96c27c7f",
   "metadata": {},
   "outputs": [
    {
     "data": {
      "text/plain": [
       "[10, 20, 25, 30, 40]"
      ]
     },
     "execution_count": 69,
     "metadata": {},
     "output_type": "execute_result"
    }
   ],
   "source": [
    "list1"
   ]
  },
  {
   "cell_type": "code",
   "execution_count": 72,
   "id": "94afa5c9",
   "metadata": {},
   "outputs": [],
   "source": [
    "list1[1]=15"
   ]
  },
  {
   "cell_type": "code",
   "execution_count": 73,
   "id": "e7ba4f6e",
   "metadata": {},
   "outputs": [
    {
     "data": {
      "text/plain": [
       "[10, 15, 25, 30, 40]"
      ]
     },
     "execution_count": 73,
     "metadata": {},
     "output_type": "execute_result"
    }
   ],
   "source": [
    "list1"
   ]
  },
  {
   "cell_type": "code",
   "execution_count": 76,
   "id": "04c9f930",
   "metadata": {},
   "outputs": [
    {
     "data": {
      "text/plain": [
       "[10, 40, 25, 30, 40]"
      ]
     },
     "execution_count": 76,
     "metadata": {},
     "output_type": "execute_result"
    }
   ],
   "source": [
    "list2"
   ]
  },
  {
   "cell_type": "code",
   "execution_count": 99,
   "id": "edaaa1ca",
   "metadata": {},
   "outputs": [],
   "source": [
    "list2=list1[1]=15"
   ]
  },
  {
   "cell_type": "code",
   "execution_count": 100,
   "id": "095dd6fd",
   "metadata": {},
   "outputs": [
    {
     "data": {
      "text/plain": [
       "15"
      ]
     },
     "execution_count": 100,
     "metadata": {},
     "output_type": "execute_result"
    }
   ],
   "source": [
    "list2"
   ]
  },
  {
   "cell_type": "markdown",
   "id": "32f41c1b",
   "metadata": {},
   "source": [
    "## nested list"
   ]
  },
  {
   "cell_type": "code",
   "execution_count": 123,
   "id": "650e041c",
   "metadata": {},
   "outputs": [],
   "source": [
    "# Shallow copy\n",
    "list1 = [[1,2],[3,4],[5,6]]\n",
    "list2=list1.copy()"
   ]
  },
  {
   "cell_type": "code",
   "execution_count": 124,
   "id": "a4458465",
   "metadata": {},
   "outputs": [
    {
     "data": {
      "text/plain": [
       "[[1, 2], [3, 4], [5, 6]]"
      ]
     },
     "execution_count": 124,
     "metadata": {},
     "output_type": "execute_result"
    }
   ],
   "source": [
    "list1"
   ]
  },
  {
   "cell_type": "code",
   "execution_count": 125,
   "id": "39a7dac8",
   "metadata": {},
   "outputs": [
    {
     "data": {
      "text/plain": [
       "[[1, 2], [3, 4], [5, 6]]"
      ]
     },
     "execution_count": 125,
     "metadata": {},
     "output_type": "execute_result"
    }
   ],
   "source": [
    "list2"
   ]
  },
  {
   "cell_type": "code",
   "execution_count": 126,
   "id": "1d42acad",
   "metadata": {},
   "outputs": [],
   "source": [
    "list2[0][0]=10"
   ]
  },
  {
   "cell_type": "code",
   "execution_count": 127,
   "id": "31350bdb",
   "metadata": {},
   "outputs": [
    {
     "data": {
      "text/plain": [
       "[[10, 2], [3, 4], [5, 6]]"
      ]
     },
     "execution_count": 127,
     "metadata": {},
     "output_type": "execute_result"
    }
   ],
   "source": [
    "list2"
   ]
  },
  {
   "cell_type": "code",
   "execution_count": 128,
   "id": "fadf224c",
   "metadata": {},
   "outputs": [
    {
     "data": {
      "text/plain": [
       "[[10, 2], [3, 4], [5, 6]]"
      ]
     },
     "execution_count": 128,
     "metadata": {},
     "output_type": "execute_result"
    }
   ],
   "source": [
    "list1"
   ]
  },
  {
   "cell_type": "code",
   "execution_count": 130,
   "id": "6216ed51",
   "metadata": {},
   "outputs": [],
   "source": [
    "list1[1][0]=15"
   ]
  },
  {
   "cell_type": "code",
   "execution_count": 131,
   "id": "ad286952",
   "metadata": {},
   "outputs": [
    {
     "data": {
      "text/plain": [
       "[[10, 2], [15, 4], [5, 6]]"
      ]
     },
     "execution_count": 131,
     "metadata": {},
     "output_type": "execute_result"
    }
   ],
   "source": [
    "list1"
   ]
  },
  {
   "cell_type": "code",
   "execution_count": 132,
   "id": "0ca0a872",
   "metadata": {},
   "outputs": [
    {
     "data": {
      "text/plain": [
       "[[10, 2], [15, 4], [5, 6]]"
      ]
     },
     "execution_count": 132,
     "metadata": {},
     "output_type": "execute_result"
    }
   ],
   "source": [
    "list2"
   ]
  },
  {
   "cell_type": "code",
   "execution_count": 140,
   "id": "5f376761",
   "metadata": {},
   "outputs": [],
   "source": [
    "# Deepcopy\n",
    "list1 = [[1,2],[3,4],[5,6]]\n",
    "list2=deepcopy(list1)"
   ]
  },
  {
   "cell_type": "code",
   "execution_count": 141,
   "id": "a7dae9ba",
   "metadata": {},
   "outputs": [
    {
     "data": {
      "text/plain": [
       "[[1, 2], [3, 4], [5, 6]]"
      ]
     },
     "execution_count": 141,
     "metadata": {},
     "output_type": "execute_result"
    }
   ],
   "source": [
    "list1"
   ]
  },
  {
   "cell_type": "code",
   "execution_count": 142,
   "id": "ec145fc1",
   "metadata": {},
   "outputs": [
    {
     "data": {
      "text/plain": [
       "[[1, 2], [3, 4], [5, 6]]"
      ]
     },
     "execution_count": 142,
     "metadata": {},
     "output_type": "execute_result"
    }
   ],
   "source": [
    "list2"
   ]
  },
  {
   "cell_type": "code",
   "execution_count": 143,
   "id": "e86ca12b",
   "metadata": {},
   "outputs": [],
   "source": [
    "list2[1][1]=7"
   ]
  },
  {
   "cell_type": "code",
   "execution_count": 144,
   "id": "e83fe1bc",
   "metadata": {},
   "outputs": [
    {
     "data": {
      "text/plain": [
       "[[1, 2], [3, 7], [5, 6]]"
      ]
     },
     "execution_count": 144,
     "metadata": {},
     "output_type": "execute_result"
    }
   ],
   "source": [
    "list2"
   ]
  },
  {
   "cell_type": "code",
   "execution_count": 145,
   "id": "a1d623fa",
   "metadata": {},
   "outputs": [
    {
     "data": {
      "text/plain": [
       "[[1, 2], [3, 4], [5, 6]]"
      ]
     },
     "execution_count": 145,
     "metadata": {},
     "output_type": "execute_result"
    }
   ],
   "source": [
    "list1"
   ]
  },
  {
   "cell_type": "code",
   "execution_count": 146,
   "id": "862e0dfd",
   "metadata": {},
   "outputs": [],
   "source": [
    "list1[1][1]=9"
   ]
  },
  {
   "cell_type": "code",
   "execution_count": 147,
   "id": "e906e888",
   "metadata": {},
   "outputs": [
    {
     "data": {
      "text/plain": [
       "[[1, 2], [3, 9], [5, 6]]"
      ]
     },
     "execution_count": 147,
     "metadata": {},
     "output_type": "execute_result"
    }
   ],
   "source": [
    "list1"
   ]
  },
  {
   "cell_type": "code",
   "execution_count": 148,
   "id": "d54d4252",
   "metadata": {},
   "outputs": [
    {
     "data": {
      "text/plain": [
       "[[1, 2], [3, 7], [5, 6]]"
      ]
     },
     "execution_count": 148,
     "metadata": {},
     "output_type": "execute_result"
    }
   ],
   "source": [
    "list2"
   ]
  },
  {
   "cell_type": "code",
   "execution_count": null,
   "id": "26821729",
   "metadata": {},
   "outputs": [],
   "source": []
  }
 ],
 "metadata": {
  "kernelspec": {
   "display_name": "Python 3 (ipykernel)",
   "language": "python",
   "name": "python3"
  },
  "language_info": {
   "codemirror_mode": {
    "name": "ipython",
    "version": 3
   },
   "file_extension": ".py",
   "mimetype": "text/x-python",
   "name": "python",
   "nbconvert_exporter": "python",
   "pygments_lexer": "ipython3",
   "version": "3.9.12"
  }
 },
 "nbformat": 4,
 "nbformat_minor": 5
}
