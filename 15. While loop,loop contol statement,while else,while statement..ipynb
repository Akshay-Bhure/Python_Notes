{
 "cells": [
  {
   "cell_type": "raw",
   "id": "a0b1da6b",
   "metadata": {},
   "source": [
    "Syntax:\n",
    "while condition:\n",
    "    code\n",
    "    increment/decrement >> manually\n",
    "    \n",
    "While loop is also used for iteration over a sequence\n",
    "It is used to execute the block of code till the given condition is true.\n",
    "\n",
    "Condition:\n",
    "True : Will execute the block of code\n",
    "False: It will end the loop."
   ]
  },
  {
   "cell_type": "code",
   "execution_count": 1,
   "id": "9c6ca722",
   "metadata": {},
   "outputs": [
    {
     "name": "stdout",
     "output_type": "stream",
     "text": [
      "0\n",
      "1\n",
      "2\n",
      "3\n",
      "4\n"
     ]
    }
   ],
   "source": [
    "for i in range(5):\n",
    "    print(i)"
   ]
  },
  {
   "cell_type": "code",
   "execution_count": 3,
   "id": "04262a05",
   "metadata": {},
   "outputs": [
    {
     "name": "stdout",
     "output_type": "stream",
     "text": [
      "0\n",
      "1\n",
      "2\n",
      "3\n",
      "4\n"
     ]
    }
   ],
   "source": [
    "i = 0\n",
    "while i < 5: # i<5 is our condition\n",
    "    print(i) # block of code\n",
    "    i = i+1  # increment"
   ]
  },
  {
   "cell_type": "code",
   "execution_count": 2,
   "id": "d0d0b787",
   "metadata": {},
   "outputs": [
    {
     "name": "stdout",
     "output_type": "stream",
     "text": [
      "1\n",
      "2\n",
      "3\n",
      "4\n"
     ]
    }
   ],
   "source": [
    "i=1\n",
    "while i<5:\n",
    "    print(i)\n",
    "    i=i+1"
   ]
  },
  {
   "cell_type": "code",
   "execution_count": 14,
   "id": "b3d2a7cc",
   "metadata": {},
   "outputs": [
    {
     "name": "stdout",
     "output_type": "stream",
     "text": [
      "2\n",
      "3\n",
      "4\n",
      "5\n"
     ]
    }
   ],
   "source": [
    "i=1\n",
    "while i<5:\n",
    "    i=i+1\n",
    "    print(i)"
   ]
  },
  {
   "cell_type": "code",
   "execution_count": 4,
   "id": "29c5b139",
   "metadata": {},
   "outputs": [
    {
     "name": "stdout",
     "output_type": "stream",
     "text": [
      "we are in while loop\n",
      "we are in while loop\n",
      "we are in while loop\n",
      "we are in while loop\n",
      "we are in while loop\n"
     ]
    }
   ],
   "source": [
    "i=0\n",
    "while i<5:\n",
    "    print('we are in while loop')\n",
    "    i=i+1"
   ]
  },
  {
   "cell_type": "code",
   "execution_count": 5,
   "id": "d783872b",
   "metadata": {},
   "outputs": [
    {
     "name": "stdout",
     "output_type": "stream",
     "text": [
      "WE ARE IN LOOP\n",
      "WE ARE IN LOOP\n",
      "WE ARE IN LOOP\n"
     ]
    }
   ],
   "source": [
    "i=0\n",
    "while i<5:\n",
    "    print('WE ARE IN LOOP')\n",
    "    i=i+2"
   ]
  },
  {
   "cell_type": "code",
   "execution_count": 25,
   "id": "4ccad29e",
   "metadata": {},
   "outputs": [
    {
     "name": "stdout",
     "output_type": "stream",
     "text": [
      "WE ARE IN LOOP\n",
      "WE ARE IN LOOP\n"
     ]
    }
   ],
   "source": [
    "i=0\n",
    "while i<5:\n",
    "    print('WE ARE IN LOOP')\n",
    "    i=i+3"
   ]
  },
  {
   "cell_type": "code",
   "execution_count": 6,
   "id": "144bba71",
   "metadata": {},
   "outputs": [
    {
     "name": "stdout",
     "output_type": "stream",
     "text": [
      "in loop\n",
      "in loop\n",
      "in loop\n"
     ]
    }
   ],
   "source": [
    "i=2\n",
    "while i<5:\n",
    "    print('in loop')\n",
    "    i=i+1"
   ]
  },
  {
   "cell_type": "code",
   "execution_count": 1,
   "id": "958f6487",
   "metadata": {},
   "outputs": [
    {
     "name": "stdout",
     "output_type": "stream",
     "text": [
      "4\n"
     ]
    }
   ],
   "source": [
    "i=4\n",
    "while i<5:\n",
    "    print(i)\n",
    "    i=i+1"
   ]
  },
  {
   "cell_type": "code",
   "execution_count": 9,
   "id": "d126280d",
   "metadata": {},
   "outputs": [
    {
     "name": "stdout",
     "output_type": "stream",
     "text": [
      "4\n",
      "3\n",
      "2\n",
      "1\n",
      "0\n"
     ]
    }
   ],
   "source": [
    "i=4\n",
    "while i >=0:\n",
    "    print(i)\n",
    "    i=i-1"
   ]
  },
  {
   "cell_type": "code",
   "execution_count": 2,
   "id": "0c067c59",
   "metadata": {},
   "outputs": [
    {
     "name": "stdout",
     "output_type": "stream",
     "text": [
      "in loop\n",
      "in loop\n",
      "in loop\n",
      "in loop\n",
      "in loop\n"
     ]
    }
   ],
   "source": [
    "i=4\n",
    "while i >=0: # 4>=0,3>=0,2>=0,1>=0 true, 0>=0 it is false\n",
    "    print('in loop')\n",
    "    i=i-1"
   ]
  },
  {
   "cell_type": "code",
   "execution_count": 3,
   "id": "b175c0e0",
   "metadata": {},
   "outputs": [
    {
     "name": "stdout",
     "output_type": "stream",
     "text": [
      "in loop\n",
      "in loop\n",
      "in loop\n",
      "in loop\n",
      "in loop\n",
      "in loop\n"
     ]
    }
   ],
   "source": [
    "i=5\n",
    "while i >=0:\n",
    "    print('in loop')\n",
    "    i=i-1"
   ]
  },
  {
   "cell_type": "code",
   "execution_count": 18,
   "id": "a4cc9f08",
   "metadata": {},
   "outputs": [
    {
     "name": "stdout",
     "output_type": "stream",
     "text": [
      "21\n",
      "3\n",
      "45\n",
      "6\n",
      "3\n"
     ]
    }
   ],
   "source": [
    "b=[21,3,45,6,3]\n",
    "for i in (b):\n",
    "    print(i)"
   ]
  },
  {
   "cell_type": "code",
   "execution_count": 1,
   "id": "5d1337b7",
   "metadata": {},
   "outputs": [
    {
     "name": "stdout",
     "output_type": "stream",
     "text": [
      "3\n",
      "6\n",
      "45\n",
      "3\n",
      "21\n"
     ]
    }
   ],
   "source": [
    "b=[21,3,45,6,3]\n",
    "a=len(b)\n",
    "while a>0:\n",
    "    print(b[a-1])\n",
    "    a=a-1"
   ]
  },
  {
   "cell_type": "code",
   "execution_count": 3,
   "id": "cde0a8f4",
   "metadata": {},
   "outputs": [
    {
     "name": "stdout",
     "output_type": "stream",
     "text": [
      "23\n",
      "67\n",
      "45\n",
      "23\n"
     ]
    }
   ],
   "source": [
    "a=[23,45,67,23]\n",
    "l=len(a)\n",
    "while l>0:\n",
    "    print(a[l-1]) # 3-1,2-1,1-1\n",
    "    l=l-1 #4-1,3-1,2-1,"
   ]
  },
  {
   "cell_type": "code",
   "execution_count": 4,
   "id": "36e44aa5",
   "metadata": {},
   "outputs": [
    {
     "data": {
      "text/plain": [
       "4"
      ]
     },
     "execution_count": 4,
     "metadata": {},
     "output_type": "execute_result"
    }
   ],
   "source": [
    "len(a)"
   ]
  },
  {
   "cell_type": "code",
   "execution_count": 5,
   "id": "6f90c81e",
   "metadata": {},
   "outputs": [
    {
     "data": {
      "text/plain": [
       "23"
      ]
     },
     "execution_count": 5,
     "metadata": {},
     "output_type": "execute_result"
    }
   ],
   "source": [
    "a[3]"
   ]
  },
  {
   "cell_type": "code",
   "execution_count": 6,
   "id": "73239008",
   "metadata": {},
   "outputs": [
    {
     "data": {
      "text/plain": [
       "45"
      ]
     },
     "execution_count": 6,
     "metadata": {},
     "output_type": "execute_result"
    }
   ],
   "source": [
    "a[1]"
   ]
  },
  {
   "cell_type": "code",
   "execution_count": 7,
   "id": "e0b23d1f",
   "metadata": {},
   "outputs": [
    {
     "data": {
      "text/plain": [
       "[23, 45, 67, 23]"
      ]
     },
     "execution_count": 7,
     "metadata": {},
     "output_type": "execute_result"
    }
   ],
   "source": [
    "a"
   ]
  },
  {
   "cell_type": "code",
   "execution_count": 8,
   "id": "ba1f2cb0",
   "metadata": {},
   "outputs": [
    {
     "name": "stdout",
     "output_type": "stream",
     "text": [
      "[23, 45, 67, 23]\n"
     ]
    }
   ],
   "source": [
    "print(a)"
   ]
  },
  {
   "cell_type": "code",
   "execution_count": 9,
   "id": "9a008e96",
   "metadata": {},
   "outputs": [
    {
     "name": "stdout",
     "output_type": "stream",
     "text": [
      "23\n",
      "45\n",
      "67\n",
      "23\n"
     ]
    }
   ],
   "source": [
    "l = 0\n",
    "while l < len(a):# 0<4, 0,1,2,3\n",
    "    print(a[l]) #a[0],a[1],a[2],a[3]\n",
    "    l = l+1 #1,2,3,4"
   ]
  },
  {
   "cell_type": "code",
   "execution_count": 10,
   "id": "dfa57774",
   "metadata": {},
   "outputs": [
    {
     "name": "stdout",
     "output_type": "stream",
     "text": [
      "23\n",
      "45\n",
      "67\n",
      "23\n"
     ]
    }
   ],
   "source": [
    "b=0\n",
    "while b<len(a):\n",
    "    print(a[b])\n",
    "    b=b+1"
   ]
  },
  {
   "cell_type": "code",
   "execution_count": 11,
   "id": "72a60f06",
   "metadata": {},
   "outputs": [
    {
     "name": "stdout",
     "output_type": "stream",
     "text": [
      "Addition is:  10\n"
     ]
    }
   ],
   "source": [
    "addition = 0\n",
    "for i in range(5):# 0,1,2,3,4\n",
    "    addition=addition+i\n",
    "print('Addition is: ', addition)"
   ]
  },
  {
   "cell_type": "code",
   "execution_count": 18,
   "id": "326262ce",
   "metadata": {},
   "outputs": [
    {
     "name": "stdout",
     "output_type": "stream",
     "text": [
      "10\n"
     ]
    }
   ],
   "source": [
    "add=0\n",
    "for i in range(5):\n",
    "    add=add+i\n",
    "print(add)"
   ]
  },
  {
   "cell_type": "code",
   "execution_count": 2,
   "id": "6d66d13b",
   "metadata": {},
   "outputs": [
    {
     "name": "stdout",
     "output_type": "stream",
     "text": [
      "10\n"
     ]
    }
   ],
   "source": [
    "b = 0\n",
    "for i in range(5):\n",
    "    b = b+i\n",
    "print(b)"
   ]
  },
  {
   "cell_type": "code",
   "execution_count": 10,
   "id": "db58ff8f",
   "metadata": {},
   "outputs": [
    {
     "name": "stdout",
     "output_type": "stream",
     "text": [
      "10\n"
     ]
    }
   ],
   "source": [
    "add=0\n",
    "while add<10:\n",
    "    add=add+1\n",
    "print(add)"
   ]
  },
  {
   "cell_type": "code",
   "execution_count": 1,
   "id": "5b656f19",
   "metadata": {},
   "outputs": [
    {
     "name": "stdout",
     "output_type": "stream",
     "text": [
      "10\n"
     ]
    }
   ],
   "source": [
    "## Addition using while loop\n",
    "a=0 #for increment\n",
    "b=0 # result\n",
    "while a<5:# 0,1,2,3,4\n",
    "    b=b+a # 0+0,0+1,1+2,3+3,6+4=10\n",
    "    a=a+1 # 0+1,1+1,2+1,3+1,\n",
    "print(b)"
   ]
  },
  {
   "cell_type": "code",
   "execution_count": 3,
   "id": "4e3aea9c",
   "metadata": {},
   "outputs": [
    {
     "name": "stdout",
     "output_type": "stream",
     "text": [
      "3628800\n"
     ]
    }
   ],
   "source": [
    "a=1 # increment\n",
    "b=1 # result\n",
    "while a<11:# 1,2,3,4,5,6,7,8,9,10\n",
    "    b=b*a# 1*1,1*2,2*3,.......\n",
    "    a=a+1\n",
    "print(b) "
   ]
  },
  {
   "cell_type": "code",
   "execution_count": 3,
   "id": "ca6aeb67",
   "metadata": {},
   "outputs": [
    {
     "name": "stdout",
     "output_type": "stream",
     "text": [
      "3628800\n"
     ]
    }
   ],
   "source": [
    "a=1 # increment\n",
    "b=1 # result\n",
    "while 11>a:# 1,2,3,4,5,6,7,8,9,10\n",
    "    b=b*a# 1*1,1*2,2*3,.......\n",
    "    a=a+1\n",
    "print(b) "
   ]
  },
  {
   "cell_type": "code",
   "execution_count": 6,
   "id": "274c57e7",
   "metadata": {},
   "outputs": [
    {
     "ename": "KeyboardInterrupt",
     "evalue": "",
     "output_type": "error",
     "traceback": [
      "\u001b[1;31m---------------------------------------------------------------------------\u001b[0m",
      "\u001b[1;31mKeyboardInterrupt\u001b[0m                         Traceback (most recent call last)",
      "Input \u001b[1;32mIn [6]\u001b[0m, in \u001b[0;36m<cell line: 3>\u001b[1;34m()\u001b[0m\n\u001b[0;32m      3\u001b[0m \u001b[38;5;28;01mwhile\u001b[39;00m \u001b[38;5;241m11\u001b[39m\u001b[38;5;241m>\u001b[39ma:\u001b[38;5;66;03m# 1,2,3,4,5,6,7,8,9,10\u001b[39;00m\n\u001b[0;32m      4\u001b[0m     b\u001b[38;5;241m=\u001b[39mb\u001b[38;5;241m+\u001b[39ma\u001b[38;5;66;03m# 1*1,1*2,2*3,.......\u001b[39;00m\n\u001b[1;32m----> 5\u001b[0m     a\u001b[38;5;241m=\u001b[39ma\u001b[38;5;241m-\u001b[39m\u001b[38;5;241m1\u001b[39m\n\u001b[0;32m      6\u001b[0m \u001b[38;5;28mprint\u001b[39m(b)\n",
      "\u001b[1;31mKeyboardInterrupt\u001b[0m: "
     ]
    }
   ],
   "source": [
    "a=1 # increment\n",
    "b=0 # result\n",
    "while 11>a:# 1,2,3,4,5,6,7,8,9,10\n",
    "    b=b+a# 1*1,1*2,2*3,.......\n",
    "    a=a-1\n",
    "print(b) "
   ]
  },
  {
   "cell_type": "markdown",
   "id": "924146cd",
   "metadata": {},
   "source": [
    "# loop control statement"
   ]
  },
  {
   "cell_type": "markdown",
   "id": "584859ff",
   "metadata": {},
   "source": [
    "## break"
   ]
  },
  {
   "cell_type": "code",
   "execution_count": 4,
   "id": "361273a2",
   "metadata": {},
   "outputs": [
    {
     "name": "stdout",
     "output_type": "stream",
     "text": [
      "0\n",
      "1\n",
      "2\n",
      "We got a number\n"
     ]
    }
   ],
   "source": [
    "i = 0\n",
    "while i<=5:\n",
    "    print(i) # 0,1,2\n",
    "    i = i +1# 1,2,3\n",
    "    if i ==3:\n",
    "        print('We got a number')\n",
    "        break"
   ]
  },
  {
   "cell_type": "code",
   "execution_count": 11,
   "id": "be9bf4f2",
   "metadata": {},
   "outputs": [
    {
     "name": "stdout",
     "output_type": "stream",
     "text": [
      "1\n",
      "2\n",
      "3\n",
      "we got our number and please stop the loop 3\n"
     ]
    }
   ],
   "source": [
    "i=0\n",
    "while i<10:\n",
    "    i=i+1\n",
    "    print(i)\n",
    "    if i==3:\n",
    "        print(f'we got our number and please stop the loop',i)\n",
    "        break"
   ]
  },
  {
   "cell_type": "code",
   "execution_count": 7,
   "id": "55f0c7da",
   "metadata": {},
   "outputs": [
    {
     "name": "stdout",
     "output_type": "stream",
     "text": [
      "0\n",
      "1\n",
      "2\n",
      "3\n",
      "4\n",
      "5\n",
      "6\n",
      "7\n",
      "we got\n"
     ]
    }
   ],
   "source": [
    "i=0\n",
    "while i<11:\n",
    "    print(i)\n",
    "    if i==7:\n",
    "        print('we got')\n",
    "        break\n",
    "    i=i+1"
   ]
  },
  {
   "cell_type": "code",
   "execution_count": 8,
   "id": "a4483a5f",
   "metadata": {
    "scrolled": false
   },
   "outputs": [
    {
     "name": "stdout",
     "output_type": "stream",
     "text": [
      "1\n",
      "2\n",
      "3\n",
      "4\n",
      "5\n",
      "6\n",
      "we got\n"
     ]
    }
   ],
   "source": [
    "i=1\n",
    "while i<11:\n",
    "    i=i+1\n",
    "    if i==7:\n",
    "        print('we got')\n",
    "        break\n",
    "    print(i)"
   ]
  },
  {
   "cell_type": "code",
   "execution_count": 8,
   "id": "38ddc74e",
   "metadata": {},
   "outputs": [
    {
     "name": "stdout",
     "output_type": "stream",
     "text": [
      "2\n",
      "3\n",
      "4\n",
      "5\n",
      "6\n",
      "7\n",
      "we got\n"
     ]
    }
   ],
   "source": [
    "i=1\n",
    "while i<11:\n",
    "    if i==7:\n",
    "        print('we got')\n",
    "        break\n",
    "    i=i+1\n",
    "    print(i)"
   ]
  },
  {
   "cell_type": "code",
   "execution_count": 13,
   "id": "a07d9270",
   "metadata": {},
   "outputs": [
    {
     "name": "stdout",
     "output_type": "stream",
     "text": [
      "1\n",
      "2\n",
      "3\n",
      "4\n",
      "5\n",
      "6\n",
      "we got\n"
     ]
    }
   ],
   "source": [
    "i=1\n",
    "while i<11:\n",
    "    if i==7:\n",
    "        print('we got')\n",
    "        break\n",
    "    print(i)\n",
    "    i=i+1"
   ]
  },
  {
   "cell_type": "markdown",
   "id": "9afaea5e",
   "metadata": {},
   "source": [
    "## continue"
   ]
  },
  {
   "cell_type": "code",
   "execution_count": 9,
   "id": "b420b978",
   "metadata": {},
   "outputs": [
    {
     "name": "stdout",
     "output_type": "stream",
     "text": [
      "5\n",
      "6\n",
      "7\n",
      "We got a number\n",
      "8\n",
      "9\n",
      "10\n"
     ]
    }
   ],
   "source": [
    "i = 5\n",
    "while i<=10:\n",
    "    print(i)# 5, 6, 7\n",
    "    i = i + 1 # 6, 7, 8\n",
    "    if i ==8:\n",
    "        print('We got a number')\n",
    "        continue"
   ]
  },
  {
   "cell_type": "code",
   "execution_count": 14,
   "id": "fff3bc09",
   "metadata": {},
   "outputs": [
    {
     "name": "stdout",
     "output_type": "stream",
     "text": [
      "6\n",
      "7\n",
      "8\n",
      "We got a number\n",
      "9\n",
      "10\n",
      "11\n"
     ]
    }
   ],
   "source": [
    "i = 5\n",
    "while i<=10:\n",
    "    i=i+1\n",
    "    print(i)\n",
    "    if i ==8:\n",
    "        print('We got a number')\n",
    "        continue"
   ]
  },
  {
   "cell_type": "code",
   "execution_count": 9,
   "id": "335100eb",
   "metadata": {},
   "outputs": [
    {
     "name": "stdout",
     "output_type": "stream",
     "text": [
      "6\n",
      "7\n",
      "yes we got\n",
      "9\n",
      "10\n"
     ]
    }
   ],
   "source": [
    "i=5\n",
    "while i<10:\n",
    "    i=i+1\n",
    "    if i==8:\n",
    "        print('yes we got')\n",
    "        continue\n",
    "    print(i)"
   ]
  },
  {
   "cell_type": "markdown",
   "id": "f78ad698",
   "metadata": {},
   "source": [
    "## Pass"
   ]
  },
  {
   "cell_type": "code",
   "execution_count": 32,
   "id": "1957f009",
   "metadata": {},
   "outputs": [
    {
     "name": "stdout",
     "output_type": "stream",
     "text": [
      "5\n",
      "6\n",
      "7\n",
      "done we got\n",
      "8\n",
      "9\n"
     ]
    }
   ],
   "source": [
    "i=5\n",
    "while i <10:\n",
    "    print(i)\n",
    "    i=i+1\n",
    "    if i==8:\n",
    "        print('done we got')\n",
    "        pass # pass works only in conditionsl statements"
   ]
  },
  {
   "cell_type": "code",
   "execution_count": 31,
   "id": "9756e016",
   "metadata": {},
   "outputs": [
    {
     "name": "stdout",
     "output_type": "stream",
     "text": [
      "5\n",
      "6\n",
      "7\n",
      "8\n",
      "done we got\n",
      "9\n"
     ]
    }
   ],
   "source": [
    "i=5\n",
    "while i <10:\n",
    "    print(i)\n",
    "    if i==8:\n",
    "        print('done we got')\n",
    "        pass # pass works only in conditionsl dtstements\n",
    "    i=i+1"
   ]
  },
  {
   "cell_type": "code",
   "execution_count": 1,
   "id": "4e4af576",
   "metadata": {},
   "outputs": [
    {
     "name": "stdout",
     "output_type": "stream",
     "text": [
      "W\n",
      "H\n",
      "I\n",
      "L\n",
      "E\n"
     ]
    }
   ],
   "source": [
    "string = 'WHILE' \n",
    "for letter in string:\n",
    "    print(letter)"
   ]
  },
  {
   "cell_type": "code",
   "execution_count": 2,
   "id": "e1cc4021",
   "metadata": {},
   "outputs": [
    {
     "name": "stdout",
     "output_type": "stream",
     "text": [
      "W\n",
      "H\n",
      "I\n",
      "L\n",
      "E\n"
     ]
    }
   ],
   "source": [
    "i = 0\n",
    "while i <len(string):\n",
    "    print(string[i])\n",
    "    i = i+1"
   ]
  },
  {
   "cell_type": "code",
   "execution_count": 4,
   "id": "aa7f6eed",
   "metadata": {},
   "outputs": [
    {
     "name": "stdout",
     "output_type": "stream",
     "text": [
      "H\n",
      "I\n",
      "L\n",
      "E\n"
     ]
    }
   ],
   "source": [
    "i=1\n",
    "while i<len(string):\n",
    "    print(string[i])\n",
    "    i=i+1"
   ]
  },
  {
   "cell_type": "code",
   "execution_count": 5,
   "id": "f02a2c3c",
   "metadata": {},
   "outputs": [
    {
     "name": "stdout",
     "output_type": "stream",
     "text": [
      "H\n",
      "I\n",
      "L\n",
      "E\n"
     ]
    },
    {
     "ename": "IndexError",
     "evalue": "string index out of range",
     "output_type": "error",
     "traceback": [
      "\u001b[1;31m---------------------------------------------------------------------------\u001b[0m",
      "\u001b[1;31mIndexError\u001b[0m                                Traceback (most recent call last)",
      "Input \u001b[1;32mIn [5]\u001b[0m, in \u001b[0;36m<cell line: 2>\u001b[1;34m()\u001b[0m\n\u001b[0;32m      2\u001b[0m \u001b[38;5;28;01mwhile\u001b[39;00m i \u001b[38;5;241m<\u001b[39m\u001b[38;5;28mlen\u001b[39m(string):\n\u001b[0;32m      3\u001b[0m     i \u001b[38;5;241m=\u001b[39m i\u001b[38;5;241m+\u001b[39m\u001b[38;5;241m1\u001b[39m\n\u001b[1;32m----> 4\u001b[0m     \u001b[38;5;28mprint\u001b[39m(\u001b[43mstring\u001b[49m\u001b[43m[\u001b[49m\u001b[43mi\u001b[49m\u001b[43m]\u001b[49m)\n",
      "\u001b[1;31mIndexError\u001b[0m: string index out of range"
     ]
    }
   ],
   "source": [
    "i = 0\n",
    "while i <len(string):\n",
    "    i = i+1\n",
    "    print(string[i])# string[1], [2][3][4][5]"
   ]
  },
  {
   "cell_type": "code",
   "execution_count": 6,
   "id": "736cf14e",
   "metadata": {},
   "outputs": [
    {
     "ename": "IndexError",
     "evalue": "string index out of range",
     "output_type": "error",
     "traceback": [
      "\u001b[1;31m---------------------------------------------------------------------------\u001b[0m",
      "\u001b[1;31mIndexError\u001b[0m                                Traceback (most recent call last)",
      "Input \u001b[1;32mIn [6]\u001b[0m, in \u001b[0;36m<cell line: 1>\u001b[1;34m()\u001b[0m\n\u001b[1;32m----> 1\u001b[0m \u001b[43mstring\u001b[49m\u001b[43m[\u001b[49m\u001b[38;5;241;43m5\u001b[39;49m\u001b[43m]\u001b[49m\n",
      "\u001b[1;31mIndexError\u001b[0m: string index out of range"
     ]
    }
   ],
   "source": [
    "string[5]# 5, 0,1,2,3,4"
   ]
  },
  {
   "cell_type": "code",
   "execution_count": 7,
   "id": "15c39044",
   "metadata": {},
   "outputs": [
    {
     "name": "stdout",
     "output_type": "stream",
     "text": [
      "120\n"
     ]
    }
   ],
   "source": [
    "fact = 1\n",
    "n = 5\n",
    "for i in range(1,n+1):\n",
    "    fact = fact*i\n",
    "print(fact)"
   ]
  },
  {
   "cell_type": "code",
   "execution_count": 14,
   "id": "de9e3f44",
   "metadata": {},
   "outputs": [
    {
     "name": "stdout",
     "output_type": "stream",
     "text": [
      "120\n"
     ]
    }
   ],
   "source": [
    "a=1\n",
    "n=6\n",
    "for i in range(1,n):\n",
    "    a=a*i\n",
    "print(a)"
   ]
  },
  {
   "cell_type": "code",
   "execution_count": 18,
   "id": "2f10867b",
   "metadata": {},
   "outputs": [
    {
     "name": "stdout",
     "output_type": "stream",
     "text": [
      "120\n"
     ]
    }
   ],
   "source": [
    "s=1\n",
    "n=7\n",
    "for i in range(1,n-1):\n",
    "    s=s*i\n",
    "print(s)"
   ]
  },
  {
   "cell_type": "code",
   "execution_count": 10,
   "id": "1c4cdb6c",
   "metadata": {},
   "outputs": [
    {
     "name": "stdout",
     "output_type": "stream",
     "text": [
      "1\n",
      "2\n",
      "6\n",
      "24\n",
      "120\n"
     ]
    }
   ],
   "source": [
    "fact=1\n",
    "a=0\n",
    "while a<5:\n",
    "    a=a+1\n",
    "    fact=fact*a\n",
    "    print(fact)"
   ]
  },
  {
   "cell_type": "code",
   "execution_count": 19,
   "id": "ed10b895",
   "metadata": {},
   "outputs": [
    {
     "name": "stdout",
     "output_type": "stream",
     "text": [
      "fact 120\n"
     ]
    }
   ],
   "source": [
    "fact = 1\n",
    "a = 0\n",
    "while a<5:\n",
    "    a = a+1\n",
    "    fact = fact * a\n",
    "print('fact', fact)"
   ]
  },
  {
   "cell_type": "code",
   "execution_count": 18,
   "id": "04788763",
   "metadata": {},
   "outputs": [
    {
     "name": "stdout",
     "output_type": "stream",
     "text": [
      "The result of factorial =  120\n"
     ]
    }
   ],
   "source": [
    "x = 5\n",
    "factorial =1\n",
    "while x > 1:\n",
    "    factorial *= x\n",
    "    x -= 1\n",
    "print(\"The result of factorial = \", factorial)"
   ]
  },
  {
   "cell_type": "markdown",
   "id": "2f7cb8ef",
   "metadata": {},
   "source": [
    "# while else"
   ]
  },
  {
   "cell_type": "raw",
   "id": "43ad1710",
   "metadata": {},
   "source": [
    "else statement execute only that time when while loop ia completed"
   ]
  },
  {
   "cell_type": "code",
   "execution_count": 12,
   "id": "4a59c3f0",
   "metadata": {},
   "outputs": [
    {
     "name": "stdout",
     "output_type": "stream",
     "text": [
      "0\n",
      "1\n",
      "2\n",
      "3\n",
      "4\n"
     ]
    }
   ],
   "source": [
    "i = 0 \n",
    "while i <5:\n",
    "    print(i)\n",
    "    i = i +1"
   ]
  },
  {
   "cell_type": "code",
   "execution_count": 13,
   "id": "a73f7cec",
   "metadata": {},
   "outputs": [
    {
     "name": "stdout",
     "output_type": "stream",
     "text": [
      "1\n",
      "2\n",
      "3\n",
      "4\n",
      "5\n"
     ]
    }
   ],
   "source": [
    "i=0\n",
    "while i<5:\n",
    "    i=i+1\n",
    "    print(i)"
   ]
  },
  {
   "cell_type": "code",
   "execution_count": 15,
   "id": "057b703a",
   "metadata": {},
   "outputs": [
    {
     "name": "stdout",
     "output_type": "stream",
     "text": [
      "0\n",
      "1\n",
      "2\n",
      "3\n",
      "4\n",
      "loop is completed\n"
     ]
    }
   ],
   "source": [
    "i=0\n",
    "while i<5:\n",
    "    print(i)\n",
    "    i=i+1\n",
    "else:\n",
    "    print('loop is completed')"
   ]
  },
  {
   "cell_type": "code",
   "execution_count": 19,
   "id": "964219ec",
   "metadata": {},
   "outputs": [
    {
     "name": "stdout",
     "output_type": "stream",
     "text": [
      "1\n",
      "2\n",
      "3\n",
      "loop got us\n"
     ]
    }
   ],
   "source": [
    "i=0\n",
    "while i<5:\n",
    "    i=i+1\n",
    "    print(i)\n",
    "    if i==3:\n",
    "        print('loop got us')\n",
    "        break\n",
    "else:\n",
    "    print('loop is completed')"
   ]
  },
  {
   "cell_type": "code",
   "execution_count": 21,
   "id": "2d82dd51",
   "metadata": {},
   "outputs": [
    {
     "name": "stdout",
     "output_type": "stream",
     "text": [
      "0\n",
      "1\n",
      "2\n",
      "got it\n"
     ]
    }
   ],
   "source": [
    "i=0\n",
    "while i<5:\n",
    "    print(i)\n",
    "    i=i+1\n",
    "    if i==3:\n",
    "        print('got it')\n",
    "        break\n",
    "else:\n",
    "    print('yep bro we got it')"
   ]
  },
  {
   "cell_type": "code",
   "execution_count": 22,
   "id": "c1c23ba7",
   "metadata": {},
   "outputs": [
    {
     "name": "stdout",
     "output_type": "stream",
     "text": [
      "0\n",
      "1\n",
      "2\n",
      "got it\n",
      "3\n",
      "4\n",
      "yep bro we got it\n"
     ]
    }
   ],
   "source": [
    "i=0\n",
    "while i<5:\n",
    "    print(i)\n",
    "    i=i+1\n",
    "    if i==3:\n",
    "        print('got it')\n",
    "        continue\n",
    "else:\n",
    "    print('yep bro we got it')"
   ]
  },
  {
   "cell_type": "code",
   "execution_count": 23,
   "id": "adecc38e",
   "metadata": {},
   "outputs": [
    {
     "name": "stdout",
     "output_type": "stream",
     "text": [
      "1\n",
      "2\n",
      "3\n",
      "yes got it\n",
      "4\n",
      "5\n",
      "yep bro we got it\n"
     ]
    }
   ],
   "source": [
    "i=0\n",
    "while i<5:\n",
    "    i=i+1\n",
    "    print(i)\n",
    "    if i==3:\n",
    "        print('yes got it')\n",
    "        continue\n",
    "else:\n",
    "    print('yep bro we got it')\n",
    "        "
   ]
  },
  {
   "cell_type": "code",
   "execution_count": 24,
   "id": "a3c1f19e",
   "metadata": {},
   "outputs": [
    {
     "name": "stdout",
     "output_type": "stream",
     "text": [
      "1\n",
      "2\n",
      "yes got it\n",
      "4\n",
      "5\n",
      "yep bro we got it\n"
     ]
    }
   ],
   "source": [
    "i=0\n",
    "while i<5:\n",
    "    i=i+1\n",
    "    if i==3:\n",
    "        print('yes got it')\n",
    "        continue\n",
    "    print(i)\n",
    "else:\n",
    "    print('yep bro we got it')\n",
    "        "
   ]
  },
  {
   "cell_type": "code",
   "execution_count": 25,
   "id": "4ada7bcc",
   "metadata": {},
   "outputs": [
    {
     "name": "stdout",
     "output_type": "stream",
     "text": [
      "1\n",
      "2\n",
      "3\n",
      "yes got it\n",
      "4\n",
      "5\n",
      "yep bro we got it\n"
     ]
    }
   ],
   "source": [
    "i=0\n",
    "while i<5:\n",
    "    i=i+1\n",
    "    print(i)\n",
    "    if i==3:\n",
    "        print('yes got it')\n",
    "        pass\n",
    "else:\n",
    "    print('yep bro we got it')\n",
    "        "
   ]
  },
  {
   "cell_type": "code",
   "execution_count": 27,
   "id": "991d69b9",
   "metadata": {},
   "outputs": [
    {
     "name": "stdout",
     "output_type": "stream",
     "text": [
      "0\n",
      "1\n",
      "2\n",
      "yes got it\n",
      "3\n",
      "4\n",
      "yep bro we got it\n"
     ]
    }
   ],
   "source": [
    "i=0\n",
    "while i<5:\n",
    "    print(i)\n",
    "    i=i+1\n",
    "    if i==3:\n",
    "        print('yes got it')\n",
    "        pass\n",
    "else:\n",
    "    print('yep bro we got it')\n",
    "        "
   ]
  },
  {
   "cell_type": "code",
   "execution_count": 30,
   "id": "5f62c01b",
   "metadata": {},
   "outputs": [
    {
     "name": "stdout",
     "output_type": "stream",
     "text": [
      "1\n",
      "2\n",
      "yes got it\n",
      "3\n",
      "4\n",
      "5\n",
      "yep bro we got it\n"
     ]
    }
   ],
   "source": [
    "i=0\n",
    "while i<5:\n",
    "    i=i+1\n",
    "    if i==3:\n",
    "        print('yes got it')\n",
    "        pass\n",
    "    print(i)\n",
    "else:\n",
    "    print('yep bro we got it')\n",
    "        "
   ]
  },
  {
   "cell_type": "code",
   "execution_count": null,
   "id": "e02f1a1b",
   "metadata": {},
   "outputs": [],
   "source": []
  }
 ],
 "metadata": {
  "kernelspec": {
   "display_name": "Python 3 (ipykernel)",
   "language": "python",
   "name": "python3"
  },
  "language_info": {
   "codemirror_mode": {
    "name": "ipython",
    "version": 3
   },
   "file_extension": ".py",
   "mimetype": "text/x-python",
   "name": "python",
   "nbconvert_exporter": "python",
   "pygments_lexer": "ipython3",
   "version": "3.9.12"
  }
 },
 "nbformat": 4,
 "nbformat_minor": 5
}
