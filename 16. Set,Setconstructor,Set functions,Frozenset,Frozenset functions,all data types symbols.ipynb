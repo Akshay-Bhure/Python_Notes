{
 "cells": [
  {
   "cell_type": "markdown",
   "id": "8174d23d",
   "metadata": {},
   "source": [
    "# SET"
   ]
  },
  {
   "cell_type": "raw",
   "id": "8ce7f2f2",
   "metadata": {},
   "source": [
    "set is one of data type\n",
    "set is enclosed with curly bracket.\n",
    "Unordered\n",
    "Unindexed>> There is no use of indexing or slicing in set\n",
    "Duplicates are not allowed.\n",
    "Mutable\n",
    "Empty set is shown as = set()\n",
    "int, float, string, tuple >> These data types are allowed inside set\n",
    "list, dict, set >> These are not allowed inside set"
   ]
  },
  {
   "cell_type": "code",
   "execution_count": 3,
   "id": "d97569fe",
   "metadata": {},
   "outputs": [
    {
     "data": {
      "text/plain": [
       "[4, 5, 6, 2, 7]"
      ]
     },
     "execution_count": 3,
     "metadata": {},
     "output_type": "execute_result"
    }
   ],
   "source": [
    "list1 =[ 4,5,6,2,7]\n",
    "list1"
   ]
  },
  {
   "cell_type": "code",
   "execution_count": 5,
   "id": "3a00eadd",
   "metadata": {},
   "outputs": [
    {
     "data": {
      "text/plain": [
       "5"
      ]
     },
     "execution_count": 5,
     "metadata": {},
     "output_type": "execute_result"
    }
   ],
   "source": [
    "list1[1]"
   ]
  },
  {
   "cell_type": "code",
   "execution_count": 6,
   "id": "dc387462",
   "metadata": {},
   "outputs": [
    {
     "data": {
      "text/plain": [
       "4"
      ]
     },
     "execution_count": 6,
     "metadata": {},
     "output_type": "execute_result"
    }
   ],
   "source": [
    "list1[0]"
   ]
  },
  {
   "cell_type": "code",
   "execution_count": 7,
   "id": "f64a974e",
   "metadata": {},
   "outputs": [
    {
     "data": {
      "text/plain": [
       "{6, 7, 23, 34, 42, 56, 76}"
      ]
     },
     "execution_count": 7,
     "metadata": {},
     "output_type": "execute_result"
    }
   ],
   "source": [
    "set1={23,42,34,56,76,76,7,6}\n",
    "set1"
   ]
  },
  {
   "cell_type": "code",
   "execution_count": 10,
   "id": "3fc089e8",
   "metadata": {},
   "outputs": [
    {
     "ename": "TypeError",
     "evalue": "'set' object is not subscriptable",
     "output_type": "error",
     "traceback": [
      "\u001b[1;31m---------------------------------------------------------------------------\u001b[0m",
      "\u001b[1;31mTypeError\u001b[0m                                 Traceback (most recent call last)",
      "Input \u001b[1;32mIn [10]\u001b[0m, in \u001b[0;36m<cell line: 1>\u001b[1;34m()\u001b[0m\n\u001b[1;32m----> 1\u001b[0m \u001b[43mset1\u001b[49m\u001b[43m[\u001b[49m\u001b[38;5;241;43m1\u001b[39;49m\u001b[43m]\u001b[49m\n",
      "\u001b[1;31mTypeError\u001b[0m: 'set' object is not subscriptable"
     ]
    }
   ],
   "source": [
    "set1[1]"
   ]
  },
  {
   "cell_type": "code",
   "execution_count": 11,
   "id": "059bd16d",
   "metadata": {},
   "outputs": [
    {
     "ename": "TypeError",
     "evalue": "'set' object is not subscriptable",
     "output_type": "error",
     "traceback": [
      "\u001b[1;31m---------------------------------------------------------------------------\u001b[0m",
      "\u001b[1;31mTypeError\u001b[0m                                 Traceback (most recent call last)",
      "Input \u001b[1;32mIn [11]\u001b[0m, in \u001b[0;36m<cell line: 1>\u001b[1;34m()\u001b[0m\n\u001b[1;32m----> 1\u001b[0m \u001b[43mset1\u001b[49m\u001b[43m[\u001b[49m\u001b[38;5;241;43m0\u001b[39;49m\u001b[43m]\u001b[49m\n",
      "\u001b[1;31mTypeError\u001b[0m: 'set' object is not subscriptable"
     ]
    }
   ],
   "source": [
    "set1[0]"
   ]
  },
  {
   "cell_type": "code",
   "execution_count": 12,
   "id": "c1e602fb",
   "metadata": {},
   "outputs": [
    {
     "name": "stdout",
     "output_type": "stream",
     "text": [
      "[2, 32, 434, 56, 1, 2, 34, 56, 7] 9\n",
      "{32, 1, 2, 34, 434, 7, 56} 7\n"
     ]
    }
   ],
   "source": [
    "list2=[2,32,434,56,1,2,34,56,7]\n",
    "set2 ={2,32,434,56,1,2,34,56,7}\n",
    "print(list2,len(list2))\n",
    "print(set2,len(set2))"
   ]
  },
  {
   "cell_type": "markdown",
   "id": "85d6f45c",
   "metadata": {},
   "source": [
    "# How to identify data types with there symbols"
   ]
  },
  {
   "cell_type": "raw",
   "id": "8b283527",
   "metadata": {},
   "source": [
    "# empty list:[],element list[12,34,56,45,'ram','sham']\n",
    "tuple:(), single element(7,),multiple element(23,45,67,'amit,'sham')\n",
    "str:'',\" \",\"\"\" \"\"\",''' '''.\n",
    "empty set:set(), set{1,2,3,4},single element{3}\n",
    "empty dict:{}, dict {key:value}"
   ]
  },
  {
   "cell_type": "code",
   "execution_count": 1,
   "id": "4dd889a9",
   "metadata": {},
   "outputs": [
    {
     "data": {
      "text/plain": [
       "dict"
      ]
     },
     "execution_count": 1,
     "metadata": {},
     "output_type": "execute_result"
    }
   ],
   "source": [
    "set1={}\n",
    "type(set1)"
   ]
  },
  {
   "cell_type": "code",
   "execution_count": 9,
   "id": "15d8d469",
   "metadata": {},
   "outputs": [
    {
     "data": {
      "text/plain": [
       "set"
      ]
     },
     "execution_count": 9,
     "metadata": {},
     "output_type": "execute_result"
    }
   ],
   "source": [
    "set1={2,3,45,6}\n",
    "type(set1)"
   ]
  },
  {
   "cell_type": "code",
   "execution_count": 27,
   "id": "078e4a32",
   "metadata": {},
   "outputs": [
    {
     "data": {
      "text/plain": [
       "set"
      ]
     },
     "execution_count": 27,
     "metadata": {},
     "output_type": "execute_result"
    }
   ],
   "source": [
    "set1={2}\n",
    "type(set1)"
   ]
  },
  {
   "cell_type": "code",
   "execution_count": 3,
   "id": "2751f075",
   "metadata": {},
   "outputs": [
    {
     "data": {
      "text/plain": [
       "set"
      ]
     },
     "execution_count": 3,
     "metadata": {},
     "output_type": "execute_result"
    }
   ],
   "source": [
    "set2=set()\n",
    "type(set2)"
   ]
  },
  {
   "cell_type": "code",
   "execution_count": 4,
   "id": "08d8fe94",
   "metadata": {},
   "outputs": [
    {
     "data": {
      "text/plain": [
       "tuple"
      ]
     },
     "execution_count": 4,
     "metadata": {},
     "output_type": "execute_result"
    }
   ],
   "source": [
    "set3=(2,)\n",
    "type(set3)"
   ]
  },
  {
   "cell_type": "code",
   "execution_count": 10,
   "id": "ac2689a2",
   "metadata": {},
   "outputs": [
    {
     "data": {
      "text/plain": [
       "tuple"
      ]
     },
     "execution_count": 10,
     "metadata": {},
     "output_type": "execute_result"
    }
   ],
   "source": [
    "set3=(2,3,4)\n",
    "type(set3)"
   ]
  },
  {
   "cell_type": "code",
   "execution_count": 8,
   "id": "291345ef",
   "metadata": {},
   "outputs": [
    {
     "data": {
      "text/plain": [
       "tuple"
      ]
     },
     "execution_count": 8,
     "metadata": {},
     "output_type": "execute_result"
    }
   ],
   "source": [
    "set4=()\n",
    "type(set4)"
   ]
  },
  {
   "cell_type": "code",
   "execution_count": 7,
   "id": "68a3b93f",
   "metadata": {},
   "outputs": [
    {
     "data": {
      "text/plain": [
       "list"
      ]
     },
     "execution_count": 7,
     "metadata": {},
     "output_type": "execute_result"
    }
   ],
   "source": [
    "set5=[]\n",
    "type(set5)"
   ]
  },
  {
   "cell_type": "code",
   "execution_count": 11,
   "id": "f14e3b2d",
   "metadata": {},
   "outputs": [
    {
     "data": {
      "text/plain": [
       "list"
      ]
     },
     "execution_count": 11,
     "metadata": {},
     "output_type": "execute_result"
    }
   ],
   "source": [
    "set5=[1.3,34,5,4,6]\n",
    "type(set5)"
   ]
  },
  {
   "cell_type": "code",
   "execution_count": 1,
   "id": "dbb38777",
   "metadata": {},
   "outputs": [
    {
     "data": {
      "text/plain": [
       "list"
      ]
     },
     "execution_count": 1,
     "metadata": {},
     "output_type": "execute_result"
    }
   ],
   "source": [
    "set5=[1.3,34,5,4,6,'ram','sham']\n",
    "type(set5)"
   ]
  },
  {
   "cell_type": "code",
   "execution_count": 12,
   "id": "421fdafa",
   "metadata": {},
   "outputs": [
    {
     "data": {
      "text/plain": [
       "str"
      ]
     },
     "execution_count": 12,
     "metadata": {},
     "output_type": "execute_result"
    }
   ],
   "source": [
    "set6='ram lal pyare'\n",
    "type(set6)"
   ]
  },
  {
   "cell_type": "code",
   "execution_count": 13,
   "id": "f6714aa8",
   "metadata": {},
   "outputs": [
    {
     "data": {
      "text/plain": [
       "str"
      ]
     },
     "execution_count": 13,
     "metadata": {},
     "output_type": "execute_result"
    }
   ],
   "source": [
    "set6=\"ram lal pyare\"\n",
    "type(set6)"
   ]
  },
  {
   "cell_type": "code",
   "execution_count": 14,
   "id": "d65b2dbe",
   "metadata": {},
   "outputs": [
    {
     "data": {
      "text/plain": [
       "str"
      ]
     },
     "execution_count": 14,
     "metadata": {},
     "output_type": "execute_result"
    }
   ],
   "source": [
    "set6=\"\"\"ram lal pyare\"\"\"\n",
    "type(set6)"
   ]
  },
  {
   "cell_type": "code",
   "execution_count": 22,
   "id": "f66d93a2",
   "metadata": {},
   "outputs": [
    {
     "data": {
      "text/plain": [
       "dict"
      ]
     },
     "execution_count": 22,
     "metadata": {},
     "output_type": "execute_result"
    }
   ],
   "source": [
    "key='ram'\n",
    "value=45\n",
    "dict1 = {key:value}\n",
    "type(dict1)"
   ]
  },
  {
   "cell_type": "code",
   "execution_count": 23,
   "id": "2fbe934e",
   "metadata": {},
   "outputs": [
    {
     "data": {
      "text/plain": [
       "dict"
      ]
     },
     "execution_count": 23,
     "metadata": {},
     "output_type": "execute_result"
    }
   ],
   "source": [
    "dict1 = {'ram':45}\n",
    "type(dict1)"
   ]
  },
  {
   "cell_type": "code",
   "execution_count": 24,
   "id": "da16e02b",
   "metadata": {},
   "outputs": [
    {
     "ename": "NameError",
     "evalue": "name 'key1' is not defined",
     "output_type": "error",
     "traceback": [
      "\u001b[1;31m---------------------------------------------------------------------------\u001b[0m",
      "\u001b[1;31mNameError\u001b[0m                                 Traceback (most recent call last)",
      "Input \u001b[1;32mIn [24]\u001b[0m, in \u001b[0;36m<cell line: 2>\u001b[1;34m()\u001b[0m\n\u001b[0;32m      1\u001b[0m dict1 \u001b[38;5;241m=\u001b[39m {key:value}\n\u001b[1;32m----> 2\u001b[0m dict2 \u001b[38;5;241m=\u001b[39m {\u001b[43mkey1\u001b[49m:value1, key2: value2} \n\u001b[0;32m      3\u001b[0m \u001b[38;5;28mtype\u001b[39m(dict2)\n",
      "\u001b[1;31mNameError\u001b[0m: name 'key1' is not defined"
     ]
    }
   ],
   "source": [
    "dict1 = {key:value}\n",
    "dict2 = {key1:value1, key2: value2} \n",
    "type(dict2)"
   ]
  },
  {
   "cell_type": "code",
   "execution_count": 26,
   "id": "b2e1f696",
   "metadata": {},
   "outputs": [
    {
     "ename": "TypeError",
     "evalue": "unhashable type: 'list'",
     "output_type": "error",
     "traceback": [
      "\u001b[1;31m---------------------------------------------------------------------------\u001b[0m",
      "\u001b[1;31mTypeError\u001b[0m                                 Traceback (most recent call last)",
      "Input \u001b[1;32mIn [26]\u001b[0m, in \u001b[0;36m<cell line: 1>\u001b[1;34m()\u001b[0m\n\u001b[1;32m----> 1\u001b[0m set3 \u001b[38;5;241m=\u001b[39m {\u001b[38;5;241m2\u001b[39m,\u001b[38;5;241m3\u001b[39m,\u001b[38;5;241m5\u001b[39m,[\u001b[38;5;241m1\u001b[39m,\u001b[38;5;241m2\u001b[39m],{\u001b[38;5;241m4\u001b[39m}}\n\u001b[0;32m      2\u001b[0m set3\n",
      "\u001b[1;31mTypeError\u001b[0m: unhashable type: 'list'"
     ]
    }
   ],
   "source": [
    "set3 = {2,3,5,[1,2],{4}}\n",
    "set3"
   ]
  },
  {
   "cell_type": "code",
   "execution_count": 28,
   "id": "c6ec853d",
   "metadata": {},
   "outputs": [
    {
     "ename": "TypeError",
     "evalue": "unhashable type: 'set'",
     "output_type": "error",
     "traceback": [
      "\u001b[1;31m---------------------------------------------------------------------------\u001b[0m",
      "\u001b[1;31mTypeError\u001b[0m                                 Traceback (most recent call last)",
      "Input \u001b[1;32mIn [28]\u001b[0m, in \u001b[0;36m<cell line: 1>\u001b[1;34m()\u001b[0m\n\u001b[1;32m----> 1\u001b[0m set3 \u001b[38;5;241m=\u001b[39m {\u001b[38;5;241m2\u001b[39m,\u001b[38;5;241m3\u001b[39m,\u001b[38;5;241m5\u001b[39m,{\u001b[38;5;241m4\u001b[39m}}\n\u001b[0;32m      2\u001b[0m set3\n",
      "\u001b[1;31mTypeError\u001b[0m: unhashable type: 'set'"
     ]
    }
   ],
   "source": [
    "set3 = {2,3,5,{4}}\n",
    "set3"
   ]
  },
  {
   "cell_type": "code",
   "execution_count": 30,
   "id": "cb633f36",
   "metadata": {},
   "outputs": [
    {
     "name": "stdout",
     "output_type": "stream",
     "text": [
      "[4, 2, 1, 'Python', (2, 4), 5.2, 5.5, 0, True, 1, False] 11\n"
     ]
    }
   ],
   "source": [
    "list2 =[4,2,1,'Python',(2,4),5.2, 5.5,0 , True, 1, False]\n",
    "print(list2, len(list2))"
   ]
  },
  {
   "cell_type": "code",
   "execution_count": 29,
   "id": "27c535ab",
   "metadata": {},
   "outputs": [
    {
     "name": "stdout",
     "output_type": "stream",
     "text": [
      "{0, 1, 2, (2, 4), 4, 5.2, 5.5, 'Python'} 8\n"
     ]
    }
   ],
   "source": [
    "set1 = {4,2,1,'Python',(2,4),5.2, 5.5,0 , True, 1, False}\n",
    "print(set1, len(set1))"
   ]
  },
  {
   "cell_type": "raw",
   "id": "8b2c074a",
   "metadata": {},
   "source": [
    "here it is considering\n",
    "True=1\n",
    "False=0"
   ]
  },
  {
   "cell_type": "code",
   "execution_count": 31,
   "id": "a245f34a",
   "metadata": {},
   "outputs": [
    {
     "name": "stdout",
     "output_type": "stream",
     "text": [
      "{0, True, 2, (2, 4), 4, 5.2, 5.5, 'Python'} 8\n"
     ]
    }
   ],
   "source": [
    "set1 = {4,2,'Python',(2,4),5.2, 5.5,0 , True, False}\n",
    "print(set1, len(set1))"
   ]
  },
  {
   "cell_type": "code",
   "execution_count": 33,
   "id": "26e27f5a",
   "metadata": {},
   "outputs": [
    {
     "name": "stdout",
     "output_type": "stream",
     "text": [
      "{False, True, 2, (2, 4), 4, 5.2, 5.5, 'Python'} 8\n"
     ]
    }
   ],
   "source": [
    "set1 = {4,2,'Python',(2,4),5.2, 5.5, True, False}\n",
    "print(set1, len(set1))"
   ]
  },
  {
   "cell_type": "markdown",
   "id": "4f7cf5fb",
   "metadata": {},
   "source": [
    "## Set Constructor"
   ]
  },
  {
   "cell_type": "code",
   "execution_count": 34,
   "id": "5f430748",
   "metadata": {},
   "outputs": [
    {
     "name": "stdout",
     "output_type": "stream",
     "text": [
      "[4, 2, 1, 'Python', (2, 4), 5.2, 5.5, 0, True, 1, False] 11\n"
     ]
    }
   ],
   "source": [
    "list2 =[4,2,1,'Python',(2,4),5.2, 5.5,0 , True, 1, False]\n",
    "print(list2, len(list2))"
   ]
  },
  {
   "cell_type": "code",
   "execution_count": 35,
   "id": "cadc7265",
   "metadata": {},
   "outputs": [
    {
     "data": {
      "text/plain": [
       "{(2, 4), 0, 1, 2, 4, 5.2, 5.5, 'Python'}"
      ]
     },
     "execution_count": 35,
     "metadata": {},
     "output_type": "execute_result"
    }
   ],
   "source": [
    "# List to set\n",
    "list2 =[4,2,1,'Python',(2,4),5.2, 5.5,0 , True, 1, False]\n",
    "set1 = set(list2)\n",
    "set1"
   ]
  },
  {
   "cell_type": "code",
   "execution_count": 36,
   "id": "d02e7bc6",
   "metadata": {},
   "outputs": [
    {
     "data": {
      "text/plain": [
       "{0, 1, 2, 3, 4, 7, 8, 9}"
      ]
     },
     "execution_count": 36,
     "metadata": {},
     "output_type": "execute_result"
    }
   ],
   "source": [
    "#tuple to set\n",
    "tup = (1,4,2,7,8,9,1,0,3)\n",
    "set2 = set(tup)\n",
    "set2"
   ]
  },
  {
   "cell_type": "code",
   "execution_count": 38,
   "id": "95ee618b",
   "metadata": {},
   "outputs": [
    {
     "data": {
      "text/plain": [
       "{'e', 'm', 's', 't'}"
      ]
     },
     "execution_count": 38,
     "metadata": {},
     "output_type": "execute_result"
    }
   ],
   "source": [
    "#string to set\n",
    "string = 'setmet'\n",
    "set3 = set(string)\n",
    "set3"
   ]
  },
  {
   "cell_type": "code",
   "execution_count": 39,
   "id": "cc86a4e0",
   "metadata": {},
   "outputs": [
    {
     "data": {
      "text/plain": [
       "{'h', 'n', 'o', 'p', 't', 'y'}"
      ]
     },
     "execution_count": 39,
     "metadata": {},
     "output_type": "execute_result"
    }
   ],
   "source": [
    "string2 = 'python'\n",
    "set3 = set(string2)\n",
    "set3"
   ]
  },
  {
   "cell_type": "code",
   "execution_count": 74,
   "id": "8693659a",
   "metadata": {},
   "outputs": [
    {
     "data": {
      "text/plain": [
       "{'e', 's', 't'}"
      ]
     },
     "execution_count": 74,
     "metadata": {},
     "output_type": "execute_result"
    }
   ],
   "source": [
    "string2 = 'set'\n",
    "set3 = set(string2)\n",
    "set3"
   ]
  },
  {
   "cell_type": "code",
   "execution_count": 40,
   "id": "e923d799",
   "metadata": {},
   "outputs": [
    {
     "data": {
      "text/plain": [
       "{23, 34, 45, 67, 78, 767}"
      ]
     },
     "execution_count": 40,
     "metadata": {},
     "output_type": "execute_result"
    }
   ],
   "source": [
    "number = 23,23,34,45,767,67,78\n",
    "number1 = set(number)\n",
    "number1"
   ]
  },
  {
   "cell_type": "code",
   "execution_count": 42,
   "id": "ff4e02c5",
   "metadata": {},
   "outputs": [
    {
     "data": {
      "text/plain": [
       "{0.4, 0.67, 23, 34.5, 45, 78.4, 767}"
      ]
     },
     "execution_count": 42,
     "metadata": {},
     "output_type": "execute_result"
    }
   ],
   "source": [
    "number_float = 23,23,34.5,45,767,0.67,.4,78.4\n",
    "number1_float = set(number_float)\n",
    "number1_float"
   ]
  },
  {
   "cell_type": "code",
   "execution_count": 4,
   "id": "dba70d53",
   "metadata": {},
   "outputs": [
    {
     "name": "stdout",
     "output_type": "stream",
     "text": [
      "{'ram'} <class 'set'>\n"
     ]
    }
   ],
   "source": [
    "dict1={'ram':67}\n",
    "set2=set(dict1)\n",
    "print(set2,type(set2))"
   ]
  },
  {
   "cell_type": "markdown",
   "id": "bfa00246",
   "metadata": {},
   "source": [
    "## Accessing Set Element"
   ]
  },
  {
   "cell_type": "code",
   "execution_count": 47,
   "id": "f9b8cde3",
   "metadata": {},
   "outputs": [],
   "source": [
    "set1 = {4,2,'Python',(2,4),5.2, 5.5,0 , True, False,1}"
   ]
  },
  {
   "cell_type": "code",
   "execution_count": 48,
   "id": "5b7486e1",
   "metadata": {},
   "outputs": [
    {
     "data": {
      "text/plain": [
       "{(2, 4), 0, 2, 4, 5.2, 5.5, 'Python', True}"
      ]
     },
     "execution_count": 48,
     "metadata": {},
     "output_type": "execute_result"
    }
   ],
   "source": [
    "set1"
   ]
  },
  {
   "cell_type": "code",
   "execution_count": 49,
   "id": "010456bc",
   "metadata": {},
   "outputs": [
    {
     "ename": "TypeError",
     "evalue": "'set' object is not subscriptable",
     "output_type": "error",
     "traceback": [
      "\u001b[1;31m---------------------------------------------------------------------------\u001b[0m",
      "\u001b[1;31mTypeError\u001b[0m                                 Traceback (most recent call last)",
      "Input \u001b[1;32mIn [49]\u001b[0m, in \u001b[0;36m<cell line: 1>\u001b[1;34m()\u001b[0m\n\u001b[1;32m----> 1\u001b[0m \u001b[43mset1\u001b[49m\u001b[43m[\u001b[49m\u001b[38;5;241;43m0\u001b[39;49m\u001b[43m]\u001b[49m\n",
      "\u001b[1;31mTypeError\u001b[0m: 'set' object is not subscriptable"
     ]
    }
   ],
   "source": [
    "set1[0]"
   ]
  },
  {
   "cell_type": "code",
   "execution_count": 51,
   "id": "022e487e",
   "metadata": {},
   "outputs": [
    {
     "ename": "TypeError",
     "evalue": "'set' object is not subscriptable",
     "output_type": "error",
     "traceback": [
      "\u001b[1;31m---------------------------------------------------------------------------\u001b[0m",
      "\u001b[1;31mTypeError\u001b[0m                                 Traceback (most recent call last)",
      "Input \u001b[1;32mIn [51]\u001b[0m, in \u001b[0;36m<cell line: 1>\u001b[1;34m()\u001b[0m\n\u001b[1;32m----> 1\u001b[0m \u001b[43mset1\u001b[49m\u001b[43m[\u001b[49m\u001b[38;5;241;43m5\u001b[39;49m\u001b[43m]\u001b[49m\n",
      "\u001b[1;31mTypeError\u001b[0m: 'set' object is not subscriptable"
     ]
    }
   ],
   "source": [
    "set1[5]"
   ]
  },
  {
   "cell_type": "code",
   "execution_count": 52,
   "id": "c7ba537b",
   "metadata": {},
   "outputs": [
    {
     "name": "stdout",
     "output_type": "stream",
     "text": [
      "0\n",
      "True\n",
      "2\n",
      "(2, 4)\n",
      "4\n",
      "5.2\n",
      "5.5\n",
      "Python\n"
     ]
    }
   ],
   "source": [
    "for element in set1:\n",
    "    print(element)"
   ]
  },
  {
   "cell_type": "code",
   "execution_count": 1,
   "id": "7dd1bf1c",
   "metadata": {},
   "outputs": [
    {
     "data": {
      "text/plain": [
       "{1, 2, 4, 5, 7}"
      ]
     },
     "execution_count": 1,
     "metadata": {},
     "output_type": "execute_result"
    }
   ],
   "source": [
    "list1 = [1,4,1,7,5,1,2,5]\n",
    "list2 = set(list1)\n",
    "list2"
   ]
  },
  {
   "cell_type": "markdown",
   "id": "1e611307",
   "metadata": {},
   "source": [
    "# Set Functions"
   ]
  },
  {
   "cell_type": "code",
   "execution_count": null,
   "id": "72aa1075",
   "metadata": {},
   "outputs": [],
   "source": [
    "1. add()\n",
    "2. update()\n",
    "3. union()\n",
    "4. remove()\n",
    "5. discard()\n",
    "6. pop()\n",
    "7. clear()\n",
    "8. del\n",
    "1. intersection()\n",
    "2. intersection_update()\n",
    "3. difference()\n",
    "4. difference_update()\n",
    "5. symetric_difference()\n",
    "6. symetric_difference_update()\n",
    "7. issubset()\n",
    "8. issuperset()\n",
    "9. isdisjoint()\n",
    "10. Any()\n",
    "11. All()"
   ]
  },
  {
   "cell_type": "markdown",
   "id": "ac4ca0b9",
   "metadata": {},
   "source": [
    "## 1.add()"
   ]
  },
  {
   "cell_type": "raw",
   "id": "857fa28c",
   "metadata": {},
   "source": [
    "Used to add only one element in a set\n",
    "set.add(element)"
   ]
  },
  {
   "cell_type": "code",
   "execution_count": 56,
   "id": "e98ed239",
   "metadata": {},
   "outputs": [
    {
     "name": "stdout",
     "output_type": "stream",
     "text": [
      "{1, 2, 3, 4, 5, 6} \n",
      " 2556130264448\n"
     ]
    }
   ],
   "source": [
    "set1 = {1,5,2,4,3,6}\n",
    "print(set1,'\\n', id(set1))"
   ]
  },
  {
   "cell_type": "code",
   "execution_count": 57,
   "id": "1c60d00d",
   "metadata": {},
   "outputs": [
    {
     "name": "stdout",
     "output_type": "stream",
     "text": [
      "{1, 2, 3, 4, 5, 6, 10} \n",
      " 2556130264448\n"
     ]
    }
   ],
   "source": [
    "set1.add(10)\n",
    "print(set1,'\\n', id(set1))"
   ]
  },
  {
   "cell_type": "code",
   "execution_count": 8,
   "id": "26fc71c4",
   "metadata": {},
   "outputs": [
    {
     "name": "stdout",
     "output_type": "stream",
     "text": [
      "{544, 2, 3, 5, 43, 44, 657, 23, 55} \n",
      " 2993309565664 9\n"
     ]
    }
   ],
   "source": [
    "set2={2,3,23,43,5,44,544,55,55,657}\n",
    "print(set2, '\\n',id(set2),len(set2))"
   ]
  },
  {
   "cell_type": "code",
   "execution_count": 9,
   "id": "b2b484bd",
   "metadata": {},
   "outputs": [
    {
     "name": "stdout",
     "output_type": "stream",
     "text": [
      "{544, 2, 3, 5, 43, 44, 657, 23, 55} \n",
      " 2993309565664 9\n"
     ]
    }
   ],
   "source": [
    "set2.add(23)\n",
    "print(set2,'\\n',id(set2),len(set2))"
   ]
  },
  {
   "cell_type": "code",
   "execution_count": 11,
   "id": "6923b3c9",
   "metadata": {},
   "outputs": [
    {
     "name": "stdout",
     "output_type": "stream",
     "text": [
      "{544, 2, 3, 5, 43, 44, 657, 23, 55} \n",
      " 2993309565664 9\n"
     ]
    }
   ],
   "source": [
    "set2.add(2)\n",
    "print(set2,'\\n',id(set2),len(set2))"
   ]
  },
  {
   "cell_type": "code",
   "execution_count": 2,
   "id": "57e54bf5",
   "metadata": {},
   "outputs": [
    {
     "name": "stdout",
     "output_type": "stream",
     "text": [
      "{33, 34, 345543, 4, 23, 56} \n",
      " 1771355535168\n"
     ]
    }
   ],
   "source": [
    "set1={34,4,33,23,56}\n",
    "set1.add(345543)\n",
    "print(set1,'\\n',id(set1))"
   ]
  },
  {
   "cell_type": "code",
   "execution_count": 14,
   "id": "18345d49",
   "metadata": {},
   "outputs": [
    {
     "data": {
      "text/plain": [
       "{4, 23, 33, 34, 56, 345543}"
      ]
     },
     "execution_count": 14,
     "metadata": {},
     "output_type": "execute_result"
    }
   ],
   "source": [
    "set1"
   ]
  },
  {
   "cell_type": "code",
   "execution_count": 15,
   "id": "91c5fce2",
   "metadata": {},
   "outputs": [
    {
     "data": {
      "text/plain": [
       "2993337390912"
      ]
     },
     "execution_count": 15,
     "metadata": {},
     "output_type": "execute_result"
    }
   ],
   "source": [
    "id(set1)"
   ]
  },
  {
   "cell_type": "code",
   "execution_count": 16,
   "id": "de686634",
   "metadata": {},
   "outputs": [
    {
     "data": {
      "text/plain": [
       "{4, 23, 33, 34, 56, 345543}"
      ]
     },
     "execution_count": 16,
     "metadata": {},
     "output_type": "execute_result"
    }
   ],
   "source": [
    "set2=set1\n",
    "set2"
   ]
  },
  {
   "cell_type": "code",
   "execution_count": 86,
   "id": "31420e9d",
   "metadata": {},
   "outputs": [
    {
     "name": "stdout",
     "output_type": "stream",
     "text": [
      "None\n"
     ]
    }
   ],
   "source": [
    "set2=set1.add(228)\n",
    "print(set2)"
   ]
  },
  {
   "cell_type": "code",
   "execution_count": 1,
   "id": "08cc82c2",
   "metadata": {},
   "outputs": [
    {
     "name": "stdout",
     "output_type": "stream",
     "text": [
      "None \n",
      " 140737157373144\n"
     ]
    }
   ],
   "source": [
    "set1={34,4,33,23,56}\n",
    "set11=set1.add(345543)\n",
    "print(set11,'\\n',id(set11))"
   ]
  },
  {
   "cell_type": "code",
   "execution_count": 3,
   "id": "cee7bc37",
   "metadata": {},
   "outputs": [
    {
     "data": {
      "text/plain": [
       "{'bio', 'math', 'phy'}"
      ]
     },
     "execution_count": 3,
     "metadata": {},
     "output_type": "execute_result"
    }
   ],
   "source": [
    "sub = {'math','phy','bio'}\n",
    "sub"
   ]
  },
  {
   "cell_type": "code",
   "execution_count": 6,
   "id": "f4ab62cc",
   "metadata": {},
   "outputs": [
    {
     "name": "stdout",
     "output_type": "stream",
     "text": [
      "None\n"
     ]
    }
   ],
   "source": [
    "a1=sub.add('ram')\n",
    "print(a1)"
   ]
  },
  {
   "cell_type": "code",
   "execution_count": 3,
   "id": "e7103710",
   "metadata": {},
   "outputs": [
    {
     "data": {
      "text/plain": [
       "{'bio', 'chem', 'math', 'phy'}"
      ]
     },
     "execution_count": 3,
     "metadata": {},
     "output_type": "execute_result"
    }
   ],
   "source": [
    "sub.add('chem')\n",
    "sub"
   ]
  },
  {
   "cell_type": "markdown",
   "id": "36213980",
   "metadata": {},
   "source": [
    "## 2.update()"
   ]
  },
  {
   "cell_type": "raw",
   "id": "6baf9ced",
   "metadata": {},
   "source": [
    "used to add the another set."
   ]
  },
  {
   "cell_type": "code",
   "execution_count": 4,
   "id": "9266d947",
   "metadata": {},
   "outputs": [],
   "source": [
    "sub = {'math','phy','bio'}\n",
    "sub1 = {'chem', 'phy'}"
   ]
  },
  {
   "cell_type": "code",
   "execution_count": 5,
   "id": "b9b31d9c",
   "metadata": {},
   "outputs": [],
   "source": [
    "sub.update(sub1)"
   ]
  },
  {
   "cell_type": "code",
   "execution_count": 6,
   "id": "bf360aa7",
   "metadata": {},
   "outputs": [
    {
     "data": {
      "text/plain": [
       "{'bio', 'chem', 'math', 'phy'}"
      ]
     },
     "execution_count": 6,
     "metadata": {},
     "output_type": "execute_result"
    }
   ],
   "source": [
    "sub"
   ]
  },
  {
   "cell_type": "code",
   "execution_count": 7,
   "id": "5ce8ac27",
   "metadata": {},
   "outputs": [
    {
     "name": "stdout",
     "output_type": "stream",
     "text": [
      "{'bio', 'math', 'chem', 'phy'}\n",
      "{'chem', 'phy'}\n"
     ]
    }
   ],
   "source": [
    "sub.update(sub1)\n",
    "print(sub)\n",
    "print(sub1)"
   ]
  },
  {
   "cell_type": "code",
   "execution_count": 30,
   "id": "03b5f9d1",
   "metadata": {},
   "outputs": [],
   "source": [
    "set1 = {1,4,5}\n",
    "set2 = {2,0,8}"
   ]
  },
  {
   "cell_type": "code",
   "execution_count": 32,
   "id": "98b0bd9d",
   "metadata": {},
   "outputs": [
    {
     "name": "stdout",
     "output_type": "stream",
     "text": [
      "{0, 1, 2, 4, 5, 8}\n",
      "{0, 8, 2}\n"
     ]
    }
   ],
   "source": [
    "set1.update(set2)\n",
    "print(set1)\n",
    "print(set2)"
   ]
  },
  {
   "cell_type": "code",
   "execution_count": 18,
   "id": "209b43de",
   "metadata": {},
   "outputs": [
    {
     "name": "stdout",
     "output_type": "stream",
     "text": [
      "None\n"
     ]
    }
   ],
   "source": [
    "set1 = {1,4,5}\n",
    "set2 = {2,0,8}\n",
    "set3=set1.update(set2)\n",
    "print(set3)"
   ]
  },
  {
   "cell_type": "markdown",
   "id": "fc1a0b67",
   "metadata": {},
   "source": [
    "## 3.union()"
   ]
  },
  {
   "cell_type": "raw",
   "id": "9d4812f9",
   "metadata": {},
   "source": [
    "It add the elements of both the sets. and we need a third variable here."
   ]
  },
  {
   "cell_type": "code",
   "execution_count": 15,
   "id": "b676a991",
   "metadata": {},
   "outputs": [
    {
     "data": {
      "text/plain": [
       "{0, 1, 2, 4, 5, 8}"
      ]
     },
     "execution_count": 15,
     "metadata": {},
     "output_type": "execute_result"
    }
   ],
   "source": [
    "set1 = {1,4,5}\n",
    "set2 = {2,0,8}\n",
    "set3=set1.union(set2)\n",
    "set3"
   ]
  },
  {
   "cell_type": "code",
   "execution_count": 3,
   "id": "b925dab3",
   "metadata": {},
   "outputs": [],
   "source": [
    "sub2 = {'math','phy','bio'}\n",
    "sub1 = {'chem', 'phy'}"
   ]
  },
  {
   "cell_type": "code",
   "execution_count": 4,
   "id": "5faba1f2",
   "metadata": {},
   "outputs": [
    {
     "data": {
      "text/plain": [
       "{'bio', 'math', 'phy'}"
      ]
     },
     "execution_count": 4,
     "metadata": {},
     "output_type": "execute_result"
    }
   ],
   "source": [
    "sub2.union(sub1)\n",
    "sub2"
   ]
  },
  {
   "cell_type": "code",
   "execution_count": 21,
   "id": "97f4adbf",
   "metadata": {},
   "outputs": [
    {
     "name": "stdout",
     "output_type": "stream",
     "text": [
      "{'bio', 'phy', 'chem', 'math'}\n"
     ]
    }
   ],
   "source": [
    "sub3=sub2.union(sub1)\n",
    "print(sub3)"
   ]
  },
  {
   "cell_type": "markdown",
   "id": "3fcbfbb7",
   "metadata": {},
   "source": [
    "# Delet"
   ]
  },
  {
   "cell_type": "markdown",
   "id": "253b948e",
   "metadata": {},
   "source": [
    "## 1.remove()"
   ]
  },
  {
   "cell_type": "raw",
   "id": "cf582350",
   "metadata": {},
   "source": [
    "set.remove(element)\n",
    "used to remove a perticular element from the set."
   ]
  },
  {
   "cell_type": "code",
   "execution_count": 42,
   "id": "2e73cd5f",
   "metadata": {},
   "outputs": [],
   "source": [
    "set1={34,4,33,23,56}"
   ]
  },
  {
   "cell_type": "code",
   "execution_count": 43,
   "id": "bffd4cc7",
   "metadata": {},
   "outputs": [
    {
     "data": {
      "text/plain": [
       "{23, 33, 34, 56}"
      ]
     },
     "execution_count": 43,
     "metadata": {},
     "output_type": "execute_result"
    }
   ],
   "source": [
    "set1.remove(4)\n",
    "set1"
   ]
  },
  {
   "cell_type": "code",
   "execution_count": 44,
   "id": "9c676c3a",
   "metadata": {},
   "outputs": [
    {
     "data": {
      "text/plain": [
       "{23, 33, 34, 56}"
      ]
     },
     "execution_count": 44,
     "metadata": {},
     "output_type": "execute_result"
    }
   ],
   "source": [
    "set1"
   ]
  },
  {
   "cell_type": "code",
   "execution_count": 45,
   "id": "041a96a9",
   "metadata": {},
   "outputs": [
    {
     "ename": "KeyError",
     "evalue": "4",
     "output_type": "error",
     "traceback": [
      "\u001b[1;31m---------------------------------------------------------------------------\u001b[0m",
      "\u001b[1;31mKeyError\u001b[0m                                  Traceback (most recent call last)",
      "Input \u001b[1;32mIn [45]\u001b[0m, in \u001b[0;36m<cell line: 1>\u001b[1;34m()\u001b[0m\n\u001b[1;32m----> 1\u001b[0m \u001b[43mset1\u001b[49m\u001b[38;5;241;43m.\u001b[39;49m\u001b[43mremove\u001b[49m\u001b[43m(\u001b[49m\u001b[38;5;241;43m4\u001b[39;49m\u001b[43m)\u001b[49m\n\u001b[0;32m      2\u001b[0m set1\n",
      "\u001b[1;31mKeyError\u001b[0m: 4"
     ]
    }
   ],
   "source": [
    "set1.remove(4)\n",
    "set1"
   ]
  },
  {
   "cell_type": "code",
   "execution_count": 23,
   "id": "415c27ba",
   "metadata": {},
   "outputs": [
    {
     "data": {
      "text/plain": [
       "{4, 5, 23, 33, 56}"
      ]
     },
     "execution_count": 23,
     "metadata": {},
     "output_type": "execute_result"
    }
   ],
   "source": [
    "set1={34,4,33,23,56,34,5,4}\n",
    "set1.remove(34)\n",
    "set1"
   ]
  },
  {
   "cell_type": "code",
   "execution_count": 49,
   "id": "95778bc4",
   "metadata": {},
   "outputs": [
    {
     "name": "stdout",
     "output_type": "stream",
     "text": [
      "{33, 34, 4, 23, 56}\n"
     ]
    }
   ],
   "source": [
    "set1={34,4,33,23,56,7}\n",
    "ele = 7\n",
    "if ele in set1:\n",
    "    set1.remove(ele)\n",
    "print(set1)"
   ]
  },
  {
   "cell_type": "code",
   "execution_count": 52,
   "id": "09269fb0",
   "metadata": {},
   "outputs": [
    {
     "name": "stdout",
     "output_type": "stream",
     "text": [
      "not available\n"
     ]
    }
   ],
   "source": [
    "set1={34,4,33,23,56,7}\n",
    "ele = 6\n",
    "if ele in set1:\n",
    "    set1.remove(ele)\n",
    "    print(' available')\n",
    "else:\n",
    "    print('not available')"
   ]
  },
  {
   "cell_type": "markdown",
   "id": "094c7569",
   "metadata": {},
   "source": [
    "## 2.discard()"
   ]
  },
  {
   "cell_type": "raw",
   "id": "c4edcef2",
   "metadata": {},
   "source": [
    "used to remove a perticular element from the set. If the element is not in set, it will not through any error."
   ]
  },
  {
   "cell_type": "code",
   "execution_count": 53,
   "id": "6307e4c1",
   "metadata": {},
   "outputs": [],
   "source": [
    "set1={34,4,33,23,56}\n",
    "set1.discard(34)"
   ]
  },
  {
   "cell_type": "code",
   "execution_count": 54,
   "id": "c6807eef",
   "metadata": {},
   "outputs": [
    {
     "data": {
      "text/plain": [
       "{4, 23, 33, 56}"
      ]
     },
     "execution_count": 54,
     "metadata": {},
     "output_type": "execute_result"
    }
   ],
   "source": [
    "set1"
   ]
  },
  {
   "cell_type": "code",
   "execution_count": 55,
   "id": "fe335a15",
   "metadata": {},
   "outputs": [
    {
     "data": {
      "text/plain": [
       "{4, 23, 33, 56}"
      ]
     },
     "execution_count": 55,
     "metadata": {},
     "output_type": "execute_result"
    }
   ],
   "source": [
    "set1.discard(7)\n",
    "set1"
   ]
  },
  {
   "cell_type": "code",
   "execution_count": 56,
   "id": "86a46e8b",
   "metadata": {},
   "outputs": [
    {
     "ename": "KeyError",
     "evalue": "7",
     "output_type": "error",
     "traceback": [
      "\u001b[1;31m---------------------------------------------------------------------------\u001b[0m",
      "\u001b[1;31mKeyError\u001b[0m                                  Traceback (most recent call last)",
      "Input \u001b[1;32mIn [56]\u001b[0m, in \u001b[0;36m<cell line: 1>\u001b[1;34m()\u001b[0m\n\u001b[1;32m----> 1\u001b[0m \u001b[43mset1\u001b[49m\u001b[38;5;241;43m.\u001b[39;49m\u001b[43mremove\u001b[49m\u001b[43m(\u001b[49m\u001b[38;5;241;43m7\u001b[39;49m\u001b[43m)\u001b[49m\n\u001b[0;32m      2\u001b[0m set1\n",
      "\u001b[1;31mKeyError\u001b[0m: 7"
     ]
    }
   ],
   "source": [
    "set1.remove(7)\n",
    "set1"
   ]
  },
  {
   "cell_type": "code",
   "execution_count": 59,
   "id": "0eb95115",
   "metadata": {},
   "outputs": [
    {
     "name": "stdout",
     "output_type": "stream",
     "text": [
      "{33, 34, 23, 7, 56}\n"
     ]
    }
   ],
   "source": [
    "set1={34,4,33,23,56,7}\n",
    "ele = 4\n",
    "if ele in set1:\n",
    "    set1.discard(ele)\n",
    "    print(set1)\n",
    "else:\n",
    "    print('not available')"
   ]
  },
  {
   "cell_type": "code",
   "execution_count": 24,
   "id": "b5619d54",
   "metadata": {},
   "outputs": [
    {
     "name": "stdout",
     "output_type": "stream",
     "text": [
      "{33, 34, 4, 23, 56}\n"
     ]
    }
   ],
   "source": [
    "set1={34,4,33,23,56,7}\n",
    "ele = 7\n",
    "if ele in set1:\n",
    "    set1.discard(ele)\n",
    "    print(set1)\n",
    "else:\n",
    "    print('not available')"
   ]
  },
  {
   "cell_type": "markdown",
   "id": "92074237",
   "metadata": {},
   "source": [
    "## 3.pop()"
   ]
  },
  {
   "cell_type": "raw",
   "id": "5fc28b49",
   "metadata": {},
   "source": [
    "It will remove any random element\n",
    "set.pop()"
   ]
  },
  {
   "cell_type": "code",
   "execution_count": 60,
   "id": "8d842841",
   "metadata": {},
   "outputs": [
    {
     "data": {
      "text/plain": [
       "33"
      ]
     },
     "execution_count": 60,
     "metadata": {},
     "output_type": "execute_result"
    }
   ],
   "source": [
    "set1={34,4,33,23,56}\n",
    "set1.pop()"
   ]
  },
  {
   "cell_type": "code",
   "execution_count": 61,
   "id": "a0ac540a",
   "metadata": {},
   "outputs": [
    {
     "data": {
      "text/plain": [
       "34"
      ]
     },
     "execution_count": 61,
     "metadata": {},
     "output_type": "execute_result"
    }
   ],
   "source": [
    "set1.pop()"
   ]
  },
  {
   "cell_type": "code",
   "execution_count": 63,
   "id": "bb61d85b",
   "metadata": {},
   "outputs": [
    {
     "name": "stdout",
     "output_type": "stream",
     "text": [
      "{4, 23, 56}\n"
     ]
    }
   ],
   "source": [
    "print(set1)"
   ]
  },
  {
   "cell_type": "code",
   "execution_count": 64,
   "id": "e9e9219b",
   "metadata": {},
   "outputs": [
    {
     "data": {
      "text/plain": [
       "{4, 23, 56}"
      ]
     },
     "execution_count": 64,
     "metadata": {},
     "output_type": "execute_result"
    }
   ],
   "source": [
    "set1"
   ]
  },
  {
   "cell_type": "code",
   "execution_count": 65,
   "id": "6e921309",
   "metadata": {},
   "outputs": [
    {
     "data": {
      "text/plain": [
       "'bio'"
      ]
     },
     "execution_count": 65,
     "metadata": {},
     "output_type": "execute_result"
    }
   ],
   "source": [
    "sub = {'math','phy','bio'}\n",
    "sub.pop()"
   ]
  },
  {
   "cell_type": "code",
   "execution_count": 66,
   "id": "a715fe66",
   "metadata": {},
   "outputs": [
    {
     "data": {
      "text/plain": [
       "{'math', 'phy'}"
      ]
     },
     "execution_count": 66,
     "metadata": {},
     "output_type": "execute_result"
    }
   ],
   "source": [
    "sub"
   ]
  },
  {
   "cell_type": "code",
   "execution_count": 5,
   "id": "652562d0",
   "metadata": {},
   "outputs": [
    {
     "ename": "TypeError",
     "evalue": "set.pop() takes no arguments (1 given)",
     "output_type": "error",
     "traceback": [
      "\u001b[1;31m---------------------------------------------------------------------------\u001b[0m",
      "\u001b[1;31mTypeError\u001b[0m                                 Traceback (most recent call last)",
      "Input \u001b[1;32mIn [5]\u001b[0m, in \u001b[0;36m<cell line: 2>\u001b[1;34m()\u001b[0m\n\u001b[0;32m      1\u001b[0m sub \u001b[38;5;241m=\u001b[39m {\u001b[38;5;124m'\u001b[39m\u001b[38;5;124mmath\u001b[39m\u001b[38;5;124m'\u001b[39m,\u001b[38;5;124m'\u001b[39m\u001b[38;5;124mphy\u001b[39m\u001b[38;5;124m'\u001b[39m,\u001b[38;5;124m'\u001b[39m\u001b[38;5;124mbio\u001b[39m\u001b[38;5;124m'\u001b[39m}\n\u001b[1;32m----> 2\u001b[0m \u001b[43msub\u001b[49m\u001b[38;5;241;43m.\u001b[39;49m\u001b[43mpop\u001b[49m\u001b[43m(\u001b[49m\u001b[38;5;241;43m0\u001b[39;49m\u001b[43m)\u001b[49m\n",
      "\u001b[1;31mTypeError\u001b[0m: set.pop() takes no arguments (1 given)"
     ]
    }
   ],
   "source": [
    "sub = {'math','phy','bio'}\n",
    "sub.pop(0)"
   ]
  },
  {
   "cell_type": "code",
   "execution_count": 68,
   "id": "10dbf841",
   "metadata": {},
   "outputs": [
    {
     "ename": "TypeError",
     "evalue": "set.pop() takes no arguments (1 given)",
     "output_type": "error",
     "traceback": [
      "\u001b[1;31m---------------------------------------------------------------------------\u001b[0m",
      "\u001b[1;31mTypeError\u001b[0m                                 Traceback (most recent call last)",
      "Input \u001b[1;32mIn [68]\u001b[0m, in \u001b[0;36m<cell line: 2>\u001b[1;34m()\u001b[0m\n\u001b[0;32m      1\u001b[0m sub \u001b[38;5;241m=\u001b[39m {\u001b[38;5;124m'\u001b[39m\u001b[38;5;124mmath\u001b[39m\u001b[38;5;124m'\u001b[39m,\u001b[38;5;124m'\u001b[39m\u001b[38;5;124mphy\u001b[39m\u001b[38;5;124m'\u001b[39m,\u001b[38;5;124m'\u001b[39m\u001b[38;5;124mbio\u001b[39m\u001b[38;5;124m'\u001b[39m}\n\u001b[1;32m----> 2\u001b[0m \u001b[43msub\u001b[49m\u001b[38;5;241;43m.\u001b[39;49m\u001b[43mpop\u001b[49m\u001b[43m(\u001b[49m\u001b[38;5;124;43m'\u001b[39;49m\u001b[38;5;124;43mphy\u001b[39;49m\u001b[38;5;124;43m'\u001b[39;49m\u001b[43m)\u001b[49m\n",
      "\u001b[1;31mTypeError\u001b[0m: set.pop() takes no arguments (1 given)"
     ]
    }
   ],
   "source": [
    "sub = {'math','phy','bio'}\n",
    "sub.pop('phy')"
   ]
  },
  {
   "cell_type": "markdown",
   "id": "421f42d4",
   "metadata": {},
   "source": [
    "## 4.clear()"
   ]
  },
  {
   "cell_type": "raw",
   "id": "4b04e901",
   "metadata": {},
   "source": [
    "Used to remove all the elements inside set.\n",
    "It simply gives us an empty set.\n",
    "set.clear()"
   ]
  },
  {
   "cell_type": "code",
   "execution_count": 70,
   "id": "9c2e0c4e",
   "metadata": {},
   "outputs": [
    {
     "data": {
      "text/plain": [
       "set()"
      ]
     },
     "execution_count": 70,
     "metadata": {},
     "output_type": "execute_result"
    }
   ],
   "source": [
    "sub = {'math','phy','bio'}\n",
    "sub.clear()\n",
    "sub"
   ]
  },
  {
   "cell_type": "code",
   "execution_count": 71,
   "id": "83fc31a4",
   "metadata": {},
   "outputs": [
    {
     "data": {
      "text/plain": [
       "set()"
      ]
     },
     "execution_count": 71,
     "metadata": {},
     "output_type": "execute_result"
    }
   ],
   "source": [
    "set3 = {1, 2, 4,'chem', 'phy', 5, 8}\n",
    "set3.clear()\n",
    "set3"
   ]
  },
  {
   "cell_type": "markdown",
   "id": "a07a0f47",
   "metadata": {},
   "source": [
    "## 5.del()"
   ]
  },
  {
   "cell_type": "raw",
   "id": "98b353f8",
   "metadata": {},
   "source": [
    "It delete the set."
   ]
  },
  {
   "cell_type": "code",
   "execution_count": 72,
   "id": "9d1b8e54",
   "metadata": {},
   "outputs": [],
   "source": [
    "set3 = {1, 2, 4,'chem', 'phy', 5, 8}\n",
    "del(set3)"
   ]
  },
  {
   "cell_type": "code",
   "execution_count": 73,
   "id": "aafa9077",
   "metadata": {},
   "outputs": [
    {
     "ename": "NameError",
     "evalue": "name 'set3' is not defined",
     "output_type": "error",
     "traceback": [
      "\u001b[1;31m---------------------------------------------------------------------------\u001b[0m",
      "\u001b[1;31mNameError\u001b[0m                                 Traceback (most recent call last)",
      "Input \u001b[1;32mIn [73]\u001b[0m, in \u001b[0;36m<cell line: 1>\u001b[1;34m()\u001b[0m\n\u001b[1;32m----> 1\u001b[0m \u001b[43mset3\u001b[49m\n",
      "\u001b[1;31mNameError\u001b[0m: name 'set3' is not defined"
     ]
    }
   ],
   "source": [
    "set3"
   ]
  },
  {
   "cell_type": "code",
   "execution_count": 74,
   "id": "8d7e1444",
   "metadata": {},
   "outputs": [
    {
     "data": {
      "text/plain": [
       "{4, 23, 34, 56}"
      ]
     },
     "execution_count": 74,
     "metadata": {},
     "output_type": "execute_result"
    }
   ],
   "source": [
    "set1={34,4,33,23,56}\n",
    "set1.pop()\n",
    "set1"
   ]
  },
  {
   "cell_type": "code",
   "execution_count": 75,
   "id": "5eca6794",
   "metadata": {},
   "outputs": [
    {
     "data": {
      "text/plain": [
       "{23, 34, 56}"
      ]
     },
     "execution_count": 75,
     "metadata": {},
     "output_type": "execute_result"
    }
   ],
   "source": [
    "set1.remove(4)\n",
    "set1"
   ]
  },
  {
   "cell_type": "code",
   "execution_count": 76,
   "id": "911e8112",
   "metadata": {},
   "outputs": [
    {
     "data": {
      "text/plain": [
       "{34, 56}"
      ]
     },
     "execution_count": 76,
     "metadata": {},
     "output_type": "execute_result"
    }
   ],
   "source": [
    "set1.discard(23)\n",
    "set1"
   ]
  },
  {
   "cell_type": "code",
   "execution_count": 78,
   "id": "2649a5c9",
   "metadata": {},
   "outputs": [
    {
     "data": {
      "text/plain": [
       "set()"
      ]
     },
     "execution_count": 78,
     "metadata": {},
     "output_type": "execute_result"
    }
   ],
   "source": [
    "set1.clear()\n",
    "set1"
   ]
  },
  {
   "cell_type": "code",
   "execution_count": 79,
   "id": "f07244e4",
   "metadata": {},
   "outputs": [
    {
     "ename": "NameError",
     "evalue": "name 'set' is not defined",
     "output_type": "error",
     "traceback": [
      "\u001b[1;31m---------------------------------------------------------------------------\u001b[0m",
      "\u001b[1;31mNameError\u001b[0m                                 Traceback (most recent call last)",
      "Input \u001b[1;32mIn [79]\u001b[0m, in \u001b[0;36m<cell line: 1>\u001b[1;34m()\u001b[0m\n\u001b[1;32m----> 1\u001b[0m \u001b[38;5;28;01mdel\u001b[39;00m \u001b[38;5;28mset\u001b[39m\n\u001b[0;32m      2\u001b[0m \u001b[38;5;28mset\u001b[39m\n",
      "\u001b[1;31mNameError\u001b[0m: name 'set' is not defined"
     ]
    }
   ],
   "source": [
    "del set\n",
    "set"
   ]
  },
  {
   "cell_type": "markdown",
   "id": "3ec1068e",
   "metadata": {},
   "source": [
    "## 1.intersection()"
   ]
  },
  {
   "cell_type": "raw",
   "id": "956d5809",
   "metadata": {},
   "source": [
    "It gives the common elements from both the sets. We need a third variable to store a result."
   ]
  },
  {
   "cell_type": "code",
   "execution_count": 28,
   "id": "819b12e7",
   "metadata": {},
   "outputs": [
    {
     "data": {
      "text/plain": [
       "{2, 3, 4, 5}"
      ]
     },
     "execution_count": 28,
     "metadata": {},
     "output_type": "execute_result"
    }
   ],
   "source": [
    "set1 = {1,2,3,4,5}\n",
    "set2 = {5,3,4,2,8}\n",
    "intersected_set = set1.intersection(set2)\n",
    "intersected_set"
   ]
  },
  {
   "cell_type": "code",
   "execution_count": 42,
   "id": "812c6b0d",
   "metadata": {},
   "outputs": [
    {
     "name": "stdout",
     "output_type": "stream",
     "text": [
      "{2, 43, 54, 23}\n"
     ]
    }
   ],
   "source": [
    "set1={23,43,54,6,78,55,2}\n",
    "set2={23,43,54,36,7,8,2,4}\n",
    "set3=set1.intersection(set2)\n",
    "print(set3)"
   ]
  },
  {
   "cell_type": "code",
   "execution_count": 30,
   "id": "95f057af",
   "metadata": {},
   "outputs": [
    {
     "name": "stdout",
     "output_type": "stream",
     "text": [
      "{2, 55, 6, 23, 54, 43, 78}\n"
     ]
    }
   ],
   "source": [
    "set1={23,43,54,6,78,55,2}\n",
    "set2={23,43,54,36,7,8,2,4}\n",
    "set1.intersection(set2)\n",
    "print(set1)"
   ]
  },
  {
   "cell_type": "code",
   "execution_count": 31,
   "id": "5177b868",
   "metadata": {},
   "outputs": [
    {
     "name": "stdout",
     "output_type": "stream",
     "text": [
      "{2, 55, 6, 23, 54, 43, 78}\n",
      "{2, 36, 4, 7, 8, 43, 54, 23}\n",
      "{2, 43, 54, 23}\n"
     ]
    }
   ],
   "source": [
    "set1={23,43,54,6,78,55,2}\n",
    "set2={23,43,54,36,7,8,2,4}\n",
    "set3=set1.intersection(set2)\n",
    "print(set1)\n",
    "print(set2)\n",
    "print(set3)\n"
   ]
  },
  {
   "cell_type": "code",
   "execution_count": 34,
   "id": "f2dfeae3",
   "metadata": {},
   "outputs": [
    {
     "data": {
      "text/plain": [
       "set()"
      ]
     },
     "execution_count": 34,
     "metadata": {},
     "output_type": "execute_result"
    }
   ],
   "source": [
    "set1 = {1,2,3,4,5}\n",
    "set2 = {10,15,8}\n",
    "intersected_set = set1.intersection(set2)\n",
    "intersected_set"
   ]
  },
  {
   "cell_type": "markdown",
   "id": "b9533c9f",
   "metadata": {},
   "source": [
    "## 2.intersection_update()"
   ]
  },
  {
   "cell_type": "raw",
   "id": "81e3cf07",
   "metadata": {},
   "source": [
    "It gives the common elements from both the sets. and it will update the set on which we have applied this function. There is no need of any third variable."
   ]
  },
  {
   "cell_type": "code",
   "execution_count": 36,
   "id": "24263795",
   "metadata": {},
   "outputs": [
    {
     "data": {
      "text/plain": [
       "{2, 3, 4, 5}"
      ]
     },
     "execution_count": 36,
     "metadata": {},
     "output_type": "execute_result"
    }
   ],
   "source": [
    "set1 = {1,2,3,4,5}\n",
    "set2 = {5,3,4,2,8}\n",
    "set1.intersection_update(set2)\n",
    "set1"
   ]
  },
  {
   "cell_type": "code",
   "execution_count": 40,
   "id": "b1677278",
   "metadata": {},
   "outputs": [
    {
     "data": {
      "text/plain": [
       "{2, 23, 43, 54}"
      ]
     },
     "execution_count": 40,
     "metadata": {},
     "output_type": "execute_result"
    }
   ],
   "source": [
    "set1={23,43,54,6,78,55,2}\n",
    "set2={23,43,54,36,7,8,2,4}\n",
    "set2.intersection_update(set1)\n",
    "set2"
   ]
  },
  {
   "cell_type": "code",
   "execution_count": 41,
   "id": "26eae322",
   "metadata": {},
   "outputs": [
    {
     "name": "stdout",
     "output_type": "stream",
     "text": [
      "{2, 43, 54, 23}\n"
     ]
    }
   ],
   "source": [
    "print(set2)"
   ]
  },
  {
   "cell_type": "code",
   "execution_count": 45,
   "id": "92ce580b",
   "metadata": {},
   "outputs": [
    {
     "name": "stdout",
     "output_type": "stream",
     "text": [
      "{2, 55, 6, 23, 54, 43, 78}\n",
      "{2, 43, 54, 23}\n"
     ]
    }
   ],
   "source": [
    "set1={23,43,54,6,78,55,2}\n",
    "set2={23,43,54,36,7,8,2,4}\n",
    "set2.intersection_update(set1)\n",
    "print(set1)\n",
    "print(set2)"
   ]
  },
  {
   "cell_type": "code",
   "execution_count": 67,
   "id": "e2fdf24d",
   "metadata": {},
   "outputs": [
    {
     "name": "stdout",
     "output_type": "stream",
     "text": [
      "{2, 43, 54, 23}\n",
      "{2, 43, 54, 23}\n"
     ]
    }
   ],
   "source": [
    "set1={23,43,54,6,78,55,2}\n",
    "set2={23,43,54,36,7,8,2,4}\n",
    "set2.intersection_update(set1)\n",
    "set1.intersection_update(set2)\n",
    "print(set2)\n",
    "print(set1)"
   ]
  },
  {
   "cell_type": "code",
   "execution_count": 43,
   "id": "444e4f14",
   "metadata": {},
   "outputs": [
    {
     "name": "stdout",
     "output_type": "stream",
     "text": [
      "None\n"
     ]
    }
   ],
   "source": [
    "set1={23,43,54,6,78,55,2}\n",
    "set2={23,43,54,36,7,8,2,4}\n",
    "set3=set1.intersection_update(set2)\n",
    "print(set3)"
   ]
  },
  {
   "cell_type": "code",
   "execution_count": 44,
   "id": "68d01e7d",
   "metadata": {},
   "outputs": [
    {
     "name": "stdout",
     "output_type": "stream",
     "text": [
      "{2, 55, 6, 23, 54, 43, 78}\n",
      "{2, 36, 4, 7, 8, 43, 54, 23}\n",
      "None\n"
     ]
    }
   ],
   "source": [
    "set1={23,43,54,6,78,55,2}\n",
    "set2={23,43,54,36,7,8,2,4}\n",
    "print(set1)\n",
    "print(set2)\n",
    "set3=set1.intersection_update(set2)\n",
    "print(set3)"
   ]
  },
  {
   "cell_type": "code",
   "execution_count": 47,
   "id": "abd70c8e",
   "metadata": {},
   "outputs": [
    {
     "data": {
      "text/plain": [
       "set()"
      ]
     },
     "execution_count": 47,
     "metadata": {},
     "output_type": "execute_result"
    }
   ],
   "source": [
    "set1 = {1,2,3,4,5}\n",
    "set2 = {10,15,8}\n",
    "set1.intersection_update(set2)\n",
    "set1"
   ]
  },
  {
   "cell_type": "markdown",
   "id": "d7efe22e",
   "metadata": {},
   "source": [
    "## 3.difference()"
   ]
  },
  {
   "cell_type": "raw",
   "id": "7247c037",
   "metadata": {},
   "source": [
    "It gives unique elements from the set., Need third variable.\n",
    "but those unique varible gives from applied variables only"
   ]
  },
  {
   "cell_type": "code",
   "execution_count": 48,
   "id": "f4cb33c0",
   "metadata": {},
   "outputs": [
    {
     "data": {
      "text/plain": [
       "{1, 4, 5}"
      ]
     },
     "execution_count": 48,
     "metadata": {},
     "output_type": "execute_result"
    }
   ],
   "source": [
    "set1 = {1,2,3,4,5}\n",
    "set2 = {10,3,15,2,8}\n",
    "diff = set1.difference(set2)\n",
    "diff\n"
   ]
  },
  {
   "cell_type": "code",
   "execution_count": 7,
   "id": "b4a162d1",
   "metadata": {},
   "outputs": [
    {
     "name": "stdout",
     "output_type": "stream",
     "text": [
      "{8, 10, 15}\n"
     ]
    }
   ],
   "source": [
    "set1={1,2,3,4,5}\n",
    "set2={10,3,15,2,8}\n",
    "set3=set2.difference(set1)\n",
    "print(set3)"
   ]
  },
  {
   "cell_type": "code",
   "execution_count": 53,
   "id": "58365042",
   "metadata": {},
   "outputs": [
    {
     "name": "stdout",
     "output_type": "stream",
     "text": [
      "{1, 2, 3, 4, 5}\n",
      "{2, 3, 8, 10, 15}\n",
      "{8, 10, 15}\n"
     ]
    }
   ],
   "source": [
    "set1={1,2,3,4,5}\n",
    "set2={10,3,15,2,8}\n",
    "print(set1)\n",
    "print(set2)\n",
    "set3=set2.difference(set1)\n",
    "print(set3)"
   ]
  },
  {
   "cell_type": "code",
   "execution_count": 54,
   "id": "af4335f4",
   "metadata": {},
   "outputs": [
    {
     "name": "stdout",
     "output_type": "stream",
     "text": [
      "{2, 3, 8, 10, 15}\n"
     ]
    }
   ],
   "source": [
    "set1={1,2,3,4,5}\n",
    "set2={10,3,15,2,8}\n",
    "set2.difference(set1)\n",
    "print(set2)"
   ]
  },
  {
   "cell_type": "code",
   "execution_count": 57,
   "id": "3b0404fc",
   "metadata": {},
   "outputs": [
    {
     "data": {
      "text/plain": [
       "{'Banglore', 'Delhi', 'Mumbai', 'pune'}"
      ]
     },
     "execution_count": 57,
     "metadata": {},
     "output_type": "execute_result"
    }
   ],
   "source": [
    "city = {'pune', 'Banglore', 'Mumbai','Delhi'}\n",
    "city1 = {'Pune', 'Manglore'}\n",
    "diff1 = city.difference(city1) # case sensitive\n",
    "diff1"
   ]
  },
  {
   "cell_type": "code",
   "execution_count": 58,
   "id": "1ec8cd14",
   "metadata": {},
   "outputs": [
    {
     "data": {
      "text/plain": [
       "set()"
      ]
     },
     "execution_count": 58,
     "metadata": {},
     "output_type": "execute_result"
    }
   ],
   "source": [
    "city = {'pune', 'Banglore', 'Mumbai','Delhi'}\n",
    "city1 = {'Pune', 'Manglore'}\n",
    "diff1 = city.intersection(city1)\n",
    "diff1"
   ]
  },
  {
   "cell_type": "code",
   "execution_count": 55,
   "id": "9701d4b8",
   "metadata": {},
   "outputs": [
    {
     "name": "stdout",
     "output_type": "stream",
     "text": [
      "set()\n"
     ]
    }
   ],
   "source": [
    "set1={1,2,3,4,5}\n",
    "set2={3,4,2}\n",
    "set3=set2.difference(set1)\n",
    "print(set3)"
   ]
  },
  {
   "cell_type": "markdown",
   "id": "5a6121ee",
   "metadata": {},
   "source": [
    "## 4.difference_update"
   ]
  },
  {
   "cell_type": "raw",
   "id": "0903ef51",
   "metadata": {},
   "source": [
    "It gives the unique elements from the set and update the same in the set on which we apply the function. And there is no need of any third variable."
   ]
  },
  {
   "cell_type": "code",
   "execution_count": 61,
   "id": "fda9f87d",
   "metadata": {},
   "outputs": [
    {
     "data": {
      "text/plain": [
       "{1, 4, 5}"
      ]
     },
     "execution_count": 61,
     "metadata": {},
     "output_type": "execute_result"
    }
   ],
   "source": [
    "set1 = {1,2,3,4,5}\n",
    "set2 = {10,3,15,2,8}\n",
    "set1.difference_update(set2)\n",
    "set1\n"
   ]
  },
  {
   "cell_type": "code",
   "execution_count": 63,
   "id": "4bb8d9d1",
   "metadata": {},
   "outputs": [
    {
     "name": "stdout",
     "output_type": "stream",
     "text": [
      "{8, 10, 15}\n"
     ]
    }
   ],
   "source": [
    "set1={1,2,3,4,5}\n",
    "set2={10,3,15,2,8}\n",
    "set2.difference_update(set1)\n",
    "print(set2)"
   ]
  },
  {
   "cell_type": "code",
   "execution_count": 66,
   "id": "ead39109",
   "metadata": {},
   "outputs": [
    {
     "name": "stdout",
     "output_type": "stream",
     "text": [
      "{1, 2, 34, 45}\n",
      "{3, 4, 56, 12, 77, 78}\n"
     ]
    }
   ],
   "source": [
    "set1={12,1,2,34,45,}\n",
    "set2={12,3,4,56,77,78}\n",
    "set1.difference_update(set2)\n",
    "print(set1)\n",
    "print(set2)"
   ]
  },
  {
   "cell_type": "code",
   "execution_count": 69,
   "id": "879e407c",
   "metadata": {},
   "outputs": [
    {
     "name": "stdout",
     "output_type": "stream",
     "text": [
      "{1, 2, 34, 45}\n",
      "{3, 4, 56, 12, 77, 78}\n"
     ]
    }
   ],
   "source": [
    "set1={12,1,2,34,45,}\n",
    "set2={12,3,4,56,77,78}\n",
    "set1.difference_update(set2)\n",
    "set2.difference_update(set1)\n",
    "print(set1)\n",
    "print(set2)"
   ]
  },
  {
   "cell_type": "code",
   "execution_count": 65,
   "id": "9e162828",
   "metadata": {},
   "outputs": [
    {
     "ename": "AttributeError",
     "evalue": "'list' object has no attribute 'difference_update'",
     "output_type": "error",
     "traceback": [
      "\u001b[1;31m---------------------------------------------------------------------------\u001b[0m",
      "\u001b[1;31mAttributeError\u001b[0m                            Traceback (most recent call last)",
      "Input \u001b[1;32mIn [65]\u001b[0m, in \u001b[0;36m<cell line: 3>\u001b[1;34m()\u001b[0m\n\u001b[0;32m      1\u001b[0m set1\u001b[38;5;241m=\u001b[39m[\u001b[38;5;241m12\u001b[39m,\u001b[38;5;241m1\u001b[39m,\u001b[38;5;241m2\u001b[39m,\u001b[38;5;241m34\u001b[39m,\u001b[38;5;241m45\u001b[39m,]\n\u001b[0;32m      2\u001b[0m set2\u001b[38;5;241m=\u001b[39m[\u001b[38;5;241m12\u001b[39m,\u001b[38;5;241m3\u001b[39m,\u001b[38;5;241m4\u001b[39m,\u001b[38;5;241m56\u001b[39m,\u001b[38;5;241m77\u001b[39m,\u001b[38;5;241m78\u001b[39m]\n\u001b[1;32m----> 3\u001b[0m \u001b[43mset1\u001b[49m\u001b[38;5;241;43m.\u001b[39;49m\u001b[43mdifference_update\u001b[49m(set2)\n\u001b[0;32m      4\u001b[0m \u001b[38;5;28mprint\u001b[39m(set1)\n\u001b[0;32m      5\u001b[0m \u001b[38;5;28mprint\u001b[39m(set2)\n",
      "\u001b[1;31mAttributeError\u001b[0m: 'list' object has no attribute 'difference_update'"
     ]
    }
   ],
   "source": [
    "set1=[12,1,2,34,45,]\n",
    "set2=[12,3,4,56,77,78]\n",
    "set1.difference_update(set2)\n",
    "print(set1)\n",
    "print(set2)"
   ]
  },
  {
   "cell_type": "code",
   "execution_count": 68,
   "id": "1656e6f2",
   "metadata": {},
   "outputs": [
    {
     "name": "stdout",
     "output_type": "stream",
     "text": [
      "set()\n"
     ]
    }
   ],
   "source": [
    "set1={1,2,3,4,5}\n",
    "set2={1,2,3,4,5}\n",
    "set2.difference_update(set1)\n",
    "print(set2)"
   ]
  },
  {
   "cell_type": "code",
   "execution_count": 64,
   "id": "416241af",
   "metadata": {},
   "outputs": [
    {
     "name": "stdout",
     "output_type": "stream",
     "text": [
      "None\n"
     ]
    }
   ],
   "source": [
    "set1={1,2,3,4,5}\n",
    "set2={10,3,15,2,8}\n",
    "set3=set2.difference_update(set1)\n",
    "print(set3)"
   ]
  },
  {
   "cell_type": "markdown",
   "id": "9da90d31",
   "metadata": {},
   "source": [
    "## 5.symmetric_difference()"
   ]
  },
  {
   "cell_type": "raw",
   "id": "dd35af01",
   "metadata": {},
   "source": [
    "It gives unique elements from both the sets. Need of third variable."
   ]
  },
  {
   "cell_type": "code",
   "execution_count": 70,
   "id": "bcc2ed3e",
   "metadata": {},
   "outputs": [
    {
     "data": {
      "text/plain": [
       "{1, 4, 5, 8, 10, 15}"
      ]
     },
     "execution_count": 70,
     "metadata": {},
     "output_type": "execute_result"
    }
   ],
   "source": [
    "set1 = {1,2,3,4,5}\n",
    "set2 = {10,3,15,2,8}\n",
    "sd = set1.symmetric_difference(set2)\n",
    "sd"
   ]
  },
  {
   "cell_type": "code",
   "execution_count": 73,
   "id": "9eda774e",
   "metadata": {},
   "outputs": [
    {
     "data": {
      "text/plain": [
       "{1, 4, 5, 8, 10, 15}"
      ]
     },
     "execution_count": 73,
     "metadata": {},
     "output_type": "execute_result"
    }
   ],
   "source": [
    "set1 = {1,2,3,4,5}\n",
    "set2 = {10,3,15,2,8}\n",
    "set3= set2.symmetric_difference(set1)\n",
    "set3"
   ]
  },
  {
   "cell_type": "code",
   "execution_count": 74,
   "id": "1fe81784",
   "metadata": {},
   "outputs": [
    {
     "data": {
      "text/plain": [
       "{2, 3, 8, 10, 15}"
      ]
     },
     "execution_count": 74,
     "metadata": {},
     "output_type": "execute_result"
    }
   ],
   "source": [
    "set1 = {1,2,3,4,5}\n",
    "set2 = {10,3,15,2,8}\n",
    "set2.symmetric_difference(set1)\n",
    "set2"
   ]
  },
  {
   "cell_type": "code",
   "execution_count": 75,
   "id": "e0974bf0",
   "metadata": {},
   "outputs": [
    {
     "data": {
      "text/plain": [
       "{1, 5}"
      ]
     },
     "execution_count": 75,
     "metadata": {},
     "output_type": "execute_result"
    }
   ],
   "source": [
    "set1 = {1,2,3,4,5}\n",
    "set2 = {3,2,4}\n",
    "set3= set2.symmetric_difference(set1)\n",
    "set3"
   ]
  },
  {
   "cell_type": "code",
   "execution_count": 2,
   "id": "aa1bfd78",
   "metadata": {},
   "outputs": [
    {
     "name": "stdout",
     "output_type": "stream",
     "text": [
      "{1, 2, 3, 4, 5}\n",
      "{2, 3, 4}\n",
      "{1, 5}\n"
     ]
    }
   ],
   "source": [
    "set1 = {1,2,3,4,5}\n",
    "set2 = {3,2,4}\n",
    "print(set1)\n",
    "print(set2)\n",
    "set3= set1.symmetric_difference(set2)\n",
    "print(set3)"
   ]
  },
  {
   "cell_type": "code",
   "execution_count": 77,
   "id": "65516930",
   "metadata": {},
   "outputs": [
    {
     "data": {
      "text/plain": [
       "set()"
      ]
     },
     "execution_count": 77,
     "metadata": {},
     "output_type": "execute_result"
    }
   ],
   "source": [
    "set1 = {1,2,3,4,5}\n",
    "set2 = {3,2,4}\n",
    "set3= set1.symmetric_difference(set1)\n",
    "set3"
   ]
  },
  {
   "cell_type": "code",
   "execution_count": 78,
   "id": "a38a857e",
   "metadata": {},
   "outputs": [
    {
     "data": {
      "text/plain": [
       "set()"
      ]
     },
     "execution_count": 78,
     "metadata": {},
     "output_type": "execute_result"
    }
   ],
   "source": [
    "set1 = {2,3,4}\n",
    "set2 = {3,2,4}\n",
    "set3= set1.symmetric_difference(set1)\n",
    "set3"
   ]
  },
  {
   "cell_type": "code",
   "execution_count": 71,
   "id": "22e17f33",
   "metadata": {},
   "outputs": [
    {
     "data": {
      "text/plain": [
       "{'Banglore', 'Delhi', 'Manglore', 'Mumbai'}"
      ]
     },
     "execution_count": 71,
     "metadata": {},
     "output_type": "execute_result"
    }
   ],
   "source": [
    "city = {'Pune', 'Banglore', 'Mumbai','Delhi'}\n",
    "city1 = {'Pune', 'Manglore'}\n",
    "sd1 = city.symmetric_difference(city1)\n",
    "sd1"
   ]
  },
  {
   "cell_type": "markdown",
   "id": "b592cf85",
   "metadata": {},
   "source": [
    "## 6.symmetric_difference_update()"
   ]
  },
  {
   "cell_type": "raw",
   "id": "6460a088",
   "metadata": {},
   "source": [
    "It gives unique elements from both the sets.no need of third variable"
   ]
  },
  {
   "cell_type": "code",
   "execution_count": 79,
   "id": "ba75c87a",
   "metadata": {},
   "outputs": [
    {
     "name": "stdout",
     "output_type": "stream",
     "text": [
      "{'Delhi', 'Manglore', 'Mumbai', 'Banglore'}\n",
      "{'Pune', 'Manglore'}\n"
     ]
    }
   ],
   "source": [
    "city = {'Pune', 'Banglore', 'Mumbai','Delhi'}\n",
    "city1 = {'Pune', 'Manglore'}\n",
    "city.symmetric_difference_update(city1)\n",
    "print(city)\n",
    "print(city1)"
   ]
  },
  {
   "cell_type": "code",
   "execution_count": 80,
   "id": "fa2ad3c1",
   "metadata": {},
   "outputs": [
    {
     "name": "stdout",
     "output_type": "stream",
     "text": [
      "{'Mumbai', 'Banglore', 'Delhi', 'Pune'}\n",
      "{'Delhi', 'Manglore', 'Mumbai', 'Banglore'}\n"
     ]
    }
   ],
   "source": [
    "city = {'Pune', 'Banglore', 'Mumbai','Delhi'}\n",
    "city1 = {'Pune', 'Manglore'}\n",
    "city1.symmetric_difference_update(city)\n",
    "print(city)\n",
    "print(city1)"
   ]
  },
  {
   "cell_type": "code",
   "execution_count": 82,
   "id": "5496f184",
   "metadata": {},
   "outputs": [
    {
     "data": {
      "text/plain": [
       "{1, 4, 5, 8, 10, 15}"
      ]
     },
     "execution_count": 82,
     "metadata": {},
     "output_type": "execute_result"
    }
   ],
   "source": [
    "set1 = {1,2,3,4,5}\n",
    "set2 = {10,3,15,2,8}\n",
    "set1.symmetric_difference_update(set2)\n",
    "set1"
   ]
  },
  {
   "cell_type": "code",
   "execution_count": 84,
   "id": "38bdaeae",
   "metadata": {},
   "outputs": [
    {
     "data": {
      "text/plain": [
       "{1, 4, 5, 8, 10, 15}"
      ]
     },
     "execution_count": 84,
     "metadata": {},
     "output_type": "execute_result"
    }
   ],
   "source": [
    "set1 = {1,2,3,4,5}\n",
    "set2 = {10,3,15,2,8}\n",
    "set2.symmetric_difference_update(set1)\n",
    "set2"
   ]
  },
  {
   "cell_type": "code",
   "execution_count": 85,
   "id": "8553dfc4",
   "metadata": {},
   "outputs": [
    {
     "name": "stdout",
     "output_type": "stream",
     "text": [
      "{1, 2, 3, 4, 5}\n",
      "{1, 4, 5, 8, 10, 15}\n"
     ]
    }
   ],
   "source": [
    "set1 = {1,2,3,4,5}\n",
    "set2 = {10,3,15,2,8}\n",
    "set2.symmetric_difference_update(set1)\n",
    "print(set1)\n",
    "print(set2)"
   ]
  },
  {
   "cell_type": "code",
   "execution_count": 1,
   "id": "eb2f44cd",
   "metadata": {},
   "outputs": [
    {
     "name": "stdout",
     "output_type": "stream",
     "text": [
      "{1, 4, 5, 8, 10, 15}\n",
      "{2, 3, 8, 10, 15}\n"
     ]
    }
   ],
   "source": [
    "set1 = {1,2,3,4,5}\n",
    "set2 = {10,3,15,2,8}\n",
    "set2.symmetric_difference_update(set1)\n",
    "set1.symmetric_difference_update(set2)\n",
    "print(set2)\n",
    "print(set1)"
   ]
  },
  {
   "cell_type": "code",
   "execution_count": 3,
   "id": "03de52f3",
   "metadata": {},
   "outputs": [
    {
     "name": "stdout",
     "output_type": "stream",
     "text": [
      "{'Pune', 'Manglore'}\n",
      "{'Delhi', 'Manglore', 'Mumbai', 'Banglore'}\n"
     ]
    }
   ],
   "source": [
    "city = {'Pune', 'Banglore', 'Mumbai','Delhi'}\n",
    "city1 = {'Pune', 'Manglore'}\n",
    "city1.symmetric_difference_update(city)\n",
    "city.symmetric_difference_update(city1)\n",
    "print(city)\n",
    "print(city1)"
   ]
  },
  {
   "cell_type": "code",
   "execution_count": 5,
   "id": "928d0c99",
   "metadata": {},
   "outputs": [
    {
     "name": "stdout",
     "output_type": "stream",
     "text": [
      "set()\n"
     ]
    }
   ],
   "source": [
    "set1 = {1,2,3,4,5}\n",
    "set2 = {10,3,15,2,8}\n",
    "set2.symmetric_difference_update(set2)\n",
    "print(set2)"
   ]
  },
  {
   "cell_type": "code",
   "execution_count": 6,
   "id": "bb79b34a",
   "metadata": {},
   "outputs": [
    {
     "name": "stdout",
     "output_type": "stream",
     "text": [
      "set()\n"
     ]
    }
   ],
   "source": [
    "set1 = {2,3,8}\n",
    "set2 = {3,2,8}\n",
    "set2.symmetric_difference_update(set2)\n",
    "print(set2)"
   ]
  },
  {
   "cell_type": "markdown",
   "id": "09fe6f5d",
   "metadata": {},
   "source": [
    "## 7.issubset()"
   ]
  },
  {
   "cell_type": "raw",
   "id": "a7a7f9a6",
   "metadata": {},
   "source": [
    "True/False\n",
    "True >> If all the elements of one set are there in another set."
   ]
  },
  {
   "cell_type": "code",
   "execution_count": 7,
   "id": "b978c008",
   "metadata": {},
   "outputs": [
    {
     "data": {
      "text/plain": [
       "False"
      ]
     },
     "execution_count": 7,
     "metadata": {},
     "output_type": "execute_result"
    }
   ],
   "source": [
    "set1 = {1,2,3,4,5}\n",
    "set2 = {10,3,15,2,8}\n",
    "set1.issubset(set2)"
   ]
  },
  {
   "cell_type": "code",
   "execution_count": 19,
   "id": "c48f3f57",
   "metadata": {},
   "outputs": [
    {
     "data": {
      "text/plain": [
       "False"
      ]
     },
     "execution_count": 19,
     "metadata": {},
     "output_type": "execute_result"
    }
   ],
   "source": [
    "set1 = {1,2,3,4,5}\n",
    "set2 = {10,3,15,2,8}\n",
    "set2.issubset(set1)"
   ]
  },
  {
   "cell_type": "code",
   "execution_count": 17,
   "id": "1249d6d7",
   "metadata": {},
   "outputs": [
    {
     "data": {
      "text/plain": [
       "True"
      ]
     },
     "execution_count": 17,
     "metadata": {},
     "output_type": "execute_result"
    }
   ],
   "source": [
    "set1 = {1,2,3,4,5}\n",
    "set2 = {1,2,3,4,5}\n",
    "set1.issubset(set2)"
   ]
  },
  {
   "cell_type": "code",
   "execution_count": 18,
   "id": "511ae6ad",
   "metadata": {},
   "outputs": [
    {
     "data": {
      "text/plain": [
       "True"
      ]
     },
     "execution_count": 18,
     "metadata": {},
     "output_type": "execute_result"
    }
   ],
   "source": [
    "set1 = {1,2,3,4,5}\n",
    "set2 = {1,2,3,4,5}\n",
    "set2.issubset(set1)"
   ]
  },
  {
   "cell_type": "code",
   "execution_count": 8,
   "id": "c7832264",
   "metadata": {},
   "outputs": [
    {
     "data": {
      "text/plain": [
       "True"
      ]
     },
     "execution_count": 8,
     "metadata": {},
     "output_type": "execute_result"
    }
   ],
   "source": [
    "set1 = {2,3}\n",
    "set2 = {10,3,15,2,8}\n",
    "set1.issubset(set2)"
   ]
  },
  {
   "cell_type": "code",
   "execution_count": 9,
   "id": "0f448a86",
   "metadata": {},
   "outputs": [
    {
     "data": {
      "text/plain": [
       "False"
      ]
     },
     "execution_count": 9,
     "metadata": {},
     "output_type": "execute_result"
    }
   ],
   "source": [
    "set1 = {2,3}\n",
    "set2 = {10,3,15,2,8}\n",
    "set2.issubset(set1)"
   ]
  },
  {
   "cell_type": "code",
   "execution_count": 154,
   "id": "71b93394",
   "metadata": {},
   "outputs": [
    {
     "data": {
      "text/plain": [
       "False"
      ]
     },
     "execution_count": 154,
     "metadata": {},
     "output_type": "execute_result"
    }
   ],
   "source": [
    "set1 = {2,4}\n",
    "set2 = {10,3,15,2,8}\n",
    "set2.issubset(set1)"
   ]
  },
  {
   "cell_type": "code",
   "execution_count": 155,
   "id": "e4c21cdf",
   "metadata": {},
   "outputs": [
    {
     "data": {
      "text/plain": [
       "False"
      ]
     },
     "execution_count": 155,
     "metadata": {},
     "output_type": "execute_result"
    }
   ],
   "source": [
    "set1 = {2,4}\n",
    "set2 = {10,3,15,2,8}\n",
    "set1.issubset(set2)"
   ]
  },
  {
   "cell_type": "code",
   "execution_count": 10,
   "id": "08914c40",
   "metadata": {},
   "outputs": [
    {
     "data": {
      "text/plain": [
       "False"
      ]
     },
     "execution_count": 10,
     "metadata": {},
     "output_type": "execute_result"
    }
   ],
   "source": [
    "city = {'Pune', 'Banglore', 'Mumbai','Delhi','Manglore'}\n",
    "city1 = {'Pune', 'Manglore'}\n",
    "city.issubset(city1)"
   ]
  },
  {
   "cell_type": "code",
   "execution_count": 11,
   "id": "158dade4",
   "metadata": {},
   "outputs": [
    {
     "data": {
      "text/plain": [
       "True"
      ]
     },
     "execution_count": 11,
     "metadata": {},
     "output_type": "execute_result"
    }
   ],
   "source": [
    "city = {'Pune', 'Banglore', 'Mumbai','Delhi','Manglore'}\n",
    "city1 = {'Pune', 'Manglore'}\n",
    "city1.issubset(city)"
   ]
  },
  {
   "cell_type": "markdown",
   "id": "6f923fdd",
   "metadata": {},
   "source": [
    "## 8.issuperset"
   ]
  },
  {
   "cell_type": "raw",
   "id": "416cfc05",
   "metadata": {},
   "source": [
    "True/False\n",
    "is set2 is superset of set1 means set2 supposed to have all the elements from set1 as well."
   ]
  },
  {
   "cell_type": "code",
   "execution_count": 13,
   "id": "d2e2f07b",
   "metadata": {},
   "outputs": [
    {
     "data": {
      "text/plain": [
       "True"
      ]
     },
     "execution_count": 13,
     "metadata": {},
     "output_type": "execute_result"
    }
   ],
   "source": [
    "city = {'Pune', 'Banglore', 'Mumbai','Delhi','Manglore'}\n",
    "city1 = {'Pune', 'Manglore'}\n",
    "city.issuperset(city1)"
   ]
  },
  {
   "cell_type": "code",
   "execution_count": 12,
   "id": "1e7bd3f2",
   "metadata": {},
   "outputs": [
    {
     "data": {
      "text/plain": [
       "False"
      ]
     },
     "execution_count": 12,
     "metadata": {},
     "output_type": "execute_result"
    }
   ],
   "source": [
    "city = {'Pune', 'Banglore', 'Mumbai','Delhi','Manglore'}\n",
    "city1 = {'Pune', 'Manglore'}\n",
    "city1.issuperset(city)"
   ]
  },
  {
   "cell_type": "code",
   "execution_count": 14,
   "id": "4e134f46",
   "metadata": {},
   "outputs": [
    {
     "data": {
      "text/plain": [
       "False"
      ]
     },
     "execution_count": 14,
     "metadata": {},
     "output_type": "execute_result"
    }
   ],
   "source": [
    "city = {'Pune', 'Banglore', 'Mumbai','Delhi','Manglore'}\n",
    "city1 = {'Pune', 'Manglore','nashik'}\n",
    "city.issuperset(city1)"
   ]
  },
  {
   "cell_type": "code",
   "execution_count": 16,
   "id": "0b9ad9ba",
   "metadata": {},
   "outputs": [
    {
     "data": {
      "text/plain": [
       "False"
      ]
     },
     "execution_count": 16,
     "metadata": {},
     "output_type": "execute_result"
    }
   ],
   "source": [
    "city = {'Pune', 'Banglore', 'Mumbai','Delhi','Manglore'}\n",
    "city1 = {'Pune', 'Manglore','nashik'}\n",
    "city1.issuperset(city)"
   ]
  },
  {
   "cell_type": "markdown",
   "id": "740d91af",
   "metadata": {},
   "source": [
    "## 9.isdisjoint()"
   ]
  },
  {
   "cell_type": "raw",
   "id": "61964e99",
   "metadata": {},
   "source": [
    "True/False\n",
    "True>> When there is no single common elements in both the sets."
   ]
  },
  {
   "cell_type": "code",
   "execution_count": 29,
   "id": "57915671",
   "metadata": {},
   "outputs": [
    {
     "data": {
      "text/plain": [
       "False"
      ]
     },
     "execution_count": 29,
     "metadata": {},
     "output_type": "execute_result"
    }
   ],
   "source": [
    "city = {'Pune', 'Banglore', 'Mumbai','Delhi','Manglore'}\n",
    "city1 = {'Pune', 'Manglore'}\n",
    "city.isdisjoint(city1)"
   ]
  },
  {
   "cell_type": "code",
   "execution_count": 30,
   "id": "750a02ef",
   "metadata": {},
   "outputs": [
    {
     "data": {
      "text/plain": [
       "False"
      ]
     },
     "execution_count": 30,
     "metadata": {},
     "output_type": "execute_result"
    }
   ],
   "source": [
    "city = {'Pune', 'Banglore', 'Mumbai','Delhi','Manglore'}\n",
    "city1 = {'Pune', 'Manglore'}\n",
    "city1.isdisjoint(city)"
   ]
  },
  {
   "cell_type": "code",
   "execution_count": 32,
   "id": "9434bba7",
   "metadata": {},
   "outputs": [
    {
     "data": {
      "text/plain": [
       "True"
      ]
     },
     "execution_count": 32,
     "metadata": {},
     "output_type": "execute_result"
    }
   ],
   "source": [
    "city = {'Pune', 'Banglore', 'Mumbai','Delhi'}\n",
    "city1 = {'latur', 'Manglore'}\n",
    "city.isdisjoint(city1)"
   ]
  },
  {
   "cell_type": "code",
   "execution_count": 31,
   "id": "d3e4cc4e",
   "metadata": {},
   "outputs": [
    {
     "data": {
      "text/plain": [
       "True"
      ]
     },
     "execution_count": 31,
     "metadata": {},
     "output_type": "execute_result"
    }
   ],
   "source": [
    "city = {'Pune', 'Banglore', 'Mumbai','Delhi'}\n",
    "city1 = {'latur', 'Manglore'}\n",
    "city1.isdisjoint(city)"
   ]
  },
  {
   "cell_type": "code",
   "execution_count": 33,
   "id": "a1b73209",
   "metadata": {},
   "outputs": [
    {
     "data": {
      "text/plain": [
       "True"
      ]
     },
     "execution_count": 33,
     "metadata": {},
     "output_type": "execute_result"
    }
   ],
   "source": [
    "set1 = {1,4,5}\n",
    "set2 = {10,3,15,2,8}\n",
    "set1.isdisjoint(set2)"
   ]
  },
  {
   "cell_type": "code",
   "execution_count": 37,
   "id": "6960f528",
   "metadata": {},
   "outputs": [
    {
     "data": {
      "text/plain": [
       "True"
      ]
     },
     "execution_count": 37,
     "metadata": {},
     "output_type": "execute_result"
    }
   ],
   "source": [
    "set1={45,3,45,66,3}\n",
    "set2={23,56,7,88,9}\n",
    "set2.isdisjoint(set1)"
   ]
  },
  {
   "cell_type": "code",
   "execution_count": 38,
   "id": "1db19e9a",
   "metadata": {},
   "outputs": [
    {
     "ename": "AttributeError",
     "evalue": "'dict' object has no attribute 'isdisjoint'",
     "output_type": "error",
     "traceback": [
      "\u001b[1;31m---------------------------------------------------------------------------\u001b[0m",
      "\u001b[1;31mAttributeError\u001b[0m                            Traceback (most recent call last)",
      "Input \u001b[1;32mIn [38]\u001b[0m, in \u001b[0;36m<cell line: 3>\u001b[1;34m()\u001b[0m\n\u001b[0;32m      1\u001b[0m set1\u001b[38;5;241m=\u001b[39m{}\n\u001b[0;32m      2\u001b[0m set2\u001b[38;5;241m=\u001b[39m{}\n\u001b[1;32m----> 3\u001b[0m \u001b[43mset2\u001b[49m\u001b[38;5;241;43m.\u001b[39;49m\u001b[43misdisjoint\u001b[49m(set1)\n",
      "\u001b[1;31mAttributeError\u001b[0m: 'dict' object has no attribute 'isdisjoint'"
     ]
    }
   ],
   "source": [
    "set1={}\n",
    "set2={}\n",
    "set2.isdisjoint(set1)"
   ]
  },
  {
   "cell_type": "markdown",
   "id": "ee030d92",
   "metadata": {},
   "source": [
    "# min(),max(),sum(),len()"
   ]
  },
  {
   "cell_type": "code",
   "execution_count": 40,
   "id": "0e5d68a6",
   "metadata": {},
   "outputs": [
    {
     "data": {
      "text/plain": [
       "{0, 1, 2, 3, 4, 5, 6, 7, 8, 9}"
      ]
     },
     "execution_count": 40,
     "metadata": {},
     "output_type": "execute_result"
    }
   ],
   "source": [
    "set1={1,2,3,4,5,6,7,8,9,0}\n",
    "set1"
   ]
  },
  {
   "cell_type": "code",
   "execution_count": 41,
   "id": "27cd399f",
   "metadata": {},
   "outputs": [
    {
     "data": {
      "text/plain": [
       "0"
      ]
     },
     "execution_count": 41,
     "metadata": {},
     "output_type": "execute_result"
    }
   ],
   "source": [
    "min(set1)"
   ]
  },
  {
   "cell_type": "code",
   "execution_count": 42,
   "id": "b505e6fc",
   "metadata": {},
   "outputs": [
    {
     "data": {
      "text/plain": [
       "9"
      ]
     },
     "execution_count": 42,
     "metadata": {},
     "output_type": "execute_result"
    }
   ],
   "source": [
    "max(set1)"
   ]
  },
  {
   "cell_type": "code",
   "execution_count": 43,
   "id": "a1c243c7",
   "metadata": {},
   "outputs": [
    {
     "data": {
      "text/plain": [
       "45"
      ]
     },
     "execution_count": 43,
     "metadata": {},
     "output_type": "execute_result"
    }
   ],
   "source": [
    "sum(set1)"
   ]
  },
  {
   "cell_type": "code",
   "execution_count": 44,
   "id": "03c96d8c",
   "metadata": {},
   "outputs": [
    {
     "data": {
      "text/plain": [
       "10"
      ]
     },
     "execution_count": 44,
     "metadata": {},
     "output_type": "execute_result"
    }
   ],
   "source": [
    "len(set1)"
   ]
  },
  {
   "cell_type": "code",
   "execution_count": 106,
   "id": "ba5a8e16",
   "metadata": {},
   "outputs": [
    {
     "data": {
      "text/plain": [
       "38"
      ]
     },
     "execution_count": 106,
     "metadata": {},
     "output_type": "execute_result"
    }
   ],
   "source": [
    "set1 = {10,3,15,2,8}\n",
    "sum(set1)"
   ]
  },
  {
   "cell_type": "code",
   "execution_count": 107,
   "id": "0b76e196",
   "metadata": {},
   "outputs": [
    {
     "data": {
      "text/plain": [
       "38"
      ]
     },
     "execution_count": 107,
     "metadata": {},
     "output_type": "execute_result"
    }
   ],
   "source": [
    "set1 = {10,3,15,2,8,10}\n",
    "sum(set1)"
   ]
  },
  {
   "cell_type": "code",
   "execution_count": 108,
   "id": "af957284",
   "metadata": {},
   "outputs": [
    {
     "data": {
      "text/plain": [
       "38"
      ]
     },
     "execution_count": 108,
     "metadata": {},
     "output_type": "execute_result"
    }
   ],
   "source": [
    "set1 = {10,3,15,2,8,10,15,3,2}\n",
    "sum(set1)"
   ]
  },
  {
   "cell_type": "markdown",
   "id": "25776878",
   "metadata": {},
   "source": [
    "# mean(),median(),mode()"
   ]
  },
  {
   "cell_type": "raw",
   "id": "dedbca07",
   "metadata": {},
   "source": [
    "mean >> average (sum of total/total numbers)\n",
    "median >> after sorting whatever value comes at middle place \n",
    "mode >> maximum repeated element."
   ]
  },
  {
   "cell_type": "code",
   "execution_count": 46,
   "id": "b272ecc6",
   "metadata": {},
   "outputs": [],
   "source": [
    "from statistics import mean,mode,median"
   ]
  },
  {
   "cell_type": "code",
   "execution_count": 54,
   "id": "88f65e93",
   "metadata": {},
   "outputs": [
    {
     "data": {
      "text/plain": [
       "{1, 2, 3, 4, 5, 7, 8, 10, 15, 22}"
      ]
     },
     "execution_count": 54,
     "metadata": {},
     "output_type": "execute_result"
    }
   ],
   "source": [
    "set1 = {10,3,15,2,8,1,7,4,1,1,5,2,22}\n",
    "set1"
   ]
  },
  {
   "cell_type": "code",
   "execution_count": 55,
   "id": "d28ca712",
   "metadata": {},
   "outputs": [
    {
     "data": {
      "text/plain": [
       "7.7"
      ]
     },
     "execution_count": 55,
     "metadata": {},
     "output_type": "execute_result"
    }
   ],
   "source": [
    "mean(set1)"
   ]
  },
  {
   "cell_type": "code",
   "execution_count": 56,
   "id": "828bf3d1",
   "metadata": {},
   "outputs": [
    {
     "data": {
      "text/plain": [
       "6.0"
      ]
     },
     "execution_count": 56,
     "metadata": {},
     "output_type": "execute_result"
    }
   ],
   "source": [
    "median(set1)"
   ]
  },
  {
   "cell_type": "code",
   "execution_count": 57,
   "id": "f6ab2c0d",
   "metadata": {},
   "outputs": [
    {
     "data": {
      "text/plain": [
       "1"
      ]
     },
     "execution_count": 57,
     "metadata": {},
     "output_type": "execute_result"
    }
   ],
   "source": [
    "mode(set1)"
   ]
  },
  {
   "cell_type": "code",
   "execution_count": 82,
   "id": "f40fdbb0",
   "metadata": {},
   "outputs": [
    {
     "data": {
      "text/plain": [
       "{3, 4, 5, 7, 8, 10}"
      ]
     },
     "execution_count": 82,
     "metadata": {},
     "output_type": "execute_result"
    }
   ],
   "source": [
    "set1={3, 4, 5, 7, 8, 10}\n",
    "set1"
   ]
  },
  {
   "cell_type": "code",
   "execution_count": 83,
   "id": "710d9060",
   "metadata": {},
   "outputs": [
    {
     "data": {
      "text/plain": [
       "6.166666666666667"
      ]
     },
     "execution_count": 83,
     "metadata": {},
     "output_type": "execute_result"
    }
   ],
   "source": [
    "mean(set1)"
   ]
  },
  {
   "cell_type": "code",
   "execution_count": 84,
   "id": "d3824354",
   "metadata": {},
   "outputs": [
    {
     "data": {
      "text/plain": [
       "3"
      ]
     },
     "execution_count": 84,
     "metadata": {},
     "output_type": "execute_result"
    }
   ],
   "source": [
    "mode(set1)"
   ]
  },
  {
   "cell_type": "code",
   "execution_count": 85,
   "id": "9d1e087d",
   "metadata": {},
   "outputs": [
    {
     "data": {
      "text/plain": [
       "6.0"
      ]
     },
     "execution_count": 85,
     "metadata": {},
     "output_type": "execute_result"
    }
   ],
   "source": [
    "median(set1)"
   ]
  },
  {
   "cell_type": "markdown",
   "id": "3fd3dee0",
   "metadata": {},
   "source": [
    "# any"
   ]
  },
  {
   "cell_type": "raw",
   "id": "8b1dc252",
   "metadata": {},
   "source": [
    "True/False\n",
    "True >>1,2,3,45,6,-4,-3,4.5,67.5,0.5.\n",
    "False >>0\n",
    "True >> When at lease one element from the set is true."
   ]
  },
  {
   "cell_type": "code",
   "execution_count": 87,
   "id": "07e9aa92",
   "metadata": {},
   "outputs": [],
   "source": [
    "set1 = {10,3,15,2,8,1,7,4,1,1}"
   ]
  },
  {
   "cell_type": "code",
   "execution_count": 88,
   "id": "f215fceb",
   "metadata": {},
   "outputs": [
    {
     "data": {
      "text/plain": [
       "True"
      ]
     },
     "execution_count": 88,
     "metadata": {},
     "output_type": "execute_result"
    }
   ],
   "source": [
    "any(set1)"
   ]
  },
  {
   "cell_type": "code",
   "execution_count": 89,
   "id": "0046697e",
   "metadata": {},
   "outputs": [
    {
     "data": {
      "text/plain": [
       "False"
      ]
     },
     "execution_count": 89,
     "metadata": {},
     "output_type": "execute_result"
    }
   ],
   "source": [
    "set2 = {0,0, False}\n",
    "any(set2)"
   ]
  },
  {
   "cell_type": "code",
   "execution_count": 90,
   "id": "4b20d8b9",
   "metadata": {},
   "outputs": [
    {
     "data": {
      "text/plain": [
       "True"
      ]
     },
     "execution_count": 90,
     "metadata": {},
     "output_type": "execute_result"
    }
   ],
   "source": [
    "set2 = {0,0, False,1}\n",
    "any(set2)"
   ]
  },
  {
   "cell_type": "code",
   "execution_count": 91,
   "id": "85b42367",
   "metadata": {},
   "outputs": [
    {
     "data": {
      "text/plain": [
       "True"
      ]
     },
     "execution_count": 91,
     "metadata": {},
     "output_type": "execute_result"
    }
   ],
   "source": [
    "set2 = {0,0, False,2,3}\n",
    "any(set2)"
   ]
  },
  {
   "cell_type": "code",
   "execution_count": 92,
   "id": "6eacceeb",
   "metadata": {},
   "outputs": [
    {
     "data": {
      "text/plain": [
       "True"
      ]
     },
     "execution_count": 92,
     "metadata": {},
     "output_type": "execute_result"
    }
   ],
   "source": [
    "set2 = {0,0, False,57}\n",
    "any(set2)"
   ]
  },
  {
   "cell_type": "code",
   "execution_count": 94,
   "id": "4adeca07",
   "metadata": {},
   "outputs": [
    {
     "data": {
      "text/plain": [
       "True"
      ]
     },
     "execution_count": 94,
     "metadata": {},
     "output_type": "execute_result"
    }
   ],
   "source": [
    "set2 = {0,0, False,3.5}\n",
    "any(set2)"
   ]
  },
  {
   "cell_type": "code",
   "execution_count": 96,
   "id": "717dc37f",
   "metadata": {},
   "outputs": [
    {
     "data": {
      "text/plain": [
       "True"
      ]
     },
     "execution_count": 96,
     "metadata": {},
     "output_type": "execute_result"
    }
   ],
   "source": [
    "set2 = {0,0, False,-5}\n",
    "any(set2)"
   ]
  },
  {
   "cell_type": "code",
   "execution_count": 93,
   "id": "eefd643a",
   "metadata": {},
   "outputs": [
    {
     "data": {
      "text/plain": [
       "True"
      ]
     },
     "execution_count": 93,
     "metadata": {},
     "output_type": "execute_result"
    }
   ],
   "source": [
    "set2 = {0,0, False,2,3.5}\n",
    "any(set2)"
   ]
  },
  {
   "cell_type": "code",
   "execution_count": 95,
   "id": "167b7a04",
   "metadata": {},
   "outputs": [
    {
     "data": {
      "text/plain": [
       "True"
      ]
     },
     "execution_count": 95,
     "metadata": {},
     "output_type": "execute_result"
    }
   ],
   "source": [
    "set2 = {0,0, False,2,3.5,-5}\n",
    "any(set2)"
   ]
  },
  {
   "cell_type": "code",
   "execution_count": 97,
   "id": "7594a652",
   "metadata": {},
   "outputs": [
    {
     "data": {
      "text/plain": [
       "True"
      ]
     },
     "execution_count": 97,
     "metadata": {},
     "output_type": "execute_result"
    }
   ],
   "source": [
    "set2 = {0,0, False,0.4}\n",
    "any(set2)"
   ]
  },
  {
   "cell_type": "code",
   "execution_count": 98,
   "id": "2c1db48c",
   "metadata": {},
   "outputs": [
    {
     "data": {
      "text/plain": [
       "True"
      ]
     },
     "execution_count": 98,
     "metadata": {},
     "output_type": "execute_result"
    }
   ],
   "source": [
    "set2 = {0,0, False,-0.4}\n",
    "any(set2)"
   ]
  },
  {
   "cell_type": "markdown",
   "id": "0509a84d",
   "metadata": {},
   "source": [
    "# all"
   ]
  },
  {
   "cell_type": "raw",
   "id": "a3696247",
   "metadata": {},
   "source": [
    "True/False\n",
    "True>> When all the elements are true"
   ]
  },
  {
   "cell_type": "code",
   "execution_count": 99,
   "id": "1f65caec",
   "metadata": {},
   "outputs": [],
   "source": [
    "set1 = {10,3,15,2,8,1,7,4,1,1}"
   ]
  },
  {
   "cell_type": "code",
   "execution_count": 100,
   "id": "c93ff168",
   "metadata": {},
   "outputs": [
    {
     "data": {
      "text/plain": [
       "True"
      ]
     },
     "execution_count": 100,
     "metadata": {},
     "output_type": "execute_result"
    }
   ],
   "source": [
    "all(set1)"
   ]
  },
  {
   "cell_type": "code",
   "execution_count": 101,
   "id": "3e0230a7",
   "metadata": {},
   "outputs": [
    {
     "data": {
      "text/plain": [
       "False"
      ]
     },
     "execution_count": 101,
     "metadata": {},
     "output_type": "execute_result"
    }
   ],
   "source": [
    "set1 = {10,3,15,2,8,1,7,4,1,0}\n",
    "all(set1)"
   ]
  },
  {
   "cell_type": "code",
   "execution_count": 102,
   "id": "adac41cc",
   "metadata": {},
   "outputs": [
    {
     "data": {
      "text/plain": [
       "False"
      ]
     },
     "execution_count": 102,
     "metadata": {},
     "output_type": "execute_result"
    }
   ],
   "source": [
    "set1 = {10,3,15,2,8,1,False,4,1,0}\n",
    "all(set1)"
   ]
  },
  {
   "cell_type": "code",
   "execution_count": 103,
   "id": "e59d1c1a",
   "metadata": {},
   "outputs": [
    {
     "data": {
      "text/plain": [
       "False"
      ]
     },
     "execution_count": 103,
     "metadata": {},
     "output_type": "execute_result"
    }
   ],
   "source": [
    "set1 = {False,0,3.5}\n",
    "all(set1)"
   ]
  },
  {
   "cell_type": "code",
   "execution_count": 104,
   "id": "02aa9b73",
   "metadata": {},
   "outputs": [
    {
     "data": {
      "text/plain": [
       "True"
      ]
     },
     "execution_count": 104,
     "metadata": {},
     "output_type": "execute_result"
    }
   ],
   "source": [
    "set1 = {3.5}\n",
    "all(set1)"
   ]
  },
  {
   "cell_type": "code",
   "execution_count": 105,
   "id": "3ec2bca4",
   "metadata": {},
   "outputs": [
    {
     "data": {
      "text/plain": [
       "True"
      ]
     },
     "execution_count": 105,
     "metadata": {},
     "output_type": "execute_result"
    }
   ],
   "source": [
    "set={-9.4}\n",
    "all(set1)"
   ]
  },
  {
   "cell_type": "markdown",
   "id": "1d562626",
   "metadata": {},
   "source": [
    "# Frozenset"
   ]
  },
  {
   "cell_type": "raw",
   "id": "a04d329e",
   "metadata": {},
   "source": [
    "set:\n",
    "    Mutable, Unordered, unindexed, duplicates are not allowed.\n",
    "Frozenset:\n",
    "    Immutable, Unordered,unindex, Duplicates are not allowed."
   ]
  },
  {
   "cell_type": "code",
   "execution_count": 109,
   "id": "8a9f5220",
   "metadata": {},
   "outputs": [
    {
     "name": "stdout",
     "output_type": "stream",
     "text": [
      "{1, 2, 3, 4, 5} <class 'set'>\n",
      "frozenset({40, 10, 20, 30}) <class 'frozenset'>\n"
     ]
    }
   ],
   "source": [
    "set1 = {1,2,4,5,3}# normal set\n",
    "frozen1 = frozenset({10,20,30,40}) # frozenset\n",
    "print(set1, type(set1))\n",
    "print(frozen1, type(frozen1))"
   ]
  },
  {
   "cell_type": "code",
   "execution_count": 110,
   "id": "6d16cfb3",
   "metadata": {},
   "outputs": [
    {
     "name": "stdout",
     "output_type": "stream",
     "text": [
      "{23, 5, 6, 7, 43, 78} <class 'set'>\n",
      "frozenset({-0.56, 6, 7.7, 45, 78, 6576, 23, -9}) <class 'frozenset'>\n"
     ]
    }
   ],
   "source": [
    "set1={23,43,5,6,7,78,5}\n",
    "set2=frozenset({23,45,6576,78,6,-0.56,-9,7.7})\n",
    "print(set1,type(set1))\n",
    "print(set2,type(set2))"
   ]
  },
  {
   "cell_type": "markdown",
   "id": "9bd31c0a",
   "metadata": {},
   "source": [
    "# Functions of Frozenset"
   ]
  },
  {
   "cell_type": "raw",
   "id": "91d72402",
   "metadata": {},
   "source": [
    "1. union()\n",
    "2. intersection()\n",
    "3. difference()\n",
    "4. symmetric_difference()\n",
    "5. issubset()\n",
    "6. issuperset()\n",
    "7. isdisjoint()\n",
    "8. any()\n",
    "9. all()"
   ]
  },
  {
   "cell_type": "markdown",
   "id": "16393f4f",
   "metadata": {},
   "source": [
    "# union()"
   ]
  },
  {
   "cell_type": "code",
   "execution_count": 114,
   "id": "5d2e5f5e",
   "metadata": {},
   "outputs": [],
   "source": [
    "set1 = frozenset({1,2,4,5,3,10})\n",
    "frozen1 = frozenset({2,10,20,30,40})"
   ]
  },
  {
   "cell_type": "code",
   "execution_count": 115,
   "id": "131c1706",
   "metadata": {},
   "outputs": [],
   "source": [
    "set2=set1.union(frozen1)"
   ]
  },
  {
   "cell_type": "code",
   "execution_count": 116,
   "id": "89adf059",
   "metadata": {},
   "outputs": [
    {
     "data": {
      "text/plain": [
       "frozenset({1, 2, 3, 4, 5, 10, 20, 30, 40})"
      ]
     },
     "execution_count": 116,
     "metadata": {},
     "output_type": "execute_result"
    }
   ],
   "source": [
    "set2"
   ]
  },
  {
   "cell_type": "code",
   "execution_count": 119,
   "id": "3a4cf8fe",
   "metadata": {},
   "outputs": [
    {
     "name": "stdout",
     "output_type": "stream",
     "text": [
      "frozenset({1, 2, 3, 4, 5, 40, 10, 20, 30})\n"
     ]
    }
   ],
   "source": [
    "set3=frozen1.union(set1)\n",
    "print(set3)"
   ]
  },
  {
   "cell_type": "code",
   "execution_count": 120,
   "id": "69467e19",
   "metadata": {},
   "outputs": [
    {
     "name": "stdout",
     "output_type": "stream",
     "text": [
      "frozenset({2, 20, 40, 10, 30})\n"
     ]
    }
   ],
   "source": [
    "frozen1.union(set1)\n",
    "print(frozen1)"
   ]
  },
  {
   "cell_type": "markdown",
   "id": "f4f1c27b",
   "metadata": {},
   "source": [
    "# intersection()"
   ]
  },
  {
   "cell_type": "code",
   "execution_count": 123,
   "id": "40689f39",
   "metadata": {},
   "outputs": [],
   "source": [
    "set1 = frozenset({1,2,4,5,3,10})\n",
    "frozen1 = frozenset({2,10,20,30,40})"
   ]
  },
  {
   "cell_type": "code",
   "execution_count": 124,
   "id": "05eace77",
   "metadata": {},
   "outputs": [
    {
     "name": "stdout",
     "output_type": "stream",
     "text": [
      "frozenset({2, 10})\n"
     ]
    }
   ],
   "source": [
    "set3=frozen1.intersection(set1)\n",
    "print(set3)"
   ]
  },
  {
   "cell_type": "code",
   "execution_count": 129,
   "id": "daecbc6e",
   "metadata": {},
   "outputs": [
    {
     "name": "stdout",
     "output_type": "stream",
     "text": [
      "frozenset({2, 10})\n"
     ]
    }
   ],
   "source": [
    "set3=set1.intersection(frozen1)\n",
    "print(set3)"
   ]
  },
  {
   "cell_type": "code",
   "execution_count": 133,
   "id": "b0e0d927",
   "metadata": {},
   "outputs": [],
   "source": [
    "set1 = frozenset({1,4,5,3})\n",
    "frozen1 = frozenset({10,20,30,40})"
   ]
  },
  {
   "cell_type": "code",
   "execution_count": 134,
   "id": "0deeca1f",
   "metadata": {},
   "outputs": [
    {
     "data": {
      "text/plain": [
       "frozenset()"
      ]
     },
     "execution_count": 134,
     "metadata": {},
     "output_type": "execute_result"
    }
   ],
   "source": [
    "set3=set1.intersection(frozen1)\n",
    "set3"
   ]
  },
  {
   "cell_type": "markdown",
   "id": "4796d037",
   "metadata": {},
   "source": [
    "# difference()"
   ]
  },
  {
   "cell_type": "code",
   "execution_count": 125,
   "id": "beda1a97",
   "metadata": {},
   "outputs": [],
   "source": [
    "set1 = frozenset({1,2,4,5,3,10})\n",
    "frozen1 = frozenset({2,10,20,30,40})"
   ]
  },
  {
   "cell_type": "code",
   "execution_count": 127,
   "id": "4f6b5e2c",
   "metadata": {},
   "outputs": [
    {
     "data": {
      "text/plain": [
       "frozenset({1, 3, 4, 5})"
      ]
     },
     "execution_count": 127,
     "metadata": {},
     "output_type": "execute_result"
    }
   ],
   "source": [
    "set3=set1.difference(frozen1)\n",
    "set3"
   ]
  },
  {
   "cell_type": "code",
   "execution_count": 128,
   "id": "14baa8f0",
   "metadata": {},
   "outputs": [
    {
     "data": {
      "text/plain": [
       "frozenset({20, 30, 40})"
      ]
     },
     "execution_count": 128,
     "metadata": {},
     "output_type": "execute_result"
    }
   ],
   "source": [
    "set3=frozen1.difference(set1)\n",
    "set3"
   ]
  },
  {
   "cell_type": "code",
   "execution_count": 130,
   "id": "26492303",
   "metadata": {},
   "outputs": [],
   "source": [
    "set1 = frozenset({1,4,5,3})\n",
    "frozen1 = frozenset({10,20,30,40})"
   ]
  },
  {
   "cell_type": "code",
   "execution_count": 131,
   "id": "9a443a7c",
   "metadata": {},
   "outputs": [
    {
     "data": {
      "text/plain": [
       "frozenset({1, 3, 4, 5})"
      ]
     },
     "execution_count": 131,
     "metadata": {},
     "output_type": "execute_result"
    }
   ],
   "source": [
    "set3=set1.difference(frozen1)\n",
    "set3"
   ]
  },
  {
   "cell_type": "code",
   "execution_count": 132,
   "id": "9d5321f0",
   "metadata": {},
   "outputs": [
    {
     "data": {
      "text/plain": [
       "frozenset({10, 20, 30, 40})"
      ]
     },
     "execution_count": 132,
     "metadata": {},
     "output_type": "execute_result"
    }
   ],
   "source": [
    "set3=frozen1.difference(set1)\n",
    "set3"
   ]
  },
  {
   "cell_type": "code",
   "execution_count": 139,
   "id": "9ce11290",
   "metadata": {},
   "outputs": [
    {
     "data": {
      "text/plain": [
       "frozenset()"
      ]
     },
     "execution_count": 139,
     "metadata": {},
     "output_type": "execute_result"
    }
   ],
   "source": [
    "set1 = frozenset({1,3,4})\n",
    "frozen1 = frozenset({1,4,3})\n",
    "set3=set1.difference(frozen1)\n",
    "set3"
   ]
  },
  {
   "cell_type": "markdown",
   "id": "c170f77a",
   "metadata": {},
   "source": [
    "# symmetric_difference"
   ]
  },
  {
   "cell_type": "code",
   "execution_count": 136,
   "id": "c34b7eff",
   "metadata": {},
   "outputs": [
    {
     "data": {
      "text/plain": [
       "frozenset({1, 2, 4, 20, 30, 40})"
      ]
     },
     "execution_count": 136,
     "metadata": {},
     "output_type": "execute_result"
    }
   ],
   "source": [
    "set1 = frozenset({1,2,4,10})\n",
    "frozen1 = frozenset({10,20,30,40})\n",
    "fr3 = set1.symmetric_difference(frozen1)\n",
    "fr3"
   ]
  },
  {
   "cell_type": "code",
   "execution_count": 137,
   "id": "9374843e",
   "metadata": {},
   "outputs": [
    {
     "name": "stdout",
     "output_type": "stream",
     "text": [
      "frozenset({1, 2, 4, 40, 20, 30})\n"
     ]
    }
   ],
   "source": [
    "set3=frozen1.symmetric_difference(set1)\n",
    "print(set3)"
   ]
  },
  {
   "cell_type": "code",
   "execution_count": 138,
   "id": "621f805a",
   "metadata": {},
   "outputs": [
    {
     "name": "stdout",
     "output_type": "stream",
     "text": [
      "frozenset({1, 2, 4, 40, 20, 30})\n"
     ]
    }
   ],
   "source": [
    "set3=set1.symmetric_difference(frozen1)\n",
    "print(set3)"
   ]
  },
  {
   "cell_type": "code",
   "execution_count": 140,
   "id": "76a56246",
   "metadata": {},
   "outputs": [
    {
     "data": {
      "text/plain": [
       "frozenset()"
      ]
     },
     "execution_count": 140,
     "metadata": {},
     "output_type": "execute_result"
    }
   ],
   "source": [
    "set1 = frozenset({1,3,4})\n",
    "frozen1 = frozenset({1,4,3})\n",
    "r3=set1.symmetric_difference(frozen1)\n",
    "r3"
   ]
  },
  {
   "cell_type": "markdown",
   "id": "01d7b1f1",
   "metadata": {},
   "source": [
    "# issubset()"
   ]
  },
  {
   "cell_type": "code",
   "execution_count": 141,
   "id": "ce52f888",
   "metadata": {},
   "outputs": [
    {
     "data": {
      "text/plain": [
       "False"
      ]
     },
     "execution_count": 141,
     "metadata": {},
     "output_type": "execute_result"
    }
   ],
   "source": [
    "set1 = frozenset({1,2,4,10})\n",
    "frozen1 = frozenset({10,20,30,40})\n",
    "set1.issubset(frozen1)"
   ]
  },
  {
   "cell_type": "code",
   "execution_count": 145,
   "id": "fe91f1ef",
   "metadata": {},
   "outputs": [
    {
     "data": {
      "text/plain": [
       "False"
      ]
     },
     "execution_count": 145,
     "metadata": {},
     "output_type": "execute_result"
    }
   ],
   "source": [
    "set1 = frozenset({1,2,4,10})\n",
    "frozen1 = frozenset({10,20,30,40})\n",
    "set3=set1.issubset(frozen1)\n",
    "set3"
   ]
  },
  {
   "cell_type": "code",
   "execution_count": 146,
   "id": "759598d5",
   "metadata": {},
   "outputs": [
    {
     "data": {
      "text/plain": [
       "True"
      ]
     },
     "execution_count": 146,
     "metadata": {},
     "output_type": "execute_result"
    }
   ],
   "source": [
    "set1 = frozenset({10,20,30,40})\n",
    "frozen1 = frozenset({10,20,30,40})\n",
    "set1.issubset(frozen1)"
   ]
  },
  {
   "cell_type": "code",
   "execution_count": 149,
   "id": "c50a042d",
   "metadata": {},
   "outputs": [
    {
     "name": "stdout",
     "output_type": "stream",
     "text": [
      "frozenset({40, 10, 20, 30})\n",
      "frozenset({40, 10, 20, 30})\n"
     ]
    }
   ],
   "source": [
    "set1 = frozenset({10,20,30,40})\n",
    "frozen1 = frozenset({10,20,30,40})\n",
    "set1.issubset(frozen1)\n",
    "print(set1)\n",
    "print(frozen1)"
   ]
  },
  {
   "cell_type": "code",
   "execution_count": 143,
   "id": "5ed594c2",
   "metadata": {},
   "outputs": [
    {
     "data": {
      "text/plain": [
       "True"
      ]
     },
     "execution_count": 143,
     "metadata": {},
     "output_type": "execute_result"
    }
   ],
   "source": [
    "set1 = frozenset({10,20,30,40})\n",
    "frozen1 = frozenset({10,20,30,40})\n",
    "fr3 = set1.issubset(frozen1)\n",
    "fr3"
   ]
  },
  {
   "cell_type": "code",
   "execution_count": 144,
   "id": "8537ef62",
   "metadata": {},
   "outputs": [
    {
     "data": {
      "text/plain": [
       "True"
      ]
     },
     "execution_count": 144,
     "metadata": {},
     "output_type": "execute_result"
    }
   ],
   "source": [
    "set1 = frozenset({10,20,30,40})\n",
    "frozen1 = frozenset({10,20,30,40})\n",
    "fr3 = frozen1.issubset(set1)\n",
    "fr3"
   ]
  },
  {
   "cell_type": "markdown",
   "id": "7bd0dd79",
   "metadata": {},
   "source": [
    "# issuperset()"
   ]
  },
  {
   "cell_type": "code",
   "execution_count": 150,
   "id": "6c0d0d06",
   "metadata": {},
   "outputs": [
    {
     "data": {
      "text/plain": [
       "True"
      ]
     },
     "execution_count": 150,
     "metadata": {},
     "output_type": "execute_result"
    }
   ],
   "source": [
    "set1 = frozenset({10,20,30,40})\n",
    "frozen1 = frozenset({10,20,30,40})\n",
    "fr3 = frozen1.issuperset(set1)\n",
    "fr3"
   ]
  },
  {
   "cell_type": "code",
   "execution_count": 151,
   "id": "bd105af3",
   "metadata": {},
   "outputs": [
    {
     "data": {
      "text/plain": [
       "True"
      ]
     },
     "execution_count": 151,
     "metadata": {},
     "output_type": "execute_result"
    }
   ],
   "source": [
    "set1 = frozenset({10,20,30,40})\n",
    "frozen1 = frozenset({10,20,30,40})\n",
    "fr3 = set1.issuperset(frozen1)\n",
    "fr3"
   ]
  },
  {
   "cell_type": "code",
   "execution_count": 152,
   "id": "d3c67b3c",
   "metadata": {},
   "outputs": [
    {
     "data": {
      "text/plain": [
       "False"
      ]
     },
     "execution_count": 152,
     "metadata": {},
     "output_type": "execute_result"
    }
   ],
   "source": [
    "set1 = frozenset({10,20,30,40,45,34})\n",
    "frozen1 = frozenset({10,20,30,40})\n",
    "fr3 = frozen1.issuperset(set1)\n",
    "fr3"
   ]
  },
  {
   "cell_type": "code",
   "execution_count": 153,
   "id": "4618775d",
   "metadata": {},
   "outputs": [
    {
     "data": {
      "text/plain": [
       "True"
      ]
     },
     "execution_count": 153,
     "metadata": {},
     "output_type": "execute_result"
    }
   ],
   "source": [
    "set1 = frozenset({10,20,30,40,45,34})\n",
    "frozen1 = frozenset({10,20,30,40})\n",
    "fr3 = set1.issuperset(frozen1)\n",
    "fr3"
   ]
  },
  {
   "cell_type": "markdown",
   "id": "c180430a",
   "metadata": {},
   "source": [
    "# isdisjoint()"
   ]
  },
  {
   "cell_type": "code",
   "execution_count": 6,
   "id": "23ec1051",
   "metadata": {},
   "outputs": [
    {
     "data": {
      "text/plain": [
       "False"
      ]
     },
     "execution_count": 6,
     "metadata": {},
     "output_type": "execute_result"
    }
   ],
   "source": [
    "set1 = frozenset({1,2,4,10})\n",
    "frozen1 = frozenset({10,20,30,40})\n",
    "set1.isdisjoint(frozen1)"
   ]
  },
  {
   "cell_type": "code",
   "execution_count": 7,
   "id": "394a0859",
   "metadata": {},
   "outputs": [
    {
     "data": {
      "text/plain": [
       "True"
      ]
     },
     "execution_count": 7,
     "metadata": {},
     "output_type": "execute_result"
    }
   ],
   "source": [
    "set1 = frozenset({1,2,4,5,3})\n",
    "frozen1 = frozenset({10,20,30,40})\n",
    "set1.isdisjoint(frozen1)"
   ]
  },
  {
   "cell_type": "code",
   "execution_count": 3,
   "id": "63f69b29",
   "metadata": {},
   "outputs": [
    {
     "data": {
      "text/plain": [
       "True"
      ]
     },
     "execution_count": 3,
     "metadata": {},
     "output_type": "execute_result"
    }
   ],
   "source": [
    "set1 = frozenset({1,2,4,5,3})\n",
    "frozen1 = frozenset({10,20,30,40})\n",
    "frozen1.isdisjoint(set1)"
   ]
  },
  {
   "cell_type": "code",
   "execution_count": 157,
   "id": "ee457b84",
   "metadata": {},
   "outputs": [
    {
     "name": "stdout",
     "output_type": "stream",
     "text": [
      "1\n",
      "2\n",
      "3\n",
      "4\n"
     ]
    }
   ],
   "source": [
    "set1=1,2,3,4\n",
    "for i in set1:\n",
    "    print(i)"
   ]
  },
  {
   "cell_type": "code",
   "execution_count": 159,
   "id": "2b4df8e3",
   "metadata": {},
   "outputs": [
    {
     "name": "stdout",
     "output_type": "stream",
     "text": [
      "0\n",
      "1\n",
      "2\n",
      "3\n"
     ]
    }
   ],
   "source": [
    "set1=1,2,3,4\n",
    "for i in range(len(set1)):\n",
    "    print(i)"
   ]
  },
  {
   "cell_type": "code",
   "execution_count": 162,
   "id": "6ffa2321",
   "metadata": {},
   "outputs": [
    {
     "name": "stdout",
     "output_type": "stream",
     "text": [
      "0\n",
      "1\n",
      "2\n",
      "3\n"
     ]
    }
   ],
   "source": [
    "set1=1,20,30,40\n",
    "for i in range(len(set1)):\n",
    "    print(i)"
   ]
  },
  {
   "cell_type": "code",
   "execution_count": 161,
   "id": "8235d240",
   "metadata": {},
   "outputs": [
    {
     "name": "stdout",
     "output_type": "stream",
     "text": [
      "0\n",
      "1\n",
      "2\n",
      "3\n",
      "4\n",
      "5\n",
      "6\n",
      "7\n",
      "8\n",
      "9\n"
     ]
    }
   ],
   "source": [
    "set1=1,2,3,4\n",
    "for i in range(0,10):\n",
    "    print(i)"
   ]
  },
  {
   "cell_type": "code",
   "execution_count": 163,
   "id": "135a105d",
   "metadata": {},
   "outputs": [],
   "source": [
    "set1 = frozenset({10,20,30,40,45,34})\n",
    "frozen1 = frozenset({10,20,30,40})"
   ]
  },
  {
   "cell_type": "code",
   "execution_count": 164,
   "id": "caebcbc2",
   "metadata": {},
   "outputs": [
    {
     "data": {
      "text/plain": [
       "True"
      ]
     },
     "execution_count": 164,
     "metadata": {},
     "output_type": "execute_result"
    }
   ],
   "source": [
    "any(set1)"
   ]
  },
  {
   "cell_type": "code",
   "execution_count": 165,
   "id": "77eda3c8",
   "metadata": {},
   "outputs": [
    {
     "data": {
      "text/plain": [
       "True"
      ]
     },
     "execution_count": 165,
     "metadata": {},
     "output_type": "execute_result"
    }
   ],
   "source": [
    "any(frozen1)"
   ]
  },
  {
   "cell_type": "code",
   "execution_count": 166,
   "id": "5735c5db",
   "metadata": {},
   "outputs": [
    {
     "data": {
      "text/plain": [
       "True"
      ]
     },
     "execution_count": 166,
     "metadata": {},
     "output_type": "execute_result"
    }
   ],
   "source": [
    "all(set1)"
   ]
  },
  {
   "cell_type": "code",
   "execution_count": 167,
   "id": "8f034bf0",
   "metadata": {},
   "outputs": [
    {
     "data": {
      "text/plain": [
       "True"
      ]
     },
     "execution_count": 167,
     "metadata": {},
     "output_type": "execute_result"
    }
   ],
   "source": [
    "all(frozen1)"
   ]
  },
  {
   "cell_type": "code",
   "execution_count": null,
   "id": "617c3dc2",
   "metadata": {},
   "outputs": [],
   "source": []
  }
 ],
 "metadata": {
  "kernelspec": {
   "display_name": "Python 3 (ipykernel)",
   "language": "python",
   "name": "python3"
  },
  "language_info": {
   "codemirror_mode": {
    "name": "ipython",
    "version": 3
   },
   "file_extension": ".py",
   "mimetype": "text/x-python",
   "name": "python",
   "nbconvert_exporter": "python",
   "pygments_lexer": "ipython3",
   "version": "3.9.12"
  }
 },
 "nbformat": 4,
 "nbformat_minor": 5
}
