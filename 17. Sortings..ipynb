{
 "cells": [
  {
   "cell_type": "markdown",
   "id": "e413803d",
   "metadata": {},
   "source": [
    "# 17.List sorting"
   ]
  },
  {
   "cell_type": "raw",
   "id": "6431d149",
   "metadata": {},
   "source": [
    "Sorting:\n",
    "\n",
    "\"Sorting is the process of arranging data in ascending and descending order\"\n",
    "\n",
    "Types of Sorting:\n",
    "\n",
    "1.Selection Sort\n",
    "2.Insertion Sort\n",
    "3.Bubble Sort\n",
    "4.Merge Sort\n",
    "5.Quick Sort\n",
    "6.Heap Sort"
   ]
  },
  {
   "cell_type": "markdown",
   "id": "f1c464af",
   "metadata": {},
   "source": [
    "# normal sorting way"
   ]
  },
  {
   "cell_type": "markdown",
   "id": "19856359",
   "metadata": {},
   "source": [
    "## 1.ascending order"
   ]
  },
  {
   "cell_type": "code",
   "execution_count": 8,
   "id": "d3e335f6",
   "metadata": {
    "scrolled": true
   },
   "outputs": [
    {
     "name": "stdout",
     "output_type": "stream",
     "text": [
      "[1, 45, 44, 45, 23, 2, 34, 6, 78]\n",
      "[1, 2, 45, 45, 44, 23, 34, 6, 78]\n",
      "[1, 2, 6, 45, 45, 44, 34, 23, 78]\n",
      "[1, 2, 6, 23, 45, 45, 44, 34, 78]\n",
      "[1, 2, 6, 23, 34, 45, 45, 44, 78]\n",
      "[1, 2, 6, 23, 34, 44, 45, 45, 78]\n",
      "[1, 2, 6, 23, 34, 44, 45, 45, 78]\n",
      "[1, 2, 6, 23, 34, 44, 45, 45, 78]\n",
      "[1, 2, 6, 23, 34, 44, 45, 45, 78]\n",
      "sorted list [1, 2, 6, 23, 34, 44, 45, 45, 78]\n"
     ]
    }
   ],
   "source": [
    "l1=[23,45,44,45,1,2,34,6,78]\n",
    "for i in range(len(l1)):\n",
    "    for j in range(i+1,len(l1)):\n",
    "        if l1[i]>l1[j]: #23>45,23>44,23>45,23>1 true\n",
    "            l1[i],l1[j]=l1[j],l1[i] #23,1=1,23\n",
    "    print(l1)\n",
    "print('sorted list' ,l1)"
   ]
  },
  {
   "cell_type": "markdown",
   "id": "dfa5e499",
   "metadata": {},
   "source": [
    "## 2.descending order"
   ]
  },
  {
   "cell_type": "code",
   "execution_count": 19,
   "id": "d40f86e7",
   "metadata": {},
   "outputs": [
    {
     "name": "stdout",
     "output_type": "stream",
     "text": [
      "[78, 23, 44, 45, 1, 2, 34, 6, 45]\n",
      "[78, 45, 23, 44, 1, 2, 34, 6, 45]\n",
      "[78, 45, 45, 23, 1, 2, 34, 6, 44]\n",
      "[78, 45, 45, 44, 1, 2, 23, 6, 34]\n",
      "[78, 45, 45, 44, 34, 1, 2, 6, 23]\n",
      "[78, 45, 45, 44, 34, 23, 1, 2, 6]\n",
      "[78, 45, 45, 44, 34, 23, 6, 1, 2]\n",
      "[78, 45, 45, 44, 34, 23, 6, 2, 1]\n",
      "[78, 45, 45, 44, 34, 23, 6, 2, 1]\n",
      "sorted list [78, 45, 45, 44, 34, 23, 6, 2, 1]\n"
     ]
    }
   ],
   "source": [
    "l1=[23,45,44,45,1,2,34,6,78]\n",
    "for i in range(len(l1)):\n",
    "    for j in range(i+1,len(l1)):\n",
    "        if l1[j]>l1[i]: \n",
    "            l1[j],l1[i]=l1[i],l1[j] \n",
    "    print(l1)\n",
    "print('sorted list' ,l1)"
   ]
  },
  {
   "cell_type": "markdown",
   "id": "060f1230",
   "metadata": {},
   "source": [
    "# 1.selection sorting"
   ]
  },
  {
   "cell_type": "markdown",
   "id": "20b1326c",
   "metadata": {},
   "source": [
    "## 1.ascending order"
   ]
  },
  {
   "cell_type": "code",
   "execution_count": 3,
   "id": "3d3f9d82",
   "metadata": {
    "scrolled": true
   },
   "outputs": [
    {
     "name": "stdout",
     "output_type": "stream",
     "text": [
      "List after iteration no.1 is :  [1, 45, 44, 45, 23, 2, 34, 6, 78]\n",
      "List after iteration no.1 is :  [1, 2, 44, 45, 23, 45, 34, 6, 78]\n",
      "List after iteration no.1 is :  [1, 2, 6, 45, 23, 45, 34, 44, 78]\n",
      "List after iteration no.1 is :  [1, 2, 6, 23, 45, 45, 34, 44, 78]\n",
      "List after iteration no.1 is :  [1, 2, 6, 23, 34, 45, 45, 44, 78]\n",
      "List after iteration no.1 is :  [1, 2, 6, 23, 34, 44, 45, 45, 78]\n",
      "List after iteration no.1 is :  [1, 2, 6, 23, 34, 44, 45, 45, 78]\n",
      "List after iteration no.1 is :  [1, 2, 6, 23, 34, 44, 45, 45, 78]\n",
      "List after iteration no.1 is :  [1, 2, 6, 23, 34, 44, 45, 45, 78]\n",
      "\n",
      "Sorted List is:  [1, 2, 6, 23, 34, 44, 45, 45, 78]\n"
     ]
    }
   ],
   "source": [
    "l = [23,45,44,45,1,2,34,6,78]\n",
    "for i in range(len(l)):# 0,1,2,3,4,5,6 # l[i]\n",
    "    min_index = i          # min_index = 0\n",
    "    for j in range(i+1, len(l)):# 1,2,3,4,5,6\n",
    "        if l[min_index]>l[j]:# 23>45, 23>44, 23>45, 23>1, 23>2, 23>6\n",
    "            min_index = j # min_index = 1 ,2, 3..... min_index = 3..... l[min_index]=1, l[i]=10\n",
    "    l[i],l[min_index] = l[min_index],l[i] # \n",
    "    print('List after iteration no.1 is : ',l)\n",
    "print('\\nSorted List is: ', l)\n"
   ]
  },
  {
   "cell_type": "markdown",
   "id": "10d5d7fc",
   "metadata": {},
   "source": [
    "## 2.descending order"
   ]
  },
  {
   "cell_type": "code",
   "execution_count": 18,
   "id": "6113e30d",
   "metadata": {},
   "outputs": [
    {
     "name": "stdout",
     "output_type": "stream",
     "text": [
      "List after iteration no.1 is :  [78, 45, 44, 45, 1, 2, 34, 6, 23]\n",
      "List after iteration no.1 is :  [78, 45, 44, 45, 1, 2, 34, 6, 23]\n",
      "List after iteration no.1 is :  [78, 45, 45, 44, 1, 2, 34, 6, 23]\n",
      "List after iteration no.1 is :  [78, 45, 45, 44, 1, 2, 34, 6, 23]\n",
      "List after iteration no.1 is :  [78, 45, 45, 44, 34, 2, 1, 6, 23]\n",
      "List after iteration no.1 is :  [78, 45, 45, 44, 34, 23, 1, 6, 2]\n",
      "List after iteration no.1 is :  [78, 45, 45, 44, 34, 23, 6, 1, 2]\n",
      "List after iteration no.1 is :  [78, 45, 45, 44, 34, 23, 6, 2, 1]\n",
      "List after iteration no.1 is :  [78, 45, 45, 44, 34, 23, 6, 2, 1]\n",
      "\n",
      "Sorted List is:  [78, 45, 45, 44, 34, 23, 6, 2, 1]\n"
     ]
    }
   ],
   "source": [
    "l = [23,45,44,45,1,2,34,6,78]\n",
    "for i in range(len(l)):\n",
    "    min_index = i          \n",
    "    for j in range(i+1, len(l)):\n",
    "        if l[j]>l[min_index]:\n",
    "            min_index = j \n",
    "    l[min_index],l[i] = l[i],l[min_index] # \n",
    "    print('List after iteration no.1 is : ',l)\n",
    "print('\\nSorted List is: ', l)\n"
   ]
  },
  {
   "cell_type": "markdown",
   "id": "0cd64e36",
   "metadata": {},
   "source": [
    "# 2.insertion sort"
   ]
  },
  {
   "cell_type": "markdown",
   "id": "32e33dc2",
   "metadata": {},
   "source": [
    "## 1.ascending order"
   ]
  },
  {
   "cell_type": "code",
   "execution_count": 4,
   "id": "b6c4317e",
   "metadata": {
    "scrolled": true
   },
   "outputs": [
    {
     "name": "stdout",
     "output_type": "stream",
     "text": [
      "Sorted list after 1th iteration = [42, 66, 25, 19, 88, 57, 96, 62, 13]\n",
      "Sorted list after 2th iteration = [25, 42, 66, 19, 88, 57, 96, 62, 13]\n",
      "Sorted list after 3th iteration = [19, 25, 42, 66, 88, 57, 96, 62, 13]\n",
      "Sorted list after 4th iteration = [19, 25, 42, 66, 88, 57, 96, 62, 13]\n",
      "Sorted list after 5th iteration = [19, 25, 42, 57, 66, 88, 96, 62, 13]\n",
      "Sorted list after 6th iteration = [19, 25, 42, 57, 66, 88, 96, 62, 13]\n",
      "Sorted list after 7th iteration = [19, 25, 42, 57, 62, 66, 88, 96, 13]\n",
      "Sorted list after 8th iteration = [13, 19, 25, 42, 57, 62, 66, 88, 96]\n",
      "\n",
      " Sorted list = [13, 19, 25, 42, 57, 62, 66, 88, 96]\n"
     ]
    }
   ],
   "source": [
    "l = [66, 42, 25, 19, 88, 57, 96, 62, 13]\n",
    "#    0   1   2   3   4   5   6   7   8\n",
    "\n",
    "for i in range(1,len(l)): # 1  2  3  4  5\n",
    "    j = i                 # j = 1 index number\n",
    "    while l[j-1]>l[j] and j>0: # 66 > 42 -- true\n",
    "        temp = l[j]            # temp = 42\n",
    "        l[j] = l[j-1]          # 42 = 66\n",
    "        l[j-1] = temp          # 66 = temp\n",
    "        j = j - 1    \n",
    "    print(f'Sorted list after {i}th iteration = {l}')\n",
    "    \n",
    "print('\\n Sorted list =',l)"
   ]
  },
  {
   "cell_type": "markdown",
   "id": "aa71d787",
   "metadata": {},
   "source": [
    "## 2.descending order"
   ]
  },
  {
   "cell_type": "code",
   "execution_count": 21,
   "id": "f9d5314f",
   "metadata": {},
   "outputs": [
    {
     "name": "stdout",
     "output_type": "stream",
     "text": [
      "Sorted list after 1th iteration = [66, 42, 25, 19, 88, 57, 96, 62, 13]\n",
      "Sorted list after 2th iteration = [66, 42, 25, 19, 88, 57, 96, 62, 13]\n",
      "Sorted list after 3th iteration = [66, 42, 25, 19, 88, 57, 96, 62, 13]\n",
      "Sorted list after 4th iteration = [88, 66, 42, 25, 19, 57, 96, 62, 13]\n",
      "Sorted list after 5th iteration = [88, 66, 57, 42, 25, 19, 96, 62, 13]\n",
      "Sorted list after 6th iteration = [96, 88, 66, 57, 42, 25, 19, 62, 13]\n",
      "Sorted list after 7th iteration = [96, 88, 66, 62, 57, 42, 25, 19, 13]\n",
      "Sorted list after 8th iteration = [96, 88, 66, 62, 57, 42, 25, 19, 13]\n",
      "\n",
      " Sorted list = [96, 88, 66, 62, 57, 42, 25, 19, 13]\n"
     ]
    }
   ],
   "source": [
    "l = [66, 42, 25, 19, 88, 57, 96, 62, 13]\n",
    "#    0   1   2   3   4   5   6   7   8\n",
    "\n",
    "for i in range(1,len(l)): # 1  2  3  4  5\n",
    "    j = i                 # j = 4\n",
    "    while l[j]>l[j-1] and j>0: # 66 > 42 -- true\n",
    "        temp = l[j-1]            # temp = 42\n",
    "        l[j-1] = l[j]          # 42 = 66\n",
    "        l[j] = temp          # 66 = temp\n",
    "        j = j - 1    \n",
    "    print(f'Sorted list after {i}th iteration = {l}')\n",
    "    \n",
    "print('\\n Sorted list =',l)"
   ]
  },
  {
   "cell_type": "markdown",
   "id": "88c23379",
   "metadata": {},
   "source": [
    "# 3.bubble sorting"
   ]
  },
  {
   "cell_type": "markdown",
   "id": "00ac0b1d",
   "metadata": {},
   "source": [
    "## 1.ascending order"
   ]
  },
  {
   "cell_type": "code",
   "execution_count": 30,
   "id": "64bc31df",
   "metadata": {
    "scrolled": true
   },
   "outputs": [
    {
     "name": "stdout",
     "output_type": "stream",
     "text": [
      "Sorted list after 1th iteration = [42, 25, 19, 66, 57, 88, 62, 13, 96]\n",
      "Sorted list after 2th iteration = [25, 19, 42, 57, 66, 62, 13, 88, 96]\n",
      "Sorted list after 3th iteration = [19, 25, 42, 57, 62, 13, 66, 88, 96]\n",
      "Sorted list after 4th iteration = [19, 25, 42, 57, 13, 62, 66, 88, 96]\n",
      "Sorted list after 5th iteration = [19, 25, 42, 13, 57, 62, 66, 88, 96]\n",
      "Sorted list after 6th iteration = [19, 25, 13, 42, 57, 62, 66, 88, 96]\n",
      "Sorted list after 7th iteration = [19, 13, 25, 42, 57, 62, 66, 88, 96]\n",
      "Sorted list after 8th iteration = [13, 19, 25, 42, 57, 62, 66, 88, 96]\n",
      "Sorted list after 9th iteration = [13, 19, 25, 42, 57, 62, 66, 88, 96]\n",
      "\n",
      " Sorted list = [13, 19, 25, 42, 57, 62, 66, 88, 96]\n"
     ]
    }
   ],
   "source": [
    "l = [66, 42, 25, 19, 88, 57, 96, 62, 13]\n",
    "#    0   1   2   3   4   5   6   7   8\n",
    "\n",
    "for i in range(len(l)): # 0,1,2,3,4,5,6,7,8\n",
    "    for j in range(len(l)-1): # 0 1 2 3 4 5 6 7\n",
    "        if l[j]>l[j+1]:      # 66>42 --true\n",
    "            temp = l[j]\n",
    "            l[j] = l[j+1]\n",
    "            l[j+1] = temp\n",
    "    print(f'Sorted list after {i+1}th iteration = {l}')\n",
    "    \n",
    "print('\\n Sorted list =',l)\n",
    "\n",
    "# 42  66  25  19  88  57  96  62  13\n",
    "# 42  25  66  19  88  57  96  62  13\n",
    "# 42  25  19  66  88  57  96  62  13\n",
    "# 42  25  19  66  57  88  96  62  13\n",
    "# 42  25  19  66  57  88  62  96  13\n",
    "# 42  25  19  66  57  88  62  13  96"
   ]
  },
  {
   "cell_type": "markdown",
   "id": "bb917dc3",
   "metadata": {},
   "source": [
    "## 2.descending order"
   ]
  },
  {
   "cell_type": "code",
   "execution_count": 31,
   "id": "9502af3c",
   "metadata": {},
   "outputs": [
    {
     "name": "stdout",
     "output_type": "stream",
     "text": [
      "Sorted list after 1th iteration = [66, 42, 25, 88, 57, 96, 62, 19, 13]\n",
      "Sorted list after 2th iteration = [66, 42, 88, 57, 96, 62, 25, 19, 13]\n",
      "Sorted list after 3th iteration = [66, 88, 57, 96, 62, 42, 25, 19, 13]\n",
      "Sorted list after 4th iteration = [88, 66, 96, 62, 57, 42, 25, 19, 13]\n",
      "Sorted list after 5th iteration = [88, 96, 66, 62, 57, 42, 25, 19, 13]\n",
      "Sorted list after 6th iteration = [96, 88, 66, 62, 57, 42, 25, 19, 13]\n",
      "Sorted list after 7th iteration = [96, 88, 66, 62, 57, 42, 25, 19, 13]\n",
      "Sorted list after 8th iteration = [96, 88, 66, 62, 57, 42, 25, 19, 13]\n",
      "Sorted list after 9th iteration = [96, 88, 66, 62, 57, 42, 25, 19, 13]\n",
      "\n",
      " Sorted list = [96, 88, 66, 62, 57, 42, 25, 19, 13]\n"
     ]
    }
   ],
   "source": [
    "l = [66, 42, 25, 19, 88, 57, 96, 62, 13]\n",
    "#    0   1   2   3   4   5   6   7   8\n",
    "\n",
    "for i in range(len(l)): \n",
    "    for j in range(len(l)-1): \n",
    "        if l[j+1]>l[j]:      \n",
    "            temp = l[j+1]\n",
    "            l[j+1] = l[j]\n",
    "            l[j] = temp\n",
    "    print(f'Sorted list after {i+1}th iteration = {l}')\n",
    "    \n",
    "print('\\n Sorted list =',l)"
   ]
  },
  {
   "cell_type": "code",
   "execution_count": null,
   "id": "22ec8341",
   "metadata": {},
   "outputs": [],
   "source": []
  }
 ],
 "metadata": {
  "kernelspec": {
   "display_name": "Python 3 (ipykernel)",
   "language": "python",
   "name": "python3"
  },
  "language_info": {
   "codemirror_mode": {
    "name": "ipython",
    "version": 3
   },
   "file_extension": ".py",
   "mimetype": "text/x-python",
   "name": "python",
   "nbconvert_exporter": "python",
   "pygments_lexer": "ipython3",
   "version": "3.9.12"
  }
 },
 "nbformat": 4,
 "nbformat_minor": 5
}
