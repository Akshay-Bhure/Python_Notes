{
 "cells": [
  {
   "cell_type": "markdown",
   "id": "03c38f43",
   "metadata": {},
   "source": [
    "# Dictionary"
   ]
  },
  {
   "cell_type": "raw",
   "id": "3513bdd9",
   "metadata": {},
   "source": [
    "Dict = {key1: value1, key2: value2}\n",
    "1. It is a collection of key value pair.\n",
    "2. We can not access the elements by using index.\n",
    "3. Duplicate keys are not allowed, but duplicate value can be allowed.\n",
    "4. Dictionary elements are comma seperated.\n",
    "5. It is enclosed with curly bracket.\n",
    "6. Dictionary is mutable.\n",
    "\n",
    "Ordered >> if python >=3.7\n",
    "Unordered >> if python < 3.7\n",
    "keys >> immutable datatypes >> int, float, string, tuple, frozenset\n",
    "values >> Any datatype"
   ]
  },
  {
   "cell_type": "code",
   "execution_count": 1,
   "id": "32b8c103",
   "metadata": {},
   "outputs": [
    {
     "data": {
      "text/plain": [
       "{'a': 1}"
      ]
     },
     "execution_count": 1,
     "metadata": {},
     "output_type": "execute_result"
    }
   ],
   "source": [
    "dict1 = {'a':1}\n",
    "dict1"
   ]
  },
  {
   "cell_type": "code",
   "execution_count": 2,
   "id": "08f99c0e",
   "metadata": {},
   "outputs": [
    {
     "data": {
      "text/plain": [
       "{'a': 1, 'b': 2, 'c': 3}"
      ]
     },
     "execution_count": 2,
     "metadata": {},
     "output_type": "execute_result"
    }
   ],
   "source": [
    "dict1 = {'a':1, 'b':2, 'c':3}\n",
    "dict1"
   ]
  },
  {
   "cell_type": "code",
   "execution_count": 3,
   "id": "29650c2d",
   "metadata": {},
   "outputs": [
    {
     "name": "stdout",
     "output_type": "stream",
     "text": [
      "{'a': 1, 'b': 2, 'c': 3} <class 'dict'>\n"
     ]
    }
   ],
   "source": [
    "dict1 = {'a':1, 'b':2, 'c':3}\n",
    "print(dict1, type(dict1))"
   ]
  },
  {
   "cell_type": "code",
   "execution_count": 4,
   "id": "bb3dfa17",
   "metadata": {},
   "outputs": [
    {
     "name": "stdout",
     "output_type": "stream",
     "text": [
      "{'ram': 'sham', 'sham': 'ram', 'ram sham': 'sham ram'}\n"
     ]
    }
   ],
   "source": [
    "dict1={'ram':'sham',\"sham\":\"ram\",'ram sham':'sham ram'}\n",
    "print(dict1)"
   ]
  },
  {
   "cell_type": "code",
   "execution_count": 43,
   "id": "8d53d58a",
   "metadata": {},
   "outputs": [
    {
     "name": "stdout",
     "output_type": "stream",
     "text": [
      "{'ram': '78', 'sham': 'ram', 'ram sham': '56 ram'}\n"
     ]
    }
   ],
   "source": [
    "dict1={'ram':'78',\"sham\":\"ram\",'ram sham':'56 ram'}\n",
    "print(dict1)"
   ]
  },
  {
   "cell_type": "code",
   "execution_count": 44,
   "id": "4db83031",
   "metadata": {},
   "outputs": [
    {
     "name": "stdout",
     "output_type": "stream",
     "text": [
      "{'78': 'sham', 'sham': 'ram', 'ram 78': 'sham ram'}\n"
     ]
    }
   ],
   "source": [
    "dict1={'78':'sham',\"sham\":\"ram\",'ram 78':'sham ram'}\n",
    "print(dict1)"
   ]
  },
  {
   "cell_type": "code",
   "execution_count": 54,
   "id": "0d37849e",
   "metadata": {},
   "outputs": [
    {
     "name": "stdout",
     "output_type": "stream",
     "text": [
      "{'ram': 89, 'sham': 'ram', 'ram sham': 93}\n"
     ]
    }
   ],
   "source": [
    "dict1={'ram':89,\"sham\":\"ram\",'ram sham':93 }\n",
    "print(dict1)"
   ]
  },
  {
   "cell_type": "code",
   "execution_count": 1,
   "id": "8c2f2d27",
   "metadata": {},
   "outputs": [
    {
     "name": "stdout",
     "output_type": "stream",
     "text": [
      "{89: 'ram', 'sham': 'ram', 'ram 89': 93}\n"
     ]
    }
   ],
   "source": [
    "dict1={89:'ram',\"sham\":\"ram\",'ram 89':93 }\n",
    "print(dict1)"
   ]
  },
  {
   "cell_type": "code",
   "execution_count": 5,
   "id": "d0e13afb",
   "metadata": {},
   "outputs": [
    {
     "ename": "SyntaxError",
     "evalue": "invalid syntax (1400458917.py, line 1)",
     "output_type": "error",
     "traceback": [
      "\u001b[1;36m  Input \u001b[1;32mIn [5]\u001b[1;36m\u001b[0m\n\u001b[1;33m    dict1={89:'ram',\"sham\":\"ram\",'ram 89':{94} 'sham'}\u001b[0m\n\u001b[1;37m                                               ^\u001b[0m\n\u001b[1;31mSyntaxError\u001b[0m\u001b[1;31m:\u001b[0m invalid syntax\n"
     ]
    }
   ],
   "source": [
    "dict1={89:'ram',\"sham\":\"ram\",'ram 89':{94} 'sham'}\n",
    "print(dict1)"
   ]
  },
  {
   "cell_type": "code",
   "execution_count": 7,
   "id": "028cdc81",
   "metadata": {},
   "outputs": [
    {
     "data": {
      "text/plain": [
       "{'a': 2, 'c': 3}"
      ]
     },
     "execution_count": 7,
     "metadata": {},
     "output_type": "execute_result"
    }
   ],
   "source": [
    "dict1 = {'a':1, 'a':2, 'c':3}\n",
    "dict1"
   ]
  },
  {
   "cell_type": "code",
   "execution_count": 14,
   "id": "c0087d01",
   "metadata": {},
   "outputs": [
    {
     "data": {
      "text/plain": [
       "{'a': 2, 'c': 3}"
      ]
     },
     "execution_count": 14,
     "metadata": {},
     "output_type": "execute_result"
    }
   ],
   "source": [
    "dict1 = {'a':3, 'a':2, 'c':3}\n",
    "dict1"
   ]
  },
  {
   "cell_type": "code",
   "execution_count": 19,
   "id": "5c0a0363",
   "metadata": {},
   "outputs": [
    {
     "data": {
      "text/plain": [
       "{'a': 7, 'c': 3}"
      ]
     },
     "execution_count": 19,
     "metadata": {},
     "output_type": "execute_result"
    }
   ],
   "source": [
    "dict1 = {'a':6, 'a':7, 'c':3}\n",
    "dict1"
   ]
  },
  {
   "cell_type": "code",
   "execution_count": 30,
   "id": "dda41214",
   "metadata": {},
   "outputs": [
    {
     "data": {
      "text/plain": [
       "{'a': 3, 'b': 7}"
      ]
     },
     "execution_count": 30,
     "metadata": {},
     "output_type": "execute_result"
    }
   ],
   "source": [
    "dict1 = {'a':6, 'b':7, 'a':3}\n",
    "dict1"
   ]
  },
  {
   "cell_type": "code",
   "execution_count": 32,
   "id": "be4f1ca7",
   "metadata": {},
   "outputs": [
    {
     "data": {
      "text/plain": [
       "{'b': 34, 'a': 3, 'd': 34, 'f': 97}"
      ]
     },
     "execution_count": 32,
     "metadata": {},
     "output_type": "execute_result"
    }
   ],
   "source": [
    "dict1 = {'b':6, 'b':7, 'a':3,'d':34,'f':97,'b':34}\n",
    "dict1"
   ]
  },
  {
   "cell_type": "code",
   "execution_count": 20,
   "id": "242057ad",
   "metadata": {},
   "outputs": [
    {
     "data": {
      "text/plain": [
       "{'a': 23, 'b': 54, 'c': 67}"
      ]
     },
     "execution_count": 20,
     "metadata": {},
     "output_type": "execute_result"
    }
   ],
   "source": [
    "dict1={'a':23,'b':54,'c':67}\n",
    "dict1"
   ]
  },
  {
   "cell_type": "code",
   "execution_count": 16,
   "id": "299bd356",
   "metadata": {},
   "outputs": [
    {
     "name": "stdout",
     "output_type": "stream",
     "text": [
      "{'ram': 'sham', 'sham': 'ram'}\n"
     ]
    }
   ],
   "source": [
    "dict1={'ram':'sham',\"sham\":\"ram\"}\n",
    "print(dict1)"
   ]
  },
  {
   "cell_type": "code",
   "execution_count": 33,
   "id": "25cdb5ef",
   "metadata": {},
   "outputs": [
    {
     "data": {
      "text/plain": [
       "{'a': 1, 'b': 1, 'c': 3}"
      ]
     },
     "execution_count": 33,
     "metadata": {},
     "output_type": "execute_result"
    }
   ],
   "source": [
    "dict1 = {'a':1, 'b':1, 'c':3}\n",
    "dict1"
   ]
  },
  {
   "cell_type": "code",
   "execution_count": 34,
   "id": "472461d8",
   "metadata": {},
   "outputs": [
    {
     "data": {
      "text/plain": [
       "{'a': 6454, 'b': 1746, 'c': 6454}"
      ]
     },
     "execution_count": 34,
     "metadata": {},
     "output_type": "execute_result"
    }
   ],
   "source": [
    "dict1 = {'a':6454, 'b':1746, 'c':6454}\n",
    "dict1"
   ]
  },
  {
   "cell_type": "code",
   "execution_count": 35,
   "id": "42948b8b",
   "metadata": {},
   "outputs": [
    {
     "data": {
      "text/plain": [
       "{'a': 6454, 'b': 6454, 'c': 6454}"
      ]
     },
     "execution_count": 35,
     "metadata": {},
     "output_type": "execute_result"
    }
   ],
   "source": [
    "dict1 = {'a':6454, 'b':6454, 'c':6454}\n",
    "dict1"
   ]
  },
  {
   "cell_type": "code",
   "execution_count": 36,
   "id": "e511bc8c",
   "metadata": {},
   "outputs": [
    {
     "ename": "TypeError",
     "evalue": "unhashable type: 'list'",
     "output_type": "error",
     "traceback": [
      "\u001b[1;31m---------------------------------------------------------------------------\u001b[0m",
      "\u001b[1;31mTypeError\u001b[0m                                 Traceback (most recent call last)",
      "Input \u001b[1;32mIn [36]\u001b[0m, in \u001b[0;36m<cell line: 1>\u001b[1;34m()\u001b[0m\n\u001b[1;32m----> 1\u001b[0m dict1 \u001b[38;5;241m=\u001b[39m {\u001b[38;5;124m'\u001b[39m\u001b[38;5;124ma\u001b[39m\u001b[38;5;124m'\u001b[39m:\u001b[38;5;241m1\u001b[39m, \u001b[38;5;124m'\u001b[39m\u001b[38;5;124mb\u001b[39m\u001b[38;5;124m'\u001b[39m:\u001b[38;5;241m1\u001b[39m, \u001b[38;5;124m'\u001b[39m\u001b[38;5;124mc\u001b[39m\u001b[38;5;124m'\u001b[39m:\u001b[38;5;241m3\u001b[39m, [\u001b[38;5;241m2\u001b[39m,\u001b[38;5;241m3\u001b[39m]:\u001b[38;5;241m100\u001b[39m}\n\u001b[0;32m      2\u001b[0m dict1\n",
      "\u001b[1;31mTypeError\u001b[0m: unhashable type: 'list'"
     ]
    }
   ],
   "source": [
    "dict1 = {'a':1, 'b':1, 'c':3, [2,3]:100}\n",
    "dict1"
   ]
  },
  {
   "cell_type": "code",
   "execution_count": 55,
   "id": "33107fdf",
   "metadata": {},
   "outputs": [
    {
     "data": {
      "text/plain": [
       "{'a': 1, 'b': 1, 'c': 3, 100: [2, 3]}"
      ]
     },
     "execution_count": 55,
     "metadata": {},
     "output_type": "execute_result"
    }
   ],
   "source": [
    "dict1 = {'a':1, 'b':1, 'c':3, (100):[2,3]}\n",
    "dict1"
   ]
  },
  {
   "cell_type": "code",
   "execution_count": 56,
   "id": "e1067a18",
   "metadata": {},
   "outputs": [
    {
     "data": {
      "text/plain": [
       "{'a': 1, 'b': 1, 'c': 3, frozenset({45}): [2, 3]}"
      ]
     },
     "execution_count": 56,
     "metadata": {},
     "output_type": "execute_result"
    }
   ],
   "source": [
    "dict1 = {'a':1, 'b':1, 'c':3, frozenset({45}):[2,3]}\n",
    "dict1"
   ]
  },
  {
   "cell_type": "code",
   "execution_count": 57,
   "id": "2b668ea5",
   "metadata": {},
   "outputs": [
    {
     "data": {
      "text/plain": [
       "{'a': 1, 'b': 1, 'c': 3, 4.5: [2, 3]}"
      ]
     },
     "execution_count": 57,
     "metadata": {},
     "output_type": "execute_result"
    }
   ],
   "source": [
    "dict1 = {'a':1, 'b':1, 'c':3, 4.5:[2,3]}\n",
    "dict1"
   ]
  },
  {
   "cell_type": "code",
   "execution_count": 37,
   "id": "b72f854a",
   "metadata": {},
   "outputs": [
    {
     "data": {
      "text/plain": [
       "{'a': 1, 'b': 1, 'c': 3, 100: [2, 3]}"
      ]
     },
     "execution_count": 37,
     "metadata": {},
     "output_type": "execute_result"
    }
   ],
   "source": [
    "dict1 = {'a':1, 'b':1, 'c':3, 100:[2,3]}\n",
    "dict1"
   ]
  },
  {
   "cell_type": "code",
   "execution_count": 39,
   "id": "1f45863d",
   "metadata": {},
   "outputs": [
    {
     "data": {
      "text/plain": [
       "{'a': 1, 'b': 1, 'c': 3, 100: (2, 3)}"
      ]
     },
     "execution_count": 39,
     "metadata": {},
     "output_type": "execute_result"
    }
   ],
   "source": [
    "dict1 = {'a':1, 'b':1, 'c':3, 100:(2,3)}\n",
    "dict1"
   ]
  },
  {
   "cell_type": "code",
   "execution_count": 40,
   "id": "243fe469",
   "metadata": {},
   "outputs": [
    {
     "data": {
      "text/plain": [
       "{'a': 1, 'b': 1, 'c': 3, 100: {2, 3}}"
      ]
     },
     "execution_count": 40,
     "metadata": {},
     "output_type": "execute_result"
    }
   ],
   "source": [
    "dict1 = {'a':1, 'b':1, 'c':3, 100:{2,3}}\n",
    "dict1"
   ]
  },
  {
   "cell_type": "code",
   "execution_count": 41,
   "id": "1e600d82",
   "metadata": {},
   "outputs": [
    {
     "data": {
      "text/plain": [
       "{'a': 1, 'b': 1, 'c': 3, 100: {2: 3}}"
      ]
     },
     "execution_count": 41,
     "metadata": {},
     "output_type": "execute_result"
    }
   ],
   "source": [
    "dict1 = {'a':1, 'b':1, 'c':3, 100:{2:3}}\n",
    "dict1"
   ]
  },
  {
   "cell_type": "code",
   "execution_count": 42,
   "id": "f1df6b7d",
   "metadata": {},
   "outputs": [
    {
     "data": {
      "text/plain": [
       "{'a': 1, 'b': [2, 3], 'c': 3, 100: [2, 3]}"
      ]
     },
     "execution_count": 42,
     "metadata": {},
     "output_type": "execute_result"
    }
   ],
   "source": [
    "dict1 = {'a':1, 'b':[2, 3], 'c':3, 100:[2,3]}\n",
    "dict1"
   ]
  },
  {
   "cell_type": "markdown",
   "id": "eaf21676",
   "metadata": {},
   "source": [
    "# Dictionary Functions"
   ]
  },
  {
   "cell_type": "raw",
   "id": "d449faaf",
   "metadata": {},
   "source": [
    "dictionary_name[key]\n",
    "1. get()\n",
    "2. keys()\n",
    "3. values()\n",
    "4. items()\n",
    "5. update()\n",
    "6. pop()\n",
    "7. popitem()\n",
    "8. clear()\n",
    "9. del\n",
    "10.fromkeys()\n",
    "11.setdefault()\n",
    "12.copy()\n",
    "13.zip()"
   ]
  },
  {
   "cell_type": "markdown",
   "id": "ee544e25",
   "metadata": {},
   "source": [
    "# Accessing the Elements in dictionary"
   ]
  },
  {
   "cell_type": "code",
   "execution_count": 2,
   "id": "7c407736",
   "metadata": {},
   "outputs": [
    {
     "data": {
      "text/plain": [
       "{'name': 'Arti', 'age': 24, 'Marks': 95, 'Place': 'Pune'}"
      ]
     },
     "execution_count": 2,
     "metadata": {},
     "output_type": "execute_result"
    }
   ],
   "source": [
    "dict2 = {'name':'Arti', 'age':24, 'Marks':95, 'Place':'Pune'}\n",
    "dict2"
   ]
  },
  {
   "cell_type": "markdown",
   "id": "ec3efd79",
   "metadata": {},
   "source": [
    "# 1.dictionary_name[keyname]"
   ]
  },
  {
   "cell_type": "raw",
   "id": "8c20d82a",
   "metadata": {},
   "source": [
    "syntax >> dictionary_name[key]"
   ]
  },
  {
   "cell_type": "code",
   "execution_count": 4,
   "id": "43c8eece",
   "metadata": {},
   "outputs": [
    {
     "data": {
      "text/plain": [
       "{'name': 'Arti', 'age': 24, 'Marks': 95, 'Place': 'Pune'}"
      ]
     },
     "execution_count": 4,
     "metadata": {},
     "output_type": "execute_result"
    }
   ],
   "source": [
    "dict2"
   ]
  },
  {
   "cell_type": "code",
   "execution_count": 3,
   "id": "4fd56cfb",
   "metadata": {},
   "outputs": [
    {
     "data": {
      "text/plain": [
       "'Arti'"
      ]
     },
     "execution_count": 3,
     "metadata": {},
     "output_type": "execute_result"
    }
   ],
   "source": [
    "dict2['name']"
   ]
  },
  {
   "cell_type": "code",
   "execution_count": 4,
   "id": "78249047",
   "metadata": {},
   "outputs": [
    {
     "ename": "KeyError",
     "evalue": "'marks'",
     "output_type": "error",
     "traceback": [
      "\u001b[1;31m---------------------------------------------------------------------------\u001b[0m",
      "\u001b[1;31mKeyError\u001b[0m                                  Traceback (most recent call last)",
      "Input \u001b[1;32mIn [4]\u001b[0m, in \u001b[0;36m<cell line: 1>\u001b[1;34m()\u001b[0m\n\u001b[1;32m----> 1\u001b[0m \u001b[43mdict2\u001b[49m\u001b[43m[\u001b[49m\u001b[38;5;124;43m'\u001b[39;49m\u001b[38;5;124;43mmarks\u001b[39;49m\u001b[38;5;124;43m'\u001b[39;49m\u001b[43m]\u001b[49m\n",
      "\u001b[1;31mKeyError\u001b[0m: 'marks'"
     ]
    }
   ],
   "source": [
    "dict2['marks']"
   ]
  },
  {
   "cell_type": "code",
   "execution_count": 41,
   "id": "7e4ba889",
   "metadata": {},
   "outputs": [
    {
     "data": {
      "text/plain": [
       "{'name': 'Arti', 'age': 24, 'Marks': 95, 'Place': 'Pune'}"
      ]
     },
     "execution_count": 41,
     "metadata": {},
     "output_type": "execute_result"
    }
   ],
   "source": [
    "dict2 = {'name':'Arti', 'age':24, 'Marks':95, 'Place':'Pune'}\n",
    "dict2"
   ]
  },
  {
   "cell_type": "code",
   "execution_count": 10,
   "id": "ab231d67",
   "metadata": {},
   "outputs": [
    {
     "data": {
      "text/plain": [
       "'Pune'"
      ]
     },
     "execution_count": 10,
     "metadata": {},
     "output_type": "execute_result"
    }
   ],
   "source": [
    "dict2['Place']"
   ]
  },
  {
   "cell_type": "code",
   "execution_count": 11,
   "id": "a731cfa6",
   "metadata": {},
   "outputs": [
    {
     "data": {
      "text/plain": [
       "24"
      ]
     },
     "execution_count": 11,
     "metadata": {},
     "output_type": "execute_result"
    }
   ],
   "source": [
    "dict2['age']"
   ]
  },
  {
   "cell_type": "code",
   "execution_count": 12,
   "id": "d51bd8ce",
   "metadata": {},
   "outputs": [
    {
     "data": {
      "text/plain": [
       "95"
      ]
     },
     "execution_count": 12,
     "metadata": {},
     "output_type": "execute_result"
    }
   ],
   "source": [
    "dict2['Marks']"
   ]
  },
  {
   "cell_type": "markdown",
   "id": "2a178674",
   "metadata": {},
   "source": [
    "# 2.get()"
   ]
  },
  {
   "cell_type": "raw",
   "id": "68cf1e3d",
   "metadata": {},
   "source": [
    "Syntax >> dictionary_name.get(key)"
   ]
  },
  {
   "cell_type": "code",
   "execution_count": 13,
   "id": "039f30e4",
   "metadata": {},
   "outputs": [
    {
     "data": {
      "text/plain": [
       "{'name': 'Arti', 'age': 24, 'Marks': 95, 'Place': 'Pune'}"
      ]
     },
     "execution_count": 13,
     "metadata": {},
     "output_type": "execute_result"
    }
   ],
   "source": [
    "dict2"
   ]
  },
  {
   "cell_type": "code",
   "execution_count": 14,
   "id": "e606b73a",
   "metadata": {},
   "outputs": [
    {
     "data": {
      "text/plain": [
       "'Arti'"
      ]
     },
     "execution_count": 14,
     "metadata": {},
     "output_type": "execute_result"
    }
   ],
   "source": [
    "dict2.get('name')"
   ]
  },
  {
   "cell_type": "code",
   "execution_count": 15,
   "id": "80b57895",
   "metadata": {},
   "outputs": [
    {
     "data": {
      "text/plain": [
       "24"
      ]
     },
     "execution_count": 15,
     "metadata": {},
     "output_type": "execute_result"
    }
   ],
   "source": [
    "dict2.get('age')"
   ]
  },
  {
   "cell_type": "code",
   "execution_count": 20,
   "id": "e27795d0",
   "metadata": {},
   "outputs": [
    {
     "data": {
      "text/plain": [
       "24"
      ]
     },
     "execution_count": 20,
     "metadata": {},
     "output_type": "execute_result"
    }
   ],
   "source": [
    "dict2.get('age','name')"
   ]
  },
  {
   "cell_type": "raw",
   "id": "d4cc2cec",
   "metadata": {},
   "source": [
    "dict2.get('name') = dict2['name']"
   ]
  },
  {
   "cell_type": "code",
   "execution_count": 19,
   "id": "65d77ad0",
   "metadata": {},
   "outputs": [
    {
     "data": {
      "text/plain": [
       "'Pune'"
      ]
     },
     "execution_count": 19,
     "metadata": {},
     "output_type": "execute_result"
    }
   ],
   "source": [
    "dict2.get('Place')"
   ]
  },
  {
   "cell_type": "markdown",
   "id": "5b10d4f5",
   "metadata": {},
   "source": [
    "# 3.keys()"
   ]
  },
  {
   "cell_type": "raw",
   "id": "984a569b",
   "metadata": {},
   "source": [
    "Syntax >> dictionary_name.keys()"
   ]
  },
  {
   "cell_type": "code",
   "execution_count": 31,
   "id": "2bb16a4d",
   "metadata": {},
   "outputs": [
    {
     "data": {
      "text/plain": [
       "{'name': 'Arti', 'age': 24, 'Marks': 95, 'Place': 'Pune'}"
      ]
     },
     "execution_count": 31,
     "metadata": {},
     "output_type": "execute_result"
    }
   ],
   "source": [
    "dict2"
   ]
  },
  {
   "cell_type": "code",
   "execution_count": 21,
   "id": "86e488d4",
   "metadata": {},
   "outputs": [
    {
     "data": {
      "text/plain": [
       "dict_keys(['name', 'age', 'Marks', 'Place'])"
      ]
     },
     "execution_count": 21,
     "metadata": {},
     "output_type": "execute_result"
    }
   ],
   "source": [
    "dict2.keys()"
   ]
  },
  {
   "cell_type": "code",
   "execution_count": 3,
   "id": "70910709",
   "metadata": {},
   "outputs": [
    {
     "ename": "TypeError",
     "evalue": "dict.keys() takes no arguments (1 given)",
     "output_type": "error",
     "traceback": [
      "\u001b[1;31m---------------------------------------------------------------------------\u001b[0m",
      "\u001b[1;31mTypeError\u001b[0m                                 Traceback (most recent call last)",
      "Input \u001b[1;32mIn [3]\u001b[0m, in \u001b[0;36m<cell line: 1>\u001b[1;34m()\u001b[0m\n\u001b[1;32m----> 1\u001b[0m \u001b[43mdict2\u001b[49m\u001b[38;5;241;43m.\u001b[39;49m\u001b[43mkeys\u001b[49m\u001b[43m(\u001b[49m\u001b[38;5;124;43m'\u001b[39;49m\u001b[38;5;124;43mname\u001b[39;49m\u001b[38;5;124;43m'\u001b[39;49m\u001b[43m)\u001b[49m\n",
      "\u001b[1;31mTypeError\u001b[0m: dict.keys() takes no arguments (1 given)"
     ]
    }
   ],
   "source": [
    "dict2.keys('name')"
   ]
  },
  {
   "cell_type": "code",
   "execution_count": 28,
   "id": "080b1f2a",
   "metadata": {},
   "outputs": [
    {
     "data": {
      "text/plain": [
       "{23: 'red', 34: 'green'}"
      ]
     },
     "execution_count": 28,
     "metadata": {},
     "output_type": "execute_result"
    }
   ],
   "source": [
    "dict1={23:'red',34:'green'}\n",
    "dict1"
   ]
  },
  {
   "cell_type": "code",
   "execution_count": 29,
   "id": "0a783090",
   "metadata": {},
   "outputs": [
    {
     "data": {
      "text/plain": [
       "dict_keys([23, 34])"
      ]
     },
     "execution_count": 29,
     "metadata": {},
     "output_type": "execute_result"
    }
   ],
   "source": [
    "dict1.keys()"
   ]
  },
  {
   "cell_type": "markdown",
   "id": "0396eefd",
   "metadata": {},
   "source": [
    "# 4.values()"
   ]
  },
  {
   "cell_type": "raw",
   "id": "c88e5c86",
   "metadata": {},
   "source": [
    "Syntax >> dictionary_name.values()"
   ]
  },
  {
   "cell_type": "code",
   "execution_count": 30,
   "id": "ffc77c93",
   "metadata": {},
   "outputs": [
    {
     "data": {
      "text/plain": [
       "dict_values(['red', 'green'])"
      ]
     },
     "execution_count": 30,
     "metadata": {},
     "output_type": "execute_result"
    }
   ],
   "source": [
    "dict1.values()"
   ]
  },
  {
   "cell_type": "code",
   "execution_count": 32,
   "id": "ddfd4c19",
   "metadata": {},
   "outputs": [
    {
     "data": {
      "text/plain": [
       "dict_values(['Arti', 24, 95, 'Pune'])"
      ]
     },
     "execution_count": 32,
     "metadata": {},
     "output_type": "execute_result"
    }
   ],
   "source": [
    "dict2.values()"
   ]
  },
  {
   "cell_type": "markdown",
   "id": "3bf8ec15",
   "metadata": {},
   "source": [
    "# 5.items()"
   ]
  },
  {
   "cell_type": "raw",
   "id": "d76e3f31",
   "metadata": {},
   "source": [
    "Syntax >> dictionary_name.items()"
   ]
  },
  {
   "cell_type": "code",
   "execution_count": 42,
   "id": "db5ad490",
   "metadata": {},
   "outputs": [
    {
     "data": {
      "text/plain": [
       "{'name': 'Arti', 'age': 24, 'Marks': 95, 'Place': 'Pune'}"
      ]
     },
     "execution_count": 42,
     "metadata": {},
     "output_type": "execute_result"
    }
   ],
   "source": [
    "dict2"
   ]
  },
  {
   "cell_type": "code",
   "execution_count": 7,
   "id": "9e3f1bb5",
   "metadata": {},
   "outputs": [
    {
     "data": {
      "text/plain": [
       "dict_items([('name', 'Arti'), ('age', 24), ('Marks', 95), ('Place', 'Pune')])"
      ]
     },
     "execution_count": 7,
     "metadata": {},
     "output_type": "execute_result"
    }
   ],
   "source": [
    "dict2.items()"
   ]
  },
  {
   "cell_type": "code",
   "execution_count": 9,
   "id": "18b0e41a",
   "metadata": {},
   "outputs": [
    {
     "data": {
      "text/plain": [
       "dict_items([('name', 'Arti'), ('age', 24), ('Marks', 95), ('Place', 'Pune')])"
      ]
     },
     "execution_count": 9,
     "metadata": {},
     "output_type": "execute_result"
    }
   ],
   "source": [
    "list1 = dict2.items()\n",
    "list1"
   ]
  },
  {
   "cell_type": "code",
   "execution_count": 10,
   "id": "dd91da23",
   "metadata": {},
   "outputs": [
    {
     "name": "stdout",
     "output_type": "stream",
     "text": [
      "('name', 'Arti')\n",
      "('age', 24)\n",
      "('Marks', 95)\n",
      "('Place', 'Pune')\n"
     ]
    }
   ],
   "source": [
    "for i in list1:\n",
    "    print(i)"
   ]
  },
  {
   "cell_type": "code",
   "execution_count": 13,
   "id": "4077d761",
   "metadata": {},
   "outputs": [
    {
     "name": "stdout",
     "output_type": "stream",
     "text": [
      "('name', 'Arti')\n",
      "('age', 24)\n",
      "('Marks', 95)\n",
      "('Place', 'Pune')\n"
     ]
    }
   ],
   "source": [
    "for i in dict2.items():\n",
    "    print(i)"
   ]
  },
  {
   "cell_type": "code",
   "execution_count": 4,
   "id": "1c2934e9",
   "metadata": {},
   "outputs": [
    {
     "name": "stdout",
     "output_type": "stream",
     "text": [
      "dict_items([('name', 'Arti'), ('age', 24), ('Marks', 95), ('Place', 'Pune')])\n"
     ]
    }
   ],
   "source": [
    "for i in dict2:\n",
    "    print(dict2.items())\n",
    "    break"
   ]
  },
  {
   "cell_type": "code",
   "execution_count": 11,
   "id": "924eb257",
   "metadata": {},
   "outputs": [
    {
     "name": "stdout",
     "output_type": "stream",
     "text": [
      "name Arti\n",
      "age 24\n",
      "Marks 95\n",
      "Place Pune\n"
     ]
    }
   ],
   "source": [
    "for k,m in list1:\n",
    "    print(k,m)"
   ]
  },
  {
   "cell_type": "code",
   "execution_count": 12,
   "id": "945d0a4b",
   "metadata": {},
   "outputs": [
    {
     "name": "stdout",
     "output_type": "stream",
     "text": [
      "name : Arti\n",
      "age : 24\n",
      "Marks : 95\n",
      "Place : Pune\n"
     ]
    }
   ],
   "source": [
    "for k,m in list1:\n",
    "    print(k,':', m)"
   ]
  },
  {
   "cell_type": "code",
   "execution_count": 14,
   "id": "74c28f11",
   "metadata": {},
   "outputs": [
    {
     "name": "stdout",
     "output_type": "stream",
     "text": [
      "name\n",
      "age\n",
      "Marks\n",
      "Place\n"
     ]
    }
   ],
   "source": [
    "for key in dict2.keys():\n",
    "    print(key)"
   ]
  },
  {
   "cell_type": "code",
   "execution_count": 15,
   "id": "36621247",
   "metadata": {},
   "outputs": [
    {
     "name": "stdout",
     "output_type": "stream",
     "text": [
      "Arti\n",
      "24\n",
      "95\n",
      "Pune\n"
     ]
    }
   ],
   "source": [
    "for values in dict2.values():\n",
    "    print(values)"
   ]
  },
  {
   "cell_type": "code",
   "execution_count": 16,
   "id": "374ed774",
   "metadata": {},
   "outputs": [
    {
     "name": "stdout",
     "output_type": "stream",
     "text": [
      "('name', 'Arti')\n",
      "('age', 24)\n",
      "('Marks', 95)\n",
      "('Place', 'Pune')\n"
     ]
    }
   ],
   "source": [
    "for items in dict2.items():\n",
    "    print(items)"
   ]
  },
  {
   "cell_type": "code",
   "execution_count": 19,
   "id": "0e78afe8",
   "metadata": {},
   "outputs": [
    {
     "ename": "SyntaxError",
     "evalue": "cannot assign to literal (481298932.py, line 1)",
     "output_type": "error",
     "traceback": [
      "\u001b[1;36m  Input \u001b[1;32mIn [19]\u001b[1;36m\u001b[0m\n\u001b[1;33m    for \"age\" in dict2.get('age'):\u001b[0m\n\u001b[1;37m        ^\u001b[0m\n\u001b[1;31mSyntaxError\u001b[0m\u001b[1;31m:\u001b[0m cannot assign to literal\n"
     ]
    }
   ],
   "source": [
    "for \"age\" in dict2.get('age'):\n",
    "    print(age)"
   ]
  },
  {
   "cell_type": "markdown",
   "id": "d8aad824",
   "metadata": {},
   "source": [
    "# Adding Elements in Dictionary"
   ]
  },
  {
   "cell_type": "code",
   "execution_count": 43,
   "id": "c1ecbd20",
   "metadata": {},
   "outputs": [
    {
     "data": {
      "text/plain": [
       "{'name': 'Arti', 'age': 24, 'Marks': 95, 'Place': 'Pune'}"
      ]
     },
     "execution_count": 43,
     "metadata": {},
     "output_type": "execute_result"
    }
   ],
   "source": [
    "dict2"
   ]
  },
  {
   "cell_type": "code",
   "execution_count": 44,
   "id": "16365d8c",
   "metadata": {},
   "outputs": [],
   "source": [
    "dict2['Marks'] = 90 # we have changed the value of one key called 'Marks'"
   ]
  },
  {
   "cell_type": "code",
   "execution_count": 45,
   "id": "e7792ff9",
   "metadata": {},
   "outputs": [
    {
     "data": {
      "text/plain": [
       "{'name': 'Arti', 'age': 24, 'Marks': 90, 'Place': 'Pune'}"
      ]
     },
     "execution_count": 45,
     "metadata": {},
     "output_type": "execute_result"
    }
   ],
   "source": [
    "dict2"
   ]
  },
  {
   "cell_type": "code",
   "execution_count": 46,
   "id": "16372798",
   "metadata": {},
   "outputs": [
    {
     "name": "stdout",
     "output_type": "stream",
     "text": [
      "{'name': 'Arti', 'age': 24, 'Marks': 90, 'Place': 'Pune', 'place': 'Latur'} "
     ]
    }
   ],
   "source": [
    "dict2['place']='Latur'\n",
    "print(dict2,end=' ')"
   ]
  },
  {
   "cell_type": "code",
   "execution_count": 47,
   "id": "b24d1fa5",
   "metadata": {},
   "outputs": [
    {
     "name": "stdout",
     "output_type": "stream",
     "text": [
      "{'name': 'Arti', 'age': 24, 'Marks': 90, 'Place': 'Pune', 'place': 'Latur'}\n"
     ]
    }
   ],
   "source": [
    "print(dict2)"
   ]
  },
  {
   "cell_type": "code",
   "execution_count": 49,
   "id": "d58637b2",
   "metadata": {},
   "outputs": [
    {
     "name": "stdout",
     "output_type": "stream",
     "text": [
      "{'name': 'Arti', 'age': 24, 'Marks': 90, 'Place': 'Pune', 'place': 'Latur', 'sub': 'Math'}\n"
     ]
    }
   ],
   "source": [
    "dict2['sub'] = 'Math'\n",
    "print(dict2)"
   ]
  },
  {
   "cell_type": "code",
   "execution_count": 50,
   "id": "fd0d5719",
   "metadata": {},
   "outputs": [],
   "source": [
    "dict2['sub']='physics'"
   ]
  },
  {
   "cell_type": "code",
   "execution_count": 52,
   "id": "104325c0",
   "metadata": {},
   "outputs": [
    {
     "name": "stdout",
     "output_type": "stream",
     "text": [
      "{'name': 'Arti', 'age': 24, 'Marks': 90, 'Place': 'Pune', 'place': 'Latur', 'sub': 'physics'}\n"
     ]
    }
   ],
   "source": [
    "print(dict2)"
   ]
  },
  {
   "cell_type": "code",
   "execution_count": 54,
   "id": "77330f57",
   "metadata": {},
   "outputs": [],
   "source": [
    "dict2['sub']='physics'"
   ]
  },
  {
   "cell_type": "code",
   "execution_count": 56,
   "id": "2aca06af",
   "metadata": {},
   "outputs": [
    {
     "name": "stdout",
     "output_type": "stream",
     "text": [
      "{'name': 'Arti', 'age': 24, 'Marks': 90, 'Place': 'Pune', 'place': 'Latur', 'sub': 'physics'}\n"
     ]
    }
   ],
   "source": [
    "print(dict2)"
   ]
  },
  {
   "cell_type": "code",
   "execution_count": 77,
   "id": "4d58e3a4",
   "metadata": {},
   "outputs": [
    {
     "ename": "SyntaxError",
     "evalue": "invalid syntax (994782396.py, line 1)",
     "output_type": "error",
     "traceback": [
      "\u001b[1;36m  Input \u001b[1;32mIn [77]\u001b[1;36m\u001b[0m\n\u001b[1;33m    for i in dict2['sub']='physics':\u001b[0m\n\u001b[1;37m                         ^\u001b[0m\n\u001b[1;31mSyntaxError\u001b[0m\u001b[1;31m:\u001b[0m invalid syntax\n"
     ]
    }
   ],
   "source": [
    "for i in dict2['sub']='physics':\n",
    "    print(i)"
   ]
  },
  {
   "cell_type": "markdown",
   "id": "0f5e1353",
   "metadata": {},
   "source": [
    "# update()"
   ]
  },
  {
   "cell_type": "code",
   "execution_count": 57,
   "id": "4ed97b74",
   "metadata": {},
   "outputs": [
    {
     "data": {
      "text/plain": [
       "{'name': 'Arti', 'age': 24, 'Marks': 95, 'Place': 'Pune'}"
      ]
     },
     "execution_count": 57,
     "metadata": {},
     "output_type": "execute_result"
    }
   ],
   "source": [
    "dict3 = {'name': 'Arti', 'age': 24, 'Marks': 95, 'Place': 'Pune'}\n",
    "dict3"
   ]
  },
  {
   "cell_type": "code",
   "execution_count": 58,
   "id": "5f90d4ac",
   "metadata": {},
   "outputs": [],
   "source": [
    "dict3.update({'lives':'bombay'})"
   ]
  },
  {
   "cell_type": "code",
   "execution_count": 59,
   "id": "ca6c2a01",
   "metadata": {},
   "outputs": [
    {
     "data": {
      "text/plain": [
       "{'name': 'Arti', 'age': 24, 'Marks': 95, 'Place': 'Pune', 'lives': 'bombay'}"
      ]
     },
     "execution_count": 59,
     "metadata": {},
     "output_type": "execute_result"
    }
   ],
   "source": [
    "dict3"
   ]
  },
  {
   "cell_type": "code",
   "execution_count": 60,
   "id": "5fc81ff1",
   "metadata": {},
   "outputs": [
    {
     "data": {
      "text/plain": [
       "{'name': 'Arti', 'age': 24, 'Marks': 95, 'Place': 'Pune'}"
      ]
     },
     "execution_count": 60,
     "metadata": {},
     "output_type": "execute_result"
    }
   ],
   "source": [
    "dict3 = {'name': 'Arti', 'age': 24, 'Marks': 95, 'Place': 'Pune'}\n",
    "dict3"
   ]
  },
  {
   "cell_type": "code",
   "execution_count": 61,
   "id": "9f381e06",
   "metadata": {},
   "outputs": [
    {
     "data": {
      "text/plain": [
       "{'name': 'Arti',\n",
       " 'age': 24,\n",
       " 'Marks': 95,\n",
       " 'Place': 'Pune',\n",
       " 'sub': 'Math',\n",
       " 'result': 'pass'}"
      ]
     },
     "execution_count": 61,
     "metadata": {},
     "output_type": "execute_result"
    }
   ],
   "source": [
    "dict3.update({'sub': 'Math', 'result':'pass'})\n",
    "dict3"
   ]
  },
  {
   "cell_type": "code",
   "execution_count": 71,
   "id": "137f5001",
   "metadata": {},
   "outputs": [
    {
     "data": {
      "text/plain": [
       "{'name': 'Arti',\n",
       " 'age': 24,\n",
       " 'Marks': 95,\n",
       " 'Place': 'Pune',\n",
       " 'sub': 'Math',\n",
       " 'result': 'pass',\n",
       " 34: 54,\n",
       " '34': '54',\n",
       " (34,): [54],\n",
       " frozenset({34}): {34}}"
      ]
     },
     "execution_count": 71,
     "metadata": {},
     "output_type": "execute_result"
    }
   ],
   "source": [
    "dict3.update({34:54,\"34\":\"54\",(34,):[54],frozenset({34}):{34}})\n",
    "dict3"
   ]
  },
  {
   "cell_type": "code",
   "execution_count": 73,
   "id": "71e83b9e",
   "metadata": {},
   "outputs": [
    {
     "ename": "TypeError",
     "evalue": "'NoneType' object is not iterable",
     "output_type": "error",
     "traceback": [
      "\u001b[1;31m---------------------------------------------------------------------------\u001b[0m",
      "\u001b[1;31mTypeError\u001b[0m                                 Traceback (most recent call last)",
      "Input \u001b[1;32mIn [73]\u001b[0m, in \u001b[0;36m<cell line: 1>\u001b[1;34m()\u001b[0m\n\u001b[1;32m----> 1\u001b[0m \u001b[38;5;28;01mfor\u001b[39;00m i \u001b[38;5;129;01min\u001b[39;00m dict3\u001b[38;5;241m.\u001b[39mupdate():\n\u001b[0;32m      2\u001b[0m     \u001b[38;5;28mprint\u001b[39m(i)\n",
      "\u001b[1;31mTypeError\u001b[0m: 'NoneType' object is not iterable"
     ]
    }
   ],
   "source": [
    "for i in dict3.update():\n",
    "    print(i)"
   ]
  },
  {
   "cell_type": "code",
   "execution_count": 1,
   "id": "542054fe",
   "metadata": {},
   "outputs": [],
   "source": [
    "dict1 = {}\n",
    "list1 = ['Ayesha', 'Akash','Ayub','Abhijit']\n",
    "list2 = [50, 55, 40, 45]\n",
    "# dict1 = {'Ayesha':50, 'Akash':55,'Ayub':40,'Abhijit':45}"
   ]
  },
  {
   "cell_type": "code",
   "execution_count": 2,
   "id": "f6fbc315",
   "metadata": {},
   "outputs": [
    {
     "name": "stdout",
     "output_type": "stream",
     "text": [
      "{'Ayesha': 50}\n",
      "{'Ayesha': 50, 'Akash': 55}\n",
      "{'Ayesha': 50, 'Akash': 55, 'Ayub': 40}\n",
      "{'Ayesha': 50, 'Akash': 55, 'Ayub': 40, 'Abhijit': 45}\n"
     ]
    }
   ],
   "source": [
    "for i, name in enumerate(list1): # 0,1,2,3 ... 'Ayesha', 'Akash','Ayub','Abhijit'\n",
    "#     print(i, name)\n",
    "    dict1[name] = list2[i] # dict1['Ayesha'] = 50\n",
    "    print(dict1)"
   ]
  },
  {
   "cell_type": "code",
   "execution_count": 12,
   "id": "b225a6a6",
   "metadata": {},
   "outputs": [
    {
     "name": "stdout",
     "output_type": "stream",
     "text": [
      "{'ram': 23}\n",
      "{'sham': 43}\n",
      "{'ganesh': 56}\n",
      "{'ramesh': 54}\n",
      "{'akshay': 67}\n"
     ]
    }
   ],
   "source": [
    "list1=['ram','sham','ganesh','ramesh','akshay']\n",
    "list2=[23,43,56,54,67]\n",
    "for i,element in enumerate(list1):\n",
    "    dict2={}\n",
    "    dict2[element]=list2[i]\n",
    "    print(dict2)"
   ]
  },
  {
   "cell_type": "code",
   "execution_count": 5,
   "id": "6fda23fb",
   "metadata": {},
   "outputs": [
    {
     "name": "stdout",
     "output_type": "stream",
     "text": [
      "{'ram': 23}\n",
      "{'ram': 23, 'sham': 43}\n",
      "{'ram': 23, 'sham': 43, 'ganesh': 56}\n",
      "{'ram': 23, 'sham': 43, 'ganesh': 56, 'ramesh': 54}\n",
      "{'ram': 23, 'sham': 43, 'ganesh': 56, 'ramesh': 54, 'akshay': 67}\n"
     ]
    }
   ],
   "source": [
    "dict2={}\n",
    "list1=['ram','sham','ganesh','ramesh','akshay']\n",
    "list2=[23,43,56,54,67]\n",
    "for i,element in enumerate(list1):\n",
    "    dict2[element]=list2[i]\n",
    "    print(dict2)"
   ]
  },
  {
   "cell_type": "code",
   "execution_count": 18,
   "id": "f0923d69",
   "metadata": {},
   "outputs": [],
   "source": [
    "list1=['ram','sham','ganesh','ramesh','akshay']\n",
    "list2=[23,43,56,54,67]\n",
    "dict1={}"
   ]
  },
  {
   "cell_type": "code",
   "execution_count": 19,
   "id": "3e6dc196",
   "metadata": {},
   "outputs": [
    {
     "name": "stdout",
     "output_type": "stream",
     "text": [
      "{'ram': 23, 'sham': 43, 'ganesh': 56, 'ramesh': 54, 'akshay': 67}\n"
     ]
    }
   ],
   "source": [
    "for i, name in enumerate(list1):\n",
    "    dict1.update({name:list2[i]})\n",
    "print(dict1)"
   ]
  },
  {
   "cell_type": "code",
   "execution_count": 20,
   "id": "f4013234",
   "metadata": {},
   "outputs": [
    {
     "data": {
      "text/plain": [
       "23"
      ]
     },
     "execution_count": 20,
     "metadata": {},
     "output_type": "execute_result"
    }
   ],
   "source": [
    "list2[0]"
   ]
  },
  {
   "cell_type": "code",
   "execution_count": 21,
   "id": "02441350",
   "metadata": {},
   "outputs": [
    {
     "data": {
      "text/plain": [
       "43"
      ]
     },
     "execution_count": 21,
     "metadata": {},
     "output_type": "execute_result"
    }
   ],
   "source": [
    "list2[1]"
   ]
  },
  {
   "cell_type": "markdown",
   "id": "d0b1a23b",
   "metadata": {},
   "source": [
    "# How to delete the elements from the dictionary"
   ]
  },
  {
   "cell_type": "markdown",
   "id": "017b96dd",
   "metadata": {},
   "source": [
    "## 1.pop()"
   ]
  },
  {
   "cell_type": "raw",
   "id": "e33416ea",
   "metadata": {},
   "source": [
    "it delete the mention key in pop and delete its value as well.\n",
    "syntax >> dict.pop(key)"
   ]
  },
  {
   "cell_type": "code",
   "execution_count": 23,
   "id": "b24ecd4e",
   "metadata": {},
   "outputs": [
    {
     "data": {
      "text/plain": [
       "{'name': 'Arti', 'age': 24, 'Marks': 95, 'Place': 'Pune'}"
      ]
     },
     "execution_count": 23,
     "metadata": {},
     "output_type": "execute_result"
    }
   ],
   "source": [
    "dict2 = {'name':'Arti', 'age':24, 'Marks':95, 'Place':'Pune'}\n",
    "dict2"
   ]
  },
  {
   "cell_type": "code",
   "execution_count": 25,
   "id": "3668a8b6",
   "metadata": {},
   "outputs": [
    {
     "data": {
      "text/plain": [
       "{'age': 24, 'Marks': 95, 'Place': 'Pune'}"
      ]
     },
     "execution_count": 25,
     "metadata": {},
     "output_type": "execute_result"
    }
   ],
   "source": [
    "dict2.pop('name')\n",
    "dict2"
   ]
  },
  {
   "cell_type": "code",
   "execution_count": 26,
   "id": "9baf754f",
   "metadata": {},
   "outputs": [
    {
     "data": {
      "text/plain": [
       "{'Marks': 95, 'Place': 'Pune'}"
      ]
     },
     "execution_count": 26,
     "metadata": {},
     "output_type": "execute_result"
    }
   ],
   "source": [
    "dict2.pop('age','marks')\n",
    "dict2"
   ]
  },
  {
   "cell_type": "code",
   "execution_count": 28,
   "id": "3c21040d",
   "metadata": {},
   "outputs": [
    {
     "data": {
      "text/plain": [
       "{'Marks': 95}"
      ]
     },
     "execution_count": 28,
     "metadata": {},
     "output_type": "execute_result"
    }
   ],
   "source": [
    "dict2.pop('Place')\n",
    "dict2"
   ]
  },
  {
   "cell_type": "markdown",
   "id": "30912e52",
   "metadata": {},
   "source": [
    "## 2.popitem()"
   ]
  },
  {
   "cell_type": "raw",
   "id": "96e69b8c",
   "metadata": {},
   "source": [
    "it delete the last inserted element in the dictionary.\n",
    "syntax >> dict.popitem()"
   ]
  },
  {
   "cell_type": "code",
   "execution_count": 30,
   "id": "ed4db79d",
   "metadata": {},
   "outputs": [
    {
     "data": {
      "text/plain": [
       "{'name': 'Arti', 'age': 24, 'Marks': 95, 'Place': 'Pune'}"
      ]
     },
     "execution_count": 30,
     "metadata": {},
     "output_type": "execute_result"
    }
   ],
   "source": [
    "dict2 = {'name':'Arti', 'age':24, 'Marks':95, 'Place':'Pune'}\n",
    "dict2"
   ]
  },
  {
   "cell_type": "code",
   "execution_count": 31,
   "id": "8744880d",
   "metadata": {},
   "outputs": [
    {
     "data": {
      "text/plain": [
       "('Place', 'Pune')"
      ]
     },
     "execution_count": 31,
     "metadata": {},
     "output_type": "execute_result"
    }
   ],
   "source": [
    "dict2.popitem()"
   ]
  },
  {
   "cell_type": "code",
   "execution_count": 32,
   "id": "07e7d56b",
   "metadata": {},
   "outputs": [
    {
     "data": {
      "text/plain": [
       "{'name': 'Arti', 'age': 24, 'Marks': 95}"
      ]
     },
     "execution_count": 32,
     "metadata": {},
     "output_type": "execute_result"
    }
   ],
   "source": [
    "dict2"
   ]
  },
  {
   "cell_type": "code",
   "execution_count": 33,
   "id": "fb1a82a2",
   "metadata": {},
   "outputs": [
    {
     "ename": "TypeError",
     "evalue": "dict.popitem() takes no arguments (1 given)",
     "output_type": "error",
     "traceback": [
      "\u001b[1;31m---------------------------------------------------------------------------\u001b[0m",
      "\u001b[1;31mTypeError\u001b[0m                                 Traceback (most recent call last)",
      "Input \u001b[1;32mIn [33]\u001b[0m, in \u001b[0;36m<cell line: 1>\u001b[1;34m()\u001b[0m\n\u001b[1;32m----> 1\u001b[0m \u001b[43mdict2\u001b[49m\u001b[38;5;241;43m.\u001b[39;49m\u001b[43mpopitem\u001b[49m\u001b[43m(\u001b[49m\u001b[38;5;124;43m'\u001b[39;49m\u001b[38;5;124;43mname\u001b[39;49m\u001b[38;5;124;43m'\u001b[39;49m\u001b[43m)\u001b[49m\n",
      "\u001b[1;31mTypeError\u001b[0m: dict.popitem() takes no arguments (1 given)"
     ]
    }
   ],
   "source": [
    "dict2.popitem('name')"
   ]
  },
  {
   "cell_type": "markdown",
   "id": "92f0ed90",
   "metadata": {},
   "source": [
    "## 3.clear()"
   ]
  },
  {
   "cell_type": "raw",
   "id": "b910685f",
   "metadata": {},
   "source": [
    "it clears the dictionary\n",
    "syntax >> dict.clear()"
   ]
  },
  {
   "cell_type": "code",
   "execution_count": 34,
   "id": "a1166bcf",
   "metadata": {},
   "outputs": [
    {
     "data": {
      "text/plain": [
       "{'name': 'Arti', 'age': 24, 'Marks': 95, 'Place': 'Pune'}"
      ]
     },
     "execution_count": 34,
     "metadata": {},
     "output_type": "execute_result"
    }
   ],
   "source": [
    "dict2 = {'name':'Arti', 'age':24, 'Marks':95, 'Place':'Pune'}\n",
    "dict2"
   ]
  },
  {
   "cell_type": "code",
   "execution_count": 35,
   "id": "d512d449",
   "metadata": {},
   "outputs": [
    {
     "data": {
      "text/plain": [
       "{}"
      ]
     },
     "execution_count": 35,
     "metadata": {},
     "output_type": "execute_result"
    }
   ],
   "source": [
    "dict2.clear()\n",
    "dict2"
   ]
  },
  {
   "cell_type": "code",
   "execution_count": 36,
   "id": "ac6db27f",
   "metadata": {},
   "outputs": [
    {
     "name": "stdout",
     "output_type": "stream",
     "text": [
      "{}\n"
     ]
    }
   ],
   "source": [
    "print(dict2)"
   ]
  },
  {
   "cell_type": "code",
   "execution_count": 37,
   "id": "768846f8",
   "metadata": {},
   "outputs": [],
   "source": [
    "list1=['ram','sham','ganesh','ramesh','akshay']"
   ]
  },
  {
   "cell_type": "code",
   "execution_count": 38,
   "id": "cfea5e33",
   "metadata": {},
   "outputs": [
    {
     "data": {
      "text/plain": [
       "{}"
      ]
     },
     "execution_count": 38,
     "metadata": {},
     "output_type": "execute_result"
    }
   ],
   "source": [
    "dict2.clear()\n",
    "dict2"
   ]
  },
  {
   "cell_type": "markdown",
   "id": "144b2e22",
   "metadata": {},
   "source": [
    "## 4.del()"
   ]
  },
  {
   "cell_type": "raw",
   "id": "9ca5e5b4",
   "metadata": {},
   "source": [
    "it deletes the whole dictionary\n",
    "syntax >> del(dict)"
   ]
  },
  {
   "cell_type": "code",
   "execution_count": 52,
   "id": "272e66e0",
   "metadata": {},
   "outputs": [
    {
     "data": {
      "text/plain": [
       "{'name': 'Aditya',\n",
       " 'Age': 27,\n",
       " 'Company': 'Zensar',\n",
       " 'Designation': 'Data Scientist',\n",
       " 'Salary': 85000,\n",
       " 'Location': 'Pune'}"
      ]
     },
     "execution_count": 52,
     "metadata": {},
     "output_type": "execute_result"
    }
   ],
   "source": [
    "employee_details = {'name': 'Aditya',\n",
    "                    'Age':27,\n",
    "                     'Company':'Zensar',\n",
    "                     'Designation':'Data Scientist',\n",
    "                     'Salary':85000,\n",
    "                     'Location':'Pune'}\n",
    "employee_details"
   ]
  },
  {
   "cell_type": "code",
   "execution_count": 53,
   "id": "0898c11c",
   "metadata": {},
   "outputs": [],
   "source": [
    "del employee_details['Salary']"
   ]
  },
  {
   "cell_type": "code",
   "execution_count": 54,
   "id": "df47591c",
   "metadata": {},
   "outputs": [
    {
     "data": {
      "text/plain": [
       "{'name': 'Aditya',\n",
       " 'Age': 27,\n",
       " 'Company': 'Zensar',\n",
       " 'Designation': 'Data Scientist',\n",
       " 'Location': 'Pune'}"
      ]
     },
     "execution_count": 54,
     "metadata": {},
     "output_type": "execute_result"
    }
   ],
   "source": [
    "employee_details"
   ]
  },
  {
   "cell_type": "code",
   "execution_count": 55,
   "id": "582acb76",
   "metadata": {},
   "outputs": [
    {
     "data": {
      "text/plain": [
       "{'name': 'Aditya',\n",
       " 'Age': 27,\n",
       " 'Company': 'Zensar',\n",
       " 'Designation': 'Data Scientist'}"
      ]
     },
     "execution_count": 55,
     "metadata": {},
     "output_type": "execute_result"
    }
   ],
   "source": [
    "del employee_details['Location']\n",
    "employee_details"
   ]
  },
  {
   "cell_type": "code",
   "execution_count": 56,
   "id": "44074916",
   "metadata": {},
   "outputs": [
    {
     "ename": "NameError",
     "evalue": "name 'employee_details' is not defined",
     "output_type": "error",
     "traceback": [
      "\u001b[1;31m---------------------------------------------------------------------------\u001b[0m",
      "\u001b[1;31mNameError\u001b[0m                                 Traceback (most recent call last)",
      "Input \u001b[1;32mIn [56]\u001b[0m, in \u001b[0;36m<cell line: 2>\u001b[1;34m()\u001b[0m\n\u001b[0;32m      1\u001b[0m \u001b[38;5;28;01mdel\u001b[39;00m employee_details\n\u001b[1;32m----> 2\u001b[0m \u001b[43memployee_details\u001b[49m\n",
      "\u001b[1;31mNameError\u001b[0m: name 'employee_details' is not defined"
     ]
    }
   ],
   "source": [
    "del employee_details\n",
    "employee_details"
   ]
  },
  {
   "cell_type": "markdown",
   "id": "f9099d5b",
   "metadata": {},
   "source": [
    "# Nested Dictionary"
   ]
  },
  {
   "cell_type": "raw",
   "id": "5cc6dab3",
   "metadata": {},
   "source": [
    "dictionary inside another dictionary"
   ]
  },
  {
   "cell_type": "code",
   "execution_count": 57,
   "id": "94def97a",
   "metadata": {},
   "outputs": [
    {
     "data": {
      "text/plain": [
       "{'name': 'Aditya',\n",
       " 'Age': 27,\n",
       " 'Company': 'Zensar',\n",
       " 'Designation': 'Data Scientist',\n",
       " 'Salary': 85000,\n",
       " 'Location': 'Pune'}"
      ]
     },
     "execution_count": 57,
     "metadata": {},
     "output_type": "execute_result"
    }
   ],
   "source": [
    "employee_details = {'name': 'Aditya',\n",
    "                    'Age':27,\n",
    "                     'Company':'Zensar',\n",
    "                     'Designation':'Data Scientist',\n",
    "                     'Salary':85000,\n",
    "                     'Location':'Pune'}\n",
    "employee_details"
   ]
  },
  {
   "cell_type": "code",
   "execution_count": 58,
   "id": "d69076dc",
   "metadata": {},
   "outputs": [
    {
     "data": {
      "text/plain": [
       "6"
      ]
     },
     "execution_count": 58,
     "metadata": {},
     "output_type": "execute_result"
    }
   ],
   "source": [
    "len(employee_details)"
   ]
  },
  {
   "cell_type": "code",
   "execution_count": 64,
   "id": "aa22d5a8",
   "metadata": {},
   "outputs": [
    {
     "data": {
      "text/plain": [
       "{'Z001': {'name': 'Aditya',\n",
       "  'Age': 27,\n",
       "  'Company': 'Zensar',\n",
       "  'Designation': 'Data Scientist',\n",
       "  'Salary': 85000,\n",
       "  'Location': 'Pune'}}"
      ]
     },
     "execution_count": 64,
     "metadata": {},
     "output_type": "execute_result"
    }
   ],
   "source": [
    "employee_details = {'Z001': {'name': 'Aditya',\n",
    "                            'Age':27,\n",
    "                            'Company':'Zensar',\n",
    "                            'Designation':'Data Scientist',\n",
    "                            'Salary':85000,\n",
    "                            'Location':'Pune'}}\n",
    "employee_details"
   ]
  },
  {
   "cell_type": "code",
   "execution_count": 65,
   "id": "ea3004b1",
   "metadata": {},
   "outputs": [
    {
     "data": {
      "text/plain": [
       "{'name': 'Aditya',\n",
       " 'Age': 27,\n",
       " 'Company': 'Zensar',\n",
       " 'Designation': 'Data Scientist',\n",
       " 'Salary': 85000,\n",
       " 'Location': 'Pune'}"
      ]
     },
     "execution_count": 65,
     "metadata": {},
     "output_type": "execute_result"
    }
   ],
   "source": [
    "employee_details['Z001']"
   ]
  },
  {
   "cell_type": "code",
   "execution_count": 66,
   "id": "d3c683aa",
   "metadata": {},
   "outputs": [
    {
     "data": {
      "text/plain": [
       "'Aditya'"
      ]
     },
     "execution_count": 66,
     "metadata": {},
     "output_type": "execute_result"
    }
   ],
   "source": [
    "employee_details['Z001']['name']"
   ]
  },
  {
   "cell_type": "code",
   "execution_count": 87,
   "id": "086d03df",
   "metadata": {},
   "outputs": [
    {
     "data": {
      "text/plain": [
       "3"
      ]
     },
     "execution_count": 87,
     "metadata": {},
     "output_type": "execute_result"
    }
   ],
   "source": [
    "employee_details = {'Z001': {'name': 'Aditya',\n",
    "                            'Age':27,\n",
    "                            'Company':'Zensar',\n",
    "                            'Designation':'Data Scientist',\n",
    "                            'Salary':85000,\n",
    "                            'Location':'Pune'},\n",
    "                    'Z002': {'name': 'Aditya',\n",
    "                            'Age':27,\n",
    "                            'Company':'Zensar',\n",
    "                            'Designation':'Data Scientist',\n",
    "                            'Salary':85000,\n",
    "                            'Location':'Pune'},\n",
    "                    'Z003': {'name': 'Aditya',\n",
    "                            'Age':27,\n",
    "                            'Company':'Zensar',\n",
    "                            'Designation':'Data Scientist',\n",
    "                            'Salary':85000,\n",
    "                            'Location':'Pune'}}\n",
    "employee_details\n",
    "len(employee_details)"
   ]
  },
  {
   "cell_type": "code",
   "execution_count": 73,
   "id": "ef7aa152",
   "metadata": {},
   "outputs": [
    {
     "data": {
      "text/plain": [
       "'D'"
      ]
     },
     "execution_count": 73,
     "metadata": {},
     "output_type": "execute_result"
    }
   ],
   "source": [
    "employee_details['Z001'][\"Designation\"][0]"
   ]
  },
  {
   "cell_type": "code",
   "execution_count": 74,
   "id": "c8b5953c",
   "metadata": {},
   "outputs": [
    {
     "data": {
      "text/plain": [
       "'e'"
      ]
     },
     "execution_count": 74,
     "metadata": {},
     "output_type": "execute_result"
    }
   ],
   "source": [
    "employee_details['Z001'][\"Designation\"][8]"
   ]
  },
  {
   "cell_type": "code",
   "execution_count": 75,
   "id": "5820db85",
   "metadata": {},
   "outputs": [
    {
     "data": {
      "text/plain": [
       "'ata S'"
      ]
     },
     "execution_count": 75,
     "metadata": {},
     "output_type": "execute_result"
    }
   ],
   "source": [
    "employee_details['Z001'][\"Designation\"][1:6]"
   ]
  },
  {
   "cell_type": "code",
   "execution_count": 89,
   "id": "3524e7cd",
   "metadata": {},
   "outputs": [
    {
     "ename": "KeyError",
     "evalue": "2",
     "output_type": "error",
     "traceback": [
      "\u001b[1;31m---------------------------------------------------------------------------\u001b[0m",
      "\u001b[1;31mKeyError\u001b[0m                                  Traceback (most recent call last)",
      "Input \u001b[1;32mIn [89]\u001b[0m, in \u001b[0;36m<cell line: 1>\u001b[1;34m()\u001b[0m\n\u001b[1;32m----> 1\u001b[0m \u001b[43memployee_details\u001b[49m\u001b[43m[\u001b[49m\u001b[38;5;124;43m'\u001b[39;49m\u001b[38;5;124;43mZ001\u001b[39;49m\u001b[38;5;124;43m'\u001b[39;49m\u001b[43m]\u001b[49m\u001b[43m[\u001b[49m\u001b[38;5;241;43m2\u001b[39;49m\u001b[43m]\u001b[49m[\u001b[38;5;241m1\u001b[39m]\n",
      "\u001b[1;31mKeyError\u001b[0m: 2"
     ]
    }
   ],
   "source": [
    "employee_details['Z001'][2][1]"
   ]
  },
  {
   "cell_type": "code",
   "execution_count": 93,
   "id": "c0f49d73",
   "metadata": {},
   "outputs": [
    {
     "data": {
      "text/plain": [
       "{'Z001': {'name': 'Aditya',\n",
       "  'Age': 27,\n",
       "  'Designation': 'Data Scientist',\n",
       "  'Salary': 85000,\n",
       "  'Location': 'Pune'},\n",
       " 'Z002': {'name': 'Arti',\n",
       "  'Age': 28,\n",
       "  'Designation': 'Machine Learning Engineer',\n",
       "  'Salary': 87000,\n",
       "  'Location': 'Pune'},\n",
       " 'Z003': {'name': 'Abhijit',\n",
       "  'Age': 29,\n",
       "  'Designation': 'Python Developer',\n",
       "  'Salary': [90000, 89000, 80000, 75000, 72000],\n",
       "  'Location': 'Pune'}}"
      ]
     },
     "execution_count": 93,
     "metadata": {},
     "output_type": "execute_result"
    }
   ],
   "source": [
    "employee_details = {'Z001': {'name': 'Aditya',\n",
    "                            'Age':27,\n",
    "                            'Designation':'Data Scientist',\n",
    "                            'Salary':85000,\n",
    "                            'Location':'Pune'},\n",
    "                    'Z002': {'name': 'Arti',\n",
    "                            'Age':28,\n",
    "                            'Designation':'Machine Learning Engineer',\n",
    "                            'Salary':87000,\n",
    "                            'Location':'Pune'},\n",
    "                    'Z003': {'name': 'Abhijit',\n",
    "                            'Age':29,\n",
    "                            'Designation':'Python Developer',\n",
    "                            'Salary':[90000,89000,80000,75000],\n",
    "                            'Location':'Pune'}}\n",
    "\n",
    "employee_details['Z003']['Salary'].append(72000)\n",
    "employee_details"
   ]
  },
  {
   "cell_type": "code",
   "execution_count": 95,
   "id": "019394eb",
   "metadata": {},
   "outputs": [
    {
     "data": {
      "text/plain": [
       "{'Z001': {'name': 'Aditya',\n",
       "  'Age': 27,\n",
       "  'Designation': 'Data Scientist',\n",
       "  'Salary': 85000,\n",
       "  'Location': 'Pune'},\n",
       " 'Z002': {'name': 'Arti',\n",
       "  'Age': 28,\n",
       "  'Designation': 'Machine Learning Engineer',\n",
       "  'Salary': 87000,\n",
       "  'Location': 'Pune'},\n",
       " 'Z003': {'name': 'Abhijit',\n",
       "  'Age': 29,\n",
       "  'Designation': 'Python Developer',\n",
       "  'Salary': [90000, 89000, 80000, 75000, 7244560],\n",
       "  'Location': 'Pune'}}"
      ]
     },
     "execution_count": 95,
     "metadata": {},
     "output_type": "execute_result"
    }
   ],
   "source": [
    "employee_details = {'Z001': {'name': 'Aditya',\n",
    "                            'Age':27,\n",
    "                            'Designation':'Data Scientist',\n",
    "                            'Salary':85000,\n",
    "                            'Location':'Pune'},\n",
    "                    'Z002': {'name': 'Arti',\n",
    "                            'Age':28,\n",
    "                            'Designation':'Machine Learning Engineer',\n",
    "                            'Salary':87000,\n",
    "                            'Location':'Pune'},\n",
    "                    'Z003': {'name': 'Abhijit',\n",
    "                            'Age':29,\n",
    "                            'Designation':'Python Developer',\n",
    "                            'Salary':[90000,89000,80000,75000],\n",
    "                            'Location':'Pune'}}\n",
    "\n",
    "employee_details['Z003']['Salary'].append(7244560)\n",
    "employee_details"
   ]
  },
  {
   "cell_type": "code",
   "execution_count": 99,
   "id": "7e17d006",
   "metadata": {},
   "outputs": [
    {
     "data": {
      "text/plain": [
       "[90000, 89000, 80000, 75000, 7244560]"
      ]
     },
     "execution_count": 99,
     "metadata": {},
     "output_type": "execute_result"
    }
   ],
   "source": [
    "employee_details['Z003']['Salary']"
   ]
  },
  {
   "cell_type": "markdown",
   "id": "f3274e92",
   "metadata": {},
   "source": [
    "# fromkeys()"
   ]
  },
  {
   "cell_type": "raw",
   "id": "6db76978",
   "metadata": {},
   "source": [
    "Syntax:\n",
    "    dict.fromkeys(sequence, val)\n",
    "default value is None."
   ]
  },
  {
   "cell_type": "code",
   "execution_count": 100,
   "id": "d97f7877",
   "metadata": {},
   "outputs": [],
   "source": [
    "name = ['Ayesha', 'Akash','Ayub','Abhijit']"
   ]
  },
  {
   "cell_type": "code",
   "execution_count": 101,
   "id": "b2cd49fd",
   "metadata": {},
   "outputs": [],
   "source": [
    "dict3=dict.fromkeys(name)"
   ]
  },
  {
   "cell_type": "code",
   "execution_count": 102,
   "id": "266d1633",
   "metadata": {},
   "outputs": [
    {
     "data": {
      "text/plain": [
       "{'Ayesha': None, 'Akash': None, 'Ayub': None, 'Abhijit': None}"
      ]
     },
     "execution_count": 102,
     "metadata": {},
     "output_type": "execute_result"
    }
   ],
   "source": [
    "dict3"
   ]
  },
  {
   "cell_type": "code",
   "execution_count": 103,
   "id": "2085cf41",
   "metadata": {},
   "outputs": [
    {
     "data": {
      "text/plain": [
       "{'Ayesha': 95, 'Akash': 95, 'Ayub': 95, 'Abhijit': 95}"
      ]
     },
     "execution_count": 103,
     "metadata": {},
     "output_type": "execute_result"
    }
   ],
   "source": [
    "dict3 = dict.fromkeys(name,95)\n",
    "dict3"
   ]
  },
  {
   "cell_type": "code",
   "execution_count": 105,
   "id": "6fbf6cb5",
   "metadata": {},
   "outputs": [
    {
     "ename": "TypeError",
     "evalue": "fromkeys expected at most 2 arguments, got 3",
     "output_type": "error",
     "traceback": [
      "\u001b[1;31m---------------------------------------------------------------------------\u001b[0m",
      "\u001b[1;31mTypeError\u001b[0m                                 Traceback (most recent call last)",
      "Input \u001b[1;32mIn [105]\u001b[0m, in \u001b[0;36m<cell line: 1>\u001b[1;34m()\u001b[0m\n\u001b[1;32m----> 1\u001b[0m dict4\u001b[38;5;241m=\u001b[39m\u001b[38;5;28;43mdict\u001b[39;49m\u001b[38;5;241;43m.\u001b[39;49m\u001b[43mfromkeys\u001b[49m\u001b[43m(\u001b[49m\u001b[43mname\u001b[49m\u001b[43m,\u001b[49m\u001b[38;5;241;43m34\u001b[39;49m\u001b[43m,\u001b[49m\u001b[38;5;241;43m95\u001b[39;49m\u001b[43m)\u001b[49m\n",
      "\u001b[1;31mTypeError\u001b[0m: fromkeys expected at most 2 arguments, got 3"
     ]
    }
   ],
   "source": [
    "dict4=dict.fromkeys(name,34,95)"
   ]
  },
  {
   "cell_type": "code",
   "execution_count": 106,
   "id": "0a8deccc",
   "metadata": {},
   "outputs": [],
   "source": [
    "dict4=dict.fromkeys(name,34)"
   ]
  },
  {
   "cell_type": "code",
   "execution_count": 107,
   "id": "2d4c533e",
   "metadata": {},
   "outputs": [
    {
     "data": {
      "text/plain": [
       "{'Ayesha': 34, 'Akash': 34, 'Ayub': 34, 'Abhijit': 34}"
      ]
     },
     "execution_count": 107,
     "metadata": {},
     "output_type": "execute_result"
    }
   ],
   "source": [
    "dict4"
   ]
  },
  {
   "cell_type": "code",
   "execution_count": 115,
   "id": "49bd7462",
   "metadata": {},
   "outputs": [
    {
     "name": "stdout",
     "output_type": "stream",
     "text": [
      "{'Ayesha': 95}\n",
      "{'Ayesha': 95, 'Akash': 95}\n",
      "{'Ayesha': 95, 'Akash': 95, 'Ayub': 95}\n",
      "{'Ayesha': 95, 'Akash': 95, 'Ayub': 95, 'Abhijit': 95}\n"
     ]
    }
   ],
   "source": [
    "name = ['Ayesha', 'Akash','Ayub','Abhijit']\n",
    "dict4 = {}\n",
    "# {'Ayesha': 95, 'Akash': 95, 'Ayub': 95, 'Abhijit': 95}\n",
    "for i in name:\n",
    "    dict4[i]=95\n",
    "    print(dict4)"
   ]
  },
  {
   "cell_type": "code",
   "execution_count": 116,
   "id": "49396b0d",
   "metadata": {},
   "outputs": [
    {
     "name": "stdout",
     "output_type": "stream",
     "text": [
      "{'Ayesha': (95, 54)}\n",
      "{'Ayesha': (95, 54), 'Akash': (95, 54)}\n",
      "{'Ayesha': (95, 54), 'Akash': (95, 54), 'Ayub': (95, 54)}\n",
      "{'Ayesha': (95, 54), 'Akash': (95, 54), 'Ayub': (95, 54), 'Abhijit': (95, 54)}\n"
     ]
    }
   ],
   "source": [
    "name = ['Ayesha', 'Akash','Ayub','Abhijit']\n",
    "dict4 = {}\n",
    "# {'Ayesha': 95, 'Akash': 95, 'Ayub': 95, 'Abhijit': 95}\n",
    "for i in name:\n",
    "    dict4[i]=95,54\n",
    "    print(dict4)"
   ]
  },
  {
   "cell_type": "code",
   "execution_count": 125,
   "id": "01d0161d",
   "metadata": {},
   "outputs": [
    {
     "name": "stdout",
     "output_type": "stream",
     "text": [
      "{'Ayesha': 95, 'Akash': 95, 'Ayub': 95, 'Abhijit': 95}\n"
     ]
    }
   ],
   "source": [
    "name = ['Ayesha', 'Akash','Ayub','Abhijit']\n",
    "dict4 = {}\n",
    "for i in name:\n",
    "    dict4.update({i:95})\n",
    "print(dict4)"
   ]
  },
  {
   "cell_type": "code",
   "execution_count": 4,
   "id": "9beb91ed",
   "metadata": {},
   "outputs": [
    {
     "name": "stdout",
     "output_type": "stream",
     "text": [
      "{'Ayesha': 95, 'Akash': 95, 'Ayub': 95, 'Abhijit': 95}\n"
     ]
    }
   ],
   "source": [
    "name = ['Ayesha', 'Akash','Ayub','Abhijit']\n",
    "for i in name:\n",
    "    dict4=dict.fromkeys(name,95)\n",
    "print(dict4)"
   ]
  },
  {
   "cell_type": "code",
   "execution_count": 127,
   "id": "a726f83e",
   "metadata": {},
   "outputs": [
    {
     "data": {
      "text/plain": [
       "{'n': 50, 'a': 50, 'm': 50, 'e': 50}"
      ]
     },
     "execution_count": 127,
     "metadata": {},
     "output_type": "execute_result"
    }
   ],
   "source": [
    "result = dict.fromkeys('name',50)\n",
    "result"
   ]
  },
  {
   "cell_type": "markdown",
   "id": "2604f1b7",
   "metadata": {},
   "source": [
    "## setdefault()"
   ]
  },
  {
   "cell_type": "code",
   "execution_count": 128,
   "id": "157b10dd",
   "metadata": {},
   "outputs": [
    {
     "data": {
      "text/plain": [
       "{'name': 'Aditya',\n",
       " 'Age': 27,\n",
       " 'Company': 'Zensar',\n",
       " 'Designation': 'Data Scientist',\n",
       " 'Salary': 85000,\n",
       " 'Location': 'Pune'}"
      ]
     },
     "execution_count": 128,
     "metadata": {},
     "output_type": "execute_result"
    }
   ],
   "source": [
    "employee_details = {'name': 'Aditya',\n",
    "                    'Age':27,\n",
    "                     'Company':'Zensar',\n",
    "                     'Designation':'Data Scientist',\n",
    "                     'Salary':85000,\n",
    "                     'Location':'Pune'}\n",
    "employee_details"
   ]
  },
  {
   "cell_type": "code",
   "execution_count": 130,
   "id": "76ff1dbc",
   "metadata": {},
   "outputs": [
    {
     "data": {
      "text/plain": [
       "6"
      ]
     },
     "execution_count": 130,
     "metadata": {},
     "output_type": "execute_result"
    }
   ],
   "source": [
    "len(employee_details)"
   ]
  },
  {
   "cell_type": "code",
   "execution_count": 131,
   "id": "b91d7f6d",
   "metadata": {},
   "outputs": [
    {
     "data": {
      "text/plain": [
       "85000"
      ]
     },
     "execution_count": 131,
     "metadata": {},
     "output_type": "execute_result"
    }
   ],
   "source": [
    "employee_details['Salary']"
   ]
  },
  {
   "cell_type": "code",
   "execution_count": 132,
   "id": "4e9f8c9c",
   "metadata": {},
   "outputs": [
    {
     "data": {
      "text/plain": [
       "85000"
      ]
     },
     "execution_count": 132,
     "metadata": {},
     "output_type": "execute_result"
    }
   ],
   "source": [
    "employee_details.get('Salary')"
   ]
  },
  {
   "cell_type": "code",
   "execution_count": 133,
   "id": "662931b5",
   "metadata": {},
   "outputs": [
    {
     "data": {
      "text/plain": [
       "85000"
      ]
     },
     "execution_count": 133,
     "metadata": {},
     "output_type": "execute_result"
    }
   ],
   "source": [
    "employee_details.setdefault('Salary') # 1"
   ]
  },
  {
   "cell_type": "code",
   "execution_count": 135,
   "id": "91fd98cd",
   "metadata": {},
   "outputs": [
    {
     "data": {
      "text/plain": [
       "'Aditya'"
      ]
     },
     "execution_count": 135,
     "metadata": {},
     "output_type": "execute_result"
    }
   ],
   "source": [
    "employee_details.setdefault('name')"
   ]
  },
  {
   "cell_type": "code",
   "execution_count": 136,
   "id": "d902e4b9",
   "metadata": {},
   "outputs": [
    {
     "data": {
      "text/plain": [
       "{'name': 'Aditya',\n",
       " 'Age': 27,\n",
       " 'Company': 'Zensar',\n",
       " 'Designation': 'Data Scientist',\n",
       " 'Salary': 85000,\n",
       " 'Location': 'Pune',\n",
       " 'EmpID': None}"
      ]
     },
     "execution_count": 136,
     "metadata": {},
     "output_type": "execute_result"
    }
   ],
   "source": [
    "employee_details.setdefault('EmpID') # 2\n",
    "employee_details"
   ]
  },
  {
   "cell_type": "code",
   "execution_count": 137,
   "id": "1ead0a76",
   "metadata": {},
   "outputs": [],
   "source": [
    "employee_details.setdefault('power')"
   ]
  },
  {
   "cell_type": "code",
   "execution_count": 138,
   "id": "98cdab23",
   "metadata": {},
   "outputs": [
    {
     "data": {
      "text/plain": [
       "{'name': 'Aditya',\n",
       " 'Age': 27,\n",
       " 'Company': 'Zensar',\n",
       " 'Designation': 'Data Scientist',\n",
       " 'Salary': 85000,\n",
       " 'Location': 'Pune',\n",
       " 'EmpID': None,\n",
       " 'power': None}"
      ]
     },
     "execution_count": 138,
     "metadata": {},
     "output_type": "execute_result"
    }
   ],
   "source": [
    "employee_details"
   ]
  },
  {
   "cell_type": "code",
   "execution_count": 139,
   "id": "5d1f626c",
   "metadata": {},
   "outputs": [
    {
     "data": {
      "text/plain": [
       "{'name': 'Aditya',\n",
       " 'Age': 27,\n",
       " 'Company': 'Zensar',\n",
       " 'Designation': 'Data Scientist',\n",
       " 'Salary': 85000,\n",
       " 'Location': 'Pune',\n",
       " 'EmpID': None,\n",
       " 'power': None,\n",
       " 'Employee_ID': 'Z001'}"
      ]
     },
     "execution_count": 139,
     "metadata": {},
     "output_type": "execute_result"
    }
   ],
   "source": [
    "employee_details.setdefault('Employee_ID', 'Z001') # 3\n",
    "employee_details"
   ]
  },
  {
   "cell_type": "code",
   "execution_count": 142,
   "id": "10ebc6ab",
   "metadata": {},
   "outputs": [
    {
     "data": {
      "text/plain": [
       "{'name': 'Aditya',\n",
       " 'Age': 27,\n",
       " 'Company': 'Zensar',\n",
       " 'Designation': 'Data Scientist',\n",
       " 'Salary': 85000,\n",
       " 'Location': 'Pune',\n",
       " 'EmpID': None,\n",
       " 'power': None,\n",
       " 'Employee_ID': 'Z001',\n",
       " 'hometown': 'latur'}"
      ]
     },
     "execution_count": 142,
     "metadata": {},
     "output_type": "execute_result"
    }
   ],
   "source": [
    "employee_details.setdefault('hometown',\"latur\")\n",
    "employee_details"
   ]
  },
  {
   "cell_type": "markdown",
   "id": "ed23d29c",
   "metadata": {},
   "source": [
    "## copy()"
   ]
  },
  {
   "cell_type": "code",
   "execution_count": 143,
   "id": "bc316e14",
   "metadata": {},
   "outputs": [
    {
     "data": {
      "text/plain": [
       "{'name': 'Aditya',\n",
       " 'Age': 27,\n",
       " 'Company': 'Zensar',\n",
       " 'Designation': 'Data Scientist',\n",
       " 'Salary': 85000,\n",
       " 'Location': 'Pune'}"
      ]
     },
     "execution_count": 143,
     "metadata": {},
     "output_type": "execute_result"
    }
   ],
   "source": [
    "employee_details = {'name': 'Aditya',\n",
    "                    'Age':27,\n",
    "                     'Company':'Zensar',\n",
    "                     'Designation':'Data Scientist',\n",
    "                     'Salary':85000,\n",
    "                     'Location':'Pune'}\n",
    "employee_details"
   ]
  },
  {
   "cell_type": "code",
   "execution_count": 146,
   "id": "7cbe695e",
   "metadata": {},
   "outputs": [
    {
     "data": {
      "text/plain": [
       "{'name': 'Aditya',\n",
       " 'Age': 27,\n",
       " 'Company': 'Zensar',\n",
       " 'Designation': 'Data Scientist',\n",
       " 'Salary': 85000,\n",
       " 'Location': 'Pune',\n",
       " 'Employee_ID': 'Z001'}"
      ]
     },
     "execution_count": 146,
     "metadata": {},
     "output_type": "execute_result"
    }
   ],
   "source": [
    "new_dict = employee_details\n",
    "new_dict"
   ]
  },
  {
   "cell_type": "code",
   "execution_count": 145,
   "id": "6858b5b0",
   "metadata": {},
   "outputs": [
    {
     "name": "stdout",
     "output_type": "stream",
     "text": [
      "{'name': 'Aditya', 'Age': 27, 'Company': 'Zensar', 'Designation': 'Data Scientist', 'Salary': 85000, 'Location': 'Pune', 'Employee_ID': 'Z001'}\n",
      "{'name': 'Aditya', 'Age': 27, 'Company': 'Zensar', 'Designation': 'Data Scientist', 'Salary': 85000, 'Location': 'Pune', 'Employee_ID': 'Z001'}\n"
     ]
    }
   ],
   "source": [
    "new_dict.update({'Employee_ID': 'Z001'})\n",
    "print(new_dict)\n",
    "print(employee_details)"
   ]
  },
  {
   "cell_type": "code",
   "execution_count": 150,
   "id": "a0f03105",
   "metadata": {},
   "outputs": [
    {
     "name": "stdout",
     "output_type": "stream",
     "text": [
      "{'name': 'Aditya', 'Age': 27, 'Company': 'Zensar', 'Designation': 'Data Scientist', 'Salary': 85000, 'Location': 'Pune', 'Employee_ID': 'Z001', 'cell no': 34}\n",
      "{'name': 'Aditya', 'Age': 27, 'Company': 'Zensar', 'Designation': 'Data Scientist', 'Salary': 85000, 'Location': 'Pune', 'Employee_ID': 'Z001', 'cell no': 34}\n"
     ]
    }
   ],
   "source": [
    "employee_details.update({'cell no': 34})\n",
    "print(employee_details)\n",
    "print(new_dict)"
   ]
  },
  {
   "cell_type": "code",
   "execution_count": 151,
   "id": "8162bc78",
   "metadata": {},
   "outputs": [
    {
     "data": {
      "text/plain": [
       "{'name': 'Aditya',\n",
       " 'Age': 27,\n",
       " 'Company': 'Zensar',\n",
       " 'Designation': 'Data Scientist',\n",
       " 'Salary': 85000,\n",
       " 'Location': 'Pune'}"
      ]
     },
     "execution_count": 151,
     "metadata": {},
     "output_type": "execute_result"
    }
   ],
   "source": [
    "employee_details = {'name': 'Aditya',\n",
    "                    'Age':27,\n",
    "                     'Company':'Zensar',\n",
    "                     'Designation':'Data Scientist',\n",
    "                     'Salary':85000,\n",
    "                     'Location':'Pune'}\n",
    "employee_details"
   ]
  },
  {
   "cell_type": "code",
   "execution_count": 153,
   "id": "b8ab705e",
   "metadata": {},
   "outputs": [
    {
     "name": "stdout",
     "output_type": "stream",
     "text": [
      "{'name': 'Aditya', 'Age': 27, 'Company': 'Zensar', 'Designation': 'Data Scientist', 'Salary': 85000, 'Location': 'Pune'}\n",
      "{'name': 'Aditya', 'Age': 27, 'Company': 'Zensar', 'Designation': 'Data Scientist', 'Salary': 85000, 'Location': 'Pune'}\n"
     ]
    }
   ],
   "source": [
    "emp = employee_details.copy()\n",
    "print(emp)\n",
    "print(employee_details)"
   ]
  },
  {
   "cell_type": "code",
   "execution_count": 154,
   "id": "b9dae627",
   "metadata": {},
   "outputs": [
    {
     "name": "stdout",
     "output_type": "stream",
     "text": [
      "{'name': 'Aditya', 'Age': 27, 'Company': 'Zensar', 'Designation': 'Data Scientist', 'Salary': 85000, 'Location': 'Pune', 'Employee_ID': 'Z001'}\n",
      "{'name': 'Aditya', 'Age': 27, 'Company': 'Zensar', 'Designation': 'Data Scientist', 'Salary': 85000, 'Location': 'Pune'}\n"
     ]
    }
   ],
   "source": [
    "emp = employee_details.copy()\n",
    "emp.update({'Employee_ID': 'Z001'})\n",
    "print(emp)\n",
    "print(employee_details)"
   ]
  },
  {
   "cell_type": "code",
   "execution_count": 163,
   "id": "724aec6b",
   "metadata": {},
   "outputs": [
    {
     "name": "stdout",
     "output_type": "stream",
     "text": [
      "{'A': 65, 'B': 66, 'C': 67, 'D': 68, 'E': 69, 'F': 70, 'G': 71, 'H': 72, 'I': 73, 'J': 74, 'K': 75, 'L': 76, 'M': 77, 'N': 78, 'O': 79, 'P': 80, 'Q': 81, 'R': 82, 'S': 83, 'T': 84, 'U': 85, 'V': 86, 'W': 87, 'X': 88, 'Y': 89, 'Z': 90}\n"
     ]
    }
   ],
   "source": [
    "dict1 = {}\n",
    "\n",
    "for i in range(65,91):\n",
    "    dict1.update({chr(i):i}) # {chr(65):65} {'A':65}\n",
    "\n",
    "print(dict1)"
   ]
  },
  {
   "cell_type": "code",
   "execution_count": 178,
   "id": "d9492d28",
   "metadata": {},
   "outputs": [
    {
     "name": "stdout",
     "output_type": "stream",
     "text": [
      "{65: 'A', 66: 'B', 67: 'C', 68: 'D', 69: 'E', 70: 'F', 71: 'G', 72: 'H', 73: 'I', 74: 'J', 75: 'K', 76: 'L', 77: 'M', 78: 'N', 79: 'O', 80: 'P', 81: 'Q', 82: 'R', 83: 'S', 84: 'T', 85: 'U', 86: 'V', 87: 'W', 88: 'X', 89: 'Y', 90: 'Z'}\n"
     ]
    }
   ],
   "source": [
    "# dict1 = {'A':65, 'B':66......, 'Z':90}\n",
    "dict1={}\n",
    "for i in range(65,91):\n",
    "    dict1[i]=chr(i)\n",
    "print(dict1)\n",
    "    "
   ]
  },
  {
   "cell_type": "code",
   "execution_count": 179,
   "id": "aa918398",
   "metadata": {},
   "outputs": [
    {
     "name": "stdout",
     "output_type": "stream",
     "text": [
      "{'a': 97, 'b': 98, 'c': 99, 'd': 100, 'e': 101, 'f': 102, 'g': 103, 'h': 104, 'i': 105, 'j': 106, 'k': 107, 'l': 108, 'm': 109, 'n': 110, 'o': 111, 'p': 112, 'q': 113, 'r': 114, 's': 115, 't': 116, 'u': 117, 'v': 118, 'w': 119, 'x': 120, 'y': 121, 'z': 122}\n"
     ]
    }
   ],
   "source": [
    "dict2={}\n",
    "for i in range(97,123):\n",
    "    dict2.update({chr(i):i})\n",
    "print(dict2)"
   ]
  },
  {
   "cell_type": "code",
   "execution_count": 190,
   "id": "a78f8008",
   "metadata": {},
   "outputs": [
    {
     "name": "stdout",
     "output_type": "stream",
     "text": [
      "{1: 1, 2: 4, 3: 9, 4: 16, 5: 25, 6: 36, 7: 49, 8: 64, 9: 81, 10: 100}\n",
      "{1: 1, 2: 8, 3: 27, 4: 64, 5: 125, 6: 216, 7: 343, 8: 512, 9: 729, 10: 1000}\n"
     ]
    }
   ],
   "source": [
    "#dict3 = {1:1,2:8,...,10:1000}\n",
    "#dict4 = {1:1,2:4,....,10:100}\n",
    "dict1={}\n",
    "dict2={}\n",
    "for i in range(1,11):# 1,2,3,.....,10\n",
    "    dict1[i]=i*i # dict1[1] = 1*1\n",
    "    dict2[i]=i*i*i # dict2[1]= 1*1*1\n",
    "print(dict1)\n",
    "print(dict2)"
   ]
  },
  {
   "cell_type": "code",
   "execution_count": 195,
   "id": "5daf1acc",
   "metadata": {},
   "outputs": [
    {
     "name": "stdout",
     "output_type": "stream",
     "text": [
      "{1: 1, 2: 4, 3: 9, 4: 16, 5: 25, 6: 36, 7: 49, 8: 64, 9: 81, 10: 100}\n"
     ]
    }
   ],
   "source": [
    "dict1 = {}\n",
    "for i in  range(1,11):\n",
    "    dict1.update({i:i**2})\n",
    "print(dict1)"
   ]
  },
  {
   "cell_type": "code",
   "execution_count": 196,
   "id": "6bbf8b1b",
   "metadata": {},
   "outputs": [
    {
     "name": "stdout",
     "output_type": "stream",
     "text": [
      "{1: 1, 2: 4, 3: 9, 4: 16, 5: 25, 6: 36, 7: 49, 8: 64, 9: 81, 10: 100}\n"
     ]
    }
   ],
   "source": [
    "dict1 = {}\n",
    "for i in  range(1,11):\n",
    "    dict1.update({i:i*i})\n",
    "print(dict1)"
   ]
  },
  {
   "cell_type": "code",
   "execution_count": 197,
   "id": "243557af",
   "metadata": {},
   "outputs": [
    {
     "name": "stdout",
     "output_type": "stream",
     "text": [
      "{1: 1, 2: 8, 3: 27, 4: 64, 5: 125, 6: 216, 7: 343, 8: 512, 9: 729, 10: 1000}\n"
     ]
    }
   ],
   "source": [
    "dict1 = {}\n",
    "for i in  range(1,11):\n",
    "    dict1.update({i:i*i*i})\n",
    "print(dict1)"
   ]
  },
  {
   "cell_type": "code",
   "execution_count": 198,
   "id": "2b2cdca6",
   "metadata": {},
   "outputs": [
    {
     "name": "stdout",
     "output_type": "stream",
     "text": [
      "{1: 1, 2: 8, 3: 27, 4: 64, 5: 125, 6: 216, 7: 343, 8: 512, 9: 729, 10: 1000}\n"
     ]
    }
   ],
   "source": [
    "dict1 = {}\n",
    "for i in  range(1,11):\n",
    "    dict1.update({i:i**3})\n",
    "print(dict1)"
   ]
  },
  {
   "cell_type": "code",
   "execution_count": 199,
   "id": "6cc47779",
   "metadata": {},
   "outputs": [
    {
     "name": "stdout",
     "output_type": "stream",
     "text": [
      "{1: 1, 2: 8, 3: 27, 4: 64, 5: 125, 6: 216, 7: 343, 8: 512, 9: 729, 10: 1000}\n"
     ]
    }
   ],
   "source": [
    "dic={}\n",
    "for i in range(1,11):\n",
    "    b=i*i*i\n",
    "    dic[i]=b\n",
    "print(dic)"
   ]
  },
  {
   "cell_type": "code",
   "execution_count": 6,
   "id": "b15a84ed",
   "metadata": {},
   "outputs": [],
   "source": [
    "string = '''machine learning is a field of inquiry devoted to understanding and building \n",
    "methods that 'learn', that is, methods that leverage data to improve performance on some set of tasks. \n",
    "It is seen as a part of artificial intelllst1igence. We are learning machine learning '''"
   ]
  },
  {
   "cell_type": "code",
   "execution_count": 10,
   "id": "34ac7837",
   "metadata": {},
   "outputs": [
    {
     "name": "stdout",
     "output_type": "stream",
     "text": [
      "{'machine': 2, 'learning': 3, 'is': 2, 'a': 2, 'field': 1, 'of': 3, 'inquiry': 1, 'devoted': 1, 'to': 2, 'understanding': 1, 'and': 1, 'building': 1, 'methods': 2, 'that': 3, \"'learn',\": 1, 'is,': 1, 'leverage': 1, 'data': 1, 'improve': 1, 'performance': 1, 'on': 1, 'some': 1, 'set': 1, 'tasks.': 1, 'It': 1, 'seen': 1, 'as': 1, 'part': 1, 'artificial': 1, 'intelllst1igence.': 1, 'We': 1, 'are': 1}\n"
     ]
    }
   ],
   "source": [
    "lst1=string.split()\n",
    "dict1={}\n",
    "for i in lst1:\n",
    "    dict1.update({i:lst1.count(i)})\n",
    "lst1=' '.join(lst1)\n",
    "print(dict1)"
   ]
  },
  {
   "cell_type": "code",
   "execution_count": 214,
   "id": "e67cc0c2",
   "metadata": {},
   "outputs": [
    {
     "data": {
      "text/plain": [
       "str"
      ]
     },
     "execution_count": 214,
     "metadata": {},
     "output_type": "execute_result"
    }
   ],
   "source": [
    "type(lst1)"
   ]
  },
  {
   "cell_type": "code",
   "execution_count": 215,
   "id": "85dc1e5b",
   "metadata": {},
   "outputs": [
    {
     "name": "stdout",
     "output_type": "stream",
     "text": [
      "{'machine': 2, 'learning': 3, 'is': 2, 'a': 2, 'field': 1, 'of': 3, 'inquiry': 1, 'devoted': 1, 'to': 2, 'understanding': 1, 'and': 1, 'building': 1, 'methods': 2, 'that': 3, \"'learn',\": 1, 'is,': 1, 'leverage': 1, 'data': 1, 'improve': 1, 'performance': 1, 'on': 1, 'some': 1, 'set': 1, 'tasks.': 1, 'It': 1, 'seen': 1, 'as': 1, 'part': 1, 'artificial': 1, 'intelllst1igence.': 1, 'We': 1, 'are': 1}\n"
     ]
    }
   ],
   "source": [
    "lst1=string.split()\n",
    "dict1={}\n",
    "for i in lst1:\n",
    "    dict1.update({i:lst1.count(i)})\n",
    "print(dict1)"
   ]
  },
  {
   "cell_type": "code",
   "execution_count": 216,
   "id": "d8cde593",
   "metadata": {},
   "outputs": [
    {
     "data": {
      "text/plain": [
       "list"
      ]
     },
     "execution_count": 216,
     "metadata": {},
     "output_type": "execute_result"
    }
   ],
   "source": [
    "type(lst1)"
   ]
  },
  {
   "cell_type": "markdown",
   "id": "9aeffa7c",
   "metadata": {},
   "source": [
    "# zip()"
   ]
  },
  {
   "cell_type": "raw",
   "id": "65322abc",
   "metadata": {},
   "source": [
    "syntax >> dict(zip(key variable,values variable))"
   ]
  },
  {
   "cell_type": "code",
   "execution_count": 1,
   "id": "2212fa11",
   "metadata": {},
   "outputs": [],
   "source": [
    "name = ['Amit','Akshay','Aryan','Abhijeet']\n",
    "marks = [95,96,94,92]\n",
    "# {'Amit':95,'Akshay':96,'Aryan':94,'Abhijeet':92}"
   ]
  },
  {
   "cell_type": "code",
   "execution_count": 2,
   "id": "f28939e1",
   "metadata": {},
   "outputs": [
    {
     "data": {
      "text/plain": [
       "{'Amit': 95, 'Akshay': 96, 'Aryan': 94, 'Abhijeet': 92}"
      ]
     },
     "execution_count": 2,
     "metadata": {},
     "output_type": "execute_result"
    }
   ],
   "source": [
    "name = ['Amit','Akshay','Aryan','Abhijeet']\n",
    "marks = [95,96,94,92]\n",
    "dict1 = {}\n",
    "for i in range(len(name)):\n",
    "    dict1.update({name[i]:marks[i]})\n",
    "dict1"
   ]
  },
  {
   "cell_type": "code",
   "execution_count": 5,
   "id": "97e79f20",
   "metadata": {},
   "outputs": [
    {
     "data": {
      "text/plain": [
       "{'Amit': 95, 'Akshay': 96, 'Aryan': 94, 'Abhijeet': 92}"
      ]
     },
     "execution_count": 5,
     "metadata": {},
     "output_type": "execute_result"
    }
   ],
   "source": [
    "dict(zip(name,marks))"
   ]
  },
  {
   "cell_type": "code",
   "execution_count": 7,
   "id": "f427ed81",
   "metadata": {},
   "outputs": [],
   "source": [
    "name = ['Amit','Akshay','Aryan','Abhijeet','Pankaj']#5\n",
    "marks1 = [95,96,94,92] # 4"
   ]
  },
  {
   "cell_type": "code",
   "execution_count": 8,
   "id": "15cdda70",
   "metadata": {},
   "outputs": [
    {
     "data": {
      "text/plain": [
       "{'Amit': 95, 'Akshay': 96, 'Aryan': 94, 'Abhijeet': 92}"
      ]
     },
     "execution_count": 8,
     "metadata": {},
     "output_type": "execute_result"
    }
   ],
   "source": [
    "dict(zip(name,marks1))"
   ]
  },
  {
   "cell_type": "code",
   "execution_count": 9,
   "id": "77bc4294",
   "metadata": {},
   "outputs": [],
   "source": [
    "name = ['Amit','Akshay','Aryan','Abhijeet']#4\n",
    "marks1 = [95,96,94,92,90] # 5"
   ]
  },
  {
   "cell_type": "code",
   "execution_count": 10,
   "id": "1324a8d8",
   "metadata": {},
   "outputs": [
    {
     "data": {
      "text/plain": [
       "{'Amit': 95, 'Akshay': 96, 'Aryan': 94, 'Abhijeet': 92}"
      ]
     },
     "execution_count": 10,
     "metadata": {},
     "output_type": "execute_result"
    }
   ],
   "source": [
    "dict(zip(name,marks1))"
   ]
  },
  {
   "cell_type": "markdown",
   "id": "40e4cc5b",
   "metadata": {},
   "source": [
    "# dictionary sorting"
   ]
  },
  {
   "cell_type": "markdown",
   "id": "b51df617",
   "metadata": {},
   "source": [
    "## 1.sorting by keys()"
   ]
  },
  {
   "cell_type": "code",
   "execution_count": 1,
   "id": "01065752",
   "metadata": {},
   "outputs": [
    {
     "data": {
      "text/plain": [
       "{'Math': 95, 'Phy': 80, 'Che': 85, 'Bio': 90, 'Eng': 84}"
      ]
     },
     "execution_count": 1,
     "metadata": {},
     "output_type": "execute_result"
    }
   ],
   "source": [
    "sub_marks = {'Math':95, 'Phy':80, 'Che':85, 'Bio':90, 'Eng':84}\n",
    "sub_marks"
   ]
  },
  {
   "cell_type": "code",
   "execution_count": 2,
   "id": "3e666ff6",
   "metadata": {},
   "outputs": [
    {
     "name": "stdout",
     "output_type": "stream",
     "text": [
      "{'Bio': 90}\n",
      "{'Bio': 90, 'Che': 85}\n",
      "{'Bio': 90, 'Che': 85, 'Eng': 84}\n",
      "{'Bio': 90, 'Che': 85, 'Eng': 84, 'Math': 95}\n",
      "{'Bio': 90, 'Che': 85, 'Eng': 84, 'Math': 95, 'Phy': 80}\n"
     ]
    }
   ],
   "source": [
    "sub_marks = {'Math':95, 'Phy':80, 'Che':85, 'Bio':90, 'Eng':84}\n",
    "result = {}\n",
    "sorted(sub_marks.keys())\n",
    "for i in sorted(sub_marks.keys()):\n",
    "    result.update({i :sub_marks[i]})\n",
    "    print(result)"
   ]
  },
  {
   "cell_type": "code",
   "execution_count": 5,
   "id": "a72e0f89",
   "metadata": {},
   "outputs": [
    {
     "name": "stdout",
     "output_type": "stream",
     "text": [
      "{'Marks': 95, 'Place': 'Pune', 'age': 24, 'name': 'Arti'}\n"
     ]
    }
   ],
   "source": [
    "dict2 = {'name':'Arti', 'age':24, 'Marks':95, 'Place':'Pune'}\n",
    "dict3={}\n",
    "a=sorted(dict2.keys())\n",
    "for i in a:\n",
    "    dict3.update({i:dict2[i]})\n",
    "print(dict3)"
   ]
  },
  {
   "cell_type": "code",
   "execution_count": 6,
   "id": "24580fa3",
   "metadata": {},
   "outputs": [
    {
     "name": "stdout",
     "output_type": "stream",
     "text": [
      "{'age': 24, 'marks': 95, 'name': 'Arti', 'place': 'Pune'}\n"
     ]
    }
   ],
   "source": [
    "dict2 = {'name':'Arti', 'age':24, 'marks':95, 'place':'Pune'}\n",
    "dict3={}\n",
    "dict2.keys()\n",
    "a=sorted(dict2.keys())\n",
    "for i in a:\n",
    "    dict3.update({i:dict2[i]})\n",
    "print(dict3)"
   ]
  },
  {
   "cell_type": "markdown",
   "id": "0af5108e",
   "metadata": {},
   "source": [
    "## 2.sorting by values"
   ]
  },
  {
   "cell_type": "code",
   "execution_count": 21,
   "id": "51581bf6",
   "metadata": {},
   "outputs": [
    {
     "name": "stdout",
     "output_type": "stream",
     "text": [
      "{'Phy': 80, 'Eng': 84, 'Che': 85, 'Bio': 90, 'Math': 95}\n"
     ]
    }
   ],
   "source": [
    "sub_marks = {'Math':95, 'Phy':80, 'Che':85, 'Bio':90, 'Eng':84}\n",
    "Result = {}\n",
    "for marks in sorted(sub_marks.values()): #[80, 84, 85, 90, 95]\n",
    "    for sub in sub_marks:\n",
    "        if marks == sub_marks[sub]: # 80 == 95, 80 == 80\n",
    "            Result.update({sub : marks})\n",
    "print(Result)"
   ]
  },
  {
   "cell_type": "code",
   "execution_count": 28,
   "id": "0c1c2fbd",
   "metadata": {},
   "outputs": [
    {
     "ename": "TypeError",
     "evalue": "'<' not supported between instances of 'int' and 'str'",
     "output_type": "error",
     "traceback": [
      "\u001b[1;31m---------------------------------------------------------------------------\u001b[0m",
      "\u001b[1;31mTypeError\u001b[0m                                 Traceback (most recent call last)",
      "Input \u001b[1;32mIn [28]\u001b[0m, in \u001b[0;36m<cell line: 4>\u001b[1;34m()\u001b[0m\n\u001b[0;32m      2\u001b[0m dict3\u001b[38;5;241m=\u001b[39m{}\n\u001b[0;32m      3\u001b[0m a\u001b[38;5;241m=\u001b[39mdict2\u001b[38;5;241m.\u001b[39mvalues()\n\u001b[1;32m----> 4\u001b[0m b\u001b[38;5;241m=\u001b[39m\u001b[38;5;28;43msorted\u001b[39;49m\u001b[43m(\u001b[49m\u001b[43ma\u001b[49m\u001b[43m)\u001b[49m\n\u001b[0;32m      5\u001b[0m \u001b[38;5;28;01mfor\u001b[39;00m i \u001b[38;5;129;01min\u001b[39;00m b:\n\u001b[0;32m      6\u001b[0m     \u001b[38;5;28;01mfor\u001b[39;00m j \u001b[38;5;129;01min\u001b[39;00m dict2:\n",
      "\u001b[1;31mTypeError\u001b[0m: '<' not supported between instances of 'int' and 'str'"
     ]
    }
   ],
   "source": [
    "dict2 = {'name':'Arti', 'age':24, 'marks':95, 'place':'Pune'}\n",
    "dict3={}\n",
    "a=dict2.values()\n",
    "b=sorted(a)\n",
    "for i in b:\n",
    "    for j in dict2:\n",
    "        if i==dict2[j]:\n",
    "            dict3.update({j:i})\n",
    "print(dict3)"
   ]
  },
  {
   "cell_type": "code",
   "execution_count": 29,
   "id": "193601ad",
   "metadata": {},
   "outputs": [
    {
     "name": "stdout",
     "output_type": "stream",
     "text": [
      "{'name': -2, 'place': 0.5, 'age': 24, 'marks': 95}\n"
     ]
    }
   ],
   "source": [
    "dict2 = {'name':-2, 'age':24, 'marks':95, 'place':0.5}\n",
    "dict3={}\n",
    "b=sorted(dict2.values())\n",
    "for i in b:\n",
    "    for j in dict2:\n",
    "        if i==dict2[j]:\n",
    "            dict3.update({j:i})\n",
    "print(dict3)"
   ]
  },
  {
   "cell_type": "code",
   "execution_count": null,
   "id": "a9fefdf6",
   "metadata": {},
   "outputs": [],
   "source": []
  }
 ],
 "metadata": {
  "kernelspec": {
   "display_name": "Python 3 (ipykernel)",
   "language": "python",
   "name": "python3"
  },
  "language_info": {
   "codemirror_mode": {
    "name": "ipython",
    "version": 3
   },
   "file_extension": ".py",
   "mimetype": "text/x-python",
   "name": "python",
   "nbconvert_exporter": "python",
   "pygments_lexer": "ipython3",
   "version": "3.9.12"
  }
 },
 "nbformat": 4,
 "nbformat_minor": 5
}
