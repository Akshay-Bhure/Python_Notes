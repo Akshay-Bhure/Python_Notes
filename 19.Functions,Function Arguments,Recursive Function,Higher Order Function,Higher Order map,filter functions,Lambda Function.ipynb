{
 "cells": [
  {
   "cell_type": "markdown",
   "id": "6e927b08",
   "metadata": {},
   "source": [
    "# Functions"
   ]
  },
  {
   "cell_type": "raw",
   "id": "60db3c5d",
   "metadata": {},
   "source": [
    "Functions:\n",
    " \n",
    "There are two types of functions\n",
    "1. inbuilt functions e.g. min, max, sum, del, len,sorted,reveresed.\n",
    "2. user defined functions.\n",
    "\n",
    "Functions:\n",
    "    Function is a block of code that can call or we can use wherever we want to use. \n",
    "    Functions are organized block of codes which are reusable.\n",
    "    It will execute only when we do call it.\n",
    "    \n",
    "Declaration/we write a function/we create a function\n",
    "calling of a function/ using a function."
   ]
  },
  {
   "cell_type": "markdown",
   "id": "117fec81",
   "metadata": {},
   "source": [
    "# Syntax"
   ]
  },
  {
   "cell_type": "markdown",
   "id": "48777d5c",
   "metadata": {},
   "source": [
    "def function_name(parameters/Arguments): # defining a function \n",
    "    \n",
    "    block of code    # block of code\n",
    "    \n",
    "    return           # optional we can use return only one time\n",
    "\n",
    "function_name(parameters/Arguments)      # Calling the function to make a use of it."
   ]
  },
  {
   "cell_type": "raw",
   "id": "ed63a16c",
   "metadata": {},
   "source": [
    "def keyword is used to define a function."
   ]
  },
  {
   "cell_type": "code",
   "execution_count": 1,
   "id": "3b0d9500",
   "metadata": {},
   "outputs": [],
   "source": [
    "def func():\n",
    "    print('We are learning user define functions')\n",
    "    return 'Hello Everyone'"
   ]
  },
  {
   "cell_type": "code",
   "execution_count": 2,
   "id": "f5adcd33",
   "metadata": {},
   "outputs": [
    {
     "name": "stdout",
     "output_type": "stream",
     "text": [
      "We are learning user define functions\n"
     ]
    }
   ],
   "source": [
    "print('We are learning user define functions')"
   ]
  },
  {
   "cell_type": "code",
   "execution_count": 10,
   "id": "11b5cd34",
   "metadata": {},
   "outputs": [
    {
     "ename": "SyntaxError",
     "evalue": "'return' outside function (3438313781.py, line 1)",
     "output_type": "error",
     "traceback": [
      "\u001b[1;36m  Input \u001b[1;32mIn [10]\u001b[1;36m\u001b[0m\n\u001b[1;33m    return\u001b[0m\n\u001b[1;37m    ^\u001b[0m\n\u001b[1;31mSyntaxError\u001b[0m\u001b[1;31m:\u001b[0m 'return' outside function\n"
     ]
    }
   ],
   "source": [
    "return"
   ]
  },
  {
   "cell_type": "code",
   "execution_count": 11,
   "id": "9ba52c99",
   "metadata": {},
   "outputs": [
    {
     "name": "stdout",
     "output_type": "stream",
     "text": [
      "We are learning user define functions\n"
     ]
    },
    {
     "data": {
      "text/plain": [
       "'Hello Everyone'"
      ]
     },
     "execution_count": 11,
     "metadata": {},
     "output_type": "execute_result"
    }
   ],
   "source": [
    "func()"
   ]
  },
  {
   "cell_type": "code",
   "execution_count": 12,
   "id": "b4281eb5",
   "metadata": {},
   "outputs": [
    {
     "data": {
      "text/plain": [
       "<function __main__.func()>"
      ]
     },
     "execution_count": 12,
     "metadata": {},
     "output_type": "execute_result"
    }
   ],
   "source": [
    "func"
   ]
  },
  {
   "cell_type": "code",
   "execution_count": 13,
   "id": "8469af55",
   "metadata": {},
   "outputs": [
    {
     "ename": "SyntaxError",
     "evalue": "invalid syntax (2883378984.py, line 3)",
     "output_type": "error",
     "traceback": [
      "\u001b[1;36m  Input \u001b[1;32mIn [13]\u001b[1;36m\u001b[0m\n\u001b[1;33m    return Hello Everyone\u001b[0m\n\u001b[1;37m                 ^\u001b[0m\n\u001b[1;31mSyntaxError\u001b[0m\u001b[1;31m:\u001b[0m invalid syntax\n"
     ]
    }
   ],
   "source": [
    "def func():\n",
    "    print('We are learning user define functions')\n",
    "    return Hello Everyone"
   ]
  },
  {
   "cell_type": "code",
   "execution_count": 14,
   "id": "cd1e2be9",
   "metadata": {},
   "outputs": [
    {
     "name": "stdout",
     "output_type": "stream",
     "text": [
      "We are learning user define functions\n"
     ]
    },
    {
     "data": {
      "text/plain": [
       "'Hello Everyone'"
      ]
     },
     "execution_count": 14,
     "metadata": {},
     "output_type": "execute_result"
    }
   ],
   "source": [
    "func()"
   ]
  },
  {
   "cell_type": "code",
   "execution_count": 15,
   "id": "88599371",
   "metadata": {},
   "outputs": [
    {
     "name": "stdout",
     "output_type": "stream",
     "text": [
      "Linear Regression is a supervised ML algorithm\n",
      "KNN is a distance based algorithm\n",
      "We are in func1\n"
     ]
    }
   ],
   "source": [
    "def func1():\n",
    "    print('We are in func1')\n",
    "    \n",
    "def Linear_regression():\n",
    "    print('Linear Regression is a supervised ML algorithm')\n",
    "    \n",
    "def Knn_Classifier():\n",
    "    print('KNN is a distance based algorithm')\n",
    "    \n",
    "Linear_regression()\n",
    "Knn_Classifier()\n",
    "func1()"
   ]
  },
  {
   "cell_type": "code",
   "execution_count": 16,
   "id": "44a8db2e",
   "metadata": {},
   "outputs": [
    {
     "data": {
      "text/plain": [
       "'dadus come'"
      ]
     },
     "execution_count": 16,
     "metadata": {},
     "output_type": "execute_result"
    }
   ],
   "source": [
    "def fun1():\n",
    "    return 'dadus come'\n",
    "def fun2():\n",
    "    return('dadus come back')\n",
    "def fun3():\n",
    "    return('dadus come back return')\n",
    "fun2()\n",
    "fun2()\n",
    "fun1()"
   ]
  },
  {
   "cell_type": "code",
   "execution_count": 17,
   "id": "e09853d6",
   "metadata": {},
   "outputs": [
    {
     "data": {
      "text/plain": [
       "'dadus come'"
      ]
     },
     "execution_count": 17,
     "metadata": {},
     "output_type": "execute_result"
    }
   ],
   "source": [
    "fun1()"
   ]
  },
  {
   "cell_type": "code",
   "execution_count": 18,
   "id": "63c45e48",
   "metadata": {},
   "outputs": [
    {
     "data": {
      "text/plain": [
       "'dadus come back'"
      ]
     },
     "execution_count": 18,
     "metadata": {},
     "output_type": "execute_result"
    }
   ],
   "source": [
    "fun2()"
   ]
  },
  {
   "cell_type": "code",
   "execution_count": 19,
   "id": "c081086e",
   "metadata": {},
   "outputs": [
    {
     "data": {
      "text/plain": [
       "'dadus come back return'"
      ]
     },
     "execution_count": 19,
     "metadata": {},
     "output_type": "execute_result"
    }
   ],
   "source": [
    "fun3()"
   ]
  },
  {
   "cell_type": "code",
   "execution_count": 20,
   "id": "93a8b2e6",
   "metadata": {},
   "outputs": [
    {
     "name": "stdout",
     "output_type": "stream",
     "text": [
      "dadus come\n",
      "dadus come back\n",
      "dadus come back return\n"
     ]
    }
   ],
   "source": [
    "def fun1():\n",
    "    print('dadus come')\n",
    "def fun2():\n",
    "    print('dadus come back')\n",
    "def fun3():\n",
    "    print('dadus come back return')\n",
    "fun1()\n",
    "fun2()\n",
    "fun3()"
   ]
  },
  {
   "cell_type": "code",
   "execution_count": 21,
   "id": "4f6264e4",
   "metadata": {},
   "outputs": [
    {
     "name": "stdout",
     "output_type": "stream",
     "text": [
      "factorial of 5 is 1\n",
      "factorial of 5 is 2\n",
      "factorial of 5 is 6\n",
      "factorial of 5 is 24\n",
      "factorial of 5 is 120\n"
     ]
    }
   ],
   "source": [
    "num=5\n",
    "fact=1\n",
    "for i in range(1,num+1):\n",
    "    fact=fact*i\n",
    "    print(f'factorial of {num} is {fact}')"
   ]
  },
  {
   "cell_type": "code",
   "execution_count": 22,
   "id": "ef1017b5",
   "metadata": {},
   "outputs": [
    {
     "name": "stdout",
     "output_type": "stream",
     "text": [
      "Factorial of 5 is 120\n"
     ]
    }
   ],
   "source": [
    "num = 5\n",
    "fact = 1\n",
    "if num < 0:\n",
    "    print('Factorial is not for this number')\n",
    "else:\n",
    "    for i in range(1,num+1):\n",
    "        fact= fact*i \n",
    "    print(f'Factorial of {num} is {fact}')"
   ]
  },
  {
   "cell_type": "code",
   "execution_count": 3,
   "id": "7cd15218",
   "metadata": {},
   "outputs": [],
   "source": [
    "def factorial_num(num):\n",
    "    fact = 1\n",
    "    if num < 0:\n",
    "        print('Factorial is not for this number')\n",
    "    else:\n",
    "        for i in range(1,num+1):\n",
    "            fact= fact*i \n",
    "        print(f'Factorial of {num} is {fact}')"
   ]
  },
  {
   "cell_type": "code",
   "execution_count": 4,
   "id": "68d2e961",
   "metadata": {},
   "outputs": [
    {
     "name": "stdout",
     "output_type": "stream",
     "text": [
      "Factorial of 5 is 120\n",
      "Factorial of 4 is 24\n",
      "Factorial of 6 is 720\n"
     ]
    }
   ],
   "source": [
    "factorial_num(5)\n",
    "factorial_num(4)\n",
    "factorial_num(6)"
   ]
  },
  {
   "cell_type": "code",
   "execution_count": 25,
   "id": "79c7ddba",
   "metadata": {},
   "outputs": [
    {
     "name": "stdout",
     "output_type": "stream",
     "text": [
      "Factorial of 8 is 40320\n"
     ]
    }
   ],
   "source": [
    "factorial_num(8)"
   ]
  },
  {
   "cell_type": "code",
   "execution_count": 26,
   "id": "aefeeac4",
   "metadata": {},
   "outputs": [
    {
     "name": "stdout",
     "output_type": "stream",
     "text": [
      "Factorial of 9 is 362880\n"
     ]
    }
   ],
   "source": [
    "num=9\n",
    "factorial_num(num)"
   ]
  },
  {
   "cell_type": "code",
   "execution_count": 27,
   "id": "47634541",
   "metadata": {},
   "outputs": [
    {
     "name": "stdout",
     "output_type": "stream",
     "text": [
      "Factorial of 9 is 362880\n"
     ]
    }
   ],
   "source": [
    "num=9\n",
    "factorial_num(9)"
   ]
  },
  {
   "cell_type": "code",
   "execution_count": 28,
   "id": "b00df58a",
   "metadata": {},
   "outputs": [
    {
     "name": "stdout",
     "output_type": "stream",
     "text": [
      "Factorial of 10 is 3628800\n"
     ]
    }
   ],
   "source": [
    "num=9\n",
    "factorial_num(10)"
   ]
  },
  {
   "cell_type": "code",
   "execution_count": 29,
   "id": "64cb5c69",
   "metadata": {},
   "outputs": [
    {
     "ename": "SyntaxError",
     "evalue": "invalid syntax (3333803198.py, line 1)",
     "output_type": "error",
     "traceback": [
      "\u001b[1;36m  Input \u001b[1;32mIn [29]\u001b[1;36m\u001b[0m\n\u001b[1;33m    def factorial_num('9'):\u001b[0m\n\u001b[1;37m                      ^\u001b[0m\n\u001b[1;31mSyntaxError\u001b[0m\u001b[1;31m:\u001b[0m invalid syntax\n"
     ]
    }
   ],
   "source": [
    "def factorial_num('9'):\n",
    "    fact = 1\n",
    "    if num < 0:\n",
    "        print('Factorial is not for this number')\n",
    "    else:\n",
    "        for i in range(1,num+1):\n",
    "            fact= fact*i \n",
    "        print(f'Factorial of {num} is {fact}')"
   ]
  },
  {
   "cell_type": "code",
   "execution_count": 30,
   "id": "badd8d77",
   "metadata": {},
   "outputs": [
    {
     "ename": "SyntaxError",
     "evalue": "invalid syntax (1314025296.py, line 1)",
     "output_type": "error",
     "traceback": [
      "\u001b[1;36m  Input \u001b[1;32mIn [30]\u001b[1;36m\u001b[0m\n\u001b[1;33m    def factorial_num(9):\u001b[0m\n\u001b[1;37m                      ^\u001b[0m\n\u001b[1;31mSyntaxError\u001b[0m\u001b[1;31m:\u001b[0m invalid syntax\n"
     ]
    }
   ],
   "source": [
    "def factorial_num(9):\n",
    "    fact = 1\n",
    "    if num < 0:\n",
    "        print('Factorial is not for this number')\n",
    "    else:\n",
    "        for i in range(1,num+1):\n",
    "            fact= fact*i \n",
    "        print(f'Factorial of {num} is {fact}')"
   ]
  },
  {
   "cell_type": "code",
   "execution_count": 5,
   "id": "335cdb6b",
   "metadata": {},
   "outputs": [
    {
     "ename": "NameError",
     "evalue": "name 'num' is not defined",
     "output_type": "error",
     "traceback": [
      "\u001b[1;31m---------------------------------------------------------------------------\u001b[0m",
      "\u001b[1;31mNameError\u001b[0m                                 Traceback (most recent call last)",
      "Input \u001b[1;32mIn [5]\u001b[0m, in \u001b[0;36m<cell line: 8>\u001b[1;34m()\u001b[0m\n\u001b[0;32m      6\u001b[0m         \u001b[38;5;28;01mfor\u001b[39;00m i \u001b[38;5;129;01min\u001b[39;00m \u001b[38;5;28mrange\u001b[39m(\u001b[38;5;241m1\u001b[39m,num\u001b[38;5;241m+\u001b[39m\u001b[38;5;241m1\u001b[39m):\n\u001b[0;32m      7\u001b[0m             fact\u001b[38;5;241m=\u001b[39m fact\u001b[38;5;241m*\u001b[39mi \n\u001b[1;32m----> 8\u001b[0m \u001b[38;5;28mprint\u001b[39m(\u001b[38;5;124mf\u001b[39m\u001b[38;5;124m'\u001b[39m\u001b[38;5;124mFactorial of \u001b[39m\u001b[38;5;132;01m{\u001b[39;00mnum\u001b[38;5;132;01m}\u001b[39;00m\u001b[38;5;124m is \u001b[39m\u001b[38;5;132;01m{\u001b[39;00mfact\u001b[38;5;132;01m}\u001b[39;00m\u001b[38;5;124m'\u001b[39m)\n",
      "\u001b[1;31mNameError\u001b[0m: name 'num' is not defined"
     ]
    }
   ],
   "source": [
    "def factorial_num(num):\n",
    "    fact = 1\n",
    "    if num < 0:\n",
    "        print('Factorial is not for this number')\n",
    "    else:\n",
    "        for i in range(1,num+1):\n",
    "            fact= fact*i \n",
    "print(f'Factorial of {num} is {fact}') # print statement outside the function that is why asking num is not difined"
   ]
  },
  {
   "cell_type": "code",
   "execution_count": 3,
   "id": "93624748",
   "metadata": {},
   "outputs": [
    {
     "name": "stdout",
     "output_type": "stream",
     "text": [
      "Factorial of 10 is 1\n"
     ]
    }
   ],
   "source": [
    "num=10\n",
    "def factorial_num(num):\n",
    "    fact=1\n",
    "    if num < 0:\n",
    "        print('Factorial is not for this number')\n",
    "    else:\n",
    "        for i in range(1,num+1):\n",
    "            fact= fact*i \n",
    "print(f'Factorial of {num} is {fact}')"
   ]
  },
  {
   "cell_type": "code",
   "execution_count": 4,
   "id": "02bd6ed6",
   "metadata": {},
   "outputs": [
    {
     "name": "stdout",
     "output_type": "stream",
     "text": [
      "Factorial of 10 is 1\n"
     ]
    }
   ],
   "source": [
    "def factorial_num(num):\n",
    "    num=10\n",
    "    fact=1\n",
    "    if num < 0:\n",
    "        print('Factorial is not for this number')\n",
    "    else:\n",
    "        for i in range(1,num+1):\n",
    "            fact= fact*i \n",
    "print(f'Factorial of {num} is {fact}')"
   ]
  },
  {
   "cell_type": "code",
   "execution_count": 32,
   "id": "7ec0eb0e",
   "metadata": {},
   "outputs": [
    {
     "name": "stdout",
     "output_type": "stream",
     "text": [
      "Factorial of 10 is 1\n"
     ]
    }
   ],
   "source": [
    "num=10\n",
    "fact=1\n",
    "def factorial_num(num):\n",
    "    if num < 0:\n",
    "        print('Factorial is not for this number')\n",
    "    else:\n",
    "        for i in range(1,num+1):\n",
    "            fact= fact*i \n",
    "print(f'Factorial of {num} is {fact}')"
   ]
  },
  {
   "cell_type": "code",
   "execution_count": 33,
   "id": "ed2bc0ed",
   "metadata": {},
   "outputs": [
    {
     "name": "stdout",
     "output_type": "stream",
     "text": [
      "multiplication of 10 is 3628800\n"
     ]
    }
   ],
   "source": [
    "num=10\n",
    "mul=1\n",
    "for i in range(1,num+1):\n",
    "    mul=mul*i\n",
    "print('multiplication of {} is {}'.format(num,mul))"
   ]
  },
  {
   "cell_type": "code",
   "execution_count": 34,
   "id": "89b4aaf0",
   "metadata": {},
   "outputs": [
    {
     "name": "stdout",
     "output_type": "stream",
     "text": [
      "multiplication of 10 is 3628800\n"
     ]
    }
   ],
   "source": [
    "def muliplication_num(num):\n",
    "    mul=1\n",
    "    for i in range(1,num+1):\n",
    "        mul=mul*i\n",
    "print('multiplication of {} is {}'.format(num,mul))"
   ]
  },
  {
   "cell_type": "code",
   "execution_count": 35,
   "id": "22256b6a",
   "metadata": {},
   "outputs": [],
   "source": [
    "def muliplication_num(num):\n",
    "    mul=1\n",
    "    for i in range(1,num+1):\n",
    "        mul=mul*i\n",
    "    print(f'multiplication of {num} is {mul}')"
   ]
  },
  {
   "cell_type": "code",
   "execution_count": 36,
   "id": "f8f1aebd",
   "metadata": {},
   "outputs": [
    {
     "name": "stdout",
     "output_type": "stream",
     "text": [
      "multiplication of 5 is 120\n"
     ]
    }
   ],
   "source": [
    "muliplication_num(5)"
   ]
  },
  {
   "cell_type": "code",
   "execution_count": 37,
   "id": "d3d02060",
   "metadata": {},
   "outputs": [],
   "source": [
    "def muliplication_num(num):\n",
    "    mul=1\n",
    "    for i in range(1,num+1):\n",
    "        mul=mul*i\n",
    "    print('multiplication of {} is {}'.format(num,mul))"
   ]
  },
  {
   "cell_type": "code",
   "execution_count": 38,
   "id": "61a85f6a",
   "metadata": {},
   "outputs": [
    {
     "name": "stdout",
     "output_type": "stream",
     "text": [
      "multiplication of 5 is 120\n"
     ]
    }
   ],
   "source": [
    "muliplication_num(5)"
   ]
  },
  {
   "cell_type": "code",
   "execution_count": 39,
   "id": "170f1f9b",
   "metadata": {},
   "outputs": [
    {
     "name": "stdout",
     "output_type": "stream",
     "text": [
      "multiplication of 5 is 120\n",
      "multiplication of 10 is 3628800\n",
      "multiplication of 15 is 1307674368000\n"
     ]
    }
   ],
   "source": [
    "muliplication_num(5)\n",
    "muliplication_num(10)\n",
    "muliplication_num(15)"
   ]
  },
  {
   "cell_type": "code",
   "execution_count": 40,
   "id": "fe00c1c5",
   "metadata": {},
   "outputs": [
    {
     "name": "stdout",
     "output_type": "stream",
     "text": [
      "summition of 10 is 0\n",
      "summition of 10 is 1\n",
      "summition of 10 is 3\n",
      "summition of 10 is 6\n",
      "summition of 10 is 10\n",
      "summition of 10 is 15\n",
      "summition of 10 is 21\n",
      "summition of 10 is 28\n",
      "summition of 10 is 36\n",
      "summition of 10 is 45\n",
      "summition of 10 is 55\n"
     ]
    }
   ],
   "source": [
    "num=10\n",
    "sum2=0\n",
    "for i in range(0,num+1):\n",
    "    sum2=sum2+i\n",
    "    print(f'summition of {num} is {sum2}')\n"
   ]
  },
  {
   "cell_type": "code",
   "execution_count": 14,
   "id": "865b13b9",
   "metadata": {},
   "outputs": [
    {
     "name": "stdout",
     "output_type": "stream",
     "text": [
      "summition of 10 is 55\n",
      "summition of 20 is 210\n"
     ]
    }
   ],
   "source": [
    "def addition_num(num):\n",
    "    sum2=0\n",
    "    for i in range(0,num+1):\n",
    "        sum2=sum2+i\n",
    "    print(f'summition of {num} is {sum2}')\n",
    "addition_num(10)\n",
    "addition_num(20)      "
   ]
  },
  {
   "cell_type": "code",
   "execution_count": 15,
   "id": "3b4df1db",
   "metadata": {},
   "outputs": [
    {
     "name": "stdout",
     "output_type": "stream",
     "text": [
      "summition of 100 is 5050\n"
     ]
    }
   ],
   "source": [
    "addition_num(100)"
   ]
  },
  {
   "cell_type": "code",
   "execution_count": 16,
   "id": "9cdd4145",
   "metadata": {},
   "outputs": [
    {
     "name": "stdout",
     "output_type": "stream",
     "text": [
      "summition of 15 is 120\n"
     ]
    }
   ],
   "source": [
    "num=15\n",
    "addition_num(num)"
   ]
  },
  {
   "cell_type": "code",
   "execution_count": 17,
   "id": "8b90d777",
   "metadata": {},
   "outputs": [
    {
     "name": "stdout",
     "output_type": "stream",
     "text": [
      "summition of 15 is 120\n"
     ]
    }
   ],
   "source": [
    "num=15\n",
    "addition_num(15)"
   ]
  },
  {
   "cell_type": "code",
   "execution_count": 13,
   "id": "65df802a",
   "metadata": {},
   "outputs": [],
   "source": [
    "def addition():\n",
    "    num = int(input('Enter the no : '))\n",
    "    sum2=0\n",
    "    for i in range(0,num+1):\n",
    "        sum2=sum2+i\n",
    "    print(f'summition of {num} is {sum2}')     \n",
    "    "
   ]
  },
  {
   "cell_type": "code",
   "execution_count": 14,
   "id": "c1399eed",
   "metadata": {},
   "outputs": [
    {
     "name": "stdout",
     "output_type": "stream",
     "text": [
      "Enter the no : 37\n",
      "summition of 37 is 703\n"
     ]
    }
   ],
   "source": [
    "addition()"
   ]
  },
  {
   "cell_type": "code",
   "execution_count": 15,
   "id": "b23722af",
   "metadata": {},
   "outputs": [
    {
     "name": "stdout",
     "output_type": "stream",
     "text": [
      "Enter the no : 21\n",
      "summition of 21 is 231\n"
     ]
    }
   ],
   "source": [
    "num=20\n",
    "addition()"
   ]
  },
  {
   "cell_type": "code",
   "execution_count": 8,
   "id": "b6d37803",
   "metadata": {},
   "outputs": [],
   "source": [
    "def addition(ad):\n",
    "    num = int(input('Enter the no : '))\n",
    "    sum2=0\n",
    "    for i in range(0,ad+1):\n",
    "        sum2=sum2+i\n",
    "    print(f'summition of {ad} is {sum2}')     \n",
    "    "
   ]
  },
  {
   "cell_type": "code",
   "execution_count": 9,
   "id": "3c213bbf",
   "metadata": {},
   "outputs": [
    {
     "name": "stdout",
     "output_type": "stream",
     "text": [
      "Enter the no : 38\n",
      "summition of 34 is 595\n"
     ]
    }
   ],
   "source": [
    "addition(34)"
   ]
  },
  {
   "cell_type": "code",
   "execution_count": 48,
   "id": "8d55b2c8",
   "metadata": {},
   "outputs": [],
   "source": [
    "def get_sum(seq):\n",
    "    print(\"This function is used to find the summation of the iterables\")\n",
    "    sum1 = 0\n",
    "    for i in seq:\n",
    "        sum1=sum1+i\n",
    "    return sum1"
   ]
  },
  {
   "cell_type": "code",
   "execution_count": 49,
   "id": "892e7512",
   "metadata": {},
   "outputs": [
    {
     "name": "stdout",
     "output_type": "stream",
     "text": [
      "This function is used to find the summation of the iterables\n"
     ]
    },
    {
     "data": {
      "text/plain": [
       "689"
      ]
     },
     "execution_count": 49,
     "metadata": {},
     "output_type": "execute_result"
    }
   ],
   "source": [
    "get_sum([12,23,34,456,67,88,9])"
   ]
  },
  {
   "cell_type": "code",
   "execution_count": 50,
   "id": "c0ac8859",
   "metadata": {},
   "outputs": [],
   "source": [
    "def addition(num):\n",
    "    print(f'the addition of {num} is {sum1}')\n",
    "    sum1=0\n",
    "    for i in range(num):\n",
    "        sum1=sum1+i\n",
    "    return sum1"
   ]
  },
  {
   "cell_type": "code",
   "execution_count": 51,
   "id": "29e8c15c",
   "metadata": {},
   "outputs": [
    {
     "ename": "UnboundLocalError",
     "evalue": "local variable 'sum1' referenced before assignment",
     "output_type": "error",
     "traceback": [
      "\u001b[1;31m---------------------------------------------------------------------------\u001b[0m",
      "\u001b[1;31mUnboundLocalError\u001b[0m                         Traceback (most recent call last)",
      "Input \u001b[1;32mIn [51]\u001b[0m, in \u001b[0;36m<cell line: 1>\u001b[1;34m()\u001b[0m\n\u001b[1;32m----> 1\u001b[0m \u001b[43maddition\u001b[49m\u001b[43m(\u001b[49m\u001b[43m(\u001b[49m\u001b[38;5;241;43m1\u001b[39;49m\u001b[43m,\u001b[49m\u001b[38;5;241;43m2\u001b[39;49m\u001b[43m,\u001b[49m\u001b[38;5;241;43m3\u001b[39;49m\u001b[43m,\u001b[49m\u001b[38;5;241;43m4\u001b[39;49m\u001b[43m)\u001b[49m\u001b[43m)\u001b[49m\n",
      "Input \u001b[1;32mIn [50]\u001b[0m, in \u001b[0;36maddition\u001b[1;34m(num)\u001b[0m\n\u001b[0;32m      1\u001b[0m \u001b[38;5;28;01mdef\u001b[39;00m \u001b[38;5;21maddition\u001b[39m(num):\n\u001b[1;32m----> 2\u001b[0m     \u001b[38;5;28mprint\u001b[39m(\u001b[38;5;124mf\u001b[39m\u001b[38;5;124m'\u001b[39m\u001b[38;5;124mthe addition of \u001b[39m\u001b[38;5;132;01m{\u001b[39;00mnum\u001b[38;5;132;01m}\u001b[39;00m\u001b[38;5;124m is \u001b[39m\u001b[38;5;132;01m{\u001b[39;00msum1\u001b[38;5;132;01m}\u001b[39;00m\u001b[38;5;124m'\u001b[39m)\n\u001b[0;32m      3\u001b[0m     sum1\u001b[38;5;241m=\u001b[39m\u001b[38;5;241m0\u001b[39m\n\u001b[0;32m      4\u001b[0m     \u001b[38;5;28;01mfor\u001b[39;00m i \u001b[38;5;129;01min\u001b[39;00m \u001b[38;5;28mrange\u001b[39m(num):\n",
      "\u001b[1;31mUnboundLocalError\u001b[0m: local variable 'sum1' referenced before assignment"
     ]
    }
   ],
   "source": [
    "addition((1,2,3,4))"
   ]
  },
  {
   "cell_type": "code",
   "execution_count": 52,
   "id": "825ad569",
   "metadata": {},
   "outputs": [
    {
     "data": {
      "text/plain": [
       "24"
      ]
     },
     "execution_count": 52,
     "metadata": {},
     "output_type": "execute_result"
    }
   ],
   "source": [
    "def mult(seq):\n",
    "    result=1\n",
    "    for i in seq:\n",
    "        result*=i\n",
    "    return result\n",
    "\n",
    "mult((1,2,3,4))"
   ]
  },
  {
   "cell_type": "code",
   "execution_count": 53,
   "id": "808c9216",
   "metadata": {},
   "outputs": [
    {
     "data": {
      "text/plain": [
       "945"
      ]
     },
     "execution_count": 53,
     "metadata": {},
     "output_type": "execute_result"
    }
   ],
   "source": [
    "mult((1,7,3,45))"
   ]
  },
  {
   "cell_type": "code",
   "execution_count": 54,
   "id": "b612a735",
   "metadata": {},
   "outputs": [
    {
     "name": "stdout",
     "output_type": "stream",
     "text": [
      "multiplication of seq is\n"
     ]
    },
    {
     "data": {
      "text/plain": [
       "24"
      ]
     },
     "execution_count": 54,
     "metadata": {},
     "output_type": "execute_result"
    }
   ],
   "source": [
    "def mult(seq):\n",
    "    print('multiplication of seq is')\n",
    "    result=1\n",
    "    for i in seq:\n",
    "        result*=i\n",
    "    return result\n",
    "\n",
    "mult((1,2,3,4))"
   ]
  },
  {
   "cell_type": "code",
   "execution_count": 55,
   "id": "e40c65df",
   "metadata": {},
   "outputs": [
    {
     "name": "stdout",
     "output_type": "stream",
     "text": [
      "summition of both is\n"
     ]
    },
    {
     "data": {
      "text/plain": [
       "'the addition of (1, 2, 3, 4) is 10'"
      ]
     },
     "execution_count": 55,
     "metadata": {},
     "output_type": "execute_result"
    }
   ],
   "source": [
    "def mult(seq):\n",
    "    print('summition of both is')\n",
    "    result=0\n",
    "    for i in seq:\n",
    "        result=result+i\n",
    "    return (f'the addition of {seq} is {result}')\n",
    "\n",
    "mult((1,2,3,4))"
   ]
  },
  {
   "cell_type": "code",
   "execution_count": 56,
   "id": "6910c33d",
   "metadata": {},
   "outputs": [
    {
     "name": "stdout",
     "output_type": "stream",
     "text": [
      "summition of both is\n"
     ]
    },
    {
     "data": {
      "text/plain": [
       "'the addition of (12, 34, 56, 78) is 180'"
      ]
     },
     "execution_count": 56,
     "metadata": {},
     "output_type": "execute_result"
    }
   ],
   "source": [
    "mult((12,34,56,78))"
   ]
  },
  {
   "cell_type": "code",
   "execution_count": 57,
   "id": "2b43a0af",
   "metadata": {},
   "outputs": [],
   "source": [
    "def mult_sum(seq):\n",
    "    mul = 1\n",
    "    sum1 = 0\n",
    "    for i in seq:\n",
    "        mul = mul*i\n",
    "        sum1= sum1+i\n",
    "    return f'Multiplcation of the elements in the sequence is {mul} and summation is {sum1}.'\n",
    "    print(f'the elements in the sequence are {seq} and summation is {sum1}.')"
   ]
  },
  {
   "cell_type": "code",
   "execution_count": 58,
   "id": "92620f88",
   "metadata": {},
   "outputs": [
    {
     "data": {
      "text/plain": [
       "'Multiplcation of the elements in the sequence is 1782144 and summation is 180.'"
      ]
     },
     "execution_count": 58,
     "metadata": {},
     "output_type": "execute_result"
    }
   ],
   "source": [
    "mult_sum({12,34,56,78})"
   ]
  },
  {
   "cell_type": "code",
   "execution_count": 59,
   "id": "35dafadc",
   "metadata": {},
   "outputs": [
    {
     "data": {
      "text/plain": [
       "'Multiplcation of the elements in the sequence is 1782144 and summation is 180.'"
      ]
     },
     "execution_count": 59,
     "metadata": {},
     "output_type": "execute_result"
    }
   ],
   "source": [
    "mult_sum({12,34,56,78})"
   ]
  },
  {
   "cell_type": "code",
   "execution_count": 60,
   "id": "2836a462",
   "metadata": {},
   "outputs": [
    {
     "data": {
      "text/plain": [
       "'Multiplcation of the elements in the sequence is 10080 and summation is 33.'"
      ]
     },
     "execution_count": 60,
     "metadata": {},
     "output_type": "execute_result"
    }
   ],
   "source": [
    "mult_sum([4,5,7,8,9])"
   ]
  },
  {
   "cell_type": "code",
   "execution_count": 61,
   "id": "c90e471d",
   "metadata": {},
   "outputs": [
    {
     "data": {
      "text/plain": [
       "'Multiplcation of the elements in the sequence is 806400 and summation is 49.'"
      ]
     },
     "execution_count": 61,
     "metadata": {},
     "output_type": "execute_result"
    }
   ],
   "source": [
    "list1 = [4,5,7,8,9,10,2,4]\n",
    "mult_sum(list1)"
   ]
  },
  {
   "cell_type": "code",
   "execution_count": 62,
   "id": "37fea891",
   "metadata": {},
   "outputs": [
    {
     "name": "stdout",
     "output_type": "stream",
     "text": [
      "summition of both is\n"
     ]
    },
    {
     "data": {
      "text/plain": [
       "'the addition of (12, 34, 56, 78) is 180'"
      ]
     },
     "execution_count": 62,
     "metadata": {},
     "output_type": "execute_result"
    }
   ],
   "source": [
    "mult((12,34,56,78))"
   ]
  },
  {
   "cell_type": "code",
   "execution_count": 63,
   "id": "7f3685b0",
   "metadata": {},
   "outputs": [
    {
     "name": "stdout",
     "output_type": "stream",
     "text": [
      "summition of both is\n"
     ]
    },
    {
     "data": {
      "text/plain": [
       "'the addition of [4, 5, 6, 7, 8] is 30'"
      ]
     },
     "execution_count": 63,
     "metadata": {},
     "output_type": "execute_result"
    }
   ],
   "source": [
    "a =mult([4,5,6,7,8])\n",
    "a"
   ]
  },
  {
   "cell_type": "code",
   "execution_count": 64,
   "id": "03125e33",
   "metadata": {},
   "outputs": [
    {
     "data": {
      "text/plain": [
       "'the addition of [4, 5, 6, 7, 8] is 30'"
      ]
     },
     "execution_count": 64,
     "metadata": {},
     "output_type": "execute_result"
    }
   ],
   "source": [
    "a"
   ]
  },
  {
   "cell_type": "code",
   "execution_count": 65,
   "id": "c6d476b2",
   "metadata": {},
   "outputs": [],
   "source": [
    "def mult_sum(seq):\n",
    "    mul = 1\n",
    "    sum1 = 0\n",
    "    for i in seq:\n",
    "        mul = mul*i\n",
    "        sum1= sum1+i\n",
    "    return mul,sum1"
   ]
  },
  {
   "cell_type": "code",
   "execution_count": 66,
   "id": "19b2ed3c",
   "metadata": {},
   "outputs": [
    {
     "data": {
      "text/plain": [
       "(865536, 101)"
      ]
     },
     "execution_count": 66,
     "metadata": {},
     "output_type": "execute_result"
    }
   ],
   "source": [
    "mult_sum([23,4,3,56,7,8])"
   ]
  },
  {
   "cell_type": "code",
   "execution_count": 67,
   "id": "9b929f26",
   "metadata": {},
   "outputs": [
    {
     "name": "stdout",
     "output_type": "stream",
     "text": [
      "6720\n",
      "30\n"
     ]
    }
   ],
   "source": [
    "Multiplication , Summation = mult_sum([4,5,6,7,8])\n",
    "print(Multiplication)\n",
    "print(Summation)"
   ]
  },
  {
   "cell_type": "code",
   "execution_count": 68,
   "id": "3041867f",
   "metadata": {},
   "outputs": [
    {
     "name": "stdout",
     "output_type": "stream",
     "text": [
      "1\n",
      "2\n",
      "3\n",
      "5\n",
      "8\n",
      "13\n",
      "21\n",
      "34\n",
      "55\n",
      "89\n",
      "144\n"
     ]
    }
   ],
   "source": [
    "#fibonacci\n",
    "a=0\n",
    "b=1\n",
    "for i in range(0,11):\n",
    "    new=a+b\n",
    "    a=b\n",
    "    b=new\n",
    "    print(new)"
   ]
  },
  {
   "cell_type": "code",
   "execution_count": 69,
   "id": "4dd14aba",
   "metadata": {},
   "outputs": [],
   "source": [
    "def fibonacci(num):\n",
    "    a=0\n",
    "    b=1\n",
    "    for i in range(0,num+1):\n",
    "        new=a+b\n",
    "        a=b\n",
    "        b=new\n",
    "    print(new)"
   ]
  },
  {
   "cell_type": "code",
   "execution_count": 70,
   "id": "c5298df1",
   "metadata": {},
   "outputs": [
    {
     "name": "stdout",
     "output_type": "stream",
     "text": [
      "144\n",
      "6765\n"
     ]
    }
   ],
   "source": [
    "fibonacci(10)\n",
    "fibonacci(18)"
   ]
  },
  {
   "cell_type": "code",
   "execution_count": 71,
   "id": "f9a5432c",
   "metadata": {},
   "outputs": [
    {
     "name": "stdout",
     "output_type": "stream",
     "text": [
      "610\n"
     ]
    }
   ],
   "source": [
    "fibonacci(13)"
   ]
  },
  {
   "cell_type": "markdown",
   "id": "3b800701",
   "metadata": {},
   "source": [
    "# Function Arguments"
   ]
  },
  {
   "cell_type": "raw",
   "id": "add1a4fe",
   "metadata": {},
   "source": [
    "Note: We supposed to follow the same sequence always,while using all of those functions\n",
    "\n",
    "1. Positional Arguments\n",
    "2. Default Arguments\n",
    "3. Arbitrary Positional Arguments\n",
    "4. Arbitrary keyword Arguments\n",
    "\n",
    "          or   \n",
    "\n",
    "1. Positional Arguments\n",
    "2. Arbitrary Positional Arguments\n",
    "3. Default Arguments\n",
    "4. Arbitrary keyword Arguments  "
   ]
  },
  {
   "cell_type": "markdown",
   "id": "50b2ea0d",
   "metadata": {},
   "source": [
    "# 1.Positional Arguments"
   ]
  },
  {
   "cell_type": "raw",
   "id": "8679b3f9",
   "metadata": {},
   "source": [
    "no. of parameters/Arguments while creating a function == no. of parameters/Arguments while calling a function\n",
    "number of parameters/arguments given while creating a function and at the time of calling the functions we should give same number of parameters/arguments."
   ]
  },
  {
   "cell_type": "raw",
   "id": "3209b5a3",
   "metadata": {},
   "source": [
    "def my_fun(parameter1, parameter2):\n",
    "    print(parameter1)\n",
    "    print(parameter2)\n",
    "    \n",
    "my_fun(arg1, arg2)"
   ]
  },
  {
   "cell_type": "code",
   "execution_count": 116,
   "id": "5d288421",
   "metadata": {},
   "outputs": [],
   "source": [
    "def addition(a):\n",
    "    add=1\n",
    "    add =add+a\n",
    "    return add"
   ]
  },
  {
   "cell_type": "code",
   "execution_count": 117,
   "id": "a67a5db7",
   "metadata": {},
   "outputs": [
    {
     "data": {
      "text/plain": [
       "48"
      ]
     },
     "execution_count": 117,
     "metadata": {},
     "output_type": "execute_result"
    }
   ],
   "source": [
    "addition(47)"
   ]
  },
  {
   "cell_type": "code",
   "execution_count": 72,
   "id": "07412823",
   "metadata": {},
   "outputs": [],
   "source": [
    "def addition(a,b):\n",
    "    print(f'a == {a} and b == {b}' )\n",
    "    add = a+b\n",
    "    print(f'Addition of {a} and {b} is {add}')"
   ]
  },
  {
   "cell_type": "code",
   "execution_count": 73,
   "id": "c3f7e3df",
   "metadata": {},
   "outputs": [
    {
     "name": "stdout",
     "output_type": "stream",
     "text": [
      "a == 45 and b == 67\n",
      "Addition of 45 and 67 is 112\n"
     ]
    }
   ],
   "source": [
    "addition(45,67)"
   ]
  },
  {
   "cell_type": "code",
   "execution_count": 74,
   "id": "0290bbff",
   "metadata": {},
   "outputs": [
    {
     "name": "stdout",
     "output_type": "stream",
     "text": [
      "a == 10 and b == 30\n",
      "Addition of 10 and 30 is 40\n"
     ]
    }
   ],
   "source": [
    "x = 10\n",
    "y = 30\n",
    "addition(x,y)"
   ]
  },
  {
   "cell_type": "code",
   "execution_count": 75,
   "id": "f7c7e0b2",
   "metadata": {},
   "outputs": [
    {
     "name": "stdout",
     "output_type": "stream",
     "text": [
      "a == 10 and b == 30\n",
      "Addition of 10 and 30 is 40\n"
     ]
    }
   ],
   "source": [
    "addition(x,y)"
   ]
  },
  {
   "cell_type": "code",
   "execution_count": 76,
   "id": "f2501909",
   "metadata": {},
   "outputs": [
    {
     "name": "stdout",
     "output_type": "stream",
     "text": [
      "a == 30 and b == 10\n",
      "Addition of 30 and 10 is 40\n"
     ]
    }
   ],
   "source": [
    "addition(y,x)"
   ]
  },
  {
   "cell_type": "code",
   "execution_count": 77,
   "id": "3e70b102",
   "metadata": {},
   "outputs": [
    {
     "ename": "TypeError",
     "evalue": "addition() missing 1 required positional argument: 'b'",
     "output_type": "error",
     "traceback": [
      "\u001b[1;31m---------------------------------------------------------------------------\u001b[0m",
      "\u001b[1;31mTypeError\u001b[0m                                 Traceback (most recent call last)",
      "Input \u001b[1;32mIn [77]\u001b[0m, in \u001b[0;36m<cell line: 1>\u001b[1;34m()\u001b[0m\n\u001b[1;32m----> 1\u001b[0m \u001b[43maddition\u001b[49m\u001b[43m(\u001b[49m\u001b[38;5;241;43m5\u001b[39;49m\u001b[43m)\u001b[49m\n",
      "\u001b[1;31mTypeError\u001b[0m: addition() missing 1 required positional argument: 'b'"
     ]
    }
   ],
   "source": [
    "addition(5)"
   ]
  },
  {
   "cell_type": "code",
   "execution_count": 78,
   "id": "24986a9d",
   "metadata": {},
   "outputs": [
    {
     "ename": "TypeError",
     "evalue": "addition() takes 2 positional arguments but 3 were given",
     "output_type": "error",
     "traceback": [
      "\u001b[1;31m---------------------------------------------------------------------------\u001b[0m",
      "\u001b[1;31mTypeError\u001b[0m                                 Traceback (most recent call last)",
      "Input \u001b[1;32mIn [78]\u001b[0m, in \u001b[0;36m<cell line: 1>\u001b[1;34m()\u001b[0m\n\u001b[1;32m----> 1\u001b[0m \u001b[43maddition\u001b[49m\u001b[43m(\u001b[49m\u001b[38;5;241;43m5\u001b[39;49m\u001b[43m,\u001b[49m\u001b[38;5;241;43m4\u001b[39;49m\u001b[43m,\u001b[49m\u001b[38;5;241;43m7\u001b[39;49m\u001b[43m)\u001b[49m\n",
      "\u001b[1;31mTypeError\u001b[0m: addition() takes 2 positional arguments but 3 were given"
     ]
    }
   ],
   "source": [
    "addition(5,4,7)"
   ]
  },
  {
   "cell_type": "code",
   "execution_count": 79,
   "id": "e29e590e",
   "metadata": {},
   "outputs": [
    {
     "ename": "UnboundLocalError",
     "evalue": "local variable 'fact' referenced before assignment",
     "output_type": "error",
     "traceback": [
      "\u001b[1;31m---------------------------------------------------------------------------\u001b[0m",
      "\u001b[1;31mUnboundLocalError\u001b[0m                         Traceback (most recent call last)",
      "Input \u001b[1;32mIn [79]\u001b[0m, in \u001b[0;36m<cell line: 1>\u001b[1;34m()\u001b[0m\n\u001b[1;32m----> 1\u001b[0m \u001b[43mfactorial_num\u001b[49m\u001b[43m(\u001b[49m\u001b[38;5;241;43m6\u001b[39;49m\u001b[43m)\u001b[49m\n",
      "Input \u001b[1;32mIn [32]\u001b[0m, in \u001b[0;36mfactorial_num\u001b[1;34m(num)\u001b[0m\n\u001b[0;32m      6\u001b[0m \u001b[38;5;28;01melse\u001b[39;00m:\n\u001b[0;32m      7\u001b[0m     \u001b[38;5;28;01mfor\u001b[39;00m i \u001b[38;5;129;01min\u001b[39;00m \u001b[38;5;28mrange\u001b[39m(\u001b[38;5;241m1\u001b[39m,num\u001b[38;5;241m+\u001b[39m\u001b[38;5;241m1\u001b[39m):\n\u001b[1;32m----> 8\u001b[0m         fact\u001b[38;5;241m=\u001b[39m \u001b[43mfact\u001b[49m\u001b[38;5;241m*\u001b[39mi\n",
      "\u001b[1;31mUnboundLocalError\u001b[0m: local variable 'fact' referenced before assignment"
     ]
    }
   ],
   "source": [
    "factorial_num(6)"
   ]
  },
  {
   "cell_type": "code",
   "execution_count": 80,
   "id": "7ce4fb48",
   "metadata": {},
   "outputs": [
    {
     "ename": "TypeError",
     "evalue": "factorial_num() missing 1 required positional argument: 'num'",
     "output_type": "error",
     "traceback": [
      "\u001b[1;31m---------------------------------------------------------------------------\u001b[0m",
      "\u001b[1;31mTypeError\u001b[0m                                 Traceback (most recent call last)",
      "Input \u001b[1;32mIn [80]\u001b[0m, in \u001b[0;36m<cell line: 1>\u001b[1;34m()\u001b[0m\n\u001b[1;32m----> 1\u001b[0m \u001b[43mfactorial_num\u001b[49m\u001b[43m(\u001b[49m\u001b[43m)\u001b[49m\n",
      "\u001b[1;31mTypeError\u001b[0m: factorial_num() missing 1 required positional argument: 'num'"
     ]
    }
   ],
   "source": [
    "factorial_num()"
   ]
  },
  {
   "cell_type": "code",
   "execution_count": 81,
   "id": "4fac8297",
   "metadata": {},
   "outputs": [
    {
     "ename": "TypeError",
     "evalue": "factorial_num() takes 1 positional argument but 2 were given",
     "output_type": "error",
     "traceback": [
      "\u001b[1;31m---------------------------------------------------------------------------\u001b[0m",
      "\u001b[1;31mTypeError\u001b[0m                                 Traceback (most recent call last)",
      "Input \u001b[1;32mIn [81]\u001b[0m, in \u001b[0;36m<cell line: 1>\u001b[1;34m()\u001b[0m\n\u001b[1;32m----> 1\u001b[0m \u001b[43mfactorial_num\u001b[49m\u001b[43m(\u001b[49m\u001b[38;5;241;43m6\u001b[39;49m\u001b[43m,\u001b[49m\u001b[38;5;241;43m12\u001b[39;49m\u001b[43m)\u001b[49m\n",
      "\u001b[1;31mTypeError\u001b[0m: factorial_num() takes 1 positional argument but 2 were given"
     ]
    }
   ],
   "source": [
    "factorial_num(6,12)"
   ]
  },
  {
   "cell_type": "code",
   "execution_count": 118,
   "id": "a8cb6833",
   "metadata": {},
   "outputs": [],
   "source": [
    "def multiplication(a,b):\n",
    "    print(f'multiplication of {a} and {b} is ')\n",
    "    add = a*b\n",
    "    return add"
   ]
  },
  {
   "cell_type": "code",
   "execution_count": 119,
   "id": "819cc42d",
   "metadata": {},
   "outputs": [
    {
     "name": "stdout",
     "output_type": "stream",
     "text": [
      "multiplication of 47 and 89 is \n"
     ]
    },
    {
     "data": {
      "text/plain": [
       "4183"
      ]
     },
     "execution_count": 119,
     "metadata": {},
     "output_type": "execute_result"
    }
   ],
   "source": [
    "multiplication(47,89)"
   ]
  },
  {
   "cell_type": "code",
   "execution_count": 120,
   "id": "854c6f04",
   "metadata": {},
   "outputs": [],
   "source": [
    "def multiplication(a,b):\n",
    "    add = a*b\n",
    "    return add"
   ]
  },
  {
   "cell_type": "code",
   "execution_count": 121,
   "id": "35f3f258",
   "metadata": {},
   "outputs": [
    {
     "data": {
      "text/plain": [
       "4183"
      ]
     },
     "execution_count": 121,
     "metadata": {},
     "output_type": "execute_result"
    }
   ],
   "source": [
    "multiplication(47,89)"
   ]
  },
  {
   "cell_type": "code",
   "execution_count": 86,
   "id": "a2823dc4",
   "metadata": {},
   "outputs": [],
   "source": [
    "def multiplication(a,b):\n",
    "    return(f'multiplication of {a} and {b} is ')\n",
    "    add = a*b\n",
    "    return add"
   ]
  },
  {
   "cell_type": "code",
   "execution_count": 87,
   "id": "4ddd43f1",
   "metadata": {},
   "outputs": [
    {
     "data": {
      "text/plain": [
       "'multiplication of 47 and 89 is '"
      ]
     },
     "execution_count": 87,
     "metadata": {},
     "output_type": "execute_result"
    }
   ],
   "source": [
    "multiplication(47,89)"
   ]
  },
  {
   "cell_type": "code",
   "execution_count": 88,
   "id": "db08d840",
   "metadata": {},
   "outputs": [],
   "source": [
    "def multiplication(a,b):\n",
    "    print(f'multiplication of {a} and {b} is {add}')\n",
    "    add = a*b\n",
    "    return add"
   ]
  },
  {
   "cell_type": "code",
   "execution_count": 89,
   "id": "335b5902",
   "metadata": {},
   "outputs": [
    {
     "ename": "UnboundLocalError",
     "evalue": "local variable 'add' referenced before assignment",
     "output_type": "error",
     "traceback": [
      "\u001b[1;31m---------------------------------------------------------------------------\u001b[0m",
      "\u001b[1;31mUnboundLocalError\u001b[0m                         Traceback (most recent call last)",
      "Input \u001b[1;32mIn [89]\u001b[0m, in \u001b[0;36m<cell line: 1>\u001b[1;34m()\u001b[0m\n\u001b[1;32m----> 1\u001b[0m \u001b[43mmultiplication\u001b[49m\u001b[43m(\u001b[49m\u001b[38;5;241;43m45\u001b[39;49m\u001b[43m,\u001b[49m\u001b[38;5;241;43m76\u001b[39;49m\u001b[43m)\u001b[49m\n",
      "Input \u001b[1;32mIn [88]\u001b[0m, in \u001b[0;36mmultiplication\u001b[1;34m(a, b)\u001b[0m\n\u001b[0;32m      1\u001b[0m \u001b[38;5;28;01mdef\u001b[39;00m \u001b[38;5;21mmultiplication\u001b[39m(a,b):\n\u001b[1;32m----> 2\u001b[0m     \u001b[38;5;28mprint\u001b[39m(\u001b[38;5;124mf\u001b[39m\u001b[38;5;124m'\u001b[39m\u001b[38;5;124mmultiplication of \u001b[39m\u001b[38;5;132;01m{\u001b[39;00ma\u001b[38;5;132;01m}\u001b[39;00m\u001b[38;5;124m and \u001b[39m\u001b[38;5;132;01m{\u001b[39;00mb\u001b[38;5;132;01m}\u001b[39;00m\u001b[38;5;124m is \u001b[39m\u001b[38;5;132;01m{\u001b[39;00madd\u001b[38;5;132;01m}\u001b[39;00m\u001b[38;5;124m'\u001b[39m)\n\u001b[0;32m      3\u001b[0m     add \u001b[38;5;241m=\u001b[39m a\u001b[38;5;241m*\u001b[39mb\n\u001b[0;32m      4\u001b[0m     \u001b[38;5;28;01mreturn\u001b[39;00m add\n",
      "\u001b[1;31mUnboundLocalError\u001b[0m: local variable 'add' referenced before assignment"
     ]
    }
   ],
   "source": [
    "multiplication(45,76)"
   ]
  },
  {
   "cell_type": "markdown",
   "id": "f6621aa6",
   "metadata": {},
   "source": [
    "## 2.Default Arguments"
   ]
  },
  {
   "cell_type": "raw",
   "id": "f55d7d4b",
   "metadata": {},
   "source": [
    "These are the arguments which are declared in the paranthesis of a function itself.\n",
    "It means if in case a user failed to pass the parameter value while calling the function, it takes the by default value provided or declared at the time of defining a function."
   ]
  },
  {
   "cell_type": "code",
   "execution_count": 90,
   "id": "5f2950ce",
   "metadata": {},
   "outputs": [],
   "source": [
    "def addition(a,b): # a = 5, b = 8\n",
    "    print(f'a == {a} and b == {b}' )\n",
    "    add = a+b\n",
    "    print(f'Addition of {a} and {b} is {add}')"
   ]
  },
  {
   "cell_type": "code",
   "execution_count": 91,
   "id": "4ce672d2",
   "metadata": {},
   "outputs": [
    {
     "name": "stdout",
     "output_type": "stream",
     "text": [
      "a == 10 and b == 20\n",
      "Addition of 10 and 20 is 30\n"
     ]
    }
   ],
   "source": [
    "addition(10,20)"
   ]
  },
  {
   "cell_type": "code",
   "execution_count": 92,
   "id": "ff21fadd",
   "metadata": {},
   "outputs": [
    {
     "ename": "TypeError",
     "evalue": "addition() missing 1 required positional argument: 'b'",
     "output_type": "error",
     "traceback": [
      "\u001b[1;31m---------------------------------------------------------------------------\u001b[0m",
      "\u001b[1;31mTypeError\u001b[0m                                 Traceback (most recent call last)",
      "Input \u001b[1;32mIn [92]\u001b[0m, in \u001b[0;36m<cell line: 1>\u001b[1;34m()\u001b[0m\n\u001b[1;32m----> 1\u001b[0m \u001b[43maddition\u001b[49m\u001b[43m(\u001b[49m\u001b[38;5;241;43m5\u001b[39;49m\u001b[43m)\u001b[49m\n",
      "\u001b[1;31mTypeError\u001b[0m: addition() missing 1 required positional argument: 'b'"
     ]
    }
   ],
   "source": [
    "addition(5)"
   ]
  },
  {
   "cell_type": "code",
   "execution_count": 93,
   "id": "4d52dd8b",
   "metadata": {},
   "outputs": [],
   "source": [
    "def add1(d=20,b=10):\n",
    "    print(f'd == {d} and b == {b}' )\n",
    "    add = d+b\n",
    "    print(f'Addition of {d} and {b} is {add}')\n",
    "    "
   ]
  },
  {
   "cell_type": "code",
   "execution_count": 94,
   "id": "5c3fa319",
   "metadata": {},
   "outputs": [
    {
     "name": "stdout",
     "output_type": "stream",
     "text": [
      "d == 20 and b == 10\n",
      "Addition of 20 and 10 is 30\n"
     ]
    }
   ],
   "source": [
    "add1()"
   ]
  },
  {
   "cell_type": "code",
   "execution_count": 95,
   "id": "d26bb155",
   "metadata": {},
   "outputs": [
    {
     "name": "stdout",
     "output_type": "stream",
     "text": [
      "d == 54 and b == 56\n",
      "Addition of 54 and 56 is 110\n"
     ]
    }
   ],
   "source": [
    "add1(54,56)"
   ]
  },
  {
   "cell_type": "code",
   "execution_count": 96,
   "id": "bc88ebbb",
   "metadata": {},
   "outputs": [
    {
     "name": "stdout",
     "output_type": "stream",
     "text": [
      "d == 12 and b == 10\n",
      "Addition of 12 and 10 is 22\n"
     ]
    }
   ],
   "source": [
    "add1(12)"
   ]
  },
  {
   "cell_type": "code",
   "execution_count": 97,
   "id": "c9071b16",
   "metadata": {},
   "outputs": [
    {
     "ename": "NameError",
     "evalue": "name 'd' is not defined",
     "output_type": "error",
     "traceback": [
      "\u001b[1;31m---------------------------------------------------------------------------\u001b[0m",
      "\u001b[1;31mNameError\u001b[0m                                 Traceback (most recent call last)",
      "Input \u001b[1;32mIn [97]\u001b[0m, in \u001b[0;36m<cell line: 1>\u001b[1;34m()\u001b[0m\n\u001b[1;32m----> 1\u001b[0m add1(\u001b[43md\u001b[49m,\u001b[38;5;241m34\u001b[39m)\n",
      "\u001b[1;31mNameError\u001b[0m: name 'd' is not defined"
     ]
    }
   ],
   "source": [
    "add1(d,34)"
   ]
  },
  {
   "cell_type": "code",
   "execution_count": 98,
   "id": "c2d79273",
   "metadata": {},
   "outputs": [
    {
     "ename": "SyntaxError",
     "evalue": "invalid syntax (114714841.py, line 1)",
     "output_type": "error",
     "traceback": [
      "\u001b[1;36m  Input \u001b[1;32mIn [98]\u001b[1;36m\u001b[0m\n\u001b[1;33m    add1(,34)\u001b[0m\n\u001b[1;37m         ^\u001b[0m\n\u001b[1;31mSyntaxError\u001b[0m\u001b[1;31m:\u001b[0m invalid syntax\n"
     ]
    }
   ],
   "source": [
    "add1(,34)"
   ]
  },
  {
   "cell_type": "code",
   "execution_count": 99,
   "id": "2fe2c349",
   "metadata": {},
   "outputs": [],
   "source": [
    "def add1(d,b=10):\n",
    "    print(f'd == {d} and b == {b}' )\n",
    "    add = d+b\n",
    "    print(f'Addition of {d} and {b} is {add}')\n",
    "    "
   ]
  },
  {
   "cell_type": "code",
   "execution_count": 100,
   "id": "30bc8bfb",
   "metadata": {},
   "outputs": [
    {
     "name": "stdout",
     "output_type": "stream",
     "text": [
      "d == 5 and b == 20\n",
      "Addition of 5 and 20 is 25\n"
     ]
    }
   ],
   "source": [
    "add1(5,20)"
   ]
  },
  {
   "cell_type": "code",
   "execution_count": 101,
   "id": "eea36b18",
   "metadata": {},
   "outputs": [
    {
     "name": "stdout",
     "output_type": "stream",
     "text": [
      "d == 7 and b == 10\n",
      "Addition of 7 and 10 is 17\n"
     ]
    }
   ],
   "source": [
    "add1(7)"
   ]
  },
  {
   "cell_type": "code",
   "execution_count": 102,
   "id": "12eb8536",
   "metadata": {},
   "outputs": [
    {
     "ename": "NameError",
     "evalue": "name 'd' is not defined",
     "output_type": "error",
     "traceback": [
      "\u001b[1;31m---------------------------------------------------------------------------\u001b[0m",
      "\u001b[1;31mNameError\u001b[0m                                 Traceback (most recent call last)",
      "Input \u001b[1;32mIn [102]\u001b[0m, in \u001b[0;36m<cell line: 1>\u001b[1;34m()\u001b[0m\n\u001b[1;32m----> 1\u001b[0m add1(\u001b[43md\u001b[49m,\u001b[38;5;241m5\u001b[39m)\n",
      "\u001b[1;31mNameError\u001b[0m: name 'd' is not defined"
     ]
    }
   ],
   "source": [
    "add1(d,5)"
   ]
  },
  {
   "cell_type": "code",
   "execution_count": 103,
   "id": "78e7ff16",
   "metadata": {},
   "outputs": [
    {
     "ename": "TypeError",
     "evalue": "add1() missing 1 required positional argument: 'd'",
     "output_type": "error",
     "traceback": [
      "\u001b[1;31m---------------------------------------------------------------------------\u001b[0m",
      "\u001b[1;31mTypeError\u001b[0m                                 Traceback (most recent call last)",
      "Input \u001b[1;32mIn [103]\u001b[0m, in \u001b[0;36m<cell line: 1>\u001b[1;34m()\u001b[0m\n\u001b[1;32m----> 1\u001b[0m \u001b[43madd1\u001b[49m\u001b[43m(\u001b[49m\u001b[43m)\u001b[49m\n",
      "\u001b[1;31mTypeError\u001b[0m: add1() missing 1 required positional argument: 'd'"
     ]
    }
   ],
   "source": [
    "add1()"
   ]
  },
  {
   "cell_type": "code",
   "execution_count": 104,
   "id": "71d930e0",
   "metadata": {},
   "outputs": [
    {
     "ename": "SyntaxError",
     "evalue": "non-default argument follows default argument (919190591.py, line 1)",
     "output_type": "error",
     "traceback": [
      "\u001b[1;36m  Input \u001b[1;32mIn [104]\u001b[1;36m\u001b[0m\n\u001b[1;33m    def multiplication(b=3,a):\u001b[0m\n\u001b[1;37m                            ^\u001b[0m\n\u001b[1;31mSyntaxError\u001b[0m\u001b[1;31m:\u001b[0m non-default argument follows default argument\n"
     ]
    }
   ],
   "source": [
    "def multiplication(b=3,a):\n",
    "    return(f'multiplication of {a} and {b} is ')\n",
    "    add = a*b\n",
    "    return add"
   ]
  },
  {
   "cell_type": "code",
   "execution_count": 105,
   "id": "4101a7fe",
   "metadata": {},
   "outputs": [],
   "source": [
    "def addition(a,b,c=25): # a,b are positional arguments, c is default argument\n",
    "    print(f'a ={a}, b={b}, c={c}')\n",
    "    add = a+b+c\n",
    "    return add"
   ]
  },
  {
   "cell_type": "code",
   "execution_count": 106,
   "id": "a0c1bf1c",
   "metadata": {},
   "outputs": [
    {
     "name": "stdout",
     "output_type": "stream",
     "text": [
      "a =23, b=45, c=67\n"
     ]
    },
    {
     "data": {
      "text/plain": [
       "135"
      ]
     },
     "execution_count": 106,
     "metadata": {},
     "output_type": "execute_result"
    }
   ],
   "source": [
    "addition(23,45,67)"
   ]
  },
  {
   "cell_type": "code",
   "execution_count": 107,
   "id": "4a269daa",
   "metadata": {},
   "outputs": [
    {
     "name": "stdout",
     "output_type": "stream",
     "text": [
      "a =23, b=45, c=25\n"
     ]
    },
    {
     "data": {
      "text/plain": [
       "93"
      ]
     },
     "execution_count": 107,
     "metadata": {},
     "output_type": "execute_result"
    }
   ],
   "source": [
    "addition(23,45)"
   ]
  },
  {
   "cell_type": "markdown",
   "id": "676b1fed",
   "metadata": {},
   "source": [
    "# 3.Arbitrary Positional Arguments"
   ]
  },
  {
   "cell_type": "raw",
   "id": "63dd5109",
   "metadata": {},
   "source": [
    "Variable length argument\n",
    "*args >> *argument\n",
    "Default data type of arbitrary positional arguments is tuple\n",
    "This can be used when we are not sure about the exact no. of arguments required in our function."
   ]
  },
  {
   "cell_type": "code",
   "execution_count": 108,
   "id": "2f6d026f",
   "metadata": {},
   "outputs": [],
   "source": [
    "def addition(a,b,c,d,e,f,g):\n",
    "    print('Our values are:', a,b,c,d,e,f,g)"
   ]
  },
  {
   "cell_type": "code",
   "execution_count": 109,
   "id": "7620f40d",
   "metadata": {},
   "outputs": [
    {
     "name": "stdout",
     "output_type": "stream",
     "text": [
      "Our values are: 1 2 3 4 5 6 7\n"
     ]
    }
   ],
   "source": [
    "addition(1,2,3,4,5,6,7)"
   ]
  },
  {
   "cell_type": "code",
   "execution_count": 110,
   "id": "567efc67",
   "metadata": {},
   "outputs": [
    {
     "ename": "TypeError",
     "evalue": "addition() missing 1 required positional argument: 'g'",
     "output_type": "error",
     "traceback": [
      "\u001b[1;31m---------------------------------------------------------------------------\u001b[0m",
      "\u001b[1;31mTypeError\u001b[0m                                 Traceback (most recent call last)",
      "Input \u001b[1;32mIn [110]\u001b[0m, in \u001b[0;36m<cell line: 1>\u001b[1;34m()\u001b[0m\n\u001b[1;32m----> 1\u001b[0m \u001b[43maddition\u001b[49m\u001b[43m(\u001b[49m\u001b[38;5;241;43m1\u001b[39;49m\u001b[43m,\u001b[49m\u001b[38;5;241;43m2\u001b[39;49m\u001b[43m,\u001b[49m\u001b[38;5;241;43m3\u001b[39;49m\u001b[43m,\u001b[49m\u001b[38;5;241;43m4\u001b[39;49m\u001b[43m,\u001b[49m\u001b[38;5;241;43m5\u001b[39;49m\u001b[43m,\u001b[49m\u001b[38;5;241;43m6\u001b[39;49m\u001b[43m)\u001b[49m\n",
      "\u001b[1;31mTypeError\u001b[0m: addition() missing 1 required positional argument: 'g'"
     ]
    }
   ],
   "source": [
    "addition(1,2,3,4,5,6)"
   ]
  },
  {
   "cell_type": "code",
   "execution_count": 111,
   "id": "61eda1c4",
   "metadata": {},
   "outputs": [],
   "source": [
    "def addition(*arg):\n",
    "    print('Argument is:', arg)"
   ]
  },
  {
   "cell_type": "code",
   "execution_count": 112,
   "id": "19317363",
   "metadata": {},
   "outputs": [
    {
     "name": "stdout",
     "output_type": "stream",
     "text": [
      "Argument is: ()\n"
     ]
    }
   ],
   "source": [
    "addition()"
   ]
  },
  {
   "cell_type": "code",
   "execution_count": 113,
   "id": "400096d7",
   "metadata": {},
   "outputs": [
    {
     "name": "stdout",
     "output_type": "stream",
     "text": [
      "Argument is: (1,)\n"
     ]
    }
   ],
   "source": [
    "addition(1)"
   ]
  },
  {
   "cell_type": "code",
   "execution_count": 114,
   "id": "4a2770c2",
   "metadata": {},
   "outputs": [
    {
     "name": "stdout",
     "output_type": "stream",
     "text": [
      "Argument is: (1, 2, 3, 4, 5, 3, 3, 5, 66)\n"
     ]
    }
   ],
   "source": [
    "addition(1,2,3,4,5,3,3,5,66)"
   ]
  },
  {
   "cell_type": "code",
   "execution_count": 115,
   "id": "c523c949",
   "metadata": {},
   "outputs": [],
   "source": [
    "def addition(*arg):\n",
    "    print('Argument is:', arg)\n",
    "    add = 0\n",
    "    for i in arg:\n",
    "        add = add +i\n",
    "    return add"
   ]
  },
  {
   "cell_type": "code",
   "execution_count": 116,
   "id": "40321d0f",
   "metadata": {},
   "outputs": [
    {
     "name": "stdout",
     "output_type": "stream",
     "text": [
      "Argument is: (12, 334, 546, 78)\n"
     ]
    },
    {
     "data": {
      "text/plain": [
       "970"
      ]
     },
     "execution_count": 116,
     "metadata": {},
     "output_type": "execute_result"
    }
   ],
   "source": [
    "addition(12,334,546,78)"
   ]
  },
  {
   "cell_type": "code",
   "execution_count": 117,
   "id": "4ab8d13e",
   "metadata": {},
   "outputs": [],
   "source": [
    "def addition1(a,b,*arg):\n",
    "    print('Arguments are:',a,b, arg)\n",
    "    "
   ]
  },
  {
   "cell_type": "code",
   "execution_count": 118,
   "id": "a4000b06",
   "metadata": {},
   "outputs": [
    {
     "name": "stdout",
     "output_type": "stream",
     "text": [
      "Arguments are: 12 334 ()\n"
     ]
    }
   ],
   "source": [
    "addition1(12,334)"
   ]
  },
  {
   "cell_type": "code",
   "execution_count": 119,
   "id": "46a567a5",
   "metadata": {},
   "outputs": [
    {
     "name": "stdout",
     "output_type": "stream",
     "text": [
      "Arguments are: 12 334 (0,)\n"
     ]
    }
   ],
   "source": [
    "addition1(12,334,0)"
   ]
  },
  {
   "cell_type": "code",
   "execution_count": 120,
   "id": "abff880d",
   "metadata": {},
   "outputs": [
    {
     "name": "stdout",
     "output_type": "stream",
     "text": [
      "Arguments are: 12 334 (546, 78)\n"
     ]
    }
   ],
   "source": [
    "addition1(12,334,546,78)"
   ]
  },
  {
   "cell_type": "code",
   "execution_count": 121,
   "id": "26b3d779",
   "metadata": {},
   "outputs": [
    {
     "ename": "TypeError",
     "evalue": "addition1() missing 1 required positional argument: 'b'",
     "output_type": "error",
     "traceback": [
      "\u001b[1;31m---------------------------------------------------------------------------\u001b[0m",
      "\u001b[1;31mTypeError\u001b[0m                                 Traceback (most recent call last)",
      "Input \u001b[1;32mIn [121]\u001b[0m, in \u001b[0;36m<cell line: 1>\u001b[1;34m()\u001b[0m\n\u001b[1;32m----> 1\u001b[0m \u001b[43maddition1\u001b[49m\u001b[43m(\u001b[49m\u001b[38;5;241;43m4\u001b[39;49m\u001b[43m)\u001b[49m\n",
      "\u001b[1;31mTypeError\u001b[0m: addition1() missing 1 required positional argument: 'b'"
     ]
    }
   ],
   "source": [
    "addition1(4)"
   ]
  },
  {
   "cell_type": "code",
   "execution_count": 122,
   "id": "e3395185",
   "metadata": {},
   "outputs": [],
   "source": [
    "def addition1(*arg,a,b):# **a\n",
    "    print('Arguments are:',a,b, arg)"
   ]
  },
  {
   "cell_type": "code",
   "execution_count": 123,
   "id": "78c73fd8",
   "metadata": {},
   "outputs": [
    {
     "ename": "TypeError",
     "evalue": "addition1() missing 2 required keyword-only arguments: 'a' and 'b'",
     "output_type": "error",
     "traceback": [
      "\u001b[1;31m---------------------------------------------------------------------------\u001b[0m",
      "\u001b[1;31mTypeError\u001b[0m                                 Traceback (most recent call last)",
      "Input \u001b[1;32mIn [123]\u001b[0m, in \u001b[0;36m<cell line: 1>\u001b[1;34m()\u001b[0m\n\u001b[1;32m----> 1\u001b[0m \u001b[43maddition1\u001b[49m\u001b[43m(\u001b[49m\u001b[38;5;241;43m1\u001b[39;49m\u001b[43m,\u001b[49m\u001b[38;5;241;43m4\u001b[39;49m\u001b[43m,\u001b[49m\u001b[38;5;241;43m2\u001b[39;49m\u001b[43m,\u001b[49m\u001b[38;5;241;43m5\u001b[39;49m\u001b[43m,\u001b[49m\u001b[38;5;241;43m6\u001b[39;49m\u001b[43m,\u001b[49m\u001b[38;5;241;43m78\u001b[39;49m\u001b[43m,\u001b[49m\u001b[38;5;241;43m3\u001b[39;49m\u001b[43m)\u001b[49m\n",
      "\u001b[1;31mTypeError\u001b[0m: addition1() missing 2 required keyword-only arguments: 'a' and 'b'"
     ]
    }
   ],
   "source": [
    "addition1(1,4,2,5,6,78,3)"
   ]
  },
  {
   "cell_type": "code",
   "execution_count": 124,
   "id": "91718113",
   "metadata": {},
   "outputs": [],
   "source": [
    "def addition1(*arg):\n",
    "    print('Arguments are:',arg)"
   ]
  },
  {
   "cell_type": "code",
   "execution_count": 125,
   "id": "dd67bada",
   "metadata": {},
   "outputs": [
    {
     "name": "stdout",
     "output_type": "stream",
     "text": [
      "Arguments are: (1, 4, 2, 5, 6, 78, 3)\n"
     ]
    }
   ],
   "source": [
    "addition1(1,4,2,5,6,78,3)"
   ]
  },
  {
   "cell_type": "code",
   "execution_count": 126,
   "id": "5390392c",
   "metadata": {},
   "outputs": [],
   "source": [
    "def addition1(a=50,b=10,*arg):\n",
    "    print('Arguments are:',a,b,arg)"
   ]
  },
  {
   "cell_type": "code",
   "execution_count": 127,
   "id": "38371356",
   "metadata": {},
   "outputs": [
    {
     "name": "stdout",
     "output_type": "stream",
     "text": [
      "Arguments are: 1 4 (2, 5, 6, 78, 3)\n"
     ]
    }
   ],
   "source": [
    "addition1(1,4,2,5,6,78,3)"
   ]
  },
  {
   "cell_type": "code",
   "execution_count": 128,
   "id": "80f93d82",
   "metadata": {},
   "outputs": [],
   "source": [
    "def addition1(*arg,a=50,b=10):\n",
    "    print('Arguments are:',arg,a,b)"
   ]
  },
  {
   "cell_type": "code",
   "execution_count": 129,
   "id": "c61f8dbe",
   "metadata": {},
   "outputs": [
    {
     "name": "stdout",
     "output_type": "stream",
     "text": [
      "Arguments are: (1, 4, 2, 5, 6, 78, 3) 50 10\n"
     ]
    }
   ],
   "source": [
    "addition1(1,4,2,5,6,78,3)"
   ]
  },
  {
   "cell_type": "code",
   "execution_count": 130,
   "id": "43fd2073",
   "metadata": {},
   "outputs": [
    {
     "name": "stdout",
     "output_type": "stream",
     "text": [
      "Arguments are: ((1, 4, 5, 23, 6, 7), 55, 14) 50 10\n"
     ]
    }
   ],
   "source": [
    "addition1((1,4,5,23,6,7),55,14) # it will not work"
   ]
  },
  {
   "cell_type": "code",
   "execution_count": 131,
   "id": "f30b6b79",
   "metadata": {},
   "outputs": [],
   "source": [
    "def multiplication(a,b,*arg):\n",
    "    print(f'multiplication of {a} {b} and is')\n",
    "    mul=a*b\n",
    "    return mul"
   ]
  },
  {
   "cell_type": "code",
   "execution_count": 132,
   "id": "0550a530",
   "metadata": {},
   "outputs": [
    {
     "name": "stdout",
     "output_type": "stream",
     "text": [
      "multiplication of 12 34 and is\n"
     ]
    },
    {
     "data": {
      "text/plain": [
       "408"
      ]
     },
     "execution_count": 132,
     "metadata": {},
     "output_type": "execute_result"
    }
   ],
   "source": [
    "multiplication(12,34)"
   ]
  },
  {
   "cell_type": "code",
   "execution_count": 15,
   "id": "9c2285e7",
   "metadata": {},
   "outputs": [
    {
     "ename": "SyntaxError",
     "evalue": "can't use starred expression here (1400579354.py, line 3)",
     "output_type": "error",
     "traceback": [
      "\u001b[1;36m  Input \u001b[1;32mIn [15]\u001b[1;36m\u001b[0m\n\u001b[1;33m    mul=a*b*(*arg)\u001b[0m\n\u001b[1;37m             ^\u001b[0m\n\u001b[1;31mSyntaxError\u001b[0m\u001b[1;31m:\u001b[0m can't use starred expression here\n"
     ]
    }
   ],
   "source": [
    "def multiplication(a,b,*arg):\n",
    "    print(f'multiplication of {a} {b} and is')\n",
    "    mul=a*b*(*arg)\n",
    "    return mul"
   ]
  },
  {
   "cell_type": "code",
   "execution_count": 134,
   "id": "4a3fa47c",
   "metadata": {},
   "outputs": [],
   "source": [
    "def multiplication(a,b,*arg):\n",
    "    print(f'multiplication of {a} {b} and is')\n",
    "    mul=a*b\n",
    "    return mul,arg"
   ]
  },
  {
   "cell_type": "code",
   "execution_count": 135,
   "id": "54b8b77c",
   "metadata": {},
   "outputs": [
    {
     "name": "stdout",
     "output_type": "stream",
     "text": [
      "multiplication of 12 34 and is\n"
     ]
    },
    {
     "data": {
      "text/plain": [
       "(408, (23, 45, 6, 57, 8, 6))"
      ]
     },
     "execution_count": 135,
     "metadata": {},
     "output_type": "execute_result"
    }
   ],
   "source": [
    "multiplication(12,34,23,45,6,57,8,6)"
   ]
  },
  {
   "cell_type": "markdown",
   "id": "add36847",
   "metadata": {},
   "source": [
    "# 4.Arbitrary keyword Arguments"
   ]
  },
  {
   "cell_type": "raw",
   "id": "0832b314",
   "metadata": {},
   "source": [
    "**kwarg >> Key word Argument\n",
    "Variable length argument\n",
    "Default data type of arbitrary keyword arguments is  dictionary.\n",
    "we uses this agruements whenever we need to get key values."
   ]
  },
  {
   "cell_type": "code",
   "execution_count": 136,
   "id": "292f76af",
   "metadata": {},
   "outputs": [],
   "source": [
    "def key(**kwarg):\n",
    "    print('Arguments are: ',kwarg)"
   ]
  },
  {
   "cell_type": "code",
   "execution_count": 137,
   "id": "48c36149",
   "metadata": {},
   "outputs": [
    {
     "name": "stdout",
     "output_type": "stream",
     "text": [
      "Arguments are:  {'phy': 95, 'chem': 85, 'math': 97}\n"
     ]
    }
   ],
   "source": [
    "key(phy =95,chem=85,math=97)"
   ]
  },
  {
   "cell_type": "code",
   "execution_count": 138,
   "id": "393755e4",
   "metadata": {},
   "outputs": [],
   "source": [
    "def result(**kwarg):\n",
    "    print('Details are: ',kwarg)\n",
    "    average = sum(kwarg.values())/len(kwarg)\n",
    "    print('average is: ', average)"
   ]
  },
  {
   "cell_type": "code",
   "execution_count": 139,
   "id": "d55b0e57",
   "metadata": {},
   "outputs": [
    {
     "name": "stdout",
     "output_type": "stream",
     "text": [
      "Details are:  {'phy': 95, 'chem': 85, 'math': 97, 'bio': 87}\n",
      "average is:  91.0\n"
     ]
    }
   ],
   "source": [
    "result(phy =95,chem=85,math=97,bio=87)"
   ]
  },
  {
   "cell_type": "code",
   "execution_count": 140,
   "id": "ff9a62a1",
   "metadata": {},
   "outputs": [
    {
     "name": "stdout",
     "output_type": "stream",
     "text": [
      "Positional arguments are 14 8\n",
      "Default arguments are 2 8\n",
      "Arbitary arguments are (6, 2, 4, 8, 6, 5)\n",
      "Arbitory Keyword arguments are {'x': 10, 'y': 20}\n"
     ]
    }
   ],
   "source": [
    "def my_function(a,b,c=10,d=20,*arg,**kwarg):\n",
    "    print(f'Positional arguments are {a} {b}')\n",
    "    print(f'Default arguments are {c} {d}')\n",
    "    print(f'Arbitary arguments are {arg}')\n",
    "    print(f'Arbitory Keyword arguments are {kwarg}')\n",
    "    \n",
    "my_function(14,8,2,8,6,2,4,8,6,5, x=10,y=20)"
   ]
  },
  {
   "cell_type": "code",
   "execution_count": 141,
   "id": "8f473939",
   "metadata": {},
   "outputs": [
    {
     "name": "stdout",
     "output_type": "stream",
     "text": [
      "positional arg are 14\n",
      "default arg are 8\n",
      "Arbitrary position arg are (2, 8, 6, 2, 4, 8, 6, 5)\n",
      "Arbitrary keyword arg are {'x': 10, 'y': 20}\n"
     ]
    }
   ],
   "source": [
    "def function(a,b=2,*arg,**kwarg):\n",
    "    print('positional arg are',a)\n",
    "    print('default arg are',b)\n",
    "    print('Arbitrary position arg are',arg)\n",
    "    print('Arbitrary keyword arg are',kwarg)\n",
    "    \n",
    "function(14,8,2,8,6,2,4,8,6,5, x=10,y=20)"
   ]
  },
  {
   "cell_type": "code",
   "execution_count": 142,
   "id": "efab6280",
   "metadata": {},
   "outputs": [
    {
     "name": "stdout",
     "output_type": "stream",
     "text": [
      "Arguments entered are : 1, 2, 3, (10, 20, 30), {'phy': 95, 'chem': 90, 'math': 96}\n"
     ]
    }
   ],
   "source": [
    "def arguments(a,b,c=10,*d,**e):\n",
    "    print(f'Arguments entered are : {a}, {b}, {c}, {d}, {e}')\n",
    "\n",
    "arguments(1,2,3,10,20,30,phy=95, chem= 90, math= 96)"
   ]
  },
  {
   "cell_type": "code",
   "execution_count": 143,
   "id": "d02a93b8",
   "metadata": {},
   "outputs": [
    {
     "ename": "SyntaxError",
     "evalue": "expression cannot contain assignment, perhaps you meant \"==\"? (3669293120.py, line 7)",
     "output_type": "error",
     "traceback": [
      "\u001b[1;36m  Input \u001b[1;32mIn [143]\u001b[1;36m\u001b[0m\n\u001b[1;33m    my_function(14,8,2,8,6,2,4,8,6,5, 1=10,2=20 ) # It is variable name. and variable name does not start with number.\u001b[0m\n\u001b[1;37m                                      ^\u001b[0m\n\u001b[1;31mSyntaxError\u001b[0m\u001b[1;31m:\u001b[0m expression cannot contain assignment, perhaps you meant \"==\"?\n"
     ]
    }
   ],
   "source": [
    "def my_function(a,b,c=10,d=20,*arg,**kwarg):\n",
    "    print(f'Positional arguments are{a} {b}')\n",
    "    print(f'Default arguments are{c} {d}')\n",
    "    print(f'Arbitary arguments are{arg}')\n",
    "    print(f'Arbitory Keyword arguments are{kwarg}')\n",
    "    \n",
    "my_function(14,8,2,8,6,2,4,8,6,5, 1=10,2=20 ) # It is variable name. and variable name does not start with number."
   ]
  },
  {
   "cell_type": "code",
   "execution_count": 144,
   "id": "93c2b399",
   "metadata": {},
   "outputs": [],
   "source": [
    "def add1(a,b=10,*arg):\n",
    "#    print(f'a ={a} and b ={b} and arg={arg}')\n",
    "    add = a+b+arg\n",
    "    return(f'Addition of {a} and {b} and {arg} is {add} ')"
   ]
  },
  {
   "cell_type": "code",
   "execution_count": 145,
   "id": "66b90418",
   "metadata": {},
   "outputs": [
    {
     "ename": "TypeError",
     "evalue": "unsupported operand type(s) for +: 'int' and 'tuple'",
     "output_type": "error",
     "traceback": [
      "\u001b[1;31m---------------------------------------------------------------------------\u001b[0m",
      "\u001b[1;31mTypeError\u001b[0m                                 Traceback (most recent call last)",
      "Input \u001b[1;32mIn [145]\u001b[0m, in \u001b[0;36m<cell line: 1>\u001b[1;34m()\u001b[0m\n\u001b[1;32m----> 1\u001b[0m \u001b[43madd1\u001b[49m\u001b[43m(\u001b[49m\u001b[38;5;241;43m23\u001b[39;49m\u001b[43m,\u001b[49m\u001b[38;5;241;43m43\u001b[39;49m\u001b[43m,\u001b[49m\u001b[38;5;241;43m23\u001b[39;49m\u001b[43m,\u001b[49m\u001b[38;5;241;43m34\u001b[39;49m\u001b[43m,\u001b[49m\u001b[38;5;241;43m56\u001b[39;49m\u001b[43m)\u001b[49m\n",
      "Input \u001b[1;32mIn [144]\u001b[0m, in \u001b[0;36madd1\u001b[1;34m(a, b, *arg)\u001b[0m\n\u001b[0;32m      1\u001b[0m \u001b[38;5;28;01mdef\u001b[39;00m \u001b[38;5;21madd1\u001b[39m(a,b\u001b[38;5;241m=\u001b[39m\u001b[38;5;241m10\u001b[39m,\u001b[38;5;241m*\u001b[39marg):\n\u001b[0;32m      2\u001b[0m \u001b[38;5;66;03m#    print(f'a ={a} and b ={b} and arg={arg}')\u001b[39;00m\n\u001b[1;32m----> 3\u001b[0m     add \u001b[38;5;241m=\u001b[39m \u001b[43ma\u001b[49m\u001b[38;5;241;43m+\u001b[39;49m\u001b[43mb\u001b[49m\u001b[38;5;241;43m+\u001b[39;49m\u001b[43marg\u001b[49m\n\u001b[0;32m      4\u001b[0m     \u001b[38;5;28;01mreturn\u001b[39;00m(\u001b[38;5;124mf\u001b[39m\u001b[38;5;124m'\u001b[39m\u001b[38;5;124mAddition of \u001b[39m\u001b[38;5;132;01m{\u001b[39;00ma\u001b[38;5;132;01m}\u001b[39;00m\u001b[38;5;124m and \u001b[39m\u001b[38;5;132;01m{\u001b[39;00mb\u001b[38;5;132;01m}\u001b[39;00m\u001b[38;5;124m and \u001b[39m\u001b[38;5;132;01m{\u001b[39;00marg\u001b[38;5;132;01m}\u001b[39;00m\u001b[38;5;124m is \u001b[39m\u001b[38;5;132;01m{\u001b[39;00madd\u001b[38;5;132;01m}\u001b[39;00m\u001b[38;5;124m \u001b[39m\u001b[38;5;124m'\u001b[39m)\n",
      "\u001b[1;31mTypeError\u001b[0m: unsupported operand type(s) for +: 'int' and 'tuple'"
     ]
    }
   ],
   "source": [
    "add1(23,43,23,34,56)"
   ]
  },
  {
   "cell_type": "code",
   "execution_count": 146,
   "id": "7116bbad",
   "metadata": {},
   "outputs": [
    {
     "ename": "TypeError",
     "evalue": "unsupported operand type(s) for +: 'int' and 'tuple'",
     "output_type": "error",
     "traceback": [
      "\u001b[1;31m---------------------------------------------------------------------------\u001b[0m",
      "\u001b[1;31mTypeError\u001b[0m                                 Traceback (most recent call last)",
      "Input \u001b[1;32mIn [146]\u001b[0m, in \u001b[0;36m<cell line: 4>\u001b[1;34m()\u001b[0m\n\u001b[0;32m      2\u001b[0m b\u001b[38;5;241m=\u001b[39m\u001b[38;5;241m43\u001b[39m\n\u001b[0;32m      3\u001b[0m c\u001b[38;5;241m=\u001b[39m(\u001b[38;5;241m23\u001b[39m,\u001b[38;5;241m34\u001b[39m,\u001b[38;5;241m56\u001b[39m)\n\u001b[1;32m----> 4\u001b[0m add\u001b[38;5;241m=\u001b[39m\u001b[43ma\u001b[49m\u001b[38;5;241;43m+\u001b[39;49m\u001b[43mb\u001b[49m\u001b[38;5;241;43m+\u001b[39;49m\u001b[43mc\u001b[49m\n\u001b[0;32m      5\u001b[0m add\n",
      "\u001b[1;31mTypeError\u001b[0m: unsupported operand type(s) for +: 'int' and 'tuple'"
     ]
    }
   ],
   "source": [
    "a=23 # detail explaination of upper problem like it we are trying to do that in upper problem\n",
    "b=43\n",
    "c=(23,34,56)\n",
    "add=a+b+c\n",
    "add"
   ]
  },
  {
   "cell_type": "markdown",
   "id": "def5f2d7",
   "metadata": {},
   "source": [
    "# Recursive Function"
   ]
  },
  {
   "cell_type": "raw",
   "id": "a961ba9a",
   "metadata": {},
   "source": [
    "When we call the function inside the same function that time it is called as recursive function.\n",
    "we use it when we required multiple things in short code."
   ]
  },
  {
   "cell_type": "markdown",
   "id": "135e06a8",
   "metadata": {},
   "source": [
    "## odd even number"
   ]
  },
  {
   "cell_type": "code",
   "execution_count": 147,
   "id": "8cc5713a",
   "metadata": {},
   "outputs": [],
   "source": [
    "def function(list1):\n",
    "    even=[]\n",
    "    odd=[]\n",
    "    for i in list1:\n",
    "        if i%2==0:\n",
    "            even.append(i)\n",
    "        else:\n",
    "            odd.append(i)\n",
    "    print(even) \n",
    "    print(odd)"
   ]
  },
  {
   "cell_type": "code",
   "execution_count": 148,
   "id": "752743b7",
   "metadata": {},
   "outputs": [
    {
     "name": "stdout",
     "output_type": "stream",
     "text": [
      "[4546, 8]\n",
      "[23, 657, 9, 47, 5]\n"
     ]
    }
   ],
   "source": [
    "function([23,4546,657,8,9,47,5])"
   ]
  },
  {
   "cell_type": "markdown",
   "id": "9680cddd",
   "metadata": {},
   "source": [
    "## factorial of number"
   ]
  },
  {
   "cell_type": "code",
   "execution_count": 149,
   "id": "ae84a7fc",
   "metadata": {},
   "outputs": [],
   "source": [
    "def fact(num):\n",
    "    fact = 1\n",
    "    for i in range(1,num+1):\n",
    "        fact*=i\n",
    "    print(' Factorial of a no. is: ',fact)"
   ]
  },
  {
   "cell_type": "code",
   "execution_count": 150,
   "id": "bdcf2dc9",
   "metadata": {},
   "outputs": [
    {
     "name": "stdout",
     "output_type": "stream",
     "text": [
      " Factorial of a no. is:  120\n"
     ]
    }
   ],
   "source": [
    "fact(5)"
   ]
  },
  {
   "cell_type": "code",
   "execution_count": 151,
   "id": "43cee096",
   "metadata": {},
   "outputs": [],
   "source": [
    "# Recursive Function\n",
    "\n",
    "def fact1(n):\n",
    "    if n == 1:\n",
    "        return 1\n",
    "    else:\n",
    "        return n * fact1(n-1) # 5*4*3*2*1"
   ]
  },
  {
   "cell_type": "code",
   "execution_count": 152,
   "id": "203f6cd2",
   "metadata": {},
   "outputs": [
    {
     "data": {
      "text/plain": [
       "120"
      ]
     },
     "execution_count": 152,
     "metadata": {},
     "output_type": "execute_result"
    }
   ],
   "source": [
    "fact1(5)"
   ]
  },
  {
   "cell_type": "code",
   "execution_count": 153,
   "id": "4c646bf8",
   "metadata": {},
   "outputs": [],
   "source": [
    "# Recursive Function\n",
    "\n",
    "def fact1(n):\n",
    "    if n == 1:\n",
    "        return 1\n",
    "    else:\n",
    "        return n * fact1(n-1) # 5*4*3*2*1"
   ]
  },
  {
   "cell_type": "code",
   "execution_count": 154,
   "id": "ab42cb55",
   "metadata": {},
   "outputs": [
    {
     "data": {
      "text/plain": [
       "120"
      ]
     },
     "execution_count": 154,
     "metadata": {},
     "output_type": "execute_result"
    }
   ],
   "source": [
    "fact1(5)"
   ]
  },
  {
   "cell_type": "code",
   "execution_count": 155,
   "id": "a649a913",
   "metadata": {},
   "outputs": [
    {
     "data": {
      "text/plain": [
       "120"
      ]
     },
     "execution_count": 155,
     "metadata": {},
     "output_type": "execute_result"
    }
   ],
   "source": [
    "n = 5\n",
    "n * fact1(n-1) >> 5 * fact1(5-4) >> 5* fact1(4)\n",
    "5*fact1(4) >> 5*4*fact1(3)\n",
    "5*4*fact1(3) >> 5*4*3*fact1(2)\n",
    "5*4*3*fact1(2) >> 5*4*3*2*fact1(1)\n",
    "5*4*3*2*1"
   ]
  },
  {
   "cell_type": "code",
   "execution_count": 156,
   "id": "bb997b5e",
   "metadata": {},
   "outputs": [
    {
     "data": {
      "text/plain": [
       "0"
      ]
     },
     "execution_count": 156,
     "metadata": {},
     "output_type": "execute_result"
    }
   ],
   "source": [
    "fact1(4) >> 4 * fact1(3)\n",
    "fact1(3) >> 3 * fact1(2)\n",
    "fact1(2) >> 2 * fact1(1)\n",
    "fact1(1) >> 1"
   ]
  },
  {
   "cell_type": "code",
   "execution_count": 21,
   "id": "63cf438b",
   "metadata": {},
   "outputs": [],
   "source": [
    "# Recursive Function\n",
    "\n",
    "def fact1(n):\n",
    "    for i in n:\n",
    "        if i==6:\n",
    "            break\n",
    "            \n",
    "    return n * fact1(n-1) # 5*4*3*2*1\n"
   ]
  },
  {
   "cell_type": "code",
   "execution_count": 24,
   "id": "34493016",
   "metadata": {},
   "outputs": [
    {
     "ename": "TypeError",
     "evalue": "'int' object is not iterable",
     "output_type": "error",
     "traceback": [
      "\u001b[1;31m---------------------------------------------------------------------------\u001b[0m",
      "\u001b[1;31mTypeError\u001b[0m                                 Traceback (most recent call last)",
      "Input \u001b[1;32mIn [24]\u001b[0m, in \u001b[0;36m<cell line: 1>\u001b[1;34m()\u001b[0m\n\u001b[1;32m----> 1\u001b[0m \u001b[43mfact1\u001b[49m\u001b[43m(\u001b[49m\u001b[38;5;241;43m5\u001b[39;49m\u001b[43m)\u001b[49m\n",
      "Input \u001b[1;32mIn [21]\u001b[0m, in \u001b[0;36mfact1\u001b[1;34m(n)\u001b[0m\n\u001b[0;32m      3\u001b[0m \u001b[38;5;28;01mdef\u001b[39;00m \u001b[38;5;21mfact1\u001b[39m(n):\n\u001b[1;32m----> 4\u001b[0m     \u001b[38;5;28;01mfor\u001b[39;00m i \u001b[38;5;129;01min\u001b[39;00m n:\n\u001b[0;32m      5\u001b[0m         \u001b[38;5;28;01mif\u001b[39;00m i\u001b[38;5;241m==\u001b[39m\u001b[38;5;241m6\u001b[39m:\n\u001b[0;32m      6\u001b[0m             \u001b[38;5;28;01mbreak\u001b[39;00m\n",
      "\u001b[1;31mTypeError\u001b[0m: 'int' object is not iterable"
     ]
    }
   ],
   "source": [
    "fact1(5)"
   ]
  },
  {
   "cell_type": "code",
   "execution_count": 77,
   "id": "fa603df9",
   "metadata": {},
   "outputs": [],
   "source": [
    "def fact1(n):\n",
    "    return n*fact1(n-1)"
   ]
  },
  {
   "cell_type": "code",
   "execution_count": null,
   "id": "20a9aa90",
   "metadata": {},
   "outputs": [],
   "source": [
    "fact1(23)"
   ]
  },
  {
   "cell_type": "markdown",
   "id": "304c3c36",
   "metadata": {},
   "source": [
    "# Higher Order Functions"
   ]
  },
  {
   "cell_type": "raw",
   "id": "10e333e3",
   "metadata": {},
   "source": [
    "While creating  a function we call out another function inside the block of code is called higher order function.\n",
    "Higher order function\n",
    "1. map\n",
    "2. filter"
   ]
  },
  {
   "cell_type": "code",
   "execution_count": 80,
   "id": "89700d3c",
   "metadata": {},
   "outputs": [],
   "source": [
    "def addition(*arg):\n",
    "    print('Arguments are: ', arg)"
   ]
  },
  {
   "cell_type": "code",
   "execution_count": 81,
   "id": "bfaa62e9",
   "metadata": {},
   "outputs": [
    {
     "name": "stdout",
     "output_type": "stream",
     "text": [
      "Arguments are:  (6, 4, 34, 5, 4, 655, 7)\n"
     ]
    }
   ],
   "source": [
    "addition(6,4,34,5,4,655,7)"
   ]
  },
  {
   "cell_type": "code",
   "execution_count": 82,
   "id": "549ab011",
   "metadata": {},
   "outputs": [],
   "source": [
    "def addition(*arg): # Higher Order Function \n",
    "    print('Arguments are: ', arg)\n",
    "    add = sum(arg)\n",
    "    return add"
   ]
  },
  {
   "cell_type": "code",
   "execution_count": 83,
   "id": "f76edb9b",
   "metadata": {},
   "outputs": [
    {
     "name": "stdout",
     "output_type": "stream",
     "text": [
      "Arguments are:  (6, 4, 34, 5, 4, 655, 7)\n"
     ]
    },
    {
     "data": {
      "text/plain": [
       "715"
      ]
     },
     "execution_count": 83,
     "metadata": {},
     "output_type": "execute_result"
    }
   ],
   "source": [
    "addition(6,4,34,5,4,655,7)"
   ]
  },
  {
   "cell_type": "code",
   "execution_count": 25,
   "id": "9262b102",
   "metadata": {},
   "outputs": [],
   "source": [
    "def mul(arg):\n",
    "    mul1 = 1\n",
    "    for i in arg:\n",
    "        mul1 = mul1 * i\n",
    "    return mul1"
   ]
  },
  {
   "cell_type": "code",
   "execution_count": 26,
   "id": "21c1a044",
   "metadata": {},
   "outputs": [
    {
     "data": {
      "text/plain": [
       "720"
      ]
     },
     "execution_count": 26,
     "metadata": {},
     "output_type": "execute_result"
    }
   ],
   "source": [
    "mul([1,2,3,4,5,6])"
   ]
  },
  {
   "cell_type": "code",
   "execution_count": 27,
   "id": "e8fd4bfa",
   "metadata": {},
   "outputs": [],
   "source": [
    "def multiplication1(mnc): # Higher Order Function \n",
    "    add2 = mul(mnc)\n",
    "    return add2"
   ]
  },
  {
   "cell_type": "code",
   "execution_count": 29,
   "id": "ec2d06ca",
   "metadata": {},
   "outputs": [
    {
     "data": {
      "text/plain": [
       "4704860160"
      ]
     },
     "execution_count": 29,
     "metadata": {},
     "output_type": "execute_result"
    }
   ],
   "source": [
    "multiplication1([12,34,5,6,7,78,8,88])"
   ]
  },
  {
   "cell_type": "code",
   "execution_count": 122,
   "id": "a53fb9b3",
   "metadata": {},
   "outputs": [],
   "source": [
    "def add1(arg):\n",
    "    sum1 = 0\n",
    "    for i in arg:\n",
    "        sum1 = sum1 + i\n",
    "    return sum1"
   ]
  },
  {
   "cell_type": "code",
   "execution_count": 126,
   "id": "4735e7e0",
   "metadata": {},
   "outputs": [
    {
     "data": {
      "text/plain": [
       "42"
      ]
     },
     "execution_count": 126,
     "metadata": {},
     "output_type": "execute_result"
    }
   ],
   "source": [
    "add1((4, 5, 6, 7, 8, 9,3))"
   ]
  },
  {
   "cell_type": "code",
   "execution_count": 127,
   "id": "d2933631",
   "metadata": {},
   "outputs": [],
   "source": [
    "def addition1(mnc): # Higher Order Function \n",
    "    add2 = add1(mnc)\n",
    "    return add2"
   ]
  },
  {
   "cell_type": "code",
   "execution_count": 129,
   "id": "ed037998",
   "metadata": {},
   "outputs": [
    {
     "data": {
      "text/plain": [
       "42"
      ]
     },
     "execution_count": 129,
     "metadata": {},
     "output_type": "execute_result"
    }
   ],
   "source": [
    "addition1((4, 5, 6, 7, 8, 9,3))"
   ]
  },
  {
   "cell_type": "code",
   "execution_count": 157,
   "id": "3d5108d8",
   "metadata": {},
   "outputs": [],
   "source": [
    "def add6(*arg):\n",
    "    sum1 = 1\n",
    "    for i in arg:\n",
    "        sum1 = sum1 * i\n",
    "    return sum1"
   ]
  },
  {
   "cell_type": "code",
   "execution_count": 158,
   "id": "f4f27f68",
   "metadata": {},
   "outputs": [
    {
     "data": {
      "text/plain": [
       "385920"
      ]
     },
     "execution_count": 158,
     "metadata": {},
     "output_type": "execute_result"
    }
   ],
   "source": [
    "add6(12,3,4,5,67,8)"
   ]
  },
  {
   "cell_type": "code",
   "execution_count": 161,
   "id": "0b6ae1ec",
   "metadata": {},
   "outputs": [],
   "source": [
    "def multi (*ijk):\n",
    "    print('all of addition ijk ' ,ijk)\n",
    "    mully=add6(*ijk)\n",
    "    return mully"
   ]
  },
  {
   "cell_type": "code",
   "execution_count": 162,
   "id": "dee5df58",
   "metadata": {},
   "outputs": [
    {
     "name": "stdout",
     "output_type": "stream",
     "text": [
      "all of addition ijk  (1, 2, 3, 4, 5, 6, 7)\n"
     ]
    },
    {
     "data": {
      "text/plain": [
       "5040"
      ]
     },
     "execution_count": 162,
     "metadata": {},
     "output_type": "execute_result"
    }
   ],
   "source": [
    "multi(1,2,3,4,5,6,7)"
   ]
  },
  {
   "cell_type": "code",
   "execution_count": 149,
   "id": "3a598f2d",
   "metadata": {},
   "outputs": [],
   "source": [
    "def adde (*mnv):\n",
    "    sum1=0\n",
    "    for i in mnv:\n",
    "        sum1+=i\n",
    "    return sum1"
   ]
  },
  {
   "cell_type": "code",
   "execution_count": 150,
   "id": "473acfb8",
   "metadata": {},
   "outputs": [
    {
     "data": {
      "text/plain": [
       "82"
      ]
     },
     "execution_count": 150,
     "metadata": {},
     "output_type": "execute_result"
    }
   ],
   "source": [
    "adde(1,2,3,4,5,6,5,54,2)"
   ]
  },
  {
   "cell_type": "code",
   "execution_count": 151,
   "id": "b43bdae3",
   "metadata": {},
   "outputs": [],
   "source": [
    "def substr (*ijk):\n",
    "    print('all of addition ijk ' ,ijk)\n",
    "    addi=adde(*ijk)\n",
    "    return addi"
   ]
  },
  {
   "cell_type": "code",
   "execution_count": 152,
   "id": "1e659feb",
   "metadata": {},
   "outputs": [
    {
     "name": "stdout",
     "output_type": "stream",
     "text": [
      "all of addition ijk  (23, 45, 6, 78, 9)\n"
     ]
    },
    {
     "data": {
      "text/plain": [
       "161"
      ]
     },
     "execution_count": 152,
     "metadata": {},
     "output_type": "execute_result"
    }
   ],
   "source": [
    "substr(23,45,6,78,9)"
   ]
  },
  {
   "cell_type": "markdown",
   "id": "f27ba7eb",
   "metadata": {},
   "source": [
    "# map()"
   ]
  },
  {
   "cell_type": "raw",
   "id": "2d63dafc",
   "metadata": {},
   "source": [
    "# It is a higher order function.\n",
    "# it gives true as well as false conditions.it means display true as well as false conditions.and also gives applying function output.\n",
    "Syntax >> constructor(map(function_name:iterables,variable name))"
   ]
  },
  {
   "cell_type": "code",
   "execution_count": 2,
   "id": "268345ce",
   "metadata": {},
   "outputs": [
    {
     "data": {
      "text/plain": [
       "[16, 25, 36, 9, 4, 1]"
      ]
     },
     "execution_count": 2,
     "metadata": {},
     "output_type": "execute_result"
    }
   ],
   "source": [
    "list1 = [4,5,6,3,2,1]\n",
    "list(map(lambda x:x*x, list1))"
   ]
  },
  {
   "cell_type": "code",
   "execution_count": 1,
   "id": "564d74ca",
   "metadata": {},
   "outputs": [
    {
     "data": {
      "text/plain": [
       "[64, 125, 216, 27, 8, 1]"
      ]
     },
     "execution_count": 1,
     "metadata": {},
     "output_type": "execute_result"
    }
   ],
   "source": [
    "list1 = [4,5,6,3,2,1]\n",
    "list(map(lambda y:y**3, list1))"
   ]
  },
  {
   "cell_type": "code",
   "execution_count": 2,
   "id": "7f6f69c2",
   "metadata": {},
   "outputs": [
    {
     "name": "stdout",
     "output_type": "stream",
     "text": [
      "[False, True, True, True, True, True, False, True, True, True, False, False, True, True, True, True, True, True, False, False, True, True, True, True, True, True, True]\n"
     ]
    }
   ],
   "source": [
    "string = 'Python and Machine Learning'\n",
    "a = list(map(lambda x:x.islower(), string))\n",
    "print(a)"
   ]
  },
  {
   "cell_type": "code",
   "execution_count": 6,
   "id": "811a9a70",
   "metadata": {},
   "outputs": [
    {
     "name": "stdout",
     "output_type": "stream",
     "text": [
      "[]\n"
     ]
    }
   ],
   "source": [
    "string = ''\n",
    "a = list(map(lambda x:x.islower(), string))\n",
    "print(a)"
   ]
  },
  {
   "cell_type": "code",
   "execution_count": 7,
   "id": "f259753f",
   "metadata": {},
   "outputs": [
    {
     "name": "stdout",
     "output_type": "stream",
     "text": [
      "[False, False, False]\n"
     ]
    }
   ],
   "source": [
    "string = '   '\n",
    "a = list(map(lambda x:x.islower(), string))\n",
    "print(a)"
   ]
  },
  {
   "cell_type": "code",
   "execution_count": 10,
   "id": "982b7c1a",
   "metadata": {},
   "outputs": [
    {
     "data": {
      "text/plain": [
       "['m',\n",
       " 'y',\n",
       " ' ',\n",
       " 'n',\n",
       " 'a',\n",
       " 'm',\n",
       " 'e',\n",
       " ' ',\n",
       " 'i',\n",
       " 's',\n",
       " ' ',\n",
       " 'a',\n",
       " 'k',\n",
       " 's',\n",
       " 'h',\n",
       " 'a',\n",
       " 'y']"
      ]
     },
     "execution_count": 10,
     "metadata": {},
     "output_type": "execute_result"
    }
   ],
   "source": [
    "string='My name is Akshay'\n",
    "list(map(lambda y : y.lower(),string))"
   ]
  },
  {
   "cell_type": "code",
   "execution_count": 11,
   "id": "aec1e261",
   "metadata": {},
   "outputs": [
    {
     "name": "stdout",
     "output_type": "stream",
     "text": [
      "['m', 'y', ' ', 'n', 'a', 'm', 'e', ' ', 'i', 's', ' ', 'a', 'k', 's', 'h', 'a', 'y']\n"
     ]
    }
   ],
   "source": [
    "string='My name is Akshay'\n",
    "print(list(map(lambda y : y.lower(),string)))"
   ]
  },
  {
   "cell_type": "code",
   "execution_count": 13,
   "id": "dd34389b",
   "metadata": {},
   "outputs": [
    {
     "name": "stdout",
     "output_type": "stream",
     "text": [
      "['m', 'y', ' ', 'n', 'a', 'm', 'e', ' ', 'i', 's', ' ', 'a', 'k', 's', 'h', 'a', 'y']\n"
     ]
    }
   ],
   "source": [
    "string='My name is Akshay'\n",
    "b=print(list(map(lambda y : y.lower(),string)))\n",
    "b"
   ]
  },
  {
   "cell_type": "code",
   "execution_count": 21,
   "id": "f9e5f9a8",
   "metadata": {},
   "outputs": [
    {
     "name": "stdout",
     "output_type": "stream",
     "text": [
      "['m', 'y', ' ', 'n', 'a', 'm', 'e', ' ', 'i', 's', ' ', 'a', 'k', 's', 'h', 'a', 'y']\n"
     ]
    }
   ],
   "source": [
    "string='My name is Akshay'\n",
    "b=list(map(lambda y : y.lower(),string))\n",
    "print(b)"
   ]
  },
  {
   "cell_type": "code",
   "execution_count": 12,
   "id": "21b7f66c",
   "metadata": {},
   "outputs": [
    {
     "name": "stdout",
     "output_type": "stream",
     "text": [
      "['m', 'y', ' ', 'n', 'a', 'm', 'e', ' ', 'i', 's', ' ', 'a', 'k', 's', 'h', 'a', 'y']\n",
      "None\n"
     ]
    }
   ],
   "source": [
    "string='My name is Akshay'\n",
    "b=print(list(map(lambda y : y.lower(),string)))\n",
    "print(b)"
   ]
  },
  {
   "cell_type": "code",
   "execution_count": 69,
   "id": "6734ba6a",
   "metadata": {},
   "outputs": [
    {
     "data": {
      "text/plain": [
       "21"
      ]
     },
     "execution_count": 69,
     "metadata": {},
     "output_type": "execute_result"
    }
   ],
   "source": [
    "def add(list1):\n",
    "    add1 = 0\n",
    "    for i in list1:\n",
    "        add1= add1+i\n",
    "    return add1\n",
    "add([4,5,6,3,2,1])"
   ]
  },
  {
   "cell_type": "code",
   "execution_count": 76,
   "id": "7faa919d",
   "metadata": {},
   "outputs": [
    {
     "ename": "SyntaxError",
     "evalue": "invalid syntax (2484076055.py, line 2)",
     "output_type": "error",
     "traceback": [
      "\u001b[1;36m  Input \u001b[1;32mIn [76]\u001b[1;36m\u001b[0m\n\u001b[1;33m    list(add y:y+y,x)\u001b[0m\n\u001b[1;37m             ^\u001b[0m\n\u001b[1;31mSyntaxError\u001b[0m\u001b[1;31m:\u001b[0m invalid syntax\n"
     ]
    }
   ],
   "source": [
    "x=[]\n",
    "list(add y:y+y,x)\n",
    "x"
   ]
  },
  {
   "cell_type": "code",
   "execution_count": null,
   "id": "e838af43",
   "metadata": {},
   "outputs": [],
   "source": []
  },
  {
   "cell_type": "markdown",
   "id": "8d0ed6e1",
   "metadata": {},
   "source": [
    "## Non Working Constructors"
   ]
  },
  {
   "cell_type": "code",
   "execution_count": 14,
   "id": "38e6392b",
   "metadata": {},
   "outputs": [
    {
     "data": {
      "text/plain": [
       "<map at 0x23d5c917610>"
      ]
     },
     "execution_count": 14,
     "metadata": {},
     "output_type": "execute_result"
    }
   ],
   "source": [
    "string = 'Python and Machine Learning'\n",
    "a = map(lambda x:x.islower(), string)\n",
    "a"
   ]
  },
  {
   "cell_type": "code",
   "execution_count": 17,
   "id": "e8a1cd54",
   "metadata": {},
   "outputs": [
    {
     "data": {
      "text/plain": [
       "'<map object at 0x0000023D5C90A6A0>'"
      ]
     },
     "execution_count": 17,
     "metadata": {},
     "output_type": "execute_result"
    }
   ],
   "source": [
    "string = 'Python and Machine Learning'\n",
    "a = str(map(lambda x:x.islower(), string))\n",
    "a"
   ]
  },
  {
   "cell_type": "code",
   "execution_count": 3,
   "id": "383d6ae5",
   "metadata": {},
   "outputs": [
    {
     "ename": "SyntaxError",
     "evalue": "invalid syntax (2324707520.py, line 1)",
     "output_type": "error",
     "traceback": [
      "\u001b[1;36m  Input \u001b[1;32mIn [3]\u001b[1;36m\u001b[0m\n\u001b[1;33m    list1 =['ram'=4,'sham'=5,'radha'=6]\u001b[0m\n\u001b[1;37m                 ^\u001b[0m\n\u001b[1;31mSyntaxError\u001b[0m\u001b[1;31m:\u001b[0m invalid syntax\n"
     ]
    }
   ],
   "source": [
    "list1 =['ram'=4,'sham'=5,'radha'=6]\n",
    "a=dict(map(lambda x:x.items(), list1))\n",
    "print(a)"
   ]
  },
  {
   "cell_type": "code",
   "execution_count": 14,
   "id": "01f3af6f",
   "metadata": {},
   "outputs": [
    {
     "ename": "AttributeError",
     "evalue": "'str' object has no attribute 'values'",
     "output_type": "error",
     "traceback": [
      "\u001b[1;31m---------------------------------------------------------------------------\u001b[0m",
      "\u001b[1;31mAttributeError\u001b[0m                            Traceback (most recent call last)",
      "Input \u001b[1;32mIn [14]\u001b[0m, in \u001b[0;36m<cell line: 2>\u001b[1;34m()\u001b[0m\n\u001b[0;32m      1\u001b[0m list1 \u001b[38;5;241m=\u001b[39m{\u001b[38;5;124m'\u001b[39m\u001b[38;5;124mram\u001b[39m\u001b[38;5;124m'\u001b[39m:\u001b[38;5;241m4\u001b[39m}\n\u001b[0;32m      2\u001b[0m \u001b[38;5;28;01mfor\u001b[39;00m i \u001b[38;5;129;01min\u001b[39;00m \u001b[38;5;28mrange\u001b[39m(\u001b[38;5;28mlen\u001b[39m(list1)):\n\u001b[1;32m----> 3\u001b[0m     \u001b[38;5;28;43mdict\u001b[39;49m\u001b[43m(\u001b[49m\u001b[38;5;28;43mmap\u001b[39;49m\u001b[43m(\u001b[49m\u001b[38;5;28;43;01mlambda\u001b[39;49;00m\u001b[43m \u001b[49m\u001b[43mi\u001b[49m\u001b[43m:\u001b[49m\u001b[43mi\u001b[49m\u001b[38;5;241;43m.\u001b[39;49m\u001b[43mvalues\u001b[49m\u001b[43m(\u001b[49m\u001b[43m)\u001b[49m\u001b[43m,\u001b[49m\u001b[43m \u001b[49m\u001b[43mlist1\u001b[49m\u001b[43m)\u001b[49m\u001b[43m)\u001b[49m\n\u001b[0;32m      4\u001b[0m     \u001b[38;5;28mprint\u001b[39m(a)\n",
      "Input \u001b[1;32mIn [14]\u001b[0m, in \u001b[0;36m<lambda>\u001b[1;34m(i)\u001b[0m\n\u001b[0;32m      1\u001b[0m list1 \u001b[38;5;241m=\u001b[39m{\u001b[38;5;124m'\u001b[39m\u001b[38;5;124mram\u001b[39m\u001b[38;5;124m'\u001b[39m:\u001b[38;5;241m4\u001b[39m}\n\u001b[0;32m      2\u001b[0m \u001b[38;5;28;01mfor\u001b[39;00m i \u001b[38;5;129;01min\u001b[39;00m \u001b[38;5;28mrange\u001b[39m(\u001b[38;5;28mlen\u001b[39m(list1)):\n\u001b[1;32m----> 3\u001b[0m     \u001b[38;5;28mdict\u001b[39m(\u001b[38;5;28mmap\u001b[39m(\u001b[38;5;28;01mlambda\u001b[39;00m i:\u001b[43mi\u001b[49m\u001b[38;5;241;43m.\u001b[39;49m\u001b[43mvalues\u001b[49m(), list1))\n\u001b[0;32m      4\u001b[0m     \u001b[38;5;28mprint\u001b[39m(a)\n",
      "\u001b[1;31mAttributeError\u001b[0m: 'str' object has no attribute 'values'"
     ]
    }
   ],
   "source": [
    "list1 ={'ram':4}\n",
    "for i in range(len(list1)):\n",
    "    dict(map(lambda i:i.values(), list1))\n",
    "    print(a)"
   ]
  },
  {
   "cell_type": "code",
   "execution_count": 6,
   "id": "2b743fa8",
   "metadata": {},
   "outputs": [
    {
     "data": {
      "text/plain": [
       "dict_values([4, 5, 6, 3])"
      ]
     },
     "execution_count": 6,
     "metadata": {},
     "output_type": "execute_result"
    }
   ],
   "source": [
    "list1 = {'ram':4,'sham':5,'radha':6,'divya':3}\n",
    "list1.values()\n"
   ]
  },
  {
   "cell_type": "code",
   "execution_count": 28,
   "id": "d10267ac",
   "metadata": {},
   "outputs": [
    {
     "ename": "TypeError",
     "evalue": "int() argument must be a string, a bytes-like object or a number, not 'map'",
     "output_type": "error",
     "traceback": [
      "\u001b[1;31m---------------------------------------------------------------------------\u001b[0m",
      "\u001b[1;31mTypeError\u001b[0m                                 Traceback (most recent call last)",
      "Input \u001b[1;32mIn [28]\u001b[0m, in \u001b[0;36m<cell line: 2>\u001b[1;34m()\u001b[0m\n\u001b[0;32m      1\u001b[0m list1 \u001b[38;5;241m=\u001b[39m [\u001b[38;5;241m4\u001b[39m,\u001b[38;5;241m5\u001b[39m,\u001b[38;5;241m6\u001b[39m,\u001b[38;5;241m3\u001b[39m,\u001b[38;5;241m2\u001b[39m,\u001b[38;5;241m1\u001b[39m]\n\u001b[1;32m----> 2\u001b[0m \u001b[38;5;28;43mint\u001b[39;49m\u001b[43m(\u001b[49m\u001b[38;5;28;43mmap\u001b[39;49m\u001b[43m(\u001b[49m\u001b[38;5;28;43;01mlambda\u001b[39;49;00m\u001b[43m \u001b[49m\u001b[43mx\u001b[49m\u001b[43m:\u001b[49m\u001b[43mx\u001b[49m\u001b[38;5;241;43m*\u001b[39;49m\u001b[43mx\u001b[49m\u001b[43m,\u001b[49m\u001b[43m \u001b[49m\u001b[43mlist1\u001b[49m\u001b[43m)\u001b[49m\u001b[43m)\u001b[49m\n",
      "\u001b[1;31mTypeError\u001b[0m: int() argument must be a string, a bytes-like object or a number, not 'map'"
     ]
    }
   ],
   "source": [
    "list1 = [4,5,6,3,2,1]\n",
    "int(map(lambda x:x*x, list1))"
   ]
  },
  {
   "cell_type": "code",
   "execution_count": 29,
   "id": "acbad174",
   "metadata": {},
   "outputs": [
    {
     "ename": "TypeError",
     "evalue": "float() argument must be a string or a number, not 'map'",
     "output_type": "error",
     "traceback": [
      "\u001b[1;31m---------------------------------------------------------------------------\u001b[0m",
      "\u001b[1;31mTypeError\u001b[0m                                 Traceback (most recent call last)",
      "Input \u001b[1;32mIn [29]\u001b[0m, in \u001b[0;36m<cell line: 2>\u001b[1;34m()\u001b[0m\n\u001b[0;32m      1\u001b[0m list1 \u001b[38;5;241m=\u001b[39m [\u001b[38;5;241m4\u001b[39m,\u001b[38;5;241m5\u001b[39m,\u001b[38;5;241m6\u001b[39m,\u001b[38;5;241m3\u001b[39m,\u001b[38;5;241m2\u001b[39m,\u001b[38;5;241m1\u001b[39m]\n\u001b[1;32m----> 2\u001b[0m \u001b[38;5;28;43mfloat\u001b[39;49m\u001b[43m(\u001b[49m\u001b[38;5;28;43mmap\u001b[39;49m\u001b[43m(\u001b[49m\u001b[38;5;28;43;01mlambda\u001b[39;49;00m\u001b[43m \u001b[49m\u001b[43mx\u001b[49m\u001b[43m:\u001b[49m\u001b[43mx\u001b[49m\u001b[38;5;241;43m*\u001b[39;49m\u001b[43mx\u001b[49m\u001b[43m,\u001b[49m\u001b[43m \u001b[49m\u001b[43mlist1\u001b[49m\u001b[43m)\u001b[49m\u001b[43m)\u001b[49m\n",
      "\u001b[1;31mTypeError\u001b[0m: float() argument must be a string or a number, not 'map'"
     ]
    }
   ],
   "source": [
    "list1 = [4,5,6,3,2,1]\n",
    "float(map(lambda x:x*x, list1))"
   ]
  },
  {
   "cell_type": "markdown",
   "id": "b8fabe38",
   "metadata": {},
   "source": [
    "## Working Constructors"
   ]
  },
  {
   "cell_type": "code",
   "execution_count": 19,
   "id": "1809ec2e",
   "metadata": {},
   "outputs": [
    {
     "name": "stdout",
     "output_type": "stream",
     "text": [
      "(False, True, True, True, True, True, False, True, True, True, False, False, True, True, True, True, True, True, False, False, True, True, True, True, True, True, True)\n"
     ]
    }
   ],
   "source": [
    "string = 'Python and Machine Learning'\n",
    "a = tuple(map(lambda x:x.islower(), string))\n",
    "print(a)"
   ]
  },
  {
   "cell_type": "code",
   "execution_count": 23,
   "id": "7d4e7103",
   "metadata": {},
   "outputs": [
    {
     "name": "stdout",
     "output_type": "stream",
     "text": [
      "[False, True, True, True, True, True, False, True, True, True, False, False, True, True, True, True, True, True, False, False, True, True, True, True, True, True, True]\n"
     ]
    }
   ],
   "source": [
    "string = 'Python and Machine Learning'\n",
    "a = list(map(lambda x:x.islower(), string))\n",
    "print(a)"
   ]
  },
  {
   "cell_type": "code",
   "execution_count": 46,
   "id": "aacba99b",
   "metadata": {},
   "outputs": [
    {
     "data": {
      "text/plain": [
       "{1, 4, 9, 16, 25, 36}"
      ]
     },
     "execution_count": 46,
     "metadata": {},
     "output_type": "execute_result"
    }
   ],
   "source": [
    "list1 = [4,5,6,3,2,1]\n",
    "a=set(map(lambda x:x*x, list1))\n",
    "a"
   ]
  },
  {
   "cell_type": "code",
   "execution_count": 45,
   "id": "f9af5149",
   "metadata": {},
   "outputs": [
    {
     "name": "stdout",
     "output_type": "stream",
     "text": [
      "{1, 36, 4, 9, 16, 25}\n"
     ]
    }
   ],
   "source": [
    "list1 = [4,5,6,3,2,1]\n",
    "a=set(map(lambda x:x*x, list1))\n",
    "print(a)"
   ]
  },
  {
   "cell_type": "code",
   "execution_count": 47,
   "id": "f2cb708a",
   "metadata": {},
   "outputs": [
    {
     "data": {
      "text/plain": [
       "frozenset({1, 4, 9, 16, 25, 36})"
      ]
     },
     "execution_count": 47,
     "metadata": {},
     "output_type": "execute_result"
    }
   ],
   "source": [
    "list1 = [4,5,6,3,2,1]\n",
    "a=frozenset(map(lambda x:x*x, list1))\n",
    "a"
   ]
  },
  {
   "cell_type": "code",
   "execution_count": 48,
   "id": "440bac04",
   "metadata": {},
   "outputs": [
    {
     "name": "stdout",
     "output_type": "stream",
     "text": [
      "frozenset({1, 36, 4, 9, 16, 25})\n"
     ]
    }
   ],
   "source": [
    "list1 = [4,5,6,3,2,1]\n",
    "a=frozenset(map(lambda x:x*x, list1))\n",
    "print(a)"
   ]
  },
  {
   "cell_type": "markdown",
   "id": "de94b0a0",
   "metadata": {},
   "source": [
    "# filter()"
   ]
  },
  {
   "cell_type": "raw",
   "id": "a8ea56a1",
   "metadata": {},
   "source": [
    "it gives only true condition values.it means display only true condition values,false condition values does not show\n",
    "Syntax >> constructor(filter(function_name:iterables,variable name)"
   ]
  },
  {
   "cell_type": "code",
   "execution_count": 22,
   "id": "8ce2499a",
   "metadata": {},
   "outputs": [
    {
     "name": "stdout",
     "output_type": "stream",
     "text": [
      "['p', 'y', 't', 'h', 'o', 'n', ' ', 'a', 'n', 'd', ' ', 'm', 'a', 'c', 'h', 'i', 'n', 'e', ' ', 'l', 'e', 'a', 'r', 'n', 'i', 'n', 'g']\n"
     ]
    },
    {
     "data": {
      "text/plain": [
       "27"
      ]
     },
     "execution_count": 22,
     "metadata": {},
     "output_type": "execute_result"
    }
   ],
   "source": [
    "string = 'Python and Machine Learning'\n",
    "a = list(map(lambda x:x.lower(), string))\n",
    "print(a)\n",
    "len(a)"
   ]
  },
  {
   "cell_type": "code",
   "execution_count": 18,
   "id": "d53df3cb",
   "metadata": {},
   "outputs": [
    {
     "name": "stdout",
     "output_type": "stream",
     "text": [
      "[False, True, True, True, True, True, False, True, True, True, False, False, True, True, True, True, True, True, False, False, True, True, True, True, True, True, True]\n"
     ]
    },
    {
     "data": {
      "text/plain": [
       "27"
      ]
     },
     "execution_count": 18,
     "metadata": {},
     "output_type": "execute_result"
    }
   ],
   "source": [
    "string = 'Python and Machine Learning'\n",
    "a = list(map(lambda x:x.islower(), string))\n",
    "print(a)\n",
    "len(a)"
   ]
  },
  {
   "cell_type": "code",
   "execution_count": 19,
   "id": "2d1cc774",
   "metadata": {},
   "outputs": [
    {
     "name": "stdout",
     "output_type": "stream",
     "text": [
      "['y', 't', 'h', 'o', 'n', 'a', 'n', 'd', 'a', 'c', 'h', 'i', 'n', 'e', 'e', 'a', 'r', 'n', 'i', 'n', 'g']\n"
     ]
    },
    {
     "data": {
      "text/plain": [
       "21"
      ]
     },
     "execution_count": 19,
     "metadata": {},
     "output_type": "execute_result"
    }
   ],
   "source": [
    "string = 'Python and Machine Learning'\n",
    "a = list(filter(lambda x:x.islower(), string))\n",
    "print(a)\n",
    "len(a)"
   ]
  },
  {
   "cell_type": "code",
   "execution_count": 20,
   "id": "4b0ddf64",
   "metadata": {},
   "outputs": [
    {
     "data": {
      "text/plain": [
       "[True, False, True, False, True, True, False, False, True]"
      ]
     },
     "execution_count": 20,
     "metadata": {},
     "output_type": "execute_result"
    }
   ],
   "source": [
    "list1 = [4,5,2,13,6,8,7,9,10]\n",
    "list(map(lambda x: x%2==0,list1))"
   ]
  },
  {
   "cell_type": "code",
   "execution_count": 21,
   "id": "9beed1c6",
   "metadata": {},
   "outputs": [
    {
     "data": {
      "text/plain": [
       "[4, 2, 6, 8, 10]"
      ]
     },
     "execution_count": 21,
     "metadata": {},
     "output_type": "execute_result"
    }
   ],
   "source": [
    "list1 = [4,5,2,13,6,8,7,9,10]\n",
    "list(filter(lambda x: x%2==0,list1))"
   ]
  },
  {
   "cell_type": "code",
   "execution_count": 25,
   "id": "162822ad",
   "metadata": {},
   "outputs": [
    {
     "name": "stdout",
     "output_type": "stream",
     "text": [
      "[False, True, False, True, False, False, True, True, False]\n"
     ]
    }
   ],
   "source": [
    "list1 = [4,5,2,13,6,8,7,9,10]\n",
    "a=list(map(lambda y:y%2!=0,list1))\n",
    "print(a)"
   ]
  },
  {
   "cell_type": "code",
   "execution_count": 26,
   "id": "898aaff8",
   "metadata": {},
   "outputs": [
    {
     "data": {
      "text/plain": [
       "[5, 13, 7, 9]"
      ]
     },
     "execution_count": 26,
     "metadata": {},
     "output_type": "execute_result"
    }
   ],
   "source": [
    "list1 = [4,5,2,13,6,8,7,9,10]\n",
    "list(filter(lambda x: x%2!=0,list1))"
   ]
  },
  {
   "cell_type": "code",
   "execution_count": 28,
   "id": "cf49c457",
   "metadata": {},
   "outputs": [
    {
     "data": {
      "text/plain": [
       "[True, True, False, False, True, False]"
      ]
     },
     "execution_count": 28,
     "metadata": {},
     "output_type": "execute_result"
    }
   ],
   "source": [
    "weekdays = ['Sunday','Monday','Tuesday','Wednsday','Friday','Saturday']\n",
    "list(map(lambda x: len(x)==6, weekdays))"
   ]
  },
  {
   "cell_type": "code",
   "execution_count": 30,
   "id": "1ed0a53b",
   "metadata": {},
   "outputs": [
    {
     "data": {
      "text/plain": [
       "['Sunday', 'Monday', 'Friday']"
      ]
     },
     "execution_count": 30,
     "metadata": {},
     "output_type": "execute_result"
    }
   ],
   "source": [
    "weekdays = ['Sunday','Monday','Tuesday','Wednsday','Friday','Saturday']\n",
    "list(filter(lambda y:len(y)==6,weekdays))"
   ]
  },
  {
   "cell_type": "markdown",
   "id": "087b5fae",
   "metadata": {},
   "source": [
    "## Working Constructions"
   ]
  },
  {
   "cell_type": "code",
   "execution_count": 31,
   "id": "1e9525f9",
   "metadata": {},
   "outputs": [
    {
     "name": "stdout",
     "output_type": "stream",
     "text": [
      "('y', 't', 'h', 'o', 'n', 'a', 'n', 'd', 'a', 'c', 'h', 'i', 'n', 'e', 'e', 'a', 'r', 'n', 'i', 'n', 'g')\n"
     ]
    }
   ],
   "source": [
    "string = 'Python and Machine Learning'\n",
    "a = tuple(filter(lambda x:x.islower(), string))\n",
    "print(a)"
   ]
  },
  {
   "cell_type": "code",
   "execution_count": 32,
   "id": "42cf7928",
   "metadata": {},
   "outputs": [
    {
     "name": "stdout",
     "output_type": "stream",
     "text": [
      "['y', 't', 'h', 'o', 'n', 'a', 'n', 'd', 'a', 'c', 'h', 'i', 'n', 'e', 'e', 'a', 'r', 'n', 'i', 'n', 'g']\n"
     ]
    }
   ],
   "source": [
    "string = 'Python and Machine Learning'\n",
    "a = list(filter(lambda x:x.islower(), string))\n",
    "print(a)"
   ]
  },
  {
   "cell_type": "code",
   "execution_count": 34,
   "id": "223bda35",
   "metadata": {},
   "outputs": [
    {
     "data": {
      "text/plain": [
       "{1, 2, 3, 4, 5, 6}"
      ]
     },
     "execution_count": 34,
     "metadata": {},
     "output_type": "execute_result"
    }
   ],
   "source": [
    "list1 = [4,5,6,3,2,1]\n",
    "a=set(filter(lambda x:x*x, list1))\n",
    "a"
   ]
  },
  {
   "cell_type": "code",
   "execution_count": 51,
   "id": "8ec8f0c8",
   "metadata": {},
   "outputs": [
    {
     "name": "stdout",
     "output_type": "stream",
     "text": [
      "{1, 2, 3, 4, 5, 6}\n"
     ]
    }
   ],
   "source": [
    "list1 = [4,5,6,3,2,1]\n",
    "a=set(filter(lambda x:x*x, list1))\n",
    "print(a)"
   ]
  },
  {
   "cell_type": "code",
   "execution_count": 50,
   "id": "09024634",
   "metadata": {},
   "outputs": [
    {
     "data": {
      "text/plain": [
       "frozenset({1, 2, 3, 4, 5, 6})"
      ]
     },
     "execution_count": 50,
     "metadata": {},
     "output_type": "execute_result"
    }
   ],
   "source": [
    "list1 = [4,5,6,3,2,1]\n",
    "a=frozenset(filter(lambda x:x*x, list1))\n",
    "a"
   ]
  },
  {
   "cell_type": "code",
   "execution_count": 49,
   "id": "49f5f792",
   "metadata": {},
   "outputs": [
    {
     "name": "stdout",
     "output_type": "stream",
     "text": [
      "frozenset({1, 2, 3, 4, 5, 6})\n"
     ]
    }
   ],
   "source": [
    "list1 = [4,5,6,3,2,1]\n",
    "a=frozenset(filter(lambda x:x*x, list1))\n",
    "print(a)"
   ]
  },
  {
   "cell_type": "markdown",
   "id": "983410ca",
   "metadata": {},
   "source": [
    "## Non Working Constructors"
   ]
  },
  {
   "cell_type": "code",
   "execution_count": 39,
   "id": "62911701",
   "metadata": {},
   "outputs": [
    {
     "data": {
      "text/plain": [
       "<filter at 0x18740eb1070>"
      ]
     },
     "execution_count": 39,
     "metadata": {},
     "output_type": "execute_result"
    }
   ],
   "source": [
    "string = 'Python and Machine Learning'\n",
    "a = filter(lambda x:x.islower(), string)\n",
    "a"
   ]
  },
  {
   "cell_type": "code",
   "execution_count": 42,
   "id": "d56d5510",
   "metadata": {},
   "outputs": [
    {
     "data": {
      "text/plain": [
       "'<filter object at 0x0000018740E62190>'"
      ]
     },
     "execution_count": 42,
     "metadata": {},
     "output_type": "execute_result"
    }
   ],
   "source": [
    "string = 'Python and Machine Learning'\n",
    "a = str(filter(lambda x:x.islower(), string))\n",
    "a"
   ]
  },
  {
   "cell_type": "code",
   "execution_count": 41,
   "id": "681b91d7",
   "metadata": {},
   "outputs": [
    {
     "ename": "SyntaxError",
     "evalue": "EOL while scanning string literal (174493473.py, line 1)",
     "output_type": "error",
     "traceback": [
      "\u001b[1;36m  Input \u001b[1;32mIn [41]\u001b[1;36m\u001b[0m\n\u001b[1;33m    list1 ='ram=4,sham=5,radha=6\u001b[0m\n\u001b[1;37m                                ^\u001b[0m\n\u001b[1;31mSyntaxError\u001b[0m\u001b[1;31m:\u001b[0m EOL while scanning string literal\n"
     ]
    }
   ],
   "source": [
    "list1 ='ram=4,sham=5,radha=6\n",
    "a=dict(filter(lambda x:x.items(), list1))\n",
    "print(a)"
   ]
  },
  {
   "cell_type": "code",
   "execution_count": 44,
   "id": "e531a21f",
   "metadata": {},
   "outputs": [
    {
     "ename": "AttributeError",
     "evalue": "'str' object has no attribute 'items'",
     "output_type": "error",
     "traceback": [
      "\u001b[1;31m---------------------------------------------------------------------------\u001b[0m",
      "\u001b[1;31mAttributeError\u001b[0m                            Traceback (most recent call last)",
      "Input \u001b[1;32mIn [44]\u001b[0m, in \u001b[0;36m<cell line: 2>\u001b[1;34m()\u001b[0m\n\u001b[0;32m      1\u001b[0m list1 \u001b[38;5;241m=\u001b[39m {\u001b[38;5;124m'\u001b[39m\u001b[38;5;124mram\u001b[39m\u001b[38;5;124m'\u001b[39m:\u001b[38;5;241m4\u001b[39m,\u001b[38;5;124m'\u001b[39m\u001b[38;5;124msham\u001b[39m\u001b[38;5;124m'\u001b[39m:\u001b[38;5;241m5\u001b[39m,\u001b[38;5;124m'\u001b[39m\u001b[38;5;124mradha\u001b[39m\u001b[38;5;124m'\u001b[39m:\u001b[38;5;241m6\u001b[39m,\u001b[38;5;124m'\u001b[39m\u001b[38;5;124mdivya\u001b[39m\u001b[38;5;124m'\u001b[39m:\u001b[38;5;241m3\u001b[39m}\n\u001b[1;32m----> 2\u001b[0m a\u001b[38;5;241m=\u001b[39m\u001b[38;5;28;43mdict\u001b[39;49m\u001b[43m(\u001b[49m\u001b[38;5;28;43mfilter\u001b[39;49m\u001b[43m(\u001b[49m\u001b[38;5;28;43;01mlambda\u001b[39;49;00m\u001b[43m \u001b[49m\u001b[43mx\u001b[49m\u001b[43m:\u001b[49m\u001b[43mx\u001b[49m\u001b[38;5;241;43m.\u001b[39;49m\u001b[43mitems\u001b[49m\u001b[43m(\u001b[49m\u001b[43m)\u001b[49m\u001b[43m,\u001b[49m\u001b[43m \u001b[49m\u001b[43mlist1\u001b[49m\u001b[43m)\u001b[49m\u001b[43m)\u001b[49m\n\u001b[0;32m      3\u001b[0m a\n",
      "Input \u001b[1;32mIn [44]\u001b[0m, in \u001b[0;36m<lambda>\u001b[1;34m(x)\u001b[0m\n\u001b[0;32m      1\u001b[0m list1 \u001b[38;5;241m=\u001b[39m {\u001b[38;5;124m'\u001b[39m\u001b[38;5;124mram\u001b[39m\u001b[38;5;124m'\u001b[39m:\u001b[38;5;241m4\u001b[39m,\u001b[38;5;124m'\u001b[39m\u001b[38;5;124msham\u001b[39m\u001b[38;5;124m'\u001b[39m:\u001b[38;5;241m5\u001b[39m,\u001b[38;5;124m'\u001b[39m\u001b[38;5;124mradha\u001b[39m\u001b[38;5;124m'\u001b[39m:\u001b[38;5;241m6\u001b[39m,\u001b[38;5;124m'\u001b[39m\u001b[38;5;124mdivya\u001b[39m\u001b[38;5;124m'\u001b[39m:\u001b[38;5;241m3\u001b[39m}\n\u001b[1;32m----> 2\u001b[0m a\u001b[38;5;241m=\u001b[39m\u001b[38;5;28mdict\u001b[39m(\u001b[38;5;28mfilter\u001b[39m(\u001b[38;5;28;01mlambda\u001b[39;00m x:\u001b[43mx\u001b[49m\u001b[38;5;241;43m.\u001b[39;49m\u001b[43mitems\u001b[49m(), list1))\n\u001b[0;32m      3\u001b[0m a\n",
      "\u001b[1;31mAttributeError\u001b[0m: 'str' object has no attribute 'items'"
     ]
    }
   ],
   "source": [
    "list1 = {'ram':4,'sham':5,'radha':6,'divya':3}\n",
    "a=dict(filter(lambda x:x.items(), list1))\n",
    "a"
   ]
  },
  {
   "cell_type": "code",
   "execution_count": 46,
   "id": "53d6bc58",
   "metadata": {},
   "outputs": [
    {
     "ename": "TypeError",
     "evalue": "int() argument must be a string, a bytes-like object or a number, not 'filter'",
     "output_type": "error",
     "traceback": [
      "\u001b[1;31m---------------------------------------------------------------------------\u001b[0m",
      "\u001b[1;31mTypeError\u001b[0m                                 Traceback (most recent call last)",
      "Input \u001b[1;32mIn [46]\u001b[0m, in \u001b[0;36m<cell line: 2>\u001b[1;34m()\u001b[0m\n\u001b[0;32m      1\u001b[0m list1 \u001b[38;5;241m=\u001b[39m [\u001b[38;5;241m4\u001b[39m,\u001b[38;5;241m5\u001b[39m,\u001b[38;5;241m6\u001b[39m,\u001b[38;5;241m3\u001b[39m,\u001b[38;5;241m2\u001b[39m,\u001b[38;5;241m1\u001b[39m]\n\u001b[1;32m----> 2\u001b[0m \u001b[38;5;28;43mint\u001b[39;49m\u001b[43m(\u001b[49m\u001b[38;5;28;43mfilter\u001b[39;49m\u001b[43m(\u001b[49m\u001b[38;5;28;43;01mlambda\u001b[39;49;00m\u001b[43m \u001b[49m\u001b[43mx\u001b[49m\u001b[43m:\u001b[49m\u001b[43mx\u001b[49m\u001b[38;5;241;43m*\u001b[39;49m\u001b[43mx\u001b[49m\u001b[43m,\u001b[49m\u001b[43m \u001b[49m\u001b[43mlist1\u001b[49m\u001b[43m)\u001b[49m\u001b[43m)\u001b[49m\n",
      "\u001b[1;31mTypeError\u001b[0m: int() argument must be a string, a bytes-like object or a number, not 'filter'"
     ]
    }
   ],
   "source": [
    "list1 = [4,5,6,3,2,1]\n",
    "int(filter(lambda x:x*x, list1))"
   ]
  },
  {
   "cell_type": "code",
   "execution_count": 48,
   "id": "596d3a9f",
   "metadata": {},
   "outputs": [
    {
     "ename": "TypeError",
     "evalue": "float() argument must be a string or a number, not 'filter'",
     "output_type": "error",
     "traceback": [
      "\u001b[1;31m---------------------------------------------------------------------------\u001b[0m",
      "\u001b[1;31mTypeError\u001b[0m                                 Traceback (most recent call last)",
      "Input \u001b[1;32mIn [48]\u001b[0m, in \u001b[0;36m<cell line: 2>\u001b[1;34m()\u001b[0m\n\u001b[0;32m      1\u001b[0m list1 \u001b[38;5;241m=\u001b[39m [\u001b[38;5;241m4\u001b[39m,\u001b[38;5;241m5\u001b[39m,\u001b[38;5;241m6\u001b[39m,\u001b[38;5;241m3\u001b[39m,\u001b[38;5;241m2\u001b[39m,\u001b[38;5;241m1\u001b[39m]\n\u001b[1;32m----> 2\u001b[0m \u001b[38;5;28;43mfloat\u001b[39;49m\u001b[43m(\u001b[49m\u001b[38;5;28;43mfilter\u001b[39;49m\u001b[43m(\u001b[49m\u001b[38;5;28;43;01mlambda\u001b[39;49;00m\u001b[43m \u001b[49m\u001b[43mx\u001b[49m\u001b[43m:\u001b[49m\u001b[43mx\u001b[49m\u001b[38;5;241;43m*\u001b[39;49m\u001b[43mx\u001b[49m\u001b[43m,\u001b[49m\u001b[43m \u001b[49m\u001b[43mlist1\u001b[49m\u001b[43m)\u001b[49m\u001b[43m)\u001b[49m\n",
      "\u001b[1;31mTypeError\u001b[0m: float() argument must be a string or a number, not 'filter'"
     ]
    }
   ],
   "source": [
    "list1 = [4,5,6,3,2,1]\n",
    "float(filter(lambda x:x*x, list1))"
   ]
  },
  {
   "cell_type": "markdown",
   "id": "ef967a03",
   "metadata": {},
   "source": [
    "# Lambda Function"
   ]
  },
  {
   "cell_type": "raw",
   "id": "4f1e3aef",
   "metadata": {},
   "source": [
    "It is an annonymous function\n",
    "annonymous function >> Function without name\n",
    "Higher order function\n",
    "1. map\n",
    "2. filter\n",
    "\n",
    "Lambda functions are defined using lambda keyword.\n",
    "No need of any return statement.\n",
    "\n",
    "arguments >> Multiple\n",
    "Expression >> Single"
   ]
  },
  {
   "cell_type": "markdown",
   "id": "b3666d8f",
   "metadata": {},
   "source": [
    "## Syntax"
   ]
  },
  {
   "cell_type": "raw",
   "id": "64d0f3cc",
   "metadata": {},
   "source": [
    "(lambda arguments : expression)"
   ]
  },
  {
   "cell_type": "code",
   "execution_count": 1,
   "id": "7c98142e",
   "metadata": {},
   "outputs": [
    {
     "data": {
      "text/plain": [
       "20"
      ]
     },
     "execution_count": 1,
     "metadata": {},
     "output_type": "execute_result"
    }
   ],
   "source": [
    "def mult(a,b):\n",
    "    mul = a*b\n",
    "    return mul\n",
    "\n",
    "mult(4,5)"
   ]
  },
  {
   "cell_type": "code",
   "execution_count": 1,
   "id": "05e4f79c",
   "metadata": {},
   "outputs": [
    {
     "data": {
      "text/plain": [
       "20"
      ]
     },
     "execution_count": 1,
     "metadata": {},
     "output_type": "execute_result"
    }
   ],
   "source": [
    "(lambda a,b : a*b)(4,5)"
   ]
  },
  {
   "cell_type": "code",
   "execution_count": 4,
   "id": "454777ca",
   "metadata": {},
   "outputs": [
    {
     "data": {
      "text/plain": [
       "9"
      ]
     },
     "execution_count": 4,
     "metadata": {},
     "output_type": "execute_result"
    }
   ],
   "source": [
    "(lambda a,b : a+b)(4,5)"
   ]
  },
  {
   "cell_type": "code",
   "execution_count": 29,
   "id": "b608215e",
   "metadata": {},
   "outputs": [
    {
     "data": {
      "text/plain": [
       "20"
      ]
     },
     "execution_count": 29,
     "metadata": {},
     "output_type": "execute_result"
    }
   ],
   "source": [
    "x = (lambda a,b : a*b)\n",
    "x(4,5)"
   ]
  },
  {
   "cell_type": "code",
   "execution_count": 27,
   "id": "9450f3e4",
   "metadata": {},
   "outputs": [
    {
     "data": {
      "text/plain": [
       "30"
      ]
     },
     "execution_count": 27,
     "metadata": {},
     "output_type": "execute_result"
    }
   ],
   "source": [
    "y=lambda a,b : a+b\n",
    "y(10,20)"
   ]
  },
  {
   "cell_type": "code",
   "execution_count": 26,
   "id": "c395658a",
   "metadata": {},
   "outputs": [
    {
     "data": {
      "text/plain": [
       "30"
      ]
     },
     "execution_count": 26,
     "metadata": {},
     "output_type": "execute_result"
    }
   ],
   "source": [
    "y=lambda a,b : (a+b)\n",
    "y(10,20)"
   ]
  },
  {
   "cell_type": "code",
   "execution_count": 28,
   "id": "34e24fdb",
   "metadata": {},
   "outputs": [
    {
     "data": {
      "text/plain": [
       "30"
      ]
     },
     "execution_count": 28,
     "metadata": {},
     "output_type": "execute_result"
    }
   ],
   "source": [
    "y=(lambda a,b : (a+b))\n",
    "y(10,20)"
   ]
  },
  {
   "cell_type": "code",
   "execution_count": 27,
   "id": "4732a248",
   "metadata": {},
   "outputs": [
    {
     "data": {
      "text/plain": [
       "60"
      ]
     },
     "execution_count": 27,
     "metadata": {},
     "output_type": "execute_result"
    }
   ],
   "source": [
    "x = lambda a,b,c : a+b+c\n",
    "x(10,20,30)"
   ]
  },
  {
   "cell_type": "code",
   "execution_count": 9,
   "id": "3007f3f2",
   "metadata": {},
   "outputs": [
    {
     "data": {
      "text/plain": [
       "20.0"
      ]
     },
     "execution_count": 9,
     "metadata": {},
     "output_type": "execute_result"
    }
   ],
   "source": [
    "x = lambda a,b,c : (a+b+c)/3\n",
    "x(10,20,30)"
   ]
  },
  {
   "cell_type": "code",
   "execution_count": 8,
   "id": "e2b4e919",
   "metadata": {},
   "outputs": [
    {
     "data": {
      "text/plain": [
       "60"
      ]
     },
     "execution_count": 8,
     "metadata": {},
     "output_type": "execute_result"
    }
   ],
   "source": [
    "(lambda a,b,c : a+b+c) (10,20,30)"
   ]
  },
  {
   "cell_type": "code",
   "execution_count": 22,
   "id": "305d8cc3",
   "metadata": {},
   "outputs": [
    {
     "data": {
      "text/plain": [
       "40.0"
      ]
     },
     "execution_count": 22,
     "metadata": {},
     "output_type": "execute_result"
    }
   ],
   "source": [
    "(lambda a,b,c:(a+b+c/3)) (10,20,30)"
   ]
  },
  {
   "cell_type": "code",
   "execution_count": 37,
   "id": "43d88bb6",
   "metadata": {},
   "outputs": [
    {
     "data": {
      "text/plain": [
       "<function __main__.<lambda>(a, b, c)>"
      ]
     },
     "execution_count": 37,
     "metadata": {},
     "output_type": "execute_result"
    }
   ],
   "source": [
    "lambda a,b,c:(a+b+c/3) (10,20,30)"
   ]
  },
  {
   "cell_type": "code",
   "execution_count": 30,
   "id": "5968fe35",
   "metadata": {},
   "outputs": [
    {
     "ename": "SyntaxError",
     "evalue": "invalid syntax (1930374390.py, line 1)",
     "output_type": "error",
     "traceback": [
      "\u001b[1;36m  Input \u001b[1;32mIn [30]\u001b[1;36m\u001b[0m\n\u001b[1;33m    (lambda(a,b,c):(a+b+c)/3(10,20,30)\u001b[0m\n\u001b[1;37m           ^\u001b[0m\n\u001b[1;31mSyntaxError\u001b[0m\u001b[1;31m:\u001b[0m invalid syntax\n"
     ]
    }
   ],
   "source": [
    "(lambda(a,b,c):(a+b+c)/3(10,20,30)"
   ]
  },
  {
   "cell_type": "code",
   "execution_count": 24,
   "id": "ff53d672",
   "metadata": {},
   "outputs": [
    {
     "ename": "SyntaxError",
     "evalue": "invalid syntax (127441163.py, line 1)",
     "output_type": "error",
     "traceback": [
      "\u001b[1;36m  Input \u001b[1;32mIn [24]\u001b[1;36m\u001b[0m\n\u001b[1;33m    (lambda (a,b,c):(a+b+c/3)) (10,20,30)\u001b[0m\n\u001b[1;37m            ^\u001b[0m\n\u001b[1;31mSyntaxError\u001b[0m\u001b[1;31m:\u001b[0m invalid syntax\n"
     ]
    }
   ],
   "source": [
    "(lambda (a,b,c):(a+b+c/3)) (10,20,30)"
   ]
  },
  {
   "cell_type": "code",
   "execution_count": 25,
   "id": "4979fb16",
   "metadata": {},
   "outputs": [
    {
     "ename": "SyntaxError",
     "evalue": "invalid syntax (483105746.py, line 1)",
     "output_type": "error",
     "traceback": [
      "\u001b[1;36m  Input \u001b[1;32mIn [25]\u001b[1;36m\u001b[0m\n\u001b[1;33m    (lambda a,b,c:(a+b+c/3)) 10,20,30\u001b[0m\n\u001b[1;37m                             ^\u001b[0m\n\u001b[1;31mSyntaxError\u001b[0m\u001b[1;31m:\u001b[0m invalid syntax\n"
     ]
    }
   ],
   "source": [
    "(lambda a,b,c:(a+b+c/3)) 10,20,30"
   ]
  },
  {
   "cell_type": "code",
   "execution_count": 31,
   "id": "388bfa53",
   "metadata": {},
   "outputs": [
    {
     "data": {
      "text/plain": [
       "10.0"
      ]
     },
     "execution_count": 31,
     "metadata": {},
     "output_type": "execute_result"
    }
   ],
   "source": [
    "x = lambda a, b=10, c=15 : (a+b+c)/3\n",
    "x(5)"
   ]
  },
  {
   "cell_type": "code",
   "execution_count": 35,
   "id": "8ac36b53",
   "metadata": {},
   "outputs": [
    {
     "data": {
      "text/plain": [
       "20.0"
      ]
     },
     "execution_count": 35,
     "metadata": {},
     "output_type": "execute_result"
    }
   ],
   "source": [
    "x = (lambda a, b=10, c=15 : (a+b+c)/3)\n",
    "x(10, 20,30)"
   ]
  },
  {
   "cell_type": "code",
   "execution_count": 36,
   "id": "15538c3c",
   "metadata": {},
   "outputs": [
    {
     "data": {
      "text/plain": [
       "60"
      ]
     },
     "execution_count": 36,
     "metadata": {},
     "output_type": "execute_result"
    }
   ],
   "source": [
    "add = lambda *a : sum(a)\n",
    "add(10,20,30)"
   ]
  },
  {
   "cell_type": "code",
   "execution_count": 41,
   "id": "db2b6279",
   "metadata": {},
   "outputs": [
    {
     "data": {
      "text/plain": [
       "60"
      ]
     },
     "execution_count": 41,
     "metadata": {},
     "output_type": "execute_result"
    }
   ],
   "source": [
    "(lambda *a : sum(a)) (10,20,30)"
   ]
  },
  {
   "cell_type": "code",
   "execution_count": 42,
   "id": "19b04397",
   "metadata": {},
   "outputs": [
    {
     "ename": "SyntaxError",
     "evalue": "invalid syntax (179692900.py, line 1)",
     "output_type": "error",
     "traceback": [
      "\u001b[1;36m  Input \u001b[1;32mIn [42]\u001b[1;36m\u001b[0m\n\u001b[1;33m    (lambda *a : sum a) (10,20,30)\u001b[0m\n\u001b[1;37m                     ^\u001b[0m\n\u001b[1;31mSyntaxError\u001b[0m\u001b[1;31m:\u001b[0m invalid syntax\n"
     ]
    }
   ],
   "source": [
    "(lambda *a : sum a) (10,20,30)"
   ]
  },
  {
   "cell_type": "code",
   "execution_count": 43,
   "id": "46996c12",
   "metadata": {},
   "outputs": [
    {
     "data": {
      "text/plain": [
       "110"
      ]
     },
     "execution_count": 43,
     "metadata": {},
     "output_type": "execute_result"
    }
   ],
   "source": [
    "add = lambda a, *arg, **kwarg : a + sum(arg) + sum(kwarg.values())\n",
    "add(10,5,2,8,6,9, x=20,y=50)"
   ]
  },
  {
   "cell_type": "code",
   "execution_count": 55,
   "id": "4d3dad51",
   "metadata": {},
   "outputs": [
    {
     "data": {
      "text/plain": [
       "346"
      ]
     },
     "execution_count": 55,
     "metadata": {},
     "output_type": "execute_result"
    }
   ],
   "source": [
    "(lambda a,b=10,*arg,**kwarg : a + b + sum(arg)+sum(kwarg.values())) (10,45,34,67,8,90,7,5,z=35,x=45)"
   ]
  },
  {
   "cell_type": "code",
   "execution_count": 56,
   "id": "7a1f8e03",
   "metadata": {},
   "outputs": [
    {
     "data": {
      "text/plain": [
       "369"
      ]
     },
     "execution_count": 56,
     "metadata": {},
     "output_type": "execute_result"
    }
   ],
   "source": [
    "(lambda a,b=10,c=20,*arg,**kwarg : a+b+c+sum(arg)+sum(kwarg.values())) (10,23,45,34,67,8,90,7,5,z=35,x=45)"
   ]
  },
  {
   "cell_type": "code",
   "execution_count": 57,
   "id": "64c982d9",
   "metadata": {},
   "outputs": [
    {
     "name": "stdout",
     "output_type": "stream",
     "text": [
      "20 is greater than 10\n"
     ]
    }
   ],
   "source": [
    "result = lambda a,b : print(f'{a} is greater than {b}') if a>b else print(f'{b} is greater than {a}')\n",
    "result(10,20)"
   ]
  },
  {
   "cell_type": "code",
   "execution_count": 58,
   "id": "453f27b1",
   "metadata": {},
   "outputs": [
    {
     "name": "stdout",
     "output_type": "stream",
     "text": [
      "20 is greater than 10\n"
     ]
    }
   ],
   "source": [
    "(lambda a,b : print(f'{a} is greater than {b}') if a>b else print(f'{b} is greater than {a}'))(20,10)"
   ]
  },
  {
   "cell_type": "code",
   "execution_count": 62,
   "id": "813afde0",
   "metadata": {},
   "outputs": [
    {
     "data": {
      "text/plain": [
       "[1, 4, 16, 25, 36, 9, 49]"
      ]
     },
     "execution_count": 62,
     "metadata": {},
     "output_type": "execute_result"
    }
   ],
   "source": [
    "list1 = [1,2,4,5,6,3,7] # [1,4,16,25,36,9,49]\n",
    "sqr = lambda input_list : [i**2 for i in input_list]\n",
    "sqr(list1)"
   ]
  },
  {
   "cell_type": "code",
   "execution_count": 63,
   "id": "1fc6eddf",
   "metadata": {},
   "outputs": [
    {
     "data": {
      "text/plain": [
       "[1, 4, 9, 16, 25, 36, 49]"
      ]
     },
     "execution_count": 63,
     "metadata": {},
     "output_type": "execute_result"
    }
   ],
   "source": [
    "list1=[1,2,3,4,5,6,7]\n",
    "square=(lambda list1 :[i**2 for i in list1])\n",
    "square(list1)"
   ]
  },
  {
   "cell_type": "code",
   "execution_count": 67,
   "id": "9feb6763",
   "metadata": {},
   "outputs": [
    {
     "data": {
      "text/plain": [
       "[121, 729, 961, 1764, 25, 36, 289]"
      ]
     },
     "execution_count": 67,
     "metadata": {},
     "output_type": "execute_result"
    }
   ],
   "source": [
    "list1=[11,27,31,42,5,6,17]\n",
    "(lambda list1 :[i**2 for i in list1]) (list1)"
   ]
  },
  {
   "cell_type": "code",
   "execution_count": 66,
   "id": "647a4e02",
   "metadata": {},
   "outputs": [
    {
     "data": {
      "text/plain": [
       "[1, 9604, 16, 529, 3136, 5776, 49]"
      ]
     },
     "execution_count": 66,
     "metadata": {},
     "output_type": "execute_result"
    }
   ],
   "source": [
    "(lambda list1 :[i**2 for i in list1]) ([1,98,4,23,56,76,7])"
   ]
  },
  {
   "cell_type": "code",
   "execution_count": 81,
   "id": "693d4176",
   "metadata": {},
   "outputs": [
    {
     "ename": "NameError",
     "evalue": "name 'list2' is not defined",
     "output_type": "error",
     "traceback": [
      "\u001b[1;31m---------------------------------------------------------------------------\u001b[0m",
      "\u001b[1;31mNameError\u001b[0m                                 Traceback (most recent call last)",
      "Input \u001b[1;32mIn [81]\u001b[0m, in \u001b[0;36m<cell line: 2>\u001b[1;34m()\u001b[0m\n\u001b[0;32m      1\u001b[0m sqr1 \u001b[38;5;241m=\u001b[39m \u001b[38;5;28;01mlambda\u001b[39;00m \u001b[38;5;241m*\u001b[39mlist2 : [i\u001b[38;5;241m*\u001b[39m\u001b[38;5;241m*\u001b[39m\u001b[38;5;241m2\u001b[39m \u001b[38;5;28;01mfor\u001b[39;00m i \u001b[38;5;129;01min\u001b[39;00m list2]\n\u001b[1;32m----> 2\u001b[0m sqr1(\u001b[43mlist2\u001b[49m)\n",
      "\u001b[1;31mNameError\u001b[0m: name 'list2' is not defined"
     ]
    }
   ],
   "source": [
    "sqr1 = lambda *list2 : [i**2 for i in list2]\n",
    "sqr1(list2)"
   ]
  },
  {
   "cell_type": "code",
   "execution_count": 30,
   "id": "2dbebc15",
   "metadata": {},
   "outputs": [
    {
     "ename": "TypeError",
     "evalue": "'int' object is not iterable",
     "output_type": "error",
     "traceback": [
      "\u001b[1;31m---------------------------------------------------------------------------\u001b[0m",
      "\u001b[1;31mTypeError\u001b[0m                                 Traceback (most recent call last)",
      "Input \u001b[1;32mIn [30]\u001b[0m, in \u001b[0;36m<cell line: 1>\u001b[1;34m()\u001b[0m\n\u001b[1;32m----> 1\u001b[0m \u001b[43m(\u001b[49m\u001b[38;5;28;43;01mlambda\u001b[39;49;00m\u001b[43m \u001b[49m\u001b[43mlist1\u001b[49m\u001b[43m \u001b[49m\u001b[43m:\u001b[49m\u001b[43m[\u001b[49m\u001b[43mi\u001b[49m\u001b[38;5;241;43m*\u001b[39;49m\u001b[38;5;241;43m*\u001b[39;49m\u001b[38;5;241;43m2\u001b[39;49m\u001b[43m \u001b[49m\u001b[38;5;28;43;01mfor\u001b[39;49;00m\u001b[43m \u001b[49m\u001b[43mi\u001b[49m\u001b[43m \u001b[49m\u001b[38;5;129;43;01min\u001b[39;49;00m\u001b[43m \u001b[49m\u001b[43mlist1\u001b[49m\u001b[43m]\u001b[49m\u001b[43m)\u001b[49m\u001b[43m \u001b[49m\u001b[43m(\u001b[49m\u001b[38;5;241;43m7\u001b[39;49m\u001b[43m)\u001b[49m\n",
      "Input \u001b[1;32mIn [30]\u001b[0m, in \u001b[0;36m<lambda>\u001b[1;34m(list1)\u001b[0m\n\u001b[1;32m----> 1\u001b[0m (\u001b[38;5;28;01mlambda\u001b[39;00m list1 :[i\u001b[38;5;241m*\u001b[39m\u001b[38;5;241m*\u001b[39m\u001b[38;5;241m2\u001b[39m \u001b[38;5;28;01mfor\u001b[39;00m i \u001b[38;5;129;01min\u001b[39;00m list1]) (\u001b[38;5;241m7\u001b[39m)\n",
      "\u001b[1;31mTypeError\u001b[0m: 'int' object is not iterable"
     ]
    }
   ],
   "source": [
    "(lambda list1 :[i**2 for i in list1]) (7)"
   ]
  },
  {
   "cell_type": "code",
   "execution_count": 75,
   "id": "b26387f2",
   "metadata": {},
   "outputs": [
    {
     "ename": "TypeError",
     "evalue": "<lambda>() takes 1 positional argument but 7 were given",
     "output_type": "error",
     "traceback": [
      "\u001b[1;31m---------------------------------------------------------------------------\u001b[0m",
      "\u001b[1;31mTypeError\u001b[0m                                 Traceback (most recent call last)",
      "Input \u001b[1;32mIn [75]\u001b[0m, in \u001b[0;36m<cell line: 1>\u001b[1;34m()\u001b[0m\n\u001b[1;32m----> 1\u001b[0m \u001b[43m(\u001b[49m\u001b[38;5;28;43;01mlambda\u001b[39;49;00m\u001b[43m \u001b[49m\u001b[43mlist1\u001b[49m\u001b[43m \u001b[49m\u001b[43m:\u001b[49m\u001b[43m[\u001b[49m\u001b[43mi\u001b[49m\u001b[38;5;241;43m*\u001b[39;49m\u001b[38;5;241;43m*\u001b[39;49m\u001b[38;5;241;43m2\u001b[39;49m\u001b[43m \u001b[49m\u001b[38;5;28;43;01mfor\u001b[39;49;00m\u001b[43m \u001b[49m\u001b[43mi\u001b[49m\u001b[43m \u001b[49m\u001b[38;5;129;43;01min\u001b[39;49;00m\u001b[43m \u001b[49m\u001b[43mlist1\u001b[49m\u001b[43m]\u001b[49m\u001b[43m)\u001b[49m\u001b[43m \u001b[49m\u001b[43m(\u001b[49m\u001b[38;5;241;43m1\u001b[39;49m\u001b[43m,\u001b[49m\u001b[38;5;241;43m98\u001b[39;49m\u001b[43m,\u001b[49m\u001b[38;5;241;43m4\u001b[39;49m\u001b[43m,\u001b[49m\u001b[38;5;241;43m23\u001b[39;49m\u001b[43m,\u001b[49m\u001b[38;5;241;43m56\u001b[39;49m\u001b[43m,\u001b[49m\u001b[38;5;241;43m76\u001b[39;49m\u001b[43m,\u001b[49m\u001b[38;5;241;43m7\u001b[39;49m\u001b[43m)\u001b[49m\n",
      "\u001b[1;31mTypeError\u001b[0m: <lambda>() takes 1 positional argument but 7 were given"
     ]
    }
   ],
   "source": [
    "(lambda list1 :[i**2 for i in list1]) (1,98,4,23,56,76,7)"
   ]
  },
  {
   "cell_type": "code",
   "execution_count": 73,
   "id": "0e73830e",
   "metadata": {},
   "outputs": [
    {
     "ename": "SyntaxError",
     "evalue": "invalid syntax (4099722475.py, line 1)",
     "output_type": "error",
     "traceback": [
      "\u001b[1;36m  Input \u001b[1;32mIn [73]\u001b[1;36m\u001b[0m\n\u001b[1;33m    square=(lambda a,b :[i**2 for i in a,b])\u001b[0m\n\u001b[1;37m                                        ^\u001b[0m\n\u001b[1;31mSyntaxError\u001b[0m\u001b[1;31m:\u001b[0m invalid syntax\n"
     ]
    }
   ],
   "source": [
    "square=(lambda a,b :[i**2 for i in a,b])\n",
    "square(21,3)"
   ]
  },
  {
   "cell_type": "code",
   "execution_count": 74,
   "id": "f996af9c",
   "metadata": {},
   "outputs": [
    {
     "data": {
      "text/plain": [
       "[1, 4, 16, 25, 36, 9, 49]"
      ]
     },
     "execution_count": 74,
     "metadata": {},
     "output_type": "execute_result"
    }
   ],
   "source": [
    "sqr = lambda *list1 : [i**2 for i in list1]\n",
    "sqr(1,2,4,5,6,3,7)"
   ]
  },
  {
   "cell_type": "code",
   "execution_count": 31,
   "id": "ce8ccd7b",
   "metadata": {},
   "outputs": [
    {
     "data": {
      "text/plain": [
       "[1, 4, 16, 25, 36, 9, 49]"
      ]
     },
     "execution_count": 31,
     "metadata": {},
     "output_type": "execute_result"
    }
   ],
   "source": [
    "(lambda *list1 : [i**2 for i in list1])(1,2,4,5,6,3,7)\n"
   ]
  },
  {
   "cell_type": "code",
   "execution_count": 3,
   "id": "a70df0b1",
   "metadata": {},
   "outputs": [
    {
     "ename": "TypeError",
     "evalue": "unsupported operand type(s) for ** or pow(): 'list' and 'int'",
     "output_type": "error",
     "traceback": [
      "\u001b[1;31m---------------------------------------------------------------------------\u001b[0m",
      "\u001b[1;31mTypeError\u001b[0m                                 Traceback (most recent call last)",
      "Input \u001b[1;32mIn [3]\u001b[0m, in \u001b[0;36m<cell line: 2>\u001b[1;34m()\u001b[0m\n\u001b[0;32m      1\u001b[0m sqr \u001b[38;5;241m=\u001b[39m \u001b[38;5;28;01mlambda\u001b[39;00m \u001b[38;5;241m*\u001b[39mlist1 : [i\u001b[38;5;241m*\u001b[39m\u001b[38;5;241m*\u001b[39m\u001b[38;5;241m2\u001b[39m \u001b[38;5;28;01mfor\u001b[39;00m i \u001b[38;5;129;01min\u001b[39;00m list1]\n\u001b[1;32m----> 2\u001b[0m \u001b[43msqr\u001b[49m\u001b[43m(\u001b[49m\u001b[43m[\u001b[49m\u001b[38;5;241;43m1\u001b[39;49m\u001b[43m,\u001b[49m\u001b[38;5;241;43m2\u001b[39;49m\u001b[43m,\u001b[49m\u001b[38;5;241;43m3\u001b[39;49m\u001b[43m]\u001b[49m\u001b[43m)\u001b[49m\n",
      "Input \u001b[1;32mIn [3]\u001b[0m, in \u001b[0;36m<lambda>\u001b[1;34m(*list1)\u001b[0m\n\u001b[1;32m----> 1\u001b[0m sqr \u001b[38;5;241m=\u001b[39m \u001b[38;5;28;01mlambda\u001b[39;00m \u001b[38;5;241m*\u001b[39mlist1 : [i\u001b[38;5;241m*\u001b[39m\u001b[38;5;241m*\u001b[39m\u001b[38;5;241m2\u001b[39m \u001b[38;5;28;01mfor\u001b[39;00m i \u001b[38;5;129;01min\u001b[39;00m list1]\n\u001b[0;32m      2\u001b[0m sqr([\u001b[38;5;241m1\u001b[39m,\u001b[38;5;241m2\u001b[39m,\u001b[38;5;241m3\u001b[39m])\n",
      "Input \u001b[1;32mIn [3]\u001b[0m, in \u001b[0;36m<listcomp>\u001b[1;34m(.0)\u001b[0m\n\u001b[1;32m----> 1\u001b[0m sqr \u001b[38;5;241m=\u001b[39m \u001b[38;5;28;01mlambda\u001b[39;00m \u001b[38;5;241m*\u001b[39mlist1 : [\u001b[43mi\u001b[49m\u001b[38;5;241;43m*\u001b[39;49m\u001b[38;5;241;43m*\u001b[39;49m\u001b[38;5;241;43m2\u001b[39;49m \u001b[38;5;28;01mfor\u001b[39;00m i \u001b[38;5;129;01min\u001b[39;00m list1]\n\u001b[0;32m      2\u001b[0m sqr([\u001b[38;5;241m1\u001b[39m,\u001b[38;5;241m2\u001b[39m,\u001b[38;5;241m3\u001b[39m])\n",
      "\u001b[1;31mTypeError\u001b[0m: unsupported operand type(s) for ** or pow(): 'list' and 'int'"
     ]
    }
   ],
   "source": [
    "sqr = lambda *list1 : [i**2 for i in list1]\n",
    "sqr([1,2,3])"
   ]
  },
  {
   "cell_type": "code",
   "execution_count": null,
   "id": "de16d556",
   "metadata": {},
   "outputs": [],
   "source": []
  }
 ],
 "metadata": {
  "kernelspec": {
   "display_name": "Python 3 (ipykernel)",
   "language": "python",
   "name": "python3"
  },
  "language_info": {
   "codemirror_mode": {
    "name": "ipython",
    "version": 3
   },
   "file_extension": ".py",
   "mimetype": "text/x-python",
   "name": "python",
   "nbconvert_exporter": "python",
   "pygments_lexer": "ipython3",
   "version": "3.9.12"
  }
 },
 "nbformat": 4,
 "nbformat_minor": 5
}
